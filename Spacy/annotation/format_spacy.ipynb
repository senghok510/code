{
 "cells": [
  {
   "cell_type": "code",
   "execution_count": 27,
   "metadata": {},
   "outputs": [],
   "source": [
    "import pandas as pd\n",
    "import os\n",
    "import spacy_annotator as spa\n",
    "import spacy\n",
    "import ast"
   ]
  },
  {
   "cell_type": "code",
   "execution_count": 6,
   "metadata": {},
   "outputs": [
    {
     "data": {
      "text/plain": [
       "'.'"
      ]
     },
     "execution_count": 6,
     "metadata": {},
     "output_type": "execute_result"
    }
   ],
   "source": [
    "os.curdir"
   ]
  },
  {
   "cell_type": "code",
   "execution_count": 9,
   "metadata": {},
   "outputs": [],
   "source": [
    "df_train = pd.read_csv(\"/Users/senghok/Documents/Internship 2A/code/data/train.csv\",sep =',')\n",
    "df_test = pd.read_csv(\"/Users/senghok/Documents/Internship 2A/code/data/test.csv\", sep = ',')\n",
    "df_valid = pd.read_csv(\"/Users/senghok/Documents/Internship 2A/code/data/valid.csv\", sep = ',')"
   ]
  },
  {
   "cell_type": "code",
   "execution_count": 10,
   "metadata": {},
   "outputs": [
    {
     "data": {
      "text/html": [
       "<div>\n",
       "<style scoped>\n",
       "    .dataframe tbody tr th:only-of-type {\n",
       "        vertical-align: middle;\n",
       "    }\n",
       "\n",
       "    .dataframe tbody tr th {\n",
       "        vertical-align: top;\n",
       "    }\n",
       "\n",
       "    .dataframe thead th {\n",
       "        text-align: right;\n",
       "    }\n",
       "</style>\n",
       "<table border=\"1\" class=\"dataframe\">\n",
       "  <thead>\n",
       "    <tr style=\"text-align: right;\">\n",
       "      <th></th>\n",
       "      <th>sentence</th>\n",
       "      <th>labels</th>\n",
       "    </tr>\n",
       "  </thead>\n",
       "  <tbody>\n",
       "    <tr>\n",
       "      <th>0</th>\n",
       "      <td>Families of soldiers killed in the conflict jo...</td>\n",
       "      <td>O,O,O,O,O,O,O,O,O,O,O,O,O,O,O,O,O,O,B-per,O,O,...</td>\n",
       "    </tr>\n",
       "    <tr>\n",
       "      <th>1</th>\n",
       "      <td>Police put the number of marchers at 10,000 wh...</td>\n",
       "      <td>O,O,O,O,O,O,O,O,O,O,O,O,O,O,O</td>\n",
       "    </tr>\n",
       "    <tr>\n",
       "      <th>2</th>\n",
       "      <td>The party is divided over Britain 's participa...</td>\n",
       "      <td>O,O,O,O,O,B-gpe,O,O,O,O,B-geo,O,O,O,O,O,O,O,B-...</td>\n",
       "    </tr>\n",
       "    <tr>\n",
       "      <th>3</th>\n",
       "      <td>Two Germans and four Nigerian oil workers were...</td>\n",
       "      <td>O,B-gpe,O,O,B-gpe,O,O,O,O,O,O,O,O,O,O,O,O,O,O,...</td>\n",
       "    </tr>\n",
       "    <tr>\n",
       "      <th>4</th>\n",
       "      <td>The German firm works as a sub-contractor for ...</td>\n",
       "      <td>O,B-gpe,O,O,O,O,O,O,B-org,O</td>\n",
       "    </tr>\n",
       "  </tbody>\n",
       "</table>\n",
       "</div>"
      ],
      "text/plain": [
       "                                            sentence  \\\n",
       "0  Families of soldiers killed in the conflict jo...   \n",
       "1  Police put the number of marchers at 10,000 wh...   \n",
       "2  The party is divided over Britain 's participa...   \n",
       "3  Two Germans and four Nigerian oil workers were...   \n",
       "4  The German firm works as a sub-contractor for ...   \n",
       "\n",
       "                                              labels  \n",
       "0  O,O,O,O,O,O,O,O,O,O,O,O,O,O,O,O,O,O,B-per,O,O,...  \n",
       "1                      O,O,O,O,O,O,O,O,O,O,O,O,O,O,O  \n",
       "2  O,O,O,O,O,B-gpe,O,O,O,O,B-geo,O,O,O,O,O,O,O,B-...  \n",
       "3  O,B-gpe,O,O,B-gpe,O,O,O,O,O,O,O,O,O,O,O,O,O,O,...  \n",
       "4                        O,B-gpe,O,O,O,O,O,O,B-org,O  "
      ]
     },
     "execution_count": 10,
     "metadata": {},
     "output_type": "execute_result"
    }
   ],
   "source": [
    "df_train.head()"
   ]
  },
  {
   "cell_type": "code",
   "execution_count": 21,
   "metadata": {},
   "outputs": [],
   "source": [
    "\n",
    "def spacy_format(row):\n",
    "    tokens = row[\"sentence\"].split(\" \")\n",
    "    labels = row[\"labels\"].split(\",\")\n",
    "    entities = []\n",
    "    \n",
    "    current_pos = 0\n",
    "    for token, label in zip(tokens, labels):\n",
    "        # skip leading whitespace to find token start\n",
    "        start = row[\"sentence\"].find(token, current_pos)\n",
    "        end = start + len(token)\n",
    "        current_pos = end  # update pointer for next search\n",
    "        \n",
    "        if label != \"O\":\n",
    "            entities.append((start, end, label))\n",
    "    \n",
    "    return (row[\"sentence\"], {\"entities\": entities})\n"
   ]
  },
  {
   "cell_type": "code",
   "execution_count": 13,
   "metadata": {},
   "outputs": [],
   "source": [
    "df_train[\"annotation\"] = df_train.apply(spacy_format, axis=1)"
   ]
  },
  {
   "cell_type": "code",
   "execution_count": 55,
   "metadata": {},
   "outputs": [],
   "source": [
    "df_valid[\"annotation\"] = df_valid.apply(spacy_format, axis = 1)"
   ]
  },
  {
   "cell_type": "code",
   "execution_count": 19,
   "metadata": {},
   "outputs": [
    {
     "data": {
      "text/plain": [
       "0        O,O,O,O,O,O,O,O,O,O,O,O,O,O,O,O,O,O,B-per,O,O,...\n",
       "1                            O,O,O,O,O,O,O,O,O,O,O,O,O,O,O\n",
       "2        O,O,O,O,O,B-gpe,O,O,O,O,B-geo,O,O,O,O,O,O,O,B-...\n",
       "3        O,B-gpe,O,O,B-gpe,O,O,O,O,O,O,O,O,O,O,O,O,O,O,...\n",
       "4                              O,B-gpe,O,O,O,O,O,O,B-org,O\n",
       "                               ...                        \n",
       "34274    B-gpe,O,O,O,O,O,O,B-gpe,O,O,O,O,O,O,O,O,O,B-ge...\n",
       "34275    B-gpe,O,O,O,O,O,O,O,B-tim,O,O,O,O,O,O,O,O,O,O,...\n",
       "34276                                O,O,O,O,O,O,O,O,O,O,O\n",
       "34277                                O,O,O,O,O,O,O,O,O,O,O\n",
       "34278                                  B-gpe,O,O,O,O,O,O,O\n",
       "Name: labels, Length: 34279, dtype: object"
      ]
     },
     "execution_count": 19,
     "metadata": {},
     "output_type": "execute_result"
    }
   ],
   "source": [
    "df_train[\"labels\"]"
   ]
  },
  {
   "cell_type": "code",
   "execution_count": 18,
   "metadata": {},
   "outputs": [
    {
     "data": {
      "text/plain": [
       "(\"The party is divided over Britain 's participation in the Iraq conflict and the continued deployment of 8,500 British troops in that country .\",\n",
       " {'entities': [(26, 33, 'B-gpe'), (58, 62, 'B-geo'), (110, 117, 'B-gpe')]})"
      ]
     },
     "execution_count": 18,
     "metadata": {},
     "output_type": "execute_result"
    }
   ],
   "source": [
    "df_train[\"annotation\"][2]"
   ]
  },
  {
   "cell_type": "code",
   "execution_count": 25,
   "metadata": {},
   "outputs": [],
   "source": [
    "df_train.drop(columns = [\"labels\"],inplace= True)"
   ]
  },
  {
   "cell_type": "code",
   "execution_count": 56,
   "metadata": {},
   "outputs": [],
   "source": [
    "df_valid.drop(columns = [\"labels\"],inplace= True)"
   ]
  },
  {
   "cell_type": "code",
   "execution_count": 37,
   "metadata": {},
   "outputs": [
    {
     "data": {
      "text/plain": [
       "('Families of soldiers killed in the conflict joined the protesters who carried banners with such slogans as \" Bush Number One Terrorist \" and \" Stop the Bombings . \"',\n",
       " {'entities': [(109, 113, 'B-per')]})"
      ]
     },
     "execution_count": 37,
     "metadata": {},
     "output_type": "execute_result"
    }
   ],
   "source": [
    "df_train[\"annotation\"][0]"
   ]
  },
  {
   "cell_type": "code",
   "execution_count": 36,
   "metadata": {},
   "outputs": [],
   "source": [
    "from spacy.tokens import DocBin\n",
    "from spacy.training import Example\n",
    "from spacy.lang.en import English\n",
    "\n",
    "nlp = English()  # or load the language model you're using\n",
    "doc_bin = DocBin()\n"
   ]
  },
  {
   "cell_type": "code",
   "execution_count": 58,
   "metadata": {},
   "outputs": [],
   "source": [
    "def convert_to_spacy(data):\n",
    "    for text, annotations in data[\"annotation\"]:\n",
    "        doc = nlp.make_doc(text)\n",
    "        entities = annotations.get(\"entities\", [])\n",
    "        ents = []\n",
    "        for start, end, label in entities:\n",
    "            span = doc.char_span(start, end, label=label)\n",
    "            if span is not None:\n",
    "                ents.append(span)\n",
    "        doc.ents = ents\n",
    "        doc_bin.add(doc)\n",
    "    return doc_bin\n"
   ]
  },
  {
   "cell_type": "code",
   "execution_count": 59,
   "metadata": {},
   "outputs": [],
   "source": [
    "doc_bin = convert_to_spacy(df_valid)\n"
   ]
  },
  {
   "cell_type": "code",
   "execution_count": 61,
   "metadata": {},
   "outputs": [],
   "source": [
    "doc_bin.to_disk(\"valid.spacy\")"
   ]
  },
  {
   "cell_type": "code",
   "execution_count": 49,
   "metadata": {},
   "outputs": [],
   "source": [
    "docs = list(doc_bin.get_docs(nlp.vocab))"
   ]
  }
 ],
 "metadata": {
  "kernelspec": {
   "display_name": "venv",
   "language": "python",
   "name": "python3"
  },
  "language_info": {
   "codemirror_mode": {
    "name": "ipython",
    "version": 3
   },
   "file_extension": ".py",
   "mimetype": "text/x-python",
   "name": "python",
   "nbconvert_exporter": "python",
   "pygments_lexer": "ipython3",
   "version": "3.11.7"
  }
 },
 "nbformat": 4,
 "nbformat_minor": 2
}
