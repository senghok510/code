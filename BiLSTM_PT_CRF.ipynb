{
  "cells": [
    {
      "cell_type": "markdown",
      "metadata": {
        "id": "6BbWGD6EK0yG"
      },
      "source": [
        "## Name entity recognition\n",
        "\n",
        "# Author: Hok Seng"
      ]
    },
    {
      "cell_type": "markdown",
      "metadata": {
        "id": "QrKQHxr0K0yH"
      },
      "source": [
        "<p>\n",
        "    <b>Notebook Sections</b><br>\n",
        "    This notebook is divided into the following sections:\n",
        "    <ul>\n",
        "        <li>A. Setting Environment</li>\n",
        "        <li>B. Set the Devic (cpu or mps) </li>\n",
        "    </ul>\n",
        "</p>"
      ]
    },
    {
      "cell_type": "code",
      "source": [
        "! git clone https://github.com/senghok510/code.git"
      ],
      "metadata": {
        "colab": {
          "base_uri": "https://localhost:8080/"
        },
        "id": "psSmn794K2nj",
        "outputId": "103a97b7-44eb-4367-c0e3-b0bf86ccbf34"
      },
      "execution_count": 1,
      "outputs": [
        {
          "output_type": "stream",
          "name": "stdout",
          "text": [
            "Cloning into 'code'...\n",
            "remote: Enumerating objects: 53, done.\u001b[K\n",
            "remote: Counting objects: 100% (24/24), done.\u001b[K\n",
            "remote: Compressing objects: 100% (23/23), done.\u001b[K\n",
            "remote: Total 53 (delta 4), reused 13 (delta 0), pack-reused 29 (from 1)\u001b[K\n",
            "Receiving objects: 100% (53/53), 73.23 MiB | 21.47 MiB/s, done.\n",
            "Resolving deltas: 100% (6/6), done.\n"
          ]
        }
      ]
    },
    {
      "cell_type": "code",
      "execution_count": 2,
      "metadata": {
        "colab": {
          "base_uri": "https://localhost:8080/",
          "height": 35
        },
        "id": "qT8OZbR8K0yH",
        "outputId": "c57d0dbd-6058-4ba6-b1f9-e90fa6d9a31b"
      },
      "outputs": [
        {
          "output_type": "execute_result",
          "data": {
            "text/plain": [
              "'/content'"
            ],
            "application/vnd.google.colaboratory.intrinsic+json": {
              "type": "string"
            }
          },
          "metadata": {},
          "execution_count": 2
        }
      ],
      "source": [
        "import os\n",
        "import subprocess\n",
        "import requests\n",
        "import logging\n",
        "os.getcwd()"
      ]
    },
    {
      "cell_type": "markdown",
      "metadata": {
        "id": "EuQafCOkK0yI"
      },
      "source": [
        "## Download necessary packages"
      ]
    },
    {
      "cell_type": "code",
      "execution_count": null,
      "metadata": {
        "id": "mpxOS2OVK0yI"
      },
      "outputs": [],
      "source": [
        "# with open(\"requirement.txt\", \"r\") as file:\n",
        "#     for f in file.readlines():\n",
        "#         package = f.strip()\n",
        "#         if package:\n",
        "#             subprocess.check_call([\"pip\", \"install\", package])\n",
        "#             %pip install {package}"
      ]
    },
    {
      "cell_type": "markdown",
      "metadata": {
        "id": "ueTF3_uwK0yJ"
      },
      "source": [
        "## Import necessary packages"
      ]
    },
    {
      "cell_type": "code",
      "execution_count": null,
      "metadata": {
        "id": "D7RnSwSlK0yJ"
      },
      "outputs": [],
      "source": [
        "\n",
        "\n",
        "# save_dir = \"data\"\n",
        "# os.makedirs(save_dir,exist_ok = True)\n",
        "\n",
        "# file_name = os.path.join(save_dir,\"NER_dataset.csv\")\n",
        "\n",
        "# response = requests.get(url,stream = True)\n",
        "\n",
        "\n",
        "# if response.status_code == 200:\n",
        "#     with open(file_name,\"wb\") as file:\n",
        "#         for chunk in response.iter_content(chunk_size=1024):\n",
        "#             file.write(chunk)\n",
        "#     print(f\"File downloaded successfully and saved to {file_name}\")\n",
        "# else:\n",
        "#     print(f\"Failed to download file. Status code: {response.status_code}\")\n",
        "\n"
      ]
    },
    {
      "cell_type": "code",
      "execution_count": 3,
      "metadata": {
        "collapsed": true,
        "colab": {
          "base_uri": "https://localhost:8080/",
          "height": 626
        },
        "id": "O7fTPca9K0yJ",
        "outputId": "04629396-116b-4601-e59a-637541bf044d"
      },
      "outputs": [
        {
          "output_type": "stream",
          "name": "stdout",
          "text": [
            "Collecting gensim\n",
            "  Downloading gensim-4.3.3-cp311-cp311-manylinux_2_17_x86_64.manylinux2014_x86_64.whl.metadata (8.1 kB)\n",
            "Collecting numpy<2.0,>=1.18.5 (from gensim)\n",
            "  Downloading numpy-1.26.4-cp311-cp311-manylinux_2_17_x86_64.manylinux2014_x86_64.whl.metadata (61 kB)\n",
            "\u001b[2K     \u001b[90m━━━━━━━━━━━━━━━━━━━━━━━━━━━━━━━━━━━━━━━━\u001b[0m \u001b[32m61.0/61.0 kB\u001b[0m \u001b[31m2.5 MB/s\u001b[0m eta \u001b[36m0:00:00\u001b[0m\n",
            "\u001b[?25hCollecting scipy<1.14.0,>=1.7.0 (from gensim)\n",
            "  Downloading scipy-1.13.1-cp311-cp311-manylinux_2_17_x86_64.manylinux2014_x86_64.whl.metadata (60 kB)\n",
            "\u001b[2K     \u001b[90m━━━━━━━━━━━━━━━━━━━━━━━━━━━━━━━━━━━━━━━━\u001b[0m \u001b[32m60.6/60.6 kB\u001b[0m \u001b[31m2.7 MB/s\u001b[0m eta \u001b[36m0:00:00\u001b[0m\n",
            "\u001b[?25hRequirement already satisfied: smart-open>=1.8.1 in /usr/local/lib/python3.11/dist-packages (from gensim) (7.3.0)\n",
            "Requirement already satisfied: wrapt in /usr/local/lib/python3.11/dist-packages (from smart-open>=1.8.1->gensim) (1.17.2)\n",
            "Downloading gensim-4.3.3-cp311-cp311-manylinux_2_17_x86_64.manylinux2014_x86_64.whl (26.7 MB)\n",
            "\u001b[2K   \u001b[90m━━━━━━━━━━━━━━━━━━━━━━━━━━━━━━━━━━━━━━━━\u001b[0m \u001b[32m26.7/26.7 MB\u001b[0m \u001b[31m90.9 MB/s\u001b[0m eta \u001b[36m0:00:00\u001b[0m\n",
            "\u001b[?25hDownloading numpy-1.26.4-cp311-cp311-manylinux_2_17_x86_64.manylinux2014_x86_64.whl (18.3 MB)\n",
            "\u001b[2K   \u001b[90m━━━━━━━━━━━━━━━━━━━━━━━━━━━━━━━━━━━━━━━━\u001b[0m \u001b[32m18.3/18.3 MB\u001b[0m \u001b[31m114.7 MB/s\u001b[0m eta \u001b[36m0:00:00\u001b[0m\n",
            "\u001b[?25hDownloading scipy-1.13.1-cp311-cp311-manylinux_2_17_x86_64.manylinux2014_x86_64.whl (38.6 MB)\n",
            "\u001b[2K   \u001b[90m━━━━━━━━━━━━━━━━━━━━━━━━━━━━━━━━━━━━━━━━\u001b[0m \u001b[32m38.6/38.6 MB\u001b[0m \u001b[31m66.4 MB/s\u001b[0m eta \u001b[36m0:00:00\u001b[0m\n",
            "\u001b[?25hInstalling collected packages: numpy, scipy, gensim\n",
            "  Attempting uninstall: numpy\n",
            "    Found existing installation: numpy 2.0.2\n",
            "    Uninstalling numpy-2.0.2:\n",
            "      Successfully uninstalled numpy-2.0.2\n",
            "  Attempting uninstall: scipy\n",
            "    Found existing installation: scipy 1.15.3\n",
            "    Uninstalling scipy-1.15.3:\n",
            "      Successfully uninstalled scipy-1.15.3\n",
            "\u001b[31mERROR: pip's dependency resolver does not currently take into account all the packages that are installed. This behaviour is the source of the following dependency conflicts.\n",
            "tsfresh 0.21.0 requires scipy>=1.14.0; python_version >= \"3.10\", but you have scipy 1.13.1 which is incompatible.\n",
            "thinc 8.3.6 requires numpy<3.0.0,>=2.0.0, but you have numpy 1.26.4 which is incompatible.\u001b[0m\u001b[31m\n",
            "\u001b[0mSuccessfully installed gensim-4.3.3 numpy-1.26.4 scipy-1.13.1\n"
          ]
        },
        {
          "output_type": "display_data",
          "data": {
            "application/vnd.colab-display-data+json": {
              "pip_warning": {
                "packages": [
                  "numpy"
                ]
              },
              "id": "2db4f41db9044291a88f5bf07c60413d"
            }
          },
          "metadata": {}
        }
      ],
      "source": [
        "! pip install gensim"
      ]
    },
    {
      "cell_type": "code",
      "execution_count": 1,
      "metadata": {
        "id": "uVXga7FoK0yJ"
      },
      "outputs": [],
      "source": [
        "from gensim.models import Word2Vec"
      ]
    },
    {
      "cell_type": "code",
      "execution_count": 3,
      "metadata": {
        "id": "philjBpjK0yJ"
      },
      "outputs": [],
      "source": [
        "import numpy as np\n",
        "import pandas as pd\n",
        "from collections import Counter\n",
        "from nltk.tokenize import word_tokenize\n",
        "import seaborn as sns\n",
        "import collections\n",
        "from itertools import chain\n",
        "import random\n",
        "import copy\n",
        "import itertools\n",
        "import pandas as pd\n",
        "\n",
        "\n",
        "from sklearn.model_selection import train_test_split\n",
        "from sklearn.metrics import f1_score, accuracy_score, precision_score, recall_score\n",
        "from sklearn.metrics import confusion_matrix, multilabel_confusion_matrix\n",
        "from sklearn.preprocessing import MultiLabelBinarizer\n",
        "# from skmultilearn.model_selection import iterative_train_test_split\n",
        "\n",
        "import torch\n",
        "from torch import nn\n",
        "from torch.utils.data import Dataset, DataLoader\n",
        "from torch.utils.data import RandomSampler, SequentialSampler\n",
        "from torch.utils.data import TensorDataset, random_split\n",
        "from torch.optim import AdamW\n",
        "from torch.nn.utils.rnn import pad_sequence\n",
        "from transformers import BertTokenizer\n",
        "from transformers import BertForTokenClassification\n",
        "from transformers import get_linear_schedule_with_warmup\n",
        "\n",
        "import matplotlib.pyplot as plt\n",
        "import seaborn as sns\n",
        "from torch.autograd import Variable\n",
        "from torch.nn.utils.rnn import pack_padded_sequence, pad_packed_sequence\n",
        "from torch.utils.data import Dataset, DataLoader\n",
        "from torch.nn.utils.rnn import pad_sequence\n",
        "from torch.nn import Embedding\n",
        "from torch.nn import LSTM\n",
        "\n",
        "\n",
        "# set the option to display all columns\n",
        "pd.set_option('display.max_columns', None)"
      ]
    },
    {
      "cell_type": "code",
      "source": [
        "%cd /content/code"
      ],
      "metadata": {
        "colab": {
          "base_uri": "https://localhost:8080/"
        },
        "id": "x41s2qW3Ln6r",
        "outputId": "60cb6890-a099-4e0c-96d9-bd5f01b8e567"
      },
      "execution_count": 4,
      "outputs": [
        {
          "output_type": "stream",
          "name": "stdout",
          "text": [
            "/content/code\n"
          ]
        }
      ]
    },
    {
      "cell_type": "markdown",
      "metadata": {
        "id": "Ydm6H1XhK0yK"
      },
      "source": [
        "### Import clean data"
      ]
    },
    {
      "cell_type": "code",
      "execution_count": 5,
      "metadata": {
        "id": "t6YYwSb4K0yK"
      },
      "outputs": [],
      "source": [
        "train_df = pd.read_csv('./data/train.csv')\n",
        "valid_df = pd.read_csv('./data/valid.csv')\n",
        "test_df = pd.read_csv('./data/test.csv')"
      ]
    },
    {
      "cell_type": "code",
      "execution_count": 6,
      "metadata": {
        "colab": {
          "base_uri": "https://localhost:8080/"
        },
        "id": "eHtIlrKPK0yK",
        "outputId": "1a93adc5-b018-4b69-e6d9-945835e857e1"
      },
      "outputs": [
        {
          "output_type": "stream",
          "name": "stdout",
          "text": [
            "Train Dataset size: 34279\n",
            "Valid Data Size: 3808\n"
          ]
        }
      ],
      "source": [
        "\n",
        "print(f\"Train Dataset size: {len(train_df)}\")\n",
        "print(f\"Valid Data Size: {len(valid_df)}\")"
      ]
    },
    {
      "cell_type": "code",
      "execution_count": 7,
      "metadata": {
        "colab": {
          "base_uri": "https://localhost:8080/"
        },
        "id": "_CfdfROUK0yK",
        "outputId": "48e2fefa-0987-4b00-e6ed-27dab8d84c39"
      },
      "outputs": [
        {
          "output_type": "stream",
          "name": "stdout",
          "text": [
            "TRAIN Dataset: (34279, 2)\n",
            "VALID Dataset: (3808, 2)\n",
            "TEST Dataset: (9520, 2)\n"
          ]
        }
      ],
      "source": [
        "\n",
        "print(\"TRAIN Dataset: {}\".format(train_df.shape))\n",
        "print(\"VALID Dataset: {}\".format(valid_df.shape))\n",
        "print(\"TEST Dataset: {}\".format(test_df.shape))"
      ]
    },
    {
      "cell_type": "code",
      "execution_count": 8,
      "metadata": {
        "colab": {
          "base_uri": "https://localhost:8080/",
          "height": 204
        },
        "id": "KTer4xZZK0yL",
        "outputId": "c8474a12-7ad2-4665-cd51-723ff5344f1d"
      },
      "outputs": [
        {
          "output_type": "execute_result",
          "data": {
            "text/plain": [
              "                                            sentence  \\\n",
              "0  Families of soldiers killed in the conflict jo...   \n",
              "1  Police put the number of marchers at 10,000 wh...   \n",
              "2  The party is divided over Britain 's participa...   \n",
              "3  Two Germans and four Nigerian oil workers were...   \n",
              "4  The German firm works as a sub-contractor for ...   \n",
              "\n",
              "                                              labels  \n",
              "0  O,O,O,O,O,O,O,O,O,O,O,O,O,O,O,O,O,O,B-per,O,O,...  \n",
              "1                      O,O,O,O,O,O,O,O,O,O,O,O,O,O,O  \n",
              "2  O,O,O,O,O,B-gpe,O,O,O,O,B-geo,O,O,O,O,O,O,O,B-...  \n",
              "3  O,B-gpe,O,O,B-gpe,O,O,O,O,O,O,O,O,O,O,O,O,O,O,...  \n",
              "4                        O,B-gpe,O,O,O,O,O,O,B-org,O  "
            ],
            "text/html": [
              "\n",
              "  <div id=\"df-ac75a69b-5fc2-4920-b82a-ed8675546a24\" class=\"colab-df-container\">\n",
              "    <div>\n",
              "<style scoped>\n",
              "    .dataframe tbody tr th:only-of-type {\n",
              "        vertical-align: middle;\n",
              "    }\n",
              "\n",
              "    .dataframe tbody tr th {\n",
              "        vertical-align: top;\n",
              "    }\n",
              "\n",
              "    .dataframe thead th {\n",
              "        text-align: right;\n",
              "    }\n",
              "</style>\n",
              "<table border=\"1\" class=\"dataframe\">\n",
              "  <thead>\n",
              "    <tr style=\"text-align: right;\">\n",
              "      <th></th>\n",
              "      <th>sentence</th>\n",
              "      <th>labels</th>\n",
              "    </tr>\n",
              "  </thead>\n",
              "  <tbody>\n",
              "    <tr>\n",
              "      <th>0</th>\n",
              "      <td>Families of soldiers killed in the conflict jo...</td>\n",
              "      <td>O,O,O,O,O,O,O,O,O,O,O,O,O,O,O,O,O,O,B-per,O,O,...</td>\n",
              "    </tr>\n",
              "    <tr>\n",
              "      <th>1</th>\n",
              "      <td>Police put the number of marchers at 10,000 wh...</td>\n",
              "      <td>O,O,O,O,O,O,O,O,O,O,O,O,O,O,O</td>\n",
              "    </tr>\n",
              "    <tr>\n",
              "      <th>2</th>\n",
              "      <td>The party is divided over Britain 's participa...</td>\n",
              "      <td>O,O,O,O,O,B-gpe,O,O,O,O,B-geo,O,O,O,O,O,O,O,B-...</td>\n",
              "    </tr>\n",
              "    <tr>\n",
              "      <th>3</th>\n",
              "      <td>Two Germans and four Nigerian oil workers were...</td>\n",
              "      <td>O,B-gpe,O,O,B-gpe,O,O,O,O,O,O,O,O,O,O,O,O,O,O,...</td>\n",
              "    </tr>\n",
              "    <tr>\n",
              "      <th>4</th>\n",
              "      <td>The German firm works as a sub-contractor for ...</td>\n",
              "      <td>O,B-gpe,O,O,O,O,O,O,B-org,O</td>\n",
              "    </tr>\n",
              "  </tbody>\n",
              "</table>\n",
              "</div>\n",
              "    <div class=\"colab-df-buttons\">\n",
              "\n",
              "  <div class=\"colab-df-container\">\n",
              "    <button class=\"colab-df-convert\" onclick=\"convertToInteractive('df-ac75a69b-5fc2-4920-b82a-ed8675546a24')\"\n",
              "            title=\"Convert this dataframe to an interactive table.\"\n",
              "            style=\"display:none;\">\n",
              "\n",
              "  <svg xmlns=\"http://www.w3.org/2000/svg\" height=\"24px\" viewBox=\"0 -960 960 960\">\n",
              "    <path d=\"M120-120v-720h720v720H120Zm60-500h600v-160H180v160Zm220 220h160v-160H400v160Zm0 220h160v-160H400v160ZM180-400h160v-160H180v160Zm440 0h160v-160H620v160ZM180-180h160v-160H180v160Zm440 0h160v-160H620v160Z\"/>\n",
              "  </svg>\n",
              "    </button>\n",
              "\n",
              "  <style>\n",
              "    .colab-df-container {\n",
              "      display:flex;\n",
              "      gap: 12px;\n",
              "    }\n",
              "\n",
              "    .colab-df-convert {\n",
              "      background-color: #E8F0FE;\n",
              "      border: none;\n",
              "      border-radius: 50%;\n",
              "      cursor: pointer;\n",
              "      display: none;\n",
              "      fill: #1967D2;\n",
              "      height: 32px;\n",
              "      padding: 0 0 0 0;\n",
              "      width: 32px;\n",
              "    }\n",
              "\n",
              "    .colab-df-convert:hover {\n",
              "      background-color: #E2EBFA;\n",
              "      box-shadow: 0px 1px 2px rgba(60, 64, 67, 0.3), 0px 1px 3px 1px rgba(60, 64, 67, 0.15);\n",
              "      fill: #174EA6;\n",
              "    }\n",
              "\n",
              "    .colab-df-buttons div {\n",
              "      margin-bottom: 4px;\n",
              "    }\n",
              "\n",
              "    [theme=dark] .colab-df-convert {\n",
              "      background-color: #3B4455;\n",
              "      fill: #D2E3FC;\n",
              "    }\n",
              "\n",
              "    [theme=dark] .colab-df-convert:hover {\n",
              "      background-color: #434B5C;\n",
              "      box-shadow: 0px 1px 3px 1px rgba(0, 0, 0, 0.15);\n",
              "      filter: drop-shadow(0px 1px 2px rgba(0, 0, 0, 0.3));\n",
              "      fill: #FFFFFF;\n",
              "    }\n",
              "  </style>\n",
              "\n",
              "    <script>\n",
              "      const buttonEl =\n",
              "        document.querySelector('#df-ac75a69b-5fc2-4920-b82a-ed8675546a24 button.colab-df-convert');\n",
              "      buttonEl.style.display =\n",
              "        google.colab.kernel.accessAllowed ? 'block' : 'none';\n",
              "\n",
              "      async function convertToInteractive(key) {\n",
              "        const element = document.querySelector('#df-ac75a69b-5fc2-4920-b82a-ed8675546a24');\n",
              "        const dataTable =\n",
              "          await google.colab.kernel.invokeFunction('convertToInteractive',\n",
              "                                                    [key], {});\n",
              "        if (!dataTable) return;\n",
              "\n",
              "        const docLinkHtml = 'Like what you see? Visit the ' +\n",
              "          '<a target=\"_blank\" href=https://colab.research.google.com/notebooks/data_table.ipynb>data table notebook</a>'\n",
              "          + ' to learn more about interactive tables.';\n",
              "        element.innerHTML = '';\n",
              "        dataTable['output_type'] = 'display_data';\n",
              "        await google.colab.output.renderOutput(dataTable, element);\n",
              "        const docLink = document.createElement('div');\n",
              "        docLink.innerHTML = docLinkHtml;\n",
              "        element.appendChild(docLink);\n",
              "      }\n",
              "    </script>\n",
              "  </div>\n",
              "\n",
              "\n",
              "    <div id=\"df-4afb5e9b-b04b-42fb-ab57-81e9e052345e\">\n",
              "      <button class=\"colab-df-quickchart\" onclick=\"quickchart('df-4afb5e9b-b04b-42fb-ab57-81e9e052345e')\"\n",
              "                title=\"Suggest charts\"\n",
              "                style=\"display:none;\">\n",
              "\n",
              "<svg xmlns=\"http://www.w3.org/2000/svg\" height=\"24px\"viewBox=\"0 0 24 24\"\n",
              "     width=\"24px\">\n",
              "    <g>\n",
              "        <path d=\"M19 3H5c-1.1 0-2 .9-2 2v14c0 1.1.9 2 2 2h14c1.1 0 2-.9 2-2V5c0-1.1-.9-2-2-2zM9 17H7v-7h2v7zm4 0h-2V7h2v10zm4 0h-2v-4h2v4z\"/>\n",
              "    </g>\n",
              "</svg>\n",
              "      </button>\n",
              "\n",
              "<style>\n",
              "  .colab-df-quickchart {\n",
              "      --bg-color: #E8F0FE;\n",
              "      --fill-color: #1967D2;\n",
              "      --hover-bg-color: #E2EBFA;\n",
              "      --hover-fill-color: #174EA6;\n",
              "      --disabled-fill-color: #AAA;\n",
              "      --disabled-bg-color: #DDD;\n",
              "  }\n",
              "\n",
              "  [theme=dark] .colab-df-quickchart {\n",
              "      --bg-color: #3B4455;\n",
              "      --fill-color: #D2E3FC;\n",
              "      --hover-bg-color: #434B5C;\n",
              "      --hover-fill-color: #FFFFFF;\n",
              "      --disabled-bg-color: #3B4455;\n",
              "      --disabled-fill-color: #666;\n",
              "  }\n",
              "\n",
              "  .colab-df-quickchart {\n",
              "    background-color: var(--bg-color);\n",
              "    border: none;\n",
              "    border-radius: 50%;\n",
              "    cursor: pointer;\n",
              "    display: none;\n",
              "    fill: var(--fill-color);\n",
              "    height: 32px;\n",
              "    padding: 0;\n",
              "    width: 32px;\n",
              "  }\n",
              "\n",
              "  .colab-df-quickchart:hover {\n",
              "    background-color: var(--hover-bg-color);\n",
              "    box-shadow: 0 1px 2px rgba(60, 64, 67, 0.3), 0 1px 3px 1px rgba(60, 64, 67, 0.15);\n",
              "    fill: var(--button-hover-fill-color);\n",
              "  }\n",
              "\n",
              "  .colab-df-quickchart-complete:disabled,\n",
              "  .colab-df-quickchart-complete:disabled:hover {\n",
              "    background-color: var(--disabled-bg-color);\n",
              "    fill: var(--disabled-fill-color);\n",
              "    box-shadow: none;\n",
              "  }\n",
              "\n",
              "  .colab-df-spinner {\n",
              "    border: 2px solid var(--fill-color);\n",
              "    border-color: transparent;\n",
              "    border-bottom-color: var(--fill-color);\n",
              "    animation:\n",
              "      spin 1s steps(1) infinite;\n",
              "  }\n",
              "\n",
              "  @keyframes spin {\n",
              "    0% {\n",
              "      border-color: transparent;\n",
              "      border-bottom-color: var(--fill-color);\n",
              "      border-left-color: var(--fill-color);\n",
              "    }\n",
              "    20% {\n",
              "      border-color: transparent;\n",
              "      border-left-color: var(--fill-color);\n",
              "      border-top-color: var(--fill-color);\n",
              "    }\n",
              "    30% {\n",
              "      border-color: transparent;\n",
              "      border-left-color: var(--fill-color);\n",
              "      border-top-color: var(--fill-color);\n",
              "      border-right-color: var(--fill-color);\n",
              "    }\n",
              "    40% {\n",
              "      border-color: transparent;\n",
              "      border-right-color: var(--fill-color);\n",
              "      border-top-color: var(--fill-color);\n",
              "    }\n",
              "    60% {\n",
              "      border-color: transparent;\n",
              "      border-right-color: var(--fill-color);\n",
              "    }\n",
              "    80% {\n",
              "      border-color: transparent;\n",
              "      border-right-color: var(--fill-color);\n",
              "      border-bottom-color: var(--fill-color);\n",
              "    }\n",
              "    90% {\n",
              "      border-color: transparent;\n",
              "      border-bottom-color: var(--fill-color);\n",
              "    }\n",
              "  }\n",
              "</style>\n",
              "\n",
              "      <script>\n",
              "        async function quickchart(key) {\n",
              "          const quickchartButtonEl =\n",
              "            document.querySelector('#' + key + ' button');\n",
              "          quickchartButtonEl.disabled = true;  // To prevent multiple clicks.\n",
              "          quickchartButtonEl.classList.add('colab-df-spinner');\n",
              "          try {\n",
              "            const charts = await google.colab.kernel.invokeFunction(\n",
              "                'suggestCharts', [key], {});\n",
              "          } catch (error) {\n",
              "            console.error('Error during call to suggestCharts:', error);\n",
              "          }\n",
              "          quickchartButtonEl.classList.remove('colab-df-spinner');\n",
              "          quickchartButtonEl.classList.add('colab-df-quickchart-complete');\n",
              "        }\n",
              "        (() => {\n",
              "          let quickchartButtonEl =\n",
              "            document.querySelector('#df-4afb5e9b-b04b-42fb-ab57-81e9e052345e button');\n",
              "          quickchartButtonEl.style.display =\n",
              "            google.colab.kernel.accessAllowed ? 'block' : 'none';\n",
              "        })();\n",
              "      </script>\n",
              "    </div>\n",
              "\n",
              "    </div>\n",
              "  </div>\n"
            ],
            "application/vnd.google.colaboratory.intrinsic+json": {
              "type": "dataframe",
              "variable_name": "train_df",
              "summary": "{\n  \"name\": \"train_df\",\n  \"rows\": 34279,\n  \"fields\": [\n    {\n      \"column\": \"sentence\",\n      \"properties\": {\n        \"dtype\": \"string\",\n        \"num_unique_values\": 34260,\n        \"samples\": [\n          \"The rest of the money will fund aid efforts in Uganda , Burundi , Comoros , Liberia , Ivory Coast , Madagascar , Chad and Tanzania .\",\n          \"The World Health Organization says bird flu has killed 97 people since 2003 , mostly in Asia .\",\n          \"Iran 's newly elected President Mahmoud Ahmadinejad\"\n        ],\n        \"semantic_type\": \"\",\n        \"description\": \"\"\n      }\n    },\n    {\n      \"column\": \"labels\",\n      \"properties\": {\n        \"dtype\": \"string\",\n        \"num_unique_values\": 24406,\n        \"samples\": [\n          \"B-per,I-per,I-per,O,O,B-geo,B-tim,O,O,B-per,I-per,O,O,O,O,O,O,O,B-geo,O,O,B-org,I-org,O,O,O,O,O,O,O\",\n          \"O,O,O,O,B-geo,O,O,O,O,O,O,O,O,O,O,O,O,O,O\",\n          \"B-gpe,O,O,O,O,O,O,B-geo,O,O,B-geo,O,O,O,O,O,O,O,O\"\n        ],\n        \"semantic_type\": \"\",\n        \"description\": \"\"\n      }\n    }\n  ]\n}"
            }
          },
          "metadata": {},
          "execution_count": 8
        }
      ],
      "source": [
        "train_df.head()"
      ]
    },
    {
      "cell_type": "code",
      "execution_count": 9,
      "metadata": {
        "colab": {
          "base_uri": "https://localhost:8080/",
          "height": 35
        },
        "id": "erabB3xNK0yL",
        "outputId": "26aff964-a850-4d93-feb9-596200c53de6"
      },
      "outputs": [
        {
          "output_type": "execute_result",
          "data": {
            "text/plain": [
              "'O,B-gpe,O,O,B-gpe,O,O,O,O,O,O,O,O,O,O,O,O,O,O,B-geo,O,O,O,B-geo,O,O'"
            ],
            "application/vnd.google.colaboratory.intrinsic+json": {
              "type": "string"
            }
          },
          "metadata": {},
          "execution_count": 9
        }
      ],
      "source": [
        "train_df[\"labels\"].iloc[3]"
      ]
    },
    {
      "cell_type": "code",
      "execution_count": 10,
      "metadata": {
        "colab": {
          "base_uri": "https://localhost:8080/",
          "height": 52
        },
        "id": "uOULmHgUK0yL",
        "outputId": "3d3b14a1-3f20-4d33-ef0a-dd109a3aa14b"
      },
      "outputs": [
        {
          "output_type": "execute_result",
          "data": {
            "text/plain": [
              "\"Two Germans and four Nigerian oil workers were kidnapped by armed militants during a raid on a boat in Nigeria 's southern oil-rich Delta region .\""
            ],
            "application/vnd.google.colaboratory.intrinsic+json": {
              "type": "string"
            }
          },
          "metadata": {},
          "execution_count": 10
        }
      ],
      "source": [
        "train_df[\"sentence\"].iloc[3]"
      ]
    },
    {
      "cell_type": "code",
      "execution_count": 11,
      "metadata": {
        "id": "EMHuOgsWK0yL"
      },
      "outputs": [],
      "source": [
        "train_df = train_df.reset_index(drop=True)\n",
        "valid_df = valid_df.reset_index(drop=True)\n",
        "test_df = test_df.reset_index(drop=True)"
      ]
    },
    {
      "cell_type": "code",
      "execution_count": 12,
      "metadata": {
        "colab": {
          "base_uri": "https://localhost:8080/",
          "height": 142
        },
        "id": "XpHf8JbGK0yL",
        "outputId": "612e432d-fbfb-41a0-ae0e-c990ce46bb9f"
      },
      "outputs": [
        {
          "output_type": "execute_result",
          "data": {
            "text/plain": [
              "                                            sentence  \\\n",
              "0  Families of soldiers killed in the conflict jo...   \n",
              "1  Police put the number of marchers at 10,000 wh...   \n",
              "2  The party is divided over Britain 's participa...   \n",
              "\n",
              "                                              labels  \n",
              "0  O,O,O,O,O,O,O,O,O,O,O,O,O,O,O,O,O,O,B-per,O,O,...  \n",
              "1                      O,O,O,O,O,O,O,O,O,O,O,O,O,O,O  \n",
              "2  O,O,O,O,O,B-gpe,O,O,O,O,B-geo,O,O,O,O,O,O,O,B-...  "
            ],
            "text/html": [
              "\n",
              "  <div id=\"df-d27c7dcf-2986-4ad7-b87d-825e26214089\" class=\"colab-df-container\">\n",
              "    <div>\n",
              "<style scoped>\n",
              "    .dataframe tbody tr th:only-of-type {\n",
              "        vertical-align: middle;\n",
              "    }\n",
              "\n",
              "    .dataframe tbody tr th {\n",
              "        vertical-align: top;\n",
              "    }\n",
              "\n",
              "    .dataframe thead th {\n",
              "        text-align: right;\n",
              "    }\n",
              "</style>\n",
              "<table border=\"1\" class=\"dataframe\">\n",
              "  <thead>\n",
              "    <tr style=\"text-align: right;\">\n",
              "      <th></th>\n",
              "      <th>sentence</th>\n",
              "      <th>labels</th>\n",
              "    </tr>\n",
              "  </thead>\n",
              "  <tbody>\n",
              "    <tr>\n",
              "      <th>0</th>\n",
              "      <td>Families of soldiers killed in the conflict jo...</td>\n",
              "      <td>O,O,O,O,O,O,O,O,O,O,O,O,O,O,O,O,O,O,B-per,O,O,...</td>\n",
              "    </tr>\n",
              "    <tr>\n",
              "      <th>1</th>\n",
              "      <td>Police put the number of marchers at 10,000 wh...</td>\n",
              "      <td>O,O,O,O,O,O,O,O,O,O,O,O,O,O,O</td>\n",
              "    </tr>\n",
              "    <tr>\n",
              "      <th>2</th>\n",
              "      <td>The party is divided over Britain 's participa...</td>\n",
              "      <td>O,O,O,O,O,B-gpe,O,O,O,O,B-geo,O,O,O,O,O,O,O,B-...</td>\n",
              "    </tr>\n",
              "  </tbody>\n",
              "</table>\n",
              "</div>\n",
              "    <div class=\"colab-df-buttons\">\n",
              "\n",
              "  <div class=\"colab-df-container\">\n",
              "    <button class=\"colab-df-convert\" onclick=\"convertToInteractive('df-d27c7dcf-2986-4ad7-b87d-825e26214089')\"\n",
              "            title=\"Convert this dataframe to an interactive table.\"\n",
              "            style=\"display:none;\">\n",
              "\n",
              "  <svg xmlns=\"http://www.w3.org/2000/svg\" height=\"24px\" viewBox=\"0 -960 960 960\">\n",
              "    <path d=\"M120-120v-720h720v720H120Zm60-500h600v-160H180v160Zm220 220h160v-160H400v160Zm0 220h160v-160H400v160ZM180-400h160v-160H180v160Zm440 0h160v-160H620v160ZM180-180h160v-160H180v160Zm440 0h160v-160H620v160Z\"/>\n",
              "  </svg>\n",
              "    </button>\n",
              "\n",
              "  <style>\n",
              "    .colab-df-container {\n",
              "      display:flex;\n",
              "      gap: 12px;\n",
              "    }\n",
              "\n",
              "    .colab-df-convert {\n",
              "      background-color: #E8F0FE;\n",
              "      border: none;\n",
              "      border-radius: 50%;\n",
              "      cursor: pointer;\n",
              "      display: none;\n",
              "      fill: #1967D2;\n",
              "      height: 32px;\n",
              "      padding: 0 0 0 0;\n",
              "      width: 32px;\n",
              "    }\n",
              "\n",
              "    .colab-df-convert:hover {\n",
              "      background-color: #E2EBFA;\n",
              "      box-shadow: 0px 1px 2px rgba(60, 64, 67, 0.3), 0px 1px 3px 1px rgba(60, 64, 67, 0.15);\n",
              "      fill: #174EA6;\n",
              "    }\n",
              "\n",
              "    .colab-df-buttons div {\n",
              "      margin-bottom: 4px;\n",
              "    }\n",
              "\n",
              "    [theme=dark] .colab-df-convert {\n",
              "      background-color: #3B4455;\n",
              "      fill: #D2E3FC;\n",
              "    }\n",
              "\n",
              "    [theme=dark] .colab-df-convert:hover {\n",
              "      background-color: #434B5C;\n",
              "      box-shadow: 0px 1px 3px 1px rgba(0, 0, 0, 0.15);\n",
              "      filter: drop-shadow(0px 1px 2px rgba(0, 0, 0, 0.3));\n",
              "      fill: #FFFFFF;\n",
              "    }\n",
              "  </style>\n",
              "\n",
              "    <script>\n",
              "      const buttonEl =\n",
              "        document.querySelector('#df-d27c7dcf-2986-4ad7-b87d-825e26214089 button.colab-df-convert');\n",
              "      buttonEl.style.display =\n",
              "        google.colab.kernel.accessAllowed ? 'block' : 'none';\n",
              "\n",
              "      async function convertToInteractive(key) {\n",
              "        const element = document.querySelector('#df-d27c7dcf-2986-4ad7-b87d-825e26214089');\n",
              "        const dataTable =\n",
              "          await google.colab.kernel.invokeFunction('convertToInteractive',\n",
              "                                                    [key], {});\n",
              "        if (!dataTable) return;\n",
              "\n",
              "        const docLinkHtml = 'Like what you see? Visit the ' +\n",
              "          '<a target=\"_blank\" href=https://colab.research.google.com/notebooks/data_table.ipynb>data table notebook</a>'\n",
              "          + ' to learn more about interactive tables.';\n",
              "        element.innerHTML = '';\n",
              "        dataTable['output_type'] = 'display_data';\n",
              "        await google.colab.output.renderOutput(dataTable, element);\n",
              "        const docLink = document.createElement('div');\n",
              "        docLink.innerHTML = docLinkHtml;\n",
              "        element.appendChild(docLink);\n",
              "      }\n",
              "    </script>\n",
              "  </div>\n",
              "\n",
              "\n",
              "    <div id=\"df-aa256f86-858f-4b84-854e-464a6e0c644b\">\n",
              "      <button class=\"colab-df-quickchart\" onclick=\"quickchart('df-aa256f86-858f-4b84-854e-464a6e0c644b')\"\n",
              "                title=\"Suggest charts\"\n",
              "                style=\"display:none;\">\n",
              "\n",
              "<svg xmlns=\"http://www.w3.org/2000/svg\" height=\"24px\"viewBox=\"0 0 24 24\"\n",
              "     width=\"24px\">\n",
              "    <g>\n",
              "        <path d=\"M19 3H5c-1.1 0-2 .9-2 2v14c0 1.1.9 2 2 2h14c1.1 0 2-.9 2-2V5c0-1.1-.9-2-2-2zM9 17H7v-7h2v7zm4 0h-2V7h2v10zm4 0h-2v-4h2v4z\"/>\n",
              "    </g>\n",
              "</svg>\n",
              "      </button>\n",
              "\n",
              "<style>\n",
              "  .colab-df-quickchart {\n",
              "      --bg-color: #E8F0FE;\n",
              "      --fill-color: #1967D2;\n",
              "      --hover-bg-color: #E2EBFA;\n",
              "      --hover-fill-color: #174EA6;\n",
              "      --disabled-fill-color: #AAA;\n",
              "      --disabled-bg-color: #DDD;\n",
              "  }\n",
              "\n",
              "  [theme=dark] .colab-df-quickchart {\n",
              "      --bg-color: #3B4455;\n",
              "      --fill-color: #D2E3FC;\n",
              "      --hover-bg-color: #434B5C;\n",
              "      --hover-fill-color: #FFFFFF;\n",
              "      --disabled-bg-color: #3B4455;\n",
              "      --disabled-fill-color: #666;\n",
              "  }\n",
              "\n",
              "  .colab-df-quickchart {\n",
              "    background-color: var(--bg-color);\n",
              "    border: none;\n",
              "    border-radius: 50%;\n",
              "    cursor: pointer;\n",
              "    display: none;\n",
              "    fill: var(--fill-color);\n",
              "    height: 32px;\n",
              "    padding: 0;\n",
              "    width: 32px;\n",
              "  }\n",
              "\n",
              "  .colab-df-quickchart:hover {\n",
              "    background-color: var(--hover-bg-color);\n",
              "    box-shadow: 0 1px 2px rgba(60, 64, 67, 0.3), 0 1px 3px 1px rgba(60, 64, 67, 0.15);\n",
              "    fill: var(--button-hover-fill-color);\n",
              "  }\n",
              "\n",
              "  .colab-df-quickchart-complete:disabled,\n",
              "  .colab-df-quickchart-complete:disabled:hover {\n",
              "    background-color: var(--disabled-bg-color);\n",
              "    fill: var(--disabled-fill-color);\n",
              "    box-shadow: none;\n",
              "  }\n",
              "\n",
              "  .colab-df-spinner {\n",
              "    border: 2px solid var(--fill-color);\n",
              "    border-color: transparent;\n",
              "    border-bottom-color: var(--fill-color);\n",
              "    animation:\n",
              "      spin 1s steps(1) infinite;\n",
              "  }\n",
              "\n",
              "  @keyframes spin {\n",
              "    0% {\n",
              "      border-color: transparent;\n",
              "      border-bottom-color: var(--fill-color);\n",
              "      border-left-color: var(--fill-color);\n",
              "    }\n",
              "    20% {\n",
              "      border-color: transparent;\n",
              "      border-left-color: var(--fill-color);\n",
              "      border-top-color: var(--fill-color);\n",
              "    }\n",
              "    30% {\n",
              "      border-color: transparent;\n",
              "      border-left-color: var(--fill-color);\n",
              "      border-top-color: var(--fill-color);\n",
              "      border-right-color: var(--fill-color);\n",
              "    }\n",
              "    40% {\n",
              "      border-color: transparent;\n",
              "      border-right-color: var(--fill-color);\n",
              "      border-top-color: var(--fill-color);\n",
              "    }\n",
              "    60% {\n",
              "      border-color: transparent;\n",
              "      border-right-color: var(--fill-color);\n",
              "    }\n",
              "    80% {\n",
              "      border-color: transparent;\n",
              "      border-right-color: var(--fill-color);\n",
              "      border-bottom-color: var(--fill-color);\n",
              "    }\n",
              "    90% {\n",
              "      border-color: transparent;\n",
              "      border-bottom-color: var(--fill-color);\n",
              "    }\n",
              "  }\n",
              "</style>\n",
              "\n",
              "      <script>\n",
              "        async function quickchart(key) {\n",
              "          const quickchartButtonEl =\n",
              "            document.querySelector('#' + key + ' button');\n",
              "          quickchartButtonEl.disabled = true;  // To prevent multiple clicks.\n",
              "          quickchartButtonEl.classList.add('colab-df-spinner');\n",
              "          try {\n",
              "            const charts = await google.colab.kernel.invokeFunction(\n",
              "                'suggestCharts', [key], {});\n",
              "          } catch (error) {\n",
              "            console.error('Error during call to suggestCharts:', error);\n",
              "          }\n",
              "          quickchartButtonEl.classList.remove('colab-df-spinner');\n",
              "          quickchartButtonEl.classList.add('colab-df-quickchart-complete');\n",
              "        }\n",
              "        (() => {\n",
              "          let quickchartButtonEl =\n",
              "            document.querySelector('#df-aa256f86-858f-4b84-854e-464a6e0c644b button');\n",
              "          quickchartButtonEl.style.display =\n",
              "            google.colab.kernel.accessAllowed ? 'block' : 'none';\n",
              "        })();\n",
              "      </script>\n",
              "    </div>\n",
              "\n",
              "    </div>\n",
              "  </div>\n"
            ],
            "application/vnd.google.colaboratory.intrinsic+json": {
              "type": "dataframe",
              "variable_name": "train_df",
              "summary": "{\n  \"name\": \"train_df\",\n  \"rows\": 34279,\n  \"fields\": [\n    {\n      \"column\": \"sentence\",\n      \"properties\": {\n        \"dtype\": \"string\",\n        \"num_unique_values\": 34260,\n        \"samples\": [\n          \"The rest of the money will fund aid efforts in Uganda , Burundi , Comoros , Liberia , Ivory Coast , Madagascar , Chad and Tanzania .\",\n          \"The World Health Organization says bird flu has killed 97 people since 2003 , mostly in Asia .\",\n          \"Iran 's newly elected President Mahmoud Ahmadinejad\"\n        ],\n        \"semantic_type\": \"\",\n        \"description\": \"\"\n      }\n    },\n    {\n      \"column\": \"labels\",\n      \"properties\": {\n        \"dtype\": \"string\",\n        \"num_unique_values\": 24406,\n        \"samples\": [\n          \"B-per,I-per,I-per,O,O,B-geo,B-tim,O,O,B-per,I-per,O,O,O,O,O,O,O,B-geo,O,O,B-org,I-org,O,O,O,O,O,O,O\",\n          \"O,O,O,O,B-geo,O,O,O,O,O,O,O,O,O,O,O,O,O,O\",\n          \"B-gpe,O,O,O,O,O,O,B-geo,O,O,B-geo,O,O,O,O,O,O,O,O\"\n        ],\n        \"semantic_type\": \"\",\n        \"description\": \"\"\n      }\n    }\n  ]\n}"
            }
          },
          "metadata": {},
          "execution_count": 12
        }
      ],
      "source": [
        "train_df.head(3)"
      ]
    },
    {
      "cell_type": "code",
      "execution_count": 13,
      "metadata": {
        "colab": {
          "base_uri": "https://localhost:8080/"
        },
        "id": "rn32BNYKK0yM",
        "outputId": "09fc590e-2029-4e18-d928-ccaa928d8b51"
      },
      "outputs": [
        {
          "output_type": "execute_result",
          "data": {
            "text/plain": [
              "['B-geo',\n",
              " 'B-gpe',\n",
              " 'B-org',\n",
              " 'B-per',\n",
              " 'B-tim',\n",
              " 'I-geo',\n",
              " 'I-org',\n",
              " 'I-per',\n",
              " 'I-tim',\n",
              " 'O']"
            ]
          },
          "metadata": {},
          "execution_count": 13
        }
      ],
      "source": [
        "all_labels = train_df['labels'].apply(lambda x: x.split(','))\n",
        "all_labels = sorted(set(label for labels in all_labels for label in labels ))\n",
        "all_labels"
      ]
    },
    {
      "cell_type": "markdown",
      "metadata": {
        "id": "_SY6vrgeK0yM"
      },
      "source": [
        "### One hot encoding for all the labels in training , validation and testing dataset"
      ]
    },
    {
      "cell_type": "code",
      "execution_count": null,
      "metadata": {
        "id": "m90Hh8U_K0yM"
      },
      "outputs": [],
      "source": [
        "\n",
        "# Step 2: Initialize the MultiLabelBinarizer with all known classes\n",
        "mlb = MultiLabelBinarizer(classes=sorted(all_labels))\n",
        "# Step 3: Transform per-sentence label sets\n",
        "unique_train_labels_ohe = mlb.fit_transform(\n",
        "    train_df['labels'].apply(lambda x: set(x.split(',')))\n",
        ")"
      ]
    },
    {
      "cell_type": "code",
      "execution_count": null,
      "metadata": {
        "id": "cieVveCiK0yM",
        "outputId": "fb847c38-283f-44c4-9899-e47b7a43c922"
      },
      "outputs": [
        {
          "data": {
            "text/plain": [
              "(34279, 10)"
            ]
          },
          "execution_count": 15,
          "metadata": {},
          "output_type": "execute_result"
        }
      ],
      "source": [
        "unique_train_labels_ohe.shape"
      ]
    },
    {
      "cell_type": "code",
      "execution_count": null,
      "metadata": {
        "id": "n4P3Xx-vK0yN"
      },
      "outputs": [],
      "source": []
    },
    {
      "cell_type": "code",
      "execution_count": null,
      "metadata": {
        "id": "5bXrvfsJK0yN"
      },
      "outputs": [],
      "source": [
        "\n",
        "\n",
        "# Validation\n",
        "unique_valid_labels_ohe = mlb.transform(\n",
        "    valid_df['labels'].apply(lambda x: set(x.split(',')))\n",
        ")\n",
        "\n",
        "# Testing\n",
        "unique_test_labels_ohe = mlb.transform(\n",
        "    test_df['labels'].apply(lambda x: set(x.split(',')))\n",
        ")\n"
      ]
    },
    {
      "cell_type": "code",
      "execution_count": null,
      "metadata": {
        "id": "wWQQdDkhK0yN",
        "outputId": "e6805716-e229-49aa-869e-e925a33ca17c"
      },
      "outputs": [
        {
          "ename": "NameError",
          "evalue": "name 'unique_valid_labels_ohe' is not defined",
          "output_type": "error",
          "traceback": [
            "\u001b[31m---------------------------------------------------------------------------\u001b[39m",
            "\u001b[31mNameError\u001b[39m                                 Traceback (most recent call last)",
            "\u001b[36mCell\u001b[39m\u001b[36m \u001b[39m\u001b[32mIn[16]\u001b[39m\u001b[32m, line 3\u001b[39m\n\u001b[32m      1\u001b[39m \u001b[38;5;66;03m# compute number of samples\u001b[39;00m\n\u001b[32m      2\u001b[39m num_train_samples = unique_train_labels_ohe.shape[\u001b[32m0\u001b[39m]\n\u001b[32m----> \u001b[39m\u001b[32m3\u001b[39m num_valid_samples = \u001b[43munique_valid_labels_ohe\u001b[49m.shape[\u001b[32m0\u001b[39m]\n\u001b[32m      4\u001b[39m num_test_samples = unique_test_labels_ohe.shape[\u001b[32m0\u001b[39m]\n\u001b[32m      6\u001b[39m \u001b[38;5;66;03m# compute number of samples for each unique label\u001b[39;00m\n",
            "\u001b[31mNameError\u001b[39m: name 'unique_valid_labels_ohe' is not defined"
          ]
        }
      ],
      "source": [
        "# compute number of samples\n",
        "num_train_samples = unique_train_labels_ohe.shape[0]\n",
        "num_valid_samples = unique_valid_labels_ohe.shape[0]\n",
        "num_test_samples = unique_test_labels_ohe.shape[0]\n",
        "\n",
        "# compute number of samples for each unique label\n",
        "train_labels_count = unique_train_labels_ohe.sum(axis=0)\n",
        "valid_labels_count = unique_valid_labels_ohe.sum(axis=0)\n",
        "test_labels_count = unique_test_labels_ohe.sum(axis=0)\n",
        "\n",
        "# compute proportion of samples for each unique label\n",
        "prop_train_labels = train_labels_count/num_train_samples\n",
        "prop_valid_labels = valid_labels_count/num_valid_samples\n",
        "prop_test_labels = test_labels_count/num_test_samples\n",
        "\n",
        "\n",
        "print(\"Training Data\")\n",
        "print(\"==============\")\n",
        "print(f\"Total num of training samples: {num_train_samples}\")\n",
        "print(f\"Total num of each label: {train_labels_count}\")\n",
        "print(f\"Proportions of each label: {prop_train_labels}\\n\")\n",
        "\n",
        "print(\"Validation Data\")\n",
        "print(\"==============\")\n",
        "print(f\"Total num of validation samples: {num_valid_samples}\")\n",
        "print(f\"Total num of each label: {valid_labels_count}\")\n",
        "print(f\"Proportions of each label: {prop_valid_labels}\\n\")\n",
        "\n",
        "print(\"Testing Data\")\n",
        "print(\"===============\")\n",
        "print(f\"Total num of training samples: {num_test_samples}\")\n",
        "print(f\"Total num of each label: {test_labels_count}\")\n",
        "print(f\"Proportions of each label: {prop_test_labels}\")"
      ]
    },
    {
      "cell_type": "markdown",
      "metadata": {
        "id": "mIcEkmisK0yN"
      },
      "source": [
        "### Create the proportion dataFrame for training, validation and testing data"
      ]
    },
    {
      "cell_type": "code",
      "execution_count": 14,
      "metadata": {
        "id": "Je9dojXnK0yN"
      },
      "outputs": [],
      "source": [
        "label2id = {k:v+1 for v,k in enumerate(all_labels)}\n",
        "id2label = {k+1:v for k,v in enumerate(all_labels)}"
      ]
    },
    {
      "cell_type": "code",
      "execution_count": null,
      "metadata": {
        "id": "MNbEMjc0K0yN"
      },
      "outputs": [],
      "source": [
        "# create dict for proportions of each label\n",
        "prop_data = {\n",
        "    'labels' : list(label2id.keys()),\n",
        "    'train' : prop_train_labels,\n",
        "    'valid' : prop_valid_labels,\n",
        "    'test' : prop_test_labels\n",
        "}\n",
        "\n",
        "\n",
        "prop_df = pd.DataFrame.from_dict(prop_data)\n",
        "\n",
        "\n",
        "display(prop_df)"
      ]
    },
    {
      "cell_type": "code",
      "execution_count": null,
      "metadata": {
        "id": "i1dAAHGUK0yO"
      },
      "outputs": [],
      "source": [
        "# fig, ax = plt.subplots(figsize=(10, 8))\n",
        "# g = sns.barplot(\n",
        "#     data=prop_df.melt(id_vars = [\"labels\"], value_vars=[\"train\", \"valid\", \"test\"]),\n",
        "#     y=\"value\", x=\"v\n",
        "#\n",
        "#\n",
        "#\n",
        "# ariable\", hue=\"labels\", errorbar=None\n",
        "# )\n",
        "\n",
        "# # for legend text\n",
        "# plt.setp(g.get_legend().get_texts(), fontsize='10')\n",
        "\n",
        "# # for legend title\n",
        "# plt.setp(g.get_legend().get_title(), fontsize='10')\n",
        "# plt.title(\"Proportions of sentences containing each label - training, validation and testing dataset\")\n",
        "# plt.savefig('./images/label_proportions.png', bbox_inches='tight', dpi=300)\n",
        "# plt.show()"
      ]
    },
    {
      "cell_type": "markdown",
      "metadata": {
        "id": "QuFd9agrK0yO"
      },
      "source": [
        "### Check distributions of 2nd order"
      ]
    },
    {
      "cell_type": "code",
      "execution_count": null,
      "metadata": {
        "id": "zItfr24DK0yO"
      },
      "outputs": [],
      "source": [
        "# from collections import Counter\n",
        "# from skmultilearn.model_selection.measures import get_combination_wise_output_matrix\n",
        "\n",
        "# label_combination_df = pd.DataFrame({\n",
        "#     'train': Counter(str(combination) for row in get_combination_wise_output_matrix(unique_train_labels_ohe, order=2) for combination in row),\n",
        "#     'valid': Counter(str(combination) for row in get_combination_wise_output_matrix(unique_valid_labels_ohe, order=2) for combination in row),\n",
        "#     'test' : Counter(str(combination) for row in get_combination_wise_output_matrix(unique_test_labels_ohe, order=2) for combination in row),\n",
        "# }).T.fillna(0.0).astype('float')\n",
        "\n",
        "# # compute proportions\n",
        "# label_combination_df.loc['train'] = label_combination_df.loc['train']/num_train_samples\n",
        "# label_combination_df.loc['valid'] = label_combination_df.loc['valid']/num_valid_samples\n",
        "# label_combination_df.loc['test'] = label_combination_df.loc['test']/num_test_samples\n",
        "\n",
        "# label_combination_df"
      ]
    },
    {
      "cell_type": "code",
      "execution_count": null,
      "metadata": {
        "id": "tTghm6kmK0yO"
      },
      "outputs": [],
      "source": [
        "# from collections import Counter\n",
        "# from skmultilearn.model_selection.measures import get_combination_wise_output_matrix\n",
        "\n",
        "# label_combination_df = pd.DataFrame({\n",
        "#     'train': Counter(str(combination) for row in get_combination_wise_output_matrix(unique_train_labels_ohe, order=3) for combination in row),\n",
        "#     'valid': Counter(str(combination) for row in get_combination_wise_output_matrix(unique_valid_labels_ohe, order=3) for combination in row),\n",
        "#     'test' : Counter(str(combination) for row in get_combination_wise_output_matrix(unique_test_labels_ohe, order=3) for combination in row),\n",
        "# }).T.fillna(0.0).astype('float')\n",
        "\n",
        "# # compute proportions\n",
        "# label_combination_df.loc['train'] = label_combination_df.loc['train']/num_train_samples\n",
        "# label_combination_df.loc['valid'] = label_combination_df.loc['valid']/num_valid_samples\n",
        "# label_combination_df.loc['test'] = label_combination_df.loc['test']/num_test_samples\n",
        "\n",
        "# label_combination_df"
      ]
    },
    {
      "cell_type": "markdown",
      "metadata": {
        "id": "D0WL8w4fK0yO"
      },
      "source": [
        "### Baseline model\n",
        "### RNN + Softmax"
      ]
    },
    {
      "cell_type": "markdown",
      "metadata": {
        "id": "wr1v-rwdK0yO"
      },
      "source": [
        "### Tokenization\n",
        "There are many tokenization methods  including:\n",
        "<li>\n",
        "Bert Tokenizer\n",
        "</li>\n",
        "<li>\n",
        "Byte-Pair Encoding (BPE) - Robust to unknown words\n",
        "</li>\n",
        "\n",
        "### Word tokenization"
      ]
    },
    {
      "cell_type": "code",
      "execution_count": 15,
      "metadata": {
        "id": "BP-1UtxJK0yP"
      },
      "outputs": [],
      "source": [
        "# Tokenize sentences (whitespace)\n",
        "def tokenize(sentence):\n",
        "    return sentence.strip().split()\n",
        "# Split labels\n",
        "def split_labels(label_str):\n",
        "    return label_str.strip().split(',')\n"
      ]
    },
    {
      "cell_type": "code",
      "execution_count": 16,
      "metadata": {
        "id": "NeyAna7AK0yP"
      },
      "outputs": [],
      "source": [
        "\n",
        "train_df['tokens'] = train_df['sentence'].apply(tokenize)\n",
        "train_df['label_list'] = train_df['labels'].apply(split_labels)"
      ]
    },
    {
      "cell_type": "code",
      "execution_count": 17,
      "metadata": {
        "colab": {
          "base_uri": "https://localhost:8080/",
          "height": 606
        },
        "id": "QWwg30olK0yP",
        "outputId": "8e090c75-6ba2-4546-8940-971eaa07ac21"
      },
      "outputs": [
        {
          "output_type": "execute_result",
          "data": {
            "text/plain": [
              "                                                sentence  \\\n",
              "600    The visit by Assistant Secretary of State for ...   \n",
              "635    Strong performances in construction and manufa...   \n",
              "803    After failing in the Korean War ( 1950 - 53 ) ...   \n",
              "1140   Former U.S. Marine General John J. \" Jack \" Sh...   \n",
              "4348   But the Honest Man explained that as he was me...   \n",
              "...                                                  ...   \n",
              "30696  Mourners and officials of the Socialist Party ...   \n",
              "30796  In an interview broadcast Sunday on U.S. telev...   \n",
              "32287  Following its heyday as a global maritime powe...   \n",
              "32874  Renewed activity in the mining sector , the so...   \n",
              "34145  Two federal policemen walk past crosses standi...   \n",
              "\n",
              "                                                  labels  \\\n",
              "600    O,O,O,O,O,O,B-org,I-org,I-org,I-org,I-org,I-or...   \n",
              "635    O,O,O,O,O,O,O,O,O,O,O,O,O,O,O,O,O,O,O,O,O,O,O,...   \n",
              "803    O,O,O,O,O,O,O,B-tim,I-tim,I-tim,O,O,O,O,B-geo,...   \n",
              "1140   O,B-org,I-org,I-org,B-per,I-per,I-per,I-per,I-...   \n",
              "4348   O,O,O,O,O,O,O,O,O,O,O,O,O,O,O,O,O,O,O,O,O,O,O,...   \n",
              "...                                                  ...   \n",
              "30696  O,O,O,O,O,B-org,I-org,O,O,B-per,O,O,O,O,O,O,O,...   \n",
              "30796  O,O,O,O,B-tim,O,B-geo,O,O,O,B-org,O,O,O,O,O,B-...   \n",
              "32287  O,O,O,O,O,O,O,O,O,O,B-tim,I-tim,I-tim,O,O,B-pe...   \n",
              "32874  O,O,O,O,O,O,O,O,O,O,O,O,O,O,O,B-geo,O,O,O,O,O,...   \n",
              "34145  O,O,O,O,O,O,O,O,O,O,O,O,O,O,O,O,O,B-tim,O,B-ge...   \n",
              "\n",
              "                                                  tokens  \\\n",
              "600    [The, visit, by, Assistant, Secretary, of, Sta...   \n",
              "635    [Strong, performances, in, construction, and, ...   \n",
              "803    [After, failing, in, the, Korean, War, (, 1950...   \n",
              "1140   [Former, U.S., Marine, General, John, J., \", J...   \n",
              "4348   [But, the, Honest, Man, explained, that, as, h...   \n",
              "...                                                  ...   \n",
              "30696  [Mourners, and, officials, of, the, Socialist,...   \n",
              "30796  [In, an, interview, broadcast, Sunday, on, U.S...   \n",
              "32287  [Following, its, heyday, as, a, global, mariti...   \n",
              "32874  [Renewed, activity, in, the, mining, sector, ,...   \n",
              "34145  [Two, federal, policemen, walk, past, crosses,...   \n",
              "\n",
              "                                              label_list  \n",
              "600    [O, O, O, O, O, O, B-org, I-org, I-org, I-org,...  \n",
              "635    [O, O, O, O, O, O, O, O, O, O, O, O, O, O, O, ...  \n",
              "803    [O, O, O, O, O, O, O, B-tim, I-tim, I-tim, O, ...  \n",
              "1140   [O, B-org, I-org, I-org, B-per, I-per, I-per, ...  \n",
              "4348   [O, O, O, O, O, O, O, O, O, O, O, O, O, O, O, ...  \n",
              "...                                                  ...  \n",
              "30696  [O, O, O, O, O, B-org, I-org, O, O, B-per, O, ...  \n",
              "30796  [O, O, O, O, B-tim, O, B-geo, O, O, O, B-org, ...  \n",
              "32287  [O, O, O, O, O, O, O, O, O, O, B-tim, I-tim, I...  \n",
              "32874  [O, O, O, O, O, O, O, O, O, O, O, O, O, O, O, ...  \n",
              "34145  [O, O, O, O, O, O, O, O, O, O, O, O, O, O, O, ...  \n",
              "\n",
              "[74 rows x 4 columns]"
            ],
            "text/html": [
              "\n",
              "  <div id=\"df-3fae5f8f-0a1f-4d56-8220-9bd1fddc6003\" class=\"colab-df-container\">\n",
              "    <div>\n",
              "<style scoped>\n",
              "    .dataframe tbody tr th:only-of-type {\n",
              "        vertical-align: middle;\n",
              "    }\n",
              "\n",
              "    .dataframe tbody tr th {\n",
              "        vertical-align: top;\n",
              "    }\n",
              "\n",
              "    .dataframe thead th {\n",
              "        text-align: right;\n",
              "    }\n",
              "</style>\n",
              "<table border=\"1\" class=\"dataframe\">\n",
              "  <thead>\n",
              "    <tr style=\"text-align: right;\">\n",
              "      <th></th>\n",
              "      <th>sentence</th>\n",
              "      <th>labels</th>\n",
              "      <th>tokens</th>\n",
              "      <th>label_list</th>\n",
              "    </tr>\n",
              "  </thead>\n",
              "  <tbody>\n",
              "    <tr>\n",
              "      <th>600</th>\n",
              "      <td>The visit by Assistant Secretary of State for ...</td>\n",
              "      <td>O,O,O,O,O,O,B-org,I-org,I-org,I-org,I-org,I-or...</td>\n",
              "      <td>[The, visit, by, Assistant, Secretary, of, Sta...</td>\n",
              "      <td>[O, O, O, O, O, O, B-org, I-org, I-org, I-org,...</td>\n",
              "    </tr>\n",
              "    <tr>\n",
              "      <th>635</th>\n",
              "      <td>Strong performances in construction and manufa...</td>\n",
              "      <td>O,O,O,O,O,O,O,O,O,O,O,O,O,O,O,O,O,O,O,O,O,O,O,...</td>\n",
              "      <td>[Strong, performances, in, construction, and, ...</td>\n",
              "      <td>[O, O, O, O, O, O, O, O, O, O, O, O, O, O, O, ...</td>\n",
              "    </tr>\n",
              "    <tr>\n",
              "      <th>803</th>\n",
              "      <td>After failing in the Korean War ( 1950 - 53 ) ...</td>\n",
              "      <td>O,O,O,O,O,O,O,B-tim,I-tim,I-tim,O,O,O,O,B-geo,...</td>\n",
              "      <td>[After, failing, in, the, Korean, War, (, 1950...</td>\n",
              "      <td>[O, O, O, O, O, O, O, B-tim, I-tim, I-tim, O, ...</td>\n",
              "    </tr>\n",
              "    <tr>\n",
              "      <th>1140</th>\n",
              "      <td>Former U.S. Marine General John J. \" Jack \" Sh...</td>\n",
              "      <td>O,B-org,I-org,I-org,B-per,I-per,I-per,I-per,I-...</td>\n",
              "      <td>[Former, U.S., Marine, General, John, J., \", J...</td>\n",
              "      <td>[O, B-org, I-org, I-org, B-per, I-per, I-per, ...</td>\n",
              "    </tr>\n",
              "    <tr>\n",
              "      <th>4348</th>\n",
              "      <td>But the Honest Man explained that as he was me...</td>\n",
              "      <td>O,O,O,O,O,O,O,O,O,O,O,O,O,O,O,O,O,O,O,O,O,O,O,...</td>\n",
              "      <td>[But, the, Honest, Man, explained, that, as, h...</td>\n",
              "      <td>[O, O, O, O, O, O, O, O, O, O, O, O, O, O, O, ...</td>\n",
              "    </tr>\n",
              "    <tr>\n",
              "      <th>...</th>\n",
              "      <td>...</td>\n",
              "      <td>...</td>\n",
              "      <td>...</td>\n",
              "      <td>...</td>\n",
              "    </tr>\n",
              "    <tr>\n",
              "      <th>30696</th>\n",
              "      <td>Mourners and officials of the Socialist Party ...</td>\n",
              "      <td>O,O,O,O,O,B-org,I-org,O,O,B-per,O,O,O,O,O,O,O,...</td>\n",
              "      <td>[Mourners, and, officials, of, the, Socialist,...</td>\n",
              "      <td>[O, O, O, O, O, B-org, I-org, O, O, B-per, O, ...</td>\n",
              "    </tr>\n",
              "    <tr>\n",
              "      <th>30796</th>\n",
              "      <td>In an interview broadcast Sunday on U.S. telev...</td>\n",
              "      <td>O,O,O,O,B-tim,O,B-geo,O,O,O,B-org,O,O,O,O,O,B-...</td>\n",
              "      <td>[In, an, interview, broadcast, Sunday, on, U.S...</td>\n",
              "      <td>[O, O, O, O, B-tim, O, B-geo, O, O, O, B-org, ...</td>\n",
              "    </tr>\n",
              "    <tr>\n",
              "      <th>32287</th>\n",
              "      <td>Following its heyday as a global maritime powe...</td>\n",
              "      <td>O,O,O,O,O,O,O,O,O,O,B-tim,I-tim,I-tim,O,O,B-pe...</td>\n",
              "      <td>[Following, its, heyday, as, a, global, mariti...</td>\n",
              "      <td>[O, O, O, O, O, O, O, O, O, O, B-tim, I-tim, I...</td>\n",
              "    </tr>\n",
              "    <tr>\n",
              "      <th>32874</th>\n",
              "      <td>Renewed activity in the mining sector , the so...</td>\n",
              "      <td>O,O,O,O,O,O,O,O,O,O,O,O,O,O,O,B-geo,O,O,O,O,O,...</td>\n",
              "      <td>[Renewed, activity, in, the, mining, sector, ,...</td>\n",
              "      <td>[O, O, O, O, O, O, O, O, O, O, O, O, O, O, O, ...</td>\n",
              "    </tr>\n",
              "    <tr>\n",
              "      <th>34145</th>\n",
              "      <td>Two federal policemen walk past crosses standi...</td>\n",
              "      <td>O,O,O,O,O,O,O,O,O,O,O,O,O,O,O,O,O,B-tim,O,B-ge...</td>\n",
              "      <td>[Two, federal, policemen, walk, past, crosses,...</td>\n",
              "      <td>[O, O, O, O, O, O, O, O, O, O, O, O, O, O, O, ...</td>\n",
              "    </tr>\n",
              "  </tbody>\n",
              "</table>\n",
              "<p>74 rows × 4 columns</p>\n",
              "</div>\n",
              "    <div class=\"colab-df-buttons\">\n",
              "\n",
              "  <div class=\"colab-df-container\">\n",
              "    <button class=\"colab-df-convert\" onclick=\"convertToInteractive('df-3fae5f8f-0a1f-4d56-8220-9bd1fddc6003')\"\n",
              "            title=\"Convert this dataframe to an interactive table.\"\n",
              "            style=\"display:none;\">\n",
              "\n",
              "  <svg xmlns=\"http://www.w3.org/2000/svg\" height=\"24px\" viewBox=\"0 -960 960 960\">\n",
              "    <path d=\"M120-120v-720h720v720H120Zm60-500h600v-160H180v160Zm220 220h160v-160H400v160Zm0 220h160v-160H400v160ZM180-400h160v-160H180v160Zm440 0h160v-160H620v160ZM180-180h160v-160H180v160Zm440 0h160v-160H620v160Z\"/>\n",
              "  </svg>\n",
              "    </button>\n",
              "\n",
              "  <style>\n",
              "    .colab-df-container {\n",
              "      display:flex;\n",
              "      gap: 12px;\n",
              "    }\n",
              "\n",
              "    .colab-df-convert {\n",
              "      background-color: #E8F0FE;\n",
              "      border: none;\n",
              "      border-radius: 50%;\n",
              "      cursor: pointer;\n",
              "      display: none;\n",
              "      fill: #1967D2;\n",
              "      height: 32px;\n",
              "      padding: 0 0 0 0;\n",
              "      width: 32px;\n",
              "    }\n",
              "\n",
              "    .colab-df-convert:hover {\n",
              "      background-color: #E2EBFA;\n",
              "      box-shadow: 0px 1px 2px rgba(60, 64, 67, 0.3), 0px 1px 3px 1px rgba(60, 64, 67, 0.15);\n",
              "      fill: #174EA6;\n",
              "    }\n",
              "\n",
              "    .colab-df-buttons div {\n",
              "      margin-bottom: 4px;\n",
              "    }\n",
              "\n",
              "    [theme=dark] .colab-df-convert {\n",
              "      background-color: #3B4455;\n",
              "      fill: #D2E3FC;\n",
              "    }\n",
              "\n",
              "    [theme=dark] .colab-df-convert:hover {\n",
              "      background-color: #434B5C;\n",
              "      box-shadow: 0px 1px 3px 1px rgba(0, 0, 0, 0.15);\n",
              "      filter: drop-shadow(0px 1px 2px rgba(0, 0, 0, 0.3));\n",
              "      fill: #FFFFFF;\n",
              "    }\n",
              "  </style>\n",
              "\n",
              "    <script>\n",
              "      const buttonEl =\n",
              "        document.querySelector('#df-3fae5f8f-0a1f-4d56-8220-9bd1fddc6003 button.colab-df-convert');\n",
              "      buttonEl.style.display =\n",
              "        google.colab.kernel.accessAllowed ? 'block' : 'none';\n",
              "\n",
              "      async function convertToInteractive(key) {\n",
              "        const element = document.querySelector('#df-3fae5f8f-0a1f-4d56-8220-9bd1fddc6003');\n",
              "        const dataTable =\n",
              "          await google.colab.kernel.invokeFunction('convertToInteractive',\n",
              "                                                    [key], {});\n",
              "        if (!dataTable) return;\n",
              "\n",
              "        const docLinkHtml = 'Like what you see? Visit the ' +\n",
              "          '<a target=\"_blank\" href=https://colab.research.google.com/notebooks/data_table.ipynb>data table notebook</a>'\n",
              "          + ' to learn more about interactive tables.';\n",
              "        element.innerHTML = '';\n",
              "        dataTable['output_type'] = 'display_data';\n",
              "        await google.colab.output.renderOutput(dataTable, element);\n",
              "        const docLink = document.createElement('div');\n",
              "        docLink.innerHTML = docLinkHtml;\n",
              "        element.appendChild(docLink);\n",
              "      }\n",
              "    </script>\n",
              "  </div>\n",
              "\n",
              "\n",
              "    <div id=\"df-952afb4a-ff24-4255-8fb3-f527112139ba\">\n",
              "      <button class=\"colab-df-quickchart\" onclick=\"quickchart('df-952afb4a-ff24-4255-8fb3-f527112139ba')\"\n",
              "                title=\"Suggest charts\"\n",
              "                style=\"display:none;\">\n",
              "\n",
              "<svg xmlns=\"http://www.w3.org/2000/svg\" height=\"24px\"viewBox=\"0 0 24 24\"\n",
              "     width=\"24px\">\n",
              "    <g>\n",
              "        <path d=\"M19 3H5c-1.1 0-2 .9-2 2v14c0 1.1.9 2 2 2h14c1.1 0 2-.9 2-2V5c0-1.1-.9-2-2-2zM9 17H7v-7h2v7zm4 0h-2V7h2v10zm4 0h-2v-4h2v4z\"/>\n",
              "    </g>\n",
              "</svg>\n",
              "      </button>\n",
              "\n",
              "<style>\n",
              "  .colab-df-quickchart {\n",
              "      --bg-color: #E8F0FE;\n",
              "      --fill-color: #1967D2;\n",
              "      --hover-bg-color: #E2EBFA;\n",
              "      --hover-fill-color: #174EA6;\n",
              "      --disabled-fill-color: #AAA;\n",
              "      --disabled-bg-color: #DDD;\n",
              "  }\n",
              "\n",
              "  [theme=dark] .colab-df-quickchart {\n",
              "      --bg-color: #3B4455;\n",
              "      --fill-color: #D2E3FC;\n",
              "      --hover-bg-color: #434B5C;\n",
              "      --hover-fill-color: #FFFFFF;\n",
              "      --disabled-bg-color: #3B4455;\n",
              "      --disabled-fill-color: #666;\n",
              "  }\n",
              "\n",
              "  .colab-df-quickchart {\n",
              "    background-color: var(--bg-color);\n",
              "    border: none;\n",
              "    border-radius: 50%;\n",
              "    cursor: pointer;\n",
              "    display: none;\n",
              "    fill: var(--fill-color);\n",
              "    height: 32px;\n",
              "    padding: 0;\n",
              "    width: 32px;\n",
              "  }\n",
              "\n",
              "  .colab-df-quickchart:hover {\n",
              "    background-color: var(--hover-bg-color);\n",
              "    box-shadow: 0 1px 2px rgba(60, 64, 67, 0.3), 0 1px 3px 1px rgba(60, 64, 67, 0.15);\n",
              "    fill: var(--button-hover-fill-color);\n",
              "  }\n",
              "\n",
              "  .colab-df-quickchart-complete:disabled,\n",
              "  .colab-df-quickchart-complete:disabled:hover {\n",
              "    background-color: var(--disabled-bg-color);\n",
              "    fill: var(--disabled-fill-color);\n",
              "    box-shadow: none;\n",
              "  }\n",
              "\n",
              "  .colab-df-spinner {\n",
              "    border: 2px solid var(--fill-color);\n",
              "    border-color: transparent;\n",
              "    border-bottom-color: var(--fill-color);\n",
              "    animation:\n",
              "      spin 1s steps(1) infinite;\n",
              "  }\n",
              "\n",
              "  @keyframes spin {\n",
              "    0% {\n",
              "      border-color: transparent;\n",
              "      border-bottom-color: var(--fill-color);\n",
              "      border-left-color: var(--fill-color);\n",
              "    }\n",
              "    20% {\n",
              "      border-color: transparent;\n",
              "      border-left-color: var(--fill-color);\n",
              "      border-top-color: var(--fill-color);\n",
              "    }\n",
              "    30% {\n",
              "      border-color: transparent;\n",
              "      border-left-color: var(--fill-color);\n",
              "      border-top-color: var(--fill-color);\n",
              "      border-right-color: var(--fill-color);\n",
              "    }\n",
              "    40% {\n",
              "      border-color: transparent;\n",
              "      border-right-color: var(--fill-color);\n",
              "      border-top-color: var(--fill-color);\n",
              "    }\n",
              "    60% {\n",
              "      border-color: transparent;\n",
              "      border-right-color: var(--fill-color);\n",
              "    }\n",
              "    80% {\n",
              "      border-color: transparent;\n",
              "      border-right-color: var(--fill-color);\n",
              "      border-bottom-color: var(--fill-color);\n",
              "    }\n",
              "    90% {\n",
              "      border-color: transparent;\n",
              "      border-bottom-color: var(--fill-color);\n",
              "    }\n",
              "  }\n",
              "</style>\n",
              "\n",
              "      <script>\n",
              "        async function quickchart(key) {\n",
              "          const quickchartButtonEl =\n",
              "            document.querySelector('#' + key + ' button');\n",
              "          quickchartButtonEl.disabled = true;  // To prevent multiple clicks.\n",
              "          quickchartButtonEl.classList.add('colab-df-spinner');\n",
              "          try {\n",
              "            const charts = await google.colab.kernel.invokeFunction(\n",
              "                'suggestCharts', [key], {});\n",
              "          } catch (error) {\n",
              "            console.error('Error during call to suggestCharts:', error);\n",
              "          }\n",
              "          quickchartButtonEl.classList.remove('colab-df-spinner');\n",
              "          quickchartButtonEl.classList.add('colab-df-quickchart-complete');\n",
              "        }\n",
              "        (() => {\n",
              "          let quickchartButtonEl =\n",
              "            document.querySelector('#df-952afb4a-ff24-4255-8fb3-f527112139ba button');\n",
              "          quickchartButtonEl.style.display =\n",
              "            google.colab.kernel.accessAllowed ? 'block' : 'none';\n",
              "        })();\n",
              "      </script>\n",
              "    </div>\n",
              "\n",
              "    </div>\n",
              "  </div>\n"
            ],
            "application/vnd.google.colaboratory.intrinsic+json": {
              "type": "dataframe",
              "summary": "{\n  \"name\": \"train_df[train_df[\\\"tokens\\\"]\",\n  \"rows\": 74,\n  \"fields\": [\n    {\n      \"column\": \"sentence\",\n      \"properties\": {\n        \"dtype\": \"string\",\n        \"num_unique_values\": 74,\n        \"samples\": [\n          \"But the Honest Man explained that as he was merely the agent of a company of other honest men it was none of his affair ; and when the officers came to serve him with a subpoena he hid himself behind his back and wiled away the dragging hours of retirement and inaction by picking his own pockets .\",\n          \"A Chechen militant website says Shamil Basayev , who is wanted in Russia for leading numerous terrorist attacks , has been named second-in-command of the separatist Chechen government A statement on the kavkazcenter.com web site says Mr. Basayev was named first deputy prime minister and put in charge of the armed forces .\",\n          \"Fisheries in 2006 - 7 landed 1,26,976 metric tons , of which 82 % ( 1,04,586 tons ) was krill ( Euphausia superba ) and 9.5 % ( 12,027 tons ) Patagonian toothfish ( Dissostichus eleginoides - also known as Chilean sea bass ) , compared to 1,27,910 tons in 2005 - 6 of which 83 % ( 1,06,591 tons ) was krill and 9.7 % ( 12,396 tons ) Patagonian toothfish ( estimated fishing from the area covered by the Convention of the Conservation of Antarctic Marine Living Resources ( CCAMLR ) , which extends slightly beyond the Southern Ocean area ) .\"\n        ],\n        \"semantic_type\": \"\",\n        \"description\": \"\"\n      }\n    },\n    {\n      \"column\": \"labels\",\n      \"properties\": {\n        \"dtype\": \"string\",\n        \"num_unique_values\": 71,\n        \"samples\": [\n          \"O,O,O,O,O,O,O,O,O,O,O,O,O,O,O,O,O,O,O,O,B-tim,I-tim,O,O,O,O,O,O,O,O,O,O,O,O,O,O,O,O,O,O,B-tim,I-tim,O,B-per,O,O,O,O,O,O,O,O,O,B-geo,O,O,O,B-geo,I-geo,O\",\n          \"O,O,O,O,O,O,B-org,I-org,I-org,I-org,I-org,I-org,O,O,O,O,B-gpe,B-per,I-per,O,O,O,O,O,O,O,O,O,O,O,O,O,B-per,I-per,O,O,O,O,O,O,O,B-gpe,O,O,O,O,O,O,O,O,O,O\",\n          \"O,O,B-tim,O,O,O,O,B-geo,O,O,B-org,O,O,B-gpe,O,O,O,O,O,O,O,O,O,O,O,O,O,O,O,O,O,O,O,O,O,O,O,O,O,O,O,O,O,O,O,O,O,O,O,O,O,O,O,O,O,O,O,O,O,O,O,O,O,O,O,O\"\n        ],\n        \"semantic_type\": \"\",\n        \"description\": \"\"\n      }\n    },\n    {\n      \"column\": \"tokens\",\n      \"properties\": {\n        \"dtype\": \"object\",\n        \"semantic_type\": \"\",\n        \"description\": \"\"\n      }\n    },\n    {\n      \"column\": \"label_list\",\n      \"properties\": {\n        \"dtype\": \"object\",\n        \"semantic_type\": \"\",\n        \"description\": \"\"\n      }\n    }\n  ]\n}"
            }
          },
          "metadata": {},
          "execution_count": 17
        }
      ],
      "source": [
        "train_df[train_df[\"tokens\"].apply(len) >50]\n",
        "\n"
      ]
    },
    {
      "cell_type": "markdown",
      "metadata": {
        "id": "Y6m4pauoK0yP"
      },
      "source": [
        "### ID tokenization"
      ]
    },
    {
      "cell_type": "markdown",
      "metadata": {
        "id": "VMFKjiXVK0yP"
      },
      "source": [
        "### We can use Text vectorization\n",
        "\n",
        "# Text vectorization consiste of parts:\n",
        "<li>\n",
        "    Standardization\n",
        "</li>\n",
        "<li>\n",
        "    Tokenization\n",
        "</li>\n",
        "<li>\n",
        "    Vocabulary building\n",
        "</li>"
      ]
    },
    {
      "cell_type": "markdown",
      "metadata": {
        "id": "MoGKtnQLK0yP"
      },
      "source": [
        "### Vocabulary"
      ]
    },
    {
      "cell_type": "markdown",
      "metadata": {
        "id": "Rm4o8YIWK0yP"
      },
      "source": [
        "### Necessary dictionaries for encoding and decoding phase"
      ]
    },
    {
      "cell_type": "code",
      "execution_count": 18,
      "metadata": {
        "id": "wvkAUFcyK0yP"
      },
      "outputs": [],
      "source": [
        "\n",
        "label2id = {k:v+1 for v,k in enumerate(all_labels)}\n",
        "id2label = {k+1:v for k,v in enumerate(all_labels)}"
      ]
    },
    {
      "cell_type": "code",
      "execution_count": 19,
      "metadata": {
        "id": "JbRH_lK0K0yP"
      },
      "outputs": [],
      "source": [
        "label2id[\"<PAD>\"] = 0"
      ]
    },
    {
      "cell_type": "code",
      "execution_count": 20,
      "metadata": {
        "colab": {
          "base_uri": "https://localhost:8080/"
        },
        "id": "M7iVfkPLK0yP",
        "outputId": "0121fff2-8d60-4235-dd53-c96a5a9aea73"
      },
      "outputs": [
        {
          "output_type": "execute_result",
          "data": {
            "text/plain": [
              "{'B-geo': 1,\n",
              " 'B-gpe': 2,\n",
              " 'B-org': 3,\n",
              " 'B-per': 4,\n",
              " 'B-tim': 5,\n",
              " 'I-geo': 6,\n",
              " 'I-org': 7,\n",
              " 'I-per': 8,\n",
              " 'I-tim': 9,\n",
              " 'O': 10,\n",
              " '<PAD>': 0}"
            ]
          },
          "metadata": {},
          "execution_count": 20
        }
      ],
      "source": [
        "label2id"
      ]
    },
    {
      "cell_type": "code",
      "execution_count": 21,
      "metadata": {
        "id": "pojKPzHsK0yQ"
      },
      "outputs": [],
      "source": [
        "word_counts = Counter(word for tokens in train_df['tokens'] for word in tokens)\n",
        "word2id = {word: i + 2 for i, word in enumerate(word_counts)} # turn words into unique ids (+2) because give 0,1 to UNK and PAD"
      ]
    },
    {
      "cell_type": "code",
      "execution_count": 22,
      "metadata": {
        "id": "UySpmf_aK0yQ"
      },
      "outputs": [],
      "source": [
        "id2word = {i+2:word for i,word in enumerate(word_counts)}\n"
      ]
    },
    {
      "cell_type": "markdown",
      "metadata": {
        "id": "R0GEuz0iK0yQ"
      },
      "source": [
        "### Add '<PAD>' to use when padding and '<UNK>' in the case where there are unknown entities"
      ]
    },
    {
      "cell_type": "code",
      "execution_count": 23,
      "metadata": {
        "id": "_ACG885JK0yQ"
      },
      "outputs": [],
      "source": [
        "word2id['<PAD>'] = 0\n",
        "word2id['<UNK>'] = 1"
      ]
    },
    {
      "cell_type": "code",
      "execution_count": null,
      "metadata": {
        "id": "hlKmvO56K0yQ",
        "outputId": "5237ed19-7038-4548-980c-77ea975d6848"
      },
      "outputs": [
        {
          "data": {
            "text/plain": [
              "1"
            ]
          },
          "execution_count": 30,
          "metadata": {},
          "output_type": "execute_result"
        }
      ],
      "source": [
        "fallback = '<UNK>'\n",
        "fallback_id = word2id.get('B-gpe', list(label2id.values())[0])  ## get idea of a word\n",
        "\n",
        "fallback_id"
      ]
    },
    {
      "cell_type": "code",
      "execution_count": null,
      "metadata": {
        "id": "rz4gvSzDK0yQ",
        "outputId": "a76d5043-3cbe-4ab2-bfb4-933a4339bb01"
      },
      "outputs": [
        {
          "data": {
            "text/plain": [
              "0"
            ]
          },
          "execution_count": 31,
          "metadata": {},
          "output_type": "execute_result"
        }
      ],
      "source": [
        "pad_token = '<PAD>'\n",
        "pad_id = label2id.get(pad_token, list(label2id.values())[0])\n",
        "pad_id"
      ]
    },
    {
      "cell_type": "code",
      "execution_count": 24,
      "metadata": {
        "id": "DhQhoJ5OK0yQ"
      },
      "outputs": [],
      "source": [
        "MAX_LEN = 40\n",
        "\n",
        "def encode(tokens, vocab, pad_len=40, fallback='<UNK>', pad_token='<PAD>'):\n",
        "    \"\"\"\n",
        "    Encodes a list of tokens using a vocabulary.\n",
        "\n",
        "    - tokens: List[str] → tokens or labels (e.g., words or NER tags)\n",
        "    - vocab: dict → maps token to index\n",
        "    - pad_len: int → fixed output length (pad or truncate)\n",
        "    - fallback: str → token to use if one isn't found (only relevant for input)\n",
        "    - pad_token: str → token to use for padding\n",
        "\n",
        "    Returns: List[int] of length `pad_len`\n",
        "    \"\"\"\n",
        "    fallback_id = vocab.get(fallback, 0)     # Use <UNK> if token not found\n",
        "    pad_id = vocab.get(pad_token, 0)         # Use <PAD> for padding\n",
        "\n",
        "    # Map each token to its ID\n",
        "    ids = [vocab.get(tok, fallback_id) for tok in tokens]\n",
        "\n",
        "    # Truncate or pad to fixed length\n",
        "    if len(ids) > pad_len:\n",
        "        return ids[:pad_len]\n",
        "    else:\n",
        "        return ids + [pad_id] * (pad_len - len(ids))\n"
      ]
    },
    {
      "cell_type": "code",
      "execution_count": 25,
      "metadata": {
        "id": "GCD9d3ZpK0yQ"
      },
      "outputs": [],
      "source": [
        "X = np.array([encode(tokens, word2id, fallback='<UNK>', pad_token='<PAD>') for tokens in train_df['tokens']])\n",
        "y = np.array([encode(labels, label2id, fallback='O', pad_token= '<PAD>') for labels in train_df['label_list']])\n",
        "vocab_size = len(word2id)\n",
        "label_size = len(label2id)\n"
      ]
    },
    {
      "cell_type": "code",
      "execution_count": 26,
      "metadata": {
        "colab": {
          "base_uri": "https://localhost:8080/"
        },
        "id": "Qpav1VYBK0yQ",
        "outputId": "2ad33dcd-db25-438d-cf34-7f4e4345b96e"
      },
      "outputs": [
        {
          "output_type": "execute_result",
          "data": {
            "text/plain": [
              "array([ 2,  3,  4,  5,  6,  7,  8,  9,  7, 10, 11, 12, 13, 14, 15, 16, 17,\n",
              "       18, 19, 20, 21, 22, 18, 23, 18, 24,  7, 25, 26, 18,  0,  0,  0,  0,\n",
              "        0,  0,  0,  0,  0,  0])"
            ]
          },
          "metadata": {},
          "execution_count": 26
        }
      ],
      "source": [
        "X[0]"
      ]
    },
    {
      "cell_type": "code",
      "execution_count": 27,
      "metadata": {
        "colab": {
          "base_uri": "https://localhost:8080/"
        },
        "id": "usqPS-ayK0yQ",
        "outputId": "9efaa61b-d7b9-43e0-add7-19e48dd25361"
      },
      "outputs": [
        {
          "output_type": "stream",
          "name": "stdout",
          "text": [
            "Sentence : ['The', 'party', 'is', 'divided', 'over', 'Britain', \"'s\", 'participation', 'in', 'the', 'Iraq', 'conflict', 'and', 'the', 'continued', 'deployment', 'of', '8,500', 'British', 'troops', 'in', 'that', 'country', '.'] with length 24\n",
            " encoded sentence : [39, 40, 41, 42, 43, 44, 45, 46, 6, 7, 47, 8, 23, 7, 48, 49, 3, 50, 51, 52, 6, 53, 54, 26, 0, 0, 0, 0, 0, 0, 0, 0, 0, 0, 0, 0, 0, 0, 0, 0] with length 40\n",
            "\n",
            "Label : ['O', 'O', 'O', 'O', 'O', 'B-gpe', 'O', 'O', 'O', 'O', 'B-geo', 'O', 'O', 'O', 'O', 'O', 'O', 'O', 'B-gpe', 'O', 'O', 'O', 'O', 'O'] with length 24\n",
            " encoded label : [10, 10, 10, 10, 10, 2, 10, 10, 10, 10, 1, 10, 10, 10, 10, 10, 10, 10, 2, 10, 10, 10, 10, 10, 0, 0, 0, 0, 0, 0, 0, 0, 0, 0, 0, 0, 0, 0, 0, 0] with length 40\n"
          ]
        }
      ],
      "source": [
        "## Example:\n",
        "sentence = train_df['tokens'][2]\n",
        "label    = train_df['label_list'][2]\n",
        "encoded_sentence = encode(sentence,word2id,fallback= '<UNK>', pad_token = '<PAD>')\n",
        "encoded_label  = encode(label, label2id, fallback = 'O', pad_token = '<PAD>')\n",
        "print(f\"Sentence : {sentence} with length {len(sentence)}\\n\",\n",
        "       f\"encoded sentence : {encoded_sentence} with length {len(encoded_sentence)}\\n\")\n",
        "\n",
        "print(f\"Label : {label} with length {len(label)}\\n\",\n",
        "       f\"encoded label : {encoded_label} with length {len(encoded_label)}\")"
      ]
    },
    {
      "cell_type": "code",
      "execution_count": 28,
      "metadata": {
        "colab": {
          "base_uri": "https://localhost:8080/"
        },
        "id": "JTXJ_quVK0yR",
        "outputId": "150c56b2-d8b6-4fa9-cf46-d890ce23cbd8"
      },
      "outputs": [
        {
          "output_type": "execute_result",
          "data": {
            "text/plain": [
              "['The',\n",
              " 'party',\n",
              " 'is',\n",
              " 'divided',\n",
              " 'over',\n",
              " 'Britain',\n",
              " \"'s\",\n",
              " 'participation',\n",
              " 'in',\n",
              " 'the',\n",
              " 'Iraq',\n",
              " 'conflict',\n",
              " 'and',\n",
              " 'the',\n",
              " 'continued',\n",
              " 'deployment',\n",
              " 'of',\n",
              " '8,500',\n",
              " 'British',\n",
              " 'troops',\n",
              " 'in',\n",
              " 'that',\n",
              " 'country',\n",
              " '.',\n",
              " '<PAD>',\n",
              " '<PAD>',\n",
              " '<PAD>',\n",
              " '<PAD>',\n",
              " '<PAD>',\n",
              " '<PAD>',\n",
              " '<PAD>',\n",
              " '<PAD>',\n",
              " '<PAD>',\n",
              " '<PAD>',\n",
              " '<PAD>',\n",
              " '<PAD>',\n",
              " '<PAD>',\n",
              " '<PAD>',\n",
              " '<PAD>',\n",
              " '<PAD>']"
            ]
          },
          "metadata": {},
          "execution_count": 28
        }
      ],
      "source": [
        "\n",
        "id2word = {v:k for k,v in word2id.items()}\n",
        "# Decode the sentence\n",
        "decoded_sentence = [id2word.get(word_id, '<UNK>') for word_id in encoded_sentence]\n",
        "decoded_sentence"
      ]
    },
    {
      "cell_type": "code",
      "execution_count": 29,
      "metadata": {
        "colab": {
          "base_uri": "https://localhost:8080/"
        },
        "id": "RVJGY020K0yR",
        "outputId": "4a458045-8513-4dbc-d96d-c90f040d79f8"
      },
      "outputs": [
        {
          "output_type": "execute_result",
          "data": {
            "text/plain": [
              "['The',\n",
              " 'party',\n",
              " 'is',\n",
              " 'divided',\n",
              " 'over',\n",
              " 'B-gpe',\n",
              " \"'s\",\n",
              " 'participation',\n",
              " 'in',\n",
              " 'the',\n",
              " 'B-geo',\n",
              " 'conflict',\n",
              " 'and',\n",
              " 'the',\n",
              " 'continued',\n",
              " 'deployment',\n",
              " 'of',\n",
              " '8,500',\n",
              " 'B-gpe',\n",
              " 'troops',\n",
              " 'in',\n",
              " 'that',\n",
              " 'country',\n",
              " '.']"
            ]
          },
          "metadata": {},
          "execution_count": 29
        }
      ],
      "source": [
        "## Convert to sentence with masked entity\n",
        "sentence_masked = []\n",
        "for index, lab in enumerate(label):\n",
        "    if lab == 'O':\n",
        "        sentence_masked.append(sentence[index])\n",
        "    else:\n",
        "        sentence_masked.append(label[index])\n",
        "sentence_masked"
      ]
    },
    {
      "cell_type": "code",
      "execution_count": 30,
      "metadata": {
        "colab": {
          "base_uri": "https://localhost:8080/"
        },
        "id": "UZI4K4AXK0yR",
        "outputId": "f2c25eb1-2b33-4226-c56d-374bd4522fd4"
      },
      "outputs": [
        {
          "output_type": "stream",
          "name": "stdout",
          "text": [
            "X shape: (34279, 40), y shape: (34279, 40)\n"
          ]
        }
      ],
      "source": [
        "print(f\"X shape: {X.shape}, y shape: {y.shape}\")"
      ]
    },
    {
      "cell_type": "code",
      "execution_count": 31,
      "metadata": {
        "colab": {
          "base_uri": "https://localhost:8080/"
        },
        "id": "vrZ5bat5K0yR",
        "outputId": "e256c89a-e038-4c68-e996-678bf7cb9030"
      },
      "outputs": [
        {
          "output_type": "execute_result",
          "data": {
            "text/plain": [
              "(30523, 11)"
            ]
          },
          "metadata": {},
          "execution_count": 31
        }
      ],
      "source": [
        "vocab_size,label_size"
      ]
    },
    {
      "cell_type": "code",
      "execution_count": 32,
      "metadata": {
        "colab": {
          "base_uri": "https://localhost:8080/",
          "height": 419
        },
        "id": "gn_ogqkvK0yR",
        "outputId": "f3d5eae0-07f6-43ea-c301-ef12e1af609c"
      },
      "outputs": [
        {
          "output_type": "execute_result",
          "data": {
            "text/plain": [
              "                                               sentence  \\\n",
              "0     They marched from the Houses of Parliament to ...   \n",
              "1     The International Atomic Energy Agency is to h...   \n",
              "2     The European Union , with U.S. backing , has t...   \n",
              "3     Militant groups frequently attack oil operatio...   \n",
              "4     The attacks occurred after the government said...   \n",
              "...                                                 ...   \n",
              "3803  Aircraft also struck a building allegedly used...   \n",
              "3804  One Hamas militant was reported killed and two...   \n",
              "3805  Media reports say Ford will cut 25,000 or more...   \n",
              "3806  The powerful Muslim Brotherhood Movement based...   \n",
              "3807  The United Nations and African Union are in th...   \n",
              "\n",
              "                                                 labels  \n",
              "0                   O,O,O,O,O,O,O,O,O,O,O,B-geo,I-geo,O  \n",
              "1     O,B-org,I-org,I-org,I-org,O,O,O,O,O,O,O,O,B-ge...  \n",
              "2     O,B-org,I-org,O,O,B-gpe,O,O,O,O,O,O,B-gpe,O,O,...  \n",
              "3     O,O,O,O,O,O,O,O,B-geo,I-geo,O,O,O,O,O,O,O,O,O,...  \n",
              "4     O,O,O,O,O,O,O,O,O,O,O,O,O,O,O,O,O,O,O,O,B-gpe,...  \n",
              "...                                                 ...  \n",
              "3803                      B-org,O,O,O,O,O,O,O,O,O,O,O,O  \n",
              "3804                        O,B-org,O,O,O,O,O,O,O,O,O,O  \n",
              "3805  O,O,O,B-org,O,O,O,O,O,O,O,O,O,B-tim,I-tim,I-ti...  \n",
              "3806  O,O,B-org,I-org,I-org,O,O,O,O,O,O,O,O,O,O,O,O,...  \n",
              "3807  O,B-org,I-org,I-org,I-org,I-org,O,O,O,O,O,O,O,...  \n",
              "\n",
              "[3808 rows x 2 columns]"
            ],
            "text/html": [
              "\n",
              "  <div id=\"df-b8343666-af41-4a40-8f98-99da93e1cc05\" class=\"colab-df-container\">\n",
              "    <div>\n",
              "<style scoped>\n",
              "    .dataframe tbody tr th:only-of-type {\n",
              "        vertical-align: middle;\n",
              "    }\n",
              "\n",
              "    .dataframe tbody tr th {\n",
              "        vertical-align: top;\n",
              "    }\n",
              "\n",
              "    .dataframe thead th {\n",
              "        text-align: right;\n",
              "    }\n",
              "</style>\n",
              "<table border=\"1\" class=\"dataframe\">\n",
              "  <thead>\n",
              "    <tr style=\"text-align: right;\">\n",
              "      <th></th>\n",
              "      <th>sentence</th>\n",
              "      <th>labels</th>\n",
              "    </tr>\n",
              "  </thead>\n",
              "  <tbody>\n",
              "    <tr>\n",
              "      <th>0</th>\n",
              "      <td>They marched from the Houses of Parliament to ...</td>\n",
              "      <td>O,O,O,O,O,O,O,O,O,O,O,B-geo,I-geo,O</td>\n",
              "    </tr>\n",
              "    <tr>\n",
              "      <th>1</th>\n",
              "      <td>The International Atomic Energy Agency is to h...</td>\n",
              "      <td>O,B-org,I-org,I-org,I-org,O,O,O,O,O,O,O,O,B-ge...</td>\n",
              "    </tr>\n",
              "    <tr>\n",
              "      <th>2</th>\n",
              "      <td>The European Union , with U.S. backing , has t...</td>\n",
              "      <td>O,B-org,I-org,O,O,B-gpe,O,O,O,O,O,O,B-gpe,O,O,...</td>\n",
              "    </tr>\n",
              "    <tr>\n",
              "      <th>3</th>\n",
              "      <td>Militant groups frequently attack oil operatio...</td>\n",
              "      <td>O,O,O,O,O,O,O,O,B-geo,I-geo,O,O,O,O,O,O,O,O,O,...</td>\n",
              "    </tr>\n",
              "    <tr>\n",
              "      <th>4</th>\n",
              "      <td>The attacks occurred after the government said...</td>\n",
              "      <td>O,O,O,O,O,O,O,O,O,O,O,O,O,O,O,O,O,O,O,O,B-gpe,...</td>\n",
              "    </tr>\n",
              "    <tr>\n",
              "      <th>...</th>\n",
              "      <td>...</td>\n",
              "      <td>...</td>\n",
              "    </tr>\n",
              "    <tr>\n",
              "      <th>3803</th>\n",
              "      <td>Aircraft also struck a building allegedly used...</td>\n",
              "      <td>B-org,O,O,O,O,O,O,O,O,O,O,O,O</td>\n",
              "    </tr>\n",
              "    <tr>\n",
              "      <th>3804</th>\n",
              "      <td>One Hamas militant was reported killed and two...</td>\n",
              "      <td>O,B-org,O,O,O,O,O,O,O,O,O,O</td>\n",
              "    </tr>\n",
              "    <tr>\n",
              "      <th>3805</th>\n",
              "      <td>Media reports say Ford will cut 25,000 or more...</td>\n",
              "      <td>O,O,O,B-org,O,O,O,O,O,O,O,O,O,B-tim,I-tim,I-ti...</td>\n",
              "    </tr>\n",
              "    <tr>\n",
              "      <th>3806</th>\n",
              "      <td>The powerful Muslim Brotherhood Movement based...</td>\n",
              "      <td>O,O,B-org,I-org,I-org,O,O,O,O,O,O,O,O,O,O,O,O,...</td>\n",
              "    </tr>\n",
              "    <tr>\n",
              "      <th>3807</th>\n",
              "      <td>The United Nations and African Union are in th...</td>\n",
              "      <td>O,B-org,I-org,I-org,I-org,I-org,O,O,O,O,O,O,O,...</td>\n",
              "    </tr>\n",
              "  </tbody>\n",
              "</table>\n",
              "<p>3808 rows × 2 columns</p>\n",
              "</div>\n",
              "    <div class=\"colab-df-buttons\">\n",
              "\n",
              "  <div class=\"colab-df-container\">\n",
              "    <button class=\"colab-df-convert\" onclick=\"convertToInteractive('df-b8343666-af41-4a40-8f98-99da93e1cc05')\"\n",
              "            title=\"Convert this dataframe to an interactive table.\"\n",
              "            style=\"display:none;\">\n",
              "\n",
              "  <svg xmlns=\"http://www.w3.org/2000/svg\" height=\"24px\" viewBox=\"0 -960 960 960\">\n",
              "    <path d=\"M120-120v-720h720v720H120Zm60-500h600v-160H180v160Zm220 220h160v-160H400v160Zm0 220h160v-160H400v160ZM180-400h160v-160H180v160Zm440 0h160v-160H620v160ZM180-180h160v-160H180v160Zm440 0h160v-160H620v160Z\"/>\n",
              "  </svg>\n",
              "    </button>\n",
              "\n",
              "  <style>\n",
              "    .colab-df-container {\n",
              "      display:flex;\n",
              "      gap: 12px;\n",
              "    }\n",
              "\n",
              "    .colab-df-convert {\n",
              "      background-color: #E8F0FE;\n",
              "      border: none;\n",
              "      border-radius: 50%;\n",
              "      cursor: pointer;\n",
              "      display: none;\n",
              "      fill: #1967D2;\n",
              "      height: 32px;\n",
              "      padding: 0 0 0 0;\n",
              "      width: 32px;\n",
              "    }\n",
              "\n",
              "    .colab-df-convert:hover {\n",
              "      background-color: #E2EBFA;\n",
              "      box-shadow: 0px 1px 2px rgba(60, 64, 67, 0.3), 0px 1px 3px 1px rgba(60, 64, 67, 0.15);\n",
              "      fill: #174EA6;\n",
              "    }\n",
              "\n",
              "    .colab-df-buttons div {\n",
              "      margin-bottom: 4px;\n",
              "    }\n",
              "\n",
              "    [theme=dark] .colab-df-convert {\n",
              "      background-color: #3B4455;\n",
              "      fill: #D2E3FC;\n",
              "    }\n",
              "\n",
              "    [theme=dark] .colab-df-convert:hover {\n",
              "      background-color: #434B5C;\n",
              "      box-shadow: 0px 1px 3px 1px rgba(0, 0, 0, 0.15);\n",
              "      filter: drop-shadow(0px 1px 2px rgba(0, 0, 0, 0.3));\n",
              "      fill: #FFFFFF;\n",
              "    }\n",
              "  </style>\n",
              "\n",
              "    <script>\n",
              "      const buttonEl =\n",
              "        document.querySelector('#df-b8343666-af41-4a40-8f98-99da93e1cc05 button.colab-df-convert');\n",
              "      buttonEl.style.display =\n",
              "        google.colab.kernel.accessAllowed ? 'block' : 'none';\n",
              "\n",
              "      async function convertToInteractive(key) {\n",
              "        const element = document.querySelector('#df-b8343666-af41-4a40-8f98-99da93e1cc05');\n",
              "        const dataTable =\n",
              "          await google.colab.kernel.invokeFunction('convertToInteractive',\n",
              "                                                    [key], {});\n",
              "        if (!dataTable) return;\n",
              "\n",
              "        const docLinkHtml = 'Like what you see? Visit the ' +\n",
              "          '<a target=\"_blank\" href=https://colab.research.google.com/notebooks/data_table.ipynb>data table notebook</a>'\n",
              "          + ' to learn more about interactive tables.';\n",
              "        element.innerHTML = '';\n",
              "        dataTable['output_type'] = 'display_data';\n",
              "        await google.colab.output.renderOutput(dataTable, element);\n",
              "        const docLink = document.createElement('div');\n",
              "        docLink.innerHTML = docLinkHtml;\n",
              "        element.appendChild(docLink);\n",
              "      }\n",
              "    </script>\n",
              "  </div>\n",
              "\n",
              "\n",
              "    <div id=\"df-3de1e436-4039-4da9-9006-8b91d55db987\">\n",
              "      <button class=\"colab-df-quickchart\" onclick=\"quickchart('df-3de1e436-4039-4da9-9006-8b91d55db987')\"\n",
              "                title=\"Suggest charts\"\n",
              "                style=\"display:none;\">\n",
              "\n",
              "<svg xmlns=\"http://www.w3.org/2000/svg\" height=\"24px\"viewBox=\"0 0 24 24\"\n",
              "     width=\"24px\">\n",
              "    <g>\n",
              "        <path d=\"M19 3H5c-1.1 0-2 .9-2 2v14c0 1.1.9 2 2 2h14c1.1 0 2-.9 2-2V5c0-1.1-.9-2-2-2zM9 17H7v-7h2v7zm4 0h-2V7h2v10zm4 0h-2v-4h2v4z\"/>\n",
              "    </g>\n",
              "</svg>\n",
              "      </button>\n",
              "\n",
              "<style>\n",
              "  .colab-df-quickchart {\n",
              "      --bg-color: #E8F0FE;\n",
              "      --fill-color: #1967D2;\n",
              "      --hover-bg-color: #E2EBFA;\n",
              "      --hover-fill-color: #174EA6;\n",
              "      --disabled-fill-color: #AAA;\n",
              "      --disabled-bg-color: #DDD;\n",
              "  }\n",
              "\n",
              "  [theme=dark] .colab-df-quickchart {\n",
              "      --bg-color: #3B4455;\n",
              "      --fill-color: #D2E3FC;\n",
              "      --hover-bg-color: #434B5C;\n",
              "      --hover-fill-color: #FFFFFF;\n",
              "      --disabled-bg-color: #3B4455;\n",
              "      --disabled-fill-color: #666;\n",
              "  }\n",
              "\n",
              "  .colab-df-quickchart {\n",
              "    background-color: var(--bg-color);\n",
              "    border: none;\n",
              "    border-radius: 50%;\n",
              "    cursor: pointer;\n",
              "    display: none;\n",
              "    fill: var(--fill-color);\n",
              "    height: 32px;\n",
              "    padding: 0;\n",
              "    width: 32px;\n",
              "  }\n",
              "\n",
              "  .colab-df-quickchart:hover {\n",
              "    background-color: var(--hover-bg-color);\n",
              "    box-shadow: 0 1px 2px rgba(60, 64, 67, 0.3), 0 1px 3px 1px rgba(60, 64, 67, 0.15);\n",
              "    fill: var(--button-hover-fill-color);\n",
              "  }\n",
              "\n",
              "  .colab-df-quickchart-complete:disabled,\n",
              "  .colab-df-quickchart-complete:disabled:hover {\n",
              "    background-color: var(--disabled-bg-color);\n",
              "    fill: var(--disabled-fill-color);\n",
              "    box-shadow: none;\n",
              "  }\n",
              "\n",
              "  .colab-df-spinner {\n",
              "    border: 2px solid var(--fill-color);\n",
              "    border-color: transparent;\n",
              "    border-bottom-color: var(--fill-color);\n",
              "    animation:\n",
              "      spin 1s steps(1) infinite;\n",
              "  }\n",
              "\n",
              "  @keyframes spin {\n",
              "    0% {\n",
              "      border-color: transparent;\n",
              "      border-bottom-color: var(--fill-color);\n",
              "      border-left-color: var(--fill-color);\n",
              "    }\n",
              "    20% {\n",
              "      border-color: transparent;\n",
              "      border-left-color: var(--fill-color);\n",
              "      border-top-color: var(--fill-color);\n",
              "    }\n",
              "    30% {\n",
              "      border-color: transparent;\n",
              "      border-left-color: var(--fill-color);\n",
              "      border-top-color: var(--fill-color);\n",
              "      border-right-color: var(--fill-color);\n",
              "    }\n",
              "    40% {\n",
              "      border-color: transparent;\n",
              "      border-right-color: var(--fill-color);\n",
              "      border-top-color: var(--fill-color);\n",
              "    }\n",
              "    60% {\n",
              "      border-color: transparent;\n",
              "      border-right-color: var(--fill-color);\n",
              "    }\n",
              "    80% {\n",
              "      border-color: transparent;\n",
              "      border-right-color: var(--fill-color);\n",
              "      border-bottom-color: var(--fill-color);\n",
              "    }\n",
              "    90% {\n",
              "      border-color: transparent;\n",
              "      border-bottom-color: var(--fill-color);\n",
              "    }\n",
              "  }\n",
              "</style>\n",
              "\n",
              "      <script>\n",
              "        async function quickchart(key) {\n",
              "          const quickchartButtonEl =\n",
              "            document.querySelector('#' + key + ' button');\n",
              "          quickchartButtonEl.disabled = true;  // To prevent multiple clicks.\n",
              "          quickchartButtonEl.classList.add('colab-df-spinner');\n",
              "          try {\n",
              "            const charts = await google.colab.kernel.invokeFunction(\n",
              "                'suggestCharts', [key], {});\n",
              "          } catch (error) {\n",
              "            console.error('Error during call to suggestCharts:', error);\n",
              "          }\n",
              "          quickchartButtonEl.classList.remove('colab-df-spinner');\n",
              "          quickchartButtonEl.classList.add('colab-df-quickchart-complete');\n",
              "        }\n",
              "        (() => {\n",
              "          let quickchartButtonEl =\n",
              "            document.querySelector('#df-3de1e436-4039-4da9-9006-8b91d55db987 button');\n",
              "          quickchartButtonEl.style.display =\n",
              "            google.colab.kernel.accessAllowed ? 'block' : 'none';\n",
              "        })();\n",
              "      </script>\n",
              "    </div>\n",
              "\n",
              "  <div id=\"id_bd7ea821-efaa-4977-9011-dbefd8dc8c0f\">\n",
              "    <style>\n",
              "      .colab-df-generate {\n",
              "        background-color: #E8F0FE;\n",
              "        border: none;\n",
              "        border-radius: 50%;\n",
              "        cursor: pointer;\n",
              "        display: none;\n",
              "        fill: #1967D2;\n",
              "        height: 32px;\n",
              "        padding: 0 0 0 0;\n",
              "        width: 32px;\n",
              "      }\n",
              "\n",
              "      .colab-df-generate:hover {\n",
              "        background-color: #E2EBFA;\n",
              "        box-shadow: 0px 1px 2px rgba(60, 64, 67, 0.3), 0px 1px 3px 1px rgba(60, 64, 67, 0.15);\n",
              "        fill: #174EA6;\n",
              "      }\n",
              "\n",
              "      [theme=dark] .colab-df-generate {\n",
              "        background-color: #3B4455;\n",
              "        fill: #D2E3FC;\n",
              "      }\n",
              "\n",
              "      [theme=dark] .colab-df-generate:hover {\n",
              "        background-color: #434B5C;\n",
              "        box-shadow: 0px 1px 3px 1px rgba(0, 0, 0, 0.15);\n",
              "        filter: drop-shadow(0px 1px 2px rgba(0, 0, 0, 0.3));\n",
              "        fill: #FFFFFF;\n",
              "      }\n",
              "    </style>\n",
              "    <button class=\"colab-df-generate\" onclick=\"generateWithVariable('valid_df')\"\n",
              "            title=\"Generate code using this dataframe.\"\n",
              "            style=\"display:none;\">\n",
              "\n",
              "  <svg xmlns=\"http://www.w3.org/2000/svg\" height=\"24px\"viewBox=\"0 0 24 24\"\n",
              "       width=\"24px\">\n",
              "    <path d=\"M7,19H8.4L18.45,9,17,7.55,7,17.6ZM5,21V16.75L18.45,3.32a2,2,0,0,1,2.83,0l1.4,1.43a1.91,1.91,0,0,1,.58,1.4,1.91,1.91,0,0,1-.58,1.4L9.25,21ZM18.45,9,17,7.55Zm-12,3A5.31,5.31,0,0,0,4.9,8.1,5.31,5.31,0,0,0,1,6.5,5.31,5.31,0,0,0,4.9,4.9,5.31,5.31,0,0,0,6.5,1,5.31,5.31,0,0,0,8.1,4.9,5.31,5.31,0,0,0,12,6.5,5.46,5.46,0,0,0,6.5,12Z\"/>\n",
              "  </svg>\n",
              "    </button>\n",
              "    <script>\n",
              "      (() => {\n",
              "      const buttonEl =\n",
              "        document.querySelector('#id_bd7ea821-efaa-4977-9011-dbefd8dc8c0f button.colab-df-generate');\n",
              "      buttonEl.style.display =\n",
              "        google.colab.kernel.accessAllowed ? 'block' : 'none';\n",
              "\n",
              "      buttonEl.onclick = () => {\n",
              "        google.colab.notebook.generateWithVariable('valid_df');\n",
              "      }\n",
              "      })();\n",
              "    </script>\n",
              "  </div>\n",
              "\n",
              "    </div>\n",
              "  </div>\n"
            ],
            "application/vnd.google.colaboratory.intrinsic+json": {
              "type": "dataframe",
              "variable_name": "valid_df",
              "summary": "{\n  \"name\": \"valid_df\",\n  \"rows\": 3808,\n  \"fields\": [\n    {\n      \"column\": \"sentence\",\n      \"properties\": {\n        \"dtype\": \"string\",\n        \"num_unique_values\": 3808,\n        \"samples\": [\n          \"No timetable was given .\",\n          \"Iraqi officials say former dictator Saddam Hussein will go on trial in the second half of October , so as not to affect the outcome of a national referendum on the constitution to be held October 15 .\",\n          \"He says anyone who believes withdrawing from Iraq will strengthen the West \\\" has taken leave of their senses \\\" .\"\n        ],\n        \"semantic_type\": \"\",\n        \"description\": \"\"\n      }\n    },\n    {\n      \"column\": \"labels\",\n      \"properties\": {\n        \"dtype\": \"string\",\n        \"num_unique_values\": 3110,\n        \"samples\": [\n          \"O,O,O,O,O,B-geo,O,O,O,O,O,B-gpe,O,B-tim,O,O,O,O,O,O,O,O,O,O,B-geo,I-geo,O,O,O,O,O,O,O,O,O,O,O,O,B-geo,O\",\n          \"B-geo,O,O,O,O,O,O,O,O,O,B-tim,O,O,O,O,O,B-geo,O,O,O,O,O\",\n          \"O,O,O,O,O,O,O,O,O,B-geo,O,O\"\n        ],\n        \"semantic_type\": \"\",\n        \"description\": \"\"\n      }\n    }\n  ]\n}"
            }
          },
          "metadata": {},
          "execution_count": 32
        }
      ],
      "source": [
        "valid_df"
      ]
    },
    {
      "cell_type": "code",
      "execution_count": 33,
      "metadata": {
        "id": "41q1TVqZK0yR"
      },
      "outputs": [],
      "source": [
        "# Tokenize sentences and split labels\n",
        "for df in [valid_df, test_df]:\n",
        "    df['tokens'] = df['sentence'].apply(lambda x: x.strip().split())\n",
        "    df['label_list'] = df['labels'].apply(lambda x: x.strip().split(','))\n",
        "X_valid = np.array([\n",
        "    encode(tokens, word2id, fallback='<UNK>', pad_token='<PAD>')\n",
        "    for tokens in valid_df['tokens']\n",
        "])\n",
        "\n",
        "y_valid = np.array([\n",
        "    encode(labels, label2id, fallback='O', pad_token='O')\n",
        "    for labels in valid_df['label_list']\n",
        "])\n",
        "X_test = np.array([\n",
        "    encode(tokens, word2id, fallback='<UNK>', pad_token='<PAD>')\n",
        "    for tokens in test_df['tokens']\n",
        "])\n",
        "y_test = np.array([\n",
        "    encode(labels, label2id, fallback='O', pad_token='O')\n",
        "    for labels in test_df['label_list']\n",
        "])\n"
      ]
    },
    {
      "cell_type": "code",
      "execution_count": 34,
      "metadata": {
        "colab": {
          "base_uri": "https://localhost:8080/"
        },
        "id": "kF_3RGJeK0yR",
        "outputId": "2a8099be-b378-4c31-db13-4529c715270e"
      },
      "outputs": [
        {
          "output_type": "stream",
          "name": "stdout",
          "text": [
            "Shape of Training Data (X, y): (34279, 40), (34279, 40)\n",
            "Shape of Validation Data (X_valid, y_valid): (3808, 40), (3808, 40)\n",
            "Shape of Test Data (X_test, y_test): (9520, 40), (9520, 40)\n"
          ]
        }
      ],
      "source": [
        "print(f\"Shape of Training Data (X, y): {X.shape}, {y.shape}\")\n",
        "print(f\"Shape of Validation Data (X_valid, y_valid): {X_valid.shape}, {y_valid.shape}\")\n",
        "print(f\"Shape of Test Data (X_test, y_test): {X_test.shape}, {y_test.shape}\")"
      ]
    },
    {
      "cell_type": "code",
      "execution_count": 35,
      "metadata": {
        "id": "WOOL68mAK0yR"
      },
      "outputs": [],
      "source": [
        "X = torch.from_numpy(X)\n",
        "y = torch.from_numpy(y)\n",
        "X_valid = torch.from_numpy(X_valid)\n",
        "y_valid = torch.from_numpy(y_valid)\n",
        "X_test = torch.from_numpy(X_test)\n",
        "y_test = torch.from_numpy(y_test)"
      ]
    },
    {
      "cell_type": "code",
      "execution_count": 36,
      "metadata": {
        "colab": {
          "base_uri": "https://localhost:8080/"
        },
        "id": "WmX2GD2oK0yR",
        "outputId": "455c363f-a9e7-4a06-f3dd-bf71c1b72565"
      },
      "outputs": [
        {
          "output_type": "execute_result",
          "data": {
            "text/plain": [
              "torch.Size([34279, 40])"
            ]
          },
          "metadata": {},
          "execution_count": 36
        }
      ],
      "source": [
        "X.shape"
      ]
    },
    {
      "cell_type": "markdown",
      "metadata": {
        "id": "cpg3ThKjK0yR"
      },
      "source": [
        "### Embedding Layer"
      ]
    },
    {
      "cell_type": "markdown",
      "metadata": {
        "id": "YuCkEkx4K0yR"
      },
      "source": [
        "### Baseline model"
      ]
    },
    {
      "cell_type": "code",
      "execution_count": 37,
      "metadata": {
        "id": "wGmVvKqYK0yR"
      },
      "outputs": [],
      "source": [
        "class NERDataset(Dataset):\n",
        "    def __init__(self,X_tensor,y_tensor,lengths):\n",
        "        self.X = X_tensor\n",
        "        self.y = y_tensor\n",
        "        self.lengths = lengths\n",
        "        assert len(self.X) == len(self.y) == len(self.lengths), \\\n",
        "            \"X, y and lengths must all have the same number of samples\"\n",
        "\n",
        "    def __len__(self):\n",
        "        return self.X.size(0)\n",
        "    def __getitem__(self,idx):\n",
        "        return torch.tensor(self.X[idx],dtype= torch.long), \\\n",
        "                torch.tensor(self.y[idx], dtype = torch.long),\\\n",
        "                torch.tensor(self.lengths[idx], dtype = torch.long)\n",
        "#pack individual examples into a single batch\n",
        "def collate_fn(batch):\n",
        "    tokens, tags,lengths= zip(*batch)\n",
        "    tokens = torch.stack(tokens)\n",
        "    tags = torch.stack(tags)\n",
        "    lengths = torch.stack(lengths)\n",
        "    return tokens, tags, lengths\n",
        ""
      ]
    },
    {
      "cell_type": "markdown",
      "metadata": {
        "id": "_iCmCeIUK0yR"
      },
      "source": [
        "### For debugging"
      ]
    },
    {
      "cell_type": "code",
      "execution_count": 38,
      "metadata": {
        "id": "06uK9x8-K0yS"
      },
      "outputs": [],
      "source": [
        "from IPython.core.debugger import set_trace\n",
        "import pdb\n",
        "import tqdm"
      ]
    },
    {
      "cell_type": "markdown",
      "metadata": {
        "id": "h9hXT90EK0yS"
      },
      "source": [
        "### Parameters"
      ]
    },
    {
      "cell_type": "code",
      "execution_count": 39,
      "metadata": {
        "id": "WcqT4troK0yS"
      },
      "outputs": [],
      "source": [
        "PAD_IDX = label2id['<PAD>']   # 0\n",
        "VOCAB_SIZE = vocab_size  # 30523\n",
        "TAGSET_SIZE = len(label2id)\n",
        "BATCH_SIZE = 32\n",
        "NUM_EPOCHS = 10\n",
        "learning_rate = 0.001\n",
        "\n",
        "#orignal length sequence:\n"
      ]
    },
    {
      "cell_type": "code",
      "source": [
        "import torch"
      ],
      "metadata": {
        "id": "Qe6FhB1_KN_B"
      },
      "execution_count": 6,
      "outputs": []
    },
    {
      "cell_type": "code",
      "execution_count": 7,
      "metadata": {
        "id": "FN9CGZUSK0yS"
      },
      "outputs": [],
      "source": [
        "class BiLSTMTagger(torch.nn.Module):\n",
        "    def __init__(self,\n",
        "                 tagset_size: int,\n",
        "                 embedding_dim: int = 200,\n",
        "                 hidden_dim: int = 128,\n",
        "                 num_layers: int = 1,\n",
        "                 dropout: float = 0.3,\n",
        "                 pad_idx: int = 0):  #pad_idx = vocab[\"<pad>\"]\n",
        "        super().__init__()  # python 3+ , if python 2+ then , super(BiLSTMTagger,self)\n",
        "\n",
        "        self.embedding = nn.Embedding(VOCAB_SIZE, embedding_dim, padding_idx=pad_idx)\n",
        "        self.lstm = nn.LSTM(\n",
        "            input_size=embedding_dim,\n",
        "            hidden_size=hidden_dim,\n",
        "            num_layers=num_layers,\n",
        "            bidirectional=True,  ## hidden backward + hidden forward (h_tf+ h_tb)  # single then remove 2 ,\n",
        "\n",
        "            batch_first=True,\n",
        "            dropout=dropout if num_layers > 1 else 0.0\n",
        "        )\n",
        "\n",
        "        self.dropout = nn.Dropout(dropout)\n",
        "        # each time step we pass the output of LSTM to a fully connected layer\n",
        "        self.fc = nn.Linear(hidden_dim *2, tagset_size) # tagset_size = 10\n",
        "        self.softmax = nn.Softmax(dim=-1)\n",
        "\n",
        "    def forward(self, x: torch.LongTensor,lengths: torch.LongTensor):\n",
        "        # exercice: put the shape of each layer\n",
        "        emb = self.embedding(x)  # (B,S,E_dim)\n",
        "        # Pack to let LSTM skip the padded tokens\n",
        "        # there are some sequences whose lengths are greater than 40(padding sequence)\n",
        "        lengths = torch.clamp(lengths, max = x.size(1))\n",
        "\n",
        "        packed = pack_padded_sequence(emb, lengths.cpu(), batch_first=True, enforce_sorted=False) #(T_total, Emb) (sum of actual sequence length)\n",
        "        # LSTM\n",
        "        packed_out,_ = self.lstm(packed)  # (T_total,Hidden_dimension*2(2H)) Hidden state for each time step  # Pytorch initialize the initial state to zero\n",
        "        lstm_out,_ = pad_packed_sequence(packed_out, batch_first=True, total_length=x.size(1))  # (B,S,2H) Ignore o, c, etc\n",
        "\n",
        "        out = self.dropout(lstm_out)  #(B,S,2H)\n",
        "        logits = self.fc(out) #(B,S,C)\n",
        "        return logits"
      ]
    },
    {
      "cell_type": "markdown",
      "metadata": {
        "id": "Py00WyyeK0yS"
      },
      "source": [
        "### Batching training data"
      ]
    },
    {
      "cell_type": "code",
      "source": [
        "train_df[\"tokens\"]"
      ],
      "metadata": {
        "collapsed": true,
        "colab": {
          "base_uri": "https://localhost:8080/",
          "height": 453
        },
        "id": "XOx_C94IMse2",
        "outputId": "f5a1f4b2-8305-4659-daf1-c6b28aeb650a"
      },
      "execution_count": 58,
      "outputs": [
        {
          "output_type": "execute_result",
          "data": {
            "text/plain": [
              "0        [Families, of, soldiers, killed, in, the, conf...\n",
              "1        [Police, put, the, number, of, marchers, at, 1...\n",
              "2        [The, party, is, divided, over, Britain, 's, p...\n",
              "3        [Two, Germans, and, four, Nigerian, oil, worke...\n",
              "4        [The, German, firm, works, as, a, sub-contract...\n",
              "                               ...                        \n",
              "34274    [Indian, border, security, forces, are, accusi...\n",
              "34275    [Indian, officials, said, no, one, was, injure...\n",
              "34276    [Two, more, landed, in, fields, belonging, to,...\n",
              "34277    [They, say, not, all, of, the, rockets, explod...\n",
              "34278    [Indian, forces, said, they, responded, to, th...\n",
              "Name: tokens, Length: 34279, dtype: object"
            ],
            "text/html": [
              "<div>\n",
              "<style scoped>\n",
              "    .dataframe tbody tr th:only-of-type {\n",
              "        vertical-align: middle;\n",
              "    }\n",
              "\n",
              "    .dataframe tbody tr th {\n",
              "        vertical-align: top;\n",
              "    }\n",
              "\n",
              "    .dataframe thead th {\n",
              "        text-align: right;\n",
              "    }\n",
              "</style>\n",
              "<table border=\"1\" class=\"dataframe\">\n",
              "  <thead>\n",
              "    <tr style=\"text-align: right;\">\n",
              "      <th></th>\n",
              "      <th>tokens</th>\n",
              "    </tr>\n",
              "  </thead>\n",
              "  <tbody>\n",
              "    <tr>\n",
              "      <th>0</th>\n",
              "      <td>[Families, of, soldiers, killed, in, the, conf...</td>\n",
              "    </tr>\n",
              "    <tr>\n",
              "      <th>1</th>\n",
              "      <td>[Police, put, the, number, of, marchers, at, 1...</td>\n",
              "    </tr>\n",
              "    <tr>\n",
              "      <th>2</th>\n",
              "      <td>[The, party, is, divided, over, Britain, 's, p...</td>\n",
              "    </tr>\n",
              "    <tr>\n",
              "      <th>3</th>\n",
              "      <td>[Two, Germans, and, four, Nigerian, oil, worke...</td>\n",
              "    </tr>\n",
              "    <tr>\n",
              "      <th>4</th>\n",
              "      <td>[The, German, firm, works, as, a, sub-contract...</td>\n",
              "    </tr>\n",
              "    <tr>\n",
              "      <th>...</th>\n",
              "      <td>...</td>\n",
              "    </tr>\n",
              "    <tr>\n",
              "      <th>34274</th>\n",
              "      <td>[Indian, border, security, forces, are, accusi...</td>\n",
              "    </tr>\n",
              "    <tr>\n",
              "      <th>34275</th>\n",
              "      <td>[Indian, officials, said, no, one, was, injure...</td>\n",
              "    </tr>\n",
              "    <tr>\n",
              "      <th>34276</th>\n",
              "      <td>[Two, more, landed, in, fields, belonging, to,...</td>\n",
              "    </tr>\n",
              "    <tr>\n",
              "      <th>34277</th>\n",
              "      <td>[They, say, not, all, of, the, rockets, explod...</td>\n",
              "    </tr>\n",
              "    <tr>\n",
              "      <th>34278</th>\n",
              "      <td>[Indian, forces, said, they, responded, to, th...</td>\n",
              "    </tr>\n",
              "  </tbody>\n",
              "</table>\n",
              "<p>34279 rows × 1 columns</p>\n",
              "</div><br><label><b>dtype:</b> object</label>"
            ]
          },
          "metadata": {},
          "execution_count": 58
        }
      ]
    },
    {
      "cell_type": "code",
      "execution_count": 41,
      "metadata": {
        "id": "jiXxzahfK0yS"
      },
      "outputs": [],
      "source": [
        "\n",
        "lengths_train = np.array([len(seq) for seq in train_df[\"tokens\"]])\n",
        "lengths_valid = np.array([len(seq) for seq in valid_df[\"tokens\"]])\n",
        "lengths_test = np.array([len(seq) for seq in test_df[\"tokens\"]])\n",
        "dataset_train = NERDataset(X,y,lengths_train)\n",
        "loader_train = DataLoader(dataset_train,\n",
        "                    batch_size = 32,\n",
        "                    shuffle = True,\n",
        "                    collate_fn = collate_fn,\n",
        "                    num_workers =0, # of CPU\n",
        "                    pin_memory = True)  # true if we use GPU\n",
        "\n"
      ]
    },
    {
      "cell_type": "code",
      "execution_count": 42,
      "metadata": {
        "id": "YWC26LGpK0yS"
      },
      "outputs": [],
      "source": [
        "# validation dataset\n",
        "\n",
        "dataset_valid = NERDataset(X_valid,y_valid, lengths_valid)\n",
        "loader_valid = DataLoader(dataset_valid,\n",
        "                    batch_size = 32,\n",
        "                    shuffle = True,\n",
        "                    collate_fn = collate_fn,\n",
        "                    num_workers =0, # of CPU\n",
        "                    pin_memory = True)"
      ]
    },
    {
      "cell_type": "code",
      "execution_count": 43,
      "metadata": {
        "id": "M0HrqmYvK0yS"
      },
      "outputs": [],
      "source": [
        "# test dataset\n",
        "dataset_test = NERDataset(X_test,y_test, lengths_test)\n",
        "loader_test = DataLoader(dataset_test,\n",
        "                    batch_size = 32,\n",
        "                    shuffle = True,\n",
        "                    collate_fn = collate_fn,\n",
        "                    num_workers =0, # of CPU\n",
        "                    pin_memory = True)"
      ]
    },
    {
      "cell_type": "markdown",
      "metadata": {
        "id": "WL1354ADK0yS"
      },
      "source": [
        "### Optimizer and Device"
      ]
    },
    {
      "cell_type": "code",
      "execution_count": 44,
      "metadata": {
        "id": "_EP8pbdGK0yS"
      },
      "outputs": [],
      "source": [
        "device = torch.device('cuda' if torch.cuda.is_available() else 'cpu')\n",
        "model = BiLSTMTagger(VOCAB_SIZE,TAGSET_SIZE).to(device)\n",
        "criterion = nn.CrossEntropyLoss(ignore_index= PAD_IDX)\n",
        "#nn.CrossEntropyLoss—it expects raw logits and internally does a log_softmax followed by an NLL loss.\n",
        "optimizer = torch.optim.Adam(model.parameters(), lr = learning_rate, weight_decay= 1e-3)"
      ]
    },
    {
      "cell_type": "code",
      "execution_count": null,
      "metadata": {
        "id": "BsegPjwbK0yS",
        "outputId": "e3c09be5-2f8b-498f-8221-cd312d6a1b1f"
      },
      "outputs": [
        {
          "data": {
            "text/plain": [
              "tensor([ True,  True, False,  True,  True, False])"
            ]
          },
          "execution_count": 66,
          "metadata": {},
          "output_type": "execute_result"
        }
      ],
      "source": [
        "PAD_IDX = 0\n",
        "\n",
        "# Predicted labels (flattened from a batch of sequences)\n",
        "preds = torch.tensor([1, 2, 0, 3, 2, 0])\n",
        "\n",
        "# True labels\n",
        "labels = torch.tensor([1, 2, 0, 4, 2, 0])\n",
        "mask = labels != PAD_IDX\n",
        "# Output: tensor([True, True, False, True, True, False])\n",
        "preds == labels\n",
        "# Output: tensor([True, True, True, False, True, True])\n",
        "correct = (preds == labels) & mask\n",
        "# Output: tensor([ True,  True, False, False,  True, False])\n",
        "\n",
        "mask"
      ]
    },
    {
      "cell_type": "code",
      "execution_count": null,
      "metadata": {
        "id": "8RfAx1VuK0yS",
        "outputId": "ac467b4e-cdd9-4cab-ce20-1028123b1f9f"
      },
      "outputs": [
        {
          "data": {
            "text/plain": [
              "torch.Size([34279, 40])"
            ]
          },
          "execution_count": 67,
          "metadata": {},
          "output_type": "execute_result"
        }
      ],
      "source": [
        "X.shape"
      ]
    },
    {
      "cell_type": "markdown",
      "metadata": {
        "id": "gcRAKkGPK0yS"
      },
      "source": [
        "### Evaluation metric"
      ]
    },
    {
      "cell_type": "code",
      "execution_count": 45,
      "metadata": {
        "id": "8KyhpXsIK0yS"
      },
      "outputs": [],
      "source": [
        "# ## for tmr:\n",
        "# ## write the accuracy function to put in the training loop\n",
        "# average accuracy\n",
        "def accuracy(pred,labels,pad_idx):\n",
        "    mask = labels != pad_idx\n",
        "    correct = (pred == labels) & mask\n",
        "    return correct.sum().item()/mask.sum().item()\n"
      ]
    },
    {
      "cell_type": "code",
      "execution_count": 86,
      "metadata": {
        "colab": {
          "base_uri": "https://localhost:8080/"
        },
        "id": "1pQyixK3K0yS",
        "outputId": "8ad71baf-68de-42d4-d0cf-67fcc1af9ca9"
      },
      "outputs": [
        {
          "output_type": "execute_result",
          "data": {
            "text/plain": [
              "tensor([ 1754,  3225,   138,     7, 24721,     3,  3410,   110,    67,  1491,\n",
              "            6,  7972,  3287,    26,     0,     0,     0,     0,     0,     0,\n",
              "            0,     0,     0,     0,     0,     0,     0,     0,     0,     0,\n",
              "            0,     0,     0,     0,     0,     0,     0,     0,     0,     0])"
            ]
          },
          "metadata": {},
          "execution_count": 86
        }
      ],
      "source": [
        "X_valid[0]"
      ]
    },
    {
      "cell_type": "markdown",
      "metadata": {
        "id": "uGPgY6LVK0yT"
      },
      "source": [
        "### Test for overfitting"
      ]
    },
    {
      "cell_type": "markdown",
      "metadata": {
        "id": "g4hbpe2ZK0yT"
      },
      "source": [
        "## EarlyStopping Class\n",
        "\n",
        "We can implement an `EarlyStopping` class to control the training phase if the validation loss stops improving.\n",
        "\n",
        "### Parameters\n",
        "\n",
        "- **`patience`**  \n",
        "  Number of epochs to wait before stopping if no improvement.\n",
        "- **`delta`**  \n",
        "  Minimum change in the monitored quantity to qualify as an improvement.\n",
        "- **`best_score`**, **`best_model_state`**  \n",
        "  Track the best validation score and model state.\n",
        "\n",
        "### Methods\n",
        "\n",
        "- **`__call__(val_loss, model)`**  \n",
        "  Updates the early stopping logic.\n"
      ]
    },
    {
      "cell_type": "markdown",
      "metadata": {
        "id": "B0e2Yuk2K0yT"
      },
      "source": [
        "### Regularization"
      ]
    },
    {
      "cell_type": "code",
      "execution_count": 46,
      "metadata": {
        "id": "eaSsHKTeK0yT"
      },
      "outputs": [],
      "source": [
        "class EarlyStopping:\n",
        "    def __init__(self,epoch_limit = 5, improv_threshold = 0):\n",
        "        self.epoch_limit = epoch_limit\n",
        "        self.improv_threshold = improv_threshold  #minimum change\n",
        "        self.best_score = None\n",
        "        self.early_stop = False\n",
        "        self.counter = 0\n",
        "        self.best_model_state = None\n",
        "    # create our own callable to facilitate configuration\n",
        "    def __call__(self, val_loss, model):\n",
        "        score = val_loss\n",
        "        if self.best_score is None:\n",
        "            self.best_score = score\n",
        "            self.best_model_state = model.state_dict()  #keep track of the model state (parameters(weights and biases))\n",
        "        elif score > self.best_score + self.improv_threshold:\n",
        "            self.counter += 1\n",
        "            if self.counter >= self.epoch_limit:\n",
        "                self.early_stop = True\n",
        "        else:\n",
        "            self.best_score = score\n",
        "            self.best_model_state = model.state_dict()\n",
        "            self.counter = 0  # reset counter to zero\n",
        "\n",
        "    def load_best_model(self, model):\n",
        "        model.load_state_dict(self.best_model_state)\n",
        ""
      ]
    },
    {
      "cell_type": "code",
      "source": [
        "print(\"X:\",   X.shape)\n",
        "print(\"y:\",   y.shape)\n",
        "print(\"lens:\" ,lengths_train.shape)\n"
      ],
      "metadata": {
        "colab": {
          "base_uri": "https://localhost:8080/"
        },
        "id": "UJvxBd2pPhXW",
        "outputId": "cb68f5e2-2b2e-472d-cad6-fb84fdbe4552"
      },
      "execution_count": 47,
      "outputs": [
        {
          "output_type": "stream",
          "name": "stdout",
          "text": [
            "X: torch.Size([34279, 40])\n",
            "y: torch.Size([34279, 40])\n",
            "lens: (34279,)\n"
          ]
        }
      ]
    },
    {
      "cell_type": "code",
      "execution_count": 48,
      "metadata": {
        "id": "7DUKkQ1LK0yT"
      },
      "outputs": [],
      "source": [
        "early_stopping = EarlyStopping(epoch_limit=5, improv_threshold=0.01)"
      ]
    },
    {
      "cell_type": "code",
      "execution_count": 93,
      "metadata": {
        "colab": {
          "base_uri": "https://localhost:8080/"
        },
        "id": "1Uc9V35yK0yT",
        "outputId": "bb4bd4c3-876c-4dcd-9a68-db3881f7dba9"
      },
      "outputs": [
        {
          "output_type": "stream",
          "name": "stderr",
          "text": [
            "/tmp/ipython-input-76-2395901052.py:12: UserWarning: To copy construct from a tensor, it is recommended to use sourceTensor.clone().detach() or sourceTensor.clone().detach().requires_grad_(True), rather than torch.tensor(sourceTensor).\n",
            "  return torch.tensor(self.X[idx],dtype= torch.long), \\\n",
            "/tmp/ipython-input-76-2395901052.py:13: UserWarning: To copy construct from a tensor, it is recommended to use sourceTensor.clone().detach() or sourceTensor.clone().detach().requires_grad_(True), rather than torch.tensor(sourceTensor).\n",
            "  torch.tensor(self.y[idx], dtype = torch.long),\\\n"
          ]
        },
        {
          "output_type": "stream",
          "name": "stdout",
          "text": [
            "Epoch 1 — Train_Loss: 0.3393, Valid_Loss: 4.7425, Accuracy_valid: 0.9571\n",
            "Epoch 2 — Train_Loss: 0.2510, Valid_Loss: 4.6854, Accuracy_valid: 0.9652\n",
            "Epoch 3 — Train_Loss: 0.2215, Valid_Loss: 4.6426, Accuracy_valid: 0.9690\n",
            "Epoch 4 — Train_Loss: 0.2108, Valid_Loss: 4.6017, Accuracy_valid: 0.9684\n",
            "Epoch 5 — Train_Loss: 0.2043, Valid_Loss: 4.5609, Accuracy_valid: 0.9710\n",
            "Epoch 6 — Train_Loss: 0.1999, Valid_Loss: 4.5265, Accuracy_valid: 0.9715\n",
            "Epoch 7 — Train_Loss: 0.1975, Valid_Loss: 4.4956, Accuracy_valid: 0.9723\n",
            "Epoch 8 — Train_Loss: 0.1949, Valid_Loss: 4.4710, Accuracy_valid: 0.9705\n",
            "Epoch 9 — Train_Loss: 0.1935, Valid_Loss: 4.4540, Accuracy_valid: 0.9691\n",
            "Epoch 10 — Train_Loss: 0.1911, Valid_Loss: 4.4333, Accuracy_valid: 0.9694\n"
          ]
        }
      ],
      "source": [
        "from tqdm import tqdm\n",
        "torch.manual_seed(42)\n",
        "\n",
        "for epoch in range(NUM_EPOCHS):\n",
        "    model.train()\n",
        "\n",
        "    train_loss = 0.0\n",
        "    for batch_tokens, batch_tags, lengths in loader_train :  # tuple from the collate_fn function\n",
        "        batch_tokens = batch_tokens.to(device) #unecessary here since it is automatic\n",
        "        lengths = lengths.to(device)\n",
        "        batch_tags = batch_tags.to(device)\n",
        "\n",
        "        optimizer.zero_grad()\n",
        "\n",
        "        # Forward pass\n",
        "        logits = model(batch_tokens,lengths)  # (B, S, C)  C = 10\n",
        "        # Flatten logits and targets for loss computation\n",
        "        logits = logits.reshape(-1, logits.size(-1))  # (B*S, C)\n",
        "        batch_tags = batch_tags.view(-1) #true value             # (B*S)\n",
        "        # Compute loss\n",
        "        loss = criterion(logits, batch_tags)\n",
        "        # Backpropagation with anomaly detection\n",
        "        with torch.autograd.set_detect_anomaly(True):\n",
        "            loss.backward()\n",
        "\n",
        "        optimizer.step()\n",
        "        train_loss += loss.item()\n",
        "\n",
        "\n",
        "    train_loss_avg = train_loss/len(loader_train) #number of batch\n",
        "    #test on validation dataset\n",
        "    val_loss = 0.0\n",
        "    valid_accuracy = 0\n",
        "\n",
        "    model.eval()\n",
        "    with torch.inference_mode():\n",
        "        for tokens, tags, lengths_valid in loader_valid:\n",
        "            tokens = tokens.to(device)\n",
        "            tags = tags.to(device)\n",
        "            lengths_valid = lengths_valid.to(device)\n",
        "\n",
        "            output = model(tokens,lengths_valid)  #shape (B,S,C)\n",
        "            output_flat = output.view(-1,output.size(-1))  #(B*S,C)\n",
        "            tags_flat = tags.view(-1)  # shape (B*S,)\n",
        "            loss = criterion(output_flat,tags_flat)\n",
        "            val_loss += loss.item()\n",
        "            prediction_valid = torch.argmax(output,dim =-1)\n",
        "            valid_accuracy += accuracy(prediction_valid,tags,pad_idx = PAD_IDX)\n",
        "\n",
        "\n",
        "    valid_accuracy_avg = valid_accuracy/len(loader_valid)\n",
        "    valid_loss_avg = val_loss/len(loader_valid)\n",
        "    print(f\"Epoch {epoch+1} — Train_Loss: {train_loss_avg:.4f}, Valid_Loss: {valid_loss_avg:.4f}, Accuracy_valid: {valid_accuracy_avg:.4f}\")\n",
        "    with open(\"training_log.txt\", \"a\") as f:\n",
        "        f.write(f\"Epoch {epoch+1} — Train_Loss: {train_loss_avg:.4f}, Valid_Loss: {valid_loss_avg:.4f}, Accuracy_valid: {valid_accuracy_avg:.4f}\\n\")\n",
        "    early_stopping(valid_loss_avg, model)\n",
        "    if early_stopping.early_stop:\n",
        "        print(\"Early stopping\")\n",
        "        break\n",
        "\n",
        "early_stopping.load_best_model(model)\n",
        "\n"
      ]
    },
    {
      "cell_type": "markdown",
      "metadata": {
        "id": "vaHjqo--K0yT"
      },
      "source": [
        "### Save learnable parameters"
      ]
    },
    {
      "cell_type": "code",
      "execution_count": null,
      "metadata": {
        "id": "N9t057K7K0yT"
      },
      "outputs": [],
      "source": [
        "# torch.save(model.state_dict()[\"embedding.weight\"], \"embedding_weight.pth\")\n",
        "# embedding_weight = torch.load(\"embedding_weight.pth\")\n",
        "# embedding_weight"
      ]
    },
    {
      "cell_type": "code",
      "execution_count": null,
      "metadata": {
        "id": "qMEk8k6yK0yT"
      },
      "outputs": [],
      "source": [
        "import torch\n",
        "import torch.nn.functional as F"
      ]
    },
    {
      "cell_type": "code",
      "source": [
        "from sklearn.metrics import classification_report\n"
      ],
      "metadata": {
        "id": "T_9v8GUuV3tV"
      },
      "execution_count": 100,
      "outputs": []
    },
    {
      "cell_type": "code",
      "source": [
        "! pip install seqeval"
      ],
      "metadata": {
        "colab": {
          "base_uri": "https://localhost:8080/"
        },
        "collapsed": true,
        "id": "PG27h1F8WckN",
        "outputId": "10325ff6-582d-49e3-d577-d3624fec5891"
      },
      "execution_count": 96,
      "outputs": [
        {
          "output_type": "stream",
          "name": "stdout",
          "text": [
            "Collecting seqeval\n",
            "  Downloading seqeval-1.2.2.tar.gz (43 kB)\n",
            "\u001b[?25l     \u001b[90m━━━━━━━━━━━━━━━━━━━━━━━━━━━━━━━━━━━━━━━━\u001b[0m \u001b[32m0.0/43.6 kB\u001b[0m \u001b[31m?\u001b[0m eta \u001b[36m-:--:--\u001b[0m\r\u001b[2K     \u001b[90m━━━━━━━━━━━━━━━━━━━━━━━━━━━━━━━━━━━━━━━━\u001b[0m \u001b[32m43.6/43.6 kB\u001b[0m \u001b[31m1.9 MB/s\u001b[0m eta \u001b[36m0:00:00\u001b[0m\n",
            "\u001b[?25h  Preparing metadata (setup.py) ... \u001b[?25l\u001b[?25hdone\n",
            "Requirement already satisfied: numpy>=1.14.0 in /usr/local/lib/python3.11/dist-packages (from seqeval) (1.26.4)\n",
            "Requirement already satisfied: scikit-learn>=0.21.3 in /usr/local/lib/python3.11/dist-packages (from seqeval) (1.6.1)\n",
            "Requirement already satisfied: scipy>=1.6.0 in /usr/local/lib/python3.11/dist-packages (from scikit-learn>=0.21.3->seqeval) (1.13.1)\n",
            "Requirement already satisfied: joblib>=1.2.0 in /usr/local/lib/python3.11/dist-packages (from scikit-learn>=0.21.3->seqeval) (1.5.1)\n",
            "Requirement already satisfied: threadpoolctl>=3.1.0 in /usr/local/lib/python3.11/dist-packages (from scikit-learn>=0.21.3->seqeval) (3.6.0)\n",
            "Building wheels for collected packages: seqeval\n",
            "  Building wheel for seqeval (setup.py) ... \u001b[?25l\u001b[?25hdone\n",
            "  Created wheel for seqeval: filename=seqeval-1.2.2-py3-none-any.whl size=16162 sha256=bd1b95cde0439690db45281bd5b16f3348f122a8167f7b84326f7d07eacada58\n",
            "  Stored in directory: /root/.cache/pip/wheels/bc/92/f0/243288f899c2eacdfa8c5f9aede4c71a9bad0ee26a01dc5ead\n",
            "Successfully built seqeval\n",
            "Installing collected packages: seqeval\n",
            "Successfully installed seqeval-1.2.2\n"
          ]
        }
      ]
    },
    {
      "cell_type": "code",
      "source": [
        "from torch.utils.data import DataLoader, TensorDataset\n",
        "from seqeval.metrics import classification_report as seq_report  # or from sklearn if flattened\n"
      ],
      "metadata": {
        "id": "TVbTlXVaWbcy"
      },
      "execution_count": 117,
      "outputs": []
    },
    {
      "cell_type": "code",
      "source": [
        "type(lengths_test)"
      ],
      "metadata": {
        "colab": {
          "base_uri": "https://localhost:8080/"
        },
        "id": "ZbA5WactYo9C",
        "outputId": "312cae42-a343-44cc-be5b-530e5dc8a0e9"
      },
      "execution_count": 107,
      "outputs": [
        {
          "output_type": "execute_result",
          "data": {
            "text/plain": [
              "numpy.ndarray"
            ]
          },
          "metadata": {},
          "execution_count": 107
        }
      ]
    },
    {
      "cell_type": "code",
      "source": [
        "test_ds = TensorDataset(X_test.long(), y_test.long(),torch.from_numpy(lengths_test).long())"
      ],
      "metadata": {
        "id": "HdEO-iXYYCU8"
      },
      "execution_count": 108,
      "outputs": []
    },
    {
      "cell_type": "code",
      "source": [
        "test_loader = DataLoader(test_ds, batch_size=32, shuffle=False, collate_fn=collate_fn)"
      ],
      "metadata": {
        "id": "qcJtNUS5Y2LF"
      },
      "execution_count": 112,
      "outputs": []
    },
    {
      "cell_type": "code",
      "source": [
        "all_true = []\n",
        "all_pred = []\n",
        "\n",
        "with torch.inference_mode():\n",
        "    for tokens, tags, lengths in test_loader:\n",
        "        tokens, tags, lengths = tokens.to(device), tags.to(device), lengths.to(device)\n",
        "\n",
        "        logits = model(tokens, lengths)          # (B, S, C)\n",
        "        preds  = torch.argmax(logits, dim=-1)    # (B, S)\n",
        "\n",
        "        # bring data back to CPU numpy\n",
        "        preds_np = preds.cpu().numpy()\n",
        "        tags_np  = tags.cpu().numpy()\n",
        "\n",
        "        # flatten and skip padding\n",
        "        for seq_pred, seq_true in zip(preds_np, tags_np):\n",
        "            for p, t in zip(seq_pred, seq_true):\n",
        "                if t != PAD_IDX:\n",
        "                    all_pred.append(id2label[p])\n",
        "                    all_true.append(id2label[t])\n"
      ],
      "metadata": {
        "id": "ehgXiuD9ZKwg"
      },
      "execution_count": 115,
      "outputs": []
    },
    {
      "cell_type": "code",
      "source": [
        "label_names = [id2label[i+1] for i in range(len(id2label))]\n",
        "label_names"
      ],
      "metadata": {
        "colab": {
          "base_uri": "https://localhost:8080/"
        },
        "id": "ehFtH8l7eCwr",
        "outputId": "89a6e794-c2c1-4852-cb5b-b81adce7310f"
      },
      "execution_count": 134,
      "outputs": [
        {
          "output_type": "execute_result",
          "data": {
            "text/plain": [
              "['B-geo',\n",
              " 'B-gpe',\n",
              " 'B-org',\n",
              " 'B-per',\n",
              " 'B-tim',\n",
              " 'I-geo',\n",
              " 'I-org',\n",
              " 'I-per',\n",
              " 'I-tim',\n",
              " 'O']"
            ]
          },
          "metadata": {},
          "execution_count": 134
        }
      ]
    },
    {
      "cell_type": "code",
      "source": [
        "from sklearn.metrics import confusion_matrix, ConfusionMatrixDisplay\n",
        "import matplotlib.pyplot as plt\n",
        "\n",
        "# Get the sorted list of unique labels (excluding PAD)\n",
        "unique_labels = sorted(set(all_true) | set(all_pred))\n",
        "\n",
        "# Compute the confusion matrix\n",
        "cm = confusion_matrix(all_true, all_pred, labels=unique_labels)\n",
        "\n",
        "# Display as a heatmap\n",
        "disp = ConfusionMatrixDisplay(confusion_matrix=cm, display_labels=unique_labels)\n",
        "fig, ax = plt.subplots(figsize=(10, 8))\n",
        "disp.plot(xticks_rotation=45, cmap='Blues', ax=ax)\n",
        "plt.title(\"Confusion Matrix (Token-level)\")\n",
        "plt.tight_layout()\n",
        "plt.show()\n"
      ],
      "metadata": {
        "colab": {
          "base_uri": "https://localhost:8080/",
          "height": 807
        },
        "id": "ngNYpSytd9KG",
        "outputId": "a27892b7-4876-478c-ac85-ee95efcdd0dc"
      },
      "execution_count": 139,
      "outputs": [
        {
          "output_type": "display_data",
          "data": {
            "text/plain": [
              "<Figure size 1000x800 with 2 Axes>"
            ],
            "image/png": "[encoded data removed]"
          },
          "metadata": {}
        }
      ]
    },
    {
      "cell_type": "code",
      "source": [
        "print(seq_report([all_true], [all_pred]))"
      ],
      "metadata": {
        "colab": {
          "base_uri": "https://localhost:8080/"
        },
        "id": "Ac_XohVcZpr3",
        "outputId": "e3218950-0e0e-40e1-a869-b8f9d59235f5"
      },
      "execution_count": 118,
      "outputs": [
        {
          "output_type": "stream",
          "name": "stdout",
          "text": [
            "              precision    recall  f1-score   support\n",
            "\n",
            "         geo       0.74      0.80      0.77      7491\n",
            "         gpe       0.95      0.80      0.86      3166\n",
            "         org       0.57      0.36      0.44      4006\n",
            "         per       0.61      0.48      0.54      3350\n",
            "         tim       0.82      0.66      0.73      3992\n",
            "\n",
            "   micro avg       0.74      0.64      0.69     22005\n",
            "   macro avg       0.74      0.62      0.67     22005\n",
            "weighted avg       0.73      0.64      0.68     22005\n",
            "\n"
          ]
        }
      ]
    },
    {
      "cell_type": "code",
      "source": [
        "from sklearn.metrics import classification_report, accuracy_score\n",
        "\n",
        "# This will include every label present in all_true/pred,\n",
        "# including \"O\" and \"<PAD>\" if you didn’t filter them out.\n",
        "print(classification_report(all_true, all_pred, digits=4))\n",
        "\n",
        "# And overall token-level accuracy:\n",
        "print(\"Token-level accuracy:\", accuracy_score(all_true, all_pred))\n"
      ],
      "metadata": {
        "colab": {
          "base_uri": "https://localhost:8080/"
        },
        "id": "G74Ieps5ap_J",
        "outputId": "5e1a24ed-17ce-434f-d73d-e6869b2a8d46"
      },
      "execution_count": 121,
      "outputs": [
        {
          "output_type": "stream",
          "name": "stdout",
          "text": [
            "              precision    recall  f1-score   support\n",
            "\n",
            "       B-geo     0.7742    0.8301    0.8012      7491\n",
            "       B-gpe     0.9457    0.7969    0.8649      3166\n",
            "       B-org     0.8485    0.4209    0.5627      4006\n",
            "       B-per     0.8686    0.5507    0.6741      3350\n",
            "       B-tim     0.9159    0.7257    0.8098      3992\n",
            "       I-geo     0.8470    0.5031    0.6313      1441\n",
            "       I-org     0.8709    0.4928    0.6294      3259\n",
            "       I-per     0.8070    0.7238    0.7631      3450\n",
            "       I-tim     0.9493    0.2621    0.4107      1286\n",
            "           O     0.9784    0.9989    0.9886    349359\n",
            "\n",
            "    accuracy                         0.9699    380800\n",
            "   macro avg     0.8806    0.6305    0.7136    380800\n",
            "weighted avg     0.9681    0.9699    0.9663    380800\n",
            "\n",
            "Token-level accuracy: 0.969860819327731\n"
          ]
        }
      ]
    },
    {
      "cell_type": "code",
      "source": [
        "device"
      ],
      "metadata": {
        "colab": {
          "base_uri": "https://localhost:8080/"
        },
        "id": "SQ0w05IKh-3o",
        "outputId": "4f70cf18-5c1e-4c21-a94c-a9dc9cea5e1f"
      },
      "execution_count": 247,
      "outputs": [
        {
          "output_type": "execute_result",
          "data": {
            "text/plain": [
              "device(type='cuda')"
            ]
          },
          "metadata": {},
          "execution_count": 247
        }
      ]
    },
    {
      "cell_type": "code",
      "execution_count": 177,
      "metadata": {
        "id": "SsLp_ytlK0yU"
      },
      "outputs": [],
      "source": [
        "def predict_sentence(sentence, model, word2id, id2label, max_len=40, device='cpu'):\n",
        "    model.eval()\n",
        "\n",
        "    # Tokenize (assume already split, or use a tokenizer if needed)\n",
        "    tokens = sentence.split()  # e.g., \"Barack Obama was born in Hawaii .\"\n",
        "\n",
        "    # Encode\n",
        "    unk_id = word2id.get('<UNK>', 0)\n",
        "    pad_id = word2id.get('<PAD>', 0)\n",
        "    input_ids = [word2id.get(tok, unk_id) for tok in tokens]\n",
        "\n",
        "    # Save true length\n",
        "    seq_len = len(input_ids)\n",
        "\n",
        "    # Pad\n",
        "    if len(input_ids) < max_len:\n",
        "        input_ids += [pad_id] * (max_len - len(input_ids))\n",
        "    else:\n",
        "        input_ids = input_ids[:max_len]\n",
        "        seq_len = max_len\n",
        "\n",
        "    # Convert to tensor\n",
        "    input_tensor = torch.tensor([input_ids], dtype=torch.long)\n",
        "    lengths_tensor = torch.tensor([seq_len], dtype=torch.long)\n",
        "\n",
        "\n",
        "    # Predict\n",
        "    with torch.inference_mode():\n",
        "        logits = model(input_tensor, lengths_tensor)  # (1, S, C)\n",
        "\n",
        "        preds = torch.argmax(logits, dim=-1)          # (1, S)\n",
        "\n",
        "    pred_ids = preds[0][:seq_len].cpu().numpy()\n",
        "    pred_labels = [id2label[i] for i in pred_ids]\n",
        "\n",
        "    # Output\n",
        "    print(f\"{'Token':15} {'Prediction'}\")\n",
        "    print(\"-\" * 30)\n",
        "    for tok, label in zip(tokens, pred_labels):\n",
        "        print(f\"{tok:15} {label}\")\n"
      ]
    },
    {
      "cell_type": "code",
      "source": [
        "word2id[\"Barack\"]"
      ],
      "metadata": {
        "colab": {
          "base_uri": "https://localhost:8080/"
        },
        "id": "TF5fH7jamI5f",
        "outputId": "b421a591-79cf-4f8a-9cda-3b565400d06b"
      },
      "execution_count": 187,
      "outputs": [
        {
          "output_type": "execute_result",
          "data": {
            "text/plain": [
              "852"
            ]
          },
          "metadata": {},
          "execution_count": 187
        }
      ]
    },
    {
      "cell_type": "code",
      "source": [
        "predict_sentence(\"Barack Obama was born in Hawaii .\", model, word2id, id2label, max_len=40, device=device)\n"
      ],
      "metadata": {
        "colab": {
          "base_uri": "https://localhost:8080/"
        },
        "id": "cHaXam8Rhstc",
        "outputId": "998c9ed2-8fd3-41a3-ed4c-0060fab348bd"
      },
      "execution_count": 192,
      "outputs": [
        {
          "output_type": "stream",
          "name": "stdout",
          "text": [
            "Token           Prediction\n",
            "------------------------------\n",
            "Barack          B-per\n",
            "Obama           B-per\n",
            "was             O\n",
            "born            O\n",
            "in              O\n",
            "Hawaii          B-geo\n",
            ".               O\n"
          ]
        }
      ]
    },
    {
      "cell_type": "code",
      "source": [
        "torch.save(model.state_dict(), \"model_BILSTM_Softmax.pt\")"
      ],
      "metadata": {
        "id": "pqs6IVz-njgj"
      },
      "execution_count": 196,
      "outputs": []
    },
    {
      "cell_type": "markdown",
      "source": [
        "### Implement using CRF"
      ],
      "metadata": {
        "id": "7g84mRzrHnxF"
      }
    },
    {
      "cell_type": "code",
      "source": [
        "! pip install TorchCRF"
      ],
      "metadata": {
        "collapsed": true,
        "id": "YLReWyHQIYtw",
        "outputId": "6f814e5b-9172-44c5-d999-883d0b5cf451",
        "colab": {
          "base_uri": "https://localhost:8080/"
        }
      },
      "execution_count": 3,
      "outputs": [
        {
          "output_type": "stream",
          "name": "stdout",
          "text": [
            "Requirement already satisfied: TorchCRF in /usr/local/lib/python3.11/dist-packages (1.1.0)\n",
            "Requirement already satisfied: numpy in /usr/local/lib/python3.11/dist-packages (from TorchCRF) (1.26.4)\n",
            "Requirement already satisfied: torch>=1.0.0 in /usr/local/lib/python3.11/dist-packages (from TorchCRF) (2.6.0+cu124)\n",
            "Requirement already satisfied: filelock in /usr/local/lib/python3.11/dist-packages (from torch>=1.0.0->TorchCRF) (3.18.0)\n",
            "Requirement already satisfied: typing-extensions>=4.10.0 in /usr/local/lib/python3.11/dist-packages (from torch>=1.0.0->TorchCRF) (4.14.0)\n",
            "Requirement already satisfied: networkx in /usr/local/lib/python3.11/dist-packages (from torch>=1.0.0->TorchCRF) (3.5)\n",
            "Requirement already satisfied: jinja2 in /usr/local/lib/python3.11/dist-packages (from torch>=1.0.0->TorchCRF) (3.1.6)\n",
            "Requirement already satisfied: fsspec in /usr/local/lib/python3.11/dist-packages (from torch>=1.0.0->TorchCRF) (2025.3.2)\n",
            "Requirement already satisfied: nvidia-cuda-nvrtc-cu12==12.4.127 in /usr/local/lib/python3.11/dist-packages (from torch>=1.0.0->TorchCRF) (12.4.127)\n",
            "Requirement already satisfied: nvidia-cuda-runtime-cu12==12.4.127 in /usr/local/lib/python3.11/dist-packages (from torch>=1.0.0->TorchCRF) (12.4.127)\n",
            "Requirement already satisfied: nvidia-cuda-cupti-cu12==12.4.127 in /usr/local/lib/python3.11/dist-packages (from torch>=1.0.0->TorchCRF) (12.4.127)\n",
            "Requirement already satisfied: nvidia-cudnn-cu12==9.1.0.70 in /usr/local/lib/python3.11/dist-packages (from torch>=1.0.0->TorchCRF) (9.1.0.70)\n",
            "Requirement already satisfied: nvidia-cublas-cu12==12.4.5.8 in /usr/local/lib/python3.11/dist-packages (from torch>=1.0.0->TorchCRF) (12.4.5.8)\n",
            "Requirement already satisfied: nvidia-cufft-cu12==11.2.1.3 in /usr/local/lib/python3.11/dist-packages (from torch>=1.0.0->TorchCRF) (11.2.1.3)\n",
            "Requirement already satisfied: nvidia-curand-cu12==10.3.5.147 in /usr/local/lib/python3.11/dist-packages (from torch>=1.0.0->TorchCRF) (10.3.5.147)\n",
            "Requirement already satisfied: nvidia-cusolver-cu12==11.6.1.9 in /usr/local/lib/python3.11/dist-packages (from torch>=1.0.0->TorchCRF) (11.6.1.9)\n",
            "Requirement already satisfied: nvidia-cusparse-cu12==12.3.1.170 in /usr/local/lib/python3.11/dist-packages (from torch>=1.0.0->TorchCRF) (12.3.1.170)\n",
            "Requirement already satisfied: nvidia-cusparselt-cu12==0.6.2 in /usr/local/lib/python3.11/dist-packages (from torch>=1.0.0->TorchCRF) (0.6.2)\n",
            "Requirement already satisfied: nvidia-nccl-cu12==2.21.5 in /usr/local/lib/python3.11/dist-packages (from torch>=1.0.0->TorchCRF) (2.21.5)\n",
            "Requirement already satisfied: nvidia-nvtx-cu12==12.4.127 in /usr/local/lib/python3.11/dist-packages (from torch>=1.0.0->TorchCRF) (12.4.127)\n",
            "Requirement already satisfied: nvidia-nvjitlink-cu12==12.4.127 in /usr/local/lib/python3.11/dist-packages (from torch>=1.0.0->TorchCRF) (12.4.127)\n",
            "Requirement already satisfied: triton==3.2.0 in /usr/local/lib/python3.11/dist-packages (from torch>=1.0.0->TorchCRF) (3.2.0)\n",
            "Requirement already satisfied: sympy==1.13.1 in /usr/local/lib/python3.11/dist-packages (from torch>=1.0.0->TorchCRF) (1.13.1)\n",
            "Requirement already satisfied: mpmath<1.4,>=1.1.0 in /usr/local/lib/python3.11/dist-packages (from sympy==1.13.1->torch>=1.0.0->TorchCRF) (1.3.0)\n",
            "Requirement already satisfied: MarkupSafe>=2.0 in /usr/local/lib/python3.11/dist-packages (from jinja2->torch>=1.0.0->TorchCRF) (3.0.2)\n"
          ]
        }
      ]
    },
    {
      "cell_type": "code",
      "source": [
        "from TorchCRF import CRF"
      ],
      "metadata": {
        "id": "xcnxTqaeHmuq"
      },
      "execution_count": 8,
      "outputs": []
    },
    {
      "cell_type": "code",
      "source": [
        "class BiLSTMTagger_CRF(torch.nn.Module):\n",
        "    def __init__(self,\n",
        "                 tagset_size: int,\n",
        "                 embedding_dim: int = 200,\n",
        "                 hidden_dim: int = 128,\n",
        "                 num_layers: int = 1,\n",
        "                 dropout: float = 0.3,\n",
        "                 pad_idx: int = 0):  #pad_idx = vocab[\"<pad>\"]\n",
        "        super().__init__()  # python 3+ , if python 2+ then , super(BiLSTMTagger,self)\n",
        "\n",
        "        self.embedding = nn.Embedding(VOCAB_SIZE, embedding_dim, padding_idx=pad_idx)\n",
        "        self.lstm = nn.LSTM(\n",
        "            input_size=embedding_dim,\n",
        "            hidden_size=hidden_dim,\n",
        "            num_layers=num_layers,\n",
        "            bidirectional=True,  ## hidden backward + hidden forward (h_tf+ h_tb)  # single then remove 2 ,\n",
        "\n",
        "            batch_first=True,\n",
        "            dropout=dropout if num_layers > 1 else 0.0\n",
        "        )\n",
        "\n",
        "        self.dropout = nn.Dropout(dropout)\n",
        "        # each time step we pass the output of LSTM to a fully connected layer\n",
        "        self.fc = nn.Linear(hidden_dim *2, tagset_size) # tagset_size = 10\n",
        "        self.crf = CRF(tagset_size, batch_first = True)\n",
        "\n",
        "    def forward(self, x: torch.LongTensor,lengths: torch.LongTensor):\n",
        "        # exercice: put the shape of each layer\n",
        "        emb = self.embedding(x)  # (B,S,E_dim)\n",
        "        # Pack to let LSTM skip the padded tokens\n",
        "        # there are some sequences whose lengths are greater than 40(padding sequence)\n",
        "        lengths = torch.clamp(lengths, max = x.size(1))\n",
        "\n",
        "        packed = pack_padded_sequence(emb, lengths.cpu(), batch_first=True, enforce_sorted=False) #(T_total, Emb) (sum of actual sequence length)\n",
        "        # LSTM\n",
        "        packed_out,_ = self.lstm(packed)  # (T_total,Hidden_dimension*2(2H)) Hidden state for each time step  # Pytorch initialize the initial state to zero\n",
        "        lstm_out,_ = pad_packed_sequence(packed_out, batch_first=True, total_length=x.size(1))  # (B,S,2H) Ignore o, c, etc\n",
        "\n",
        "        out = self.dropout(lstm_out)  #(B,S,2H)\n",
        "        emissions = self.fc(out) #(B,S,C)\n",
        "        mask = (x != self.pad_idx)\n",
        "        if tags is not None:\n",
        "            # compute CRF negative log-likelihood\n",
        "            #crf returns log-likelihood, so we negate and average\n",
        "            nll = -self.crf(emissions, tags, mask=mask, reduction='mean')\n",
        "            return nll\n",
        "        else:\n",
        "            # decode best paths\n",
        "            # returns List[List[int]] of length B, each a seq of tags\n",
        "            return self.crf.decode(emissions, mask=mask)\n"
      ],
      "metadata": {
        "id": "p53rxngSKVHc"
      },
      "execution_count": 9,
      "outputs": []
    },
    {
      "cell_type": "code",
      "source": [
        "model_CRF = BiLSTMTagger_CRF(tagset_size=TAGSET_SIZE,\n",
        "                     embedding_dim=200,\n",
        "                     hidden_dim=128,\n",
        "                     num_layers=1,\n",
        "                     dropout=0.3,\n",
        "                     pad_idx=PAD_IDX,\n",
        "                     vocab_size=VOCAB_SIZE)\n"
      ],
      "metadata": {
        "id": "GkxkOIp8K2NP",
        "outputId": "1b044173-4b78-4c3c-a998-7d373b5e8913",
        "colab": {
          "base_uri": "https://localhost:8080/",
          "height": 207
        }
      },
      "execution_count": 10,
      "outputs": [
        {
          "output_type": "error",
          "ename": "NameError",
          "evalue": "name 'TAGSET_SIZE' is not defined",
          "traceback": [
            "\u001b[0;31m---------------------------------------------------------------------------\u001b[0m",
            "\u001b[0;31mNameError\u001b[0m                                 Traceback (most recent call last)",
            "\u001b[0;32m/tmp/ipython-input-10-1084028002.py\u001b[0m in \u001b[0;36m<cell line: 0>\u001b[0;34m()\u001b[0m\n\u001b[0;32m----> 1\u001b[0;31m model = BiLSTMTagger_CRF(tagset_size=TAGSET_SIZE,\n\u001b[0m\u001b[1;32m      2\u001b[0m                      \u001b[0membedding_dim\u001b[0m\u001b[0;34m=\u001b[0m\u001b[0;36m200\u001b[0m\u001b[0;34m,\u001b[0m\u001b[0;34m\u001b[0m\u001b[0;34m\u001b[0m\u001b[0m\n\u001b[1;32m      3\u001b[0m                      \u001b[0mhidden_dim\u001b[0m\u001b[0;34m=\u001b[0m\u001b[0;36m128\u001b[0m\u001b[0;34m,\u001b[0m\u001b[0;34m\u001b[0m\u001b[0;34m\u001b[0m\u001b[0m\n\u001b[1;32m      4\u001b[0m                      \u001b[0mnum_layers\u001b[0m\u001b[0;34m=\u001b[0m\u001b[0;36m1\u001b[0m\u001b[0;34m,\u001b[0m\u001b[0;34m\u001b[0m\u001b[0;34m\u001b[0m\u001b[0m\n\u001b[1;32m      5\u001b[0m                      \u001b[0mdropout\u001b[0m\u001b[0;34m=\u001b[0m\u001b[0;36m0.3\u001b[0m\u001b[0;34m,\u001b[0m\u001b[0;34m\u001b[0m\u001b[0;34m\u001b[0m\u001b[0m\n",
            "\u001b[0;31mNameError\u001b[0m: name 'TAGSET_SIZE' is not defined"
          ]
        }
      ]
    },
    {
      "cell_type": "code",
      "source": [],
      "metadata": {
        "id": "1eXsGGUzLQwP"
      },
      "execution_count": null,
      "outputs": []
    },
    {
      "cell_type": "code",
      "source": [
        "from tqdm import tqdm\n",
        "import torch\n",
        "\n",
        "torch.manual_seed(42)\n",
        "\n",
        "for epoch in range(NUM_EPOCHS):\n",
        "    model_CRF.train()\n",
        "    train_loss = 0.0\n",
        "\n",
        "    for batch_tokens, batch_tags, lengths in loader_train:\n",
        "        batch_tokens = batch_tokens.to(device)\n",
        "        lengths      = lengths.to(device)\n",
        "        batch_tags   = batch_tags.to(device)\n",
        "\n",
        "        optimizer.zero_grad()\n",
        "        # --- CRF training call returns scalar loss ---\n",
        "        loss = model_CRF(batch_tokens, lengths, tags=batch_tags)\n",
        "        with torch.autograd.set_detect_anomaly(True):\n",
        "            loss.backward()\n",
        "        optimizer.step()\n",
        "\n",
        "        train_loss += loss.item()\n",
        "\n",
        "    train_loss_avg = train_loss / len(loader_train)\n",
        "\n",
        "    # --- Validation ---\n",
        "    val_loss  = 0.0\n",
        "    val_acc   = 0.0\n",
        "    model_CRF.eval()\n",
        "    with torch.inference_mode():\n",
        "        for tokens, tags, lengths_valid in loader_valid:\n",
        "            tokens         = tokens.to(device)\n",
        "            tags           = tags.to(device)\n",
        "            lengths_valid  = lengths_valid.to(device)\n",
        "\n",
        "            # 1) Compute validation loss via CRF\n",
        "            val_loss += model_CRF(tokens, lengths_valid, tags=tags).item()\n",
        "\n",
        "            # 2) Decode best paths for accuracy\n",
        "            pred_seqs = model_CRF(tokens, lengths_valid)\n",
        "            # pred_seqs: List of length B, each a list of tag-indices\n",
        "\n",
        "            # Convert pred_seqs → tensor padded to (B, S):\n",
        "            # (you can also compute accuracy per sequence)\n",
        "            max_len = tokens.size(1)\n",
        "            batch_pred = torch.zeros_like(tags)\n",
        "            for i, seq in enumerate(pred_seqs):\n",
        "                batch_pred[i, :len(seq)] = torch.tensor(seq, device=device)\n",
        "\n",
        "            # Use your existing accuracy fn that masks PAD_IDX\n",
        "            val_acc += accuracy(batch_pred, tags, pad_idx=PAD_IDX)\n",
        "\n",
        "    valid_loss_avg    = val_loss / len(loader_valid)\n",
        "    valid_accuracy_avg = val_acc  / len(loader_valid)\n",
        "\n",
        "    print(\n",
        "      f\"Epoch {epoch+1} — \"\n",
        "      f\"Train_Loss: {train_loss_avg:.4f}, \"\n",
        "      f\"Valid_Loss: {valid_loss_avg:.4f}, \"\n",
        "      f\"Accuracy_valid: {valid_accuracy_avg:.4f}\"\n",
        "    )\n",
        "\n",
        "    with open(\"training_log.txt\", \"a\") as f:\n",
        "        f.write(\n",
        "          f\"Epoch {epoch+1} — \"\n",
        "          f\"Train_Loss: {train_loss_avg:.4f}, \"\n",
        "          f\"Valid_Loss: {valid_loss_avg:.4f}, \"\n",
        "          f\"Accuracy_valid: {valid_accuracy_avg:.4f}\\n\"\n",
        "        )\n",
        "\n",
        "    early_stopping(valid_loss_avg, model_CRF)\n",
        "    if early_stopping.early_stop:\n",
        "        print(\"Early stopping\")\n",
        "        break\n",
        "\n",
        "# load best CRF model\n",
        "early_stopping.load_best_model(model_CRF)\n"
      ],
      "metadata": {
        "id": "KQOEqh_-LQ9w"
      },
      "execution_count": null,
      "outputs": []
    },
    {
      "cell_type": "markdown",
      "source": [
        "### Challenge\n",
        "\n",
        "Some of the tokens tested are not seen by the model during training. Furthermore, we can use pretrained model that solve NER task like BERT(Spacy), and then fine tune after so that the model can be specialized.\n",
        "If the word is not in the word2id, we can calculate similarity with the word in word2id , and add the entity to it if it has high similarity score"
      ],
      "metadata": {
        "id": "thk78UIUx3sb"
      }
    },
    {
      "cell_type": "markdown",
      "metadata": {
        "id": "QR7_ssKuK0yU"
      },
      "source": [
        "### Use pretrained embedding\n",
        "\n",
        "\n",
        "We encounter OOV(out-of-verb) problem  "
      ]
    },
    {
      "cell_type": "markdown",
      "metadata": {
        "id": "gYxIBY2_K0yU"
      },
      "source": [
        "### Word2Vec"
      ]
    },
    {
      "cell_type": "markdown",
      "metadata": {
        "id": "2xes4H7TK0yU"
      },
      "source": [
        "We need to use : GoogleNews-vectors-negative300.bin.gz\n",
        "Corpus that has 100 billion words. It uses the skip gram Word2Vec model. It uses negative sampling. Each word is represented by a 300 dimension vector."
      ]
    },
    {
      "cell_type": "code",
      "execution_count": 235,
      "metadata": {
        "id": "RBswkJKFK0yU"
      },
      "outputs": [],
      "source": [
        "from gensim.models import Word2Vec\n",
        "import gensim\n",
        "from nltk.tokenize import sent_tokenize, word_tokenize\n",
        "import warnings # to prevent displaying any warnings\n",
        "from gensim.models import KeyedVectors\n",
        "import gensim.downloader as api"
      ]
    },
    {
      "cell_type": "code",
      "source": [
        "! wget -c \"https://s3.amazonaws.com/dl4j-distribution/GoogleNews-vectors-negative300.bin.gz\""
      ],
      "metadata": {
        "colab": {
          "base_uri": "https://localhost:8080/"
        },
        "id": "4ukKHV4doz83",
        "outputId": "64b991b3-1183-4971-d41d-78b930453dcc"
      },
      "execution_count": 214,
      "outputs": [
        {
          "output_type": "stream",
          "name": "stdout",
          "text": [
            "--2025-07-02 10:18:42--  https://s3.amazonaws.com/dl4j-distribution/GoogleNews-vectors-negative300.bin.gz\n",
            "Resolving s3.amazonaws.com (s3.amazonaws.com)... 16.15.193.236, 3.5.22.245, 16.15.179.50, ...\n",
            "Connecting to s3.amazonaws.com (s3.amazonaws.com)|16.15.193.236|:443... connected.\n",
            "HTTP request sent, awaiting response... 404 Not Found\n",
            "2025-07-02 10:18:42 ERROR 404: Not Found.\n",
            "\n"
          ]
        }
      ]
    },
    {
      "cell_type": "code",
      "source": [
        "from gensim.models import KeyedVectors\n",
        "\n",
        "# Load the binary Word2Vec model (takes time & memory ~1.5GB RAM)\n",
        "word2vec = KeyedVectors.load_word2vec_format(\"GoogleNews-vectors-negative300.bin.gz\", binary=True)\n"
      ],
      "metadata": {
        "id": "_ld0Iafko6i-"
      },
      "execution_count": null,
      "outputs": []
    },
    {
      "cell_type": "code",
      "source": [
        "import numpy as np\n",
        "\n",
        "embedding_dim = 300\n",
        "vocab_size = len(word2id)\n",
        "\n",
        "# Initialize embedding matrix with random values\n",
        "embedding_matrix = np.random.uniform(-0.25, 0.25, (vocab_size, embedding_dim)).astype(np.float32)\n",
        "\n",
        "for word, idx in word2id.items():\n",
        "    if word in word2vec:\n",
        "        embedding_matrix[idx] = word2vec[word]\n"
      ],
      "metadata": {
        "collapsed": true,
        "colab": {
          "base_uri": "https://localhost:8080/",
          "height": 190
        },
        "id": "ghWDbO2Oo-ew",
        "outputId": "64103315-1a61-4a4c-9ea3-18defebf4475"
      },
      "execution_count": 201,
      "outputs": [
        {
          "output_type": "error",
          "ename": "NameError",
          "evalue": "name 'word2vec' is not defined",
          "traceback": [
            "\u001b[0;31m---------------------------------------------------------------------------\u001b[0m",
            "\u001b[0;31mNameError\u001b[0m                                 Traceback (most recent call last)",
            "\u001b[0;32m/tmp/ipython-input-201-4148016990.py\u001b[0m in \u001b[0;36m<cell line: 0>\u001b[0;34m()\u001b[0m\n\u001b[1;32m      8\u001b[0m \u001b[0;34m\u001b[0m\u001b[0m\n\u001b[1;32m      9\u001b[0m \u001b[0;32mfor\u001b[0m \u001b[0mword\u001b[0m\u001b[0;34m,\u001b[0m \u001b[0midx\u001b[0m \u001b[0;32min\u001b[0m \u001b[0mword2id\u001b[0m\u001b[0;34m.\u001b[0m\u001b[0mitems\u001b[0m\u001b[0;34m(\u001b[0m\u001b[0;34m)\u001b[0m\u001b[0;34m:\u001b[0m\u001b[0;34m\u001b[0m\u001b[0;34m\u001b[0m\u001b[0m\n\u001b[0;32m---> 10\u001b[0;31m     \u001b[0;32mif\u001b[0m \u001b[0mword\u001b[0m \u001b[0;32min\u001b[0m \u001b[0mword2vec\u001b[0m\u001b[0;34m:\u001b[0m\u001b[0;34m\u001b[0m\u001b[0;34m\u001b[0m\u001b[0m\n\u001b[0m\u001b[1;32m     11\u001b[0m         \u001b[0membedding_matrix\u001b[0m\u001b[0;34m[\u001b[0m\u001b[0midx\u001b[0m\u001b[0;34m]\u001b[0m \u001b[0;34m=\u001b[0m \u001b[0mword2vec\u001b[0m\u001b[0;34m[\u001b[0m\u001b[0mword\u001b[0m\u001b[0;34m]\u001b[0m\u001b[0;34m\u001b[0m\u001b[0;34m\u001b[0m\u001b[0m\n",
            "\u001b[0;31mNameError\u001b[0m: name 'word2vec' is not defined"
          ]
        }
      ]
    },
    {
      "cell_type": "code",
      "source": [
        "embedding_matrix[word2id['<PAD>']] = np.zeros(embedding_dim)\n"
      ],
      "metadata": {
        "id": "6brwm1sApC4w"
      },
      "execution_count": 217,
      "outputs": []
    },
    {
      "cell_type": "code",
      "source": [
        "self.embedding = nn.Embedding(vocab_size, embedding_dim, padding_idx=pad_idx)\n",
        "self.embedding.weight.data.copy_(torch.from_numpy(embedding_matrix))\n",
        "self.embedding.weight.requires_grad = True  # or False if you want to freeze it\n"
      ],
      "metadata": {
        "colab": {
          "base_uri": "https://localhost:8080/",
          "height": 173
        },
        "id": "ljRO5yk8pPqp",
        "outputId": "4336bdf8-8358-44f1-adde-15330d395e4c"
      },
      "execution_count": 203,
      "outputs": [
        {
          "output_type": "error",
          "ename": "NameError",
          "evalue": "name 'pad_idx' is not defined",
          "traceback": [
            "\u001b[0;31m---------------------------------------------------------------------------\u001b[0m",
            "\u001b[0;31mNameError\u001b[0m                                 Traceback (most recent call last)",
            "\u001b[0;32m/tmp/ipython-input-203-1346769395.py\u001b[0m in \u001b[0;36m<cell line: 0>\u001b[0;34m()\u001b[0m\n\u001b[0;32m----> 1\u001b[0;31m \u001b[0mself\u001b[0m\u001b[0;34m.\u001b[0m\u001b[0membedding\u001b[0m \u001b[0;34m=\u001b[0m \u001b[0mnn\u001b[0m\u001b[0;34m.\u001b[0m\u001b[0mEmbedding\u001b[0m\u001b[0;34m(\u001b[0m\u001b[0mvocab_size\u001b[0m\u001b[0;34m,\u001b[0m \u001b[0membedding_dim\u001b[0m\u001b[0;34m,\u001b[0m \u001b[0mpadding_idx\u001b[0m\u001b[0;34m=\u001b[0m\u001b[0mpad_idx\u001b[0m\u001b[0;34m)\u001b[0m\u001b[0;34m\u001b[0m\u001b[0;34m\u001b[0m\u001b[0m\n\u001b[0m\u001b[1;32m      2\u001b[0m \u001b[0mself\u001b[0m\u001b[0;34m.\u001b[0m\u001b[0membedding\u001b[0m\u001b[0;34m.\u001b[0m\u001b[0mweight\u001b[0m\u001b[0;34m.\u001b[0m\u001b[0mdata\u001b[0m\u001b[0;34m.\u001b[0m\u001b[0mcopy_\u001b[0m\u001b[0;34m(\u001b[0m\u001b[0mtorch\u001b[0m\u001b[0;34m.\u001b[0m\u001b[0mfrom_numpy\u001b[0m\u001b[0;34m(\u001b[0m\u001b[0membedding_matrix\u001b[0m\u001b[0;34m)\u001b[0m\u001b[0;34m)\u001b[0m\u001b[0;34m\u001b[0m\u001b[0;34m\u001b[0m\u001b[0m\n\u001b[1;32m      3\u001b[0m \u001b[0mself\u001b[0m\u001b[0;34m.\u001b[0m\u001b[0membedding\u001b[0m\u001b[0;34m.\u001b[0m\u001b[0mweight\u001b[0m\u001b[0;34m.\u001b[0m\u001b[0mrequires_grad\u001b[0m \u001b[0;34m=\u001b[0m \u001b[0;32mTrue\u001b[0m  \u001b[0;31m# or False if you want to freeze it\u001b[0m\u001b[0;34m\u001b[0m\u001b[0;34m\u001b[0m\u001b[0m\n",
            "\u001b[0;31mNameError\u001b[0m: name 'pad_idx' is not defined"
          ]
        }
      ]
    },
    {
      "cell_type": "markdown",
      "source": [
        "### Use Glove: add pretrained weight to the model to enhance performance"
      ],
      "metadata": {
        "id": "bETcuLYVsdCX"
      }
    },
    {
      "cell_type": "markdown",
      "source": [
        "Wikipedia 2014 + Gigaword 5 (6B tokens, 400K vocab, uncased, 50d, 100d, 200d, & 300d vectors, 822 MB download"
      ],
      "metadata": {
        "id": "x4h2XLOStyP1"
      }
    },
    {
      "cell_type": "code",
      "source": [
        "!wget https://nlp.stanford.edu/data/glove.6B.zip\n"
      ],
      "metadata": {
        "colab": {
          "base_uri": "https://localhost:8080/"
        },
        "id": "x5vsc7dIscWW",
        "outputId": "407ba6e7-fee6-4be9-ee06-b9b62621ca36"
      },
      "execution_count": 218,
      "outputs": [
        {
          "output_type": "stream",
          "name": "stdout",
          "text": [
            "--2025-07-02 10:37:59--  https://nlp.stanford.edu/data/glove.6B.zip\n",
            "Resolving nlp.stanford.edu (nlp.stanford.edu)... 171.64.67.140\n",
            "Connecting to nlp.stanford.edu (nlp.stanford.edu)|171.64.67.140|:443... connected.\n",
            "HTTP request sent, awaiting response... 301 Moved Permanently\n",
            "Location: https://downloads.cs.stanford.edu/nlp/data/glove.6B.zip [following]\n",
            "--2025-07-02 10:37:59--  https://downloads.cs.stanford.edu/nlp/data/glove.6B.zip\n",
            "Resolving downloads.cs.stanford.edu (downloads.cs.stanford.edu)... 171.64.64.22\n",
            "Connecting to downloads.cs.stanford.edu (downloads.cs.stanford.edu)|171.64.64.22|:443... connected.\n",
            "HTTP request sent, awaiting response... 200 OK\n",
            "Length: 862182613 (822M) [application/zip]\n",
            "Saving to: ‘glove.6B.zip’\n",
            "\n",
            "glove.6B.zip        100%[===================>] 822.24M  5.02MB/s    in 2m 39s  \n",
            "\n",
            "2025-07-02 10:40:39 (5.16 MB/s) - ‘glove.6B.zip’ saved [862182613/862182613]\n",
            "\n"
          ]
        }
      ]
    },
    {
      "cell_type": "code",
      "source": [
        "!unzip glove.6B.zip"
      ],
      "metadata": {
        "colab": {
          "base_uri": "https://localhost:8080/"
        },
        "id": "PiA8qi8huQXr",
        "outputId": "6f8fe042-2e73-43e7-a756-1104fe506216"
      },
      "execution_count": 219,
      "outputs": [
        {
          "output_type": "stream",
          "name": "stdout",
          "text": [
            "Archive:  glove.6B.zip\n",
            "  inflating: glove.6B.50d.txt        \n",
            "  inflating: glove.6B.100d.txt       \n",
            "  inflating: glove.6B.200d.txt       \n",
            "  inflating: glove.6B.300d.txt       \n"
          ]
        }
      ]
    },
    {
      "cell_type": "code",
      "source": [
        "def load_glove_embeddings(glove_file_path):\n",
        "    embeddings = {}\n",
        "    with open(glove_file_path, 'r', encoding='utf8') as f:\n",
        "        for line in f:\n",
        "            parts = line.strip().split()\n",
        "            word = parts[0]\n",
        "            vec = np.array(parts[1:], dtype=np.float32)\n",
        "            embeddings[word] = vec\n",
        "    return embeddings\n",
        "\n",
        "glove_path = \"glove.6B.300d.txt\"\n",
        "glove_embeddings = load_glove_embeddings(glove_path)"
      ],
      "metadata": {
        "id": "kaiR4vq_ubzx"
      },
      "execution_count": 246,
      "outputs": []
    },
    {
      "cell_type": "code",
      "source": [
        "embedding_dim = 300\n",
        "vocab_size = len(word2id)"
      ],
      "metadata": {
        "id": "7sNfnYcsvV3s"
      },
      "execution_count": 249,
      "outputs": []
    },
    {
      "cell_type": "code",
      "source": [
        "embedding_dict = {}"
      ],
      "metadata": {
        "collapsed": true,
        "id": "_kQh7fBeu5bc"
      },
      "execution_count": 248,
      "outputs": []
    },
    {
      "cell_type": "code",
      "source": [
        "for word, idx in word2id.items():\n",
        "    if word in glove_embeddings:\n",
        "        embedding_dict[word] = glove_embeddings[word]\n",
        "    else:\n",
        "\n",
        "        embedding_dict[word] = np.random.uniform(-0.25, 0.25, embedding_dim).astype(np.float32)\n"
      ],
      "metadata": {
        "id": "n4wTS68JvzmQ"
      },
      "execution_count": 230,
      "outputs": []
    },
    {
      "cell_type": "code",
      "source": [
        "not_found_count = 0\n",
        "not_found_words = []\n",
        "\n",
        "for word in word2id:\n",
        "    if word not in glove_embeddings:\n",
        "        not_found_count += 1\n",
        "        not_found_words.append(word)\n",
        "\n",
        "print(f\"❗ Words not found in GloVe: {not_found_count} / {len(word2id)}\")\n"
      ],
      "metadata": {
        "colab": {
          "base_uri": "https://localhost:8080/"
        },
        "id": "o8viaRqLwzgg",
        "outputId": "9aa82ea6-777f-46b9-c4ec-174e304f808f"
      },
      "execution_count": 232,
      "outputs": [
        {
          "output_type": "stream",
          "name": "stdout",
          "text": [
            "❗ Words not found in GloVe: 13478 / 30523\n"
          ]
        }
      ]
    },
    {
      "cell_type": "markdown",
      "source": [
        "### Training using Glove 300d"
      ],
      "metadata": {
        "id": "SeGiVQ3YxRY6"
      }
    },
    {
      "cell_type": "code",
      "source": [
        "len(word2id)"
      ],
      "metadata": {
        "colab": {
          "base_uri": "https://localhost:8080/"
        },
        "id": "1MgKOXco0FQ2",
        "outputId": "105d9e07-b93a-4c76-8486-6d957d422d43"
      },
      "execution_count": 250,
      "outputs": [
        {
          "output_type": "execute_result",
          "data": {
            "text/plain": [
              "30523"
            ]
          },
          "metadata": {},
          "execution_count": 250
        }
      ]
    },
    {
      "cell_type": "code",
      "source": [
        "vocab_size = len(word2id)\n",
        "embedding_matrix = np.random.uniform(-0.25, 0.25, (vocab_size, embedding_dim)).astype(np.float32)\n",
        "\n",
        "\n",
        "for word, idx in word2id.items():\n",
        "    if word in glove_embeddings:\n",
        "        embedding_matrix[idx] = glove_embeddings[word]\n",
        "\n",
        "embedding_matrix[word2id[\"<PAD>\"]] = np.zeros(embedding_dim)\n",
        "embedding_matrix[word2id[\"<UNK>\"]] = np.mean(list(glove_embeddings.values()), axis=0)\n"
      ],
      "metadata": {
        "id": "wZC_LNwl03h7"
      },
      "execution_count": 251,
      "outputs": []
    },
    {
      "cell_type": "code",
      "source": [
        "embedding_matrix.shape[0]"
      ],
      "metadata": {
        "colab": {
          "base_uri": "https://localhost:8080/"
        },
        "id": "HDx4r2tpEl1A",
        "outputId": "e343f02c-7d47-4a8c-b4a5-2f44739dfe2e"
      },
      "execution_count": 313,
      "outputs": [
        {
          "output_type": "execute_result",
          "data": {
            "text/plain": [
              "30523"
            ]
          },
          "metadata": {},
          "execution_count": 313
        }
      ]
    },
    {
      "cell_type": "code",
      "source": [
        "class BiLSTMTagger_Glove(torch.nn.Module):\n",
        "    def __init__(self,\n",
        "                 tagset_size: int,\n",
        "                 vocab_size:int = embedding_matrix.shape[0],\n",
        "                 embedding_dim = embedding_matrix.shape[1],\n",
        "                 hidden_dim: int = 128,\n",
        "                 num_layers: int = 1,\n",
        "                 dropout: float = 0.3,\n",
        "                 pad_idx: int = 0,\n",
        "                 pretrained_weights =None):  #pad_idx = vocab[\"<pad>\"]\n",
        "        super().__init__()  # python 3+ , if python 2+ then , super(BiLSTMTagger,self)\n",
        "\n",
        "        self.embedding = nn.Embedding(vocab_size, embedding_dim, padding_idx=pad_idx)\n",
        "\n",
        "        if pretrained_weights is not None:\n",
        "          self.embedding.weight.data.copy_(torch.from_numpy(pretrained_weights))\n",
        "          self.embedding.weight.requires_grad = False #allow fine-tuning\n",
        "\n",
        "        self.lstm = nn.LSTM(\n",
        "            input_size=embedding_dim,\n",
        "            hidden_size=hidden_dim,\n",
        "            num_layers=num_layers,\n",
        "            bidirectional=True,  ## hidden backward + hidden forward (h_tf+ h_tb)  # single then remove 2 ,\n",
        "\n",
        "            batch_first=True,\n",
        "            dropout=dropout if num_layers > 1 else 0.0\n",
        "        )\n",
        "\n",
        "\n",
        "        self.dropout = nn.Dropout(dropout)\n",
        "        # each time step we pass the output of LSTM to a fully connected layer\n",
        "        self.fc = nn.Linear(hidden_dim *2, tagset_size) # tagset_size = 10\n",
        "        self.softmax = nn.Softmax(dim=-1)\n",
        "\n",
        "    def forward(self, x: torch.LongTensor,lengths: torch.LongTensor):\n",
        "        # exercice: put the shape of each layer\n",
        "        emb = self.embedding(x)  # (B,S,E_dim)\n",
        "        # Pack to let LSTM skip the padded tokens\n",
        "        # there are some sequences whose lengths are greater than 40(padding sequence)\n",
        "        lengths = torch.clamp(lengths, max = x.size(1))\n",
        "\n",
        "        packed = pack_padded_sequence(emb, lengths.cpu(), batch_first=True, enforce_sorted=False) #(T_total, Emb) (sum of actual sequence length)\n",
        "        # LSTM\n",
        "        packed_out,_ = self.lstm(packed)  # (T_total,Hidden_dimension*2(2H)) Hidden state for each time step  # Pytorch initialize the initial state to zero\n",
        "        lstm_out,_ = pad_packed_sequence(packed_out, batch_first=True, total_length=x.size(1))  # (B,S,2H) Ignore o, c, etc\n",
        "\n",
        "        out = self.dropout(lstm_out)  #(B,S,2H)\n",
        "        logits = self.fc(out) #(B,S,C)\n",
        "        return logits"
      ],
      "metadata": {
        "collapsed": true,
        "id": "LgYX5MYt04qR"
      },
      "execution_count": 319,
      "outputs": []
    },
    {
      "cell_type": "code",
      "source": [
        "vocab_size"
      ],
      "metadata": {
        "colab": {
          "base_uri": "https://localhost:8080/"
        },
        "id": "7WwmwcHJAl-N",
        "outputId": "9bdf3566-05ab-4db7-a3c8-2497c5ce2dc9"
      },
      "execution_count": 320,
      "outputs": [
        {
          "output_type": "execute_result",
          "data": {
            "text/plain": [
              "30523"
            ]
          },
          "metadata": {},
          "execution_count": 320
        }
      ]
    },
    {
      "cell_type": "code",
      "source": [
        "device = torch.device('cuda' if torch.cuda.is_available() else 'cpu')\n",
        "model_glove = BiLSTMTagger_Glove(TAGSET_SIZE,pretrained_weights=embedding_matrix).to(device)\n",
        "criterion = nn.CrossEntropyLoss(ignore_index= PAD_IDX)\n",
        "#nn.CrossEntropyLoss—it expects raw logits and internally does a log_softmax followed by an NLL loss.\n",
        "optimizer = torch.optim.Adam(model.parameters(), lr = learning_rate, weight_decay= 5e-4)"
      ],
      "metadata": {
        "id": "yiZiMXJxAXZ8"
      },
      "execution_count": 325,
      "outputs": []
    },
    {
      "cell_type": "code",
      "source": [
        "model_glove"
      ],
      "metadata": {
        "colab": {
          "base_uri": "https://localhost:8080/"
        },
        "id": "Ca4o5UWhBPB_",
        "outputId": "67773809-34df-4e44-e5c1-7b1023ae5139"
      },
      "execution_count": 326,
      "outputs": [
        {
          "output_type": "execute_result",
          "data": {
            "text/plain": [
              "BiLSTMTagger_Glove(\n",
              "  (embedding): Embedding(30523, 300, padding_idx=0)\n",
              "  (lstm): LSTM(300, 128, batch_first=True, bidirectional=True)\n",
              "  (dropout): Dropout(p=0.3, inplace=False)\n",
              "  (fc): Linear(in_features=256, out_features=11, bias=True)\n",
              "  (softmax): Softmax(dim=-1)\n",
              ")"
            ]
          },
          "metadata": {},
          "execution_count": 326
        }
      ]
    },
    {
      "cell_type": "code",
      "source": [
        "from tqdm import tqdm\n",
        "torch.manual_seed(42)\n",
        "\n",
        "for epoch in range(NUM_EPOCHS):\n",
        "    model_glove.train()\n",
        "\n",
        "    train_loss = 0.0\n",
        "    for batch_tokens, batch_tags, lengths in loader_train :  # tuple from the collate_fn function\n",
        "        batch_tokens = batch_tokens.to(device) #unecessary here since it is automatic\n",
        "        lengths = lengths.to(device)\n",
        "        batch_tags = batch_tags.to(device)\n",
        "\n",
        "\n",
        "        optimizer.zero_grad()\n",
        "\n",
        "        # Forward pass\n",
        "        logits = model_glove(batch_tokens,lengths)  # (B, S, C)  C = 10\n",
        "\n",
        "        # Flatten logits and targets for loss computation\n",
        "        logits = logits.reshape(-1, logits.size(-1))  # (B*S, C)\n",
        "        batch_tags = batch_tags.view(-1) #true value             # (B*S)\n",
        "        # Compute loss\n",
        "        loss = criterion(logits, batch_tags)\n",
        "        # Backpropagation with anomaly detection\n",
        "        with torch.autograd.set_detect_anomaly(True):\n",
        "            loss.backward()\n",
        "\n",
        "        optimizer.step()\n",
        "        train_loss += loss.item()\n",
        "\n",
        "\n",
        "    train_loss_avg = train_loss/len(loader_train) #number of batch\n",
        "    #test on validation dataset\n",
        "    val_loss = 0.0\n",
        "    valid_accuracy = 0\n",
        "\n",
        "    model_glove.eval()\n",
        "    with torch.inference_mode():\n",
        "        for tokens, tags, lengths_valid in loader_valid:\n",
        "            tokens = tokens.to(device)\n",
        "            tags = tags.to(device)\n",
        "            lengths_valid = lengths_valid.to(device)\n",
        "\n",
        "            output = model_glove(tokens,lengths_valid)  #shape (B,S,C)\n",
        "            output_flat = output.view(-1,output.size(-1))  #(B*S,C)\n",
        "            tags_flat = tags.view(-1)  # shape (B*S,)\n",
        "            loss = criterion(output_flat,tags_flat)\n",
        "            val_loss += loss.item()\n",
        "            prediction_valid = torch.argmax(output,dim =-1)\n",
        "            valid_accuracy += accuracy(prediction_valid,tags,pad_idx = PAD_IDX)\n",
        "\n",
        "\n",
        "    valid_accuracy_avg = valid_accuracy/len(loader_valid)\n",
        "    valid_loss_avg = val_loss/len(loader_valid)\n",
        "    print(f\"Epoch {epoch+1} — Train_Loss: {train_loss_avg:.4f}, Valid_Loss: {valid_loss_avg:.4f}, Accuracy_valid: {valid_accuracy_avg:.4f}\")\n",
        "    with open(\"training_log.txt\", \"a\") as f:\n",
        "        f.write(f\"Epoch {epoch+1} — Train_Loss: {train_loss_avg:.4f}, Valid_Loss: {valid_loss_avg:.4f}, Accuracy_valid: {valid_accuracy_avg:.4f}\\n\")\n",
        "    early_stopping(valid_loss_avg, model_glove)\n",
        "    if early_stopping.early_stop:\n",
        "        print(\"Early stopping\")\n",
        "        break\n",
        "\n",
        "early_stopping.load_best_model(model_glove)\n",
        "\n"
      ],
      "metadata": {
        "colab": {
          "base_uri": "https://localhost:8080/"
        },
        "id": "6J52aoxVAKtc",
        "outputId": "8b18a96b-2e83-4aec-88f8-29fa0815e772"
      },
      "execution_count": 327,
      "outputs": [
        {
          "output_type": "stream",
          "name": "stdout",
          "text": [
            "Epoch 1 — Train_Loss: 2.3175, Valid_Loss: 2.3285, Accuracy_valid: 0.6976\n",
            "Early stopping\n"
          ]
        }
      ]
    },
    {
      "cell_type": "code",
      "source": [
        "num_zeros = np.sum(np.all(embedding_matrix == 0, axis=1))\n",
        "print(f\"{num_zeros} out of {embedding_matrix.shape[0]} embeddings are all zeros.\")\n"
      ],
      "metadata": {
        "colab": {
          "base_uri": "https://localhost:8080/"
        },
        "id": "H5WXlXrGIl9e",
        "outputId": "bc16c222-f295-4ed8-c7e2-cfa09fc3a71f"
      },
      "execution_count": 324,
      "outputs": [
        {
          "output_type": "stream",
          "name": "stdout",
          "text": [
            "1 out of 30523 embeddings are all zeros.\n"
          ]
        }
      ]
    }
  ],
  "metadata": {
    "kernelspec": {
      "display_name": "Python 3",
      "name": "python3"
    },
    "language_info": {
      "codemirror_mode": {
        "name": "ipython",
        "version": 3
      },
      "file_extension": ".py",
      "mimetype": "text/x-python",
      "name": "python",
      "nbconvert_exporter": "python",
      "pygments_lexer": "ipython3",
      "version": "3.11.7"
    },
    "colab": {
      "provenance": [],
      "machine_shape": "hm",
      "gpuType": "T4"
    },
    "accelerator": "GPU"
  },
  "nbformat": 4,
  "nbformat_minor": 0
}