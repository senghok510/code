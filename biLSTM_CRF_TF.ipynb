{
 "cells": [
  {
   "cell_type": "markdown",
   "metadata": {},
   "source": [
    "## Name entity recognition \n",
    "\n",
    "# Author: Hok Seng"
   ]
  },
  {
   "cell_type": "markdown",
   "metadata": {},
   "source": [
    "<p>\n",
    "    <b>Notebook Sections</b><br>\n",
    "    This notebook is divided into the following sections:\n",
    "    <ul>\n",
    "        <li>A. Setting Environment</li>\n",
    "        <li>B. Set the Devic (cpu or mps) </li>\n",
    "    </ul>\n",
    "</p>"
   ]
  },
  {
   "cell_type": "code",
   "execution_count": 6,
   "metadata": {},
   "outputs": [
    {
     "data": {
      "text/plain": [
       "'/Users/senghok/Documents/Internship 2A/code'"
      ]
     },
     "execution_count": 6,
     "metadata": {},
     "output_type": "execute_result"
    }
   ],
   "source": [
    "import os\n",
    "import subprocess\n",
    "import requests\n",
    "\n",
    "os.getcwd()"
   ]
  },
  {
   "cell_type": "markdown",
   "metadata": {},
   "source": [
    "## Download necessary packages"
   ]
  },
  {
   "cell_type": "code",
   "execution_count": 7,
   "metadata": {},
   "outputs": [
    {
     "name": "stdout",
     "output_type": "stream",
     "text": [
      "Requirement already satisfied: pandas in ./venv/lib/python3.11/site-packages (2.3.0)\n",
      "Requirement already satisfied: numpy>=1.23.2 in ./venv/lib/python3.11/site-packages (from pandas) (2.1.3)\n",
      "Requirement already satisfied: python-dateutil>=2.8.2 in ./venv/lib/python3.11/site-packages (from pandas) (2.9.0.post0)\n",
      "Requirement already satisfied: pytz>=2020.1 in ./venv/lib/python3.11/site-packages (from pandas) (2025.2)\n",
      "Requirement already satisfied: tzdata>=2022.7 in ./venv/lib/python3.11/site-packages (from pandas) (2025.2)\n",
      "Requirement already satisfied: six>=1.5 in ./venv/lib/python3.11/site-packages (from python-dateutil>=2.8.2->pandas) (1.17.0)\n"
     ]
    },
    {
     "name": "stderr",
     "output_type": "stream",
     "text": [
      "\n",
      "\u001b[1m[\u001b[0m\u001b[34;49mnotice\u001b[0m\u001b[1;39;49m]\u001b[0m\u001b[39;49m A new release of pip is available: \u001b[0m\u001b[31;49m23.2.1\u001b[0m\u001b[39;49m -> \u001b[0m\u001b[32;49m25.1.1\u001b[0m\n",
      "\u001b[1m[\u001b[0m\u001b[34;49mnotice\u001b[0m\u001b[1;39;49m]\u001b[0m\u001b[39;49m To update, run: \u001b[0m\u001b[32;49mpip install --upgrade pip\u001b[0m\n"
     ]
    },
    {
     "name": "stdout",
     "output_type": "stream",
     "text": [
      "Requirement already satisfied: pandas in ./venv/lib/python3.11/site-packages (2.3.0)\n",
      "Requirement already satisfied: numpy>=1.23.2 in ./venv/lib/python3.11/site-packages (from pandas) (2.1.3)\n",
      "Requirement already satisfied: python-dateutil>=2.8.2 in ./venv/lib/python3.11/site-packages (from pandas) (2.9.0.post0)\n",
      "Requirement already satisfied: pytz>=2020.1 in ./venv/lib/python3.11/site-packages (from pandas) (2025.2)\n",
      "Requirement already satisfied: tzdata>=2022.7 in ./venv/lib/python3.11/site-packages (from pandas) (2025.2)\n",
      "Requirement already satisfied: six>=1.5 in ./venv/lib/python3.11/site-packages (from python-dateutil>=2.8.2->pandas) (1.17.0)\n",
      "\n",
      "\u001b[1m[\u001b[0m\u001b[34;49mnotice\u001b[0m\u001b[1;39;49m]\u001b[0m\u001b[39;49m A new release of pip is available: \u001b[0m\u001b[31;49m23.2.1\u001b[0m\u001b[39;49m -> \u001b[0m\u001b[32;49m25.1.1\u001b[0m\n",
      "\u001b[1m[\u001b[0m\u001b[34;49mnotice\u001b[0m\u001b[1;39;49m]\u001b[0m\u001b[39;49m To update, run: \u001b[0m\u001b[32;49mpip install --upgrade pip\u001b[0m\n",
      "Note: you may need to restart the kernel to use updated packages.\n",
      "Requirement already satisfied: numpy in ./venv/lib/python3.11/site-packages (2.1.3)\n"
     ]
    },
    {
     "name": "stderr",
     "output_type": "stream",
     "text": [
      "\n",
      "\u001b[1m[\u001b[0m\u001b[34;49mnotice\u001b[0m\u001b[1;39;49m]\u001b[0m\u001b[39;49m A new release of pip is available: \u001b[0m\u001b[31;49m23.2.1\u001b[0m\u001b[39;49m -> \u001b[0m\u001b[32;49m25.1.1\u001b[0m\n",
      "\u001b[1m[\u001b[0m\u001b[34;49mnotice\u001b[0m\u001b[1;39;49m]\u001b[0m\u001b[39;49m To update, run: \u001b[0m\u001b[32;49mpip install --upgrade pip\u001b[0m\n"
     ]
    },
    {
     "name": "stdout",
     "output_type": "stream",
     "text": [
      "Requirement already satisfied: numpy in ./venv/lib/python3.11/site-packages (2.1.3)\n",
      "\n",
      "\u001b[1m[\u001b[0m\u001b[34;49mnotice\u001b[0m\u001b[1;39;49m]\u001b[0m\u001b[39;49m A new release of pip is available: \u001b[0m\u001b[31;49m23.2.1\u001b[0m\u001b[39;49m -> \u001b[0m\u001b[32;49m25.1.1\u001b[0m\n",
      "\u001b[1m[\u001b[0m\u001b[34;49mnotice\u001b[0m\u001b[1;39;49m]\u001b[0m\u001b[39;49m To update, run: \u001b[0m\u001b[32;49mpip install --upgrade pip\u001b[0m\n",
      "Note: you may need to restart the kernel to use updated packages.\n",
      "Requirement already satisfied: scikit-learn in ./venv/lib/python3.11/site-packages (1.7.0)\n",
      "Requirement already satisfied: numpy>=1.22.0 in ./venv/lib/python3.11/site-packages (from scikit-learn) (2.1.3)\n",
      "Requirement already satisfied: scipy>=1.8.0 in ./venv/lib/python3.11/site-packages (from scikit-learn) (1.16.0)\n",
      "Requirement already satisfied: joblib>=1.2.0 in ./venv/lib/python3.11/site-packages (from scikit-learn) (1.5.1)\n",
      "Requirement already satisfied: threadpoolctl>=3.1.0 in ./venv/lib/python3.11/site-packages (from scikit-learn) (3.6.0)\n"
     ]
    },
    {
     "name": "stderr",
     "output_type": "stream",
     "text": [
      "\n",
      "\u001b[1m[\u001b[0m\u001b[34;49mnotice\u001b[0m\u001b[1;39;49m]\u001b[0m\u001b[39;49m A new release of pip is available: \u001b[0m\u001b[31;49m23.2.1\u001b[0m\u001b[39;49m -> \u001b[0m\u001b[32;49m25.1.1\u001b[0m\n",
      "\u001b[1m[\u001b[0m\u001b[34;49mnotice\u001b[0m\u001b[1;39;49m]\u001b[0m\u001b[39;49m To update, run: \u001b[0m\u001b[32;49mpip install --upgrade pip\u001b[0m\n"
     ]
    },
    {
     "name": "stdout",
     "output_type": "stream",
     "text": [
      "Requirement already satisfied: scikit-learn in ./venv/lib/python3.11/site-packages (1.7.0)\n",
      "Requirement already satisfied: numpy>=1.22.0 in ./venv/lib/python3.11/site-packages (from scikit-learn) (2.1.3)\n",
      "Requirement already satisfied: scipy>=1.8.0 in ./venv/lib/python3.11/site-packages (from scikit-learn) (1.16.0)\n",
      "Requirement already satisfied: joblib>=1.2.0 in ./venv/lib/python3.11/site-packages (from scikit-learn) (1.5.1)\n",
      "Requirement already satisfied: threadpoolctl>=3.1.0 in ./venv/lib/python3.11/site-packages (from scikit-learn) (3.6.0)\n",
      "\n",
      "\u001b[1m[\u001b[0m\u001b[34;49mnotice\u001b[0m\u001b[1;39;49m]\u001b[0m\u001b[39;49m A new release of pip is available: \u001b[0m\u001b[31;49m23.2.1\u001b[0m\u001b[39;49m -> \u001b[0m\u001b[32;49m25.1.1\u001b[0m\n",
      "\u001b[1m[\u001b[0m\u001b[34;49mnotice\u001b[0m\u001b[1;39;49m]\u001b[0m\u001b[39;49m To update, run: \u001b[0m\u001b[32;49mpip install --upgrade pip\u001b[0m\n",
      "Note: you may need to restart the kernel to use updated packages.\n",
      "Requirement already satisfied: torch in ./venv/lib/python3.11/site-packages (2.7.1)\n",
      "Requirement already satisfied: filelock in ./venv/lib/python3.11/site-packages (from torch) (3.18.0)\n",
      "Requirement already satisfied: typing-extensions>=4.10.0 in ./venv/lib/python3.11/site-packages (from torch) (4.14.0)\n",
      "Requirement already satisfied: sympy>=1.13.3 in ./venv/lib/python3.11/site-packages (from torch) (1.14.0)\n",
      "Requirement already satisfied: networkx in ./venv/lib/python3.11/site-packages (from torch) (3.5)\n",
      "Requirement already satisfied: jinja2 in ./venv/lib/python3.11/site-packages (from torch) (3.1.6)\n",
      "Requirement already satisfied: fsspec in ./venv/lib/python3.11/site-packages (from torch) (2025.5.1)\n",
      "Requirement already satisfied: mpmath<1.4,>=1.1.0 in ./venv/lib/python3.11/site-packages (from sympy>=1.13.3->torch) (1.3.0)\n",
      "Requirement already satisfied: MarkupSafe>=2.0 in ./venv/lib/python3.11/site-packages (from jinja2->torch) (3.0.2)\n"
     ]
    },
    {
     "name": "stderr",
     "output_type": "stream",
     "text": [
      "\n",
      "\u001b[1m[\u001b[0m\u001b[34;49mnotice\u001b[0m\u001b[1;39;49m]\u001b[0m\u001b[39;49m A new release of pip is available: \u001b[0m\u001b[31;49m23.2.1\u001b[0m\u001b[39;49m -> \u001b[0m\u001b[32;49m25.1.1\u001b[0m\n",
      "\u001b[1m[\u001b[0m\u001b[34;49mnotice\u001b[0m\u001b[1;39;49m]\u001b[0m\u001b[39;49m To update, run: \u001b[0m\u001b[32;49mpip install --upgrade pip\u001b[0m\n"
     ]
    },
    {
     "name": "stdout",
     "output_type": "stream",
     "text": [
      "Requirement already satisfied: torch in ./venv/lib/python3.11/site-packages (2.7.1)\n",
      "Requirement already satisfied: filelock in ./venv/lib/python3.11/site-packages (from torch) (3.18.0)\n",
      "Requirement already satisfied: typing-extensions>=4.10.0 in ./venv/lib/python3.11/site-packages (from torch) (4.14.0)\n",
      "Requirement already satisfied: sympy>=1.13.3 in ./venv/lib/python3.11/site-packages (from torch) (1.14.0)\n",
      "Requirement already satisfied: networkx in ./venv/lib/python3.11/site-packages (from torch) (3.5)\n",
      "Requirement already satisfied: jinja2 in ./venv/lib/python3.11/site-packages (from torch) (3.1.6)\n",
      "Requirement already satisfied: fsspec in ./venv/lib/python3.11/site-packages (from torch) (2025.5.1)\n",
      "Requirement already satisfied: mpmath<1.4,>=1.1.0 in ./venv/lib/python3.11/site-packages (from sympy>=1.13.3->torch) (1.3.0)\n",
      "Requirement already satisfied: MarkupSafe>=2.0 in ./venv/lib/python3.11/site-packages (from jinja2->torch) (3.0.2)\n",
      "\n",
      "\u001b[1m[\u001b[0m\u001b[34;49mnotice\u001b[0m\u001b[1;39;49m]\u001b[0m\u001b[39;49m A new release of pip is available: \u001b[0m\u001b[31;49m23.2.1\u001b[0m\u001b[39;49m -> \u001b[0m\u001b[32;49m25.1.1\u001b[0m\n",
      "\u001b[1m[\u001b[0m\u001b[34;49mnotice\u001b[0m\u001b[1;39;49m]\u001b[0m\u001b[39;49m To update, run: \u001b[0m\u001b[32;49mpip install --upgrade pip\u001b[0m\n",
      "Note: you may need to restart the kernel to use updated packages.\n",
      "Requirement already satisfied: transformers in ./venv/lib/python3.11/site-packages (4.52.4)\n",
      "Requirement already satisfied: filelock in ./venv/lib/python3.11/site-packages (from transformers) (3.18.0)\n",
      "Requirement already satisfied: huggingface-hub<1.0,>=0.30.0 in ./venv/lib/python3.11/site-packages (from transformers) (0.33.0)\n",
      "Requirement already satisfied: numpy>=1.17 in ./venv/lib/python3.11/site-packages (from transformers) (2.1.3)\n",
      "Requirement already satisfied: packaging>=20.0 in ./venv/lib/python3.11/site-packages (from transformers) (25.0)\n",
      "Requirement already satisfied: pyyaml>=5.1 in ./venv/lib/python3.11/site-packages (from transformers) (6.0.2)\n",
      "Requirement already satisfied: regex!=2019.12.17 in ./venv/lib/python3.11/site-packages (from transformers) (2024.11.6)\n",
      "Requirement already satisfied: requests in ./venv/lib/python3.11/site-packages (from transformers) (2.32.4)\n",
      "Requirement already satisfied: tokenizers<0.22,>=0.21 in ./venv/lib/python3.11/site-packages (from transformers) (0.21.1)\n",
      "Requirement already satisfied: safetensors>=0.4.3 in ./venv/lib/python3.11/site-packages (from transformers) (0.5.3)\n",
      "Requirement already satisfied: tqdm>=4.27 in ./venv/lib/python3.11/site-packages (from transformers) (4.67.1)\n",
      "Requirement already satisfied: fsspec>=2023.5.0 in ./venv/lib/python3.11/site-packages (from huggingface-hub<1.0,>=0.30.0->transformers) (2025.5.1)\n",
      "Requirement already satisfied: typing-extensions>=3.7.4.3 in ./venv/lib/python3.11/site-packages (from huggingface-hub<1.0,>=0.30.0->transformers) (4.14.0)\n",
      "Requirement already satisfied: hf-xet<2.0.0,>=1.1.2 in ./venv/lib/python3.11/site-packages (from huggingface-hub<1.0,>=0.30.0->transformers) (1.1.5)\n",
      "Requirement already satisfied: charset_normalizer<4,>=2 in ./venv/lib/python3.11/site-packages (from requests->transformers) (3.4.2)\n",
      "Requirement already satisfied: idna<4,>=2.5 in ./venv/lib/python3.11/site-packages (from requests->transformers) (3.10)\n",
      "Requirement already satisfied: urllib3<3,>=1.21.1 in ./venv/lib/python3.11/site-packages (from requests->transformers) (2.5.0)\n",
      "Requirement already satisfied: certifi>=2017.4.17 in ./venv/lib/python3.11/site-packages (from requests->transformers) (2025.6.15)\n"
     ]
    },
    {
     "name": "stderr",
     "output_type": "stream",
     "text": [
      "\n",
      "\u001b[1m[\u001b[0m\u001b[34;49mnotice\u001b[0m\u001b[1;39;49m]\u001b[0m\u001b[39;49m A new release of pip is available: \u001b[0m\u001b[31;49m23.2.1\u001b[0m\u001b[39;49m -> \u001b[0m\u001b[32;49m25.1.1\u001b[0m\n",
      "\u001b[1m[\u001b[0m\u001b[34;49mnotice\u001b[0m\u001b[1;39;49m]\u001b[0m\u001b[39;49m To update, run: \u001b[0m\u001b[32;49mpip install --upgrade pip\u001b[0m\n"
     ]
    },
    {
     "name": "stdout",
     "output_type": "stream",
     "text": [
      "Requirement already satisfied: transformers in ./venv/lib/python3.11/site-packages (4.52.4)\n",
      "Requirement already satisfied: filelock in ./venv/lib/python3.11/site-packages (from transformers) (3.18.0)\n",
      "Requirement already satisfied: huggingface-hub<1.0,>=0.30.0 in ./venv/lib/python3.11/site-packages (from transformers) (0.33.0)\n",
      "Requirement already satisfied: numpy>=1.17 in ./venv/lib/python3.11/site-packages (from transformers) (2.1.3)\n",
      "Requirement already satisfied: packaging>=20.0 in ./venv/lib/python3.11/site-packages (from transformers) (25.0)\n",
      "Requirement already satisfied: pyyaml>=5.1 in ./venv/lib/python3.11/site-packages (from transformers) (6.0.2)\n",
      "Requirement already satisfied: regex!=2019.12.17 in ./venv/lib/python3.11/site-packages (from transformers) (2024.11.6)\n",
      "Requirement already satisfied: requests in ./venv/lib/python3.11/site-packages (from transformers) (2.32.4)\n",
      "Requirement already satisfied: tokenizers<0.22,>=0.21 in ./venv/lib/python3.11/site-packages (from transformers) (0.21.1)\n",
      "Requirement already satisfied: safetensors>=0.4.3 in ./venv/lib/python3.11/site-packages (from transformers) (0.5.3)\n",
      "Requirement already satisfied: tqdm>=4.27 in ./venv/lib/python3.11/site-packages (from transformers) (4.67.1)\n",
      "Requirement already satisfied: fsspec>=2023.5.0 in ./venv/lib/python3.11/site-packages (from huggingface-hub<1.0,>=0.30.0->transformers) (2025.5.1)\n",
      "Requirement already satisfied: typing-extensions>=3.7.4.3 in ./venv/lib/python3.11/site-packages (from huggingface-hub<1.0,>=0.30.0->transformers) (4.14.0)\n",
      "Requirement already satisfied: hf-xet<2.0.0,>=1.1.2 in ./venv/lib/python3.11/site-packages (from huggingface-hub<1.0,>=0.30.0->transformers) (1.1.5)\n",
      "Requirement already satisfied: charset_normalizer<4,>=2 in ./venv/lib/python3.11/site-packages (from requests->transformers) (3.4.2)\n",
      "Requirement already satisfied: idna<4,>=2.5 in ./venv/lib/python3.11/site-packages (from requests->transformers) (3.10)\n",
      "Requirement already satisfied: urllib3<3,>=1.21.1 in ./venv/lib/python3.11/site-packages (from requests->transformers) (2.5.0)\n",
      "Requirement already satisfied: certifi>=2017.4.17 in ./venv/lib/python3.11/site-packages (from requests->transformers) (2025.6.15)\n",
      "\n",
      "\u001b[1m[\u001b[0m\u001b[34;49mnotice\u001b[0m\u001b[1;39;49m]\u001b[0m\u001b[39;49m A new release of pip is available: \u001b[0m\u001b[31;49m23.2.1\u001b[0m\u001b[39;49m -> \u001b[0m\u001b[32;49m25.1.1\u001b[0m\n",
      "\u001b[1m[\u001b[0m\u001b[34;49mnotice\u001b[0m\u001b[1;39;49m]\u001b[0m\u001b[39;49m To update, run: \u001b[0m\u001b[32;49mpip install --upgrade pip\u001b[0m\n",
      "Note: you may need to restart the kernel to use updated packages.\n",
      "Requirement already satisfied: matplotlib in ./venv/lib/python3.11/site-packages (3.10.3)\n",
      "Requirement already satisfied: contourpy>=1.0.1 in ./venv/lib/python3.11/site-packages (from matplotlib) (1.3.2)\n",
      "Requirement already satisfied: cycler>=0.10 in ./venv/lib/python3.11/site-packages (from matplotlib) (0.12.1)\n",
      "Requirement already satisfied: fonttools>=4.22.0 in ./venv/lib/python3.11/site-packages (from matplotlib) (4.58.4)\n",
      "Requirement already satisfied: kiwisolver>=1.3.1 in ./venv/lib/python3.11/site-packages (from matplotlib) (1.4.8)\n",
      "Requirement already satisfied: numpy>=1.23 in ./venv/lib/python3.11/site-packages (from matplotlib) (2.1.3)\n",
      "Requirement already satisfied: packaging>=20.0 in ./venv/lib/python3.11/site-packages (from matplotlib) (25.0)\n",
      "Requirement already satisfied: pillow>=8 in ./venv/lib/python3.11/site-packages (from matplotlib) (11.2.1)\n",
      "Requirement already satisfied: pyparsing>=2.3.1 in ./venv/lib/python3.11/site-packages (from matplotlib) (3.2.3)\n",
      "Requirement already satisfied: python-dateutil>=2.7 in ./venv/lib/python3.11/site-packages (from matplotlib) (2.9.0.post0)\n",
      "Requirement already satisfied: six>=1.5 in ./venv/lib/python3.11/site-packages (from python-dateutil>=2.7->matplotlib) (1.17.0)\n"
     ]
    },
    {
     "name": "stderr",
     "output_type": "stream",
     "text": [
      "\n",
      "\u001b[1m[\u001b[0m\u001b[34;49mnotice\u001b[0m\u001b[1;39;49m]\u001b[0m\u001b[39;49m A new release of pip is available: \u001b[0m\u001b[31;49m23.2.1\u001b[0m\u001b[39;49m -> \u001b[0m\u001b[32;49m25.1.1\u001b[0m\n",
      "\u001b[1m[\u001b[0m\u001b[34;49mnotice\u001b[0m\u001b[1;39;49m]\u001b[0m\u001b[39;49m To update, run: \u001b[0m\u001b[32;49mpip install --upgrade pip\u001b[0m\n"
     ]
    },
    {
     "name": "stdout",
     "output_type": "stream",
     "text": [
      "Requirement already satisfied: matplotlib in ./venv/lib/python3.11/site-packages (3.10.3)\n",
      "Requirement already satisfied: contourpy>=1.0.1 in ./venv/lib/python3.11/site-packages (from matplotlib) (1.3.2)\n",
      "Requirement already satisfied: cycler>=0.10 in ./venv/lib/python3.11/site-packages (from matplotlib) (0.12.1)\n",
      "Requirement already satisfied: fonttools>=4.22.0 in ./venv/lib/python3.11/site-packages (from matplotlib) (4.58.4)\n",
      "Requirement already satisfied: kiwisolver>=1.3.1 in ./venv/lib/python3.11/site-packages (from matplotlib) (1.4.8)\n",
      "Requirement already satisfied: numpy>=1.23 in ./venv/lib/python3.11/site-packages (from matplotlib) (2.1.3)\n",
      "Requirement already satisfied: packaging>=20.0 in ./venv/lib/python3.11/site-packages (from matplotlib) (25.0)\n",
      "Requirement already satisfied: pillow>=8 in ./venv/lib/python3.11/site-packages (from matplotlib) (11.2.1)\n",
      "Requirement already satisfied: pyparsing>=2.3.1 in ./venv/lib/python3.11/site-packages (from matplotlib) (3.2.3)\n",
      "Requirement already satisfied: python-dateutil>=2.7 in ./venv/lib/python3.11/site-packages (from matplotlib) (2.9.0.post0)\n",
      "Requirement already satisfied: six>=1.5 in ./venv/lib/python3.11/site-packages (from python-dateutil>=2.7->matplotlib) (1.17.0)\n",
      "\n",
      "\u001b[1m[\u001b[0m\u001b[34;49mnotice\u001b[0m\u001b[1;39;49m]\u001b[0m\u001b[39;49m A new release of pip is available: \u001b[0m\u001b[31;49m23.2.1\u001b[0m\u001b[39;49m -> \u001b[0m\u001b[32;49m25.1.1\u001b[0m\n",
      "\u001b[1m[\u001b[0m\u001b[34;49mnotice\u001b[0m\u001b[1;39;49m]\u001b[0m\u001b[39;49m To update, run: \u001b[0m\u001b[32;49mpip install --upgrade pip\u001b[0m\n",
      "Note: you may need to restart the kernel to use updated packages.\n",
      "Requirement already satisfied: seaborn in ./venv/lib/python3.11/site-packages (0.13.2)\n",
      "Requirement already satisfied: numpy!=1.24.0,>=1.20 in ./venv/lib/python3.11/site-packages (from seaborn) (2.1.3)\n",
      "Requirement already satisfied: pandas>=1.2 in ./venv/lib/python3.11/site-packages (from seaborn) (2.3.0)\n",
      "Requirement already satisfied: matplotlib!=3.6.1,>=3.4 in ./venv/lib/python3.11/site-packages (from seaborn) (3.10.3)\n",
      "Requirement already satisfied: contourpy>=1.0.1 in ./venv/lib/python3.11/site-packages (from matplotlib!=3.6.1,>=3.4->seaborn) (1.3.2)\n",
      "Requirement already satisfied: cycler>=0.10 in ./venv/lib/python3.11/site-packages (from matplotlib!=3.6.1,>=3.4->seaborn) (0.12.1)\n",
      "Requirement already satisfied: fonttools>=4.22.0 in ./venv/lib/python3.11/site-packages (from matplotlib!=3.6.1,>=3.4->seaborn) (4.58.4)\n",
      "Requirement already satisfied: kiwisolver>=1.3.1 in ./venv/lib/python3.11/site-packages (from matplotlib!=3.6.1,>=3.4->seaborn) (1.4.8)\n",
      "Requirement already satisfied: packaging>=20.0 in ./venv/lib/python3.11/site-packages (from matplotlib!=3.6.1,>=3.4->seaborn) (25.0)\n",
      "Requirement already satisfied: pillow>=8 in ./venv/lib/python3.11/site-packages (from matplotlib!=3.6.1,>=3.4->seaborn) (11.2.1)\n",
      "Requirement already satisfied: pyparsing>=2.3.1 in ./venv/lib/python3.11/site-packages (from matplotlib!=3.6.1,>=3.4->seaborn) (3.2.3)\n",
      "Requirement already satisfied: python-dateutil>=2.7 in ./venv/lib/python3.11/site-packages (from matplotlib!=3.6.1,>=3.4->seaborn) (2.9.0.post0)\n",
      "Requirement already satisfied: pytz>=2020.1 in ./venv/lib/python3.11/site-packages (from pandas>=1.2->seaborn) (2025.2)\n",
      "Requirement already satisfied: tzdata>=2022.7 in ./venv/lib/python3.11/site-packages (from pandas>=1.2->seaborn) (2025.2)\n",
      "Requirement already satisfied: six>=1.5 in ./venv/lib/python3.11/site-packages (from python-dateutil>=2.7->matplotlib!=3.6.1,>=3.4->seaborn) (1.17.0)\n"
     ]
    },
    {
     "name": "stderr",
     "output_type": "stream",
     "text": [
      "\n",
      "\u001b[1m[\u001b[0m\u001b[34;49mnotice\u001b[0m\u001b[1;39;49m]\u001b[0m\u001b[39;49m A new release of pip is available: \u001b[0m\u001b[31;49m23.2.1\u001b[0m\u001b[39;49m -> \u001b[0m\u001b[32;49m25.1.1\u001b[0m\n",
      "\u001b[1m[\u001b[0m\u001b[34;49mnotice\u001b[0m\u001b[1;39;49m]\u001b[0m\u001b[39;49m To update, run: \u001b[0m\u001b[32;49mpip install --upgrade pip\u001b[0m\n"
     ]
    },
    {
     "name": "stdout",
     "output_type": "stream",
     "text": [
      "Requirement already satisfied: seaborn in ./venv/lib/python3.11/site-packages (0.13.2)\n",
      "Requirement already satisfied: numpy!=1.24.0,>=1.20 in ./venv/lib/python3.11/site-packages (from seaborn) (2.1.3)\n",
      "Requirement already satisfied: pandas>=1.2 in ./venv/lib/python3.11/site-packages (from seaborn) (2.3.0)\n",
      "Requirement already satisfied: matplotlib!=3.6.1,>=3.4 in ./venv/lib/python3.11/site-packages (from seaborn) (3.10.3)\n",
      "Requirement already satisfied: contourpy>=1.0.1 in ./venv/lib/python3.11/site-packages (from matplotlib!=3.6.1,>=3.4->seaborn) (1.3.2)\n",
      "Requirement already satisfied: cycler>=0.10 in ./venv/lib/python3.11/site-packages (from matplotlib!=3.6.1,>=3.4->seaborn) (0.12.1)\n",
      "Requirement already satisfied: fonttools>=4.22.0 in ./venv/lib/python3.11/site-packages (from matplotlib!=3.6.1,>=3.4->seaborn) (4.58.4)\n",
      "Requirement already satisfied: kiwisolver>=1.3.1 in ./venv/lib/python3.11/site-packages (from matplotlib!=3.6.1,>=3.4->seaborn) (1.4.8)\n",
      "Requirement already satisfied: packaging>=20.0 in ./venv/lib/python3.11/site-packages (from matplotlib!=3.6.1,>=3.4->seaborn) (25.0)\n",
      "Requirement already satisfied: pillow>=8 in ./venv/lib/python3.11/site-packages (from matplotlib!=3.6.1,>=3.4->seaborn) (11.2.1)\n",
      "Requirement already satisfied: pyparsing>=2.3.1 in ./venv/lib/python3.11/site-packages (from matplotlib!=3.6.1,>=3.4->seaborn) (3.2.3)\n",
      "Requirement already satisfied: python-dateutil>=2.7 in ./venv/lib/python3.11/site-packages (from matplotlib!=3.6.1,>=3.4->seaborn) (2.9.0.post0)\n",
      "Requirement already satisfied: pytz>=2020.1 in ./venv/lib/python3.11/site-packages (from pandas>=1.2->seaborn) (2025.2)\n",
      "Requirement already satisfied: tzdata>=2022.7 in ./venv/lib/python3.11/site-packages (from pandas>=1.2->seaborn) (2025.2)\n",
      "Requirement already satisfied: six>=1.5 in ./venv/lib/python3.11/site-packages (from python-dateutil>=2.7->matplotlib!=3.6.1,>=3.4->seaborn) (1.17.0)\n",
      "\n",
      "\u001b[1m[\u001b[0m\u001b[34;49mnotice\u001b[0m\u001b[1;39;49m]\u001b[0m\u001b[39;49m A new release of pip is available: \u001b[0m\u001b[31;49m23.2.1\u001b[0m\u001b[39;49m -> \u001b[0m\u001b[32;49m25.1.1\u001b[0m\n",
      "\u001b[1m[\u001b[0m\u001b[34;49mnotice\u001b[0m\u001b[1;39;49m]\u001b[0m\u001b[39;49m To update, run: \u001b[0m\u001b[32;49mpip install --upgrade pip\u001b[0m\n",
      "Note: you may need to restart the kernel to use updated packages.\n",
      "Requirement already satisfied: scikit-multilearn in ./venv/lib/python3.11/site-packages (0.2.0)\n"
     ]
    },
    {
     "name": "stderr",
     "output_type": "stream",
     "text": [
      "\n",
      "\u001b[1m[\u001b[0m\u001b[34;49mnotice\u001b[0m\u001b[1;39;49m]\u001b[0m\u001b[39;49m A new release of pip is available: \u001b[0m\u001b[31;49m23.2.1\u001b[0m\u001b[39;49m -> \u001b[0m\u001b[32;49m25.1.1\u001b[0m\n",
      "\u001b[1m[\u001b[0m\u001b[34;49mnotice\u001b[0m\u001b[1;39;49m]\u001b[0m\u001b[39;49m To update, run: \u001b[0m\u001b[32;49mpip install --upgrade pip\u001b[0m\n"
     ]
    },
    {
     "name": "stdout",
     "output_type": "stream",
     "text": [
      "Requirement already satisfied: scikit-multilearn in ./venv/lib/python3.11/site-packages (0.2.0)\n",
      "\n",
      "\u001b[1m[\u001b[0m\u001b[34;49mnotice\u001b[0m\u001b[1;39;49m]\u001b[0m\u001b[39;49m A new release of pip is available: \u001b[0m\u001b[31;49m23.2.1\u001b[0m\u001b[39;49m -> \u001b[0m\u001b[32;49m25.1.1\u001b[0m\n",
      "\u001b[1m[\u001b[0m\u001b[34;49mnotice\u001b[0m\u001b[1;39;49m]\u001b[0m\u001b[39;49m To update, run: \u001b[0m\u001b[32;49mpip install --upgrade pip\u001b[0m\n",
      "Note: you may need to restart the kernel to use updated packages.\n"
     ]
    },
    {
     "name": "stderr",
     "output_type": "stream",
     "text": [
      "\u001b[31mERROR: Invalid requirement: 'tensorflow 2.13'\u001b[0m\u001b[31m\n",
      "\u001b[0m\n",
      "\u001b[1m[\u001b[0m\u001b[34;49mnotice\u001b[0m\u001b[1;39;49m]\u001b[0m\u001b[39;49m A new release of pip is available: \u001b[0m\u001b[31;49m23.2.1\u001b[0m\u001b[39;49m -> \u001b[0m\u001b[32;49m25.1.1\u001b[0m\n",
      "\u001b[1m[\u001b[0m\u001b[34;49mnotice\u001b[0m\u001b[1;39;49m]\u001b[0m\u001b[39;49m To update, run: \u001b[0m\u001b[32;49mpip install --upgrade pip\u001b[0m\n"
     ]
    },
    {
     "ename": "CalledProcessError",
     "evalue": "Command '['pip', 'install', 'tensorflow 2.13']' returned non-zero exit status 1.",
     "output_type": "error",
     "traceback": [
      "\u001b[31m---------------------------------------------------------------------------\u001b[39m",
      "\u001b[31mCalledProcessError\u001b[39m                        Traceback (most recent call last)",
      "\u001b[36mCell\u001b[39m\u001b[36m \u001b[39m\u001b[32mIn[7]\u001b[39m\u001b[32m, line 5\u001b[39m\n\u001b[32m      3\u001b[39m package = f.strip()\n\u001b[32m      4\u001b[39m \u001b[38;5;28;01mif\u001b[39;00m package:\n\u001b[32m----> \u001b[39m\u001b[32m5\u001b[39m     \u001b[43msubprocess\u001b[49m\u001b[43m.\u001b[49m\u001b[43mcheck_call\u001b[49m\u001b[43m(\u001b[49m\u001b[43m[\u001b[49m\u001b[33;43m\"\u001b[39;49m\u001b[33;43mpip\u001b[39;49m\u001b[33;43m\"\u001b[39;49m\u001b[43m,\u001b[49m\u001b[43m \u001b[49m\u001b[33;43m\"\u001b[39;49m\u001b[33;43minstall\u001b[39;49m\u001b[33;43m\"\u001b[39;49m\u001b[43m,\u001b[49m\u001b[43m \u001b[49m\u001b[43mpackage\u001b[49m\u001b[43m]\u001b[49m\u001b[43m)\u001b[49m\n\u001b[32m      6\u001b[39m     get_ipython().run_line_magic(\u001b[33m'\u001b[39m\u001b[33mpip\u001b[39m\u001b[33m'\u001b[39m, \u001b[33m'\u001b[39m\u001b[33minstall \u001b[39m\u001b[38;5;132;01m{package}\u001b[39;00m\u001b[33m'\u001b[39m)\n",
      "\u001b[36mFile \u001b[39m\u001b[32m/Applications/anaconda3/lib/python3.11/subprocess.py:413\u001b[39m, in \u001b[36mcheck_call\u001b[39m\u001b[34m(*popenargs, **kwargs)\u001b[39m\n\u001b[32m    411\u001b[39m     \u001b[38;5;28;01mif\u001b[39;00m cmd \u001b[38;5;129;01mis\u001b[39;00m \u001b[38;5;28;01mNone\u001b[39;00m:\n\u001b[32m    412\u001b[39m         cmd = popenargs[\u001b[32m0\u001b[39m]\n\u001b[32m--> \u001b[39m\u001b[32m413\u001b[39m     \u001b[38;5;28;01mraise\u001b[39;00m CalledProcessError(retcode, cmd)\n\u001b[32m    414\u001b[39m \u001b[38;5;28;01mreturn\u001b[39;00m \u001b[32m0\u001b[39m\n",
      "\u001b[31mCalledProcessError\u001b[39m: Command '['pip', 'install', 'tensorflow 2.13']' returned non-zero exit status 1."
     ]
    }
   ],
   "source": [
    "with open(\"requirement.txt\", \"r\") as file:\n",
    "    for f in file.readlines():\n",
    "        package = f.strip()\n",
    "        if package:\n",
    "            subprocess.check_call([\"pip\", \"install\", package])\n",
    "            %pip install {package}"
   ]
  },
  {
   "cell_type": "markdown",
   "metadata": {},
   "source": [
    "## Import necessary packages"
   ]
  },
  {
   "cell_type": "code",
   "execution_count": 1,
   "metadata": {},
   "outputs": [
    {
     "ename": "NameError",
     "evalue": "name 'os' is not defined",
     "output_type": "error",
     "traceback": [
      "\u001b[31m---------------------------------------------------------------------------\u001b[39m",
      "\u001b[31mNameError\u001b[39m                                 Traceback (most recent call last)",
      "\u001b[36mCell\u001b[39m\u001b[36m \u001b[39m\u001b[32mIn[1]\u001b[39m\u001b[32m, line 2\u001b[39m\n\u001b[32m      1\u001b[39m save_dir = \u001b[33m\"\u001b[39m\u001b[33mdata\u001b[39m\u001b[33m\"\u001b[39m\n\u001b[32m----> \u001b[39m\u001b[32m2\u001b[39m \u001b[43mos\u001b[49m.makedirs(save_dir,exist_ok = \u001b[38;5;28;01mTrue\u001b[39;00m)\n\u001b[32m      4\u001b[39m file_name = os.path.join(save_dir,\u001b[33m\"\u001b[39m\u001b[33mNER_dataset.csv\u001b[39m\u001b[33m\"\u001b[39m)\n\u001b[32m      6\u001b[39m response = requests.get(url,stream = \u001b[38;5;28;01mTrue\u001b[39;00m)\n",
      "\u001b[31mNameError\u001b[39m: name 'os' is not defined"
     ]
    }
   ],
   "source": [
    "\n",
    "\n",
    "save_dir = \"data\"\n",
    "os.makedirs(save_dir,exist_ok = True)\n",
    "\n",
    "file_name = os.path.join(save_dir,\"NER_dataset.csv\")\n",
    "\n",
    "response = requests.get(url,stream = True)\n",
    "\n",
    "\n",
    "if response.status_code == 200:\n",
    "    with open(file_name,\"wb\") as file:\n",
    "        for chunk in response.iter_content(chunk_size=1024):\n",
    "            file.write(chunk)\n",
    "    print(f\"File downloaded successfully and saved to {file_name}\")\n",
    "else:\n",
    "    print(f\"Failed to download file. Status code: {response.status_code}\")\n",
    "\n"
   ]
  },
  {
   "cell_type": "code",
   "execution_count": 9,
   "metadata": {},
   "outputs": [],
   "source": [
    "import numpy as np\n",
    "import pandas as pd\n",
    "from collections import Counter\n",
    "from nltk.tokenize import word_tokenize\n",
    "import seaborn as sns\n",
    "import collections\n",
    "from itertools import chain\n",
    "import random\n",
    "import copy\n",
    "import itertools\n",
    "import pandas as pd\n",
    "\n",
    "\n",
    "from sklearn.model_selection import train_test_split\n",
    "from sklearn.metrics import f1_score, accuracy_score, precision_score, recall_score\n",
    "from sklearn.metrics import confusion_matrix, multilabel_confusion_matrix\n",
    "from sklearn.preprocessing import MultiLabelBinarizer\n",
    "from skmultilearn.model_selection import iterative_train_test_split\n",
    "\n",
    "import torch\n",
    "from torch import nn\n",
    "from torch.utils.data import Dataset, DataLoader\n",
    "from torch.utils.data import RandomSampler, SequentialSampler\n",
    "from torch.utils.data import TensorDataset, random_split\n",
    "from torch.optim import AdamW\n",
    "\n",
    "from transformers import BertTokenizer\n",
    "from transformers import BertForTokenClassification\n",
    "from transformers import get_linear_schedule_with_warmup\n",
    "\n",
    "import matplotlib.pyplot as plt\n",
    "import seaborn as sns\n",
    "\n",
    "\n",
    "\n",
    "# set the option to display all columns\n",
    "pd.set_option('display.max_columns', None)"
   ]
  },
  {
   "cell_type": "code",
   "execution_count": 10,
   "metadata": {},
   "outputs": [],
   "source": [
    "from tensorflow.keras.preprocessing.text import Tokenizer\n",
    "from tensorflow.keras.preprocessing.sequence import pad_sequences\n",
    "from keras.models import Sequential\n",
    "from keras.layers import Embedding, Bidirectional, LSTM, TimeDistributed, Dense\n"
   ]
  },
  {
   "cell_type": "code",
   "execution_count": 11,
   "metadata": {},
   "outputs": [],
   "source": [
    "path = \"./data/NER_dataset.csv\"\n",
    "data = pd.read_csv(path, encoding = 'unicode_escape')"
   ]
  },
  {
   "cell_type": "code",
   "execution_count": 12,
   "metadata": {},
   "outputs": [
    {
     "data": {
      "text/plain": [
       "(1048575, 4)"
      ]
     },
     "execution_count": 12,
     "metadata": {},
     "output_type": "execute_result"
    }
   ],
   "source": [
    "data.shape"
   ]
  },
  {
   "cell_type": "markdown",
   "metadata": {},
   "source": [
    "## Preprocessing Data"
   ]
  },
  {
   "cell_type": "markdown",
   "metadata": {},
   "source": [
    "### 1. Replacing the NaN values by 'Sentence #'"
   ]
  },
  {
   "cell_type": "code",
   "execution_count": 13,
   "metadata": {},
   "outputs": [],
   "source": [
    "data.loc[:,\"Sentence #\"] = data.loc[:,\"Sentence #\"].ffill()"
   ]
  },
  {
   "cell_type": "markdown",
   "metadata": {},
   "source": [
    "### 1.1 Check the shape"
   ]
  },
  {
   "cell_type": "code",
   "execution_count": 14,
   "metadata": {},
   "outputs": [
    {
     "name": "stdout",
     "output_type": "stream",
     "text": [
      "Number of rows: 1048575\n",
      "Number of columns: 4\n"
     ]
    }
   ],
   "source": [
    "print(f\"Number of rows: {data.shape[0]}\\n\"\n",
    "      f\"Number of columns: {data.shape[1]}\")"
   ]
  },
  {
   "cell_type": "markdown",
   "metadata": {},
   "source": [
    "### 2. Drop the unwanted 'POS' column"
   ]
  },
  {
   "cell_type": "code",
   "execution_count": 15,
   "metadata": {},
   "outputs": [],
   "source": [
    "data.drop(columns= ['POS'],inplace = True)"
   ]
  },
  {
   "cell_type": "code",
   "execution_count": 16,
   "metadata": {},
   "outputs": [
    {
     "data": {
      "text/html": [
       "<div>\n",
       "<style scoped>\n",
       "    .dataframe tbody tr th:only-of-type {\n",
       "        vertical-align: middle;\n",
       "    }\n",
       "\n",
       "    .dataframe tbody tr th {\n",
       "        vertical-align: top;\n",
       "    }\n",
       "\n",
       "    .dataframe thead th {\n",
       "        text-align: right;\n",
       "    }\n",
       "</style>\n",
       "<table border=\"1\" class=\"dataframe\">\n",
       "  <thead>\n",
       "    <tr style=\"text-align: right;\">\n",
       "      <th></th>\n",
       "      <th>Sentence #</th>\n",
       "      <th>Word</th>\n",
       "      <th>Tag</th>\n",
       "    </tr>\n",
       "  </thead>\n",
       "  <tbody>\n",
       "    <tr>\n",
       "      <th>0</th>\n",
       "      <td>Sentence: 1</td>\n",
       "      <td>Thousands</td>\n",
       "      <td>O</td>\n",
       "    </tr>\n",
       "    <tr>\n",
       "      <th>1</th>\n",
       "      <td>Sentence: 1</td>\n",
       "      <td>of</td>\n",
       "      <td>O</td>\n",
       "    </tr>\n",
       "    <tr>\n",
       "      <th>2</th>\n",
       "      <td>Sentence: 1</td>\n",
       "      <td>demonstrators</td>\n",
       "      <td>O</td>\n",
       "    </tr>\n",
       "  </tbody>\n",
       "</table>\n",
       "</div>"
      ],
      "text/plain": [
       "    Sentence #           Word Tag\n",
       "0  Sentence: 1      Thousands   O\n",
       "1  Sentence: 1             of   O\n",
       "2  Sentence: 1  demonstrators   O"
      ]
     },
     "execution_count": 16,
     "metadata": {},
     "output_type": "execute_result"
    }
   ],
   "source": [
    "data.head(3)"
   ]
  },
  {
   "cell_type": "code",
   "execution_count": 17,
   "metadata": {},
   "outputs": [
    {
     "data": {
      "text/plain": [
       "1048575"
      ]
     },
     "execution_count": 17,
     "metadata": {},
     "output_type": "execute_result"
    }
   ],
   "source": [
    "data.shape[0] #including some eventual NaN data"
   ]
  },
  {
   "cell_type": "markdown",
   "metadata": {},
   "source": [
    "### Remove rows that have NaN value"
   ]
  },
  {
   "cell_type": "code",
   "execution_count": 18,
   "metadata": {},
   "outputs": [
    {
     "name": "stdout",
     "output_type": "stream",
     "text": [
      "Number of updated data: 1048565\n"
     ]
    }
   ],
   "source": [
    "data.dropna(inplace = True)\n",
    "print(f\"Number of updated data: {data.shape[0]}\")"
   ]
  },
  {
   "cell_type": "markdown",
   "metadata": {},
   "source": [
    "### 2.1 Verify the missing values"
   ]
  },
  {
   "cell_type": "code",
   "execution_count": 19,
   "metadata": {},
   "outputs": [
    {
     "name": "stdout",
     "output_type": "stream",
     "text": [
      "number of rows where tag is NaN: 0\n"
     ]
    }
   ],
   "source": [
    "tag_null_mask = data[['Tag']].isnull().any(axis=1)\n",
    "tag_null_rows = data[tag_null_mask]\n",
    "print(f\"number of rows where tag is NaN: {tag_null_rows.size}\")"
   ]
  },
  {
   "cell_type": "code",
   "execution_count": 20,
   "metadata": {},
   "outputs": [
    {
     "name": "stdout",
     "output_type": "stream",
     "text": [
      "number of rows where word is NaN: 0\n"
     ]
    }
   ],
   "source": [
    "word_null_mask = data[['Word']].isnull().any(axis=1)\n",
    "word_null_rows = data[word_null_mask]\n",
    "print(f\"number of rows where word is NaN: {word_null_rows.size}\")"
   ]
  },
  {
   "cell_type": "code",
   "execution_count": 21,
   "metadata": {},
   "outputs": [
    {
     "name": "stdout",
     "output_type": "stream",
     "text": [
      "['Sentence #', 'Word', 'Tag']\n"
     ]
    }
   ],
   "source": [
    "print(data.columns.tolist())"
   ]
  },
  {
   "cell_type": "code",
   "execution_count": 22,
   "metadata": {},
   "outputs": [],
   "source": [
    "# class SentenceGetter(object):\n",
    "    \n",
    "#     def __init__(self, dataset, word_col, tag_col, sent_id_col):\n",
    "#         self.n_sent = 1\n",
    "#         self.dataset = dataset\n",
    "#         self.empty = False\n",
    "#         agg_func = lambda s: [\n",
    "#             (w, t) for w,t in zip(s[word_col].values.tolist(), s[tag_col].values.tolist())\n",
    "#         ]\n",
    "#         self.grouped = self.dataset.groupby(sent_id_col).apply(agg_func)\n",
    "#         self.sentences = [s for s in self.grouped]\n",
    "    \n",
    "#     def get_next(self):\n",
    "#         try:\n",
    "#             s = self.grouped[\"Sentence: {}\".format(self.n_sent)]\n",
    "#             self.n_sent += 1\n",
    "#             return s\n",
    "#         except:\n",
    "#             return None\n",
    "        \n",
    "# getter = SentenceGetter(dataset=data, word_col='Word', tag_col='Tag', sent_id_col='Sentence #')\n",
    "# sentences = getter.sentences\n",
    "# print(sentences[0])\n",
    "\n",
    "\n",
    "# fig, ax = plt.subplots(figsize=(20, 6))\n",
    "# ax.hist([len(s) for s in sentences], bins=50)\n",
    "# ax.set_title('Number of words in each Sentence')\n",
    "\n",
    "# maxlen = max([len(s) for s in sentences])\n",
    "# print('Number of Sentences:', len(sentences))\n",
    "# print ('Maximum sequence length:', maxlen)\n",
    "\n",
    "# words = list(set(data[\"Word\"].values))\n",
    "# words.append(\"ENDPAD\")\n",
    "# n_words = len(words)\n",
    "# print('Number of unique words:', n_words)\n",
    "\n",
    "\n",
    "# # Find and print the first sentence with that length\n",
    "# longest_sentence = [s for s in sentences if len(s) == maxlen][0]\n",
    "\n",
    "# print(\"Longest sentence (word-tag pairs):\")\n",
    "# print(len(longest_sentence))\n"
   ]
  },
  {
   "cell_type": "markdown",
   "metadata": {},
   "source": [
    "### 3. Checking impropers Words"
   ]
  },
  {
   "cell_type": "markdown",
   "metadata": {},
   "source": [
    "### 3.1 Helper Function"
   ]
  },
  {
   "cell_type": "code",
   "execution_count": 23,
   "metadata": {},
   "outputs": [],
   "source": [
    "def is_ascii(s):\n",
    "    return all(ord(c) < 128 for c in s)\n",
    "\n",
    "\n",
    "def is_escaped_unicode(_str):\n",
    "    if is_ascii(_str):\n",
    "        return True\n",
    "    return False\n",
    "\n",
    "\n",
    "def is_proper_word(_word):\n",
    "    if not is_escaped_unicode(_word):\n",
    "        if isinstance(_word,str) and len(_word) < 3:\n",
    "            return False\n",
    "    return True"
   ]
  },
  {
   "cell_type": "code",
   "execution_count": 24,
   "metadata": {},
   "outputs": [],
   "source": [
    "data['is_proper_word'] = data['Word'].apply(is_proper_word)"
   ]
  },
  {
   "cell_type": "code",
   "execution_count": 25,
   "metadata": {},
   "outputs": [
    {
     "data": {
      "text/plain": [
       "Sentence #    Sentence: 2556\n",
       "Word                      °C\n",
       "Name: 56462, dtype: object"
      ]
     },
     "execution_count": 25,
     "metadata": {},
     "output_type": "execute_result"
    }
   ],
   "source": [
    "data[[\"Sentence #\",\"Word\"]].iloc[56462]"
   ]
  },
  {
   "cell_type": "code",
   "execution_count": 26,
   "metadata": {},
   "outputs": [
    {
     "data": {
      "text/html": [
       "<div>\n",
       "<style scoped>\n",
       "    .dataframe tbody tr th:only-of-type {\n",
       "        vertical-align: middle;\n",
       "    }\n",
       "\n",
       "    .dataframe tbody tr th {\n",
       "        vertical-align: top;\n",
       "    }\n",
       "\n",
       "    .dataframe thead th {\n",
       "        text-align: right;\n",
       "    }\n",
       "</style>\n",
       "<table border=\"1\" class=\"dataframe\">\n",
       "  <thead>\n",
       "    <tr style=\"text-align: right;\">\n",
       "      <th></th>\n",
       "      <th>Sentence #</th>\n",
       "      <th>Word</th>\n",
       "      <th>Tag</th>\n",
       "      <th>is_proper_word</th>\n",
       "    </tr>\n",
       "  </thead>\n",
       "  <tbody>\n",
       "    <tr>\n",
       "      <th>1786</th>\n",
       "      <td>Sentence: 77</td>\n",
       "      <td></td>\n",
       "      <td>O</td>\n",
       "      <td>False</td>\n",
       "    </tr>\n",
       "    <tr>\n",
       "      <th>56462</th>\n",
       "      <td>Sentence: 2556</td>\n",
       "      <td>°C</td>\n",
       "      <td>O</td>\n",
       "      <td>False</td>\n",
       "    </tr>\n",
       "    <tr>\n",
       "      <th>124883</th>\n",
       "      <td>Sentence: 5700</td>\n",
       "      <td>s</td>\n",
       "      <td>O</td>\n",
       "      <td>False</td>\n",
       "    </tr>\n",
       "    <tr>\n",
       "      <th>124903</th>\n",
       "      <td>Sentence: 5700</td>\n",
       "      <td>s</td>\n",
       "      <td>O</td>\n",
       "      <td>False</td>\n",
       "    </tr>\n",
       "    <tr>\n",
       "      <th>181958</th>\n",
       "      <td>Sentence: 8332</td>\n",
       "      <td></td>\n",
       "      <td>I-tim</td>\n",
       "      <td>False</td>\n",
       "    </tr>\n",
       "    <tr>\n",
       "      <th>199965</th>\n",
       "      <td>Sentence: 9159</td>\n",
       "      <td></td>\n",
       "      <td>O</td>\n",
       "      <td>False</td>\n",
       "    </tr>\n",
       "    <tr>\n",
       "      <th>199968</th>\n",
       "      <td>Sentence: 9159</td>\n",
       "      <td></td>\n",
       "      <td>O</td>\n",
       "      <td>False</td>\n",
       "    </tr>\n",
       "    <tr>\n",
       "      <th>219475</th>\n",
       "      <td>Sentence: 10052</td>\n",
       "      <td></td>\n",
       "      <td>O</td>\n",
       "      <td>False</td>\n",
       "    </tr>\n",
       "    <tr>\n",
       "      <th>219476</th>\n",
       "      <td>Sentence: 10052</td>\n",
       "      <td></td>\n",
       "      <td>O</td>\n",
       "      <td>False</td>\n",
       "    </tr>\n",
       "    <tr>\n",
       "      <th>219486</th>\n",
       "      <td>Sentence: 10052</td>\n",
       "      <td></td>\n",
       "      <td>O</td>\n",
       "      <td>False</td>\n",
       "    </tr>\n",
       "    <tr>\n",
       "      <th>219488</th>\n",
       "      <td>Sentence: 10052</td>\n",
       "      <td></td>\n",
       "      <td>O</td>\n",
       "      <td>False</td>\n",
       "    </tr>\n",
       "    <tr>\n",
       "      <th>434107</th>\n",
       "      <td>Sentence: 19818</td>\n",
       "      <td></td>\n",
       "      <td>O</td>\n",
       "      <td>False</td>\n",
       "    </tr>\n",
       "    <tr>\n",
       "      <th>577452</th>\n",
       "      <td>Sentence: 26396</td>\n",
       "      <td>s</td>\n",
       "      <td>O</td>\n",
       "      <td>False</td>\n",
       "    </tr>\n",
       "    <tr>\n",
       "      <th>577530</th>\n",
       "      <td>Sentence: 26400</td>\n",
       "      <td>s</td>\n",
       "      <td>O</td>\n",
       "      <td>False</td>\n",
       "    </tr>\n",
       "    <tr>\n",
       "      <th>633972</th>\n",
       "      <td>Sentence: 28979</td>\n",
       "      <td></td>\n",
       "      <td>O</td>\n",
       "      <td>False</td>\n",
       "    </tr>\n",
       "    <tr>\n",
       "      <th>633976</th>\n",
       "      <td>Sentence: 28979</td>\n",
       "      <td></td>\n",
       "      <td>O</td>\n",
       "      <td>False</td>\n",
       "    </tr>\n",
       "    <tr>\n",
       "      <th>637890</th>\n",
       "      <td>Sentence: 29164</td>\n",
       "      <td>s</td>\n",
       "      <td>O</td>\n",
       "      <td>False</td>\n",
       "    </tr>\n",
       "    <tr>\n",
       "      <th>687674</th>\n",
       "      <td>Sentence: 31423</td>\n",
       "      <td></td>\n",
       "      <td>O</td>\n",
       "      <td>False</td>\n",
       "    </tr>\n",
       "    <tr>\n",
       "      <th>687704</th>\n",
       "      <td>Sentence: 31424</td>\n",
       "      <td>s</td>\n",
       "      <td>O</td>\n",
       "      <td>False</td>\n",
       "    </tr>\n",
       "    <tr>\n",
       "      <th>687755</th>\n",
       "      <td>Sentence: 31427</td>\n",
       "      <td>s</td>\n",
       "      <td>O</td>\n",
       "      <td>False</td>\n",
       "    </tr>\n",
       "    <tr>\n",
       "      <th>687773</th>\n",
       "      <td>Sentence: 31428</td>\n",
       "      <td>s</td>\n",
       "      <td>O</td>\n",
       "      <td>False</td>\n",
       "    </tr>\n",
       "    <tr>\n",
       "      <th>736209</th>\n",
       "      <td>Sentence: 33654</td>\n",
       "      <td></td>\n",
       "      <td>O</td>\n",
       "      <td>False</td>\n",
       "    </tr>\n",
       "    <tr>\n",
       "      <th>736216</th>\n",
       "      <td>Sentence: 33654</td>\n",
       "      <td></td>\n",
       "      <td>O</td>\n",
       "      <td>False</td>\n",
       "    </tr>\n",
       "    <tr>\n",
       "      <th>748589</th>\n",
       "      <td>Sentence: 34218</td>\n",
       "      <td></td>\n",
       "      <td>O</td>\n",
       "      <td>False</td>\n",
       "    </tr>\n",
       "    <tr>\n",
       "      <th>748591</th>\n",
       "      <td>Sentence: 34218</td>\n",
       "      <td></td>\n",
       "      <td>O</td>\n",
       "      <td>False</td>\n",
       "    </tr>\n",
       "    <tr>\n",
       "      <th>748643</th>\n",
       "      <td>Sentence: 34221</td>\n",
       "      <td></td>\n",
       "      <td>O</td>\n",
       "      <td>False</td>\n",
       "    </tr>\n",
       "    <tr>\n",
       "      <th>748666</th>\n",
       "      <td>Sentence: 34221</td>\n",
       "      <td></td>\n",
       "      <td>O</td>\n",
       "      <td>False</td>\n",
       "    </tr>\n",
       "    <tr>\n",
       "      <th>859747</th>\n",
       "      <td>Sentence: 39287</td>\n",
       "      <td>s</td>\n",
       "      <td>I-org</td>\n",
       "      <td>False</td>\n",
       "    </tr>\n",
       "    <tr>\n",
       "      <th>859829</th>\n",
       "      <td>Sentence: 39291</td>\n",
       "      <td></td>\n",
       "      <td>O</td>\n",
       "      <td>False</td>\n",
       "    </tr>\n",
       "    <tr>\n",
       "      <th>948284</th>\n",
       "      <td>Sentence: 43340</td>\n",
       "      <td></td>\n",
       "      <td>O</td>\n",
       "      <td>False</td>\n",
       "    </tr>\n",
       "    <tr>\n",
       "      <th>1031999</th>\n",
       "      <td>Sentence: 47183</td>\n",
       "      <td></td>\n",
       "      <td>I-org</td>\n",
       "      <td>False</td>\n",
       "    </tr>\n",
       "  </tbody>\n",
       "</table>\n",
       "</div>"
      ],
      "text/plain": [
       "              Sentence # Word    Tag  is_proper_word\n",
       "1786        Sentence: 77    \n",
       "      O           False\n",
       "56462     Sentence: 2556   °C      O           False\n",
       "124883    Sentence: 5700   s      O           False\n",
       "124903    Sentence: 5700   s      O           False\n",
       "181958    Sentence: 8332      I-tim           False\n",
       "199965    Sentence: 9159          O           False\n",
       "199968    Sentence: 9159          O           False\n",
       "219475   Sentence: 10052    \n",
       "      O           False\n",
       "219476   Sentence: 10052          O           False\n",
       "219486   Sentence: 10052    \n",
       "      O           False\n",
       "219488   Sentence: 10052          O           False\n",
       "434107   Sentence: 19818    \n",
       "      O           False\n",
       "577452   Sentence: 26396   s      O           False\n",
       "577530   Sentence: 26400   s      O           False\n",
       "633972   Sentence: 28979          O           False\n",
       "633976   Sentence: 28979          O           False\n",
       "637890   Sentence: 29164   s      O           False\n",
       "687674   Sentence: 31423          O           False\n",
       "687704   Sentence: 31424   s      O           False\n",
       "687755   Sentence: 31427   s      O           False\n",
       "687773   Sentence: 31428   s      O           False\n",
       "736209   Sentence: 33654          O           False\n",
       "736216   Sentence: 33654          O           False\n",
       "748589   Sentence: 34218          O           False\n",
       "748591   Sentence: 34218          O           False\n",
       "748643   Sentence: 34221          O           False\n",
       "748666   Sentence: 34221          O           False\n",
       "859747   Sentence: 39287   s  I-org           False\n",
       "859829   Sentence: 39291          O           False\n",
       "948284   Sentence: 43340          O           False\n",
       "1031999  Sentence: 47183      I-org           False"
      ]
     },
     "metadata": {},
     "output_type": "display_data"
    }
   ],
   "source": [
    "display(data[~data['is_proper_word']])"
   ]
  },
  {
   "cell_type": "markdown",
   "metadata": {},
   "source": [
    "### Retain only the data where appear only proper words"
   ]
  },
  {
   "cell_type": "code",
   "execution_count": 27,
   "metadata": {},
   "outputs": [],
   "source": [
    "data = data[data['is_proper_word']]"
   ]
  },
  {
   "cell_type": "code",
   "execution_count": 28,
   "metadata": {},
   "outputs": [
    {
     "name": "stdout",
     "output_type": "stream",
     "text": [
      "Updated cols of the data: ['Sentence #', 'Word', 'Tag']\n",
      "Updated number of rows: 1048534\n"
     ]
    }
   ],
   "source": [
    "data.drop(columns = [\"is_proper_word\"], inplace = True)\n",
    "print(f\"Updated cols of the data: {data.columns.tolist()}\")\n",
    "print(f\"Updated number of rows: {data.shape[0]}\")"
   ]
  },
  {
   "cell_type": "markdown",
   "metadata": {},
   "source": [
    "### Frequency of each tag\n",
    "Compute the frequency of each tag"
   ]
  },
  {
   "cell_type": "code",
   "execution_count": 29,
   "metadata": {},
   "outputs": [
    {
     "name": "stdout",
     "output_type": "stream",
     "text": [
      "Number of tags: 17\n"
     ]
    },
    {
     "data": {
      "text/plain": [
       "Tag\n",
       "O        887870\n",
       "B-geo     37644\n",
       "B-tim     20333\n",
       "B-org     20143\n",
       "I-per     17251\n",
       "B-per     16990\n",
       "I-org     16782\n",
       "B-gpe     15870\n",
       "I-geo      7414\n",
       "I-tim      6527\n",
       "B-art       402\n",
       "B-eve       308\n",
       "I-art       297\n",
       "I-eve       253\n",
       "B-nat       201\n",
       "I-gpe       198\n",
       "I-nat        51\n",
       "Name: count, dtype: int64"
      ]
     },
     "metadata": {},
     "output_type": "display_data"
    }
   ],
   "source": [
    "print(f\"Number of tags: {len(data.Tag.unique())}\")\n",
    "frequencies = data.Tag.value_counts()\n",
    "display(frequencies)"
   ]
  },
  {
   "cell_type": "code",
   "execution_count": 30,
   "metadata": {},
   "outputs": [
    {
     "name": "stdout",
     "output_type": "stream",
     "text": [
      "O\n",
      "B-geo\n",
      "B-tim\n",
      "B-org\n",
      "I-per\n",
      "B-per\n",
      "I-org\n",
      "B-gpe\n",
      "I-geo\n",
      "I-tim\n",
      "B-art\n",
      "B-eve\n",
      "I-art\n",
      "I-eve\n",
      "B-nat\n",
      "I-gpe\n",
      "I-nat\n"
     ]
    }
   ],
   "source": [
    "for i in frequencies.index:\n",
    "    print(i)"
   ]
  },
  {
   "cell_type": "code",
   "execution_count": 31,
   "metadata": {},
   "outputs": [
    {
     "name": "stdout",
     "output_type": "stream",
     "text": [
      "[('geo', 45058), ('org', 36925), ('per', 34241), ('tim', 26860), ('gpe', 16068), ('art', 699), ('eve', 561), ('nat', 252)]\n"
     ]
    }
   ],
   "source": [
    "## count the frequencies of sub-tags in decreasing order\n",
    "\n",
    "# Dict for storing the tags and their frequency\n",
    "tags = {}\n",
    "\n",
    "# iterate through each tag\n",
    "for tag, count in zip(frequencies.index, frequencies):\n",
    "    # Check if the tag is not 'O'\n",
    "    if tag != \"O\":\n",
    "        # extract the sub-tag \n",
    "        if tag[2:5] not in tags.keys():\n",
    "            # create a key with its count\n",
    "            tags[tag[2:5]] = count\n",
    "        else:\n",
    "            # if sub-tag already exists, then simply update the count\n",
    "            tags[tag[2:5]] += count\n",
    "\n",
    "# print the sub-tags in sorted order\n",
    "print(sorted(tags.items(), key=lambda x: x[1], reverse=True))\n"
   ]
  },
  {
   "cell_type": "markdown",
   "metadata": {},
   "source": [
    "### Dealing with tags that could act as Noise"
   ]
  },
  {
   "cell_type": "code",
   "execution_count": 32,
   "metadata": {},
   "outputs": [
    {
     "data": {
      "text/plain": [
       "['B-art', 'B-eve', 'I-art', 'I-eve', 'B-nat', 'I-gpe', 'I-nat']"
      ]
     },
     "execution_count": 32,
     "metadata": {},
     "output_type": "execute_result"
    }
   ],
   "source": [
    "labels_to_remove =[]\n",
    "for index in frequencies.index:\n",
    "    if frequencies[index] < 1000:\n",
    "        labels_to_remove.append(index)\n",
    "        \n",
    "labels_to_remove"
   ]
  },
  {
   "cell_type": "code",
   "execution_count": 33,
   "metadata": {},
   "outputs": [],
   "source": [
    "# Convert the rare tags to \"O\"\n",
    "\n",
    "data.loc[data['Tag'].isin(labels_to_remove), \"Tag\"] ='O'"
   ]
  },
  {
   "cell_type": "markdown",
   "metadata": {},
   "source": [
    "### 4. Compute label Maps"
   ]
  },
  {
   "cell_type": "code",
   "execution_count": 34,
   "metadata": {},
   "outputs": [
    {
     "data": {
      "text/plain": [
       "dict_keys(['O', 'B-geo', 'B-gpe', 'B-per', 'I-geo', 'B-org', 'I-org', 'B-tim', 'I-per', 'I-tim'])"
      ]
     },
     "execution_count": 34,
     "metadata": {},
     "output_type": "execute_result"
    }
   ],
   "source": [
    "label2id = {k: v for v,k in enumerate(data.Tag.unique())}\n",
    "id2label = {v: k for v,k in enumerate(data.Tag.unique())}\n",
    "\n",
    "label2id.keys()"
   ]
  },
  {
   "cell_type": "code",
   "execution_count": 35,
   "metadata": {},
   "outputs": [
    {
     "data": {
      "text/html": [
       "<div>\n",
       "<style scoped>\n",
       "    .dataframe tbody tr th:only-of-type {\n",
       "        vertical-align: middle;\n",
       "    }\n",
       "\n",
       "    .dataframe tbody tr th {\n",
       "        vertical-align: top;\n",
       "    }\n",
       "\n",
       "    .dataframe thead th {\n",
       "        text-align: right;\n",
       "    }\n",
       "</style>\n",
       "<table border=\"1\" class=\"dataframe\">\n",
       "  <thead>\n",
       "    <tr style=\"text-align: right;\">\n",
       "      <th></th>\n",
       "      <th>Sentence #</th>\n",
       "      <th>Word</th>\n",
       "      <th>Tag</th>\n",
       "    </tr>\n",
       "  </thead>\n",
       "  <tbody>\n",
       "    <tr>\n",
       "      <th>0</th>\n",
       "      <td>Sentence: 1</td>\n",
       "      <td>Thousands</td>\n",
       "      <td>O</td>\n",
       "    </tr>\n",
       "    <tr>\n",
       "      <th>1</th>\n",
       "      <td>Sentence: 1</td>\n",
       "      <td>of</td>\n",
       "      <td>O</td>\n",
       "    </tr>\n",
       "    <tr>\n",
       "      <th>2</th>\n",
       "      <td>Sentence: 1</td>\n",
       "      <td>demonstrators</td>\n",
       "      <td>O</td>\n",
       "    </tr>\n",
       "    <tr>\n",
       "      <th>3</th>\n",
       "      <td>Sentence: 1</td>\n",
       "      <td>have</td>\n",
       "      <td>O</td>\n",
       "    </tr>\n",
       "  </tbody>\n",
       "</table>\n",
       "</div>"
      ],
      "text/plain": [
       "    Sentence #           Word Tag\n",
       "0  Sentence: 1      Thousands   O\n",
       "1  Sentence: 1             of   O\n",
       "2  Sentence: 1  demonstrators   O\n",
       "3  Sentence: 1           have   O"
      ]
     },
     "execution_count": 35,
     "metadata": {},
     "output_type": "execute_result"
    }
   ],
   "source": [
    "data.head(4)"
   ]
  },
  {
   "cell_type": "markdown",
   "metadata": {},
   "source": [
    "### 5. Create complete sentences with their labels as one string"
   ]
  },
  {
   "cell_type": "code",
   "execution_count": 36,
   "metadata": {},
   "outputs": [
    {
     "data": {
      "text/html": [
       "<div>\n",
       "<style scoped>\n",
       "    .dataframe tbody tr th:only-of-type {\n",
       "        vertical-align: middle;\n",
       "    }\n",
       "\n",
       "    .dataframe tbody tr th {\n",
       "        vertical-align: top;\n",
       "    }\n",
       "\n",
       "    .dataframe thead th {\n",
       "        text-align: right;\n",
       "    }\n",
       "</style>\n",
       "<table border=\"1\" class=\"dataframe\">\n",
       "  <thead>\n",
       "    <tr style=\"text-align: right;\">\n",
       "      <th></th>\n",
       "      <th>Sentence #</th>\n",
       "      <th>Word</th>\n",
       "      <th>Tag</th>\n",
       "      <th>sentence</th>\n",
       "      <th>labels</th>\n",
       "    </tr>\n",
       "  </thead>\n",
       "  <tbody>\n",
       "    <tr>\n",
       "      <th>0</th>\n",
       "      <td>Sentence: 1</td>\n",
       "      <td>Thousands</td>\n",
       "      <td>O</td>\n",
       "      <td>Thousands of demonstrators have marched throug...</td>\n",
       "      <td>O,O,O,O,O,O,B-geo,O,O,O,O,O,B-geo,O,O,O,O,O,B-...</td>\n",
       "    </tr>\n",
       "    <tr>\n",
       "      <th>1</th>\n",
       "      <td>Sentence: 1</td>\n",
       "      <td>of</td>\n",
       "      <td>O</td>\n",
       "      <td>Thousands of demonstrators have marched throug...</td>\n",
       "      <td>O,O,O,O,O,O,B-geo,O,O,O,O,O,B-geo,O,O,O,O,O,B-...</td>\n",
       "    </tr>\n",
       "    <tr>\n",
       "      <th>2</th>\n",
       "      <td>Sentence: 1</td>\n",
       "      <td>demonstrators</td>\n",
       "      <td>O</td>\n",
       "      <td>Thousands of demonstrators have marched throug...</td>\n",
       "      <td>O,O,O,O,O,O,B-geo,O,O,O,O,O,B-geo,O,O,O,O,O,B-...</td>\n",
       "    </tr>\n",
       "    <tr>\n",
       "      <th>3</th>\n",
       "      <td>Sentence: 1</td>\n",
       "      <td>have</td>\n",
       "      <td>O</td>\n",
       "      <td>Thousands of demonstrators have marched throug...</td>\n",
       "      <td>O,O,O,O,O,O,B-geo,O,O,O,O,O,B-geo,O,O,O,O,O,B-...</td>\n",
       "    </tr>\n",
       "    <tr>\n",
       "      <th>4</th>\n",
       "      <td>Sentence: 1</td>\n",
       "      <td>marched</td>\n",
       "      <td>O</td>\n",
       "      <td>Thousands of demonstrators have marched throug...</td>\n",
       "      <td>O,O,O,O,O,O,B-geo,O,O,O,O,O,B-geo,O,O,O,O,O,B-...</td>\n",
       "    </tr>\n",
       "  </tbody>\n",
       "</table>\n",
       "</div>"
      ],
      "text/plain": [
       "    Sentence #           Word Tag  \\\n",
       "0  Sentence: 1      Thousands   O   \n",
       "1  Sentence: 1             of   O   \n",
       "2  Sentence: 1  demonstrators   O   \n",
       "3  Sentence: 1           have   O   \n",
       "4  Sentence: 1        marched   O   \n",
       "\n",
       "                                            sentence  \\\n",
       "0  Thousands of demonstrators have marched throug...   \n",
       "1  Thousands of demonstrators have marched throug...   \n",
       "2  Thousands of demonstrators have marched throug...   \n",
       "3  Thousands of demonstrators have marched throug...   \n",
       "4  Thousands of demonstrators have marched throug...   \n",
       "\n",
       "                                              labels  \n",
       "0  O,O,O,O,O,O,B-geo,O,O,O,O,O,B-geo,O,O,O,O,O,B-...  \n",
       "1  O,O,O,O,O,O,B-geo,O,O,O,O,O,B-geo,O,O,O,O,O,B-...  \n",
       "2  O,O,O,O,O,O,B-geo,O,O,O,O,O,B-geo,O,O,O,O,O,B-...  \n",
       "3  O,O,O,O,O,O,B-geo,O,O,O,O,O,B-geo,O,O,O,O,O,B-...  \n",
       "4  O,O,O,O,O,O,B-geo,O,O,O,O,O,B-geo,O,O,O,O,O,B-...  "
      ]
     },
     "execution_count": 36,
     "metadata": {},
     "output_type": "execute_result"
    }
   ],
   "source": [
    "# let's create a new column called \"sentence\" which groups the words by sentence \n",
    "data['sentence'] = data[['Sentence #','Word','Tag']].groupby(['Sentence #'])['Word'].transform(lambda x: ' '.join(x))\n",
    "# let's also create a new column called \"word_labels\" which groups the tags by sentence \n",
    "data['labels'] = data[['Sentence #','Word','Tag']].groupby(['Sentence #'])['Tag'].transform(lambda x: ','.join(x))\n",
    "data.head()"
   ]
  },
  {
   "cell_type": "code",
   "execution_count": 37,
   "metadata": {},
   "outputs": [
    {
     "data": {
      "text/html": [
       "<div>\n",
       "<style scoped>\n",
       "    .dataframe tbody tr th:only-of-type {\n",
       "        vertical-align: middle;\n",
       "    }\n",
       "\n",
       "    .dataframe tbody tr th {\n",
       "        vertical-align: top;\n",
       "    }\n",
       "\n",
       "    .dataframe thead th {\n",
       "        text-align: right;\n",
       "    }\n",
       "</style>\n",
       "<table border=\"1\" class=\"dataframe\">\n",
       "  <thead>\n",
       "    <tr style=\"text-align: right;\">\n",
       "      <th></th>\n",
       "      <th>sentence</th>\n",
       "      <th>labels</th>\n",
       "    </tr>\n",
       "  </thead>\n",
       "  <tbody>\n",
       "    <tr>\n",
       "      <th>0</th>\n",
       "      <td>Thousands of demonstrators have marched throug...</td>\n",
       "      <td>O,O,O,O,O,O,B-geo,O,O,O,O,O,B-geo,O,O,O,O,O,B-...</td>\n",
       "    </tr>\n",
       "    <tr>\n",
       "      <th>1</th>\n",
       "      <td>Families of soldiers killed in the conflict jo...</td>\n",
       "      <td>O,O,O,O,O,O,O,O,O,O,O,O,O,O,O,O,O,O,B-per,O,O,...</td>\n",
       "    </tr>\n",
       "    <tr>\n",
       "      <th>2</th>\n",
       "      <td>They marched from the Houses of Parliament to ...</td>\n",
       "      <td>O,O,O,O,O,O,O,O,O,O,O,B-geo,I-geo,O</td>\n",
       "    </tr>\n",
       "    <tr>\n",
       "      <th>3</th>\n",
       "      <td>Police put the number of marchers at 10,000 wh...</td>\n",
       "      <td>O,O,O,O,O,O,O,O,O,O,O,O,O,O,O</td>\n",
       "    </tr>\n",
       "    <tr>\n",
       "      <th>4</th>\n",
       "      <td>The protest comes on the eve of the annual con...</td>\n",
       "      <td>O,O,O,O,O,O,O,O,O,O,O,B-geo,O,O,B-org,I-org,O,...</td>\n",
       "    </tr>\n",
       "  </tbody>\n",
       "</table>\n",
       "</div>"
      ],
      "text/plain": [
       "                                            sentence  \\\n",
       "0  Thousands of demonstrators have marched throug...   \n",
       "1  Families of soldiers killed in the conflict jo...   \n",
       "2  They marched from the Houses of Parliament to ...   \n",
       "3  Police put the number of marchers at 10,000 wh...   \n",
       "4  The protest comes on the eve of the annual con...   \n",
       "\n",
       "                                              labels  \n",
       "0  O,O,O,O,O,O,B-geo,O,O,O,O,O,B-geo,O,O,O,O,O,B-...  \n",
       "1  O,O,O,O,O,O,O,O,O,O,O,O,O,O,O,O,O,O,B-per,O,O,...  \n",
       "2                O,O,O,O,O,O,O,O,O,O,O,B-geo,I-geo,O  \n",
       "3                      O,O,O,O,O,O,O,O,O,O,O,O,O,O,O  \n",
       "4  O,O,O,O,O,O,O,O,O,O,O,B-geo,O,O,B-org,I-org,O,...  "
      ]
     },
     "execution_count": 37,
     "metadata": {},
     "output_type": "execute_result"
    }
   ],
   "source": [
    "data = data[[\"sentence\", \"labels\"]].drop_duplicates().reset_index(drop=True)\n",
    "data.head()"
   ]
  },
  {
   "cell_type": "markdown",
   "metadata": {},
   "source": [
    "### 6. Remove the sentences that contain only \"O\" tags and don't contain any other target labels"
   ]
  },
  {
   "cell_type": "code",
   "execution_count": 38,
   "metadata": {},
   "outputs": [],
   "source": [
    "# # Group by sentence\n",
    "# grouped = data.groupby('Sentence #')\n",
    "\n",
    "# # Find sentence indices where all tags are 'O'\n",
    "# drop_sentence_ids = []\n",
    "# for sent_id, group in grouped:\n",
    "#     if set(group['Tag']) == {'O'}:\n",
    "#         drop_sentence_ids.append(sent_id)\n",
    "\n",
    "# # Drop all such sentences at once\n",
    "# data = data[~data['Sentence #'].isin(drop_sentence_ids)]\n",
    "\n",
    "# print(f\"Total number of removed sentences that contain only 'O' tags: {len(drop_sentence_ids)}\")\n"
   ]
  },
  {
   "cell_type": "code",
   "execution_count": 39,
   "metadata": {},
   "outputs": [],
   "source": [
    "# print(f\"Total number of sentences after removing sentences containing all 'O' labels: {len(data)}\")"
   ]
  },
  {
   "cell_type": "code",
   "execution_count": 40,
   "metadata": {},
   "outputs": [],
   "source": [
    "# data['num_words'] = data['sentence'].apply(lambda x: len(x.split(' ')))\n",
    "# data"
   ]
  },
  {
   "cell_type": "code",
   "execution_count": 41,
   "metadata": {},
   "outputs": [],
   "source": [
    "# data['num_labels'] = data['labels'].apply(lambda x: len(x.split(',')))\n",
    "# data"
   ]
  },
  {
   "cell_type": "code",
   "execution_count": 42,
   "metadata": {},
   "outputs": [],
   "source": [
    "# def simple_tokenizer(text):\n",
    "#     return text.lower().split()\n"
   ]
  },
  {
   "cell_type": "code",
   "execution_count": 43,
   "metadata": {},
   "outputs": [],
   "source": [
    "# # Apply tokenizer to create 'tokens' column\n",
    "# data['tokens'] = data['sentence'].apply(word_tokenize)"
   ]
  },
  {
   "cell_type": "code",
   "execution_count": 44,
   "metadata": {},
   "outputs": [],
   "source": [
    "# data['num_tokens'] = data['tokens'].apply(len)  #number of tokens\n",
    "# data.head()"
   ]
  },
  {
   "cell_type": "code",
   "execution_count": 45,
   "metadata": {},
   "outputs": [],
   "source": [
    "# data['words_tokens_diff'] = data['num_tokens'] - data['num_words']"
   ]
  },
  {
   "cell_type": "code",
   "execution_count": 46,
   "metadata": {},
   "outputs": [],
   "source": [
    "# data[data['words_tokens_diff']==1]"
   ]
  },
  {
   "cell_type": "code",
   "execution_count": 47,
   "metadata": {},
   "outputs": [],
   "source": [
    "# data['words_labels_diff'] = data['num_words'] - data['num_labels']"
   ]
  },
  {
   "cell_type": "code",
   "execution_count": 48,
   "metadata": {},
   "outputs": [],
   "source": [
    "# sns.set(style='darkgrid')\n",
    "\n",
    "# # Increase the plot size and font size.\n",
    "# sns.set(font_scale=1.5)\n",
    "# plt.figure(figsize=(24, 24))\n",
    "# plt.rcParams[\"figure.figsize\"] = (10,5)\n",
    "\n",
    "# words_labels_diff = data['words_labels_diff'].values.tolist()\n",
    "\n",
    "# min_words_labels_diff = min(words_labels_diff)\n",
    "# max_words_labels_diff = max(words_labels_diff)\n",
    "# median_words_labels_diff = int(np.median(words_labels_diff))\n",
    "\n",
    "# # Plot the distribution of comment lengths.\n",
    "# sns.displot(words_labels_diff, kde=False, rug=False,color='green')\n",
    "\n",
    "# plt.title('Difference in # of Words and # of Labels')\n",
    "# plt.xlabel('Difference')\n",
    "# plt.ylabel('# of Sentences')\n",
    "# plt.savefig('./images/words_labels_diff.png', bbox_inches='tight', dpi=300)\n",
    "# plt.show()\n",
    "\n",
    "\n",
    "# print(\"\\nStats for length of Tokens\")\n",
    "# print(f\"Minimum difference in num of words and num of labels: {min_words_labels_diff}\") \n",
    "# print(f\"Maximum difference in num of words and num of labels: {max_words_labels_diff}\") \n",
    "# print(f\"Median difference in num of words and num of labels: {median_words_labels_diff}\")"
   ]
  },
  {
   "cell_type": "code",
   "execution_count": 49,
   "metadata": {},
   "outputs": [],
   "source": [
    "# sns.set(style='darkgrid')\n",
    "\n",
    "# # Increase the plot size and font size.\n",
    "# sns.set(font_scale=1.5)\n",
    "# plt.figure(figsize=(24, 24))\n",
    "# plt.rcParams[\"figure.figsize\"] = (10,5)\n",
    "\n",
    "# token_lens = data['num_tokens'].values.tolist()\n",
    "\n",
    "# min_token_len = min(token_lens)\n",
    "# max_token_len = max(token_lens)\n",
    "# median_token_len = int(np.median(token_lens))\n",
    "\n",
    "# # Plot the distribution of comment lengths.\n",
    "# sns.displot(token_lens, kde=False, rug=False,color='green')\n",
    "\n",
    "# plt.title('Tokens Lengths')\n",
    "# plt.xlabel('Tokens Length (# of tokens)')\n",
    "# plt.ylabel('# of Sentences')\n",
    "# plt.savefig('./images/bert_tokens_lengths.png')\n",
    "# plt.show()\n",
    "\n",
    "# print(\"\\nStats for length of Bert Tokens\")\n",
    "# print(f\"Minimum Tokens length: {min_token_len}\") \n",
    "# print(f\"Maximum Tokens length: {max_token_len}\") \n",
    "# print(f\"Median Tokens length: {median_token_len}\")\n"
   ]
  },
  {
   "cell_type": "code",
   "execution_count": 50,
   "metadata": {},
   "outputs": [],
   "source": [
    "# data['words_tokens_diff'].value_counts()"
   ]
  },
  {
   "cell_type": "code",
   "execution_count": 51,
   "metadata": {},
   "outputs": [],
   "source": [
    "# words_tokens_diff = data['words_tokens_diff'].values.tolist()\n",
    "# count = Counter(words_tokens_diff)\n",
    "# count"
   ]
  },
  {
   "cell_type": "code",
   "execution_count": 52,
   "metadata": {},
   "outputs": [],
   "source": [
    "# sns.set(style='darkgrid')\n",
    "\n",
    "# # Increase the plot size and font size.\n",
    "# sns.set(font_scale=1.5)\n",
    "# plt.figure(figsize=(24, 24))\n",
    "# plt.rcParams[\"figure.figsize\"] = (10,10)\n",
    "\n",
    "# words_tokens_diff = data['words_tokens_diff'].values.tolist()\n",
    "\n",
    "# min_words_tokens_diff = min(words_tokens_diff)\n",
    "# max_words_tokens_diff = max(words_tokens_diff)\n",
    "# median_words_tokens_diff = int(np.median(words_tokens_diff))\n",
    "\n",
    "# # Plot the distribution of comment lengths.\n",
    "# sns.displot(words_tokens_diff, kde=False, rug=False,color='blue')\n",
    "\n",
    "# plt.title('Difference in Length ')\n",
    "# plt.xlabel('Difference')\n",
    "# plt.ylabel('# of Sentences')\n",
    "# plt.savefig('./images/words_tokens_diff.png', bbox_inches='tight')\n",
    "# plt.show()\n",
    "\n",
    "# print(\"\\nStats for length difference between Bert Tokens and sentence length\")\n",
    "# print(f\"Minimum difference in num of tokens and num of words: {min_words_tokens_diff}\") \n",
    "# print(f\"Maximum difference in num of tokens and num of words: {max_words_tokens_diff}\") \n",
    "# print(f\"Median difference in num of tokens and num of words: {median_words_tokens_diff}\")\n"
   ]
  },
  {
   "cell_type": "markdown",
   "metadata": {},
   "source": [
    "### 14. Setting meaningfull Max Len"
   ]
  },
  {
   "cell_type": "markdown",
   "metadata": {},
   "source": [
    "### 14.1.a. threshold = 78"
   ]
  },
  {
   "cell_type": "code",
   "execution_count": 53,
   "metadata": {},
   "outputs": [],
   "source": [
    "# len_thresh = 78\n",
    "# data[data['num_tokens'] == 104]"
   ]
  },
  {
   "cell_type": "code",
   "execution_count": 54,
   "metadata": {},
   "outputs": [],
   "source": [
    "# data = data[[\"sentence\", \"labels\"]].drop_duplicates().reset_index(drop=True)\n",
    "# display(data.head())\n",
    "# print(f\"\\n Nnumber of sentences in clean dataframe: {len(data)}\")"
   ]
  },
  {
   "cell_type": "markdown",
   "metadata": {},
   "source": [
    "### Explore distribution of Labels"
   ]
  },
  {
   "cell_type": "code",
   "execution_count": 55,
   "metadata": {},
   "outputs": [],
   "source": [
    "# bal_df = pd.DataFrame(columns= ['s_id', 'labels'])"
   ]
  },
  {
   "cell_type": "code",
   "execution_count": 56,
   "metadata": {},
   "outputs": [],
   "source": [
    "# bal_df"
   ]
  },
  {
   "cell_type": "code",
   "execution_count": 57,
   "metadata": {},
   "outputs": [],
   "source": [
    "# test = pd.DataFrame(data = {\"s_id\":[1,2,3], \"name\":[\"A\",\"B\",\"C\"]})\n",
    "# test"
   ]
  },
  {
   "cell_type": "code",
   "execution_count": 58,
   "metadata": {},
   "outputs": [],
   "source": [
    "# test = pd.get_dummies(test)"
   ]
  },
  {
   "cell_type": "code",
   "execution_count": 59,
   "metadata": {},
   "outputs": [],
   "source": [
    "# # split the labels column of data into list of labels\n",
    "# bal_df['labels'] = data['labels'].apply(lambda x: x.split(','))\n",
    "# # set 's_id' column to be the index column of data \n",
    "# bal_df['s_id'] = data.index\n",
    "\n",
    "# # display the bal df\n",
    "# display(bal_df.head())"
   ]
  },
  {
   "cell_type": "code",
   "execution_count": 60,
   "metadata": {},
   "outputs": [],
   "source": [
    "# bal_df = bal_df.explode('labels')\n",
    "# display(bal_df.head())\n"
   ]
  },
  {
   "cell_type": "markdown",
   "metadata": {},
   "source": [
    "### Create the dummies for labels column"
   ]
  },
  {
   "cell_type": "code",
   "execution_count": 61,
   "metadata": {},
   "outputs": [],
   "source": [
    "# bal_df = pd.get_dummies(bal_df)\n",
    "# display(bal_df.head())"
   ]
  },
  {
   "cell_type": "code",
   "execution_count": 62,
   "metadata": {},
   "outputs": [],
   "source": [
    "# bal_df.shape[0]"
   ]
  },
  {
   "cell_type": "markdown",
   "metadata": {},
   "source": [
    "### Count the frequency of each label for every sentence"
   ]
  },
  {
   "cell_type": "code",
   "execution_count": 63,
   "metadata": {},
   "outputs": [],
   "source": [
    "# bal_df = bal_df.groupby(['s_id'],as_index=True).sum()\n",
    "# display(bal_df.head())"
   ]
  },
  {
   "cell_type": "code",
   "execution_count": 64,
   "metadata": {},
   "outputs": [],
   "source": [
    "# # get the descriptive statistics of each label\n",
    "# bal_df.describe()"
   ]
  },
  {
   "cell_type": "markdown",
   "metadata": {},
   "source": [
    "### 7. Plot the kernel density plots for each label"
   ]
  },
  {
   "cell_type": "code",
   "execution_count": 65,
   "metadata": {},
   "outputs": [],
   "source": [
    "# # set the figure dimensions and labels, label size and title\n",
    "# fig, ax = plt.subplots(figsize=(12, 8))\n",
    "# ax.yaxis.set_tick_params(labelsize = 8)\n",
    "# ax.xaxis.set_tick_params(labelsize = 8)\n",
    "# ax.set(xlabel='Count', ylabel='Labels', title='Violin Plot')\n",
    "# # build the plot\n",
    "# g = sns.violinplot(data=bal_df.loc[:, bal_df.columns != 'labels_O'], linewidth=1, inner=\"quart\", orient='h')\n",
    "# # show the plot\n",
    "# plt.savefig('./images/labels_violin_plot.png', bbox_inches='tight')\n",
    "# plt.show()\n"
   ]
  },
  {
   "cell_type": "markdown",
   "metadata": {},
   "source": [
    "### Frequency of each labels"
   ]
  },
  {
   "cell_type": "code",
   "execution_count": 66,
   "metadata": {},
   "outputs": [],
   "source": [
    "# # count the frequency of each label in ascending order\n",
    "# labels_counts = bal_df.sum(axis = 0).sort_values(ascending= True)\n",
    "# labels_counts.values"
   ]
  },
  {
   "cell_type": "markdown",
   "metadata": {},
   "source": [
    "### Plot frequency of each label"
   ]
  },
  {
   "cell_type": "code",
   "execution_count": 67,
   "metadata": {},
   "outputs": [],
   "source": [
    "# fig, ax = plt.subplots(figsize=(6, 4))\n",
    "# ax.yaxis.set_tick_params(labelsize = 8)\n",
    "# ax.xaxis.set_tick_params(labelsize =8)\n",
    "# plt.xticks(rotation=45)\n",
    "# g = sns.barplot(x=labels_counts.index, y=labels_counts.values, ax=ax)\n",
    "# ax.set(xlabel='label', ylabel='frequency', title='Labels Frequency')\n",
    "# ax.bar_label(ax.containers[0], fontsize=8)\n",
    "# plt.savefig('./images/labels_freq.png', bbox_inches='tight')\n",
    "# plt.show()\n",
    "\n",
    "# #fig.savefig('n_label_freq.png', bbox_inches='tight', dpi=1600)"
   ]
  },
  {
   "cell_type": "markdown",
   "metadata": {},
   "source": [
    "### Helper Functions to Create Balanced Split function"
   ]
  },
  {
   "cell_type": "code",
   "execution_count": 68,
   "metadata": {},
   "outputs": [
    {
     "data": {
      "text/plain": [
       "{'O': 0,\n",
       " 'B-geo': 1,\n",
       " 'B-gpe': 2,\n",
       " 'B-per': 3,\n",
       " 'I-geo': 4,\n",
       " 'B-org': 5,\n",
       " 'I-org': 6,\n",
       " 'B-tim': 7,\n",
       " 'I-per': 8,\n",
       " 'I-tim': 9}"
      ]
     },
     "execution_count": 68,
     "metadata": {},
     "output_type": "execute_result"
    }
   ],
   "source": [
    "label2id"
   ]
  },
  {
   "cell_type": "code",
   "execution_count": 69,
   "metadata": {},
   "outputs": [
    {
     "data": {
      "text/html": [
       "<style>#sk-container-id-1 {\n",
       "  /* Definition of color scheme common for light and dark mode */\n",
       "  --sklearn-color-text: #000;\n",
       "  --sklearn-color-text-muted: #666;\n",
       "  --sklearn-color-line: gray;\n",
       "  /* Definition of color scheme for unfitted estimators */\n",
       "  --sklearn-color-unfitted-level-0: #fff5e6;\n",
       "  --sklearn-color-unfitted-level-1: #f6e4d2;\n",
       "  --sklearn-color-unfitted-level-2: #ffe0b3;\n",
       "  --sklearn-color-unfitted-level-3: chocolate;\n",
       "  /* Definition of color scheme for fitted estimators */\n",
       "  --sklearn-color-fitted-level-0: #f0f8ff;\n",
       "  --sklearn-color-fitted-level-1: #d4ebff;\n",
       "  --sklearn-color-fitted-level-2: #b3dbfd;\n",
       "  --sklearn-color-fitted-level-3: cornflowerblue;\n",
       "\n",
       "  /* Specific color for light theme */\n",
       "  --sklearn-color-text-on-default-background: var(--sg-text-color, var(--theme-code-foreground, var(--jp-content-font-color1, black)));\n",
       "  --sklearn-color-background: var(--sg-background-color, var(--theme-background, var(--jp-layout-color0, white)));\n",
       "  --sklearn-color-border-box: var(--sg-text-color, var(--theme-code-foreground, var(--jp-content-font-color1, black)));\n",
       "  --sklearn-color-icon: #696969;\n",
       "\n",
       "  @media (prefers-color-scheme: dark) {\n",
       "    /* Redefinition of color scheme for dark theme */\n",
       "    --sklearn-color-text-on-default-background: var(--sg-text-color, var(--theme-code-foreground, var(--jp-content-font-color1, white)));\n",
       "    --sklearn-color-background: var(--sg-background-color, var(--theme-background, var(--jp-layout-color0, #111)));\n",
       "    --sklearn-color-border-box: var(--sg-text-color, var(--theme-code-foreground, var(--jp-content-font-color1, white)));\n",
       "    --sklearn-color-icon: #878787;\n",
       "  }\n",
       "}\n",
       "\n",
       "#sk-container-id-1 {\n",
       "  color: var(--sklearn-color-text);\n",
       "}\n",
       "\n",
       "#sk-container-id-1 pre {\n",
       "  padding: 0;\n",
       "}\n",
       "\n",
       "#sk-container-id-1 input.sk-hidden--visually {\n",
       "  border: 0;\n",
       "  clip: rect(1px 1px 1px 1px);\n",
       "  clip: rect(1px, 1px, 1px, 1px);\n",
       "  height: 1px;\n",
       "  margin: -1px;\n",
       "  overflow: hidden;\n",
       "  padding: 0;\n",
       "  position: absolute;\n",
       "  width: 1px;\n",
       "}\n",
       "\n",
       "#sk-container-id-1 div.sk-dashed-wrapped {\n",
       "  border: 1px dashed var(--sklearn-color-line);\n",
       "  margin: 0 0.4em 0.5em 0.4em;\n",
       "  box-sizing: border-box;\n",
       "  padding-bottom: 0.4em;\n",
       "  background-color: var(--sklearn-color-background);\n",
       "}\n",
       "\n",
       "#sk-container-id-1 div.sk-container {\n",
       "  /* jupyter's `normalize.less` sets `[hidden] { display: none; }`\n",
       "     but bootstrap.min.css set `[hidden] { display: none !important; }`\n",
       "     so we also need the `!important` here to be able to override the\n",
       "     default hidden behavior on the sphinx rendered scikit-learn.org.\n",
       "     See: https://github.com/scikit-learn/scikit-learn/issues/21755 */\n",
       "  display: inline-block !important;\n",
       "  position: relative;\n",
       "}\n",
       "\n",
       "#sk-container-id-1 div.sk-text-repr-fallback {\n",
       "  display: none;\n",
       "}\n",
       "\n",
       "div.sk-parallel-item,\n",
       "div.sk-serial,\n",
       "div.sk-item {\n",
       "  /* draw centered vertical line to link estimators */\n",
       "  background-image: linear-gradient(var(--sklearn-color-text-on-default-background), var(--sklearn-color-text-on-default-background));\n",
       "  background-size: 2px 100%;\n",
       "  background-repeat: no-repeat;\n",
       "  background-position: center center;\n",
       "}\n",
       "\n",
       "/* Parallel-specific style estimator block */\n",
       "\n",
       "#sk-container-id-1 div.sk-parallel-item::after {\n",
       "  content: \"\";\n",
       "  width: 100%;\n",
       "  border-bottom: 2px solid var(--sklearn-color-text-on-default-background);\n",
       "  flex-grow: 1;\n",
       "}\n",
       "\n",
       "#sk-container-id-1 div.sk-parallel {\n",
       "  display: flex;\n",
       "  align-items: stretch;\n",
       "  justify-content: center;\n",
       "  background-color: var(--sklearn-color-background);\n",
       "  position: relative;\n",
       "}\n",
       "\n",
       "#sk-container-id-1 div.sk-parallel-item {\n",
       "  display: flex;\n",
       "  flex-direction: column;\n",
       "}\n",
       "\n",
       "#sk-container-id-1 div.sk-parallel-item:first-child::after {\n",
       "  align-self: flex-end;\n",
       "  width: 50%;\n",
       "}\n",
       "\n",
       "#sk-container-id-1 div.sk-parallel-item:last-child::after {\n",
       "  align-self: flex-start;\n",
       "  width: 50%;\n",
       "}\n",
       "\n",
       "#sk-container-id-1 div.sk-parallel-item:only-child::after {\n",
       "  width: 0;\n",
       "}\n",
       "\n",
       "/* Serial-specific style estimator block */\n",
       "\n",
       "#sk-container-id-1 div.sk-serial {\n",
       "  display: flex;\n",
       "  flex-direction: column;\n",
       "  align-items: center;\n",
       "  background-color: var(--sklearn-color-background);\n",
       "  padding-right: 1em;\n",
       "  padding-left: 1em;\n",
       "}\n",
       "\n",
       "\n",
       "/* Toggleable style: style used for estimator/Pipeline/ColumnTransformer box that is\n",
       "clickable and can be expanded/collapsed.\n",
       "- Pipeline and ColumnTransformer use this feature and define the default style\n",
       "- Estimators will overwrite some part of the style using the `sk-estimator` class\n",
       "*/\n",
       "\n",
       "/* Pipeline and ColumnTransformer style (default) */\n",
       "\n",
       "#sk-container-id-1 div.sk-toggleable {\n",
       "  /* Default theme specific background. It is overwritten whether we have a\n",
       "  specific estimator or a Pipeline/ColumnTransformer */\n",
       "  background-color: var(--sklearn-color-background);\n",
       "}\n",
       "\n",
       "/* Toggleable label */\n",
       "#sk-container-id-1 label.sk-toggleable__label {\n",
       "  cursor: pointer;\n",
       "  display: flex;\n",
       "  width: 100%;\n",
       "  margin-bottom: 0;\n",
       "  padding: 0.5em;\n",
       "  box-sizing: border-box;\n",
       "  text-align: center;\n",
       "  align-items: start;\n",
       "  justify-content: space-between;\n",
       "  gap: 0.5em;\n",
       "}\n",
       "\n",
       "#sk-container-id-1 label.sk-toggleable__label .caption {\n",
       "  font-size: 0.6rem;\n",
       "  font-weight: lighter;\n",
       "  color: var(--sklearn-color-text-muted);\n",
       "}\n",
       "\n",
       "#sk-container-id-1 label.sk-toggleable__label-arrow:before {\n",
       "  /* Arrow on the left of the label */\n",
       "  content: \"▸\";\n",
       "  float: left;\n",
       "  margin-right: 0.25em;\n",
       "  color: var(--sklearn-color-icon);\n",
       "}\n",
       "\n",
       "#sk-container-id-1 label.sk-toggleable__label-arrow:hover:before {\n",
       "  color: var(--sklearn-color-text);\n",
       "}\n",
       "\n",
       "/* Toggleable content - dropdown */\n",
       "\n",
       "#sk-container-id-1 div.sk-toggleable__content {\n",
       "  display: none;\n",
       "  text-align: left;\n",
       "  /* unfitted */\n",
       "  background-color: var(--sklearn-color-unfitted-level-0);\n",
       "}\n",
       "\n",
       "#sk-container-id-1 div.sk-toggleable__content.fitted {\n",
       "  /* fitted */\n",
       "  background-color: var(--sklearn-color-fitted-level-0);\n",
       "}\n",
       "\n",
       "#sk-container-id-1 div.sk-toggleable__content pre {\n",
       "  margin: 0.2em;\n",
       "  border-radius: 0.25em;\n",
       "  color: var(--sklearn-color-text);\n",
       "  /* unfitted */\n",
       "  background-color: var(--sklearn-color-unfitted-level-0);\n",
       "}\n",
       "\n",
       "#sk-container-id-1 div.sk-toggleable__content.fitted pre {\n",
       "  /* unfitted */\n",
       "  background-color: var(--sklearn-color-fitted-level-0);\n",
       "}\n",
       "\n",
       "#sk-container-id-1 input.sk-toggleable__control:checked~div.sk-toggleable__content {\n",
       "  /* Expand drop-down */\n",
       "  display: block;\n",
       "  width: 100%;\n",
       "  overflow: visible;\n",
       "}\n",
       "\n",
       "#sk-container-id-1 input.sk-toggleable__control:checked~label.sk-toggleable__label-arrow:before {\n",
       "  content: \"▾\";\n",
       "}\n",
       "\n",
       "/* Pipeline/ColumnTransformer-specific style */\n",
       "\n",
       "#sk-container-id-1 div.sk-label input.sk-toggleable__control:checked~label.sk-toggleable__label {\n",
       "  color: var(--sklearn-color-text);\n",
       "  background-color: var(--sklearn-color-unfitted-level-2);\n",
       "}\n",
       "\n",
       "#sk-container-id-1 div.sk-label.fitted input.sk-toggleable__control:checked~label.sk-toggleable__label {\n",
       "  background-color: var(--sklearn-color-fitted-level-2);\n",
       "}\n",
       "\n",
       "/* Estimator-specific style */\n",
       "\n",
       "/* Colorize estimator box */\n",
       "#sk-container-id-1 div.sk-estimator input.sk-toggleable__control:checked~label.sk-toggleable__label {\n",
       "  /* unfitted */\n",
       "  background-color: var(--sklearn-color-unfitted-level-2);\n",
       "}\n",
       "\n",
       "#sk-container-id-1 div.sk-estimator.fitted input.sk-toggleable__control:checked~label.sk-toggleable__label {\n",
       "  /* fitted */\n",
       "  background-color: var(--sklearn-color-fitted-level-2);\n",
       "}\n",
       "\n",
       "#sk-container-id-1 div.sk-label label.sk-toggleable__label,\n",
       "#sk-container-id-1 div.sk-label label {\n",
       "  /* The background is the default theme color */\n",
       "  color: var(--sklearn-color-text-on-default-background);\n",
       "}\n",
       "\n",
       "/* On hover, darken the color of the background */\n",
       "#sk-container-id-1 div.sk-label:hover label.sk-toggleable__label {\n",
       "  color: var(--sklearn-color-text);\n",
       "  background-color: var(--sklearn-color-unfitted-level-2);\n",
       "}\n",
       "\n",
       "/* Label box, darken color on hover, fitted */\n",
       "#sk-container-id-1 div.sk-label.fitted:hover label.sk-toggleable__label.fitted {\n",
       "  color: var(--sklearn-color-text);\n",
       "  background-color: var(--sklearn-color-fitted-level-2);\n",
       "}\n",
       "\n",
       "/* Estimator label */\n",
       "\n",
       "#sk-container-id-1 div.sk-label label {\n",
       "  font-family: monospace;\n",
       "  font-weight: bold;\n",
       "  display: inline-block;\n",
       "  line-height: 1.2em;\n",
       "}\n",
       "\n",
       "#sk-container-id-1 div.sk-label-container {\n",
       "  text-align: center;\n",
       "}\n",
       "\n",
       "/* Estimator-specific */\n",
       "#sk-container-id-1 div.sk-estimator {\n",
       "  font-family: monospace;\n",
       "  border: 1px dotted var(--sklearn-color-border-box);\n",
       "  border-radius: 0.25em;\n",
       "  box-sizing: border-box;\n",
       "  margin-bottom: 0.5em;\n",
       "  /* unfitted */\n",
       "  background-color: var(--sklearn-color-unfitted-level-0);\n",
       "}\n",
       "\n",
       "#sk-container-id-1 div.sk-estimator.fitted {\n",
       "  /* fitted */\n",
       "  background-color: var(--sklearn-color-fitted-level-0);\n",
       "}\n",
       "\n",
       "/* on hover */\n",
       "#sk-container-id-1 div.sk-estimator:hover {\n",
       "  /* unfitted */\n",
       "  background-color: var(--sklearn-color-unfitted-level-2);\n",
       "}\n",
       "\n",
       "#sk-container-id-1 div.sk-estimator.fitted:hover {\n",
       "  /* fitted */\n",
       "  background-color: var(--sklearn-color-fitted-level-2);\n",
       "}\n",
       "\n",
       "/* Specification for estimator info (e.g. \"i\" and \"?\") */\n",
       "\n",
       "/* Common style for \"i\" and \"?\" */\n",
       "\n",
       ".sk-estimator-doc-link,\n",
       "a:link.sk-estimator-doc-link,\n",
       "a:visited.sk-estimator-doc-link {\n",
       "  float: right;\n",
       "  font-size: smaller;\n",
       "  line-height: 1em;\n",
       "  font-family: monospace;\n",
       "  background-color: var(--sklearn-color-background);\n",
       "  border-radius: 1em;\n",
       "  height: 1em;\n",
       "  width: 1em;\n",
       "  text-decoration: none !important;\n",
       "  margin-left: 0.5em;\n",
       "  text-align: center;\n",
       "  /* unfitted */\n",
       "  border: var(--sklearn-color-unfitted-level-1) 1pt solid;\n",
       "  color: var(--sklearn-color-unfitted-level-1);\n",
       "}\n",
       "\n",
       ".sk-estimator-doc-link.fitted,\n",
       "a:link.sk-estimator-doc-link.fitted,\n",
       "a:visited.sk-estimator-doc-link.fitted {\n",
       "  /* fitted */\n",
       "  border: var(--sklearn-color-fitted-level-1) 1pt solid;\n",
       "  color: var(--sklearn-color-fitted-level-1);\n",
       "}\n",
       "\n",
       "/* On hover */\n",
       "div.sk-estimator:hover .sk-estimator-doc-link:hover,\n",
       ".sk-estimator-doc-link:hover,\n",
       "div.sk-label-container:hover .sk-estimator-doc-link:hover,\n",
       ".sk-estimator-doc-link:hover {\n",
       "  /* unfitted */\n",
       "  background-color: var(--sklearn-color-unfitted-level-3);\n",
       "  color: var(--sklearn-color-background);\n",
       "  text-decoration: none;\n",
       "}\n",
       "\n",
       "div.sk-estimator.fitted:hover .sk-estimator-doc-link.fitted:hover,\n",
       ".sk-estimator-doc-link.fitted:hover,\n",
       "div.sk-label-container:hover .sk-estimator-doc-link.fitted:hover,\n",
       ".sk-estimator-doc-link.fitted:hover {\n",
       "  /* fitted */\n",
       "  background-color: var(--sklearn-color-fitted-level-3);\n",
       "  color: var(--sklearn-color-background);\n",
       "  text-decoration: none;\n",
       "}\n",
       "\n",
       "/* Span, style for the box shown on hovering the info icon */\n",
       ".sk-estimator-doc-link span {\n",
       "  display: none;\n",
       "  z-index: 9999;\n",
       "  position: relative;\n",
       "  font-weight: normal;\n",
       "  right: .2ex;\n",
       "  padding: .5ex;\n",
       "  margin: .5ex;\n",
       "  width: min-content;\n",
       "  min-width: 20ex;\n",
       "  max-width: 50ex;\n",
       "  color: var(--sklearn-color-text);\n",
       "  box-shadow: 2pt 2pt 4pt #999;\n",
       "  /* unfitted */\n",
       "  background: var(--sklearn-color-unfitted-level-0);\n",
       "  border: .5pt solid var(--sklearn-color-unfitted-level-3);\n",
       "}\n",
       "\n",
       ".sk-estimator-doc-link.fitted span {\n",
       "  /* fitted */\n",
       "  background: var(--sklearn-color-fitted-level-0);\n",
       "  border: var(--sklearn-color-fitted-level-3);\n",
       "}\n",
       "\n",
       ".sk-estimator-doc-link:hover span {\n",
       "  display: block;\n",
       "}\n",
       "\n",
       "/* \"?\"-specific style due to the `<a>` HTML tag */\n",
       "\n",
       "#sk-container-id-1 a.estimator_doc_link {\n",
       "  float: right;\n",
       "  font-size: 1rem;\n",
       "  line-height: 1em;\n",
       "  font-family: monospace;\n",
       "  background-color: var(--sklearn-color-background);\n",
       "  border-radius: 1rem;\n",
       "  height: 1rem;\n",
       "  width: 1rem;\n",
       "  text-decoration: none;\n",
       "  /* unfitted */\n",
       "  color: var(--sklearn-color-unfitted-level-1);\n",
       "  border: var(--sklearn-color-unfitted-level-1) 1pt solid;\n",
       "}\n",
       "\n",
       "#sk-container-id-1 a.estimator_doc_link.fitted {\n",
       "  /* fitted */\n",
       "  border: var(--sklearn-color-fitted-level-1) 1pt solid;\n",
       "  color: var(--sklearn-color-fitted-level-1);\n",
       "}\n",
       "\n",
       "/* On hover */\n",
       "#sk-container-id-1 a.estimator_doc_link:hover {\n",
       "  /* unfitted */\n",
       "  background-color: var(--sklearn-color-unfitted-level-3);\n",
       "  color: var(--sklearn-color-background);\n",
       "  text-decoration: none;\n",
       "}\n",
       "\n",
       "#sk-container-id-1 a.estimator_doc_link.fitted:hover {\n",
       "  /* fitted */\n",
       "  background-color: var(--sklearn-color-fitted-level-3);\n",
       "}\n",
       "\n",
       ".estimator-table summary {\n",
       "    padding: .5rem;\n",
       "    font-family: monospace;\n",
       "    cursor: pointer;\n",
       "}\n",
       "\n",
       ".estimator-table details[open] {\n",
       "    padding-left: 0.1rem;\n",
       "    padding-right: 0.1rem;\n",
       "    padding-bottom: 0.3rem;\n",
       "}\n",
       "\n",
       ".estimator-table .parameters-table {\n",
       "    margin-left: auto !important;\n",
       "    margin-right: auto !important;\n",
       "}\n",
       "\n",
       ".estimator-table .parameters-table tr:nth-child(odd) {\n",
       "    background-color: #fff;\n",
       "}\n",
       "\n",
       ".estimator-table .parameters-table tr:nth-child(even) {\n",
       "    background-color: #f6f6f6;\n",
       "}\n",
       "\n",
       ".estimator-table .parameters-table tr:hover {\n",
       "    background-color: #e0e0e0;\n",
       "}\n",
       "\n",
       ".estimator-table table td {\n",
       "    border: 1px solid rgba(106, 105, 104, 0.232);\n",
       "}\n",
       "\n",
       ".user-set td {\n",
       "    color:rgb(255, 94, 0);\n",
       "    text-align: left;\n",
       "}\n",
       "\n",
       ".user-set td.value pre {\n",
       "    color:rgb(255, 94, 0) !important;\n",
       "    background-color: transparent !important;\n",
       "}\n",
       "\n",
       ".default td {\n",
       "    color: black;\n",
       "    text-align: left;\n",
       "}\n",
       "\n",
       ".user-set td i,\n",
       ".default td i {\n",
       "    color: black;\n",
       "}\n",
       "\n",
       ".copy-paste-icon {\n",
       "    background-image: url(data:image/svg+xml;base64,PHN2ZyB4bWxucz0iaHR0cDovL3d3dy53My5vcmcvMjAwMC9zdmciIHZpZXdCb3g9IjAgMCA0NDggNTEyIj48IS0tIUZvbnQgQXdlc29tZSBGcmVlIDYuNy4yIGJ5IEBmb250YXdlc29tZSAtIGh0dHBzOi8vZm9udGF3ZXNvbWUuY29tIExpY2Vuc2UgLSBodHRwczovL2ZvbnRhd2Vzb21lLmNvbS9saWNlbnNlL2ZyZWUgQ29weXJpZ2h0IDIwMjUgRm9udGljb25zLCBJbmMuLS0+PHBhdGggZD0iTTIwOCAwTDMzMi4xIDBjMTIuNyAwIDI0LjkgNS4xIDMzLjkgMTQuMWw2Ny45IDY3LjljOSA5IDE0LjEgMjEuMiAxNC4xIDMzLjlMNDQ4IDMzNmMwIDI2LjUtMjEuNSA0OC00OCA0OGwtMTkyIDBjLTI2LjUgMC00OC0yMS41LTQ4LTQ4bDAtMjg4YzAtMjYuNSAyMS41LTQ4IDQ4LTQ4ek00OCAxMjhsODAgMCAwIDY0LTY0IDAgMCAyNTYgMTkyIDAgMC0zMiA2NCAwIDAgNDhjMCAyNi41LTIxLjUgNDgtNDggNDhMNDggNTEyYy0yNi41IDAtNDgtMjEuNS00OC00OEwwIDE3NmMwLTI2LjUgMjEuNS00OCA0OC00OHoiLz48L3N2Zz4=);\n",
       "    background-repeat: no-repeat;\n",
       "    background-size: 14px 14px;\n",
       "    background-position: 0;\n",
       "    display: inline-block;\n",
       "    width: 14px;\n",
       "    height: 14px;\n",
       "    cursor: pointer;\n",
       "}\n",
       "</style><body><div id=\"sk-container-id-1\" class=\"sk-top-container\"><div class=\"sk-text-repr-fallback\"><pre>MultiLabelBinarizer(classes=[&#x27;O&#x27;, &#x27;B-geo&#x27;, &#x27;B-gpe&#x27;, &#x27;B-per&#x27;, &#x27;I-geo&#x27;, &#x27;B-org&#x27;,\n",
       "                             &#x27;I-org&#x27;, &#x27;B-tim&#x27;, &#x27;I-per&#x27;, &#x27;I-tim&#x27;])</pre><b>In a Jupyter environment, please rerun this cell to show the HTML representation or trust the notebook. <br />On GitHub, the HTML representation is unable to render, please try loading this page with nbviewer.org.</b></div><div class=\"sk-container\" hidden><div class=\"sk-item\"><div class=\"sk-estimator  sk-toggleable\"><input class=\"sk-toggleable__control sk-hidden--visually\" id=\"sk-estimator-id-1\" type=\"checkbox\" checked><label for=\"sk-estimator-id-1\" class=\"sk-toggleable__label  sk-toggleable__label-arrow\"><div><div>MultiLabelBinarizer</div></div><div><a class=\"sk-estimator-doc-link \" rel=\"noreferrer\" target=\"_blank\" href=\"https://scikit-learn.org/1.7/modules/generated/sklearn.preprocessing.MultiLabelBinarizer.html\">?<span>Documentation for MultiLabelBinarizer</span></a><span class=\"sk-estimator-doc-link \">i<span>Not fitted</span></span></div></label><div class=\"sk-toggleable__content \" data-param-prefix=\"\">\n",
       "        <div class=\"estimator-table\">\n",
       "            <details>\n",
       "                <summary>Parameters</summary>\n",
       "                <table class=\"parameters-table\">\n",
       "                  <tbody>\n",
       "                    \n",
       "        <tr class=\"user-set\">\n",
       "            <td><i class=\"copy-paste-icon\"\n",
       "                 onclick=\"copyToClipboard('classes',\n",
       "                          this.parentElement.nextElementSibling)\"\n",
       "            ></i></td>\n",
       "            <td class=\"param\">classes&nbsp;</td>\n",
       "            <td class=\"value\">[&#x27;O&#x27;, &#x27;B-geo&#x27;, ...]</td>\n",
       "        </tr>\n",
       "    \n",
       "\n",
       "        <tr class=\"default\">\n",
       "            <td><i class=\"copy-paste-icon\"\n",
       "                 onclick=\"copyToClipboard('sparse_output',\n",
       "                          this.parentElement.nextElementSibling)\"\n",
       "            ></i></td>\n",
       "            <td class=\"param\">sparse_output&nbsp;</td>\n",
       "            <td class=\"value\">False</td>\n",
       "        </tr>\n",
       "    \n",
       "                  </tbody>\n",
       "                </table>\n",
       "            </details>\n",
       "        </div>\n",
       "    </div></div></div></div></div><script>function copyToClipboard(text, element) {\n",
       "    // Get the parameter prefix from the closest toggleable content\n",
       "    const toggleableContent = element.closest('.sk-toggleable__content');\n",
       "    const paramPrefix = toggleableContent ? toggleableContent.dataset.paramPrefix : '';\n",
       "    const fullParamName = paramPrefix ? `${paramPrefix}${text}` : text;\n",
       "\n",
       "    const originalStyle = element.style;\n",
       "    const computedStyle = window.getComputedStyle(element);\n",
       "    const originalWidth = computedStyle.width;\n",
       "    const originalHTML = element.innerHTML.replace('Copied!', '');\n",
       "\n",
       "    navigator.clipboard.writeText(fullParamName)\n",
       "        .then(() => {\n",
       "            element.style.width = originalWidth;\n",
       "            element.style.color = 'green';\n",
       "            element.innerHTML = \"Copied!\";\n",
       "\n",
       "            setTimeout(() => {\n",
       "                element.innerHTML = originalHTML;\n",
       "                element.style = originalStyle;\n",
       "            }, 2000);\n",
       "        })\n",
       "        .catch(err => {\n",
       "            console.error('Failed to copy:', err);\n",
       "            element.style.color = 'red';\n",
       "            element.innerHTML = \"Failed!\";\n",
       "            setTimeout(() => {\n",
       "                element.innerHTML = originalHTML;\n",
       "                element.style = originalStyle;\n",
       "            }, 2000);\n",
       "        });\n",
       "    return false;\n",
       "}\n",
       "\n",
       "document.querySelectorAll('.fa-regular.fa-copy').forEach(function(element) {\n",
       "    const toggleableContent = element.closest('.sk-toggleable__content');\n",
       "    const paramPrefix = toggleableContent ? toggleableContent.dataset.paramPrefix : '';\n",
       "    const paramName = element.parentElement.nextElementSibling.textContent.trim();\n",
       "    const fullParamName = paramPrefix ? `${paramPrefix}${paramName}` : paramName;\n",
       "\n",
       "    element.setAttribute('title', fullParamName);\n",
       "});\n",
       "</script></body>"
      ],
      "text/plain": [
       "MultiLabelBinarizer(classes=['O', 'B-geo', 'B-gpe', 'B-per', 'I-geo', 'B-org',\n",
       "                             'I-org', 'B-tim', 'I-per', 'I-tim'])"
      ]
     },
     "execution_count": 69,
     "metadata": {},
     "output_type": "execute_result"
    }
   ],
   "source": [
    "# create multilabel binarizer\n",
    "mlb = MultiLabelBinarizer(classes=list(label2id.keys()))\n",
    "mlb"
   ]
  },
  {
   "cell_type": "code",
   "execution_count": 70,
   "metadata": {},
   "outputs": [
    {
     "data": {
      "text/plain": [
       "(47607, 2)"
      ]
     },
     "execution_count": 70,
     "metadata": {},
     "output_type": "execute_result"
    }
   ],
   "source": [
    "test_data = data.copy()\n",
    "test_data.shape"
   ]
  },
  {
   "cell_type": "code",
   "execution_count": 71,
   "metadata": {},
   "outputs": [],
   "source": [
    "\n",
    "ind = np.expand_dims(np.arange(len(test_data)), axis=1)\n",
    "unique_sentence = test_data['labels'].apply(lambda x: set(itertools.chain.from_iterable([x.split(',')])))"
   ]
  },
  {
   "cell_type": "markdown",
   "metadata": {},
   "source": [
    "### Splitting\n",
    "\n",
    "Method: we use multilabel splitting method from library skmultilearn.model_selection as it can split the data evenly with balanced distribution of different label between the test and the train set"
   ]
  },
  {
   "cell_type": "code",
   "execution_count": 72,
   "metadata": {},
   "outputs": [],
   "source": [
    "\n",
    "# Function to create stratified split\n",
    "def balanced_split(df, mlb, test_size):\n",
    "    ind_ = np.expand_dims(np.arange(len(df)), axis=1)\n",
    "    # series of unique labels\n",
    "    unique_labels_ = df['labels'].apply(lambda x: set(itertools.chain.from_iterable([x.split(',')])))\n",
    "    labels_ohe_ = mlb.fit_transform(unique_labels_)\n",
    "    ind_train, _, ind_test, _ = iterative_train_test_split(\n",
    "        ind_, labels_ohe_, test_size\n",
    "    )\n",
    "    return df.iloc[ind_train[:, 0]], df.iloc[ind_test[:, 0]]\n",
    "\n"
   ]
  },
  {
   "cell_type": "markdown",
   "metadata": {},
   "source": [
    "### Another way is to use tf.keras.preprocessing.text_dataset_from_directory"
   ]
  },
  {
   "cell_type": "markdown",
   "metadata": {},
   "source": [
    "### All data - Seen Data(80%) + Unseen/Test Data(20%)"
   ]
  },
  {
   "cell_type": "code",
   "execution_count": 73,
   "metadata": {},
   "outputs": [],
   "source": [
    "seen_df, test_df = balanced_split(data, mlb, test_size=0.2)"
   ]
  },
  {
   "cell_type": "code",
   "execution_count": 74,
   "metadata": {},
   "outputs": [
    {
     "name": "stdout",
     "output_type": "stream",
     "text": [
      "Full Dataset size: 47607\n",
      "Seen Dataset size: 38087\n",
      "Test Data Size: 9520\n"
     ]
    }
   ],
   "source": [
    "print(f\"Full Dataset size: {len(data)}\")\n",
    "print(f\"Seen Dataset size: {len(seen_df)}\")\n",
    "print(f\"Test Data Size: {len(test_df)}\")"
   ]
  },
  {
   "cell_type": "markdown",
   "metadata": {},
   "source": [
    "### Seen Data - Trainning Data(90%) + Validation Data(10%)"
   ]
  },
  {
   "cell_type": "code",
   "execution_count": 75,
   "metadata": {},
   "outputs": [],
   "source": [
    "train_df, valid_df = balanced_split(seen_df, mlb, test_size=0.1)"
   ]
  },
  {
   "cell_type": "code",
   "execution_count": 76,
   "metadata": {},
   "outputs": [],
   "source": [
    "# train_df.to_csv( './data/train.csv', index=False)\n",
    "# valid_df.to_csv( './data/valid.csv', index=False)\n",
    "# test_df.to_csv('./data/test.csv', index=False)"
   ]
  },
  {
   "cell_type": "markdown",
   "metadata": {},
   "source": [
    "### Import clean data"
   ]
  },
  {
   "cell_type": "code",
   "execution_count": 77,
   "metadata": {},
   "outputs": [],
   "source": [
    "train_df = pd.read_csv('./data/train.csv')\n",
    "valid_df = pd.read_csv('./data/valid.csv')\n",
    "test_df = pd.read_csv('./data/test.csv')"
   ]
  },
  {
   "cell_type": "code",
   "execution_count": 78,
   "metadata": {},
   "outputs": [
    {
     "name": "stdout",
     "output_type": "stream",
     "text": [
      "Train Dataset size: 34279\n",
      "Valid Data Size: 3808\n"
     ]
    }
   ],
   "source": [
    "\n",
    "print(f\"Train Dataset size: {len(train_df)}\")\n",
    "print(f\"Valid Data Size: {len(valid_df)}\")"
   ]
  },
  {
   "cell_type": "code",
   "execution_count": 79,
   "metadata": {},
   "outputs": [
    {
     "name": "stdout",
     "output_type": "stream",
     "text": [
      "TRAIN Dataset: (34279, 2)\n",
      "VALID Dataset: (3808, 2)\n",
      "TEST Dataset: (9520, 2)\n"
     ]
    }
   ],
   "source": [
    "\n",
    "print(\"TRAIN Dataset: {}\".format(train_df.shape))\n",
    "print(\"VALID Dataset: {}\".format(valid_df.shape))\n",
    "print(\"TEST Dataset: {}\".format(test_df.shape))"
   ]
  },
  {
   "cell_type": "code",
   "execution_count": 80,
   "metadata": {},
   "outputs": [
    {
     "data": {
      "text/html": [
       "<div>\n",
       "<style scoped>\n",
       "    .dataframe tbody tr th:only-of-type {\n",
       "        vertical-align: middle;\n",
       "    }\n",
       "\n",
       "    .dataframe tbody tr th {\n",
       "        vertical-align: top;\n",
       "    }\n",
       "\n",
       "    .dataframe thead th {\n",
       "        text-align: right;\n",
       "    }\n",
       "</style>\n",
       "<table border=\"1\" class=\"dataframe\">\n",
       "  <thead>\n",
       "    <tr style=\"text-align: right;\">\n",
       "      <th></th>\n",
       "      <th>sentence</th>\n",
       "      <th>labels</th>\n",
       "    </tr>\n",
       "  </thead>\n",
       "  <tbody>\n",
       "    <tr>\n",
       "      <th>0</th>\n",
       "      <td>Families of soldiers killed in the conflict jo...</td>\n",
       "      <td>O,O,O,O,O,O,O,O,O,O,O,O,O,O,O,O,O,O,B-per,O,O,...</td>\n",
       "    </tr>\n",
       "    <tr>\n",
       "      <th>1</th>\n",
       "      <td>Police put the number of marchers at 10,000 wh...</td>\n",
       "      <td>O,O,O,O,O,O,O,O,O,O,O,O,O,O,O</td>\n",
       "    </tr>\n",
       "    <tr>\n",
       "      <th>2</th>\n",
       "      <td>The party is divided over Britain 's participa...</td>\n",
       "      <td>O,O,O,O,O,B-gpe,O,O,O,O,B-geo,O,O,O,O,O,O,O,B-...</td>\n",
       "    </tr>\n",
       "    <tr>\n",
       "      <th>3</th>\n",
       "      <td>Two Germans and four Nigerian oil workers were...</td>\n",
       "      <td>O,B-gpe,O,O,B-gpe,O,O,O,O,O,O,O,O,O,O,O,O,O,O,...</td>\n",
       "    </tr>\n",
       "    <tr>\n",
       "      <th>4</th>\n",
       "      <td>The German firm works as a sub-contractor for ...</td>\n",
       "      <td>O,B-gpe,O,O,O,O,O,O,B-org,O</td>\n",
       "    </tr>\n",
       "  </tbody>\n",
       "</table>\n",
       "</div>"
      ],
      "text/plain": [
       "                                            sentence  \\\n",
       "0  Families of soldiers killed in the conflict jo...   \n",
       "1  Police put the number of marchers at 10,000 wh...   \n",
       "2  The party is divided over Britain 's participa...   \n",
       "3  Two Germans and four Nigerian oil workers were...   \n",
       "4  The German firm works as a sub-contractor for ...   \n",
       "\n",
       "                                              labels  \n",
       "0  O,O,O,O,O,O,O,O,O,O,O,O,O,O,O,O,O,O,B-per,O,O,...  \n",
       "1                      O,O,O,O,O,O,O,O,O,O,O,O,O,O,O  \n",
       "2  O,O,O,O,O,B-gpe,O,O,O,O,B-geo,O,O,O,O,O,O,O,B-...  \n",
       "3  O,B-gpe,O,O,B-gpe,O,O,O,O,O,O,O,O,O,O,O,O,O,O,...  \n",
       "4                        O,B-gpe,O,O,O,O,O,O,B-org,O  "
      ]
     },
     "execution_count": 80,
     "metadata": {},
     "output_type": "execute_result"
    }
   ],
   "source": [
    "train_df.head()"
   ]
  },
  {
   "cell_type": "code",
   "execution_count": 81,
   "metadata": {},
   "outputs": [
    {
     "data": {
      "text/plain": [
       "'O,B-gpe,O,O,B-gpe,O,O,O,O,O,O,O,O,O,O,O,O,O,O,B-geo,O,O,O,B-geo,O,O'"
      ]
     },
     "execution_count": 81,
     "metadata": {},
     "output_type": "execute_result"
    }
   ],
   "source": [
    "train_df[\"labels\"].iloc[3]"
   ]
  },
  {
   "cell_type": "code",
   "execution_count": 82,
   "metadata": {},
   "outputs": [
    {
     "data": {
      "text/plain": [
       "\"Two Germans and four Nigerian oil workers were kidnapped by armed militants during a raid on a boat in Nigeria 's southern oil-rich Delta region .\""
      ]
     },
     "execution_count": 82,
     "metadata": {},
     "output_type": "execute_result"
    }
   ],
   "source": [
    "train_df[\"sentence\"].iloc[3]"
   ]
  },
  {
   "cell_type": "code",
   "execution_count": 83,
   "metadata": {},
   "outputs": [],
   "source": [
    "train_df = train_df.reset_index(drop=True)\n",
    "valid_df = valid_df.reset_index(drop=True)\n",
    "test_df = test_df.reset_index(drop=True)"
   ]
  },
  {
   "cell_type": "code",
   "execution_count": 84,
   "metadata": {},
   "outputs": [
    {
     "data": {
      "text/html": [
       "<div>\n",
       "<style scoped>\n",
       "    .dataframe tbody tr th:only-of-type {\n",
       "        vertical-align: middle;\n",
       "    }\n",
       "\n",
       "    .dataframe tbody tr th {\n",
       "        vertical-align: top;\n",
       "    }\n",
       "\n",
       "    .dataframe thead th {\n",
       "        text-align: right;\n",
       "    }\n",
       "</style>\n",
       "<table border=\"1\" class=\"dataframe\">\n",
       "  <thead>\n",
       "    <tr style=\"text-align: right;\">\n",
       "      <th></th>\n",
       "      <th>sentence</th>\n",
       "      <th>labels</th>\n",
       "    </tr>\n",
       "  </thead>\n",
       "  <tbody>\n",
       "    <tr>\n",
       "      <th>0</th>\n",
       "      <td>Families of soldiers killed in the conflict jo...</td>\n",
       "      <td>O,O,O,O,O,O,O,O,O,O,O,O,O,O,O,O,O,O,B-per,O,O,...</td>\n",
       "    </tr>\n",
       "    <tr>\n",
       "      <th>1</th>\n",
       "      <td>Police put the number of marchers at 10,000 wh...</td>\n",
       "      <td>O,O,O,O,O,O,O,O,O,O,O,O,O,O,O</td>\n",
       "    </tr>\n",
       "    <tr>\n",
       "      <th>2</th>\n",
       "      <td>The party is divided over Britain 's participa...</td>\n",
       "      <td>O,O,O,O,O,B-gpe,O,O,O,O,B-geo,O,O,O,O,O,O,O,B-...</td>\n",
       "    </tr>\n",
       "  </tbody>\n",
       "</table>\n",
       "</div>"
      ],
      "text/plain": [
       "                                            sentence  \\\n",
       "0  Families of soldiers killed in the conflict jo...   \n",
       "1  Police put the number of marchers at 10,000 wh...   \n",
       "2  The party is divided over Britain 's participa...   \n",
       "\n",
       "                                              labels  \n",
       "0  O,O,O,O,O,O,O,O,O,O,O,O,O,O,O,O,O,O,B-per,O,O,...  \n",
       "1                      O,O,O,O,O,O,O,O,O,O,O,O,O,O,O  \n",
       "2  O,O,O,O,O,B-gpe,O,O,O,O,B-geo,O,O,O,O,O,O,O,B-...  "
      ]
     },
     "execution_count": 84,
     "metadata": {},
     "output_type": "execute_result"
    }
   ],
   "source": [
    "train_df.head(3)"
   ]
  },
  {
   "cell_type": "code",
   "execution_count": 87,
   "metadata": {},
   "outputs": [
    {
     "data": {
      "text/plain": [
       "['B-geo',\n",
       " 'B-gpe',\n",
       " 'B-org',\n",
       " 'B-per',\n",
       " 'B-tim',\n",
       " 'I-geo',\n",
       " 'I-org',\n",
       " 'I-per',\n",
       " 'I-tim',\n",
       " 'O']"
      ]
     },
     "execution_count": 87,
     "metadata": {},
     "output_type": "execute_result"
    }
   ],
   "source": [
    "all_labels = train_df['labels'].apply(lambda x: x.split(','))\n",
    "all_labels = sorted(set(label for labels in all_labels for label in labels ))\n",
    "all_labels"
   ]
  },
  {
   "cell_type": "markdown",
   "metadata": {},
   "source": [
    "### One hot encoding for all the labels in training , validation and testing dataset"
   ]
  },
  {
   "cell_type": "code",
   "execution_count": 88,
   "metadata": {},
   "outputs": [],
   "source": [
    "\n",
    "# Step 2: Initialize the MultiLabelBinarizer with all known classes\n",
    "mlb = MultiLabelBinarizer(classes=sorted(all_labels))\n",
    "# Step 3: Transform per-sentence label sets\n",
    "unique_train_labels_ohe = mlb.fit_transform(\n",
    "    train_df['labels'].apply(lambda x: set(x.split(',')))\n",
    ")"
   ]
  },
  {
   "cell_type": "code",
   "execution_count": 89,
   "metadata": {},
   "outputs": [
    {
     "data": {
      "text/plain": [
       "(34279, 10)"
      ]
     },
     "execution_count": 89,
     "metadata": {},
     "output_type": "execute_result"
    }
   ],
   "source": [
    "unique_train_labels_ohe.shape"
   ]
  },
  {
   "cell_type": "code",
   "execution_count": 90,
   "metadata": {},
   "outputs": [],
   "source": [
    "\n",
    "\n",
    "# Validation\n",
    "unique_valid_labels_ohe = mlb.transform(\n",
    "    valid_df['labels'].apply(lambda x: set(x.split(',')))\n",
    ")\n",
    "\n",
    "# Testing\n",
    "unique_test_labels_ohe = mlb.transform(\n",
    "    test_df['labels'].apply(lambda x: set(x.split(',')))\n",
    ")\n"
   ]
  },
  {
   "cell_type": "code",
   "execution_count": 91,
   "metadata": {},
   "outputs": [
    {
     "name": "stdout",
     "output_type": "stream",
     "text": [
      "Training Data\n",
      "==============\n",
      "Total num of training samples: 34279\n",
      "Total num of each label: [17483  9207 11288  9674 12369  4313  6120  7614  3090 34273]\n",
      "Proportions of each label: [0.51002071 0.2685901  0.32929782 0.2822136  0.36083316 0.12582047\n",
      " 0.17853496 0.2221185  0.09014265 0.99982497]\n",
      "\n",
      "Validation Data\n",
      "==============\n",
      "Total num of validation samples: 3808\n",
      "Total num of each label: [1943 1023 1254 1074 1374  492  646  855  308 3808]\n",
      "Proportions of each label: [0.5102416  0.26864496 0.32930672 0.28203782 0.36081933 0.12920168\n",
      " 0.16964286 0.22452731 0.08088235 1.        ]\n",
      "\n",
      "Testing Data\n",
      "===============\n",
      "Total num of training samples: 9520\n",
      "Total num of each label: [4857 2558 3135 2685 3436 1210 1683 2124  834 9520]\n",
      "Proportions of each label: [0.51018908 0.26869748 0.32930672 0.28203782 0.36092437 0.12710084\n",
      " 0.17678571 0.22310924 0.08760504 1.        ]\n"
     ]
    }
   ],
   "source": [
    "# compute number of samples\n",
    "num_train_samples = unique_train_labels_ohe.shape[0]\n",
    "num_valid_samples = unique_valid_labels_ohe.shape[0]\n",
    "num_test_samples = unique_test_labels_ohe.shape[0]\n",
    "\n",
    "# compute number of samples for each unique label\n",
    "train_labels_count = unique_train_labels_ohe.sum(axis=0)\n",
    "valid_labels_count = unique_valid_labels_ohe.sum(axis=0)\n",
    "test_labels_count = unique_test_labels_ohe.sum(axis=0)\n",
    "\n",
    "# compute proportion of samples for each unique label\n",
    "prop_train_labels = train_labels_count/num_train_samples\n",
    "prop_valid_labels = valid_labels_count/num_valid_samples\n",
    "prop_test_labels = test_labels_count/num_test_samples\n",
    "\n",
    "\n",
    "print(\"Training Data\")\n",
    "print(\"==============\")\n",
    "print(f\"Total num of training samples: {num_train_samples}\")\n",
    "print(f\"Total num of each label: {train_labels_count}\")\n",
    "print(f\"Proportions of each label: {prop_train_labels}\\n\")\n",
    "\n",
    "print(\"Validation Data\")\n",
    "print(\"==============\")\n",
    "print(f\"Total num of validation samples: {num_valid_samples}\")\n",
    "print(f\"Total num of each label: {valid_labels_count}\")\n",
    "print(f\"Proportions of each label: {prop_valid_labels}\\n\")\n",
    "\n",
    "print(\"Testing Data\")\n",
    "print(\"===============\")\n",
    "print(f\"Total num of training samples: {num_test_samples}\")\n",
    "print(f\"Total num of each label: {test_labels_count}\")\n",
    "print(f\"Proportions of each label: {prop_test_labels}\")"
   ]
  },
  {
   "cell_type": "markdown",
   "metadata": {},
   "source": [
    "### Create the proportion dataFrame for training, validation and testing data"
   ]
  },
  {
   "cell_type": "code",
   "execution_count": 92,
   "metadata": {},
   "outputs": [
    {
     "data": {
      "text/html": [
       "<div>\n",
       "<style scoped>\n",
       "    .dataframe tbody tr th:only-of-type {\n",
       "        vertical-align: middle;\n",
       "    }\n",
       "\n",
       "    .dataframe tbody tr th {\n",
       "        vertical-align: top;\n",
       "    }\n",
       "\n",
       "    .dataframe thead th {\n",
       "        text-align: right;\n",
       "    }\n",
       "</style>\n",
       "<table border=\"1\" class=\"dataframe\">\n",
       "  <thead>\n",
       "    <tr style=\"text-align: right;\">\n",
       "      <th></th>\n",
       "      <th>labels</th>\n",
       "      <th>train</th>\n",
       "      <th>valid</th>\n",
       "      <th>test</th>\n",
       "    </tr>\n",
       "  </thead>\n",
       "  <tbody>\n",
       "    <tr>\n",
       "      <th>0</th>\n",
       "      <td>O</td>\n",
       "      <td>0.510021</td>\n",
       "      <td>0.510242</td>\n",
       "      <td>0.510189</td>\n",
       "    </tr>\n",
       "    <tr>\n",
       "      <th>1</th>\n",
       "      <td>B-geo</td>\n",
       "      <td>0.268590</td>\n",
       "      <td>0.268645</td>\n",
       "      <td>0.268697</td>\n",
       "    </tr>\n",
       "    <tr>\n",
       "      <th>2</th>\n",
       "      <td>B-gpe</td>\n",
       "      <td>0.329298</td>\n",
       "      <td>0.329307</td>\n",
       "      <td>0.329307</td>\n",
       "    </tr>\n",
       "    <tr>\n",
       "      <th>3</th>\n",
       "      <td>B-per</td>\n",
       "      <td>0.282214</td>\n",
       "      <td>0.282038</td>\n",
       "      <td>0.282038</td>\n",
       "    </tr>\n",
       "    <tr>\n",
       "      <th>4</th>\n",
       "      <td>I-geo</td>\n",
       "      <td>0.360833</td>\n",
       "      <td>0.360819</td>\n",
       "      <td>0.360924</td>\n",
       "    </tr>\n",
       "    <tr>\n",
       "      <th>5</th>\n",
       "      <td>B-org</td>\n",
       "      <td>0.125820</td>\n",
       "      <td>0.129202</td>\n",
       "      <td>0.127101</td>\n",
       "    </tr>\n",
       "    <tr>\n",
       "      <th>6</th>\n",
       "      <td>I-org</td>\n",
       "      <td>0.178535</td>\n",
       "      <td>0.169643</td>\n",
       "      <td>0.176786</td>\n",
       "    </tr>\n",
       "    <tr>\n",
       "      <th>7</th>\n",
       "      <td>B-tim</td>\n",
       "      <td>0.222118</td>\n",
       "      <td>0.224527</td>\n",
       "      <td>0.223109</td>\n",
       "    </tr>\n",
       "    <tr>\n",
       "      <th>8</th>\n",
       "      <td>I-per</td>\n",
       "      <td>0.090143</td>\n",
       "      <td>0.080882</td>\n",
       "      <td>0.087605</td>\n",
       "    </tr>\n",
       "    <tr>\n",
       "      <th>9</th>\n",
       "      <td>I-tim</td>\n",
       "      <td>0.999825</td>\n",
       "      <td>1.000000</td>\n",
       "      <td>1.000000</td>\n",
       "    </tr>\n",
       "  </tbody>\n",
       "</table>\n",
       "</div>"
      ],
      "text/plain": [
       "  labels     train     valid      test\n",
       "0      O  0.510021  0.510242  0.510189\n",
       "1  B-geo  0.268590  0.268645  0.268697\n",
       "2  B-gpe  0.329298  0.329307  0.329307\n",
       "3  B-per  0.282214  0.282038  0.282038\n",
       "4  I-geo  0.360833  0.360819  0.360924\n",
       "5  B-org  0.125820  0.129202  0.127101\n",
       "6  I-org  0.178535  0.169643  0.176786\n",
       "7  B-tim  0.222118  0.224527  0.223109\n",
       "8  I-per  0.090143  0.080882  0.087605\n",
       "9  I-tim  0.999825  1.000000  1.000000"
      ]
     },
     "metadata": {},
     "output_type": "display_data"
    }
   ],
   "source": [
    "# create dict for proportions of each label\n",
    "prop_data = {\n",
    "    'labels' : list(label2id.keys()),\n",
    "    'train' : prop_train_labels,\n",
    "    'valid' : prop_valid_labels,\n",
    "    'test' : prop_test_labels\n",
    "}\n",
    "\n",
    "# create dataframe\n",
    "prop_df = pd.DataFrame.from_dict(prop_data)\n",
    "\n",
    "# display\n",
    "display(prop_df)"
   ]
  },
  {
   "cell_type": "code",
   "execution_count": 93,
   "metadata": {},
   "outputs": [],
   "source": [
    "# fig, ax = plt.subplots(figsize=(10, 8))\n",
    "# g = sns.barplot(\n",
    "#     data=prop_df.melt(id_vars = [\"labels\"], value_vars=[\"train\", \"valid\", \"test\"]),\n",
    "#     y=\"value\", x=\"variable\", hue=\"labels\", errorbar=None\n",
    "# )\n",
    "\n",
    "# # for legend text\n",
    "# plt.setp(g.get_legend().get_texts(), fontsize='10')  \n",
    " \n",
    "# # for legend title\n",
    "# plt.setp(g.get_legend().get_title(), fontsize='10')\n",
    "# plt.title(\"Proportions of sentences containing each label - training, validation and testing dataset\")\n",
    "# plt.savefig('./images/label_proportions.png', bbox_inches='tight', dpi=300)\n",
    "# plt.show()"
   ]
  },
  {
   "cell_type": "markdown",
   "metadata": {},
   "source": [
    "### Check distributions of 2nd order"
   ]
  },
  {
   "cell_type": "code",
   "execution_count": 94,
   "metadata": {},
   "outputs": [],
   "source": [
    "# from collections import Counter\n",
    "# from skmultilearn.model_selection.measures import get_combination_wise_output_matrix\n",
    "\n",
    "# label_combination_df = pd.DataFrame({\n",
    "#     'train': Counter(str(combination) for row in get_combination_wise_output_matrix(unique_train_labels_ohe, order=2) for combination in row),\n",
    "#     'valid': Counter(str(combination) for row in get_combination_wise_output_matrix(unique_valid_labels_ohe, order=2) for combination in row),\n",
    "#     'test' : Counter(str(combination) for row in get_combination_wise_output_matrix(unique_test_labels_ohe, order=2) for combination in row),\n",
    "# }).T.fillna(0.0).astype('float')\n",
    "\n",
    "# # compute proportions\n",
    "# label_combination_df.loc['train'] = label_combination_df.loc['train']/num_train_samples\n",
    "# label_combination_df.loc['valid'] = label_combination_df.loc['valid']/num_valid_samples\n",
    "# label_combination_df.loc['test'] = label_combination_df.loc['test']/num_test_samples\n",
    "\n",
    "# label_combination_df"
   ]
  },
  {
   "cell_type": "code",
   "execution_count": 95,
   "metadata": {},
   "outputs": [],
   "source": [
    "# from collections import Counter\n",
    "# from skmultilearn.model_selection.measures import get_combination_wise_output_matrix\n",
    "\n",
    "# label_combination_df = pd.DataFrame({\n",
    "#     'train': Counter(str(combination) for row in get_combination_wise_output_matrix(unique_train_labels_ohe, order=3) for combination in row),\n",
    "#     'valid': Counter(str(combination) for row in get_combination_wise_output_matrix(unique_valid_labels_ohe, order=3) for combination in row),\n",
    "#     'test' : Counter(str(combination) for row in get_combination_wise_output_matrix(unique_test_labels_ohe, order=3) for combination in row),\n",
    "# }).T.fillna(0.0).astype('float')\n",
    "\n",
    "# # compute proportions\n",
    "# label_combination_df.loc['train'] = label_combination_df.loc['train']/num_train_samples\n",
    "# label_combination_df.loc['valid'] = label_combination_df.loc['valid']/num_valid_samples\n",
    "# label_combination_df.loc['test'] = label_combination_df.loc['test']/num_test_samples\n",
    "\n",
    "# label_combination_df"
   ]
  },
  {
   "cell_type": "markdown",
   "metadata": {},
   "source": [
    "### Baseline model\n",
    "### RNN + Softmax"
   ]
  },
  {
   "cell_type": "code",
   "execution_count": 83,
   "metadata": {},
   "outputs": [],
   "source": []
  },
  {
   "cell_type": "markdown",
   "metadata": {},
   "source": [
    "### Tokenization\n",
    "There are many tokenization methods  including:\n",
    "<li>\n",
    "Bert Tokenizer \n",
    "</li>\n",
    "<li>\n",
    "Byte-Pair Encoding (BPE) - Robust to unknown words\n",
    "</li>\n",
    "\n",
    "### Word tokenization"
   ]
  },
  {
   "cell_type": "code",
   "execution_count": 96,
   "metadata": {},
   "outputs": [],
   "source": [
    "# Tokenize sentences (whitespace)\n",
    "def tokenize(sentence):\n",
    "    return sentence.strip().split()\n",
    "# Split labels\n",
    "def split_labels(label_str):\n",
    "    return label_str.strip().split(',')\n"
   ]
  },
  {
   "cell_type": "code",
   "execution_count": 97,
   "metadata": {},
   "outputs": [],
   "source": [
    "\n",
    "train_df['tokens'] = train_df['sentence'].apply(tokenize)\n",
    "train_df['label_list'] = train_df['labels'].apply(split_labels)"
   ]
  },
  {
   "cell_type": "code",
   "execution_count": 98,
   "metadata": {},
   "outputs": [
    {
     "data": {
      "text/html": [
       "<div>\n",
       "<style scoped>\n",
       "    .dataframe tbody tr th:only-of-type {\n",
       "        vertical-align: middle;\n",
       "    }\n",
       "\n",
       "    .dataframe tbody tr th {\n",
       "        vertical-align: top;\n",
       "    }\n",
       "\n",
       "    .dataframe thead th {\n",
       "        text-align: right;\n",
       "    }\n",
       "</style>\n",
       "<table border=\"1\" class=\"dataframe\">\n",
       "  <thead>\n",
       "    <tr style=\"text-align: right;\">\n",
       "      <th></th>\n",
       "      <th>sentence</th>\n",
       "      <th>labels</th>\n",
       "      <th>tokens</th>\n",
       "      <th>label_list</th>\n",
       "    </tr>\n",
       "  </thead>\n",
       "  <tbody>\n",
       "    <tr>\n",
       "      <th>600</th>\n",
       "      <td>The visit by Assistant Secretary of State for ...</td>\n",
       "      <td>O,O,O,O,O,O,B-org,I-org,I-org,I-org,I-org,I-or...</td>\n",
       "      <td>[The, visit, by, Assistant, Secretary, of, Sta...</td>\n",
       "      <td>[O, O, O, O, O, O, B-org, I-org, I-org, I-org,...</td>\n",
       "    </tr>\n",
       "    <tr>\n",
       "      <th>635</th>\n",
       "      <td>Strong performances in construction and manufa...</td>\n",
       "      <td>O,O,O,O,O,O,O,O,O,O,O,O,O,O,O,O,O,O,O,O,O,O,O,...</td>\n",
       "      <td>[Strong, performances, in, construction, and, ...</td>\n",
       "      <td>[O, O, O, O, O, O, O, O, O, O, O, O, O, O, O, ...</td>\n",
       "    </tr>\n",
       "    <tr>\n",
       "      <th>803</th>\n",
       "      <td>After failing in the Korean War ( 1950 - 53 ) ...</td>\n",
       "      <td>O,O,O,O,O,O,O,B-tim,I-tim,I-tim,O,O,O,O,B-geo,...</td>\n",
       "      <td>[After, failing, in, the, Korean, War, (, 1950...</td>\n",
       "      <td>[O, O, O, O, O, O, O, B-tim, I-tim, I-tim, O, ...</td>\n",
       "    </tr>\n",
       "    <tr>\n",
       "      <th>1140</th>\n",
       "      <td>Former U.S. Marine General John J. \" Jack \" Sh...</td>\n",
       "      <td>O,B-org,I-org,I-org,B-per,I-per,I-per,I-per,I-...</td>\n",
       "      <td>[Former, U.S., Marine, General, John, J., \", J...</td>\n",
       "      <td>[O, B-org, I-org, I-org, B-per, I-per, I-per, ...</td>\n",
       "    </tr>\n",
       "    <tr>\n",
       "      <th>4348</th>\n",
       "      <td>But the Honest Man explained that as he was me...</td>\n",
       "      <td>O,O,O,O,O,O,O,O,O,O,O,O,O,O,O,O,O,O,O,O,O,O,O,...</td>\n",
       "      <td>[But, the, Honest, Man, explained, that, as, h...</td>\n",
       "      <td>[O, O, O, O, O, O, O, O, O, O, O, O, O, O, O, ...</td>\n",
       "    </tr>\n",
       "    <tr>\n",
       "      <th>...</th>\n",
       "      <td>...</td>\n",
       "      <td>...</td>\n",
       "      <td>...</td>\n",
       "      <td>...</td>\n",
       "    </tr>\n",
       "    <tr>\n",
       "      <th>30696</th>\n",
       "      <td>Mourners and officials of the Socialist Party ...</td>\n",
       "      <td>O,O,O,O,O,B-org,I-org,O,O,B-per,O,O,O,O,O,O,O,...</td>\n",
       "      <td>[Mourners, and, officials, of, the, Socialist,...</td>\n",
       "      <td>[O, O, O, O, O, B-org, I-org, O, O, B-per, O, ...</td>\n",
       "    </tr>\n",
       "    <tr>\n",
       "      <th>30796</th>\n",
       "      <td>In an interview broadcast Sunday on U.S. telev...</td>\n",
       "      <td>O,O,O,O,B-tim,O,B-geo,O,O,O,B-org,O,O,O,O,O,B-...</td>\n",
       "      <td>[In, an, interview, broadcast, Sunday, on, U.S...</td>\n",
       "      <td>[O, O, O, O, B-tim, O, B-geo, O, O, O, B-org, ...</td>\n",
       "    </tr>\n",
       "    <tr>\n",
       "      <th>32287</th>\n",
       "      <td>Following its heyday as a global maritime powe...</td>\n",
       "      <td>O,O,O,O,O,O,O,O,O,O,B-tim,I-tim,I-tim,O,O,B-pe...</td>\n",
       "      <td>[Following, its, heyday, as, a, global, mariti...</td>\n",
       "      <td>[O, O, O, O, O, O, O, O, O, O, B-tim, I-tim, I...</td>\n",
       "    </tr>\n",
       "    <tr>\n",
       "      <th>32874</th>\n",
       "      <td>Renewed activity in the mining sector , the so...</td>\n",
       "      <td>O,O,O,O,O,O,O,O,O,O,O,O,O,O,O,B-geo,O,O,O,O,O,...</td>\n",
       "      <td>[Renewed, activity, in, the, mining, sector, ,...</td>\n",
       "      <td>[O, O, O, O, O, O, O, O, O, O, O, O, O, O, O, ...</td>\n",
       "    </tr>\n",
       "    <tr>\n",
       "      <th>34145</th>\n",
       "      <td>Two federal policemen walk past crosses standi...</td>\n",
       "      <td>O,O,O,O,O,O,O,O,O,O,O,O,O,O,O,O,O,B-tim,O,B-ge...</td>\n",
       "      <td>[Two, federal, policemen, walk, past, crosses,...</td>\n",
       "      <td>[O, O, O, O, O, O, O, O, O, O, O, O, O, O, O, ...</td>\n",
       "    </tr>\n",
       "  </tbody>\n",
       "</table>\n",
       "<p>74 rows × 4 columns</p>\n",
       "</div>"
      ],
      "text/plain": [
       "                                                sentence  \\\n",
       "600    The visit by Assistant Secretary of State for ...   \n",
       "635    Strong performances in construction and manufa...   \n",
       "803    After failing in the Korean War ( 1950 - 53 ) ...   \n",
       "1140   Former U.S. Marine General John J. \" Jack \" Sh...   \n",
       "4348   But the Honest Man explained that as he was me...   \n",
       "...                                                  ...   \n",
       "30696  Mourners and officials of the Socialist Party ...   \n",
       "30796  In an interview broadcast Sunday on U.S. telev...   \n",
       "32287  Following its heyday as a global maritime powe...   \n",
       "32874  Renewed activity in the mining sector , the so...   \n",
       "34145  Two federal policemen walk past crosses standi...   \n",
       "\n",
       "                                                  labels  \\\n",
       "600    O,O,O,O,O,O,B-org,I-org,I-org,I-org,I-org,I-or...   \n",
       "635    O,O,O,O,O,O,O,O,O,O,O,O,O,O,O,O,O,O,O,O,O,O,O,...   \n",
       "803    O,O,O,O,O,O,O,B-tim,I-tim,I-tim,O,O,O,O,B-geo,...   \n",
       "1140   O,B-org,I-org,I-org,B-per,I-per,I-per,I-per,I-...   \n",
       "4348   O,O,O,O,O,O,O,O,O,O,O,O,O,O,O,O,O,O,O,O,O,O,O,...   \n",
       "...                                                  ...   \n",
       "30696  O,O,O,O,O,B-org,I-org,O,O,B-per,O,O,O,O,O,O,O,...   \n",
       "30796  O,O,O,O,B-tim,O,B-geo,O,O,O,B-org,O,O,O,O,O,B-...   \n",
       "32287  O,O,O,O,O,O,O,O,O,O,B-tim,I-tim,I-tim,O,O,B-pe...   \n",
       "32874  O,O,O,O,O,O,O,O,O,O,O,O,O,O,O,B-geo,O,O,O,O,O,...   \n",
       "34145  O,O,O,O,O,O,O,O,O,O,O,O,O,O,O,O,O,B-tim,O,B-ge...   \n",
       "\n",
       "                                                  tokens  \\\n",
       "600    [The, visit, by, Assistant, Secretary, of, Sta...   \n",
       "635    [Strong, performances, in, construction, and, ...   \n",
       "803    [After, failing, in, the, Korean, War, (, 1950...   \n",
       "1140   [Former, U.S., Marine, General, John, J., \", J...   \n",
       "4348   [But, the, Honest, Man, explained, that, as, h...   \n",
       "...                                                  ...   \n",
       "30696  [Mourners, and, officials, of, the, Socialist,...   \n",
       "30796  [In, an, interview, broadcast, Sunday, on, U.S...   \n",
       "32287  [Following, its, heyday, as, a, global, mariti...   \n",
       "32874  [Renewed, activity, in, the, mining, sector, ,...   \n",
       "34145  [Two, federal, policemen, walk, past, crosses,...   \n",
       "\n",
       "                                              label_list  \n",
       "600    [O, O, O, O, O, O, B-org, I-org, I-org, I-org,...  \n",
       "635    [O, O, O, O, O, O, O, O, O, O, O, O, O, O, O, ...  \n",
       "803    [O, O, O, O, O, O, O, B-tim, I-tim, I-tim, O, ...  \n",
       "1140   [O, B-org, I-org, I-org, B-per, I-per, I-per, ...  \n",
       "4348   [O, O, O, O, O, O, O, O, O, O, O, O, O, O, O, ...  \n",
       "...                                                  ...  \n",
       "30696  [O, O, O, O, O, B-org, I-org, O, O, B-per, O, ...  \n",
       "30796  [O, O, O, O, B-tim, O, B-geo, O, O, O, B-org, ...  \n",
       "32287  [O, O, O, O, O, O, O, O, O, O, B-tim, I-tim, I...  \n",
       "32874  [O, O, O, O, O, O, O, O, O, O, O, O, O, O, O, ...  \n",
       "34145  [O, O, O, O, O, O, O, O, O, O, O, O, O, O, O, ...  \n",
       "\n",
       "[74 rows x 4 columns]"
      ]
     },
     "execution_count": 98,
     "metadata": {},
     "output_type": "execute_result"
    }
   ],
   "source": [
    "train_df[train_df[\"tokens\"].apply(len) >50]\n",
    "\n"
   ]
  },
  {
   "cell_type": "markdown",
   "metadata": {},
   "source": [
    "### ID tokenization"
   ]
  },
  {
   "cell_type": "markdown",
   "metadata": {},
   "source": [
    "### We can use Text vectorization\n",
    "\n",
    "# Text vectorization consiste of parts:\n",
    "<li>\n",
    "    Standardization\n",
    "</li>\n",
    "<li>\n",
    "    Tokenization\n",
    "</li>\n",
    "<li>\n",
    "    Vocabulary building\n",
    "</li>"
   ]
  },
  {
   "cell_type": "markdown",
   "metadata": {},
   "source": [
    "### Vocabulary"
   ]
  },
  {
   "cell_type": "markdown",
   "metadata": {},
   "source": [
    "### Necessary dictionaries for encoding and decoding phase"
   ]
  },
  {
   "cell_type": "code",
   "execution_count": 99,
   "metadata": {},
   "outputs": [],
   "source": [
    "all_labels = train_df['labels'].apply(lambda x: x.split(','))\n",
    "all_labels = sorted(set(label for labels in all_labels for label in labels ))\n",
    "all_labels\n",
    "label2id = {k:v for v,k in enumerate(all_labels)}\n",
    "id2label = {k:v for k,v in enumerate(all_labels)}"
   ]
  },
  {
   "cell_type": "code",
   "execution_count": 100,
   "metadata": {},
   "outputs": [
    {
     "data": {
      "text/plain": [
       "{0: 'B-geo',\n",
       " 1: 'B-gpe',\n",
       " 2: 'B-org',\n",
       " 3: 'B-per',\n",
       " 4: 'B-tim',\n",
       " 5: 'I-geo',\n",
       " 6: 'I-org',\n",
       " 7: 'I-per',\n",
       " 8: 'I-tim',\n",
       " 9: 'O'}"
      ]
     },
     "execution_count": 100,
     "metadata": {},
     "output_type": "execute_result"
    }
   ],
   "source": [
    "id2label"
   ]
  },
  {
   "cell_type": "code",
   "execution_count": 101,
   "metadata": {},
   "outputs": [
    {
     "data": {
      "text/html": [
       "<div>\n",
       "<style scoped>\n",
       "    .dataframe tbody tr th:only-of-type {\n",
       "        vertical-align: middle;\n",
       "    }\n",
       "\n",
       "    .dataframe tbody tr th {\n",
       "        vertical-align: top;\n",
       "    }\n",
       "\n",
       "    .dataframe thead th {\n",
       "        text-align: right;\n",
       "    }\n",
       "</style>\n",
       "<table border=\"1\" class=\"dataframe\">\n",
       "  <thead>\n",
       "    <tr style=\"text-align: right;\">\n",
       "      <th></th>\n",
       "      <th>sentence</th>\n",
       "      <th>labels</th>\n",
       "      <th>tokens</th>\n",
       "      <th>label_list</th>\n",
       "    </tr>\n",
       "  </thead>\n",
       "  <tbody>\n",
       "    <tr>\n",
       "      <th>0</th>\n",
       "      <td>Families of soldiers killed in the conflict jo...</td>\n",
       "      <td>O,O,O,O,O,O,O,O,O,O,O,O,O,O,O,O,O,O,B-per,O,O,...</td>\n",
       "      <td>[Families, of, soldiers, killed, in, the, conf...</td>\n",
       "      <td>[O, O, O, O, O, O, O, O, O, O, O, O, O, O, O, ...</td>\n",
       "    </tr>\n",
       "    <tr>\n",
       "      <th>1</th>\n",
       "      <td>Police put the number of marchers at 10,000 wh...</td>\n",
       "      <td>O,O,O,O,O,O,O,O,O,O,O,O,O,O,O</td>\n",
       "      <td>[Police, put, the, number, of, marchers, at, 1...</td>\n",
       "      <td>[O, O, O, O, O, O, O, O, O, O, O, O, O, O, O]</td>\n",
       "    </tr>\n",
       "    <tr>\n",
       "      <th>2</th>\n",
       "      <td>The party is divided over Britain 's participa...</td>\n",
       "      <td>O,O,O,O,O,B-gpe,O,O,O,O,B-geo,O,O,O,O,O,O,O,B-...</td>\n",
       "      <td>[The, party, is, divided, over, Britain, 's, p...</td>\n",
       "      <td>[O, O, O, O, O, B-gpe, O, O, O, O, B-geo, O, O...</td>\n",
       "    </tr>\n",
       "    <tr>\n",
       "      <th>3</th>\n",
       "      <td>Two Germans and four Nigerian oil workers were...</td>\n",
       "      <td>O,B-gpe,O,O,B-gpe,O,O,O,O,O,O,O,O,O,O,O,O,O,O,...</td>\n",
       "      <td>[Two, Germans, and, four, Nigerian, oil, worke...</td>\n",
       "      <td>[O, B-gpe, O, O, B-gpe, O, O, O, O, O, O, O, O...</td>\n",
       "    </tr>\n",
       "    <tr>\n",
       "      <th>4</th>\n",
       "      <td>The German firm works as a sub-contractor for ...</td>\n",
       "      <td>O,B-gpe,O,O,O,O,O,O,B-org,O</td>\n",
       "      <td>[The, German, firm, works, as, a, sub-contract...</td>\n",
       "      <td>[O, B-gpe, O, O, O, O, O, O, B-org, O]</td>\n",
       "    </tr>\n",
       "    <tr>\n",
       "      <th>...</th>\n",
       "      <td>...</td>\n",
       "      <td>...</td>\n",
       "      <td>...</td>\n",
       "      <td>...</td>\n",
       "    </tr>\n",
       "    <tr>\n",
       "      <th>34274</th>\n",
       "      <td>Indian border security forces are accusing the...</td>\n",
       "      <td>B-gpe,O,O,O,O,O,O,B-gpe,O,O,O,O,O,O,O,O,O,B-ge...</td>\n",
       "      <td>[Indian, border, security, forces, are, accusi...</td>\n",
       "      <td>[B-gpe, O, O, O, O, O, O, B-gpe, O, O, O, O, O...</td>\n",
       "    </tr>\n",
       "    <tr>\n",
       "      <th>34275</th>\n",
       "      <td>Indian officials said no one was injured in Sa...</td>\n",
       "      <td>B-gpe,O,O,O,O,O,O,O,B-tim,O,O,O,O,O,O,O,O,O,O,...</td>\n",
       "      <td>[Indian, officials, said, no, one, was, injure...</td>\n",
       "      <td>[B-gpe, O, O, O, O, O, O, O, B-tim, O, O, O, O...</td>\n",
       "    </tr>\n",
       "    <tr>\n",
       "      <th>34276</th>\n",
       "      <td>Two more landed in fields belonging to a nearb...</td>\n",
       "      <td>O,O,O,O,O,O,O,O,O,O,O</td>\n",
       "      <td>[Two, more, landed, in, fields, belonging, to,...</td>\n",
       "      <td>[O, O, O, O, O, O, O, O, O, O, O]</td>\n",
       "    </tr>\n",
       "    <tr>\n",
       "      <th>34277</th>\n",
       "      <td>They say not all of the rockets exploded upon ...</td>\n",
       "      <td>O,O,O,O,O,O,O,O,O,O,O</td>\n",
       "      <td>[They, say, not, all, of, the, rockets, explod...</td>\n",
       "      <td>[O, O, O, O, O, O, O, O, O, O, O]</td>\n",
       "    </tr>\n",
       "    <tr>\n",
       "      <th>34278</th>\n",
       "      <td>Indian forces said they responded to the attack</td>\n",
       "      <td>B-gpe,O,O,O,O,O,O,O</td>\n",
       "      <td>[Indian, forces, said, they, responded, to, th...</td>\n",
       "      <td>[B-gpe, O, O, O, O, O, O, O]</td>\n",
       "    </tr>\n",
       "  </tbody>\n",
       "</table>\n",
       "<p>34279 rows × 4 columns</p>\n",
       "</div>"
      ],
      "text/plain": [
       "                                                sentence  \\\n",
       "0      Families of soldiers killed in the conflict jo...   \n",
       "1      Police put the number of marchers at 10,000 wh...   \n",
       "2      The party is divided over Britain 's participa...   \n",
       "3      Two Germans and four Nigerian oil workers were...   \n",
       "4      The German firm works as a sub-contractor for ...   \n",
       "...                                                  ...   \n",
       "34274  Indian border security forces are accusing the...   \n",
       "34275  Indian officials said no one was injured in Sa...   \n",
       "34276  Two more landed in fields belonging to a nearb...   \n",
       "34277  They say not all of the rockets exploded upon ...   \n",
       "34278    Indian forces said they responded to the attack   \n",
       "\n",
       "                                                  labels  \\\n",
       "0      O,O,O,O,O,O,O,O,O,O,O,O,O,O,O,O,O,O,B-per,O,O,...   \n",
       "1                          O,O,O,O,O,O,O,O,O,O,O,O,O,O,O   \n",
       "2      O,O,O,O,O,B-gpe,O,O,O,O,B-geo,O,O,O,O,O,O,O,B-...   \n",
       "3      O,B-gpe,O,O,B-gpe,O,O,O,O,O,O,O,O,O,O,O,O,O,O,...   \n",
       "4                            O,B-gpe,O,O,O,O,O,O,B-org,O   \n",
       "...                                                  ...   \n",
       "34274  B-gpe,O,O,O,O,O,O,B-gpe,O,O,O,O,O,O,O,O,O,B-ge...   \n",
       "34275  B-gpe,O,O,O,O,O,O,O,B-tim,O,O,O,O,O,O,O,O,O,O,...   \n",
       "34276                              O,O,O,O,O,O,O,O,O,O,O   \n",
       "34277                              O,O,O,O,O,O,O,O,O,O,O   \n",
       "34278                                B-gpe,O,O,O,O,O,O,O   \n",
       "\n",
       "                                                  tokens  \\\n",
       "0      [Families, of, soldiers, killed, in, the, conf...   \n",
       "1      [Police, put, the, number, of, marchers, at, 1...   \n",
       "2      [The, party, is, divided, over, Britain, 's, p...   \n",
       "3      [Two, Germans, and, four, Nigerian, oil, worke...   \n",
       "4      [The, German, firm, works, as, a, sub-contract...   \n",
       "...                                                  ...   \n",
       "34274  [Indian, border, security, forces, are, accusi...   \n",
       "34275  [Indian, officials, said, no, one, was, injure...   \n",
       "34276  [Two, more, landed, in, fields, belonging, to,...   \n",
       "34277  [They, say, not, all, of, the, rockets, explod...   \n",
       "34278  [Indian, forces, said, they, responded, to, th...   \n",
       "\n",
       "                                              label_list  \n",
       "0      [O, O, O, O, O, O, O, O, O, O, O, O, O, O, O, ...  \n",
       "1          [O, O, O, O, O, O, O, O, O, O, O, O, O, O, O]  \n",
       "2      [O, O, O, O, O, B-gpe, O, O, O, O, B-geo, O, O...  \n",
       "3      [O, B-gpe, O, O, B-gpe, O, O, O, O, O, O, O, O...  \n",
       "4                 [O, B-gpe, O, O, O, O, O, O, B-org, O]  \n",
       "...                                                  ...  \n",
       "34274  [B-gpe, O, O, O, O, O, O, B-gpe, O, O, O, O, O...  \n",
       "34275  [B-gpe, O, O, O, O, O, O, O, B-tim, O, O, O, O...  \n",
       "34276                  [O, O, O, O, O, O, O, O, O, O, O]  \n",
       "34277                  [O, O, O, O, O, O, O, O, O, O, O]  \n",
       "34278                       [B-gpe, O, O, O, O, O, O, O]  \n",
       "\n",
       "[34279 rows x 4 columns]"
      ]
     },
     "execution_count": 101,
     "metadata": {},
     "output_type": "execute_result"
    }
   ],
   "source": [
    "train_df"
   ]
  },
  {
   "cell_type": "code",
   "execution_count": 102,
   "metadata": {},
   "outputs": [],
   "source": [
    "word_counts = Counter(word for tokens in train_df['tokens'] for word in tokens)\n",
    "word2id = {word: i + 2 for i, word in enumerate(word_counts)} # turn words into unique ids (+2) because give 0,1 to UNK and PAD"
   ]
  },
  {
   "cell_type": "code",
   "execution_count": 134,
   "metadata": {},
   "outputs": [
    {
     "data": {
      "text/plain": [
       "8387"
      ]
     },
     "execution_count": 134,
     "metadata": {},
     "output_type": "execute_result"
    }
   ],
   "source": [
    "# Emily Carter\n",
    "word2id[\"united\"]"
   ]
  },
  {
   "cell_type": "code",
   "execution_count": null,
   "metadata": {},
   "outputs": [],
   "source": []
  },
  {
   "cell_type": "code",
   "execution_count": 103,
   "metadata": {},
   "outputs": [],
   "source": [
    "id2word = {i+2:word for i,word in enumerate(word_counts)}\n"
   ]
  },
  {
   "cell_type": "code",
   "execution_count": 104,
   "metadata": {},
   "outputs": [
    {
     "data": {
      "text/plain": [
       "{'Families': 2,\n",
       " 'of': 3,\n",
       " 'soldiers': 4,\n",
       " 'killed': 5,\n",
       " 'in': 6,\n",
       " 'the': 7,\n",
       " 'conflict': 8,\n",
       " 'joined': 9,\n",
       " 'protesters': 10,\n",
       " 'who': 11,\n",
       " 'carried': 12,\n",
       " 'banners': 13,\n",
       " 'with': 14,\n",
       " 'such': 15,\n",
       " 'slogans': 16,\n",
       " 'as': 17,\n",
       " '\"': 18,\n",
       " 'Bush': 19,\n",
       " 'Number': 20,\n",
       " 'One': 21,\n",
       " 'Terrorist': 22,\n",
       " 'and': 23,\n",
       " 'Stop': 24,\n",
       " 'Bombings': 25,\n",
       " '.': 26,\n",
       " 'Police': 27,\n",
       " 'put': 28,\n",
       " 'number': 29,\n",
       " 'marchers': 30,\n",
       " 'at': 31,\n",
       " '10,000': 32,\n",
       " 'while': 33,\n",
       " 'organizers': 34,\n",
       " 'claimed': 35,\n",
       " 'it': 36,\n",
       " 'was': 37,\n",
       " '1,00,000': 38,\n",
       " 'The': 39,\n",
       " 'party': 40,\n",
       " 'is': 41,\n",
       " 'divided': 42,\n",
       " 'over': 43,\n",
       " 'Britain': 44,\n",
       " \"'s\": 45,\n",
       " 'participation': 46,\n",
       " 'Iraq': 47,\n",
       " 'continued': 48,\n",
       " 'deployment': 49,\n",
       " '8,500': 50,\n",
       " 'British': 51,\n",
       " 'troops': 52,\n",
       " 'that': 53,\n",
       " 'country': 54,\n",
       " 'Two': 55,\n",
       " 'Germans': 56,\n",
       " 'four': 57,\n",
       " 'Nigerian': 58,\n",
       " 'oil': 59,\n",
       " 'workers': 60,\n",
       " 'were': 61,\n",
       " 'kidnapped': 62,\n",
       " 'by': 63,\n",
       " 'armed': 64,\n",
       " 'militants': 65,\n",
       " 'during': 66,\n",
       " 'a': 67,\n",
       " 'raid': 68,\n",
       " 'on': 69,\n",
       " 'boat': 70,\n",
       " 'Nigeria': 71,\n",
       " 'southern': 72,\n",
       " 'oil-rich': 73,\n",
       " 'Delta': 74,\n",
       " 'region': 75,\n",
       " 'German': 76,\n",
       " 'firm': 77,\n",
       " 'works': 78,\n",
       " 'sub-contractor': 79,\n",
       " 'for': 80,\n",
       " 'Shell': 81,\n",
       " 'It': 82,\n",
       " 'not': 83,\n",
       " 'immediately': 84,\n",
       " 'clear': 85,\n",
       " 'if': 86,\n",
       " 'president': 87,\n",
       " 'palace': 88,\n",
       " 'Mogadishu': 89,\n",
       " 'when': 90,\n",
       " 'attack': 91,\n",
       " 'occurred': 92,\n",
       " 'or': 93,\n",
       " 'anyone': 94,\n",
       " 'hurt': 95,\n",
       " 'Officials': 96,\n",
       " 'say': 97,\n",
       " 'al': 98,\n",
       " 'Qaida': 99,\n",
       " 'fighters': 100,\n",
       " 'have': 101,\n",
       " 'fled': 102,\n",
       " 'successful': 103,\n",
       " 'campaigns': 104,\n",
       " 'against': 105,\n",
       " 'them': 106,\n",
       " 'Anbar': 107,\n",
       " 'province': 108,\n",
       " 'Baghdad': 109,\n",
       " 'to': 110,\n",
       " 'other': 111,\n",
       " 'northern': 112,\n",
       " 'provinces': 113,\n",
       " 'Egyptian': 114,\n",
       " 'police': 115,\n",
       " 'arrested': 116,\n",
       " 'least': 117,\n",
       " '16': 118,\n",
       " 'members': 119,\n",
       " 'opposition': 120,\n",
       " 'Muslim': 121,\n",
       " 'Brotherhood': 122,\n",
       " 'parts': 123,\n",
       " 'prepare': 124,\n",
       " 'parliamentary': 125,\n",
       " 'runoff': 126,\n",
       " 'elections': 127,\n",
       " 'Saturday': 128,\n",
       " 'A': 129,\n",
       " 'spokesman': 130,\n",
       " 'said': 131,\n",
       " 'arrests': 132,\n",
       " 'are': 133,\n",
       " 'an': 134,\n",
       " 'attempt': 135,\n",
       " 'cut': 136,\n",
       " 'off': 137,\n",
       " 'from': 138,\n",
       " 'its': 139,\n",
       " 'supporters': 140,\n",
       " 'punishment': 141,\n",
       " 'winning': 142,\n",
       " 'seats': 143,\n",
       " 'earlier': 144,\n",
       " 'Hardline': 145,\n",
       " 'lawmakers': 146,\n",
       " 'Pakistan': 147,\n",
       " 'North': 148,\n",
       " 'West': 149,\n",
       " 'Frontier': 150,\n",
       " 'Province': 151,\n",
       " 'pushed': 152,\n",
       " 'through': 153,\n",
       " 'law': 154,\n",
       " 'aims': 155,\n",
       " 'ensure': 156,\n",
       " 'Islamic': 157,\n",
       " 'correctness': 158,\n",
       " 'public': 159,\n",
       " 'places': 160,\n",
       " 'establishes': 161,\n",
       " 'morality': 162,\n",
       " 'enforce': 163,\n",
       " 'decent': 164,\n",
       " 'behavior': 165,\n",
       " 'proposed': 166,\n",
       " 'calls': 167,\n",
       " 'setting': 168,\n",
       " 'up': 169,\n",
       " 'religious': 170,\n",
       " 'force': 171,\n",
       " 'make': 172,\n",
       " 'sure': 173,\n",
       " 'people': 174,\n",
       " 'adhere': 175,\n",
       " 'values': 176,\n",
       " ',': 177,\n",
       " 'entertainment': 178,\n",
       " 'outlets': 179,\n",
       " 'close': 180,\n",
       " 'weekly': 181,\n",
       " 'Friday': 182,\n",
       " 'prayers': 183,\n",
       " 'Home': 184,\n",
       " 'Office': 185,\n",
       " 'told': 186,\n",
       " 'Associated': 187,\n",
       " 'Press': 188,\n",
       " 'paroled': 189,\n",
       " 'offender': 190,\n",
       " 'gives': 191,\n",
       " 'cause': 192,\n",
       " 'concern': 193,\n",
       " 'he': 194,\n",
       " 'can': 195,\n",
       " 'be': 196,\n",
       " 'sent': 197,\n",
       " 'back': 198,\n",
       " 'prison': 199,\n",
       " 'AP': 200,\n",
       " 'also': 201,\n",
       " 'reports': 202,\n",
       " 'Khayam': 203,\n",
       " 'has': 204,\n",
       " 'been': 205,\n",
       " 'parole': 206,\n",
       " 'since': 207,\n",
       " 'last': 208,\n",
       " 'year': 209,\n",
       " 'after': 210,\n",
       " 'serving': 211,\n",
       " 'half': 212,\n",
       " 'his': 213,\n",
       " 'six-year': 214,\n",
       " 'sentence': 215,\n",
       " 'drug': 216,\n",
       " 'dealing': 217,\n",
       " 'His': 218,\n",
       " 'driver': 219,\n",
       " 'tribal': 220,\n",
       " 'elder': 221,\n",
       " 'He': 222,\n",
       " 'placed': 223,\n",
       " 'under': 224,\n",
       " 'house': 225,\n",
       " 'arrest': 226,\n",
       " 'Islamabad': 227,\n",
       " 'but': 228,\n",
       " 'jailed': 229,\n",
       " 'because': 230,\n",
       " 'considered': 231,\n",
       " 'father': 232,\n",
       " 'nuclear': 233,\n",
       " 'bomb': 234,\n",
       " 'company': 235,\n",
       " 'strongly': 236,\n",
       " 'denies': 237,\n",
       " 'allegations': 238,\n",
       " 'VOA': 239,\n",
       " 'Nancy-Amelia': 240,\n",
       " 'Collins': 241,\n",
       " 'Sydney': 242,\n",
       " 'Energy': 243,\n",
       " 'security': 244,\n",
       " 'climate': 245,\n",
       " 'change': 246,\n",
       " 'World': 247,\n",
       " 'Trade': 248,\n",
       " 'Organization': 249,\n",
       " 'stalled': 250,\n",
       " 'negotiations': 251,\n",
       " 'investment': 252,\n",
       " 'all': 253,\n",
       " 'expected': 254,\n",
       " 'among': 255,\n",
       " 'major': 256,\n",
       " 'topics': 257,\n",
       " 'annual': 258,\n",
       " 'report': 259,\n",
       " 'APEC': 260,\n",
       " 'Business': 261,\n",
       " 'Advisory': 262,\n",
       " 'Council': 263,\n",
       " 'known': 264,\n",
       " 'ABAC': 265,\n",
       " 'says': 266,\n",
       " 'there': 267,\n",
       " 'need': 268,\n",
       " 'businesses': 269,\n",
       " 'improve': 270,\n",
       " 'energy': 271,\n",
       " 'efficiency': 272,\n",
       " 'encourage': 273,\n",
       " 'conservation': 274,\n",
       " 'practices': 275,\n",
       " 'include': 276,\n",
       " 'this': 277,\n",
       " 'Harcourt': 278,\n",
       " 'Australian': 279,\n",
       " 'Commission': 280,\n",
       " 'will': 281,\n",
       " 'discuss': 282,\n",
       " 'ways': 283,\n",
       " 'enhance': 284,\n",
       " 'regional': 285,\n",
       " 'cooperation': 286,\n",
       " 'And': 287,\n",
       " 'I': 288,\n",
       " 'think': 289,\n",
       " 'they': 290,\n",
       " \"'ll\": 291,\n",
       " 'want': 292,\n",
       " 'one-stop': 293,\n",
       " 'shop': 294,\n",
       " 'terms': 295,\n",
       " 'combining': 296,\n",
       " 'immigration': 297,\n",
       " 'customs': 298,\n",
       " 'quarantine': 299,\n",
       " 'together': 300,\n",
       " 'just': 301,\n",
       " 'more': 302,\n",
       " 'streamlined': 303,\n",
       " 'provides': 304,\n",
       " 'certainty': 305,\n",
       " 'Mr.': 306,\n",
       " 'Ismail': 307,\n",
       " 'announced': 308,\n",
       " 'decision': 309,\n",
       " 'meeting': 310,\n",
       " 'officials': 311,\n",
       " 'United': 312,\n",
       " 'Nations': 313,\n",
       " 'African': 314,\n",
       " 'Union': 315,\n",
       " 'Khartoum': 316,\n",
       " 'Sunday': 317,\n",
       " 'defending': 318,\n",
       " 'their': 319,\n",
       " 'positions': 320,\n",
       " 'rebel': 321,\n",
       " 'attacks': 322,\n",
       " 'Indonesian': 323,\n",
       " 'Wednesday': 324,\n",
       " 'men': 325,\n",
       " 'flown': 326,\n",
       " 'Bali': 327,\n",
       " 'neighboring': 328,\n",
       " 'Java': 329,\n",
       " 'island': 330,\n",
       " 'questioning': 331,\n",
       " 'headquarters': 332,\n",
       " 'authorities': 333,\n",
       " 'blame': 334,\n",
       " 'Azahari': 335,\n",
       " 'bin': 336,\n",
       " 'Husin': 337,\n",
       " 'orchestrating': 338,\n",
       " 'month': 339,\n",
       " 'well': 340,\n",
       " '2002': 341,\n",
       " 'bombings': 342,\n",
       " 'than': 343,\n",
       " '200': 344,\n",
       " 'pope': 345,\n",
       " 'meant': 346,\n",
       " 'no': 347,\n",
       " 'offense': 348,\n",
       " 'Muslims': 349,\n",
       " 'quoted': 350,\n",
       " '14': 351,\n",
       " 'century': 352,\n",
       " 'Byzantine': 353,\n",
       " 'emperor': 354,\n",
       " 'saying': 355,\n",
       " 'some': 356,\n",
       " 'teachings': 357,\n",
       " 'Prophet': 358,\n",
       " 'Muhammed': 359,\n",
       " 'brought': 360,\n",
       " 'evil': 361,\n",
       " 'world': 362,\n",
       " 'Pakistani': 363,\n",
       " 'military': 364,\n",
       " 'launched': 365,\n",
       " 'offensive': 366,\n",
       " 'Orakzai': 367,\n",
       " 'hunt': 368,\n",
       " 'Taliban': 369,\n",
       " 'insurgents': 370,\n",
       " '13': 371,\n",
       " 'guerrillas': 372,\n",
       " 'two': 373,\n",
       " 'encounters': 374,\n",
       " 'central': 375,\n",
       " 'Uruzgan': 376,\n",
       " 'what': 377,\n",
       " 'motivated': 378,\n",
       " 'Emergency': 379,\n",
       " 'medical': 380,\n",
       " 'five': 381,\n",
       " 'victims': 382,\n",
       " 'died': 383,\n",
       " 'Moscow': 384,\n",
       " 'exposure': 385,\n",
       " 'another': 386,\n",
       " '19': 387,\n",
       " 'hospitalized': 388,\n",
       " 'hypothermia': 389,\n",
       " 'Health': 390,\n",
       " 'Vietnam': 391,\n",
       " 'deadly': 392,\n",
       " 'strain': 393,\n",
       " 'bird': 394,\n",
       " 'flu': 395,\n",
       " 'virus': 396,\n",
       " 'second': 397,\n",
       " 'Vietnamese': 398,\n",
       " 'man': 399,\n",
       " 'week': 400,\n",
       " 'raising': 401,\n",
       " 'death': 402,\n",
       " 'toll': 403,\n",
       " '50': 404,\n",
       " 'Witnesses': 405,\n",
       " 'Somalia': 406,\n",
       " 'burned': 407,\n",
       " 'dragged': 408,\n",
       " 'bodies': 409,\n",
       " 'streets': 410,\n",
       " 'clash': 411,\n",
       " 'between': 412,\n",
       " 'Ethiopian': 413,\n",
       " 'forces': 414,\n",
       " 'seven': 415,\n",
       " 'returned': 416,\n",
       " 'heavy': 417,\n",
       " 'fire': 418,\n",
       " 'several': 419,\n",
       " 'wounded': 420,\n",
       " 'fighting': 421,\n",
       " 'sides': 422,\n",
       " 'expressed': 423,\n",
       " 'hope': 424,\n",
       " 'reaching': 425,\n",
       " 'peace': 426,\n",
       " 'deal': 427,\n",
       " 'before': 428,\n",
       " 'U.S.': 429,\n",
       " 'President': 430,\n",
       " 'George': 431,\n",
       " 'leaves': 432,\n",
       " 'office': 433,\n",
       " 'early': 434,\n",
       " 'next': 435,\n",
       " 'statement': 436,\n",
       " 'General': 437,\n",
       " 'Adam': 438,\n",
       " 'asked': 439,\n",
       " 'leave': 440,\n",
       " 'post': 441,\n",
       " 'soon': 442,\n",
       " 'possible': 443,\n",
       " 'chief': 444,\n",
       " 'staff': 445,\n",
       " 'accepted': 446,\n",
       " 'request': 447,\n",
       " 'begin': 448,\n",
       " 'process': 449,\n",
       " 'replacement': 450,\n",
       " 'Israeli': 451,\n",
       " 'media': 452,\n",
       " 'had': 453,\n",
       " 'disagreements': 454,\n",
       " 'army': 455,\n",
       " 'Lieutenant': 456,\n",
       " 'Dan': 457,\n",
       " 'Halutz': 458,\n",
       " 'conduct': 459,\n",
       " 'war': 460,\n",
       " 'Institute': 461,\n",
       " 'Science': 462,\n",
       " 'International': 463,\n",
       " 'Security': 464,\n",
       " 'satellite': 465,\n",
       " 'photos': 466,\n",
       " 'show': 467,\n",
       " 'construction': 468,\n",
       " 'site': 469,\n",
       " 'larger': 470,\n",
       " 'reactor': 471,\n",
       " 'near': 472,\n",
       " 'small': 473,\n",
       " 'one': 474,\n",
       " 'Khushab': 475,\n",
       " 'district': 476,\n",
       " 'Punjab': 477,\n",
       " 'could': 478,\n",
       " 'produce': 479,\n",
       " 'kilograms': 480,\n",
       " 'weapons-grade': 481,\n",
       " 'plutonium': 482,\n",
       " 'good': 483,\n",
       " '40': 484,\n",
       " 'weapons': 485,\n",
       " 'According': 486,\n",
       " 'now': 487,\n",
       " 'capable': 488,\n",
       " 'producing': 489,\n",
       " 'warheads': 490,\n",
       " 'American': 491,\n",
       " 'Diabetes': 492,\n",
       " 'Association': 493,\n",
       " 'disease': 494,\n",
       " 'leading': 495,\n",
       " 'new': 496,\n",
       " 'cases': 497,\n",
       " 'blindness': 498,\n",
       " 'adults': 499,\n",
       " 'countries': 500,\n",
       " 'agreed': 501,\n",
       " 'reopen': 502,\n",
       " 'consulates': 503,\n",
       " 'following': 504,\n",
       " 'Panamanian': 505,\n",
       " 'Martin': 506,\n",
       " 'Torrijos': 507,\n",
       " 'Cuban': 508,\n",
       " 'Vice': 509,\n",
       " 'Carlos': 510,\n",
       " 'Lage': 511,\n",
       " 'targeted': 512,\n",
       " 'collecting': 513,\n",
       " 'rocket': 514,\n",
       " 'launcher': 515,\n",
       " 'area': 516,\n",
       " 'used': 517,\n",
       " 'rockets': 518,\n",
       " 'Israel': 519,\n",
       " 'recently': 520,\n",
       " 'Arab': 521,\n",
       " 'plan': 522,\n",
       " 'problematic': 523,\n",
       " 'requires': 524,\n",
       " 'Palestinians': 525,\n",
       " 'recognize': 526,\n",
       " 'exchange': 527,\n",
       " 'pullout': 528,\n",
       " 'Palestinian': 529,\n",
       " 'territories': 530,\n",
       " 'jury': 531,\n",
       " 'found': 532,\n",
       " 'maker': 533,\n",
       " 'Merck': 534,\n",
       " 'liable': 535,\n",
       " 'heart': 536,\n",
       " 'suffered': 537,\n",
       " 'taking': 538,\n",
       " 'painkiller': 539,\n",
       " 'Vioxx': 540,\n",
       " 'withdrew': 541,\n",
       " 'popular': 542,\n",
       " 'study': 543,\n",
       " 'showed': 544,\n",
       " 'doubled': 545,\n",
       " 'risk': 546,\n",
       " 'problems': 547,\n",
       " 'long-term': 548,\n",
       " 'users': 549,\n",
       " 'rumors': 550,\n",
       " 'TRUE': 551,\n",
       " ':': 552,\n",
       " 'Nicole': 553,\n",
       " 'Ritchie': 554,\n",
       " 'pregnant': 555,\n",
       " 'responsibility': 556,\n",
       " 'something': 557,\n",
       " 'did': 558,\n",
       " 'wrong': 559,\n",
       " 'personally': 560,\n",
       " 'apologize': 561,\n",
       " 'every': 562,\n",
       " 'single': 563,\n",
       " 'person': 564,\n",
       " 'lost': 565,\n",
       " 'loved': 566,\n",
       " 'drunk': 567,\n",
       " 'driving': 568,\n",
       " 'would': 569,\n",
       " 'she': 570,\n",
       " 'Senator': 571,\n",
       " 'John': 572,\n",
       " 'Warner': 573,\n",
       " 'southeastern': 574,\n",
       " 'state': 575,\n",
       " 'Virginia': 576,\n",
       " 'prominent': 577,\n",
       " 'Republican': 578,\n",
       " 'figure': 579,\n",
       " 'debate': 580,\n",
       " 'retire': 581,\n",
       " 'finishing': 582,\n",
       " 'term': 583,\n",
       " '2009': 584,\n",
       " 'called': 585,\n",
       " 'withdrawing': 586,\n",
       " 'retirement': 587,\n",
       " 'open': 588,\n",
       " 'relatively': 589,\n",
       " 'safe': 590,\n",
       " 'seat': 591,\n",
       " 'Republicans': 592,\n",
       " 'fight': 593,\n",
       " 'Senate': 594,\n",
       " 'control': 595,\n",
       " 'latest': 596,\n",
       " 'victim': 597,\n",
       " '16-year-old': 598,\n",
       " 'girl': 599,\n",
       " 'town': 600,\n",
       " 'Bekasi': 601,\n",
       " 'eastern': 602,\n",
       " 'outskirts': 603,\n",
       " 'Jakarta': 604,\n",
       " 'Tuesday': 605,\n",
       " 'health': 606,\n",
       " 'ministry': 607,\n",
       " 'woman': 608,\n",
       " 'family': 609,\n",
       " 'kept': 610,\n",
       " 'chickens': 611,\n",
       " 'backyard': 612,\n",
       " 'Malaysia': 613,\n",
       " 'wants': 614,\n",
       " 'see': 615,\n",
       " 'Bangkok': 616,\n",
       " 'provide': 617,\n",
       " 'Anti-Japanese': 618,\n",
       " 'protests': 619,\n",
       " 'western': 620,\n",
       " 'Chinese': 621,\n",
       " 'city': 622,\n",
       " 'Shanghai': 623,\n",
       " 'turned': 624,\n",
       " 'violent': 625,\n",
       " 'pelting': 626,\n",
       " 'Japanese': 627,\n",
       " 'consulate': 628,\n",
       " 'rocks': 629,\n",
       " 'bottles': 630,\n",
       " 'eggs': 631,\n",
       " 'State': 632,\n",
       " 'Councilor': 633,\n",
       " 'Tang': 634,\n",
       " 'Jiaxuan': 635,\n",
       " 'official': 636,\n",
       " 'Xinhua': 637,\n",
       " 'news': 638,\n",
       " 'agency': 639,\n",
       " 'China': 640,\n",
       " 'government': 641,\n",
       " 'urging': 642,\n",
       " 'protest': 643,\n",
       " 'calm': 644,\n",
       " 'orderly': 645,\n",
       " 'manner': 646,\n",
       " 'Organizers': 647,\n",
       " '2012': 648,\n",
       " 'Summer': 649,\n",
       " 'Olympics': 650,\n",
       " 'London': 651,\n",
       " 'promised': 652,\n",
       " 'greenest': 653,\n",
       " 'games': 654,\n",
       " 'history': 655,\n",
       " 'sought': 656,\n",
       " 'soothe': 657,\n",
       " 'concerns': 658,\n",
       " 'about': 659,\n",
       " 'rising': 660,\n",
       " 'cost': 661,\n",
       " 'event': 662,\n",
       " '2008': 663,\n",
       " 'Olympic': 664,\n",
       " 'mascots': 665,\n",
       " 'modeled': 666,\n",
       " 'panda': 667,\n",
       " 'Jing': 668,\n",
       " 'defense': 669,\n",
       " 'personnel': 670,\n",
       " 'crash': 671,\n",
       " 'NATO': 672,\n",
       " 'aircraft': 673,\n",
       " 'Afghanistan': 674,\n",
       " 'supporting': 675,\n",
       " 'mission': 676,\n",
       " 'south': 677,\n",
       " 'indication': 678,\n",
       " 'enemy': 679,\n",
       " 'action': 680,\n",
       " 'causing': 681,\n",
       " 'Sivaram': 682,\n",
       " 'Web': 683,\n",
       " 'became': 684,\n",
       " 'ongoing': 685,\n",
       " 'Sri': 686,\n",
       " 'Lankan': 687,\n",
       " 'civil': 688,\n",
       " 'supporter': 689,\n",
       " 'Tamil': 690,\n",
       " 'Tiger': 691,\n",
       " 'movement': 692,\n",
       " 'talks': 693,\n",
       " 'come': 694,\n",
       " 'six-party': 695,\n",
       " 'Korea': 696,\n",
       " 'ambitions': 697,\n",
       " 'resume': 698,\n",
       " 'Saddam': 699,\n",
       " 'Hussein': 700,\n",
       " 'arraigned': 701,\n",
       " 'July': 702,\n",
       " 'base': 703,\n",
       " 'children': 704,\n",
       " 'different': 705,\n",
       " 'In': 706,\n",
       " 'interview': 707,\n",
       " 'government-funded': 708,\n",
       " 'alHurra': 709,\n",
       " 'television': 710,\n",
       " 'station': 711,\n",
       " 'Volcker': 712,\n",
       " 'lot': 713,\n",
       " 'confusion': 714,\n",
       " 'how': 715,\n",
       " 'much': 716,\n",
       " 'money': 717,\n",
       " 'obtained': 718,\n",
       " 'oil-for-food': 719,\n",
       " 'program': 720,\n",
       " 'itself': 721,\n",
       " 'Interior': 722,\n",
       " 'Minister': 723,\n",
       " 'Murat': 724,\n",
       " 'Sutalinov': 725,\n",
       " 'head': 726,\n",
       " 'inmates': 727,\n",
       " 'gave': 728,\n",
       " 'details': 729,\n",
       " 'commercial': 730,\n",
       " 'airplane': 731,\n",
       " 'Western': 732,\n",
       " 'Europe': 733,\n",
       " 'landed': 734,\n",
       " 'first': 735,\n",
       " 'time': 736,\n",
       " 'nearly': 737,\n",
       " '20': 738,\n",
       " 'years': 739,\n",
       " 'passengers': 740,\n",
       " 'French': 741,\n",
       " 'Foreign': 742,\n",
       " 'Anne-Marie': 743,\n",
       " 'Idrac': 744,\n",
       " 'historic': 745,\n",
       " 'day': 746,\n",
       " 'France': 747,\n",
       " 'Etihad': 748,\n",
       " 'Emirates': 749,\n",
       " 'airlines': 750,\n",
       " 'both': 751,\n",
       " 'operating': 752,\n",
       " 'out': 753,\n",
       " 'started': 754,\n",
       " 'flying': 755,\n",
       " 'Labor': 756,\n",
       " 'Department': 757,\n",
       " 'issued': 758,\n",
       " 'unemployment': 759,\n",
       " 'rate': 760,\n",
       " 'increased': 761,\n",
       " 'three': 762,\n",
       " 'months': 763,\n",
       " '-': 764,\n",
       " '4.6': 765,\n",
       " 'percent': 766,\n",
       " 'Earlier': 767,\n",
       " 'bank': 768,\n",
       " 'decided': 769,\n",
       " 'maintain': 770,\n",
       " 'key': 771,\n",
       " 'interest': 772,\n",
       " 'despite': 773,\n",
       " 'inflation': 774,\n",
       " 'criticism': 775,\n",
       " 'runs': 776,\n",
       " 'counter': 777,\n",
       " 'development': 778,\n",
       " 'U.S': 779,\n",
       " 'relations': 780,\n",
       " 'pardons': 781,\n",
       " 'convicted': 782,\n",
       " 'criminals': 783,\n",
       " 'commuted': 784,\n",
       " 'sentences': 785,\n",
       " 'others': 786,\n",
       " 'Pardons': 787,\n",
       " 'absolute': 788,\n",
       " 'powers': 789,\n",
       " 'recent': 790,\n",
       " 'become': 791,\n",
       " 'typical': 792,\n",
       " 'issue': 793,\n",
       " 'prepares': 794,\n",
       " 'White': 795,\n",
       " 'House': 796,\n",
       " 'made': 797,\n",
       " 'pardon': 798,\n",
       " 'decisions': 799,\n",
       " 'case-by-case': 800,\n",
       " 'basis': 801,\n",
       " 'continue': 802,\n",
       " 'review': 803,\n",
       " 'clemency': 804,\n",
       " 'requests': 805,\n",
       " 'Uganda': 806,\n",
       " 'rebels': 807,\n",
       " 'Lord': 808,\n",
       " 'Resistance': 809,\n",
       " 'Army': 810,\n",
       " 'nearing': 811,\n",
       " 'end': 812,\n",
       " 'Swiss': 813,\n",
       " 'star': 814,\n",
       " 'upset': 815,\n",
       " 'Tommy': 816,\n",
       " 'Haas': 817,\n",
       " 'opening': 818,\n",
       " 'match': 819,\n",
       " 'Kooyong': 820,\n",
       " 'Classic': 821,\n",
       " 'Melbourne': 822,\n",
       " 'Germany': 823,\n",
       " 'information': 824,\n",
       " 'taken': 825,\n",
       " 'Huygens': 826,\n",
       " 'space': 827,\n",
       " 'probe': 828,\n",
       " 'looks': 829,\n",
       " 'like': 830,\n",
       " 'drainage': 831,\n",
       " 'channels': 832,\n",
       " 'moon': 833,\n",
       " 'detained': 834,\n",
       " 'Dr.': 835,\n",
       " 'Besigye': 836,\n",
       " 'November': 837,\n",
       " 'self-imposed': 838,\n",
       " 'exile': 839,\n",
       " 'run': 840,\n",
       " 'Yoweri': 841,\n",
       " 'Museveni': 842,\n",
       " 'presidential': 843,\n",
       " 'election': 844,\n",
       " 'denied': 845,\n",
       " 'charges': 846,\n",
       " 'which': 847,\n",
       " 'trumped': 848,\n",
       " 'keep': 849,\n",
       " 'him': 850,\n",
       " 'running': 851,\n",
       " 'Barack': 852,\n",
       " 'Obama': 853,\n",
       " 'improvements': 854,\n",
       " 'care': 855,\n",
       " 'system': 856,\n",
       " 'inevitable': 857,\n",
       " 'Bank': 858,\n",
       " 'member': 859,\n",
       " 'nations': 860,\n",
       " 'Washington': 861,\n",
       " 'approved': 862,\n",
       " 'debt': 863,\n",
       " 'relief': 864,\n",
       " '17': 865,\n",
       " 'Latin': 866,\n",
       " 'total': 867,\n",
       " '$': 868,\n",
       " '37': 869,\n",
       " 'billion': 870,\n",
       " 'Government': 871,\n",
       " 'declared': 872,\n",
       " 'holiday': 873,\n",
       " 'Iranian': 874,\n",
       " 'many': 875,\n",
       " 'domestic': 876,\n",
       " 'airline': 877,\n",
       " 'flights': 878,\n",
       " 'canceled': 879,\n",
       " 'Medical': 880,\n",
       " 'advising': 881,\n",
       " 'respiratory': 882,\n",
       " 'stay': 883,\n",
       " 'inside': 884,\n",
       " 'dust': 885,\n",
       " 'blown': 886,\n",
       " 'Saudi': 887,\n",
       " 'Arabia': 888,\n",
       " 'where': 889,\n",
       " 'severe': 890,\n",
       " 'sandstorm': 891,\n",
       " 'blanketed': 892,\n",
       " 'capital': 893,\n",
       " 'released': 894,\n",
       " 'Mahmoud': 895,\n",
       " 'Abbas': 896,\n",
       " 'Ramallah': 897,\n",
       " 'vowed': 898,\n",
       " 'track': 899,\n",
       " 'down': 900,\n",
       " 'punish': 901,\n",
       " 'those': 902,\n",
       " 'responsible': 903,\n",
       " 'sabotage': 904,\n",
       " 'Prosecutors': 905,\n",
       " 'Rachid': 906,\n",
       " 'Ramda': 907,\n",
       " 'helped': 908,\n",
       " 'fund': 909,\n",
       " 'Paris': 910,\n",
       " 'metro': 911,\n",
       " 'operated': 912,\n",
       " 'investigators': 913,\n",
       " 'evidence': 914,\n",
       " 'terrorists': 915,\n",
       " 'accused': 916,\n",
       " 'helping': 917,\n",
       " 'Algerian': 918,\n",
       " 'militant': 919,\n",
       " 'organization': 920,\n",
       " 'Armed': 921,\n",
       " 'Group': 922,\n",
       " 'Sudanese': 923,\n",
       " 'refugees': 924,\n",
       " 'begun': 925,\n",
       " 'returning': 926,\n",
       " 'Central': 927,\n",
       " 'Republic': 928,\n",
       " 'U.N.': 929,\n",
       " 'refugee': 930,\n",
       " 'group': 931,\n",
       " 'scheduled': 932,\n",
       " 'fly': 933,\n",
       " 'home': 934,\n",
       " 'Thursday': 935,\n",
       " 'agreements': 936,\n",
       " 'allow': 937,\n",
       " 'return': 938,\n",
       " '13,000': 939,\n",
       " 'living': 940,\n",
       " 'Democratic': 941,\n",
       " 'Congo': 942,\n",
       " '7,000': 943,\n",
       " 'Congolese': 944,\n",
       " 'currently': 945,\n",
       " 'Sudan': 946,\n",
       " 'Yu': 947,\n",
       " 'Hagino': 948,\n",
       " '23': 949,\n",
       " 'murder': 950,\n",
       " 'scene': 951,\n",
       " 'school': 952,\n",
       " 'Uji': 953,\n",
       " 'suspect': 954,\n",
       " 'confessed': 955,\n",
       " 'stabbing': 956,\n",
       " 'knife': 957,\n",
       " 'arguing': 958,\n",
       " 'her': 959,\n",
       " 'Bakri': 960,\n",
       " 'triggered': 961,\n",
       " 'outrage': 962,\n",
       " '7': 963,\n",
       " 'never': 964,\n",
       " 'tip': 965,\n",
       " 'knew': 966,\n",
       " 'carry': 967,\n",
       " 'Admiral': 968,\n",
       " 'Mullen': 969,\n",
       " 'hopes': 970,\n",
       " 'combination': 971,\n",
       " 'sanctions': 972,\n",
       " 'diplomatic': 973,\n",
       " 'efforts': 974,\n",
       " 'resolve': 975,\n",
       " 'dispute': 976,\n",
       " 'Georgia': 977,\n",
       " 'plans': 978,\n",
       " 'get': 979,\n",
       " 'emergency': 980,\n",
       " 'natural': 981,\n",
       " 'gas': 982,\n",
       " 'supplies': 983,\n",
       " 'Iran': 984,\n",
       " 'help': 985,\n",
       " 'shortage': 986,\n",
       " 'electricity': 987,\n",
       " 'Residents': 988,\n",
       " 'former': 989,\n",
       " 'Soviet': 990,\n",
       " 'republic': 991,\n",
       " 'enduring': 992,\n",
       " 'freezing': 993,\n",
       " 'weather': 994,\n",
       " 'limited': 995,\n",
       " 'explosions': 996,\n",
       " 'pipelines': 997,\n",
       " 'delivering': 998,\n",
       " 'Russian': 999,\n",
       " 'Peru': 1000,\n",
       " 'Alberto': 1001,\n",
       " ...}"
      ]
     },
     "execution_count": 104,
     "metadata": {},
     "output_type": "execute_result"
    }
   ],
   "source": [
    "word2id  ## vocabulary"
   ]
  },
  {
   "cell_type": "markdown",
   "metadata": {},
   "source": [
    "### Add '<PAD>' to use when padding and '<UNK>' in the case where there are unknown entities"
   ]
  },
  {
   "cell_type": "code",
   "execution_count": 105,
   "metadata": {},
   "outputs": [],
   "source": [
    "word2id['<PAD>'] = 0\n",
    "word2id['<UNK>'] = 1"
   ]
  },
  {
   "cell_type": "code",
   "execution_count": 106,
   "metadata": {},
   "outputs": [
    {
     "data": {
      "text/plain": [
       "1"
      ]
     },
     "execution_count": 106,
     "metadata": {},
     "output_type": "execute_result"
    }
   ],
   "source": [
    "word2id['<UNK>']"
   ]
  },
  {
   "cell_type": "code",
   "execution_count": 107,
   "metadata": {},
   "outputs": [
    {
     "data": {
      "text/plain": [
       "(0, 1)"
      ]
     },
     "execution_count": 107,
     "metadata": {},
     "output_type": "execute_result"
    }
   ],
   "source": [
    "word2id['<PAD>'], word2id['<UNK>']"
   ]
  },
  {
   "cell_type": "code",
   "execution_count": 92,
   "metadata": {},
   "outputs": [],
   "source": []
  },
  {
   "cell_type": "code",
   "execution_count": 108,
   "metadata": {},
   "outputs": [
    {
     "data": {
      "text/plain": [
       "0"
      ]
     },
     "execution_count": 108,
     "metadata": {},
     "output_type": "execute_result"
    }
   ],
   "source": [
    "fallback = '<UNK>'\n",
    "fallback_id = word2id.get('B-gpe', list(label2id.values())[0])  ## get idea of a word\n",
    "\n",
    "fallback_id"
   ]
  },
  {
   "cell_type": "code",
   "execution_count": 109,
   "metadata": {},
   "outputs": [
    {
     "data": {
      "text/plain": [
       "{'B-geo': 0,\n",
       " 'B-gpe': 1,\n",
       " 'B-org': 2,\n",
       " 'B-per': 3,\n",
       " 'B-tim': 4,\n",
       " 'I-geo': 5,\n",
       " 'I-org': 6,\n",
       " 'I-per': 7,\n",
       " 'I-tim': 8,\n",
       " 'O': 9}"
      ]
     },
     "execution_count": 109,
     "metadata": {},
     "output_type": "execute_result"
    }
   ],
   "source": [
    "label2id"
   ]
  },
  {
   "cell_type": "code",
   "execution_count": 110,
   "metadata": {},
   "outputs": [
    {
     "data": {
      "text/plain": [
       "0"
      ]
     },
     "execution_count": 110,
     "metadata": {},
     "output_type": "execute_result"
    }
   ],
   "source": [
    "pad_token = '<PAD>'\n",
    "pad_id = label2id.get(pad_token, list(label2id.values())[0])  \n",
    "pad_id"
   ]
  },
  {
   "cell_type": "code",
   "execution_count": 111,
   "metadata": {},
   "outputs": [
    {
     "data": {
      "text/plain": [
       "9"
      ]
     },
     "execution_count": 111,
     "metadata": {},
     "output_type": "execute_result"
    }
   ],
   "source": [
    "fallback_id = label2id.get('O', list(label2id.values())[0])\n",
    "fallback_id"
   ]
  },
  {
   "cell_type": "code",
   "execution_count": 112,
   "metadata": {},
   "outputs": [],
   "source": [
    "MAX_LEN = 40\n",
    "\n",
    "# encoding X: \n",
    "# Post padding\n",
    "# Padding and Truncation\n",
    "def encode(tokens, vocab, pad_len=MAX_LEN, fallback='<UNK>', pad_token='<PAD>'):\n",
    "    fallback_id = vocab.get(fallback, list(vocab.values())[0])  # fallback to 0 if not found (1)\n",
    "    pad_id = vocab.get(pad_token, list(vocab.values())[0])    # fallback to 0 if not found (0)\n",
    "    ids = [vocab.get(tok, fallback_id) for tok in tokens]\n",
    "    return ids[:pad_len] + [pad_id] * max(0, pad_len - len(ids))\n"
   ]
  },
  {
   "cell_type": "code",
   "execution_count": 113,
   "metadata": {},
   "outputs": [],
   "source": [
    "X = np.array([encode(tokens, word2id, fallback='<UNK>', pad_token='<PAD>') for tokens in train_df['tokens']])\n",
    "y = np.array([encode(labels, label2id, fallback='O', pad_token='O') for labels in train_df['label_list']])\n",
    "vocab_size = len(word2id)\n",
    "label_size = len(label2id)\n"
   ]
  },
  {
   "cell_type": "code",
   "execution_count": 114,
   "metadata": {},
   "outputs": [
    {
     "name": "stdout",
     "output_type": "stream",
     "text": [
      "Sentence : ['The', 'visit', 'by', 'Assistant', 'Secretary', 'of', 'State', 'for', 'African', 'Affairs', 'Connie', 'Newman', 'and', 'special', 'envoy', 'for', 'Sudan', 'Roger', 'Winter', 'follows', 'two', 'days', 'of', 'riots', 'in', 'response', 'to', 'news', 'of', 'the', 'death', 'of', 'Mr.', 'Garang', ',', 'the', 'former', 'rebel', 'leader', 'who', 'became', 'Sudan', \"'s\", 'vice', 'president', 'as', 'part', 'of', 'a', 'peace', 'deal', '.'] with length 52\n",
      " encoded sentence : [39, 1111, 63, 3587, 3588, 3, 632, 80, 314, 2510, 3589, 3590, 23, 2277, 3591, 80, 946, 2114, 3592, 3593, 373, 1692, 3, 3594, 6, 1896, 110, 638, 3, 7, 402, 3, 306, 2764, 177, 7, 989, 321, 1095, 11] with length 40\n",
      "\n",
      "Label : ['O', 'O', 'O', 'O', 'O', 'O', 'B-org', 'I-org', 'I-org', 'I-org', 'I-org', 'I-org', 'O', 'O', 'O', 'O', 'B-gpe', 'B-per', 'I-per', 'O', 'O', 'O', 'O', 'O', 'O', 'O', 'O', 'O', 'O', 'O', 'O', 'O', 'B-per', 'I-per', 'O', 'O', 'O', 'O', 'O', 'O', 'O', 'B-gpe', 'O', 'O', 'O', 'O', 'O', 'O', 'O', 'O', 'O', 'O'] with length 52\n",
      " encoded label : [9, 9, 9, 9, 9, 9, 2, 6, 6, 6, 6, 6, 9, 9, 9, 9, 1, 3, 7, 9, 9, 9, 9, 9, 9, 9, 9, 9, 9, 9, 9, 9, 3, 7, 9, 9, 9, 9, 9, 9] with length 40\n"
     ]
    }
   ],
   "source": [
    "## Example:\n",
    "sentence = train_df['tokens'][600]\n",
    "label    = train_df['label_list'][600]\n",
    "encoded_sentence = encode(sentence,word2id,fallback= '<UNK>', pad_token = '<PAD>')\n",
    "encoded_label  = encode(label, label2id, fallback = 'O', pad_token = 'O')\n",
    "print(f\"Sentence : {sentence} with length {len(sentence)}\\n\",\n",
    "       f\"encoded sentence : {encoded_sentence} with length {len(encoded_sentence)}\\n\")\n",
    "\n",
    "print(f\"Label : {label} with length {len(label)}\\n\",\n",
    "       f\"encoded label : {encoded_label} with length {len(encoded_label)}\")"
   ]
  },
  {
   "cell_type": "code",
   "execution_count": 115,
   "metadata": {},
   "outputs": [
    {
     "data": {
      "text/plain": [
       "['The',\n",
       " 'visit',\n",
       " 'by',\n",
       " 'Assistant',\n",
       " 'Secretary',\n",
       " 'of',\n",
       " 'State',\n",
       " 'for',\n",
       " 'African',\n",
       " 'Affairs',\n",
       " 'Connie',\n",
       " 'Newman',\n",
       " 'and',\n",
       " 'special',\n",
       " 'envoy',\n",
       " 'for',\n",
       " 'Sudan',\n",
       " 'Roger',\n",
       " 'Winter',\n",
       " 'follows',\n",
       " 'two',\n",
       " 'days',\n",
       " 'of',\n",
       " 'riots',\n",
       " 'in',\n",
       " 'response',\n",
       " 'to',\n",
       " 'news',\n",
       " 'of',\n",
       " 'the',\n",
       " 'death',\n",
       " 'of',\n",
       " 'Mr.',\n",
       " 'Garang',\n",
       " ',',\n",
       " 'the',\n",
       " 'former',\n",
       " 'rebel',\n",
       " 'leader',\n",
       " 'who']"
      ]
     },
     "execution_count": 115,
     "metadata": {},
     "output_type": "execute_result"
    }
   ],
   "source": [
    "\n",
    "id2word = {v:k for k,v in word2id.items()}\n",
    "# Decode the sentence\n",
    "decoded_sentence = [id2word.get(word_id, '<UNK>') for word_id in encoded_sentence]\n",
    "decoded_sentence"
   ]
  },
  {
   "cell_type": "code",
   "execution_count": 116,
   "metadata": {},
   "outputs": [
    {
     "data": {
      "text/plain": [
       "['The',\n",
       " 'visit',\n",
       " 'by',\n",
       " 'Assistant',\n",
       " 'Secretary',\n",
       " 'of',\n",
       " 'B-org',\n",
       " 'I-org',\n",
       " 'I-org',\n",
       " 'I-org',\n",
       " 'I-org',\n",
       " 'I-org',\n",
       " 'and',\n",
       " 'special',\n",
       " 'envoy',\n",
       " 'for',\n",
       " 'B-gpe',\n",
       " 'B-per',\n",
       " 'I-per',\n",
       " 'follows',\n",
       " 'two',\n",
       " 'days',\n",
       " 'of',\n",
       " 'riots',\n",
       " 'in',\n",
       " 'response',\n",
       " 'to',\n",
       " 'news',\n",
       " 'of',\n",
       " 'the',\n",
       " 'death',\n",
       " 'of',\n",
       " 'B-per',\n",
       " 'I-per',\n",
       " ',',\n",
       " 'the',\n",
       " 'former',\n",
       " 'rebel',\n",
       " 'leader',\n",
       " 'who',\n",
       " 'became',\n",
       " 'B-gpe',\n",
       " \"'s\",\n",
       " 'vice',\n",
       " 'president',\n",
       " 'as',\n",
       " 'part',\n",
       " 'of',\n",
       " 'a',\n",
       " 'peace',\n",
       " 'deal',\n",
       " '.']"
      ]
     },
     "execution_count": 116,
     "metadata": {},
     "output_type": "execute_result"
    }
   ],
   "source": [
    "## Convert to sentence with masked entity\n",
    "sentence_masked = []\n",
    "for index, lab in enumerate(label):\n",
    "    if lab == 'O':\n",
    "        sentence_masked.append(sentence[index])\n",
    "    else:\n",
    "        sentence_masked.append(label[index])\n",
    "sentence_masked       "
   ]
  },
  {
   "cell_type": "code",
   "execution_count": 117,
   "metadata": {},
   "outputs": [
    {
     "name": "stdout",
     "output_type": "stream",
     "text": [
      "X shape: (34279, 40), y shape: (34279, 40)\n"
     ]
    }
   ],
   "source": [
    "print(f\"X shape: {X.shape}, y shape: {y.shape}\")"
   ]
  },
  {
   "cell_type": "code",
   "execution_count": 118,
   "metadata": {},
   "outputs": [
    {
     "data": {
      "text/plain": [
       "(30523, 10)"
      ]
     },
     "execution_count": 118,
     "metadata": {},
     "output_type": "execute_result"
    }
   ],
   "source": [
    "vocab_size,label_size"
   ]
  },
  {
   "cell_type": "code",
   "execution_count": 119,
   "metadata": {},
   "outputs": [
    {
     "data": {
      "text/html": [
       "<div>\n",
       "<style scoped>\n",
       "    .dataframe tbody tr th:only-of-type {\n",
       "        vertical-align: middle;\n",
       "    }\n",
       "\n",
       "    .dataframe tbody tr th {\n",
       "        vertical-align: top;\n",
       "    }\n",
       "\n",
       "    .dataframe thead th {\n",
       "        text-align: right;\n",
       "    }\n",
       "</style>\n",
       "<table border=\"1\" class=\"dataframe\">\n",
       "  <thead>\n",
       "    <tr style=\"text-align: right;\">\n",
       "      <th></th>\n",
       "      <th>sentence</th>\n",
       "      <th>labels</th>\n",
       "    </tr>\n",
       "  </thead>\n",
       "  <tbody>\n",
       "    <tr>\n",
       "      <th>0</th>\n",
       "      <td>They marched from the Houses of Parliament to ...</td>\n",
       "      <td>O,O,O,O,O,O,O,O,O,O,O,B-geo,I-geo,O</td>\n",
       "    </tr>\n",
       "    <tr>\n",
       "      <th>1</th>\n",
       "      <td>The International Atomic Energy Agency is to h...</td>\n",
       "      <td>O,B-org,I-org,I-org,I-org,O,O,O,O,O,O,O,O,B-ge...</td>\n",
       "    </tr>\n",
       "    <tr>\n",
       "      <th>2</th>\n",
       "      <td>The European Union , with U.S. backing , has t...</td>\n",
       "      <td>O,B-org,I-org,O,O,B-gpe,O,O,O,O,O,O,B-gpe,O,O,...</td>\n",
       "    </tr>\n",
       "    <tr>\n",
       "      <th>3</th>\n",
       "      <td>Militant groups frequently attack oil operatio...</td>\n",
       "      <td>O,O,O,O,O,O,O,O,B-geo,I-geo,O,O,O,O,O,O,O,O,O,...</td>\n",
       "    </tr>\n",
       "    <tr>\n",
       "      <th>4</th>\n",
       "      <td>The attacks occurred after the government said...</td>\n",
       "      <td>O,O,O,O,O,O,O,O,O,O,O,O,O,O,O,O,O,O,O,O,B-gpe,...</td>\n",
       "    </tr>\n",
       "    <tr>\n",
       "      <th>...</th>\n",
       "      <td>...</td>\n",
       "      <td>...</td>\n",
       "    </tr>\n",
       "    <tr>\n",
       "      <th>3803</th>\n",
       "      <td>Aircraft also struck a building allegedly used...</td>\n",
       "      <td>B-org,O,O,O,O,O,O,O,O,O,O,O,O</td>\n",
       "    </tr>\n",
       "    <tr>\n",
       "      <th>3804</th>\n",
       "      <td>One Hamas militant was reported killed and two...</td>\n",
       "      <td>O,B-org,O,O,O,O,O,O,O,O,O,O</td>\n",
       "    </tr>\n",
       "    <tr>\n",
       "      <th>3805</th>\n",
       "      <td>Media reports say Ford will cut 25,000 or more...</td>\n",
       "      <td>O,O,O,B-org,O,O,O,O,O,O,O,O,O,B-tim,I-tim,I-ti...</td>\n",
       "    </tr>\n",
       "    <tr>\n",
       "      <th>3806</th>\n",
       "      <td>The powerful Muslim Brotherhood Movement based...</td>\n",
       "      <td>O,O,B-org,I-org,I-org,O,O,O,O,O,O,O,O,O,O,O,O,...</td>\n",
       "    </tr>\n",
       "    <tr>\n",
       "      <th>3807</th>\n",
       "      <td>The United Nations and African Union are in th...</td>\n",
       "      <td>O,B-org,I-org,I-org,I-org,I-org,O,O,O,O,O,O,O,...</td>\n",
       "    </tr>\n",
       "  </tbody>\n",
       "</table>\n",
       "<p>3808 rows × 2 columns</p>\n",
       "</div>"
      ],
      "text/plain": [
       "                                               sentence  \\\n",
       "0     They marched from the Houses of Parliament to ...   \n",
       "1     The International Atomic Energy Agency is to h...   \n",
       "2     The European Union , with U.S. backing , has t...   \n",
       "3     Militant groups frequently attack oil operatio...   \n",
       "4     The attacks occurred after the government said...   \n",
       "...                                                 ...   \n",
       "3803  Aircraft also struck a building allegedly used...   \n",
       "3804  One Hamas militant was reported killed and two...   \n",
       "3805  Media reports say Ford will cut 25,000 or more...   \n",
       "3806  The powerful Muslim Brotherhood Movement based...   \n",
       "3807  The United Nations and African Union are in th...   \n",
       "\n",
       "                                                 labels  \n",
       "0                   O,O,O,O,O,O,O,O,O,O,O,B-geo,I-geo,O  \n",
       "1     O,B-org,I-org,I-org,I-org,O,O,O,O,O,O,O,O,B-ge...  \n",
       "2     O,B-org,I-org,O,O,B-gpe,O,O,O,O,O,O,B-gpe,O,O,...  \n",
       "3     O,O,O,O,O,O,O,O,B-geo,I-geo,O,O,O,O,O,O,O,O,O,...  \n",
       "4     O,O,O,O,O,O,O,O,O,O,O,O,O,O,O,O,O,O,O,O,B-gpe,...  \n",
       "...                                                 ...  \n",
       "3803                      B-org,O,O,O,O,O,O,O,O,O,O,O,O  \n",
       "3804                        O,B-org,O,O,O,O,O,O,O,O,O,O  \n",
       "3805  O,O,O,B-org,O,O,O,O,O,O,O,O,O,B-tim,I-tim,I-ti...  \n",
       "3806  O,O,B-org,I-org,I-org,O,O,O,O,O,O,O,O,O,O,O,O,...  \n",
       "3807  O,B-org,I-org,I-org,I-org,I-org,O,O,O,O,O,O,O,...  \n",
       "\n",
       "[3808 rows x 2 columns]"
      ]
     },
     "execution_count": 119,
     "metadata": {},
     "output_type": "execute_result"
    }
   ],
   "source": [
    "valid_df"
   ]
  },
  {
   "cell_type": "code",
   "execution_count": 120,
   "metadata": {},
   "outputs": [],
   "source": [
    "# Tokenize sentences and split labels\n",
    "for df in [valid_df, test_df]:\n",
    "    df['tokens'] = df['sentence'].apply(lambda x: x.strip().split())\n",
    "    df['label_list'] = df['labels'].apply(lambda x: x.strip().split(','))\n",
    "X_valid = np.array([\n",
    "    encode(tokens, word2id, fallback='<UNK>', pad_token='<PAD>')\n",
    "    for tokens in valid_df['tokens']\n",
    "])\n",
    "\n",
    "y_valid = np.array([\n",
    "    encode(labels, label2id, fallback='O', pad_token='O')\n",
    "    for labels in valid_df['label_list']\n",
    "])\n",
    "\n",
    "\n",
    "X_test = np.array([\n",
    "    encode(tokens, word2id, fallback='<UNK>', pad_token='<PAD>')\n",
    "    for tokens in test_df['tokens']\n",
    "])\n",
    "y_test = np.array([\n",
    "    encode(labels, label2id, fallback='O', pad_token='O')\n",
    "    for labels in test_df['label_list']\n",
    "])\n"
   ]
  },
  {
   "cell_type": "code",
   "execution_count": 121,
   "metadata": {},
   "outputs": [
    {
     "name": "stdout",
     "output_type": "stream",
     "text": [
      "Shape of Training Data (X, y): (34279, 40), (34279, 40)\n",
      "Shape of Validation Data (X_valid, y_valid): (3808, 40), (3808, 40)\n",
      "Shape of Test Data (X_test, y_test): (9520, 40), (9520, 40)\n"
     ]
    }
   ],
   "source": [
    "print(f\"Shape of Training Data (X, y): {X.shape}, {y.shape}\")\n",
    "print(f\"Shape of Validation Data (X_valid, y_valid): {X_valid.shape}, {y_valid.shape}\")\n",
    "print(f\"Shape of Test Data (X_test, y_test): {X_test.shape}, {y_test.shape}\")"
   ]
  },
  {
   "cell_type": "code",
   "execution_count": 122,
   "metadata": {},
   "outputs": [],
   "source": [
    "\n",
    "import numpy as np\n",
    "from tensorflow.keras.models import Sequential\n",
    "from tensorflow.keras.layers import Dense, Activation, SimpleRNN, Input\n",
    "from tensorflow.keras.utils import to_categorical, plot_model\n",
    "from tensorflow.keras.datasets import mnist\n",
    "from tensorflow.keras.models import Model\n"
   ]
  },
  {
   "cell_type": "code",
   "execution_count": 123,
   "metadata": {},
   "outputs": [],
   "source": [
    "# [\n",
    "#     Embedding(input_dim=vocab_size, output_dim=64, input_length=MAX_LEN),\n",
    "#     Bidirectional(LSTM(units=64, return_sequences=True)),\n",
    "#     TimeDistributed(Dense(label_size, activation='softmax'))\n",
    "# ]\n",
    "input = Input(shape = (MAX_LEN,))\n",
    "x = Embedding(input_dim= vocab_size,output_dim = 64)(input)\n",
    "x = Bidirectional(LSTM(128, return_sequences=True,dropout =0.2, recurrent_dropout=0.2))(x)\n",
    "x = TimeDistributed(Dense(64, activation='relu'))(x)\n",
    "x = TimeDistributed(Dense(label_size, activation='softmax'))(x)\n",
    "\n",
    "model = Model(inputs= input,outputs=x)\n"
   ]
  },
  {
   "cell_type": "code",
   "execution_count": 124,
   "metadata": {},
   "outputs": [
    {
     "data": {
      "text/html": [
       "<pre style=\"white-space:pre;overflow-x:auto;line-height:normal;font-family:Menlo,'DejaVu Sans Mono',consolas,'Courier New',monospace\"><span style=\"font-weight: bold\">Model: \"functional\"</span>\n",
       "</pre>\n"
      ],
      "text/plain": [
       "\u001b[1mModel: \"functional\"\u001b[0m\n"
      ]
     },
     "metadata": {},
     "output_type": "display_data"
    },
    {
     "data": {
      "text/html": [
       "<pre style=\"white-space:pre;overflow-x:auto;line-height:normal;font-family:Menlo,'DejaVu Sans Mono',consolas,'Courier New',monospace\">┏━━━━━━━━━━━━━━━━━━━━━━━━━━━━━━━━━┳━━━━━━━━━━━━━━━━━━━━━━━━┳━━━━━━━━━━━━━━━┓\n",
       "┃<span style=\"font-weight: bold\"> Layer (type)                    </span>┃<span style=\"font-weight: bold\"> Output Shape           </span>┃<span style=\"font-weight: bold\">       Param # </span>┃\n",
       "┡━━━━━━━━━━━━━━━━━━━━━━━━━━━━━━━━━╇━━━━━━━━━━━━━━━━━━━━━━━━╇━━━━━━━━━━━━━━━┩\n",
       "│ input_layer (<span style=\"color: #0087ff; text-decoration-color: #0087ff\">InputLayer</span>)        │ (<span style=\"color: #00d7ff; text-decoration-color: #00d7ff\">None</span>, <span style=\"color: #00af00; text-decoration-color: #00af00\">40</span>)             │             <span style=\"color: #00af00; text-decoration-color: #00af00\">0</span> │\n",
       "├─────────────────────────────────┼────────────────────────┼───────────────┤\n",
       "│ embedding (<span style=\"color: #0087ff; text-decoration-color: #0087ff\">Embedding</span>)           │ (<span style=\"color: #00d7ff; text-decoration-color: #00d7ff\">None</span>, <span style=\"color: #00af00; text-decoration-color: #00af00\">40</span>, <span style=\"color: #00af00; text-decoration-color: #00af00\">64</span>)         │     <span style=\"color: #00af00; text-decoration-color: #00af00\">1,953,472</span> │\n",
       "├─────────────────────────────────┼────────────────────────┼───────────────┤\n",
       "│ bidirectional (<span style=\"color: #0087ff; text-decoration-color: #0087ff\">Bidirectional</span>)   │ (<span style=\"color: #00d7ff; text-decoration-color: #00d7ff\">None</span>, <span style=\"color: #00af00; text-decoration-color: #00af00\">40</span>, <span style=\"color: #00af00; text-decoration-color: #00af00\">256</span>)        │       <span style=\"color: #00af00; text-decoration-color: #00af00\">197,632</span> │\n",
       "├─────────────────────────────────┼────────────────────────┼───────────────┤\n",
       "│ time_distributed                │ (<span style=\"color: #00d7ff; text-decoration-color: #00d7ff\">None</span>, <span style=\"color: #00af00; text-decoration-color: #00af00\">40</span>, <span style=\"color: #00af00; text-decoration-color: #00af00\">64</span>)         │        <span style=\"color: #00af00; text-decoration-color: #00af00\">16,448</span> │\n",
       "│ (<span style=\"color: #0087ff; text-decoration-color: #0087ff\">TimeDistributed</span>)               │                        │               │\n",
       "├─────────────────────────────────┼────────────────────────┼───────────────┤\n",
       "│ time_distributed_1              │ (<span style=\"color: #00d7ff; text-decoration-color: #00d7ff\">None</span>, <span style=\"color: #00af00; text-decoration-color: #00af00\">40</span>, <span style=\"color: #00af00; text-decoration-color: #00af00\">10</span>)         │           <span style=\"color: #00af00; text-decoration-color: #00af00\">650</span> │\n",
       "│ (<span style=\"color: #0087ff; text-decoration-color: #0087ff\">TimeDistributed</span>)               │                        │               │\n",
       "└─────────────────────────────────┴────────────────────────┴───────────────┘\n",
       "</pre>\n"
      ],
      "text/plain": [
       "┏━━━━━━━━━━━━━━━━━━━━━━━━━━━━━━━━━┳━━━━━━━━━━━━━━━━━━━━━━━━┳━━━━━━━━━━━━━━━┓\n",
       "┃\u001b[1m \u001b[0m\u001b[1mLayer (type)                   \u001b[0m\u001b[1m \u001b[0m┃\u001b[1m \u001b[0m\u001b[1mOutput Shape          \u001b[0m\u001b[1m \u001b[0m┃\u001b[1m \u001b[0m\u001b[1m      Param #\u001b[0m\u001b[1m \u001b[0m┃\n",
       "┡━━━━━━━━━━━━━━━━━━━━━━━━━━━━━━━━━╇━━━━━━━━━━━━━━━━━━━━━━━━╇━━━━━━━━━━━━━━━┩\n",
       "│ input_layer (\u001b[38;5;33mInputLayer\u001b[0m)        │ (\u001b[38;5;45mNone\u001b[0m, \u001b[38;5;34m40\u001b[0m)             │             \u001b[38;5;34m0\u001b[0m │\n",
       "├─────────────────────────────────┼────────────────────────┼───────────────┤\n",
       "│ embedding (\u001b[38;5;33mEmbedding\u001b[0m)           │ (\u001b[38;5;45mNone\u001b[0m, \u001b[38;5;34m40\u001b[0m, \u001b[38;5;34m64\u001b[0m)         │     \u001b[38;5;34m1,953,472\u001b[0m │\n",
       "├─────────────────────────────────┼────────────────────────┼───────────────┤\n",
       "│ bidirectional (\u001b[38;5;33mBidirectional\u001b[0m)   │ (\u001b[38;5;45mNone\u001b[0m, \u001b[38;5;34m40\u001b[0m, \u001b[38;5;34m256\u001b[0m)        │       \u001b[38;5;34m197,632\u001b[0m │\n",
       "├─────────────────────────────────┼────────────────────────┼───────────────┤\n",
       "│ time_distributed                │ (\u001b[38;5;45mNone\u001b[0m, \u001b[38;5;34m40\u001b[0m, \u001b[38;5;34m64\u001b[0m)         │        \u001b[38;5;34m16,448\u001b[0m │\n",
       "│ (\u001b[38;5;33mTimeDistributed\u001b[0m)               │                        │               │\n",
       "├─────────────────────────────────┼────────────────────────┼───────────────┤\n",
       "│ time_distributed_1              │ (\u001b[38;5;45mNone\u001b[0m, \u001b[38;5;34m40\u001b[0m, \u001b[38;5;34m10\u001b[0m)         │           \u001b[38;5;34m650\u001b[0m │\n",
       "│ (\u001b[38;5;33mTimeDistributed\u001b[0m)               │                        │               │\n",
       "└─────────────────────────────────┴────────────────────────┴───────────────┘\n"
      ]
     },
     "metadata": {},
     "output_type": "display_data"
    },
    {
     "data": {
      "text/html": [
       "<pre style=\"white-space:pre;overflow-x:auto;line-height:normal;font-family:Menlo,'DejaVu Sans Mono',consolas,'Courier New',monospace\"><span style=\"font-weight: bold\"> Total params: </span><span style=\"color: #00af00; text-decoration-color: #00af00\">2,168,202</span> (8.27 MB)\n",
       "</pre>\n"
      ],
      "text/plain": [
       "\u001b[1m Total params: \u001b[0m\u001b[38;5;34m2,168,202\u001b[0m (8.27 MB)\n"
      ]
     },
     "metadata": {},
     "output_type": "display_data"
    },
    {
     "data": {
      "text/html": [
       "<pre style=\"white-space:pre;overflow-x:auto;line-height:normal;font-family:Menlo,'DejaVu Sans Mono',consolas,'Courier New',monospace\"><span style=\"font-weight: bold\"> Trainable params: </span><span style=\"color: #00af00; text-decoration-color: #00af00\">2,168,202</span> (8.27 MB)\n",
       "</pre>\n"
      ],
      "text/plain": [
       "\u001b[1m Trainable params: \u001b[0m\u001b[38;5;34m2,168,202\u001b[0m (8.27 MB)\n"
      ]
     },
     "metadata": {},
     "output_type": "display_data"
    },
    {
     "data": {
      "text/html": [
       "<pre style=\"white-space:pre;overflow-x:auto;line-height:normal;font-family:Menlo,'DejaVu Sans Mono',consolas,'Courier New',monospace\"><span style=\"font-weight: bold\"> Non-trainable params: </span><span style=\"color: #00af00; text-decoration-color: #00af00\">0</span> (0.00 B)\n",
       "</pre>\n"
      ],
      "text/plain": [
       "\u001b[1m Non-trainable params: \u001b[0m\u001b[38;5;34m0\u001b[0m (0.00 B)\n"
      ]
     },
     "metadata": {},
     "output_type": "display_data"
    }
   ],
   "source": [
    "model.summary()"
   ]
  },
  {
   "cell_type": "code",
   "execution_count": 125,
   "metadata": {},
   "outputs": [
    {
     "data": {
      "image/png": "[encoded data removed]",
      "text/plain": [
       "<IPython.core.display.Image object>"
      ]
     },
     "execution_count": 125,
     "metadata": {},
     "output_type": "execute_result"
    }
   ],
   "source": [
    "plot_model(model, to_file='./models/LSTM_model.png', show_shapes=True, show_layer_names=True)"
   ]
  },
  {
   "cell_type": "markdown",
   "metadata": {},
   "source": [
    "### Loss, Optimizer "
   ]
  },
  {
   "cell_type": "code",
   "execution_count": 126,
   "metadata": {},
   "outputs": [
    {
     "data": {
      "text/plain": [
       "(34279, 40)"
      ]
     },
     "execution_count": 126,
     "metadata": {},
     "output_type": "execute_result"
    }
   ],
   "source": [
    "X.shape\n",
    "y.shape"
   ]
  },
  {
   "cell_type": "code",
   "execution_count": 127,
   "metadata": {},
   "outputs": [
    {
     "name": "stdout",
     "output_type": "stream",
     "text": [
      "Epoch 1/5\n",
      "\u001b[1m 859/1072\u001b[0m \u001b[32m━━━━━━━━━━━━━━━━\u001b[0m\u001b[37m━━━━\u001b[0m \u001b[1m15s\u001b[0m 72ms/step - accuracy: 0.9230 - loss: 0.3683"
     ]
    },
    {
     "ename": "KeyboardInterrupt",
     "evalue": "",
     "output_type": "error",
     "traceback": [
      "\u001b[31m---------------------------------------------------------------------------\u001b[39m",
      "\u001b[31mKeyboardInterrupt\u001b[39m                         Traceback (most recent call last)",
      "\u001b[36mCell\u001b[39m\u001b[36m \u001b[39m\u001b[32mIn[127]\u001b[39m\u001b[32m, line 2\u001b[39m\n\u001b[32m      1\u001b[39m model.compile(loss=\u001b[33m'\u001b[39m\u001b[33msparse_categorical_crossentropy\u001b[39m\u001b[33m'\u001b[39m, optimizer=\u001b[33m'\u001b[39m\u001b[33madam\u001b[39m\u001b[33m'\u001b[39m, metrics=[\u001b[33m'\u001b[39m\u001b[33maccuracy\u001b[39m\u001b[33m'\u001b[39m])\n\u001b[32m----> \u001b[39m\u001b[32m2\u001b[39m \u001b[43mmodel\u001b[49m\u001b[43m.\u001b[49m\u001b[43mfit\u001b[49m\u001b[43m(\u001b[49m\u001b[43mX\u001b[49m\u001b[43m,\u001b[49m\u001b[43m \u001b[49m\u001b[43my\u001b[49m\u001b[43m,\u001b[49m\u001b[43m \u001b[49m\u001b[43mbatch_size\u001b[49m\u001b[43m=\u001b[49m\u001b[32;43m32\u001b[39;49m\u001b[43m,\u001b[49m\u001b[43m \u001b[49m\u001b[43mepochs\u001b[49m\u001b[43m=\u001b[49m\u001b[32;43m5\u001b[39;49m\u001b[43m,\u001b[49m\u001b[43mvalidation_data\u001b[49m\u001b[43m \u001b[49m\u001b[43m=\u001b[49m\u001b[43m \u001b[49m\u001b[43m(\u001b[49m\u001b[43mX_valid\u001b[49m\u001b[43m,\u001b[49m\u001b[43my_valid\u001b[49m\u001b[43m)\u001b[49m\u001b[43m)\u001b[49m\n",
      "\u001b[36mFile \u001b[39m\u001b[32m~/Documents/Internship 2A/code/venv/lib/python3.11/site-packages/keras/src/utils/traceback_utils.py:117\u001b[39m, in \u001b[36mfilter_traceback.<locals>.error_handler\u001b[39m\u001b[34m(*args, **kwargs)\u001b[39m\n\u001b[32m    115\u001b[39m filtered_tb = \u001b[38;5;28;01mNone\u001b[39;00m\n\u001b[32m    116\u001b[39m \u001b[38;5;28;01mtry\u001b[39;00m:\n\u001b[32m--> \u001b[39m\u001b[32m117\u001b[39m     \u001b[38;5;28;01mreturn\u001b[39;00m \u001b[43mfn\u001b[49m\u001b[43m(\u001b[49m\u001b[43m*\u001b[49m\u001b[43margs\u001b[49m\u001b[43m,\u001b[49m\u001b[43m \u001b[49m\u001b[43m*\u001b[49m\u001b[43m*\u001b[49m\u001b[43mkwargs\u001b[49m\u001b[43m)\u001b[49m\n\u001b[32m    118\u001b[39m \u001b[38;5;28;01mexcept\u001b[39;00m \u001b[38;5;167;01mException\u001b[39;00m \u001b[38;5;28;01mas\u001b[39;00m e:\n\u001b[32m    119\u001b[39m     filtered_tb = _process_traceback_frames(e.__traceback__)\n",
      "\u001b[36mFile \u001b[39m\u001b[32m~/Documents/Internship 2A/code/venv/lib/python3.11/site-packages/keras/src/backend/tensorflow/trainer.py:377\u001b[39m, in \u001b[36mTensorFlowTrainer.fit\u001b[39m\u001b[34m(self, x, y, batch_size, epochs, verbose, callbacks, validation_split, validation_data, shuffle, class_weight, sample_weight, initial_epoch, steps_per_epoch, validation_steps, validation_batch_size, validation_freq)\u001b[39m\n\u001b[32m    375\u001b[39m \u001b[38;5;28;01mfor\u001b[39;00m step, iterator \u001b[38;5;129;01min\u001b[39;00m epoch_iterator:\n\u001b[32m    376\u001b[39m     callbacks.on_train_batch_begin(step)\n\u001b[32m--> \u001b[39m\u001b[32m377\u001b[39m     logs = \u001b[38;5;28;43mself\u001b[39;49m\u001b[43m.\u001b[49m\u001b[43mtrain_function\u001b[49m\u001b[43m(\u001b[49m\u001b[43miterator\u001b[49m\u001b[43m)\u001b[49m\n\u001b[32m    378\u001b[39m     callbacks.on_train_batch_end(step, logs)\n\u001b[32m    379\u001b[39m     \u001b[38;5;28;01mif\u001b[39;00m \u001b[38;5;28mself\u001b[39m.stop_training:\n",
      "\u001b[36mFile \u001b[39m\u001b[32m~/Documents/Internship 2A/code/venv/lib/python3.11/site-packages/keras/src/backend/tensorflow/trainer.py:220\u001b[39m, in \u001b[36mTensorFlowTrainer._make_function.<locals>.function\u001b[39m\u001b[34m(iterator)\u001b[39m\n\u001b[32m    216\u001b[39m \u001b[38;5;28;01mdef\u001b[39;00m\u001b[38;5;250m \u001b[39m\u001b[34mfunction\u001b[39m(iterator):\n\u001b[32m    217\u001b[39m     \u001b[38;5;28;01mif\u001b[39;00m \u001b[38;5;28misinstance\u001b[39m(\n\u001b[32m    218\u001b[39m         iterator, (tf.data.Iterator, tf.distribute.DistributedIterator)\n\u001b[32m    219\u001b[39m     ):\n\u001b[32m--> \u001b[39m\u001b[32m220\u001b[39m         opt_outputs = \u001b[43mmulti_step_on_iterator\u001b[49m\u001b[43m(\u001b[49m\u001b[43miterator\u001b[49m\u001b[43m)\u001b[49m\n\u001b[32m    221\u001b[39m         \u001b[38;5;28;01mif\u001b[39;00m \u001b[38;5;129;01mnot\u001b[39;00m opt_outputs.has_value():\n\u001b[32m    222\u001b[39m             \u001b[38;5;28;01mraise\u001b[39;00m \u001b[38;5;167;01mStopIteration\u001b[39;00m\n",
      "\u001b[36mFile \u001b[39m\u001b[32m~/Documents/Internship 2A/code/venv/lib/python3.11/site-packages/tensorflow/python/util/traceback_utils.py:150\u001b[39m, in \u001b[36mfilter_traceback.<locals>.error_handler\u001b[39m\u001b[34m(*args, **kwargs)\u001b[39m\n\u001b[32m    148\u001b[39m filtered_tb = \u001b[38;5;28;01mNone\u001b[39;00m\n\u001b[32m    149\u001b[39m \u001b[38;5;28;01mtry\u001b[39;00m:\n\u001b[32m--> \u001b[39m\u001b[32m150\u001b[39m   \u001b[38;5;28;01mreturn\u001b[39;00m \u001b[43mfn\u001b[49m\u001b[43m(\u001b[49m\u001b[43m*\u001b[49m\u001b[43margs\u001b[49m\u001b[43m,\u001b[49m\u001b[43m \u001b[49m\u001b[43m*\u001b[49m\u001b[43m*\u001b[49m\u001b[43mkwargs\u001b[49m\u001b[43m)\u001b[49m\n\u001b[32m    151\u001b[39m \u001b[38;5;28;01mexcept\u001b[39;00m \u001b[38;5;167;01mException\u001b[39;00m \u001b[38;5;28;01mas\u001b[39;00m e:\n\u001b[32m    152\u001b[39m   filtered_tb = _process_traceback_frames(e.__traceback__)\n",
      "\u001b[36mFile \u001b[39m\u001b[32m~/Documents/Internship 2A/code/venv/lib/python3.11/site-packages/tensorflow/python/eager/polymorphic_function/polymorphic_function.py:833\u001b[39m, in \u001b[36mFunction.__call__\u001b[39m\u001b[34m(self, *args, **kwds)\u001b[39m\n\u001b[32m    830\u001b[39m compiler = \u001b[33m\"\u001b[39m\u001b[33mxla\u001b[39m\u001b[33m\"\u001b[39m \u001b[38;5;28;01mif\u001b[39;00m \u001b[38;5;28mself\u001b[39m._jit_compile \u001b[38;5;28;01melse\u001b[39;00m \u001b[33m\"\u001b[39m\u001b[33mnonXla\u001b[39m\u001b[33m\"\u001b[39m\n\u001b[32m    832\u001b[39m \u001b[38;5;28;01mwith\u001b[39;00m OptionalXlaContext(\u001b[38;5;28mself\u001b[39m._jit_compile):\n\u001b[32m--> \u001b[39m\u001b[32m833\u001b[39m   result = \u001b[38;5;28;43mself\u001b[39;49m\u001b[43m.\u001b[49m\u001b[43m_call\u001b[49m\u001b[43m(\u001b[49m\u001b[43m*\u001b[49m\u001b[43margs\u001b[49m\u001b[43m,\u001b[49m\u001b[43m \u001b[49m\u001b[43m*\u001b[49m\u001b[43m*\u001b[49m\u001b[43mkwds\u001b[49m\u001b[43m)\u001b[49m\n\u001b[32m    835\u001b[39m new_tracing_count = \u001b[38;5;28mself\u001b[39m.experimental_get_tracing_count()\n\u001b[32m    836\u001b[39m without_tracing = (tracing_count == new_tracing_count)\n",
      "\u001b[36mFile \u001b[39m\u001b[32m~/Documents/Internship 2A/code/venv/lib/python3.11/site-packages/tensorflow/python/eager/polymorphic_function/polymorphic_function.py:878\u001b[39m, in \u001b[36mFunction._call\u001b[39m\u001b[34m(self, *args, **kwds)\u001b[39m\n\u001b[32m    875\u001b[39m \u001b[38;5;28mself\u001b[39m._lock.release()\n\u001b[32m    876\u001b[39m \u001b[38;5;66;03m# In this case we have not created variables on the first call. So we can\u001b[39;00m\n\u001b[32m    877\u001b[39m \u001b[38;5;66;03m# run the first trace but we should fail if variables are created.\u001b[39;00m\n\u001b[32m--> \u001b[39m\u001b[32m878\u001b[39m results = \u001b[43mtracing_compilation\u001b[49m\u001b[43m.\u001b[49m\u001b[43mcall_function\u001b[49m\u001b[43m(\u001b[49m\n\u001b[32m    879\u001b[39m \u001b[43m    \u001b[49m\u001b[43margs\u001b[49m\u001b[43m,\u001b[49m\u001b[43m \u001b[49m\u001b[43mkwds\u001b[49m\u001b[43m,\u001b[49m\u001b[43m \u001b[49m\u001b[38;5;28;43mself\u001b[39;49m\u001b[43m.\u001b[49m\u001b[43m_variable_creation_config\u001b[49m\n\u001b[32m    880\u001b[39m \u001b[43m\u001b[49m\u001b[43m)\u001b[49m\n\u001b[32m    881\u001b[39m \u001b[38;5;28;01mif\u001b[39;00m \u001b[38;5;28mself\u001b[39m._created_variables:\n\u001b[32m    882\u001b[39m   \u001b[38;5;28;01mraise\u001b[39;00m \u001b[38;5;167;01mValueError\u001b[39;00m(\u001b[33m\"\u001b[39m\u001b[33mCreating variables on a non-first call to a function\u001b[39m\u001b[33m\"\u001b[39m\n\u001b[32m    883\u001b[39m                    \u001b[33m\"\u001b[39m\u001b[33m decorated with tf.function.\u001b[39m\u001b[33m\"\u001b[39m)\n",
      "\u001b[36mFile \u001b[39m\u001b[32m~/Documents/Internship 2A/code/venv/lib/python3.11/site-packages/tensorflow/python/eager/polymorphic_function/tracing_compilation.py:139\u001b[39m, in \u001b[36mcall_function\u001b[39m\u001b[34m(args, kwargs, tracing_options)\u001b[39m\n\u001b[32m    137\u001b[39m bound_args = function.function_type.bind(*args, **kwargs)\n\u001b[32m    138\u001b[39m flat_inputs = function.function_type.unpack_inputs(bound_args)\n\u001b[32m--> \u001b[39m\u001b[32m139\u001b[39m \u001b[38;5;28;01mreturn\u001b[39;00m \u001b[43mfunction\u001b[49m\u001b[43m.\u001b[49m\u001b[43m_call_flat\u001b[49m\u001b[43m(\u001b[49m\u001b[43m  \u001b[49m\u001b[38;5;66;43;03m# pylint: disable=protected-access\u001b[39;49;00m\n\u001b[32m    140\u001b[39m \u001b[43m    \u001b[49m\u001b[43mflat_inputs\u001b[49m\u001b[43m,\u001b[49m\u001b[43m \u001b[49m\u001b[43mcaptured_inputs\u001b[49m\u001b[43m=\u001b[49m\u001b[43mfunction\u001b[49m\u001b[43m.\u001b[49m\u001b[43mcaptured_inputs\u001b[49m\n\u001b[32m    141\u001b[39m \u001b[43m\u001b[49m\u001b[43m)\u001b[49m\n",
      "\u001b[36mFile \u001b[39m\u001b[32m~/Documents/Internship 2A/code/venv/lib/python3.11/site-packages/tensorflow/python/eager/polymorphic_function/concrete_function.py:1322\u001b[39m, in \u001b[36mConcreteFunction._call_flat\u001b[39m\u001b[34m(self, tensor_inputs, captured_inputs)\u001b[39m\n\u001b[32m   1318\u001b[39m possible_gradient_type = gradients_util.PossibleTapeGradientTypes(args)\n\u001b[32m   1319\u001b[39m \u001b[38;5;28;01mif\u001b[39;00m (possible_gradient_type == gradients_util.POSSIBLE_GRADIENT_TYPES_NONE\n\u001b[32m   1320\u001b[39m     \u001b[38;5;129;01mand\u001b[39;00m executing_eagerly):\n\u001b[32m   1321\u001b[39m   \u001b[38;5;66;03m# No tape is watching; skip to running the function.\u001b[39;00m\n\u001b[32m-> \u001b[39m\u001b[32m1322\u001b[39m   \u001b[38;5;28;01mreturn\u001b[39;00m \u001b[38;5;28;43mself\u001b[39;49m\u001b[43m.\u001b[49m\u001b[43m_inference_function\u001b[49m\u001b[43m.\u001b[49m\u001b[43mcall_preflattened\u001b[49m\u001b[43m(\u001b[49m\u001b[43margs\u001b[49m\u001b[43m)\u001b[49m\n\u001b[32m   1323\u001b[39m forward_backward = \u001b[38;5;28mself\u001b[39m._select_forward_and_backward_functions(\n\u001b[32m   1324\u001b[39m     args,\n\u001b[32m   1325\u001b[39m     possible_gradient_type,\n\u001b[32m   1326\u001b[39m     executing_eagerly)\n\u001b[32m   1327\u001b[39m forward_function, args_with_tangents = forward_backward.forward()\n",
      "\u001b[36mFile \u001b[39m\u001b[32m~/Documents/Internship 2A/code/venv/lib/python3.11/site-packages/tensorflow/python/eager/polymorphic_function/atomic_function.py:216\u001b[39m, in \u001b[36mAtomicFunction.call_preflattened\u001b[39m\u001b[34m(self, args)\u001b[39m\n\u001b[32m    214\u001b[39m \u001b[38;5;28;01mdef\u001b[39;00m\u001b[38;5;250m \u001b[39m\u001b[34mcall_preflattened\u001b[39m(\u001b[38;5;28mself\u001b[39m, args: Sequence[core.Tensor]) -> Any:\n\u001b[32m    215\u001b[39m \u001b[38;5;250m  \u001b[39m\u001b[33;03m\"\"\"Calls with flattened tensor inputs and returns the structured output.\"\"\"\u001b[39;00m\n\u001b[32m--> \u001b[39m\u001b[32m216\u001b[39m   flat_outputs = \u001b[38;5;28;43mself\u001b[39;49m\u001b[43m.\u001b[49m\u001b[43mcall_flat\u001b[49m\u001b[43m(\u001b[49m\u001b[43m*\u001b[49m\u001b[43margs\u001b[49m\u001b[43m)\u001b[49m\n\u001b[32m    217\u001b[39m   \u001b[38;5;28;01mreturn\u001b[39;00m \u001b[38;5;28mself\u001b[39m.function_type.pack_output(flat_outputs)\n",
      "\u001b[36mFile \u001b[39m\u001b[32m~/Documents/Internship 2A/code/venv/lib/python3.11/site-packages/tensorflow/python/eager/polymorphic_function/atomic_function.py:251\u001b[39m, in \u001b[36mAtomicFunction.call_flat\u001b[39m\u001b[34m(self, *args)\u001b[39m\n\u001b[32m    249\u001b[39m \u001b[38;5;28;01mwith\u001b[39;00m record.stop_recording():\n\u001b[32m    250\u001b[39m   \u001b[38;5;28;01mif\u001b[39;00m \u001b[38;5;28mself\u001b[39m._bound_context.executing_eagerly():\n\u001b[32m--> \u001b[39m\u001b[32m251\u001b[39m     outputs = \u001b[38;5;28;43mself\u001b[39;49m\u001b[43m.\u001b[49m\u001b[43m_bound_context\u001b[49m\u001b[43m.\u001b[49m\u001b[43mcall_function\u001b[49m\u001b[43m(\u001b[49m\n\u001b[32m    252\u001b[39m \u001b[43m        \u001b[49m\u001b[38;5;28;43mself\u001b[39;49m\u001b[43m.\u001b[49m\u001b[43mname\u001b[49m\u001b[43m,\u001b[49m\n\u001b[32m    253\u001b[39m \u001b[43m        \u001b[49m\u001b[38;5;28;43mlist\u001b[39;49m\u001b[43m(\u001b[49m\u001b[43margs\u001b[49m\u001b[43m)\u001b[49m\u001b[43m,\u001b[49m\n\u001b[32m    254\u001b[39m \u001b[43m        \u001b[49m\u001b[38;5;28;43mlen\u001b[39;49m\u001b[43m(\u001b[49m\u001b[38;5;28;43mself\u001b[39;49m\u001b[43m.\u001b[49m\u001b[43mfunction_type\u001b[49m\u001b[43m.\u001b[49m\u001b[43mflat_outputs\u001b[49m\u001b[43m)\u001b[49m\u001b[43m,\u001b[49m\n\u001b[32m    255\u001b[39m \u001b[43m    \u001b[49m\u001b[43m)\u001b[49m\n\u001b[32m    256\u001b[39m   \u001b[38;5;28;01melse\u001b[39;00m:\n\u001b[32m    257\u001b[39m     outputs = make_call_op_in_graph(\n\u001b[32m    258\u001b[39m         \u001b[38;5;28mself\u001b[39m,\n\u001b[32m    259\u001b[39m         \u001b[38;5;28mlist\u001b[39m(args),\n\u001b[32m    260\u001b[39m         \u001b[38;5;28mself\u001b[39m._bound_context.function_call_options.as_attrs(),\n\u001b[32m    261\u001b[39m     )\n",
      "\u001b[36mFile \u001b[39m\u001b[32m~/Documents/Internship 2A/code/venv/lib/python3.11/site-packages/tensorflow/python/eager/context.py:1688\u001b[39m, in \u001b[36mContext.call_function\u001b[39m\u001b[34m(self, name, tensor_inputs, num_outputs)\u001b[39m\n\u001b[32m   1686\u001b[39m cancellation_context = cancellation.context()\n\u001b[32m   1687\u001b[39m \u001b[38;5;28;01mif\u001b[39;00m cancellation_context \u001b[38;5;129;01mis\u001b[39;00m \u001b[38;5;28;01mNone\u001b[39;00m:\n\u001b[32m-> \u001b[39m\u001b[32m1688\u001b[39m   outputs = \u001b[43mexecute\u001b[49m\u001b[43m.\u001b[49m\u001b[43mexecute\u001b[49m\u001b[43m(\u001b[49m\n\u001b[32m   1689\u001b[39m \u001b[43m      \u001b[49m\u001b[43mname\u001b[49m\u001b[43m.\u001b[49m\u001b[43mdecode\u001b[49m\u001b[43m(\u001b[49m\u001b[33;43m\"\u001b[39;49m\u001b[33;43mutf-8\u001b[39;49m\u001b[33;43m\"\u001b[39;49m\u001b[43m)\u001b[49m\u001b[43m,\u001b[49m\n\u001b[32m   1690\u001b[39m \u001b[43m      \u001b[49m\u001b[43mnum_outputs\u001b[49m\u001b[43m=\u001b[49m\u001b[43mnum_outputs\u001b[49m\u001b[43m,\u001b[49m\n\u001b[32m   1691\u001b[39m \u001b[43m      \u001b[49m\u001b[43minputs\u001b[49m\u001b[43m=\u001b[49m\u001b[43mtensor_inputs\u001b[49m\u001b[43m,\u001b[49m\n\u001b[32m   1692\u001b[39m \u001b[43m      \u001b[49m\u001b[43mattrs\u001b[49m\u001b[43m=\u001b[49m\u001b[43mattrs\u001b[49m\u001b[43m,\u001b[49m\n\u001b[32m   1693\u001b[39m \u001b[43m      \u001b[49m\u001b[43mctx\u001b[49m\u001b[43m=\u001b[49m\u001b[38;5;28;43mself\u001b[39;49m\u001b[43m,\u001b[49m\n\u001b[32m   1694\u001b[39m \u001b[43m  \u001b[49m\u001b[43m)\u001b[49m\n\u001b[32m   1695\u001b[39m \u001b[38;5;28;01melse\u001b[39;00m:\n\u001b[32m   1696\u001b[39m   outputs = execute.execute_with_cancellation(\n\u001b[32m   1697\u001b[39m       name.decode(\u001b[33m\"\u001b[39m\u001b[33mutf-8\u001b[39m\u001b[33m\"\u001b[39m),\n\u001b[32m   1698\u001b[39m       num_outputs=num_outputs,\n\u001b[32m   (...)\u001b[39m\u001b[32m   1702\u001b[39m       cancellation_manager=cancellation_context,\n\u001b[32m   1703\u001b[39m   )\n",
      "\u001b[36mFile \u001b[39m\u001b[32m~/Documents/Internship 2A/code/venv/lib/python3.11/site-packages/tensorflow/python/eager/execute.py:53\u001b[39m, in \u001b[36mquick_execute\u001b[39m\u001b[34m(op_name, num_outputs, inputs, attrs, ctx, name)\u001b[39m\n\u001b[32m     51\u001b[39m \u001b[38;5;28;01mtry\u001b[39;00m:\n\u001b[32m     52\u001b[39m   ctx.ensure_initialized()\n\u001b[32m---> \u001b[39m\u001b[32m53\u001b[39m   tensors = \u001b[43mpywrap_tfe\u001b[49m\u001b[43m.\u001b[49m\u001b[43mTFE_Py_Execute\u001b[49m\u001b[43m(\u001b[49m\u001b[43mctx\u001b[49m\u001b[43m.\u001b[49m\u001b[43m_handle\u001b[49m\u001b[43m,\u001b[49m\u001b[43m \u001b[49m\u001b[43mdevice_name\u001b[49m\u001b[43m,\u001b[49m\u001b[43m \u001b[49m\u001b[43mop_name\u001b[49m\u001b[43m,\u001b[49m\n\u001b[32m     54\u001b[39m \u001b[43m                                      \u001b[49m\u001b[43minputs\u001b[49m\u001b[43m,\u001b[49m\u001b[43m \u001b[49m\u001b[43mattrs\u001b[49m\u001b[43m,\u001b[49m\u001b[43m \u001b[49m\u001b[43mnum_outputs\u001b[49m\u001b[43m)\u001b[49m\n\u001b[32m     55\u001b[39m \u001b[38;5;28;01mexcept\u001b[39;00m core._NotOkStatusException \u001b[38;5;28;01mas\u001b[39;00m e:\n\u001b[32m     56\u001b[39m   \u001b[38;5;28;01mif\u001b[39;00m name \u001b[38;5;129;01mis\u001b[39;00m \u001b[38;5;129;01mnot\u001b[39;00m \u001b[38;5;28;01mNone\u001b[39;00m:\n",
      "\u001b[31mKeyboardInterrupt\u001b[39m: "
     ]
    }
   ],
   "source": [
    "\n",
    "model.compile(loss='sparse_categorical_crossentropy', optimizer='adam', metrics=['accuracy'])\n",
    "model.fit(X, y, batch_size=32, epochs=5,validation_data = (X_valid,y_valid))"
   ]
  },
  {
   "cell_type": "code",
   "execution_count": 113,
   "metadata": {},
   "outputs": [],
   "source": [
    "model.save('./models/ner_LSTM.keras')"
   ]
  },
  {
   "cell_type": "code",
   "execution_count": 114,
   "metadata": {},
   "outputs": [
    {
     "name": "stdout",
     "output_type": "stream",
     "text": [
      "\u001b[1m119/119\u001b[0m \u001b[32m━━━━━━━━━━━━━━━━━━━━\u001b[0m\u001b[37m\u001b[0m \u001b[1m1s\u001b[0m 6ms/step\n"
     ]
    },
    {
     "data": {
      "text/plain": [
       "<Figure size 1000x1400 with 0 Axes>"
      ]
     },
     "metadata": {},
     "output_type": "display_data"
    },
    {
     "data": {
      "image/png": "[encoded data removed]",
      "text/plain": [
       "<Figure size 640x480 with 2 Axes>"
      ]
     },
     "metadata": {},
     "output_type": "display_data"
    }
   ],
   "source": [
    "from sklearn.metrics import confusion_matrix, ConfusionMatrixDisplay\n",
    "import numpy as np\n",
    "import matplotlib.pyplot as plt\n",
    "\n",
    "\n",
    "y_pred_valid = model.predict(X_valid)\n",
    "y_pred_valid_ids = np.argmax(y_pred_valid, axis=-1)\n",
    "y_valid_flat = y_valid.flatten()\n",
    "y_pred_valid_flat = y_pred_valid_ids.flatten()\n",
    "\n",
    "cm_valid = confusion_matrix(y_valid_flat, y_pred_valid_flat, labels=list(label2id.values()))\n",
    "disp = ConfusionMatrixDisplay(confusion_matrix=cm_valid, display_labels=list(label2id.keys()))\n",
    "plt.figure(figsize=(10, 14))\n",
    "disp.plot(cmap=plt.cm.Blues, xticks_rotation=45)\n",
    "plt.title(\"Confusion Matrix for Validation Set\")\n",
    "plt.show()"
   ]
  },
  {
   "cell_type": "code",
   "execution_count": 115,
   "metadata": {},
   "outputs": [
    {
     "data": {
      "text/plain": [
       "(3808, 40, 10)"
      ]
     },
     "execution_count": 115,
     "metadata": {},
     "output_type": "execute_result"
    }
   ],
   "source": [
    "y_pred_valid.shape"
   ]
  },
  {
   "cell_type": "code",
   "execution_count": 116,
   "metadata": {},
   "outputs": [
    {
     "data": {
      "text/plain": [
       "(152320, 10)"
      ]
     },
     "execution_count": 116,
     "metadata": {},
     "output_type": "execute_result"
    }
   ],
   "source": [
    "y_pred_valid.reshape(-1, y_pred_valid.shape[-1]).shape"
   ]
  },
  {
   "cell_type": "code",
   "execution_count": 117,
   "metadata": {},
   "outputs": [
    {
     "data": {
      "image/png": "[encoded data removed]",
      "text/plain": [
       "<Figure size 1000x800 with 1 Axes>"
      ]
     },
     "metadata": {},
     "output_type": "display_data"
    }
   ],
   "source": [
    "from sklearn.metrics import roc_curve, auc\n",
    "\n",
    "import matplotlib.pyplot as plt\n",
    "\n",
    "# Flatten the true labels and predicted probabilities for ROC computation\n",
    "y_valid_flat = y_valid.flatten()\n",
    "y_pred_valid_probs = y_pred_valid.reshape(-1, y_pred_valid.shape[-1])\n",
    "\n",
    "# Compute ROC curve and ROC area for each class\n",
    "fpr = {}\n",
    "tpr = {}\n",
    "roc_auc = {}\n",
    "for i in range(label_size):\n",
    "    fpr[i], tpr[i], _ = roc_curve((y_valid_flat == i).astype(int), y_pred_valid_probs[:, i])\n",
    "    roc_auc[i] = auc(fpr[i], tpr[i])\n",
    "\n",
    "# Plot the ROC curve\n",
    "plt.figure(figsize=(10, 8))\n",
    "for i in range(label_size):\n",
    "    plt.plot(fpr[i], tpr[i], label=f'Class {id2label[i]} (AUC = {roc_auc[i]:.2f})')\n",
    "\n",
    "plt.plot([0, 1], [0, 1], 'k--', lw=2)\n",
    "plt.xlim([0.0, 1.0])\n",
    "plt.ylim([0.0, 1.05])\n",
    "plt.xlabel('False Positive Rate')\n",
    "plt.ylabel('True Positive Rate')\n",
    "plt.title('ROC Curve for Validation Dataset')\n",
    "plt.legend(loc='lower right')\n",
    "plt.grid()\n",
    "plt.show()"
   ]
  },
  {
   "cell_type": "code",
   "execution_count": 118,
   "metadata": {},
   "outputs": [
    {
     "data": {
      "text/plain": [
       "{'B-geo': 0,\n",
       " 'B-gpe': 1,\n",
       " 'B-org': 2,\n",
       " 'B-per': 3,\n",
       " 'B-tim': 4,\n",
       " 'I-geo': 5,\n",
       " 'I-org': 6,\n",
       " 'I-per': 7,\n",
       " 'I-tim': 8,\n",
       " 'O': 9}"
      ]
     },
     "execution_count": 118,
     "metadata": {},
     "output_type": "execute_result"
    }
   ],
   "source": [
    "label2id"
   ]
  },
  {
   "cell_type": "code",
   "execution_count": 119,
   "metadata": {},
   "outputs": [],
   "source": [
    "from seqeval.metrics import classification_report as seqeval_report"
   ]
  },
  {
   "cell_type": "code",
   "execution_count": null,
   "metadata": {},
   "outputs": [],
   "source": []
  },
  {
   "cell_type": "code",
   "execution_count": 120,
   "metadata": {},
   "outputs": [
    {
     "name": "stdout",
     "output_type": "stream",
     "text": [
      "\u001b[1m298/298\u001b[0m \u001b[32m━━━━━━━━━━━━━━━━━━━━\u001b[0m\u001b[37m\u001b[0m \u001b[1m2s\u001b[0m 7ms/step\n",
      "              precision    recall  f1-score   support\n",
      "\n",
      "       B-geo     0.8036    0.8564    0.8291      7491\n",
      "       B-gpe     0.9411    0.9037    0.9220      3166\n",
      "       B-org     0.7218    0.5719    0.6382      4006\n",
      "       B-per     0.8241    0.7663    0.7941      3350\n",
      "       B-tim     0.9009    0.8156    0.8562      3992\n",
      "       I-geo     0.7437    0.7974    0.7696      1441\n",
      "       I-org     0.8073    0.7057    0.7531      3259\n",
      "       I-per     0.8663    0.8020    0.8329      3450\n",
      "       I-tim     0.7883    0.6516    0.7135      1286\n",
      "           O     0.9909    0.9962    0.9936    349359\n",
      "\n",
      "    accuracy                         0.9781    380800\n",
      "   macro avg     0.8388    0.7867    0.8102    380800\n",
      "weighted avg     0.9773    0.9781    0.9775    380800\n",
      "\n"
     ]
    }
   ],
   "source": [
    "from sklearn.metrics import classification_report\n",
    "\n",
    "# Predict\n",
    "y_pred_test = model.predict(X_test)\n",
    "y_pred_ids_test = np.argmax(y_pred_test, axis=-1)   #compare the distribution of the output of softmax for a token-word (10 scores comparison)\n",
    "y_true_ids_test = y_test\n",
    "\n",
    "# Flatten and filter padding\n",
    "true_flat, pred_flat = [], []\n",
    "for i in range(len(y_true_ids_test)):\n",
    "    for true, pred in zip(y_true_ids_test[i], y_pred_ids_test[i]):\n",
    "            true_flat.append(id2label[true])\n",
    "            pred_flat.append(id2label[pred])\n",
    "\n",
    "# Report\n",
    "print(classification_report(true_flat, pred_flat, digits=4))\n"
   ]
  },
  {
   "cell_type": "code",
   "execution_count": 121,
   "metadata": {},
   "outputs": [
    {
     "data": {
      "text/plain": [
       "10"
      ]
     },
     "execution_count": 121,
     "metadata": {},
     "output_type": "execute_result"
    }
   ],
   "source": [
    "y_pred_test.shape[-1]"
   ]
  },
  {
   "cell_type": "code",
   "execution_count": 122,
   "metadata": {},
   "outputs": [
    {
     "data": {
      "image/png": "[encoded data removed]",
      "text/plain": [
       "<Figure size 1000x800 with 1 Axes>"
      ]
     },
     "metadata": {},
     "output_type": "display_data"
    }
   ],
   "source": [
    "from sklearn.metrics import roc_curve, auc\n",
    "\n",
    "import matplotlib.pyplot as plt\n",
    "\n",
    "y_test_flat = y_test.flatten()\n",
    "y_pred_test_probs = y_pred_test.reshape(-1, y_pred_test.shape[-1])\n",
    "\n",
    "fpr = {}\n",
    "tpr = {}\n",
    "roc_auc = {}\n",
    "for i in range(label_size):\n",
    "    fpr[i], tpr[i], _ = roc_curve((y_test_flat == i).astype(int), y_pred_test_probs[:, i])\n",
    "    roc_auc[i] = auc(fpr[i], tpr[i])\n",
    "\n",
    "# Plot the ROC curve\n",
    "plt.figure(figsize=(10, 8))\n",
    "for i in range(label_size):\n",
    "    plt.plot(fpr[i], tpr[i], label=f'Class {id2label[i]} (AUC = {roc_auc[i]:.2f})')\n",
    "\n",
    "plt.plot([0, 1], [0, 1], 'k--', lw=2)\n",
    "plt.xlim([0.0, 1.0])\n",
    "plt.ylim([0.0, 1.05])\n",
    "plt.xlabel('False Positive Rate')\n",
    "plt.ylabel('True Positive Rate')\n",
    "plt.title('ROC Curve for Test Dataset')\n",
    "plt.legend(loc='lower right')\n",
    "plt.grid()\n",
    "plt.show()"
   ]
  },
  {
   "cell_type": "code",
   "execution_count": 123,
   "metadata": {},
   "outputs": [
    {
     "data": {
      "image/png": "[encoded data removed]",
      "text/plain": [
       "<Figure size 1000x800 with 2 Axes>"
      ]
     },
     "metadata": {},
     "output_type": "display_data"
    }
   ],
   "source": [
    "\n",
    "# Get all unique labels from your label map\n",
    "all_labels = sorted(list(set(true_flat + pred_flat)))\n",
    "\n",
    "cm = confusion_matrix(true_flat, pred_flat, labels=all_labels)\n",
    "\n",
    "\n",
    "plt.figure(figsize=(10, 8))\n",
    "sns.heatmap(cm, annot=True, fmt='d', cmap='Blues',\n",
    "            xticklabels=all_labels, yticklabels=all_labels)\n",
    "plt.xlabel('Predicted Label')\n",
    "plt.ylabel('True Label')\n",
    "plt.title('Confusion Matrix')\n",
    "plt.tight_layout()\n",
    "plt.show()"
   ]
  },
  {
   "cell_type": "code",
   "execution_count": 124,
   "metadata": {},
   "outputs": [
    {
     "data": {
      "text/plain": [
       "(9520, 40)"
      ]
     },
     "execution_count": 124,
     "metadata": {},
     "output_type": "execute_result"
    }
   ],
   "source": [
    "y_true_ids_test.shape"
   ]
  },
  {
   "cell_type": "code",
   "execution_count": 125,
   "metadata": {},
   "outputs": [],
   "source": [
    "def show_predictions(df, X, y_true_ids, y_pred_ids, index=0):\n",
    "    print(f\"\\nSentence: {' '.join(df.loc[index, 'tokens'])}\")\n",
    "    print(f\"{'Token':15} {'True':10} {'Predicted'}\")\n",
    "    print(\"-\" * 40)\n",
    "    for token, true, pred in zip(df.loc[index, 'tokens'], \n",
    "                                 [id2label[i] for i in y_true_ids[index]],\n",
    "                                 [id2label[i] for i in y_pred_ids[index]]):\n",
    "        print(f\"{token:15} {true:10} {pred}\")\n"
   ]
  },
  {
   "cell_type": "code",
   "execution_count": 126,
   "metadata": {},
   "outputs": [
    {
     "name": "stdout",
     "output_type": "stream",
     "text": [
      "\n",
      "Sentence: Pakistani officials say unidentified gunmen have killed three people , including a former government minister , in a semi-autonomous tribal region bordering Afghanistan .\n",
      "Token           True       Predicted\n",
      "----------------------------------------\n",
      "Pakistani       B-gpe      B-gpe\n",
      "officials       O          O\n",
      "say             O          O\n",
      "unidentified    O          O\n",
      "gunmen          O          O\n",
      "have            O          O\n",
      "killed          O          O\n",
      "three           O          O\n",
      "people          O          O\n",
      ",               O          O\n",
      "including       O          O\n",
      "a               O          O\n",
      "former          O          O\n",
      "government      O          O\n",
      "minister        O          O\n",
      ",               O          O\n",
      "in              O          O\n",
      "a               O          O\n",
      "semi-autonomous O          O\n",
      "tribal          O          O\n",
      "region          O          O\n",
      "bordering       O          O\n",
      "Afghanistan     B-geo      B-gpe\n",
      ".               O          O\n"
     ]
    }
   ],
   "source": [
    "show_predictions(test_df, X_test, y_true_ids_test, y_pred_ids_test, index=22)"
   ]
  },
  {
   "cell_type": "markdown",
   "metadata": {},
   "source": [
    "## Test"
   ]
  },
  {
   "cell_type": "code",
   "execution_count": 127,
   "metadata": {},
   "outputs": [
    {
     "name": "stdout",
     "output_type": "stream",
     "text": [
      "\u001b[1m298/298\u001b[0m \u001b[32m━━━━━━━━━━━━━━━━━━━━\u001b[0m\u001b[37m\u001b[0m \u001b[1m2s\u001b[0m 6ms/step - accuracy: 0.9766 - loss: 0.0831\n",
      "Test Loss: 0.0740, Accuracy: 0.9781\n"
     ]
    }
   ],
   "source": [
    "loss, accuracy = model.evaluate(X_test, y_test)\n",
    "print(f\"Test Loss: {loss:.4f}, Accuracy: {accuracy:.4f}\")\n"
   ]
  },
  {
   "cell_type": "code",
   "execution_count": 128,
   "metadata": {},
   "outputs": [],
   "source": [
    "# from tensorflow.keras.models import load_model\n",
    "\n",
    "# # Load the saved model\n",
    "# model = load_model('./models/ner_LSTM.keras')"
   ]
  },
  {
   "cell_type": "code",
   "execution_count": 129,
   "metadata": {},
   "outputs": [],
   "source": [
    "def test_and_mask(sentence, model, word2id, label2id, id2label, MAX_LEN):\n",
    "    tokens = sentence.strip().split()\n",
    "    \n",
    "    def encode(tokens, vocab, pad_len=MAX_LEN, fallback='<UNK>', pad_token='<PAD>'):\n",
    "        fallback_id = vocab.get(fallback, list(vocab.values())[0])  \n",
    "        pad_id = vocab.get(pad_token, list(vocab.values())[0])    \n",
    "        ids = [vocab.get(tok, fallback_id) for tok in tokens]\n",
    "        return ids[:pad_len] + [pad_id] * max(0, pad_len - len(ids))\n",
    "    \n",
    "    encoded_sentence = encode(tokens, word2id, pad_len=MAX_LEN)\n",
    "    encoded_sentence = np.array([encoded_sentence])  \n",
    "    \n",
    "    # Predict using the model\n",
    "    y_pred = model.predict(encoded_sentence)\n",
    "    y_pred_ids = np.argmax(y_pred, axis=-1)[0] \n",
    "    \n",
    "    # Decode the sentence and labels\n",
    "    id2word = {v: k for k, v in word2id.items()}\n",
    "    decoded_sentence = [id2word.get(word_id, '<UNK>') for word_id in encoded_sentence[0]]\n",
    "    decoded_labels = [id2label[label_id] for label_id in y_pred_ids]\n",
    "    \n",
    "    # Mask the entities in the sentence\n",
    "    masked_sentence = []\n",
    "    for token, label in zip(decoded_sentence, decoded_labels):\n",
    "        if token == '<PAD>':\n",
    "            continue\n",
    "        elif label == 'O':\n",
    "            masked_sentence.append(token)\n",
    "        else:\n",
    "            masked_sentence.append(label)\n",
    "    \n",
    "    # Print the original and masked sentence\n",
    "    print(\"Original Sentence:\")\n",
    "    print(\" \".join(tokens))\n",
    "    print(\"\\nMasked Sentence:\")\n",
    "    print(\" \".join(masked_sentence))"
   ]
  },
  {
   "cell_type": "code",
   "execution_count": 130,
   "metadata": {},
   "outputs": [
    {
     "name": "stdout",
     "output_type": "stream",
     "text": [
      "\u001b[1m1/1\u001b[0m \u001b[32m━━━━━━━━━━━━━━━━━━━━\u001b[0m\u001b[37m\u001b[0m \u001b[1m0s\u001b[0m 14ms/step\n",
      "Original Sentence:\n",
      "Barack Obama was the president of the United States.\n",
      "\n",
      "Masked Sentence:\n",
      "B-per I-per was the president of the B-geo I-org\n"
     ]
    }
   ],
   "source": [
    "# Example usage\n",
    "random_sentence = \"Barack Obama was the president of the United States.\"\n",
    "test_and_mask(random_sentence, model, word2id, label2id, id2label, MAX_LEN)"
   ]
  },
  {
   "cell_type": "code",
   "execution_count": null,
   "metadata": {},
   "outputs": [],
   "source": []
  },
  {
   "cell_type": "code",
   "execution_count": null,
   "metadata": {},
   "outputs": [],
   "source": []
  },
  {
   "cell_type": "code",
   "execution_count": 130,
   "metadata": {},
   "outputs": [],
   "source": []
  },
  {
   "cell_type": "code",
   "execution_count": 131,
   "metadata": {},
   "outputs": [],
   "source": [
    "# Example usage\n",
    "random_sentence = \"On June 15, 2023, Dr. Emily Carter, a renowned physicist from Princeton University, gave a keynote speech at the Global Climate Summit in Geneva, Switzerland. She emphasized the urgent need for international collaboration to combat climate change. Representatives from over 50 countries, including Canada, Brazil, and India, attended the event. Microsoft and Tesla announced a joint venture to develop carbon-neutral technologies. Meanwhile, UN Secretary-General António Guterres praised the summit's progress in aligning with the Paris Agreement. The summit also featured contributions from scientists at MIT and Oxford University. Elon Musk participated virtually from California, showcasing Tesla’s latest solar innovations. A follow-up summit is scheduled for November 2024 in Tokyo, Japan. Attendees shared insights via the official Twitter hashtag #GCS2023. The event concluded with a ceremonial tree planting sponsored by Green Earth Foundation.\""
   ]
  },
  {
   "cell_type": "code",
   "execution_count": 132,
   "metadata": {},
   "outputs": [],
   "source": [
    "batches = []\n",
    "i = 1\n",
    "MAX_LEN = len(random_sentence)\n",
    "for i in range(0,MAX_LEN,40):\n",
    "    chunk = random_sentence[i:40+i]\n",
    "    string = ' '.join(chunk)\n",
    "    batches.append(string)\n",
    "    "
   ]
  },
  {
   "cell_type": "code",
   "execution_count": 133,
   "metadata": {},
   "outputs": [
    {
     "name": "stdout",
     "output_type": "stream",
     "text": [
      "\u001b[1m1/1\u001b[0m \u001b[32m━━━━━━━━━━━━━━━━━━━━\u001b[0m\u001b[37m\u001b[0m \u001b[1m0s\u001b[0m 19ms/step\n",
      "Original Sentence:\n",
      "O n J u n e 1 5 , 2 0 2 3 , D r . E m i l y C a r t e r , a r e\n",
      "\n",
      "Masked Sentence:\n",
      "B-geo <UNK> <UNK> <UNK> <UNK> <UNK> B-tim I-tim , 2 <UNK> 2 3 , D <UNK> . <UNK> <UNK> I-per l <UNK> C a <UNK> <UNK> <UNK> I-per , a <UNK> <UNK>\n"
     ]
    },
    {
     "ename": "TypeError",
     "evalue": "cannot unpack non-iterable NoneType object",
     "output_type": "error",
     "traceback": [
      "\u001b[31m---------------------------------------------------------------------------\u001b[39m",
      "\u001b[31mTypeError\u001b[39m                                 Traceback (most recent call last)",
      "\u001b[36mCell\u001b[39m\u001b[36m \u001b[39m\u001b[32mIn[133]\u001b[39m\u001b[32m, line 3\u001b[39m\n\u001b[32m      1\u001b[39m masked_sentence_ = []\n\u001b[32m      2\u001b[39m \u001b[38;5;28;01mfor\u001b[39;00m sentence \u001b[38;5;129;01min\u001b[39;00m batches:\n\u001b[32m----> \u001b[39m\u001b[32m3\u001b[39m     original_sequence,masked_sentence = test_and_mask(sentence, model,word2id, label2id,id2label,\u001b[32m40\u001b[39m)\n\u001b[32m      4\u001b[39m     masked_sentence = \u001b[33m'\u001b[39m\u001b[33m \u001b[39m\u001b[33m'\u001b[39m.join(masked_sentence)\n\u001b[32m      5\u001b[39m     masked_sentence_.append(masked_sentence)\n",
      "\u001b[31mTypeError\u001b[39m: cannot unpack non-iterable NoneType object"
     ]
    }
   ],
   "source": [
    "masked_sentence_ = []\n",
    "for sentence in batches:\n",
    "    original_sequence,masked_sentence = test_and_mask(sentence, model,word2id, label2id,id2label,40)\n",
    "    masked_sentence = ' '.join(masked_sentence)\n",
    "    masked_sentence_.append(masked_sentence)\n"
   ]
  },
  {
   "cell_type": "code",
   "execution_count": 244,
   "metadata": {},
   "outputs": [
    {
     "data": {
      "text/plain": [
       "['On',\n",
       " 'June',\n",
       " '15,',\n",
       " '2023,',\n",
       " 'Dr.',\n",
       " 'Emily',\n",
       " 'Carter,',\n",
       " 'a',\n",
       " 'renowned',\n",
       " 'physicist',\n",
       " 'from',\n",
       " 'Princeton',\n",
       " 'University,',\n",
       " 'gave',\n",
       " 'a',\n",
       " 'keynote',\n",
       " 'speech',\n",
       " 'at',\n",
       " 'the',\n",
       " 'Global',\n",
       " 'Climate',\n",
       " 'Summit',\n",
       " 'in',\n",
       " 'Geneva,',\n",
       " 'Switzerland.',\n",
       " 'She',\n",
       " 'emphasized',\n",
       " 'the',\n",
       " 'urgent',\n",
       " 'need',\n",
       " 'for',\n",
       " 'international',\n",
       " 'collaboration',\n",
       " 'to',\n",
       " 'combat',\n",
       " 'climate',\n",
       " 'change.',\n",
       " 'Representatives',\n",
       " 'from',\n",
       " 'over',\n",
       " '50',\n",
       " 'countries,',\n",
       " 'including',\n",
       " 'Canada,',\n",
       " 'Brazil,',\n",
       " 'and',\n",
       " 'India,',\n",
       " 'attended',\n",
       " 'the',\n",
       " 'event.',\n",
       " 'Microsoft',\n",
       " 'and',\n",
       " 'Tesla',\n",
       " 'announced',\n",
       " 'a',\n",
       " 'joint',\n",
       " 'venture',\n",
       " 'to',\n",
       " 'develop',\n",
       " 'carbon-neutral',\n",
       " 'technologies.',\n",
       " 'Meanwhile,',\n",
       " 'UN',\n",
       " 'Secretary-General',\n",
       " 'António',\n",
       " 'Guterres',\n",
       " 'praised',\n",
       " 'the',\n",
       " \"summit's\",\n",
       " 'progress',\n",
       " 'in',\n",
       " 'aligning',\n",
       " 'with',\n",
       " 'the',\n",
       " 'Paris',\n",
       " 'Agreement.',\n",
       " 'The',\n",
       " 'summit',\n",
       " 'also',\n",
       " 'featured',\n",
       " 'contributions',\n",
       " 'from',\n",
       " 'scientists',\n",
       " 'at',\n",
       " 'MIT',\n",
       " 'and',\n",
       " 'Oxford',\n",
       " 'University.',\n",
       " 'Elon',\n",
       " 'Musk',\n",
       " 'participated',\n",
       " 'virtually',\n",
       " 'from',\n",
       " 'California,',\n",
       " 'showcasing',\n",
       " 'Tesla’s',\n",
       " 'latest',\n",
       " 'solar',\n",
       " 'innovations.',\n",
       " 'A',\n",
       " 'follow-up',\n",
       " 'summit',\n",
       " 'is',\n",
       " 'scheduled',\n",
       " 'for',\n",
       " 'November',\n",
       " '2024',\n",
       " 'in',\n",
       " 'Tokyo,',\n",
       " 'Japan.',\n",
       " 'Attendees',\n",
       " 'shared',\n",
       " 'insights',\n",
       " 'via',\n",
       " 'the',\n",
       " 'official',\n",
       " 'Twitter',\n",
       " 'hashtag',\n",
       " '#GCS2023.',\n",
       " 'The',\n",
       " 'event',\n",
       " 'concluded',\n",
       " 'with',\n",
       " 'a',\n",
       " 'ceremonial',\n",
       " 'tree',\n",
       " 'planting',\n",
       " 'sponsored',\n",
       " 'by',\n",
       " 'Green',\n",
       " 'Earth',\n",
       " 'Foundation.']"
      ]
     },
     "execution_count": 244,
     "metadata": {},
     "output_type": "execute_result"
    }
   ],
   "source": [
    "random_sentence"
   ]
  }
 ],
 "metadata": {
  "kernelspec": {
   "display_name": "base",
   "language": "python",
   "name": "python3"
  },
  "language_info": {
   "codemirror_mode": {
    "name": "ipython",
    "version": 3
   },
   "file_extension": ".py",
   "mimetype": "text/x-python",
   "name": "python",
   "nbconvert_exporter": "python",
   "pygments_lexer": "ipython3",
   "version": "3.11.7"
  }
 },
 "nbformat": 4,
 "nbformat_minor": 2
}
