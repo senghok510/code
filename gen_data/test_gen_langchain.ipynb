{
 "cells": [
  {
   "cell_type": "code",
   "execution_count": 25,
   "metadata": {},
   "outputs": [],
   "source": [
    "from pydantic import BaseModel\n",
    "from langchain.prompts import FewShotPromptTemplate, PromptTemplate\n",
    "from langchain_experimental.tabular_synthetic_data.openai import (\n",
    "    OPENAI_TEMPLATE,\n",
    "    create_openai_data_generator,\n",
    ")\n",
    "from langchain_experimental.tabular_synthetic_data.prompts import (\n",
    "    SYNTHETIC_FEW_SHOT_PREFIX,\n",
    "    SYNTHETIC_FEW_SHOT_SUFFIX,\n",
    ")\n",
    "from langchain_openai import ChatOpenAI\n",
    "import pandas as pd"
   ]
  },
  {
   "cell_type": "code",
   "execution_count": 12,
   "metadata": {},
   "outputs": [],
   "source": [
    "# define schema of our own dataset \n",
    "class MedicalBilling(BaseModel):\n",
    "    patient_id: int\n",
    "    patient_name: str\n",
    "    diagnosis_code : str\n",
    "    procedure_code : str\n",
    "    total_charge: float\n",
    "    insurance_claim_amount : float\n",
    "    "
   ]
  },
  {
   "cell_type": "markdown",
   "metadata": {},
   "source": [
    "# Sample Data\n",
    "To guide the synthetic data generator, it's useful to provide it with a few real-world-like examples."
   ]
  },
  {
   "cell_type": "code",
   "execution_count": 13,
   "metadata": {},
   "outputs": [],
   "source": [
    "examples = [\n",
    "    {\n",
    "        \"example\": \"\"\"Patient ID: 123456, Patient Name: John Doe, Diagnosis Code: \n",
    "        J20.9, Procedure Code: 99203, Total Charge: $500, Insurance Claim Amount: $350\"\"\"\n",
    "    },\n",
    "    {\n",
    "        \"example\": \"\"\"Patient ID: 789012, Patient Name: Johnson Smith, Diagnosis \n",
    "        Code: M54.5, Procedure Code: 99213, Total Charge: $150, Insurance Claim Amount: $120\"\"\"\n",
    "    },\n",
    "    {\n",
    "        \"example\": \"\"\"Patient ID: 345678, Patient Name: Emily Stone, Diagnosis Code: \n",
    "        E11.9, Procedure Code: 99214, Total Charge: $300, Insurance Claim Amount: $250\"\"\"\n",
    "    },\n",
    "]"
   ]
  },
  {
   "cell_type": "markdown",
   "metadata": {},
   "source": [
    "# Create a Prompt Template\n",
    "The generator doesn't magically know how to create our data; we need to guide it. We do this by creating a prompt template. This template helps instruct the underlying language model on how to produce synthetic data in the desired format."
   ]
  },
  {
   "cell_type": "code",
   "execution_count": 14,
   "metadata": {},
   "outputs": [],
   "source": [
    "OPENAI_TEMPLATE = PromptTemplate(input_variables = [\"example\"], template = \"{example}\")\n",
    "\n",
    "prompt_template = FewShotPromptTemplate(\n",
    "    prefix = SYNTHETIC_FEW_SHOT_PREFIX,\n",
    "    examples = examples,\n",
    "    suffix = SYNTHETIC_FEW_SHOT_SUFFIX,\n",
    "    input_variables = [\"subject\",\"extra\"],\n",
    "    example_prompt = OPENAI_TEMPLATE,\n",
    ")"
   ]
  },
  {
   "cell_type": "code",
   "execution_count": 15,
   "metadata": {},
   "outputs": [],
   "source": [
    "synthetic_data_generator = create_openai_data_generator(\n",
    "    output_schema = MedicalBilling,\n",
    "    llm = ChatOpenAI(\n",
    "        temperature= 1.2\n",
    "    ),\n",
    "    prompt = prompt_template\n",
    ")"
   ]
  },
  {
   "cell_type": "code",
   "execution_count": 18,
   "metadata": {},
   "outputs": [],
   "source": [
    "llm = ChatOpenAI(temperature=1.2)"
   ]
  },
  {
   "cell_type": "code",
   "execution_count": 19,
   "metadata": {},
   "outputs": [
    {
     "name": "stdout",
     "output_type": "stream",
     "text": [
      "gpt-3.5-turbo\n"
     ]
    }
   ],
   "source": [
    "print(llm.model_name)  # default model\n"
   ]
  },
  {
   "cell_type": "code",
   "execution_count": 16,
   "metadata": {},
   "outputs": [],
   "source": [
    "synthetic_results = synthetic_data_generator.generate(\n",
    "    subject=\"medical_billing\",\n",
    "    extra=\"the name must be chosen at random. Make it something you wouldn't normally choose.\",\n",
    "    runs=10,\n",
    ")\n",
    "\n"
   ]
  },
  {
   "cell_type": "code",
   "execution_count": 9,
   "metadata": {},
   "outputs": [],
   "source": [
    "import json\n",
    "\n",
    "A = {\"a\":1, \"b\":2}\n",
    "j = json.dumps(A)"
   ]
  },
  {
   "cell_type": "code",
   "execution_count": 11,
   "metadata": {},
   "outputs": [
    {
     "data": {
      "text/plain": [
       "dict"
      ]
     },
     "execution_count": 11,
     "metadata": {},
     "output_type": "execute_result"
    }
   ],
   "source": [
    "decode = json.loads(j)\n",
    "type(decode)"
   ]
  },
  {
   "cell_type": "code",
   "execution_count": null,
   "metadata": {},
   "outputs": [],
   "source": [
    "synthetic_results"
   ]
  },
  {
   "cell_type": "code",
   "execution_count": 26,
   "metadata": {},
   "outputs": [],
   "source": [
    "# For Pydantic v2\n",
    "df = pd.DataFrame([item.model_dump() for item in synthetic_results])"
   ]
  },
  {
   "cell_type": "code",
   "execution_count": 27,
   "metadata": {},
   "outputs": [
    {
     "data": {
      "text/html": [
       "<div>\n",
       "<style scoped>\n",
       "    .dataframe tbody tr th:only-of-type {\n",
       "        vertical-align: middle;\n",
       "    }\n",
       "\n",
       "    .dataframe tbody tr th {\n",
       "        vertical-align: top;\n",
       "    }\n",
       "\n",
       "    .dataframe thead th {\n",
       "        text-align: right;\n",
       "    }\n",
       "</style>\n",
       "<table border=\"1\" class=\"dataframe\">\n",
       "  <thead>\n",
       "    <tr style=\"text-align: right;\">\n",
       "      <th></th>\n",
       "      <th>patient_id</th>\n",
       "      <th>patient_name</th>\n",
       "      <th>diagnosis_code</th>\n",
       "      <th>procedure_code</th>\n",
       "      <th>total_charge</th>\n",
       "      <th>insurance_claim_amount</th>\n",
       "    </tr>\n",
       "  </thead>\n",
       "  <tbody>\n",
       "    <tr>\n",
       "      <th>0</th>\n",
       "      <td>654321</td>\n",
       "      <td>Sophia Black</td>\n",
       "      <td>A09.9</td>\n",
       "      <td>99204</td>\n",
       "      <td>400.0</td>\n",
       "      <td>300.0</td>\n",
       "    </tr>\n",
       "    <tr>\n",
       "      <th>1</th>\n",
       "      <td>123456</td>\n",
       "      <td>Oliver White</td>\n",
       "      <td>B01.2</td>\n",
       "      <td>99203</td>\n",
       "      <td>250.0</td>\n",
       "      <td>200.0</td>\n",
       "    </tr>\n",
       "    <tr>\n",
       "      <th>2</th>\n",
       "      <td>987654</td>\n",
       "      <td>Ezekiel Green</td>\n",
       "      <td>F32.9</td>\n",
       "      <td>99213</td>\n",
       "      <td>350.0</td>\n",
       "      <td>275.0</td>\n",
       "    </tr>\n",
       "    <tr>\n",
       "      <th>3</th>\n",
       "      <td>987654</td>\n",
       "      <td>Daisy Silver</td>\n",
       "      <td>C46.9</td>\n",
       "      <td>99212</td>\n",
       "      <td>300.0</td>\n",
       "      <td>250.0</td>\n",
       "    </tr>\n",
       "    <tr>\n",
       "      <th>4</th>\n",
       "      <td>987654</td>\n",
       "      <td>Charlotte Singh</td>\n",
       "      <td>I86.9</td>\n",
       "      <td>99214</td>\n",
       "      <td>400.0</td>\n",
       "      <td>320.0</td>\n",
       "    </tr>\n",
       "    <tr>\n",
       "      <th>5</th>\n",
       "      <td>123456</td>\n",
       "      <td>Xavier Ortiz</td>\n",
       "      <td>M54.5</td>\n",
       "      <td>99215</td>\n",
       "      <td>450.0</td>\n",
       "      <td>350.0</td>\n",
       "    </tr>\n",
       "    <tr>\n",
       "      <th>6</th>\n",
       "      <td>987654</td>\n",
       "      <td>George Washington</td>\n",
       "      <td>K30.9</td>\n",
       "      <td>99213</td>\n",
       "      <td>350.0</td>\n",
       "      <td>280.0</td>\n",
       "    </tr>\n",
       "    <tr>\n",
       "      <th>7</th>\n",
       "      <td>987654321</td>\n",
       "      <td>Zephyr Montgomery</td>\n",
       "      <td>T80.3</td>\n",
       "      <td>99212</td>\n",
       "      <td>300.0</td>\n",
       "      <td>240.0</td>\n",
       "    </tr>\n",
       "    <tr>\n",
       "      <th>8</th>\n",
       "      <td>246810</td>\n",
       "      <td>Juniper Thomas</td>\n",
       "      <td>L21.0</td>\n",
       "      <td>99214</td>\n",
       "      <td>400.0</td>\n",
       "      <td>320.0</td>\n",
       "    </tr>\n",
       "    <tr>\n",
       "      <th>9</th>\n",
       "      <td>135792</td>\n",
       "      <td>Bartholomew McAllister</td>\n",
       "      <td>F32.9</td>\n",
       "      <td>99215</td>\n",
       "      <td>500.0</td>\n",
       "      <td>400.0</td>\n",
       "    </tr>\n",
       "  </tbody>\n",
       "</table>\n",
       "</div>"
      ],
      "text/plain": [
       "   patient_id            patient_name diagnosis_code procedure_code  \\\n",
       "0      654321            Sophia Black          A09.9          99204   \n",
       "1      123456            Oliver White          B01.2          99203   \n",
       "2      987654           Ezekiel Green          F32.9          99213   \n",
       "3      987654            Daisy Silver          C46.9          99212   \n",
       "4      987654         Charlotte Singh          I86.9          99214   \n",
       "5      123456            Xavier Ortiz          M54.5          99215   \n",
       "6      987654       George Washington          K30.9          99213   \n",
       "7   987654321       Zephyr Montgomery          T80.3          99212   \n",
       "8      246810          Juniper Thomas          L21.0          99214   \n",
       "9      135792  Bartholomew McAllister          F32.9          99215   \n",
       "\n",
       "   total_charge  insurance_claim_amount  \n",
       "0         400.0                   300.0  \n",
       "1         250.0                   200.0  \n",
       "2         350.0                   275.0  \n",
       "3         300.0                   250.0  \n",
       "4         400.0                   320.0  \n",
       "5         450.0                   350.0  \n",
       "6         350.0                   280.0  \n",
       "7         300.0                   240.0  \n",
       "8         400.0                   320.0  \n",
       "9         500.0                   400.0  "
      ]
     },
     "execution_count": 27,
     "metadata": {},
     "output_type": "execute_result"
    }
   ],
   "source": [
    "df"
   ]
  },
  {
   "cell_type": "code",
   "execution_count": 20,
   "metadata": {},
   "outputs": [
    {
     "name": "stdout",
     "output_type": "stream",
     "text": [
      "[MedicalBilling(patient_id=654321, patient_name='Sophia Black', diagnosis_code='A09.9', procedure_code='99204', total_charge=400.0, insurance_claim_amount=300.0), MedicalBilling(patient_id=123456, patient_name='Oliver White', diagnosis_code='B01.2', procedure_code='99203', total_charge=250.0, insurance_claim_amount=200.0)]\n"
     ]
    }
   ],
   "source": [
    "print(synthetic_results[:2])"
   ]
  }
 ],
 "metadata": {
  "kernelspec": {
   "display_name": "venv",
   "language": "python",
   "name": "python3"
  },
  "language_info": {
   "codemirror_mode": {
    "name": "ipython",
    "version": 3
   },
   "file_extension": ".py",
   "mimetype": "text/x-python",
   "name": "python",
   "nbconvert_exporter": "python",
   "pygments_lexer": "ipython3",
   "version": "3.13.5"
  }
 },
 "nbformat": 4,
 "nbformat_minor": 2
}
