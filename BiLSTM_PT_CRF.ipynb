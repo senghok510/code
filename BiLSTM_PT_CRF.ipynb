{
 "cells": [
  {
   "cell_type": "markdown",
   "metadata": {},
   "source": [
    "## Name entity recognition \n",
    "\n",
    "# Author: Hok Seng"
   ]
  },
  {
   "cell_type": "markdown",
   "metadata": {},
   "source": [
    "<p>\n",
    "    <b>Notebook Sections</b><br>\n",
    "    This notebook is divided into the following sections:\n",
    "    <ul>\n",
    "        <li>A. Setting Environment</li>\n",
    "        <li>B. Set the Devic (cpu or mps) </li>\n",
    "    </ul>\n",
    "</p>"
   ]
  },
  {
   "cell_type": "code",
   "execution_count": 1,
   "metadata": {},
   "outputs": [
    {
     "data": {
      "text/plain": [
       "'/Users/senghok/Documents/Internship 2A/code'"
      ]
     },
     "execution_count": 1,
     "metadata": {},
     "output_type": "execute_result"
    }
   ],
   "source": [
    "import os\n",
    "import subprocess\n",
    "import requests\n",
    "\n",
    "os.getcwd()"
   ]
  },
  {
   "cell_type": "markdown",
   "metadata": {},
   "source": [
    "## Download necessary packages"
   ]
  },
  {
   "cell_type": "code",
   "execution_count": null,
   "metadata": {},
   "outputs": [],
   "source": [
    "# with open(\"requirement.txt\", \"r\") as file:\n",
    "#     for f in file.readlines():\n",
    "#         package = f.strip()\n",
    "#         if package:\n",
    "#             subprocess.check_call([\"pip\", \"install\", package])\n",
    "#             %pip install {package}"
   ]
  },
  {
   "cell_type": "markdown",
   "metadata": {},
   "source": [
    "## Import necessary packages"
   ]
  },
  {
   "cell_type": "code",
   "execution_count": 1,
   "metadata": {},
   "outputs": [
    {
     "ename": "NameError",
     "evalue": "name 'os' is not defined",
     "output_type": "error",
     "traceback": [
      "\u001b[31m---------------------------------------------------------------------------\u001b[39m",
      "\u001b[31mNameError\u001b[39m                                 Traceback (most recent call last)",
      "\u001b[36mCell\u001b[39m\u001b[36m \u001b[39m\u001b[32mIn[1]\u001b[39m\u001b[32m, line 2\u001b[39m\n\u001b[32m      1\u001b[39m save_dir = \u001b[33m\"\u001b[39m\u001b[33mdata\u001b[39m\u001b[33m\"\u001b[39m\n\u001b[32m----> \u001b[39m\u001b[32m2\u001b[39m \u001b[43mos\u001b[49m.makedirs(save_dir,exist_ok = \u001b[38;5;28;01mTrue\u001b[39;00m)\n\u001b[32m      4\u001b[39m file_name = os.path.join(save_dir,\u001b[33m\"\u001b[39m\u001b[33mNER_dataset.csv\u001b[39m\u001b[33m\"\u001b[39m)\n\u001b[32m      6\u001b[39m response = requests.get(url,stream = \u001b[38;5;28;01mTrue\u001b[39;00m)\n",
      "\u001b[31mNameError\u001b[39m: name 'os' is not defined"
     ]
    }
   ],
   "source": [
    "\n",
    "\n",
    "# save_dir = \"data\"\n",
    "# os.makedirs(save_dir,exist_ok = True)\n",
    "\n",
    "# file_name = os.path.join(save_dir,\"NER_dataset.csv\")\n",
    "\n",
    "# response = requests.get(url,stream = True)\n",
    "\n",
    "\n",
    "# if response.status_code == 200:\n",
    "#     with open(file_name,\"wb\") as file:\n",
    "#         for chunk in response.iter_content(chunk_size=1024):\n",
    "#             file.write(chunk)\n",
    "#     print(f\"File downloaded successfully and saved to {file_name}\")\n",
    "# else:\n",
    "#     print(f\"Failed to download file. Status code: {response.status_code}\")\n",
    "\n"
   ]
  },
  {
   "cell_type": "code",
   "execution_count": 1,
   "metadata": {},
   "outputs": [
    {
     "name": "stderr",
     "output_type": "stream",
     "text": [
      "/Users/senghok/Documents/Internship 2A/code/venv/lib/python3.11/site-packages/tqdm/auto.py:21: TqdmWarning: IProgress not found. Please update jupyter and ipywidgets. See https://ipywidgets.readthedocs.io/en/stable/user_install.html\n",
      "  from .autonotebook import tqdm as notebook_tqdm\n",
      "\n",
      "A module that was compiled using NumPy 1.x cannot be run in\n",
      "NumPy 2.1.3 as it may crash. To support both 1.x and 2.x\n",
      "versions of NumPy, modules must be compiled with NumPy 2.0.\n",
      "Some module may need to rebuild instead e.g. with 'pybind11>=2.12'.\n",
      "\n",
      "If you are a user of the module, the easiest solution will be to\n",
      "downgrade to 'numpy<2' or try to upgrade the affected module.\n",
      "We expect that some modules will need time to support NumPy 2.\n",
      "\n",
      "Traceback (most recent call last):  File \"<frozen runpy>\", line 198, in _run_module_as_main\n",
      "  File \"<frozen runpy>\", line 88, in _run_code\n",
      "  File \"/Users/senghok/Documents/Internship 2A/code/venv/lib/python3.11/site-packages/ipykernel_launcher.py\", line 18, in <module>\n",
      "    app.launch_new_instance()\n",
      "  File \"/Users/senghok/Documents/Internship 2A/code/venv/lib/python3.11/site-packages/traitlets/config/application.py\", line 1075, in launch_instance\n",
      "    app.start()\n",
      "  File \"/Users/senghok/Documents/Internship 2A/code/venv/lib/python3.11/site-packages/ipykernel/kernelapp.py\", line 739, in start\n",
      "    self.io_loop.start()\n",
      "  File \"/Users/senghok/Documents/Internship 2A/code/venv/lib/python3.11/site-packages/tornado/platform/asyncio.py\", line 211, in start\n",
      "    self.asyncio_loop.run_forever()\n",
      "  File \"/Applications/anaconda3/lib/python3.11/asyncio/base_events.py\", line 607, in run_forever\n",
      "    self._run_once()\n",
      "  File \"/Applications/anaconda3/lib/python3.11/asyncio/base_events.py\", line 1922, in _run_once\n",
      "    handle._run()\n",
      "  File \"/Applications/anaconda3/lib/python3.11/asyncio/events.py\", line 80, in _run\n",
      "    self._context.run(self._callback, *self._args)\n",
      "  File \"/Users/senghok/Documents/Internship 2A/code/venv/lib/python3.11/site-packages/ipykernel/kernelbase.py\", line 545, in dispatch_queue\n",
      "    await self.process_one()\n",
      "  File \"/Users/senghok/Documents/Internship 2A/code/venv/lib/python3.11/site-packages/ipykernel/kernelbase.py\", line 534, in process_one\n",
      "    await dispatch(*args)\n",
      "  File \"/Users/senghok/Documents/Internship 2A/code/venv/lib/python3.11/site-packages/ipykernel/kernelbase.py\", line 437, in dispatch_shell\n",
      "    await result\n",
      "  File \"/Users/senghok/Documents/Internship 2A/code/venv/lib/python3.11/site-packages/ipykernel/ipkernel.py\", line 362, in execute_request\n",
      "    await super().execute_request(stream, ident, parent)\n",
      "  File \"/Users/senghok/Documents/Internship 2A/code/venv/lib/python3.11/site-packages/ipykernel/kernelbase.py\", line 778, in execute_request\n",
      "    reply_content = await reply_content\n",
      "  File \"/Users/senghok/Documents/Internship 2A/code/venv/lib/python3.11/site-packages/ipykernel/ipkernel.py\", line 449, in do_execute\n",
      "    res = shell.run_cell(\n",
      "  File \"/Users/senghok/Documents/Internship 2A/code/venv/lib/python3.11/site-packages/ipykernel/zmqshell.py\", line 549, in run_cell\n",
      "    return super().run_cell(*args, **kwargs)\n",
      "  File \"/Users/senghok/Documents/Internship 2A/code/venv/lib/python3.11/site-packages/IPython/core/interactiveshell.py\", line 3100, in run_cell\n",
      "    result = self._run_cell(\n",
      "  File \"/Users/senghok/Documents/Internship 2A/code/venv/lib/python3.11/site-packages/IPython/core/interactiveshell.py\", line 3155, in _run_cell\n",
      "    result = runner(coro)\n",
      "  File \"/Users/senghok/Documents/Internship 2A/code/venv/lib/python3.11/site-packages/IPython/core/async_helpers.py\", line 128, in _pseudo_sync_runner\n",
      "    coro.send(None)\n",
      "  File \"/Users/senghok/Documents/Internship 2A/code/venv/lib/python3.11/site-packages/IPython/core/interactiveshell.py\", line 3367, in run_cell_async\n",
      "    has_raised = await self.run_ast_nodes(code_ast.body, cell_name,\n",
      "  File \"/Users/senghok/Documents/Internship 2A/code/venv/lib/python3.11/site-packages/IPython/core/interactiveshell.py\", line 3612, in run_ast_nodes\n",
      "    if await self.run_code(code, result, async_=asy):\n",
      "  File \"/Users/senghok/Documents/Internship 2A/code/venv/lib/python3.11/site-packages/IPython/core/interactiveshell.py\", line 3672, in run_code\n",
      "    exec(code_obj, self.user_global_ns, self.user_ns)\n",
      "  File \"/var/folders/_9/m2ryk39s2slc67mc6y5xdxcm0000gn/T/ipykernel_94141/4240530112.py\", line 28, in <module>\n",
      "    from transformers import BertForTokenClassification\n",
      "  File \"/Users/senghok/Documents/Internship 2A/code/venv/lib/python3.11/site-packages/transformers/utils/import_utils.py\", line 2045, in __getattr__\n",
      "    module = self._get_module(self._class_to_module[name])\n",
      "  File \"/Users/senghok/Documents/Internship 2A/code/venv/lib/python3.11/site-packages/transformers/utils/import_utils.py\", line 2073, in _get_module\n",
      "    return importlib.import_module(\".\" + module_name, self.__name__)\n",
      "  File \"/Applications/anaconda3/lib/python3.11/importlib/__init__.py\", line 126, in import_module\n",
      "    return _bootstrap._gcd_import(name[level:], package, level)\n",
      "  File \"/Users/senghok/Documents/Internship 2A/code/venv/lib/python3.11/site-packages/transformers/models/bert/modeling_bert.py\", line 44, in <module>\n",
      "    from ...modeling_utils import PreTrainedModel\n",
      "  File \"/Users/senghok/Documents/Internship 2A/code/venv/lib/python3.11/site-packages/transformers/modeling_utils.py\", line 73, in <module>\n",
      "    from .loss.loss_utils import LOSS_MAPPING\n",
      "  File \"/Users/senghok/Documents/Internship 2A/code/venv/lib/python3.11/site-packages/transformers/loss/loss_utils.py\", line 21, in <module>\n",
      "    from .loss_d_fine import DFineForObjectDetectionLoss\n",
      "  File \"/Users/senghok/Documents/Internship 2A/code/venv/lib/python3.11/site-packages/transformers/loss/loss_d_fine.py\", line 21, in <module>\n",
      "    from .loss_for_object_detection import (\n",
      "  File \"/Users/senghok/Documents/Internship 2A/code/venv/lib/python3.11/site-packages/transformers/loss/loss_for_object_detection.py\", line 32, in <module>\n",
      "    from transformers.image_transforms import center_to_corners_format\n",
      "  File \"/Users/senghok/Documents/Internship 2A/code/venv/lib/python3.11/site-packages/transformers/image_transforms.py\", line 47, in <module>\n",
      "    import tensorflow as tf\n",
      "  File \"/Users/senghok/Documents/Internship 2A/code/venv/lib/python3.11/site-packages/tensorflow/__init__.py\", line 49, in <module>\n",
      "    from tensorflow._api.v2 import __internal__\n",
      "  File \"/Users/senghok/Documents/Internship 2A/code/venv/lib/python3.11/site-packages/tensorflow/_api/v2/__internal__/__init__.py\", line 8, in <module>\n",
      "    from tensorflow._api.v2.__internal__ import autograph\n",
      "  File \"/Users/senghok/Documents/Internship 2A/code/venv/lib/python3.11/site-packages/tensorflow/_api/v2/__internal__/autograph/__init__.py\", line 8, in <module>\n",
      "    from tensorflow.python.autograph.core.ag_ctx import control_status_ctx # line: 34\n",
      "  File \"/Users/senghok/Documents/Internship 2A/code/venv/lib/python3.11/site-packages/tensorflow/python/autograph/core/ag_ctx.py\", line 21, in <module>\n",
      "    from tensorflow.python.autograph.utils import ag_logging\n",
      "  File \"/Users/senghok/Documents/Internship 2A/code/venv/lib/python3.11/site-packages/tensorflow/python/autograph/utils/__init__.py\", line 17, in <module>\n",
      "    from tensorflow.python.autograph.utils.context_managers import control_dependency_on_returns\n",
      "  File \"/Users/senghok/Documents/Internship 2A/code/venv/lib/python3.11/site-packages/tensorflow/python/autograph/utils/context_managers.py\", line 19, in <module>\n",
      "    from tensorflow.python.framework import ops\n",
      "  File \"/Users/senghok/Documents/Internship 2A/code/venv/lib/python3.11/site-packages/tensorflow/python/framework/ops.py\", line 62, in <module>\n",
      "    from tensorflow.python.framework import tensor as tensor_lib\n",
      "  File \"/Users/senghok/Documents/Internship 2A/code/venv/lib/python3.11/site-packages/tensorflow/python/framework/tensor.py\", line 35, in <module>\n",
      "    from tensorflow.python.framework import tensor_util\n",
      "  File \"/Users/senghok/Documents/Internship 2A/code/venv/lib/python3.11/site-packages/tensorflow/python/framework/tensor_util.py\", line 39, in <module>\n",
      "    from tensorflow.python.framework import fast_tensor_util\n"
     ]
    }
   ],
   "source": [
    "import numpy as np\n",
    "import pandas as pd\n",
    "from collections import Counter\n",
    "from nltk.tokenize import word_tokenize\n",
    "import seaborn as sns\n",
    "import collections\n",
    "from itertools import chain\n",
    "import random\n",
    "import copy\n",
    "import itertools\n",
    "import pandas as pd\n",
    "\n",
    "\n",
    "from sklearn.model_selection import train_test_split\n",
    "from sklearn.metrics import f1_score, accuracy_score, precision_score, recall_score\n",
    "from sklearn.metrics import confusion_matrix, multilabel_confusion_matrix\n",
    "from sklearn.preprocessing import MultiLabelBinarizer\n",
    "from skmultilearn.model_selection import iterative_train_test_split\n",
    "\n",
    "import torch\n",
    "from torch import nn\n",
    "from torch.utils.data import Dataset, DataLoader\n",
    "from torch.utils.data import RandomSampler, SequentialSampler\n",
    "from torch.utils.data import TensorDataset, random_split\n",
    "from torch.optim import AdamW\n",
    "from torch.nn.utils.rnn import pad_sequence\n",
    "from transformers import BertTokenizer\n",
    "from transformers import BertForTokenClassification\n",
    "from transformers import get_linear_schedule_with_warmup\n",
    "\n",
    "import matplotlib.pyplot as plt\n",
    "import seaborn as sns\n",
    "\n",
    "\n",
    "\n",
    "# set the option to display all columns\n",
    "pd.set_option('display.max_columns', None)"
   ]
  },
  {
   "cell_type": "code",
   "execution_count": 2,
   "metadata": {},
   "outputs": [],
   "source": [
    "from tensorflow.keras.preprocessing.text import Tokenizer\n",
    "from tensorflow.keras.preprocessing.sequence import pad_sequences\n",
    "from keras.models import Sequential\n",
    "from keras.layers import Embedding, Bidirectional, LSTM, TimeDistributed, Dense\n"
   ]
  },
  {
   "cell_type": "markdown",
   "metadata": {},
   "source": [
    "### Import clean data"
   ]
  },
  {
   "cell_type": "code",
   "execution_count": 3,
   "metadata": {},
   "outputs": [],
   "source": [
    "train_df = pd.read_csv('./data/train.csv')\n",
    "valid_df = pd.read_csv('./data/valid.csv')\n",
    "test_df = pd.read_csv('./data/test.csv')"
   ]
  },
  {
   "cell_type": "code",
   "execution_count": 4,
   "metadata": {},
   "outputs": [
    {
     "name": "stdout",
     "output_type": "stream",
     "text": [
      "Train Dataset size: 34279\n",
      "Valid Data Size: 3808\n"
     ]
    }
   ],
   "source": [
    "\n",
    "print(f\"Train Dataset size: {len(train_df)}\")\n",
    "print(f\"Valid Data Size: {len(valid_df)}\")"
   ]
  },
  {
   "cell_type": "code",
   "execution_count": 5,
   "metadata": {},
   "outputs": [
    {
     "name": "stdout",
     "output_type": "stream",
     "text": [
      "TRAIN Dataset: (34279, 2)\n",
      "VALID Dataset: (3808, 2)\n",
      "TEST Dataset: (9520, 2)\n"
     ]
    }
   ],
   "source": [
    "\n",
    "print(\"TRAIN Dataset: {}\".format(train_df.shape))\n",
    "print(\"VALID Dataset: {}\".format(valid_df.shape))\n",
    "print(\"TEST Dataset: {}\".format(test_df.shape))"
   ]
  },
  {
   "cell_type": "code",
   "execution_count": 6,
   "metadata": {},
   "outputs": [
    {
     "data": {
      "text/html": [
       "<div>\n",
       "<style scoped>\n",
       "    .dataframe tbody tr th:only-of-type {\n",
       "        vertical-align: middle;\n",
       "    }\n",
       "\n",
       "    .dataframe tbody tr th {\n",
       "        vertical-align: top;\n",
       "    }\n",
       "\n",
       "    .dataframe thead th {\n",
       "        text-align: right;\n",
       "    }\n",
       "</style>\n",
       "<table border=\"1\" class=\"dataframe\">\n",
       "  <thead>\n",
       "    <tr style=\"text-align: right;\">\n",
       "      <th></th>\n",
       "      <th>sentence</th>\n",
       "      <th>labels</th>\n",
       "    </tr>\n",
       "  </thead>\n",
       "  <tbody>\n",
       "    <tr>\n",
       "      <th>0</th>\n",
       "      <td>Families of soldiers killed in the conflict jo...</td>\n",
       "      <td>O,O,O,O,O,O,O,O,O,O,O,O,O,O,O,O,O,O,B-per,O,O,...</td>\n",
       "    </tr>\n",
       "    <tr>\n",
       "      <th>1</th>\n",
       "      <td>Police put the number of marchers at 10,000 wh...</td>\n",
       "      <td>O,O,O,O,O,O,O,O,O,O,O,O,O,O,O</td>\n",
       "    </tr>\n",
       "    <tr>\n",
       "      <th>2</th>\n",
       "      <td>The party is divided over Britain 's participa...</td>\n",
       "      <td>O,O,O,O,O,B-gpe,O,O,O,O,B-geo,O,O,O,O,O,O,O,B-...</td>\n",
       "    </tr>\n",
       "    <tr>\n",
       "      <th>3</th>\n",
       "      <td>Two Germans and four Nigerian oil workers were...</td>\n",
       "      <td>O,B-gpe,O,O,B-gpe,O,O,O,O,O,O,O,O,O,O,O,O,O,O,...</td>\n",
       "    </tr>\n",
       "    <tr>\n",
       "      <th>4</th>\n",
       "      <td>The German firm works as a sub-contractor for ...</td>\n",
       "      <td>O,B-gpe,O,O,O,O,O,O,B-org,O</td>\n",
       "    </tr>\n",
       "  </tbody>\n",
       "</table>\n",
       "</div>"
      ],
      "text/plain": [
       "                                            sentence  \\\n",
       "0  Families of soldiers killed in the conflict jo...   \n",
       "1  Police put the number of marchers at 10,000 wh...   \n",
       "2  The party is divided over Britain 's participa...   \n",
       "3  Two Germans and four Nigerian oil workers were...   \n",
       "4  The German firm works as a sub-contractor for ...   \n",
       "\n",
       "                                              labels  \n",
       "0  O,O,O,O,O,O,O,O,O,O,O,O,O,O,O,O,O,O,B-per,O,O,...  \n",
       "1                      O,O,O,O,O,O,O,O,O,O,O,O,O,O,O  \n",
       "2  O,O,O,O,O,B-gpe,O,O,O,O,B-geo,O,O,O,O,O,O,O,B-...  \n",
       "3  O,B-gpe,O,O,B-gpe,O,O,O,O,O,O,O,O,O,O,O,O,O,O,...  \n",
       "4                        O,B-gpe,O,O,O,O,O,O,B-org,O  "
      ]
     },
     "execution_count": 6,
     "metadata": {},
     "output_type": "execute_result"
    }
   ],
   "source": [
    "train_df.head()"
   ]
  },
  {
   "cell_type": "code",
   "execution_count": 7,
   "metadata": {},
   "outputs": [
    {
     "data": {
      "text/plain": [
       "'O,B-gpe,O,O,B-gpe,O,O,O,O,O,O,O,O,O,O,O,O,O,O,B-geo,O,O,O,B-geo,O,O'"
      ]
     },
     "execution_count": 7,
     "metadata": {},
     "output_type": "execute_result"
    }
   ],
   "source": [
    "train_df[\"labels\"].iloc[3]"
   ]
  },
  {
   "cell_type": "code",
   "execution_count": 8,
   "metadata": {},
   "outputs": [
    {
     "data": {
      "text/plain": [
       "\"Two Germans and four Nigerian oil workers were kidnapped by armed militants during a raid on a boat in Nigeria 's southern oil-rich Delta region .\""
      ]
     },
     "execution_count": 8,
     "metadata": {},
     "output_type": "execute_result"
    }
   ],
   "source": [
    "train_df[\"sentence\"].iloc[3]"
   ]
  },
  {
   "cell_type": "code",
   "execution_count": 9,
   "metadata": {},
   "outputs": [],
   "source": [
    "train_df = train_df.reset_index(drop=True)\n",
    "valid_df = valid_df.reset_index(drop=True)\n",
    "test_df = test_df.reset_index(drop=True)"
   ]
  },
  {
   "cell_type": "code",
   "execution_count": 10,
   "metadata": {},
   "outputs": [
    {
     "data": {
      "text/html": [
       "<div>\n",
       "<style scoped>\n",
       "    .dataframe tbody tr th:only-of-type {\n",
       "        vertical-align: middle;\n",
       "    }\n",
       "\n",
       "    .dataframe tbody tr th {\n",
       "        vertical-align: top;\n",
       "    }\n",
       "\n",
       "    .dataframe thead th {\n",
       "        text-align: right;\n",
       "    }\n",
       "</style>\n",
       "<table border=\"1\" class=\"dataframe\">\n",
       "  <thead>\n",
       "    <tr style=\"text-align: right;\">\n",
       "      <th></th>\n",
       "      <th>sentence</th>\n",
       "      <th>labels</th>\n",
       "    </tr>\n",
       "  </thead>\n",
       "  <tbody>\n",
       "    <tr>\n",
       "      <th>0</th>\n",
       "      <td>Families of soldiers killed in the conflict jo...</td>\n",
       "      <td>O,O,O,O,O,O,O,O,O,O,O,O,O,O,O,O,O,O,B-per,O,O,...</td>\n",
       "    </tr>\n",
       "    <tr>\n",
       "      <th>1</th>\n",
       "      <td>Police put the number of marchers at 10,000 wh...</td>\n",
       "      <td>O,O,O,O,O,O,O,O,O,O,O,O,O,O,O</td>\n",
       "    </tr>\n",
       "    <tr>\n",
       "      <th>2</th>\n",
       "      <td>The party is divided over Britain 's participa...</td>\n",
       "      <td>O,O,O,O,O,B-gpe,O,O,O,O,B-geo,O,O,O,O,O,O,O,B-...</td>\n",
       "    </tr>\n",
       "  </tbody>\n",
       "</table>\n",
       "</div>"
      ],
      "text/plain": [
       "                                            sentence  \\\n",
       "0  Families of soldiers killed in the conflict jo...   \n",
       "1  Police put the number of marchers at 10,000 wh...   \n",
       "2  The party is divided over Britain 's participa...   \n",
       "\n",
       "                                              labels  \n",
       "0  O,O,O,O,O,O,O,O,O,O,O,O,O,O,O,O,O,O,B-per,O,O,...  \n",
       "1                      O,O,O,O,O,O,O,O,O,O,O,O,O,O,O  \n",
       "2  O,O,O,O,O,B-gpe,O,O,O,O,B-geo,O,O,O,O,O,O,O,B-...  "
      ]
     },
     "execution_count": 10,
     "metadata": {},
     "output_type": "execute_result"
    }
   ],
   "source": [
    "train_df.head(3)"
   ]
  },
  {
   "cell_type": "code",
   "execution_count": 11,
   "metadata": {},
   "outputs": [
    {
     "data": {
      "text/plain": [
       "['B-geo',\n",
       " 'B-gpe',\n",
       " 'B-org',\n",
       " 'B-per',\n",
       " 'B-tim',\n",
       " 'I-geo',\n",
       " 'I-org',\n",
       " 'I-per',\n",
       " 'I-tim',\n",
       " 'O']"
      ]
     },
     "execution_count": 11,
     "metadata": {},
     "output_type": "execute_result"
    }
   ],
   "source": [
    "all_labels = train_df['labels'].apply(lambda x: x.split(','))\n",
    "all_labels = sorted(set(label for labels in all_labels for label in labels ))\n",
    "all_labels"
   ]
  },
  {
   "cell_type": "markdown",
   "metadata": {},
   "source": [
    "### One hot encoding for all the labels in training , validation and testing dataset"
   ]
  },
  {
   "cell_type": "code",
   "execution_count": 12,
   "metadata": {},
   "outputs": [],
   "source": [
    "\n",
    "# Step 2: Initialize the MultiLabelBinarizer with all known classes\n",
    "mlb = MultiLabelBinarizer(classes=sorted(all_labels))\n",
    "# Step 3: Transform per-sentence label sets\n",
    "unique_train_labels_ohe = mlb.fit_transform(\n",
    "    train_df['labels'].apply(lambda x: set(x.split(',')))\n",
    ")"
   ]
  },
  {
   "cell_type": "code",
   "execution_count": 13,
   "metadata": {},
   "outputs": [
    {
     "data": {
      "text/plain": [
       "(34279, 10)"
      ]
     },
     "execution_count": 13,
     "metadata": {},
     "output_type": "execute_result"
    }
   ],
   "source": [
    "unique_train_labels_ohe.shape"
   ]
  },
  {
   "cell_type": "code",
   "execution_count": null,
   "metadata": {},
   "outputs": [],
   "source": []
  },
  {
   "cell_type": "code",
   "execution_count": 14,
   "metadata": {},
   "outputs": [],
   "source": [
    "\n",
    "\n",
    "# Validation\n",
    "unique_valid_labels_ohe = mlb.transform(\n",
    "    valid_df['labels'].apply(lambda x: set(x.split(',')))\n",
    ")\n",
    "\n",
    "# Testing\n",
    "unique_test_labels_ohe = mlb.transform(\n",
    "    test_df['labels'].apply(lambda x: set(x.split(',')))\n",
    ")\n"
   ]
  },
  {
   "cell_type": "code",
   "execution_count": 15,
   "metadata": {},
   "outputs": [
    {
     "name": "stdout",
     "output_type": "stream",
     "text": [
      "Training Data\n",
      "==============\n",
      "Total num of training samples: 34279\n",
      "Total num of each label: [17483  9207 11288  9674 12369  4313  6120  7614  3090 34273]\n",
      "Proportions of each label: [0.51002071 0.2685901  0.32929782 0.2822136  0.36083316 0.12582047\n",
      " 0.17853496 0.2221185  0.09014265 0.99982497]\n",
      "\n",
      "Validation Data\n",
      "==============\n",
      "Total num of validation samples: 3808\n",
      "Total num of each label: [1943 1023 1254 1074 1374  492  646  855  308 3808]\n",
      "Proportions of each label: [0.5102416  0.26864496 0.32930672 0.28203782 0.36081933 0.12920168\n",
      " 0.16964286 0.22452731 0.08088235 1.        ]\n",
      "\n",
      "Testing Data\n",
      "===============\n",
      "Total num of training samples: 9520\n",
      "Total num of each label: [4857 2558 3135 2685 3436 1210 1683 2124  834 9520]\n",
      "Proportions of each label: [0.51018908 0.26869748 0.32930672 0.28203782 0.36092437 0.12710084\n",
      " 0.17678571 0.22310924 0.08760504 1.        ]\n"
     ]
    }
   ],
   "source": [
    "# compute number of samples\n",
    "num_train_samples = unique_train_labels_ohe.shape[0]\n",
    "num_valid_samples = unique_valid_labels_ohe.shape[0]\n",
    "num_test_samples = unique_test_labels_ohe.shape[0]\n",
    "\n",
    "# compute number of samples for each unique label\n",
    "train_labels_count = unique_train_labels_ohe.sum(axis=0)\n",
    "valid_labels_count = unique_valid_labels_ohe.sum(axis=0)\n",
    "test_labels_count = unique_test_labels_ohe.sum(axis=0)\n",
    "\n",
    "# compute proportion of samples for each unique label\n",
    "prop_train_labels = train_labels_count/num_train_samples\n",
    "prop_valid_labels = valid_labels_count/num_valid_samples\n",
    "prop_test_labels = test_labels_count/num_test_samples\n",
    "\n",
    "\n",
    "print(\"Training Data\")\n",
    "print(\"==============\")\n",
    "print(f\"Total num of training samples: {num_train_samples}\")\n",
    "print(f\"Total num of each label: {train_labels_count}\")\n",
    "print(f\"Proportions of each label: {prop_train_labels}\\n\")\n",
    "\n",
    "print(\"Validation Data\")\n",
    "print(\"==============\")\n",
    "print(f\"Total num of validation samples: {num_valid_samples}\")\n",
    "print(f\"Total num of each label: {valid_labels_count}\")\n",
    "print(f\"Proportions of each label: {prop_valid_labels}\\n\")\n",
    "\n",
    "print(\"Testing Data\")\n",
    "print(\"===============\")\n",
    "print(f\"Total num of training samples: {num_test_samples}\")\n",
    "print(f\"Total num of each label: {test_labels_count}\")\n",
    "print(f\"Proportions of each label: {prop_test_labels}\")"
   ]
  },
  {
   "cell_type": "markdown",
   "metadata": {},
   "source": [
    "### Create the proportion dataFrame for training, validation and testing data"
   ]
  },
  {
   "cell_type": "code",
   "execution_count": 16,
   "metadata": {},
   "outputs": [],
   "source": [
    "label2id = {k:v+1 for v,k in enumerate(all_labels)}\n",
    "id2label = {k+1:v for k,v in enumerate(all_labels)}"
   ]
  },
  {
   "cell_type": "code",
   "execution_count": 17,
   "metadata": {},
   "outputs": [
    {
     "data": {
      "text/html": [
       "<div>\n",
       "<style scoped>\n",
       "    .dataframe tbody tr th:only-of-type {\n",
       "        vertical-align: middle;\n",
       "    }\n",
       "\n",
       "    .dataframe tbody tr th {\n",
       "        vertical-align: top;\n",
       "    }\n",
       "\n",
       "    .dataframe thead th {\n",
       "        text-align: right;\n",
       "    }\n",
       "</style>\n",
       "<table border=\"1\" class=\"dataframe\">\n",
       "  <thead>\n",
       "    <tr style=\"text-align: right;\">\n",
       "      <th></th>\n",
       "      <th>labels</th>\n",
       "      <th>train</th>\n",
       "      <th>valid</th>\n",
       "      <th>test</th>\n",
       "    </tr>\n",
       "  </thead>\n",
       "  <tbody>\n",
       "    <tr>\n",
       "      <th>0</th>\n",
       "      <td>B-geo</td>\n",
       "      <td>0.510021</td>\n",
       "      <td>0.510242</td>\n",
       "      <td>0.510189</td>\n",
       "    </tr>\n",
       "    <tr>\n",
       "      <th>1</th>\n",
       "      <td>B-gpe</td>\n",
       "      <td>0.268590</td>\n",
       "      <td>0.268645</td>\n",
       "      <td>0.268697</td>\n",
       "    </tr>\n",
       "    <tr>\n",
       "      <th>2</th>\n",
       "      <td>B-org</td>\n",
       "      <td>0.329298</td>\n",
       "      <td>0.329307</td>\n",
       "      <td>0.329307</td>\n",
       "    </tr>\n",
       "    <tr>\n",
       "      <th>3</th>\n",
       "      <td>B-per</td>\n",
       "      <td>0.282214</td>\n",
       "      <td>0.282038</td>\n",
       "      <td>0.282038</td>\n",
       "    </tr>\n",
       "    <tr>\n",
       "      <th>4</th>\n",
       "      <td>B-tim</td>\n",
       "      <td>0.360833</td>\n",
       "      <td>0.360819</td>\n",
       "      <td>0.360924</td>\n",
       "    </tr>\n",
       "    <tr>\n",
       "      <th>5</th>\n",
       "      <td>I-geo</td>\n",
       "      <td>0.125820</td>\n",
       "      <td>0.129202</td>\n",
       "      <td>0.127101</td>\n",
       "    </tr>\n",
       "    <tr>\n",
       "      <th>6</th>\n",
       "      <td>I-org</td>\n",
       "      <td>0.178535</td>\n",
       "      <td>0.169643</td>\n",
       "      <td>0.176786</td>\n",
       "    </tr>\n",
       "    <tr>\n",
       "      <th>7</th>\n",
       "      <td>I-per</td>\n",
       "      <td>0.222118</td>\n",
       "      <td>0.224527</td>\n",
       "      <td>0.223109</td>\n",
       "    </tr>\n",
       "    <tr>\n",
       "      <th>8</th>\n",
       "      <td>I-tim</td>\n",
       "      <td>0.090143</td>\n",
       "      <td>0.080882</td>\n",
       "      <td>0.087605</td>\n",
       "    </tr>\n",
       "    <tr>\n",
       "      <th>9</th>\n",
       "      <td>O</td>\n",
       "      <td>0.999825</td>\n",
       "      <td>1.000000</td>\n",
       "      <td>1.000000</td>\n",
       "    </tr>\n",
       "  </tbody>\n",
       "</table>\n",
       "</div>"
      ],
      "text/plain": [
       "  labels     train     valid      test\n",
       "0  B-geo  0.510021  0.510242  0.510189\n",
       "1  B-gpe  0.268590  0.268645  0.268697\n",
       "2  B-org  0.329298  0.329307  0.329307\n",
       "3  B-per  0.282214  0.282038  0.282038\n",
       "4  B-tim  0.360833  0.360819  0.360924\n",
       "5  I-geo  0.125820  0.129202  0.127101\n",
       "6  I-org  0.178535  0.169643  0.176786\n",
       "7  I-per  0.222118  0.224527  0.223109\n",
       "8  I-tim  0.090143  0.080882  0.087605\n",
       "9      O  0.999825  1.000000  1.000000"
      ]
     },
     "metadata": {},
     "output_type": "display_data"
    }
   ],
   "source": [
    "# create dict for proportions of each label\n",
    "prop_data = {\n",
    "    'labels' : list(label2id.keys()),\n",
    "    'train' : prop_train_labels,\n",
    "    'valid' : prop_valid_labels,\n",
    "    'test' : prop_test_labels\n",
    "}\n",
    "\n",
    "\n",
    "prop_df = pd.DataFrame.from_dict(prop_data)\n",
    "\n",
    "\n",
    "display(prop_df)"
   ]
  },
  {
   "cell_type": "code",
   "execution_count": 18,
   "metadata": {},
   "outputs": [],
   "source": [
    "# fig, ax = plt.subplots(figsize=(10, 8))\n",
    "# g = sns.barplot(\n",
    "#     data=prop_df.melt(id_vars = [\"labels\"], value_vars=[\"train\", \"valid\", \"test\"]),\n",
    "#     y=\"value\", x=\"v\n",
    "# \n",
    "# \n",
    "# \n",
    "# ariable\", hue=\"labels\", errorbar=None\n",
    "# )\n",
    "\n",
    "# # for legend text\n",
    "# plt.setp(g.get_legend().get_texts(), fontsize='10')  \n",
    " \n",
    "# # for legend title\n",
    "# plt.setp(g.get_legend().get_title(), fontsize='10')\n",
    "# plt.title(\"Proportions of sentences containing each label - training, validation and testing dataset\")\n",
    "# plt.savefig('./images/label_proportions.png', bbox_inches='tight', dpi=300)\n",
    "# plt.show()"
   ]
  },
  {
   "cell_type": "markdown",
   "metadata": {},
   "source": [
    "### Check distributions of 2nd order"
   ]
  },
  {
   "cell_type": "code",
   "execution_count": 19,
   "metadata": {},
   "outputs": [],
   "source": [
    "# from collections import Counter\n",
    "# from skmultilearn.model_selection.measures import get_combination_wise_output_matrix\n",
    "\n",
    "# label_combination_df = pd.DataFrame({\n",
    "#     'train': Counter(str(combination) for row in get_combination_wise_output_matrix(unique_train_labels_ohe, order=2) for combination in row),\n",
    "#     'valid': Counter(str(combination) for row in get_combination_wise_output_matrix(unique_valid_labels_ohe, order=2) for combination in row),\n",
    "#     'test' : Counter(str(combination) for row in get_combination_wise_output_matrix(unique_test_labels_ohe, order=2) for combination in row),\n",
    "# }).T.fillna(0.0).astype('float')\n",
    "\n",
    "# # compute proportions\n",
    "# label_combination_df.loc['train'] = label_combination_df.loc['train']/num_train_samples\n",
    "# label_combination_df.loc['valid'] = label_combination_df.loc['valid']/num_valid_samples\n",
    "# label_combination_df.loc['test'] = label_combination_df.loc['test']/num_test_samples\n",
    "\n",
    "# label_combination_df"
   ]
  },
  {
   "cell_type": "code",
   "execution_count": 20,
   "metadata": {},
   "outputs": [],
   "source": [
    "# from collections import Counter\n",
    "# from skmultilearn.model_selection.measures import get_combination_wise_output_matrix\n",
    "\n",
    "# label_combination_df = pd.DataFrame({\n",
    "#     'train': Counter(str(combination) for row in get_combination_wise_output_matrix(unique_train_labels_ohe, order=3) for combination in row),\n",
    "#     'valid': Counter(str(combination) for row in get_combination_wise_output_matrix(unique_valid_labels_ohe, order=3) for combination in row),\n",
    "#     'test' : Counter(str(combination) for row in get_combination_wise_output_matrix(unique_test_labels_ohe, order=3) for combination in row),\n",
    "# }).T.fillna(0.0).astype('float')\n",
    "\n",
    "# # compute proportions\n",
    "# label_combination_df.loc['train'] = label_combination_df.loc['train']/num_train_samples\n",
    "# label_combination_df.loc['valid'] = label_combination_df.loc['valid']/num_valid_samples\n",
    "# label_combination_df.loc['test'] = label_combination_df.loc['test']/num_test_samples\n",
    "\n",
    "# label_combination_df"
   ]
  },
  {
   "cell_type": "markdown",
   "metadata": {},
   "source": [
    "### Baseline model\n",
    "### RNN + Softmax"
   ]
  },
  {
   "cell_type": "code",
   "execution_count": 83,
   "metadata": {},
   "outputs": [],
   "source": []
  },
  {
   "cell_type": "markdown",
   "metadata": {},
   "source": [
    "### Tokenization\n",
    "There are many tokenization methods  including:\n",
    "<li>\n",
    "Bert Tokenizer \n",
    "</li>\n",
    "<li>\n",
    "Byte-Pair Encoding (BPE) - Robust to unknown words\n",
    "</li>\n",
    "\n",
    "### Word tokenization"
   ]
  },
  {
   "cell_type": "code",
   "execution_count": 21,
   "metadata": {},
   "outputs": [],
   "source": [
    "# Tokenize sentences (whitespace)\n",
    "def tokenize(sentence):\n",
    "    return sentence.strip().split()\n",
    "# Split labels\n",
    "def split_labels(label_str):\n",
    "    return label_str.strip().split(',')\n"
   ]
  },
  {
   "cell_type": "code",
   "execution_count": 22,
   "metadata": {},
   "outputs": [],
   "source": [
    "\n",
    "train_df['tokens'] = train_df['sentence'].apply(tokenize)\n",
    "train_df['label_list'] = train_df['labels'].apply(split_labels)"
   ]
  },
  {
   "cell_type": "code",
   "execution_count": 23,
   "metadata": {},
   "outputs": [
    {
     "data": {
      "text/html": [
       "<div>\n",
       "<style scoped>\n",
       "    .dataframe tbody tr th:only-of-type {\n",
       "        vertical-align: middle;\n",
       "    }\n",
       "\n",
       "    .dataframe tbody tr th {\n",
       "        vertical-align: top;\n",
       "    }\n",
       "\n",
       "    .dataframe thead th {\n",
       "        text-align: right;\n",
       "    }\n",
       "</style>\n",
       "<table border=\"1\" class=\"dataframe\">\n",
       "  <thead>\n",
       "    <tr style=\"text-align: right;\">\n",
       "      <th></th>\n",
       "      <th>sentence</th>\n",
       "      <th>labels</th>\n",
       "      <th>tokens</th>\n",
       "      <th>label_list</th>\n",
       "    </tr>\n",
       "  </thead>\n",
       "  <tbody>\n",
       "    <tr>\n",
       "      <th>600</th>\n",
       "      <td>The visit by Assistant Secretary of State for ...</td>\n",
       "      <td>O,O,O,O,O,O,B-org,I-org,I-org,I-org,I-org,I-or...</td>\n",
       "      <td>[The, visit, by, Assistant, Secretary, of, Sta...</td>\n",
       "      <td>[O, O, O, O, O, O, B-org, I-org, I-org, I-org,...</td>\n",
       "    </tr>\n",
       "    <tr>\n",
       "      <th>635</th>\n",
       "      <td>Strong performances in construction and manufa...</td>\n",
       "      <td>O,O,O,O,O,O,O,O,O,O,O,O,O,O,O,O,O,O,O,O,O,O,O,...</td>\n",
       "      <td>[Strong, performances, in, construction, and, ...</td>\n",
       "      <td>[O, O, O, O, O, O, O, O, O, O, O, O, O, O, O, ...</td>\n",
       "    </tr>\n",
       "    <tr>\n",
       "      <th>803</th>\n",
       "      <td>After failing in the Korean War ( 1950 - 53 ) ...</td>\n",
       "      <td>O,O,O,O,O,O,O,B-tim,I-tim,I-tim,O,O,O,O,B-geo,...</td>\n",
       "      <td>[After, failing, in, the, Korean, War, (, 1950...</td>\n",
       "      <td>[O, O, O, O, O, O, O, B-tim, I-tim, I-tim, O, ...</td>\n",
       "    </tr>\n",
       "    <tr>\n",
       "      <th>1140</th>\n",
       "      <td>Former U.S. Marine General John J. \" Jack \" Sh...</td>\n",
       "      <td>O,B-org,I-org,I-org,B-per,I-per,I-per,I-per,I-...</td>\n",
       "      <td>[Former, U.S., Marine, General, John, J., \", J...</td>\n",
       "      <td>[O, B-org, I-org, I-org, B-per, I-per, I-per, ...</td>\n",
       "    </tr>\n",
       "    <tr>\n",
       "      <th>4348</th>\n",
       "      <td>But the Honest Man explained that as he was me...</td>\n",
       "      <td>O,O,O,O,O,O,O,O,O,O,O,O,O,O,O,O,O,O,O,O,O,O,O,...</td>\n",
       "      <td>[But, the, Honest, Man, explained, that, as, h...</td>\n",
       "      <td>[O, O, O, O, O, O, O, O, O, O, O, O, O, O, O, ...</td>\n",
       "    </tr>\n",
       "    <tr>\n",
       "      <th>...</th>\n",
       "      <td>...</td>\n",
       "      <td>...</td>\n",
       "      <td>...</td>\n",
       "      <td>...</td>\n",
       "    </tr>\n",
       "    <tr>\n",
       "      <th>30696</th>\n",
       "      <td>Mourners and officials of the Socialist Party ...</td>\n",
       "      <td>O,O,O,O,O,B-org,I-org,O,O,B-per,O,O,O,O,O,O,O,...</td>\n",
       "      <td>[Mourners, and, officials, of, the, Socialist,...</td>\n",
       "      <td>[O, O, O, O, O, B-org, I-org, O, O, B-per, O, ...</td>\n",
       "    </tr>\n",
       "    <tr>\n",
       "      <th>30796</th>\n",
       "      <td>In an interview broadcast Sunday on U.S. telev...</td>\n",
       "      <td>O,O,O,O,B-tim,O,B-geo,O,O,O,B-org,O,O,O,O,O,B-...</td>\n",
       "      <td>[In, an, interview, broadcast, Sunday, on, U.S...</td>\n",
       "      <td>[O, O, O, O, B-tim, O, B-geo, O, O, O, B-org, ...</td>\n",
       "    </tr>\n",
       "    <tr>\n",
       "      <th>32287</th>\n",
       "      <td>Following its heyday as a global maritime powe...</td>\n",
       "      <td>O,O,O,O,O,O,O,O,O,O,B-tim,I-tim,I-tim,O,O,B-pe...</td>\n",
       "      <td>[Following, its, heyday, as, a, global, mariti...</td>\n",
       "      <td>[O, O, O, O, O, O, O, O, O, O, B-tim, I-tim, I...</td>\n",
       "    </tr>\n",
       "    <tr>\n",
       "      <th>32874</th>\n",
       "      <td>Renewed activity in the mining sector , the so...</td>\n",
       "      <td>O,O,O,O,O,O,O,O,O,O,O,O,O,O,O,B-geo,O,O,O,O,O,...</td>\n",
       "      <td>[Renewed, activity, in, the, mining, sector, ,...</td>\n",
       "      <td>[O, O, O, O, O, O, O, O, O, O, O, O, O, O, O, ...</td>\n",
       "    </tr>\n",
       "    <tr>\n",
       "      <th>34145</th>\n",
       "      <td>Two federal policemen walk past crosses standi...</td>\n",
       "      <td>O,O,O,O,O,O,O,O,O,O,O,O,O,O,O,O,O,B-tim,O,B-ge...</td>\n",
       "      <td>[Two, federal, policemen, walk, past, crosses,...</td>\n",
       "      <td>[O, O, O, O, O, O, O, O, O, O, O, O, O, O, O, ...</td>\n",
       "    </tr>\n",
       "  </tbody>\n",
       "</table>\n",
       "<p>74 rows × 4 columns</p>\n",
       "</div>"
      ],
      "text/plain": [
       "                                                sentence  \\\n",
       "600    The visit by Assistant Secretary of State for ...   \n",
       "635    Strong performances in construction and manufa...   \n",
       "803    After failing in the Korean War ( 1950 - 53 ) ...   \n",
       "1140   Former U.S. Marine General John J. \" Jack \" Sh...   \n",
       "4348   But the Honest Man explained that as he was me...   \n",
       "...                                                  ...   \n",
       "30696  Mourners and officials of the Socialist Party ...   \n",
       "30796  In an interview broadcast Sunday on U.S. telev...   \n",
       "32287  Following its heyday as a global maritime powe...   \n",
       "32874  Renewed activity in the mining sector , the so...   \n",
       "34145  Two federal policemen walk past crosses standi...   \n",
       "\n",
       "                                                  labels  \\\n",
       "600    O,O,O,O,O,O,B-org,I-org,I-org,I-org,I-org,I-or...   \n",
       "635    O,O,O,O,O,O,O,O,O,O,O,O,O,O,O,O,O,O,O,O,O,O,O,...   \n",
       "803    O,O,O,O,O,O,O,B-tim,I-tim,I-tim,O,O,O,O,B-geo,...   \n",
       "1140   O,B-org,I-org,I-org,B-per,I-per,I-per,I-per,I-...   \n",
       "4348   O,O,O,O,O,O,O,O,O,O,O,O,O,O,O,O,O,O,O,O,O,O,O,...   \n",
       "...                                                  ...   \n",
       "30696  O,O,O,O,O,B-org,I-org,O,O,B-per,O,O,O,O,O,O,O,...   \n",
       "30796  O,O,O,O,B-tim,O,B-geo,O,O,O,B-org,O,O,O,O,O,B-...   \n",
       "32287  O,O,O,O,O,O,O,O,O,O,B-tim,I-tim,I-tim,O,O,B-pe...   \n",
       "32874  O,O,O,O,O,O,O,O,O,O,O,O,O,O,O,B-geo,O,O,O,O,O,...   \n",
       "34145  O,O,O,O,O,O,O,O,O,O,O,O,O,O,O,O,O,B-tim,O,B-ge...   \n",
       "\n",
       "                                                  tokens  \\\n",
       "600    [The, visit, by, Assistant, Secretary, of, Sta...   \n",
       "635    [Strong, performances, in, construction, and, ...   \n",
       "803    [After, failing, in, the, Korean, War, (, 1950...   \n",
       "1140   [Former, U.S., Marine, General, John, J., \", J...   \n",
       "4348   [But, the, Honest, Man, explained, that, as, h...   \n",
       "...                                                  ...   \n",
       "30696  [Mourners, and, officials, of, the, Socialist,...   \n",
       "30796  [In, an, interview, broadcast, Sunday, on, U.S...   \n",
       "32287  [Following, its, heyday, as, a, global, mariti...   \n",
       "32874  [Renewed, activity, in, the, mining, sector, ,...   \n",
       "34145  [Two, federal, policemen, walk, past, crosses,...   \n",
       "\n",
       "                                              label_list  \n",
       "600    [O, O, O, O, O, O, B-org, I-org, I-org, I-org,...  \n",
       "635    [O, O, O, O, O, O, O, O, O, O, O, O, O, O, O, ...  \n",
       "803    [O, O, O, O, O, O, O, B-tim, I-tim, I-tim, O, ...  \n",
       "1140   [O, B-org, I-org, I-org, B-per, I-per, I-per, ...  \n",
       "4348   [O, O, O, O, O, O, O, O, O, O, O, O, O, O, O, ...  \n",
       "...                                                  ...  \n",
       "30696  [O, O, O, O, O, B-org, I-org, O, O, B-per, O, ...  \n",
       "30796  [O, O, O, O, B-tim, O, B-geo, O, O, O, B-org, ...  \n",
       "32287  [O, O, O, O, O, O, O, O, O, O, B-tim, I-tim, I...  \n",
       "32874  [O, O, O, O, O, O, O, O, O, O, O, O, O, O, O, ...  \n",
       "34145  [O, O, O, O, O, O, O, O, O, O, O, O, O, O, O, ...  \n",
       "\n",
       "[74 rows x 4 columns]"
      ]
     },
     "execution_count": 23,
     "metadata": {},
     "output_type": "execute_result"
    }
   ],
   "source": [
    "train_df[train_df[\"tokens\"].apply(len) >50]\n",
    "\n"
   ]
  },
  {
   "cell_type": "markdown",
   "metadata": {},
   "source": [
    "### ID tokenization"
   ]
  },
  {
   "cell_type": "markdown",
   "metadata": {},
   "source": [
    "### We can use Text vectorization\n",
    "\n",
    "# Text vectorization consiste of parts:\n",
    "<li>\n",
    "    Standardization\n",
    "</li>\n",
    "<li>\n",
    "    Tokenization\n",
    "</li>\n",
    "<li>\n",
    "    Vocabulary building\n",
    "</li>"
   ]
  },
  {
   "cell_type": "markdown",
   "metadata": {},
   "source": [
    "### Vocabulary"
   ]
  },
  {
   "cell_type": "markdown",
   "metadata": {},
   "source": [
    "### Necessary dictionaries for encoding and decoding phase"
   ]
  },
  {
   "cell_type": "code",
   "execution_count": 24,
   "metadata": {},
   "outputs": [],
   "source": [
    "\n",
    "label2id = {k:v+1 for v,k in enumerate(all_labels)}\n",
    "id2label = {k+1:v for k,v in enumerate(all_labels)}"
   ]
  },
  {
   "cell_type": "code",
   "execution_count": 25,
   "metadata": {},
   "outputs": [],
   "source": [
    "label2id[\"<PAD>\"] = 0"
   ]
  },
  {
   "cell_type": "code",
   "execution_count": 26,
   "metadata": {},
   "outputs": [
    {
     "data": {
      "text/plain": [
       "{'B-geo': 1,\n",
       " 'B-gpe': 2,\n",
       " 'B-org': 3,\n",
       " 'B-per': 4,\n",
       " 'B-tim': 5,\n",
       " 'I-geo': 6,\n",
       " 'I-org': 7,\n",
       " 'I-per': 8,\n",
       " 'I-tim': 9,\n",
       " 'O': 10,\n",
       " '<PAD>': 0}"
      ]
     },
     "execution_count": 26,
     "metadata": {},
     "output_type": "execute_result"
    }
   ],
   "source": [
    "label2id"
   ]
  },
  {
   "cell_type": "code",
   "execution_count": 27,
   "metadata": {},
   "outputs": [],
   "source": [
    "word_counts = Counter(word for tokens in train_df['tokens'] for word in tokens)\n",
    "word2id = {word: i + 2 for i, word in enumerate(word_counts)} # turn words into unique ids (+2) because give 0,1 to UNK and PAD"
   ]
  },
  {
   "cell_type": "code",
   "execution_count": 28,
   "metadata": {},
   "outputs": [],
   "source": [
    "id2word = {i+2:word for i,word in enumerate(word_counts)}\n"
   ]
  },
  {
   "cell_type": "code",
   "execution_count": 29,
   "metadata": {},
   "outputs": [
    {
     "data": {
      "text/plain": [
       "{'Families': 2,\n",
       " 'of': 3,\n",
       " 'soldiers': 4,\n",
       " 'killed': 5,\n",
       " 'in': 6,\n",
       " 'the': 7,\n",
       " 'conflict': 8,\n",
       " 'joined': 9,\n",
       " 'protesters': 10,\n",
       " 'who': 11,\n",
       " 'carried': 12,\n",
       " 'banners': 13,\n",
       " 'with': 14,\n",
       " 'such': 15,\n",
       " 'slogans': 16,\n",
       " 'as': 17,\n",
       " '\"': 18,\n",
       " 'Bush': 19,\n",
       " 'Number': 20,\n",
       " 'One': 21,\n",
       " 'Terrorist': 22,\n",
       " 'and': 23,\n",
       " 'Stop': 24,\n",
       " 'Bombings': 25,\n",
       " '.': 26,\n",
       " 'Police': 27,\n",
       " 'put': 28,\n",
       " 'number': 29,\n",
       " 'marchers': 30,\n",
       " 'at': 31,\n",
       " '10,000': 32,\n",
       " 'while': 33,\n",
       " 'organizers': 34,\n",
       " 'claimed': 35,\n",
       " 'it': 36,\n",
       " 'was': 37,\n",
       " '1,00,000': 38,\n",
       " 'The': 39,\n",
       " 'party': 40,\n",
       " 'is': 41,\n",
       " 'divided': 42,\n",
       " 'over': 43,\n",
       " 'Britain': 44,\n",
       " \"'s\": 45,\n",
       " 'participation': 46,\n",
       " 'Iraq': 47,\n",
       " 'continued': 48,\n",
       " 'deployment': 49,\n",
       " '8,500': 50,\n",
       " 'British': 51,\n",
       " 'troops': 52,\n",
       " 'that': 53,\n",
       " 'country': 54,\n",
       " 'Two': 55,\n",
       " 'Germans': 56,\n",
       " 'four': 57,\n",
       " 'Nigerian': 58,\n",
       " 'oil': 59,\n",
       " 'workers': 60,\n",
       " 'were': 61,\n",
       " 'kidnapped': 62,\n",
       " 'by': 63,\n",
       " 'armed': 64,\n",
       " 'militants': 65,\n",
       " 'during': 66,\n",
       " 'a': 67,\n",
       " 'raid': 68,\n",
       " 'on': 69,\n",
       " 'boat': 70,\n",
       " 'Nigeria': 71,\n",
       " 'southern': 72,\n",
       " 'oil-rich': 73,\n",
       " 'Delta': 74,\n",
       " 'region': 75,\n",
       " 'German': 76,\n",
       " 'firm': 77,\n",
       " 'works': 78,\n",
       " 'sub-contractor': 79,\n",
       " 'for': 80,\n",
       " 'Shell': 81,\n",
       " 'It': 82,\n",
       " 'not': 83,\n",
       " 'immediately': 84,\n",
       " 'clear': 85,\n",
       " 'if': 86,\n",
       " 'president': 87,\n",
       " 'palace': 88,\n",
       " 'Mogadishu': 89,\n",
       " 'when': 90,\n",
       " 'attack': 91,\n",
       " 'occurred': 92,\n",
       " 'or': 93,\n",
       " 'anyone': 94,\n",
       " 'hurt': 95,\n",
       " 'Officials': 96,\n",
       " 'say': 97,\n",
       " 'al': 98,\n",
       " 'Qaida': 99,\n",
       " 'fighters': 100,\n",
       " 'have': 101,\n",
       " 'fled': 102,\n",
       " 'successful': 103,\n",
       " 'campaigns': 104,\n",
       " 'against': 105,\n",
       " 'them': 106,\n",
       " 'Anbar': 107,\n",
       " 'province': 108,\n",
       " 'Baghdad': 109,\n",
       " 'to': 110,\n",
       " 'other': 111,\n",
       " 'northern': 112,\n",
       " 'provinces': 113,\n",
       " 'Egyptian': 114,\n",
       " 'police': 115,\n",
       " 'arrested': 116,\n",
       " 'least': 117,\n",
       " '16': 118,\n",
       " 'members': 119,\n",
       " 'opposition': 120,\n",
       " 'Muslim': 121,\n",
       " 'Brotherhood': 122,\n",
       " 'parts': 123,\n",
       " 'prepare': 124,\n",
       " 'parliamentary': 125,\n",
       " 'runoff': 126,\n",
       " 'elections': 127,\n",
       " 'Saturday': 128,\n",
       " 'A': 129,\n",
       " 'spokesman': 130,\n",
       " 'said': 131,\n",
       " 'arrests': 132,\n",
       " 'are': 133,\n",
       " 'an': 134,\n",
       " 'attempt': 135,\n",
       " 'cut': 136,\n",
       " 'off': 137,\n",
       " 'from': 138,\n",
       " 'its': 139,\n",
       " 'supporters': 140,\n",
       " 'punishment': 141,\n",
       " 'winning': 142,\n",
       " 'seats': 143,\n",
       " 'earlier': 144,\n",
       " 'Hardline': 145,\n",
       " 'lawmakers': 146,\n",
       " 'Pakistan': 147,\n",
       " 'North': 148,\n",
       " 'West': 149,\n",
       " 'Frontier': 150,\n",
       " 'Province': 151,\n",
       " 'pushed': 152,\n",
       " 'through': 153,\n",
       " 'law': 154,\n",
       " 'aims': 155,\n",
       " 'ensure': 156,\n",
       " 'Islamic': 157,\n",
       " 'correctness': 158,\n",
       " 'public': 159,\n",
       " 'places': 160,\n",
       " 'establishes': 161,\n",
       " 'morality': 162,\n",
       " 'enforce': 163,\n",
       " 'decent': 164,\n",
       " 'behavior': 165,\n",
       " 'proposed': 166,\n",
       " 'calls': 167,\n",
       " 'setting': 168,\n",
       " 'up': 169,\n",
       " 'religious': 170,\n",
       " 'force': 171,\n",
       " 'make': 172,\n",
       " 'sure': 173,\n",
       " 'people': 174,\n",
       " 'adhere': 175,\n",
       " 'values': 176,\n",
       " ',': 177,\n",
       " 'entertainment': 178,\n",
       " 'outlets': 179,\n",
       " 'close': 180,\n",
       " 'weekly': 181,\n",
       " 'Friday': 182,\n",
       " 'prayers': 183,\n",
       " 'Home': 184,\n",
       " 'Office': 185,\n",
       " 'told': 186,\n",
       " 'Associated': 187,\n",
       " 'Press': 188,\n",
       " 'paroled': 189,\n",
       " 'offender': 190,\n",
       " 'gives': 191,\n",
       " 'cause': 192,\n",
       " 'concern': 193,\n",
       " 'he': 194,\n",
       " 'can': 195,\n",
       " 'be': 196,\n",
       " 'sent': 197,\n",
       " 'back': 198,\n",
       " 'prison': 199,\n",
       " 'AP': 200,\n",
       " 'also': 201,\n",
       " 'reports': 202,\n",
       " 'Khayam': 203,\n",
       " 'has': 204,\n",
       " 'been': 205,\n",
       " 'parole': 206,\n",
       " 'since': 207,\n",
       " 'last': 208,\n",
       " 'year': 209,\n",
       " 'after': 210,\n",
       " 'serving': 211,\n",
       " 'half': 212,\n",
       " 'his': 213,\n",
       " 'six-year': 214,\n",
       " 'sentence': 215,\n",
       " 'drug': 216,\n",
       " 'dealing': 217,\n",
       " 'His': 218,\n",
       " 'driver': 219,\n",
       " 'tribal': 220,\n",
       " 'elder': 221,\n",
       " 'He': 222,\n",
       " 'placed': 223,\n",
       " 'under': 224,\n",
       " 'house': 225,\n",
       " 'arrest': 226,\n",
       " 'Islamabad': 227,\n",
       " 'but': 228,\n",
       " 'jailed': 229,\n",
       " 'because': 230,\n",
       " 'considered': 231,\n",
       " 'father': 232,\n",
       " 'nuclear': 233,\n",
       " 'bomb': 234,\n",
       " 'company': 235,\n",
       " 'strongly': 236,\n",
       " 'denies': 237,\n",
       " 'allegations': 238,\n",
       " 'VOA': 239,\n",
       " 'Nancy-Amelia': 240,\n",
       " 'Collins': 241,\n",
       " 'Sydney': 242,\n",
       " 'Energy': 243,\n",
       " 'security': 244,\n",
       " 'climate': 245,\n",
       " 'change': 246,\n",
       " 'World': 247,\n",
       " 'Trade': 248,\n",
       " 'Organization': 249,\n",
       " 'stalled': 250,\n",
       " 'negotiations': 251,\n",
       " 'investment': 252,\n",
       " 'all': 253,\n",
       " 'expected': 254,\n",
       " 'among': 255,\n",
       " 'major': 256,\n",
       " 'topics': 257,\n",
       " 'annual': 258,\n",
       " 'report': 259,\n",
       " 'APEC': 260,\n",
       " 'Business': 261,\n",
       " 'Advisory': 262,\n",
       " 'Council': 263,\n",
       " 'known': 264,\n",
       " 'ABAC': 265,\n",
       " 'says': 266,\n",
       " 'there': 267,\n",
       " 'need': 268,\n",
       " 'businesses': 269,\n",
       " 'improve': 270,\n",
       " 'energy': 271,\n",
       " 'efficiency': 272,\n",
       " 'encourage': 273,\n",
       " 'conservation': 274,\n",
       " 'practices': 275,\n",
       " 'include': 276,\n",
       " 'this': 277,\n",
       " 'Harcourt': 278,\n",
       " 'Australian': 279,\n",
       " 'Commission': 280,\n",
       " 'will': 281,\n",
       " 'discuss': 282,\n",
       " 'ways': 283,\n",
       " 'enhance': 284,\n",
       " 'regional': 285,\n",
       " 'cooperation': 286,\n",
       " 'And': 287,\n",
       " 'I': 288,\n",
       " 'think': 289,\n",
       " 'they': 290,\n",
       " \"'ll\": 291,\n",
       " 'want': 292,\n",
       " 'one-stop': 293,\n",
       " 'shop': 294,\n",
       " 'terms': 295,\n",
       " 'combining': 296,\n",
       " 'immigration': 297,\n",
       " 'customs': 298,\n",
       " 'quarantine': 299,\n",
       " 'together': 300,\n",
       " 'just': 301,\n",
       " 'more': 302,\n",
       " 'streamlined': 303,\n",
       " 'provides': 304,\n",
       " 'certainty': 305,\n",
       " 'Mr.': 306,\n",
       " 'Ismail': 307,\n",
       " 'announced': 308,\n",
       " 'decision': 309,\n",
       " 'meeting': 310,\n",
       " 'officials': 311,\n",
       " 'United': 312,\n",
       " 'Nations': 313,\n",
       " 'African': 314,\n",
       " 'Union': 315,\n",
       " 'Khartoum': 316,\n",
       " 'Sunday': 317,\n",
       " 'defending': 318,\n",
       " 'their': 319,\n",
       " 'positions': 320,\n",
       " 'rebel': 321,\n",
       " 'attacks': 322,\n",
       " 'Indonesian': 323,\n",
       " 'Wednesday': 324,\n",
       " 'men': 325,\n",
       " 'flown': 326,\n",
       " 'Bali': 327,\n",
       " 'neighboring': 328,\n",
       " 'Java': 329,\n",
       " 'island': 330,\n",
       " 'questioning': 331,\n",
       " 'headquarters': 332,\n",
       " 'authorities': 333,\n",
       " 'blame': 334,\n",
       " 'Azahari': 335,\n",
       " 'bin': 336,\n",
       " 'Husin': 337,\n",
       " 'orchestrating': 338,\n",
       " 'month': 339,\n",
       " 'well': 340,\n",
       " '2002': 341,\n",
       " 'bombings': 342,\n",
       " 'than': 343,\n",
       " '200': 344,\n",
       " 'pope': 345,\n",
       " 'meant': 346,\n",
       " 'no': 347,\n",
       " 'offense': 348,\n",
       " 'Muslims': 349,\n",
       " 'quoted': 350,\n",
       " '14': 351,\n",
       " 'century': 352,\n",
       " 'Byzantine': 353,\n",
       " 'emperor': 354,\n",
       " 'saying': 355,\n",
       " 'some': 356,\n",
       " 'teachings': 357,\n",
       " 'Prophet': 358,\n",
       " 'Muhammed': 359,\n",
       " 'brought': 360,\n",
       " 'evil': 361,\n",
       " 'world': 362,\n",
       " 'Pakistani': 363,\n",
       " 'military': 364,\n",
       " 'launched': 365,\n",
       " 'offensive': 366,\n",
       " 'Orakzai': 367,\n",
       " 'hunt': 368,\n",
       " 'Taliban': 369,\n",
       " 'insurgents': 370,\n",
       " '13': 371,\n",
       " 'guerrillas': 372,\n",
       " 'two': 373,\n",
       " 'encounters': 374,\n",
       " 'central': 375,\n",
       " 'Uruzgan': 376,\n",
       " 'what': 377,\n",
       " 'motivated': 378,\n",
       " 'Emergency': 379,\n",
       " 'medical': 380,\n",
       " 'five': 381,\n",
       " 'victims': 382,\n",
       " 'died': 383,\n",
       " 'Moscow': 384,\n",
       " 'exposure': 385,\n",
       " 'another': 386,\n",
       " '19': 387,\n",
       " 'hospitalized': 388,\n",
       " 'hypothermia': 389,\n",
       " 'Health': 390,\n",
       " 'Vietnam': 391,\n",
       " 'deadly': 392,\n",
       " 'strain': 393,\n",
       " 'bird': 394,\n",
       " 'flu': 395,\n",
       " 'virus': 396,\n",
       " 'second': 397,\n",
       " 'Vietnamese': 398,\n",
       " 'man': 399,\n",
       " 'week': 400,\n",
       " 'raising': 401,\n",
       " 'death': 402,\n",
       " 'toll': 403,\n",
       " '50': 404,\n",
       " 'Witnesses': 405,\n",
       " 'Somalia': 406,\n",
       " 'burned': 407,\n",
       " 'dragged': 408,\n",
       " 'bodies': 409,\n",
       " 'streets': 410,\n",
       " 'clash': 411,\n",
       " 'between': 412,\n",
       " 'Ethiopian': 413,\n",
       " 'forces': 414,\n",
       " 'seven': 415,\n",
       " 'returned': 416,\n",
       " 'heavy': 417,\n",
       " 'fire': 418,\n",
       " 'several': 419,\n",
       " 'wounded': 420,\n",
       " 'fighting': 421,\n",
       " 'sides': 422,\n",
       " 'expressed': 423,\n",
       " 'hope': 424,\n",
       " 'reaching': 425,\n",
       " 'peace': 426,\n",
       " 'deal': 427,\n",
       " 'before': 428,\n",
       " 'U.S.': 429,\n",
       " 'President': 430,\n",
       " 'George': 431,\n",
       " 'leaves': 432,\n",
       " 'office': 433,\n",
       " 'early': 434,\n",
       " 'next': 435,\n",
       " 'statement': 436,\n",
       " 'General': 437,\n",
       " 'Adam': 438,\n",
       " 'asked': 439,\n",
       " 'leave': 440,\n",
       " 'post': 441,\n",
       " 'soon': 442,\n",
       " 'possible': 443,\n",
       " 'chief': 444,\n",
       " 'staff': 445,\n",
       " 'accepted': 446,\n",
       " 'request': 447,\n",
       " 'begin': 448,\n",
       " 'process': 449,\n",
       " 'replacement': 450,\n",
       " 'Israeli': 451,\n",
       " 'media': 452,\n",
       " 'had': 453,\n",
       " 'disagreements': 454,\n",
       " 'army': 455,\n",
       " 'Lieutenant': 456,\n",
       " 'Dan': 457,\n",
       " 'Halutz': 458,\n",
       " 'conduct': 459,\n",
       " 'war': 460,\n",
       " 'Institute': 461,\n",
       " 'Science': 462,\n",
       " 'International': 463,\n",
       " 'Security': 464,\n",
       " 'satellite': 465,\n",
       " 'photos': 466,\n",
       " 'show': 467,\n",
       " 'construction': 468,\n",
       " 'site': 469,\n",
       " 'larger': 470,\n",
       " 'reactor': 471,\n",
       " 'near': 472,\n",
       " 'small': 473,\n",
       " 'one': 474,\n",
       " 'Khushab': 475,\n",
       " 'district': 476,\n",
       " 'Punjab': 477,\n",
       " 'could': 478,\n",
       " 'produce': 479,\n",
       " 'kilograms': 480,\n",
       " 'weapons-grade': 481,\n",
       " 'plutonium': 482,\n",
       " 'good': 483,\n",
       " '40': 484,\n",
       " 'weapons': 485,\n",
       " 'According': 486,\n",
       " 'now': 487,\n",
       " 'capable': 488,\n",
       " 'producing': 489,\n",
       " 'warheads': 490,\n",
       " 'American': 491,\n",
       " 'Diabetes': 492,\n",
       " 'Association': 493,\n",
       " 'disease': 494,\n",
       " 'leading': 495,\n",
       " 'new': 496,\n",
       " 'cases': 497,\n",
       " 'blindness': 498,\n",
       " 'adults': 499,\n",
       " 'countries': 500,\n",
       " 'agreed': 501,\n",
       " 'reopen': 502,\n",
       " 'consulates': 503,\n",
       " 'following': 504,\n",
       " 'Panamanian': 505,\n",
       " 'Martin': 506,\n",
       " 'Torrijos': 507,\n",
       " 'Cuban': 508,\n",
       " 'Vice': 509,\n",
       " 'Carlos': 510,\n",
       " 'Lage': 511,\n",
       " 'targeted': 512,\n",
       " 'collecting': 513,\n",
       " 'rocket': 514,\n",
       " 'launcher': 515,\n",
       " 'area': 516,\n",
       " 'used': 517,\n",
       " 'rockets': 518,\n",
       " 'Israel': 519,\n",
       " 'recently': 520,\n",
       " 'Arab': 521,\n",
       " 'plan': 522,\n",
       " 'problematic': 523,\n",
       " 'requires': 524,\n",
       " 'Palestinians': 525,\n",
       " 'recognize': 526,\n",
       " 'exchange': 527,\n",
       " 'pullout': 528,\n",
       " 'Palestinian': 529,\n",
       " 'territories': 530,\n",
       " 'jury': 531,\n",
       " 'found': 532,\n",
       " 'maker': 533,\n",
       " 'Merck': 534,\n",
       " 'liable': 535,\n",
       " 'heart': 536,\n",
       " 'suffered': 537,\n",
       " 'taking': 538,\n",
       " 'painkiller': 539,\n",
       " 'Vioxx': 540,\n",
       " 'withdrew': 541,\n",
       " 'popular': 542,\n",
       " 'study': 543,\n",
       " 'showed': 544,\n",
       " 'doubled': 545,\n",
       " 'risk': 546,\n",
       " 'problems': 547,\n",
       " 'long-term': 548,\n",
       " 'users': 549,\n",
       " 'rumors': 550,\n",
       " 'TRUE': 551,\n",
       " ':': 552,\n",
       " 'Nicole': 553,\n",
       " 'Ritchie': 554,\n",
       " 'pregnant': 555,\n",
       " 'responsibility': 556,\n",
       " 'something': 557,\n",
       " 'did': 558,\n",
       " 'wrong': 559,\n",
       " 'personally': 560,\n",
       " 'apologize': 561,\n",
       " 'every': 562,\n",
       " 'single': 563,\n",
       " 'person': 564,\n",
       " 'lost': 565,\n",
       " 'loved': 566,\n",
       " 'drunk': 567,\n",
       " 'driving': 568,\n",
       " 'would': 569,\n",
       " 'she': 570,\n",
       " 'Senator': 571,\n",
       " 'John': 572,\n",
       " 'Warner': 573,\n",
       " 'southeastern': 574,\n",
       " 'state': 575,\n",
       " 'Virginia': 576,\n",
       " 'prominent': 577,\n",
       " 'Republican': 578,\n",
       " 'figure': 579,\n",
       " 'debate': 580,\n",
       " 'retire': 581,\n",
       " 'finishing': 582,\n",
       " 'term': 583,\n",
       " '2009': 584,\n",
       " 'called': 585,\n",
       " 'withdrawing': 586,\n",
       " 'retirement': 587,\n",
       " 'open': 588,\n",
       " 'relatively': 589,\n",
       " 'safe': 590,\n",
       " 'seat': 591,\n",
       " 'Republicans': 592,\n",
       " 'fight': 593,\n",
       " 'Senate': 594,\n",
       " 'control': 595,\n",
       " 'latest': 596,\n",
       " 'victim': 597,\n",
       " '16-year-old': 598,\n",
       " 'girl': 599,\n",
       " 'town': 600,\n",
       " 'Bekasi': 601,\n",
       " 'eastern': 602,\n",
       " 'outskirts': 603,\n",
       " 'Jakarta': 604,\n",
       " 'Tuesday': 605,\n",
       " 'health': 606,\n",
       " 'ministry': 607,\n",
       " 'woman': 608,\n",
       " 'family': 609,\n",
       " 'kept': 610,\n",
       " 'chickens': 611,\n",
       " 'backyard': 612,\n",
       " 'Malaysia': 613,\n",
       " 'wants': 614,\n",
       " 'see': 615,\n",
       " 'Bangkok': 616,\n",
       " 'provide': 617,\n",
       " 'Anti-Japanese': 618,\n",
       " 'protests': 619,\n",
       " 'western': 620,\n",
       " 'Chinese': 621,\n",
       " 'city': 622,\n",
       " 'Shanghai': 623,\n",
       " 'turned': 624,\n",
       " 'violent': 625,\n",
       " 'pelting': 626,\n",
       " 'Japanese': 627,\n",
       " 'consulate': 628,\n",
       " 'rocks': 629,\n",
       " 'bottles': 630,\n",
       " 'eggs': 631,\n",
       " 'State': 632,\n",
       " 'Councilor': 633,\n",
       " 'Tang': 634,\n",
       " 'Jiaxuan': 635,\n",
       " 'official': 636,\n",
       " 'Xinhua': 637,\n",
       " 'news': 638,\n",
       " 'agency': 639,\n",
       " 'China': 640,\n",
       " 'government': 641,\n",
       " 'urging': 642,\n",
       " 'protest': 643,\n",
       " 'calm': 644,\n",
       " 'orderly': 645,\n",
       " 'manner': 646,\n",
       " 'Organizers': 647,\n",
       " '2012': 648,\n",
       " 'Summer': 649,\n",
       " 'Olympics': 650,\n",
       " 'London': 651,\n",
       " 'promised': 652,\n",
       " 'greenest': 653,\n",
       " 'games': 654,\n",
       " 'history': 655,\n",
       " 'sought': 656,\n",
       " 'soothe': 657,\n",
       " 'concerns': 658,\n",
       " 'about': 659,\n",
       " 'rising': 660,\n",
       " 'cost': 661,\n",
       " 'event': 662,\n",
       " '2008': 663,\n",
       " 'Olympic': 664,\n",
       " 'mascots': 665,\n",
       " 'modeled': 666,\n",
       " 'panda': 667,\n",
       " 'Jing': 668,\n",
       " 'defense': 669,\n",
       " 'personnel': 670,\n",
       " 'crash': 671,\n",
       " 'NATO': 672,\n",
       " 'aircraft': 673,\n",
       " 'Afghanistan': 674,\n",
       " 'supporting': 675,\n",
       " 'mission': 676,\n",
       " 'south': 677,\n",
       " 'indication': 678,\n",
       " 'enemy': 679,\n",
       " 'action': 680,\n",
       " 'causing': 681,\n",
       " 'Sivaram': 682,\n",
       " 'Web': 683,\n",
       " 'became': 684,\n",
       " 'ongoing': 685,\n",
       " 'Sri': 686,\n",
       " 'Lankan': 687,\n",
       " 'civil': 688,\n",
       " 'supporter': 689,\n",
       " 'Tamil': 690,\n",
       " 'Tiger': 691,\n",
       " 'movement': 692,\n",
       " 'talks': 693,\n",
       " 'come': 694,\n",
       " 'six-party': 695,\n",
       " 'Korea': 696,\n",
       " 'ambitions': 697,\n",
       " 'resume': 698,\n",
       " 'Saddam': 699,\n",
       " 'Hussein': 700,\n",
       " 'arraigned': 701,\n",
       " 'July': 702,\n",
       " 'base': 703,\n",
       " 'children': 704,\n",
       " 'different': 705,\n",
       " 'In': 706,\n",
       " 'interview': 707,\n",
       " 'government-funded': 708,\n",
       " 'alHurra': 709,\n",
       " 'television': 710,\n",
       " 'station': 711,\n",
       " 'Volcker': 712,\n",
       " 'lot': 713,\n",
       " 'confusion': 714,\n",
       " 'how': 715,\n",
       " 'much': 716,\n",
       " 'money': 717,\n",
       " 'obtained': 718,\n",
       " 'oil-for-food': 719,\n",
       " 'program': 720,\n",
       " 'itself': 721,\n",
       " 'Interior': 722,\n",
       " 'Minister': 723,\n",
       " 'Murat': 724,\n",
       " 'Sutalinov': 725,\n",
       " 'head': 726,\n",
       " 'inmates': 727,\n",
       " 'gave': 728,\n",
       " 'details': 729,\n",
       " 'commercial': 730,\n",
       " 'airplane': 731,\n",
       " 'Western': 732,\n",
       " 'Europe': 733,\n",
       " 'landed': 734,\n",
       " 'first': 735,\n",
       " 'time': 736,\n",
       " 'nearly': 737,\n",
       " '20': 738,\n",
       " 'years': 739,\n",
       " 'passengers': 740,\n",
       " 'French': 741,\n",
       " 'Foreign': 742,\n",
       " 'Anne-Marie': 743,\n",
       " 'Idrac': 744,\n",
       " 'historic': 745,\n",
       " 'day': 746,\n",
       " 'France': 747,\n",
       " 'Etihad': 748,\n",
       " 'Emirates': 749,\n",
       " 'airlines': 750,\n",
       " 'both': 751,\n",
       " 'operating': 752,\n",
       " 'out': 753,\n",
       " 'started': 754,\n",
       " 'flying': 755,\n",
       " 'Labor': 756,\n",
       " 'Department': 757,\n",
       " 'issued': 758,\n",
       " 'unemployment': 759,\n",
       " 'rate': 760,\n",
       " 'increased': 761,\n",
       " 'three': 762,\n",
       " 'months': 763,\n",
       " '-': 764,\n",
       " '4.6': 765,\n",
       " 'percent': 766,\n",
       " 'Earlier': 767,\n",
       " 'bank': 768,\n",
       " 'decided': 769,\n",
       " 'maintain': 770,\n",
       " 'key': 771,\n",
       " 'interest': 772,\n",
       " 'despite': 773,\n",
       " 'inflation': 774,\n",
       " 'criticism': 775,\n",
       " 'runs': 776,\n",
       " 'counter': 777,\n",
       " 'development': 778,\n",
       " 'U.S': 779,\n",
       " 'relations': 780,\n",
       " 'pardons': 781,\n",
       " 'convicted': 782,\n",
       " 'criminals': 783,\n",
       " 'commuted': 784,\n",
       " 'sentences': 785,\n",
       " 'others': 786,\n",
       " 'Pardons': 787,\n",
       " 'absolute': 788,\n",
       " 'powers': 789,\n",
       " 'recent': 790,\n",
       " 'become': 791,\n",
       " 'typical': 792,\n",
       " 'issue': 793,\n",
       " 'prepares': 794,\n",
       " 'White': 795,\n",
       " 'House': 796,\n",
       " 'made': 797,\n",
       " 'pardon': 798,\n",
       " 'decisions': 799,\n",
       " 'case-by-case': 800,\n",
       " 'basis': 801,\n",
       " 'continue': 802,\n",
       " 'review': 803,\n",
       " 'clemency': 804,\n",
       " 'requests': 805,\n",
       " 'Uganda': 806,\n",
       " 'rebels': 807,\n",
       " 'Lord': 808,\n",
       " 'Resistance': 809,\n",
       " 'Army': 810,\n",
       " 'nearing': 811,\n",
       " 'end': 812,\n",
       " 'Swiss': 813,\n",
       " 'star': 814,\n",
       " 'upset': 815,\n",
       " 'Tommy': 816,\n",
       " 'Haas': 817,\n",
       " 'opening': 818,\n",
       " 'match': 819,\n",
       " 'Kooyong': 820,\n",
       " 'Classic': 821,\n",
       " 'Melbourne': 822,\n",
       " 'Germany': 823,\n",
       " 'information': 824,\n",
       " 'taken': 825,\n",
       " 'Huygens': 826,\n",
       " 'space': 827,\n",
       " 'probe': 828,\n",
       " 'looks': 829,\n",
       " 'like': 830,\n",
       " 'drainage': 831,\n",
       " 'channels': 832,\n",
       " 'moon': 833,\n",
       " 'detained': 834,\n",
       " 'Dr.': 835,\n",
       " 'Besigye': 836,\n",
       " 'November': 837,\n",
       " 'self-imposed': 838,\n",
       " 'exile': 839,\n",
       " 'run': 840,\n",
       " 'Yoweri': 841,\n",
       " 'Museveni': 842,\n",
       " 'presidential': 843,\n",
       " 'election': 844,\n",
       " 'denied': 845,\n",
       " 'charges': 846,\n",
       " 'which': 847,\n",
       " 'trumped': 848,\n",
       " 'keep': 849,\n",
       " 'him': 850,\n",
       " 'running': 851,\n",
       " 'Barack': 852,\n",
       " 'Obama': 853,\n",
       " 'improvements': 854,\n",
       " 'care': 855,\n",
       " 'system': 856,\n",
       " 'inevitable': 857,\n",
       " 'Bank': 858,\n",
       " 'member': 859,\n",
       " 'nations': 860,\n",
       " 'Washington': 861,\n",
       " 'approved': 862,\n",
       " 'debt': 863,\n",
       " 'relief': 864,\n",
       " '17': 865,\n",
       " 'Latin': 866,\n",
       " 'total': 867,\n",
       " '$': 868,\n",
       " '37': 869,\n",
       " 'billion': 870,\n",
       " 'Government': 871,\n",
       " 'declared': 872,\n",
       " 'holiday': 873,\n",
       " 'Iranian': 874,\n",
       " 'many': 875,\n",
       " 'domestic': 876,\n",
       " 'airline': 877,\n",
       " 'flights': 878,\n",
       " 'canceled': 879,\n",
       " 'Medical': 880,\n",
       " 'advising': 881,\n",
       " 'respiratory': 882,\n",
       " 'stay': 883,\n",
       " 'inside': 884,\n",
       " 'dust': 885,\n",
       " 'blown': 886,\n",
       " 'Saudi': 887,\n",
       " 'Arabia': 888,\n",
       " 'where': 889,\n",
       " 'severe': 890,\n",
       " 'sandstorm': 891,\n",
       " 'blanketed': 892,\n",
       " 'capital': 893,\n",
       " 'released': 894,\n",
       " 'Mahmoud': 895,\n",
       " 'Abbas': 896,\n",
       " 'Ramallah': 897,\n",
       " 'vowed': 898,\n",
       " 'track': 899,\n",
       " 'down': 900,\n",
       " 'punish': 901,\n",
       " 'those': 902,\n",
       " 'responsible': 903,\n",
       " 'sabotage': 904,\n",
       " 'Prosecutors': 905,\n",
       " 'Rachid': 906,\n",
       " 'Ramda': 907,\n",
       " 'helped': 908,\n",
       " 'fund': 909,\n",
       " 'Paris': 910,\n",
       " 'metro': 911,\n",
       " 'operated': 912,\n",
       " 'investigators': 913,\n",
       " 'evidence': 914,\n",
       " 'terrorists': 915,\n",
       " 'accused': 916,\n",
       " 'helping': 917,\n",
       " 'Algerian': 918,\n",
       " 'militant': 919,\n",
       " 'organization': 920,\n",
       " 'Armed': 921,\n",
       " 'Group': 922,\n",
       " 'Sudanese': 923,\n",
       " 'refugees': 924,\n",
       " 'begun': 925,\n",
       " 'returning': 926,\n",
       " 'Central': 927,\n",
       " 'Republic': 928,\n",
       " 'U.N.': 929,\n",
       " 'refugee': 930,\n",
       " 'group': 931,\n",
       " 'scheduled': 932,\n",
       " 'fly': 933,\n",
       " 'home': 934,\n",
       " 'Thursday': 935,\n",
       " 'agreements': 936,\n",
       " 'allow': 937,\n",
       " 'return': 938,\n",
       " '13,000': 939,\n",
       " 'living': 940,\n",
       " 'Democratic': 941,\n",
       " 'Congo': 942,\n",
       " '7,000': 943,\n",
       " 'Congolese': 944,\n",
       " 'currently': 945,\n",
       " 'Sudan': 946,\n",
       " 'Yu': 947,\n",
       " 'Hagino': 948,\n",
       " '23': 949,\n",
       " 'murder': 950,\n",
       " 'scene': 951,\n",
       " 'school': 952,\n",
       " 'Uji': 953,\n",
       " 'suspect': 954,\n",
       " 'confessed': 955,\n",
       " 'stabbing': 956,\n",
       " 'knife': 957,\n",
       " 'arguing': 958,\n",
       " 'her': 959,\n",
       " 'Bakri': 960,\n",
       " 'triggered': 961,\n",
       " 'outrage': 962,\n",
       " '7': 963,\n",
       " 'never': 964,\n",
       " 'tip': 965,\n",
       " 'knew': 966,\n",
       " 'carry': 967,\n",
       " 'Admiral': 968,\n",
       " 'Mullen': 969,\n",
       " 'hopes': 970,\n",
       " 'combination': 971,\n",
       " 'sanctions': 972,\n",
       " 'diplomatic': 973,\n",
       " 'efforts': 974,\n",
       " 'resolve': 975,\n",
       " 'dispute': 976,\n",
       " 'Georgia': 977,\n",
       " 'plans': 978,\n",
       " 'get': 979,\n",
       " 'emergency': 980,\n",
       " 'natural': 981,\n",
       " 'gas': 982,\n",
       " 'supplies': 983,\n",
       " 'Iran': 984,\n",
       " 'help': 985,\n",
       " 'shortage': 986,\n",
       " 'electricity': 987,\n",
       " 'Residents': 988,\n",
       " 'former': 989,\n",
       " 'Soviet': 990,\n",
       " 'republic': 991,\n",
       " 'enduring': 992,\n",
       " 'freezing': 993,\n",
       " 'weather': 994,\n",
       " 'limited': 995,\n",
       " 'explosions': 996,\n",
       " 'pipelines': 997,\n",
       " 'delivering': 998,\n",
       " 'Russian': 999,\n",
       " 'Peru': 1000,\n",
       " 'Alberto': 1001,\n",
       " ...}"
      ]
     },
     "execution_count": 29,
     "metadata": {},
     "output_type": "execute_result"
    }
   ],
   "source": [
    "word2id  ## vocabulary"
   ]
  },
  {
   "cell_type": "markdown",
   "metadata": {},
   "source": [
    "### Add '<PAD>' to use when padding and '<UNK>' in the case where there are unknown entities"
   ]
  },
  {
   "cell_type": "code",
   "execution_count": 30,
   "metadata": {},
   "outputs": [],
   "source": [
    "word2id['<PAD>'] = 0\n",
    "word2id['<UNK>'] = 1"
   ]
  },
  {
   "cell_type": "code",
   "execution_count": 31,
   "metadata": {},
   "outputs": [
    {
     "data": {
      "text/plain": [
       "1"
      ]
     },
     "execution_count": 31,
     "metadata": {},
     "output_type": "execute_result"
    }
   ],
   "source": [
    "word2id['<UNK>']"
   ]
  },
  {
   "cell_type": "code",
   "execution_count": 32,
   "metadata": {},
   "outputs": [
    {
     "data": {
      "text/plain": [
       "(0, 1)"
      ]
     },
     "execution_count": 32,
     "metadata": {},
     "output_type": "execute_result"
    }
   ],
   "source": [
    "word2id['<PAD>'], word2id['<UNK>']"
   ]
  },
  {
   "cell_type": "code",
   "execution_count": 33,
   "metadata": {},
   "outputs": [
    {
     "data": {
      "text/plain": [
       "1"
      ]
     },
     "execution_count": 33,
     "metadata": {},
     "output_type": "execute_result"
    }
   ],
   "source": [
    "fallback = '<UNK>'\n",
    "fallback_id = word2id.get('B-gpe', list(label2id.values())[0])  ## get idea of a word\n",
    "\n",
    "fallback_id"
   ]
  },
  {
   "cell_type": "code",
   "execution_count": 34,
   "metadata": {},
   "outputs": [
    {
     "data": {
      "text/plain": [
       "0"
      ]
     },
     "execution_count": 34,
     "metadata": {},
     "output_type": "execute_result"
    }
   ],
   "source": [
    "pad_token = '<PAD>'\n",
    "pad_id = label2id.get(pad_token, list(label2id.values())[0])  \n",
    "pad_id"
   ]
  },
  {
   "cell_type": "code",
   "execution_count": 35,
   "metadata": {},
   "outputs": [
    {
     "data": {
      "text/plain": [
       "10"
      ]
     },
     "execution_count": 35,
     "metadata": {},
     "output_type": "execute_result"
    }
   ],
   "source": [
    "fallback_id = label2id.get('O', list(label2id.values())[0])\n",
    "fallback_id"
   ]
  },
  {
   "cell_type": "code",
   "execution_count": 36,
   "metadata": {},
   "outputs": [],
   "source": [
    "MAX_LEN = 40\n",
    "\n",
    "def encode(tokens, vocab, pad_len=40, fallback='<UNK>', pad_token='<PAD>'):\n",
    "    \"\"\"\n",
    "    Encodes a list of tokens using a vocabulary.\n",
    "\n",
    "    - tokens: List[str] → tokens or labels (e.g., words or NER tags)\n",
    "    - vocab: dict → maps token to index\n",
    "    - pad_len: int → fixed output length (pad or truncate)\n",
    "    - fallback: str → token to use if one isn't found (only relevant for input)\n",
    "    - pad_token: str → token to use for padding\n",
    "\n",
    "    Returns: List[int] of length `pad_len`\n",
    "    \"\"\"\n",
    "    fallback_id = vocab.get(fallback, 0)     # Use <UNK> if token not found\n",
    "    pad_id = vocab.get(pad_token, 0)         # Use <PAD> for padding\n",
    "\n",
    "    # Map each token to its ID\n",
    "    ids = [vocab.get(tok, fallback_id) for tok in tokens]\n",
    "\n",
    "    # Truncate or pad to fixed length\n",
    "    if len(ids) > pad_len:\n",
    "        return ids[:pad_len]\n",
    "    else:\n",
    "        return ids + [pad_id] * (pad_len - len(ids))\n"
   ]
  },
  {
   "cell_type": "code",
   "execution_count": 37,
   "metadata": {},
   "outputs": [],
   "source": [
    "X = np.array([encode(tokens, word2id, fallback='<UNK>', pad_token='<PAD>') for tokens in train_df['tokens']])\n",
    "y = np.array([encode(labels, label2id, fallback='O', pad_token= '<PAD>') for labels in train_df['label_list']])\n",
    "vocab_size = len(word2id)\n",
    "label_size = len(label2id)\n"
   ]
  },
  {
   "cell_type": "code",
   "execution_count": 38,
   "metadata": {},
   "outputs": [
    {
     "name": "stdout",
     "output_type": "stream",
     "text": [
      "Sentence : ['The', 'party', 'is', 'divided', 'over', 'Britain', \"'s\", 'participation', 'in', 'the', 'Iraq', 'conflict', 'and', 'the', 'continued', 'deployment', 'of', '8,500', 'British', 'troops', 'in', 'that', 'country', '.'] with length 24\n",
      " encoded sentence : [39, 40, 41, 42, 43, 44, 45, 46, 6, 7, 47, 8, 23, 7, 48, 49, 3, 50, 51, 52, 6, 53, 54, 26, 0, 0, 0, 0, 0, 0, 0, 0, 0, 0, 0, 0, 0, 0, 0, 0] with length 40\n",
      "\n",
      "Label : ['O', 'O', 'O', 'O', 'O', 'B-gpe', 'O', 'O', 'O', 'O', 'B-geo', 'O', 'O', 'O', 'O', 'O', 'O', 'O', 'B-gpe', 'O', 'O', 'O', 'O', 'O'] with length 24\n",
      " encoded label : [10, 10, 10, 10, 10, 2, 10, 10, 10, 10, 1, 10, 10, 10, 10, 10, 10, 10, 2, 10, 10, 10, 10, 10, 0, 0, 0, 0, 0, 0, 0, 0, 0, 0, 0, 0, 0, 0, 0, 0] with length 40\n"
     ]
    }
   ],
   "source": [
    "## Example:\n",
    "sentence = train_df['tokens'][2]   \n",
    "label    = train_df['label_list'][2]\n",
    "encoded_sentence = encode(sentence,word2id,fallback= '<UNK>', pad_token = '<PAD>')\n",
    "encoded_label  = encode(label, label2id, fallback = 'O', pad_token = '<PAD>')\n",
    "print(f\"Sentence : {sentence} with length {len(sentence)}\\n\",\n",
    "       f\"encoded sentence : {encoded_sentence} with length {len(encoded_sentence)}\\n\")\n",
    "\n",
    "print(f\"Label : {label} with length {len(label)}\\n\",\n",
    "       f\"encoded label : {encoded_label} with length {len(encoded_label)}\")"
   ]
  },
  {
   "cell_type": "code",
   "execution_count": 39,
   "metadata": {},
   "outputs": [
    {
     "data": {
      "text/plain": [
       "['The',\n",
       " 'party',\n",
       " 'is',\n",
       " 'divided',\n",
       " 'over',\n",
       " 'Britain',\n",
       " \"'s\",\n",
       " 'participation',\n",
       " 'in',\n",
       " 'the',\n",
       " 'Iraq',\n",
       " 'conflict',\n",
       " 'and',\n",
       " 'the',\n",
       " 'continued',\n",
       " 'deployment',\n",
       " 'of',\n",
       " '8,500',\n",
       " 'British',\n",
       " 'troops',\n",
       " 'in',\n",
       " 'that',\n",
       " 'country',\n",
       " '.',\n",
       " '<PAD>',\n",
       " '<PAD>',\n",
       " '<PAD>',\n",
       " '<PAD>',\n",
       " '<PAD>',\n",
       " '<PAD>',\n",
       " '<PAD>',\n",
       " '<PAD>',\n",
       " '<PAD>',\n",
       " '<PAD>',\n",
       " '<PAD>',\n",
       " '<PAD>',\n",
       " '<PAD>',\n",
       " '<PAD>',\n",
       " '<PAD>',\n",
       " '<PAD>']"
      ]
     },
     "execution_count": 39,
     "metadata": {},
     "output_type": "execute_result"
    }
   ],
   "source": [
    "\n",
    "id2word = {v:k for k,v in word2id.items()}\n",
    "# Decode the sentence\n",
    "decoded_sentence = [id2word.get(word_id, '<UNK>') for word_id in encoded_sentence]\n",
    "decoded_sentence"
   ]
  },
  {
   "cell_type": "code",
   "execution_count": 40,
   "metadata": {},
   "outputs": [
    {
     "data": {
      "text/plain": [
       "['The',\n",
       " 'party',\n",
       " 'is',\n",
       " 'divided',\n",
       " 'over',\n",
       " 'B-gpe',\n",
       " \"'s\",\n",
       " 'participation',\n",
       " 'in',\n",
       " 'the',\n",
       " 'B-geo',\n",
       " 'conflict',\n",
       " 'and',\n",
       " 'the',\n",
       " 'continued',\n",
       " 'deployment',\n",
       " 'of',\n",
       " '8,500',\n",
       " 'B-gpe',\n",
       " 'troops',\n",
       " 'in',\n",
       " 'that',\n",
       " 'country',\n",
       " '.']"
      ]
     },
     "execution_count": 40,
     "metadata": {},
     "output_type": "execute_result"
    }
   ],
   "source": [
    "## Convert to sentence with masked entity\n",
    "sentence_masked = []\n",
    "for index, lab in enumerate(label):\n",
    "    if lab == 'O':\n",
    "        sentence_masked.append(sentence[index])\n",
    "    else:\n",
    "        sentence_masked.append(label[index])\n",
    "sentence_masked       "
   ]
  },
  {
   "cell_type": "code",
   "execution_count": 41,
   "metadata": {},
   "outputs": [
    {
     "name": "stdout",
     "output_type": "stream",
     "text": [
      "X shape: (34279, 40), y shape: (34279, 40)\n"
     ]
    }
   ],
   "source": [
    "print(f\"X shape: {X.shape}, y shape: {y.shape}\")"
   ]
  },
  {
   "cell_type": "code",
   "execution_count": 42,
   "metadata": {},
   "outputs": [
    {
     "data": {
      "text/plain": [
       "(30523, 11)"
      ]
     },
     "execution_count": 42,
     "metadata": {},
     "output_type": "execute_result"
    }
   ],
   "source": [
    "vocab_size,label_size"
   ]
  },
  {
   "cell_type": "code",
   "execution_count": 43,
   "metadata": {},
   "outputs": [
    {
     "data": {
      "text/html": [
       "<div>\n",
       "<style scoped>\n",
       "    .dataframe tbody tr th:only-of-type {\n",
       "        vertical-align: middle;\n",
       "    }\n",
       "\n",
       "    .dataframe tbody tr th {\n",
       "        vertical-align: top;\n",
       "    }\n",
       "\n",
       "    .dataframe thead th {\n",
       "        text-align: right;\n",
       "    }\n",
       "</style>\n",
       "<table border=\"1\" class=\"dataframe\">\n",
       "  <thead>\n",
       "    <tr style=\"text-align: right;\">\n",
       "      <th></th>\n",
       "      <th>sentence</th>\n",
       "      <th>labels</th>\n",
       "    </tr>\n",
       "  </thead>\n",
       "  <tbody>\n",
       "    <tr>\n",
       "      <th>0</th>\n",
       "      <td>They marched from the Houses of Parliament to ...</td>\n",
       "      <td>O,O,O,O,O,O,O,O,O,O,O,B-geo,I-geo,O</td>\n",
       "    </tr>\n",
       "    <tr>\n",
       "      <th>1</th>\n",
       "      <td>The International Atomic Energy Agency is to h...</td>\n",
       "      <td>O,B-org,I-org,I-org,I-org,O,O,O,O,O,O,O,O,B-ge...</td>\n",
       "    </tr>\n",
       "    <tr>\n",
       "      <th>2</th>\n",
       "      <td>The European Union , with U.S. backing , has t...</td>\n",
       "      <td>O,B-org,I-org,O,O,B-gpe,O,O,O,O,O,O,B-gpe,O,O,...</td>\n",
       "    </tr>\n",
       "    <tr>\n",
       "      <th>3</th>\n",
       "      <td>Militant groups frequently attack oil operatio...</td>\n",
       "      <td>O,O,O,O,O,O,O,O,B-geo,I-geo,O,O,O,O,O,O,O,O,O,...</td>\n",
       "    </tr>\n",
       "    <tr>\n",
       "      <th>4</th>\n",
       "      <td>The attacks occurred after the government said...</td>\n",
       "      <td>O,O,O,O,O,O,O,O,O,O,O,O,O,O,O,O,O,O,O,O,B-gpe,...</td>\n",
       "    </tr>\n",
       "    <tr>\n",
       "      <th>...</th>\n",
       "      <td>...</td>\n",
       "      <td>...</td>\n",
       "    </tr>\n",
       "    <tr>\n",
       "      <th>3803</th>\n",
       "      <td>Aircraft also struck a building allegedly used...</td>\n",
       "      <td>B-org,O,O,O,O,O,O,O,O,O,O,O,O</td>\n",
       "    </tr>\n",
       "    <tr>\n",
       "      <th>3804</th>\n",
       "      <td>One Hamas militant was reported killed and two...</td>\n",
       "      <td>O,B-org,O,O,O,O,O,O,O,O,O,O</td>\n",
       "    </tr>\n",
       "    <tr>\n",
       "      <th>3805</th>\n",
       "      <td>Media reports say Ford will cut 25,000 or more...</td>\n",
       "      <td>O,O,O,B-org,O,O,O,O,O,O,O,O,O,B-tim,I-tim,I-ti...</td>\n",
       "    </tr>\n",
       "    <tr>\n",
       "      <th>3806</th>\n",
       "      <td>The powerful Muslim Brotherhood Movement based...</td>\n",
       "      <td>O,O,B-org,I-org,I-org,O,O,O,O,O,O,O,O,O,O,O,O,...</td>\n",
       "    </tr>\n",
       "    <tr>\n",
       "      <th>3807</th>\n",
       "      <td>The United Nations and African Union are in th...</td>\n",
       "      <td>O,B-org,I-org,I-org,I-org,I-org,O,O,O,O,O,O,O,...</td>\n",
       "    </tr>\n",
       "  </tbody>\n",
       "</table>\n",
       "<p>3808 rows × 2 columns</p>\n",
       "</div>"
      ],
      "text/plain": [
       "                                               sentence  \\\n",
       "0     They marched from the Houses of Parliament to ...   \n",
       "1     The International Atomic Energy Agency is to h...   \n",
       "2     The European Union , with U.S. backing , has t...   \n",
       "3     Militant groups frequently attack oil operatio...   \n",
       "4     The attacks occurred after the government said...   \n",
       "...                                                 ...   \n",
       "3803  Aircraft also struck a building allegedly used...   \n",
       "3804  One Hamas militant was reported killed and two...   \n",
       "3805  Media reports say Ford will cut 25,000 or more...   \n",
       "3806  The powerful Muslim Brotherhood Movement based...   \n",
       "3807  The United Nations and African Union are in th...   \n",
       "\n",
       "                                                 labels  \n",
       "0                   O,O,O,O,O,O,O,O,O,O,O,B-geo,I-geo,O  \n",
       "1     O,B-org,I-org,I-org,I-org,O,O,O,O,O,O,O,O,B-ge...  \n",
       "2     O,B-org,I-org,O,O,B-gpe,O,O,O,O,O,O,B-gpe,O,O,...  \n",
       "3     O,O,O,O,O,O,O,O,B-geo,I-geo,O,O,O,O,O,O,O,O,O,...  \n",
       "4     O,O,O,O,O,O,O,O,O,O,O,O,O,O,O,O,O,O,O,O,B-gpe,...  \n",
       "...                                                 ...  \n",
       "3803                      B-org,O,O,O,O,O,O,O,O,O,O,O,O  \n",
       "3804                        O,B-org,O,O,O,O,O,O,O,O,O,O  \n",
       "3805  O,O,O,B-org,O,O,O,O,O,O,O,O,O,B-tim,I-tim,I-ti...  \n",
       "3806  O,O,B-org,I-org,I-org,O,O,O,O,O,O,O,O,O,O,O,O,...  \n",
       "3807  O,B-org,I-org,I-org,I-org,I-org,O,O,O,O,O,O,O,...  \n",
       "\n",
       "[3808 rows x 2 columns]"
      ]
     },
     "execution_count": 43,
     "metadata": {},
     "output_type": "execute_result"
    }
   ],
   "source": [
    "valid_df"
   ]
  },
  {
   "cell_type": "code",
   "execution_count": 44,
   "metadata": {},
   "outputs": [],
   "source": [
    "# Tokenize sentences and split labels\n",
    "for df in [valid_df, test_df]:\n",
    "    df['tokens'] = df['sentence'].apply(lambda x: x.strip().split())\n",
    "    df['label_list'] = df['labels'].apply(lambda x: x.strip().split(','))\n",
    "X_valid = np.array([\n",
    "    encode(tokens, word2id, fallback='<UNK>', pad_token='<PAD>')\n",
    "    for tokens in valid_df['tokens']\n",
    "])\n",
    "\n",
    "y_valid = np.array([\n",
    "    encode(labels, label2id, fallback='O', pad_token='O')\n",
    "    for labels in valid_df['label_list']\n",
    "])\n",
    "\n",
    "\n",
    "X_test = np.array([\n",
    "    encode(tokens, word2id, fallback='<UNK>', pad_token='<PAD>')\n",
    "    for tokens in test_df['tokens']\n",
    "])\n",
    "y_test = np.array([\n",
    "    encode(labels, label2id, fallback='O', pad_token='O')\n",
    "    for labels in test_df['label_list']\n",
    "])\n"
   ]
  },
  {
   "cell_type": "code",
   "execution_count": 45,
   "metadata": {},
   "outputs": [
    {
     "name": "stdout",
     "output_type": "stream",
     "text": [
      "Shape of Training Data (X, y): (34279, 40), (34279, 40)\n",
      "Shape of Validation Data (X_valid, y_valid): (3808, 40), (3808, 40)\n",
      "Shape of Test Data (X_test, y_test): (9520, 40), (9520, 40)\n"
     ]
    }
   ],
   "source": [
    "print(f\"Shape of Training Data (X, y): {X.shape}, {y.shape}\")\n",
    "print(f\"Shape of Validation Data (X_valid, y_valid): {X_valid.shape}, {y_valid.shape}\")\n",
    "print(f\"Shape of Test Data (X_test, y_test): {X_test.shape}, {y_test.shape}\")"
   ]
  },
  {
   "cell_type": "code",
   "execution_count": 46,
   "metadata": {},
   "outputs": [],
   "source": [
    "\n",
    "import numpy as np\n",
    "from tensorflow.keras.models import Sequential\n",
    "from tensorflow.keras.layers import Dense, Activation, SimpleRNN, Input\n",
    "from tensorflow.keras.utils import to_categorical, plot_model\n",
    "from tensorflow.keras.datasets import mnist\n",
    "from tensorflow.keras.models import Model\n"
   ]
  },
  {
   "cell_type": "code",
   "execution_count": 47,
   "metadata": {},
   "outputs": [],
   "source": [
    "from torch.autograd import Variable\n",
    "from torch.nn.utils.rnn import pack_padded_sequence, pad_packed_sequence\n",
    "from torch.utils.data import Dataset, DataLoader\n",
    "from torch.nn.utils.rnn import pad_sequence\n",
    "from torch.nn import Embedding\n",
    "from torch.nn import LSTM"
   ]
  },
  {
   "cell_type": "code",
   "execution_count": 48,
   "metadata": {},
   "outputs": [],
   "source": [
    "X = torch.from_numpy(X)\n",
    "y = torch.from_numpy(y)\n",
    "X_valid = torch.from_numpy(X_valid)\n",
    "y_valid = torch.from_numpy(y_valid)\n",
    "X_test = torch.from_numpy(X_test)\n",
    "y_test = torch.from_numpy(y_test)"
   ]
  },
  {
   "cell_type": "code",
   "execution_count": 49,
   "metadata": {},
   "outputs": [
    {
     "data": {
      "text/plain": [
       "torch.Size([34279, 40])"
      ]
     },
     "execution_count": 49,
     "metadata": {},
     "output_type": "execute_result"
    }
   ],
   "source": [
    "X.shape"
   ]
  },
  {
   "cell_type": "markdown",
   "metadata": {},
   "source": [
    "### Embedding Layer"
   ]
  },
  {
   "cell_type": "markdown",
   "metadata": {},
   "source": [
    "### Baseline model"
   ]
  },
  {
   "cell_type": "code",
   "execution_count": 50,
   "metadata": {},
   "outputs": [],
   "source": [
    "class NERDataset(Dataset):\n",
    "    def __init__(self,X_tensor,y_tensor,lengths):\n",
    "        self.X = X_tensor\n",
    "        self.y = y_tensor\n",
    "        self.lengths = lengths\n",
    "        \n",
    "    def __len__(self):\n",
    "        return self.X.size(0)\n",
    "    def __getitem__(self,idx):\n",
    "        return torch.tensor(self.X[idx],dtype= torch.long), \\\n",
    "                torch.tensor(self.y[idx], dtype = torch.long),\\\n",
    "                torch.tensor(self.lengths[idx], dtype = torch.long)\n",
    "#pack individual examples into a single batch\n",
    "def collate_fn(batch):  \n",
    "    tokens, tags,lengths= zip(*batch)\n",
    "    tokens = torch.stack(tokens)\n",
    "    tags = torch.stack(tags)\n",
    "    lengths = torch.stack(lengths)\n",
    "    return tokens, tags, lengths\n",
    "    "
   ]
  },
  {
   "cell_type": "code",
   "execution_count": 51,
   "metadata": {},
   "outputs": [],
   "source": [
    "# sentence 1 → length 5\n",
    "tokens_1 = [1, 2, 3, 4, 5] + [0] * 35  # pad to 40\n",
    "tags_1   = [0, 0, 0, 1, 0] + [0] * 35\n",
    "\n",
    "# sentence 2 → length 4\n",
    "tokens_2 = [1, 2, 3, 4] + [0] * 36     # pad to 40\n",
    "tags_2   = [0, 0, 0, 1] + [0] * 36\n"
   ]
  },
  {
   "cell_type": "code",
   "execution_count": 52,
   "metadata": {},
   "outputs": [],
   "source": [
    "batch = [\n",
    "    (torch.tensor(tokens_1), torch.tensor(tags_1)),\n",
    "    (torch.tensor(tokens_2), torch.tensor(tags_2))\n",
    "]\n"
   ]
  },
  {
   "cell_type": "code",
   "execution_count": 53,
   "metadata": {},
   "outputs": [
    {
     "data": {
      "text/plain": [
       "4"
      ]
     },
     "execution_count": 53,
     "metadata": {},
     "output_type": "execute_result"
    }
   ],
   "source": [
    "x = torch.tensor([[1,2,34,5], [3,4,56,5]])\n",
    "x.size(1)"
   ]
  },
  {
   "cell_type": "markdown",
   "metadata": {},
   "source": [
    "### For debugging"
   ]
  },
  {
   "cell_type": "code",
   "execution_count": 54,
   "metadata": {},
   "outputs": [],
   "source": [
    "from IPython.core.debugger import set_trace\n",
    "import pdb\n",
    "import tqdm"
   ]
  },
  {
   "cell_type": "markdown",
   "metadata": {},
   "source": [
    "### Parameters"
   ]
  },
  {
   "cell_type": "code",
   "execution_count": 55,
   "metadata": {},
   "outputs": [],
   "source": [
    "PAD_IDX = label2id['<PAD>']   # 0\n",
    "VOCAB_SIZE = vocab_size  # 30523\n",
    "TAGSET_SIZE = len(label2id)\n",
    "BATCH_SIZE = 32\n",
    "NUM_EPOCHS = 10\n",
    "learning_rate = 0.001\n",
    "\n",
    "#orignal length sequence:\n"
   ]
  },
  {
   "cell_type": "code",
   "execution_count": 56,
   "metadata": {},
   "outputs": [],
   "source": [
    "df = pd.DataFrame([[0, 2, 3], [0, 4, 1], [10, 20, 30]],\n",
    "                  index=[4, 5, 6], columns=['A', 'B', 'C'])"
   ]
  },
  {
   "cell_type": "code",
   "execution_count": 57,
   "metadata": {},
   "outputs": [],
   "source": [
    "class BiLSTMTagger(torch.nn.Module):\n",
    "    def __init__(self,\n",
    "                 tagset_size: int,\n",
    "                 embedding_dim: int = 200,\n",
    "                 hidden_dim: int = 128,\n",
    "                 num_layers: int = 1,\n",
    "                 dropout: float = 0.3,\n",
    "                 pad_idx: int = 0):  #pad_idx = vocab[\"<pad>\"]\n",
    "        super().__init__()\n",
    "        \n",
    "        self.embedding = nn.Embedding(VOCAB_SIZE, embedding_dim, padding_idx=pad_idx)\n",
    "        self.lstm = nn.LSTM(\n",
    "            input_size=embedding_dim,\n",
    "            hidden_size=hidden_dim,\n",
    "            num_layers=num_layers,\n",
    "            bidirectional=True,  ## hidden backward + hidden forward (h_tf+ h_tb)  # single then remove 2 , \n",
    "            \n",
    "            batch_first=True,\n",
    "            dropout=dropout if num_layers > 1 else 0.0\n",
    "        )\n",
    "        \n",
    "        self.dropout = nn.Dropout(dropout)\n",
    "        # each time step we pass the output of LSTM to a fully connected layer \n",
    "        self.fc = nn.Linear(hidden_dim *2, tagset_size) # tagset_size = 10\n",
    "        self.softmax = nn.Softmax(dim=-1)  \n",
    "\n",
    "    def forward(self, x: torch.LongTensor,lengths: torch.LongTensor):\n",
    "        # exercice: put the shape of each layer\n",
    "        emb = self.embedding(x)  # (B,S,E_dim)\n",
    "        # Pack to let LSTM skip the padded tokens\n",
    "        # there are some sequences whose lengths are greater than 40(padding sequence)\n",
    "        lengths = torch.clamp(lengths, max = x.size(1))\n",
    "        \n",
    "        packed = pack_padded_sequence(emb, lengths.cpu(), batch_first=True, enforce_sorted=False) #(T_total, Emb) (sum of actual sequence length)\n",
    "        # LSTM\n",
    "        packed_out,_ = self.lstm(packed)  # (T_total,Hidden_dimension*2(2H)) Hidden state for each time step  # Pytorch initialize the initial state to zero\n",
    "        lstm_out,_ = pad_packed_sequence(packed_out, batch_first=True, total_length=x.size(1))  # (B,S,2H) Ignore o, c, etc\n",
    "        \n",
    "        out = self.dropout(lstm_out)  #(B,S,2H)\n",
    "        logits = self.fc(out) #(B,S,C)\n",
    "        probabilities = self.softmax(logits)  #(B,S,C)  # Apply softmax to logits\n",
    "        return probabilities"
   ]
  },
  {
   "cell_type": "code",
   "execution_count": 59,
   "metadata": {},
   "outputs": [
    {
     "data": {
      "text/plain": [
       "torch.Size([3, 40, 200])"
      ]
     },
     "execution_count": 59,
     "metadata": {},
     "output_type": "execute_result"
    }
   ],
   "source": [
    "emb = Embedding(VOCAB_SIZE,embedding_dim=200,padding_idx = PAD_IDX)  #shape \n",
    "X_emb = emb(X)\n",
    "X_emb[:3,].shape\n"
   ]
  },
  {
   "cell_type": "code",
   "execution_count": 60,
   "metadata": {},
   "outputs": [
    {
     "data": {
      "text/plain": [
       "[[12, 78, 97, 75, 0, 0, 0],\n",
       " [12, 78, 97, 75, 6, 7, 1007],\n",
       " [12, 78, 0, 0, 0, 0, 0]]"
      ]
     },
     "execution_count": 60,
     "metadata": {},
     "output_type": "execute_result"
    }
   ],
   "source": [
    "[\n",
    "    [12,78,97,75,0,0,0],\n",
    "    [12,78,97,75,6,7,1007],\n",
    "    [12,78,0,0,0,0,0],    \n",
    "]"
   ]
  },
  {
   "cell_type": "code",
   "execution_count": 61,
   "metadata": {},
   "outputs": [
    {
     "data": {
      "text/plain": [
       "torch.Size([13, 200])"
      ]
     },
     "execution_count": 61,
     "metadata": {},
     "output_type": "execute_result"
    }
   ],
   "source": [
    "packed_out = pack_padded_sequence(X_emb[:3,], torch.tensor([4,7,2]),batch_first= True,enforce_sorted=False)\n",
    "packed_out.data.shape  #only 13 values plug in the model while as before it was 120"
   ]
  },
  {
   "cell_type": "markdown",
   "metadata": {},
   "source": [
    "### Batching training data"
   ]
  },
  {
   "cell_type": "code",
   "execution_count": 77,
   "metadata": {},
   "outputs": [],
   "source": [
    "\n",
    "lengths_train = np.array([len(seq) for seq in train_df[\"tokens\"]])\n",
    "lengths_valid = np.array([len(seq) for seq in valid_df[\"tokens\"]])\n",
    "lengths_test = np.array([len(seq) for seq in test_df[\"tokens\"]])\n",
    "dataset_train = NERDataset(X,y,lengths_train)\n",
    "loader_train = DataLoader(dataset_train,\n",
    "                    batch_size = 32,\n",
    "                    shuffle = True,\n",
    "                    collate_fn = collate_fn,\n",
    "                    num_workers =0, # of CPU\n",
    "                    pin_memory = False)  # true if we use GPU\n",
    "\n"
   ]
  },
  {
   "cell_type": "code",
   "execution_count": 75,
   "metadata": {},
   "outputs": [],
   "source": [
    "# validation dataset \n",
    "\n",
    "dataset_valid = NERDataset(X_valid,y_valid, lengths_valid)\n",
    "loader_valid = DataLoader(dataset_valid,\n",
    "                    batch_size = 32,\n",
    "                    shuffle = True,\n",
    "                    collate_fn = collate_fn,\n",
    "                    num_workers =0, # of CPU\n",
    "                    pin_memory = False)"
   ]
  },
  {
   "cell_type": "code",
   "execution_count": 76,
   "metadata": {},
   "outputs": [],
   "source": [
    "# test dataset \n",
    "dataset_test = NERDataset(X_test,y_test, lengths_test)\n",
    "loader_test = DataLoader(dataset_test,\n",
    "                    batch_size = 32,\n",
    "                    shuffle = True,\n",
    "                    collate_fn = collate_fn,\n",
    "                    num_workers =0, # of CPU\n",
    "                    pin_memory = False)"
   ]
  },
  {
   "cell_type": "markdown",
   "metadata": {},
   "source": [
    "### Optimizer and Device"
   ]
  },
  {
   "cell_type": "code",
   "execution_count": 63,
   "metadata": {},
   "outputs": [],
   "source": [
    "device = torch.device('cuda' if torch.cuda.is_available() else 'cpu')\n",
    "model = BiLSTMTagger(VOCAB_SIZE,TAGSET_SIZE).to(device)\n",
    "criterion = nn.CrossEntropyLoss(ignore_index= PAD_IDX)\n",
    "\n",
    "optimizer = torch.optim.Adam(model.parameters(), lr = learning_rate)"
   ]
  },
  {
   "cell_type": "code",
   "execution_count": 66,
   "metadata": {},
   "outputs": [
    {
     "data": {
      "text/plain": [
       "tensor([ True,  True, False,  True,  True, False])"
      ]
     },
     "execution_count": 66,
     "metadata": {},
     "output_type": "execute_result"
    }
   ],
   "source": [
    "PAD_IDX = 0\n",
    "\n",
    "# Predicted labels (flattened from a batch of sequences)\n",
    "preds = torch.tensor([1, 2, 0, 3, 2, 0])\n",
    "\n",
    "# True labels\n",
    "labels = torch.tensor([1, 2, 0, 4, 2, 0])\n",
    "mask = labels != PAD_IDX\n",
    "# Output: tensor([True, True, False, True, True, False])\n",
    "preds == labels\n",
    "# Output: tensor([True, True, True, False, True, True])\n",
    "correct = (preds == labels) & mask\n",
    "# Output: tensor([ True,  True, False, False,  True, False])\n",
    "\n",
    "mask"
   ]
  },
  {
   "cell_type": "code",
   "execution_count": 67,
   "metadata": {},
   "outputs": [
    {
     "data": {
      "text/plain": [
       "torch.Size([34279, 40])"
      ]
     },
     "execution_count": 67,
     "metadata": {},
     "output_type": "execute_result"
    }
   ],
   "source": [
    "X.shape"
   ]
  },
  {
   "cell_type": "code",
   "execution_count": 68,
   "metadata": {},
   "outputs": [],
   "source": [
    "# ## for tmr: \n",
    "# ## write the accuracy function to put in the training loop\n",
    "# average accuracy \n",
    "def accuracy(pred,labels,pad_idx):\n",
    "    mask = labels != pad_idx\n",
    "    correct = (pred == labels) & mask\n",
    "    return correct.sum().item()/mask.sum().item()\n"
   ]
  },
  {
   "cell_type": "code",
   "execution_count": 71,
   "metadata": {},
   "outputs": [
    {
     "data": {
      "text/plain": [
       "tensor([ 1754,  3225,   138,     7, 24721,     3,  3410,   110,    67,  1491,\n",
       "            6,  7972,  3287,    26,     0,     0,     0,     0,     0,     0,\n",
       "            0,     0,     0,     0,     0,     0,     0,     0,     0,     0,\n",
       "            0,     0,     0,     0,     0,     0,     0,     0,     0,     0])"
      ]
     },
     "execution_count": 71,
     "metadata": {},
     "output_type": "execute_result"
    }
   ],
   "source": [
    "X_valid[0]"
   ]
  },
  {
   "cell_type": "markdown",
   "metadata": {},
   "source": [
    "### Test for overfitting"
   ]
  },
  {
   "cell_type": "markdown",
   "metadata": {},
   "source": [
    "## EarlyStopping Class\n",
    "\n",
    "We can implement an `EarlyStopping` class to control the training phase if the validation loss stops improving.\n",
    "\n",
    "### Parameters\n",
    "\n",
    "- **`patience`**  \n",
    "  Number of epochs to wait before stopping if no improvement.\n",
    "- **`delta`**  \n",
    "  Minimum change in the monitored quantity to qualify as an improvement.\n",
    "- **`best_score`**, **`best_model_state`**  \n",
    "  Track the best validation score and model state.\n",
    "\n",
    "### Methods\n",
    "\n",
    "- **`__call__(val_loss, model)`**  \n",
    "  Updates the early stopping logic.\n"
   ]
  },
  {
   "cell_type": "code",
   "execution_count": 82,
   "metadata": {},
   "outputs": [],
   "source": [
    "class EarlyStopping:\n",
    "    def __init__(self,patience = 5, delta = 0):\n",
    "        self.patience = patience\n",
    "        self.delta = delta\n",
    "        self.best_score = None\n",
    "        self.early_stop = False\n",
    "        self.counter = 0\n",
    "        self.best_model_state = None\n",
    "    # create our own callable to facilitate configuration\n",
    "    def __call__(self, val_loss, model):\n",
    "        score = -val_loss\n",
    "        if self.best_score is None:\n",
    "            self.best_score = score\n",
    "            self.best_model_state = model.state_dict()\n",
    "        elif score < self.best_score + self.delta:\n",
    "            self.counter += 1\n",
    "            if self.counter >= self.patience:\n",
    "                self.early_stop = True\n",
    "        else:\n",
    "            self.best_score = score\n",
    "            self.best_model_state = model.state_dict()\n",
    "            self.counter = 0\n",
    "\n",
    "    def load_best_model(self, model):\n",
    "        model.load_state_dict(self.best_model_state)\n",
    "   "
   ]
  },
  {
   "cell_type": "code",
   "execution_count": 83,
   "metadata": {},
   "outputs": [],
   "source": [
    "early_stopping = EarlyStopping(patience=5, delta=0.01)"
   ]
  },
  {
   "cell_type": "code",
   "execution_count": 85,
   "metadata": {},
   "outputs": [
    {
     "name": "stderr",
     "output_type": "stream",
     "text": [
      "/var/folders/_9/m2ryk39s2slc67mc6y5xdxcm0000gn/T/ipykernel_94141/1118154837.py:10: UserWarning: To copy construct from a tensor, it is recommended to use sourceTensor.detach().clone() or sourceTensor.detach().clone().requires_grad_(True), rather than torch.tensor(sourceTensor).\n",
      "  return torch.tensor(self.X[idx],dtype= torch.long), \\\n",
      "/var/folders/_9/m2ryk39s2slc67mc6y5xdxcm0000gn/T/ipykernel_94141/1118154837.py:11: UserWarning: To copy construct from a tensor, it is recommended to use sourceTensor.detach().clone() or sourceTensor.detach().clone().requires_grad_(True), rather than torch.tensor(sourceTensor).\n",
      "  torch.tensor(self.y[idx], dtype = torch.long),\\\n"
     ]
    },
    {
     "ename": "KeyboardInterrupt",
     "evalue": "",
     "output_type": "error",
     "traceback": [
      "\u001b[31m---------------------------------------------------------------------------\u001b[39m",
      "\u001b[31mKeyboardInterrupt\u001b[39m                         Traceback (most recent call last)",
      "\u001b[36mCell\u001b[39m\u001b[36m \u001b[39m\u001b[32mIn[85]\u001b[39m\u001b[32m, line 16\u001b[39m\n\u001b[32m     13\u001b[39m optimizer.zero_grad()\n\u001b[32m     15\u001b[39m \u001b[38;5;66;03m# Forward pass\u001b[39;00m\n\u001b[32m---> \u001b[39m\u001b[32m16\u001b[39m logits = \u001b[43mmodel\u001b[49m\u001b[43m(\u001b[49m\u001b[43mbatch_tokens\u001b[49m\u001b[43m,\u001b[49m\u001b[43mlengths\u001b[49m\u001b[43m)\u001b[49m  \u001b[38;5;66;03m# (B, S, C)  C = 10\u001b[39;00m\n\u001b[32m     17\u001b[39m \u001b[38;5;66;03m# Flatten logits and targets for loss computation\u001b[39;00m\n\u001b[32m     18\u001b[39m logits = logits.reshape(-\u001b[32m1\u001b[39m, logits.size(-\u001b[32m1\u001b[39m))  \u001b[38;5;66;03m# (B*S, C)\u001b[39;00m\n",
      "\u001b[36mFile \u001b[39m\u001b[32m~/Documents/Internship 2A/code/venv/lib/python3.11/site-packages/torch/nn/modules/module.py:1751\u001b[39m, in \u001b[36mModule._wrapped_call_impl\u001b[39m\u001b[34m(self, *args, **kwargs)\u001b[39m\n\u001b[32m   1749\u001b[39m     \u001b[38;5;28;01mreturn\u001b[39;00m \u001b[38;5;28mself\u001b[39m._compiled_call_impl(*args, **kwargs)  \u001b[38;5;66;03m# type: ignore[misc]\u001b[39;00m\n\u001b[32m   1750\u001b[39m \u001b[38;5;28;01melse\u001b[39;00m:\n\u001b[32m-> \u001b[39m\u001b[32m1751\u001b[39m     \u001b[38;5;28;01mreturn\u001b[39;00m \u001b[38;5;28;43mself\u001b[39;49m\u001b[43m.\u001b[49m\u001b[43m_call_impl\u001b[49m\u001b[43m(\u001b[49m\u001b[43m*\u001b[49m\u001b[43margs\u001b[49m\u001b[43m,\u001b[49m\u001b[43m \u001b[49m\u001b[43m*\u001b[49m\u001b[43m*\u001b[49m\u001b[43mkwargs\u001b[49m\u001b[43m)\u001b[49m\n",
      "\u001b[36mFile \u001b[39m\u001b[32m~/Documents/Internship 2A/code/venv/lib/python3.11/site-packages/torch/nn/modules/module.py:1762\u001b[39m, in \u001b[36mModule._call_impl\u001b[39m\u001b[34m(self, *args, **kwargs)\u001b[39m\n\u001b[32m   1757\u001b[39m \u001b[38;5;66;03m# If we don't have any hooks, we want to skip the rest of the logic in\u001b[39;00m\n\u001b[32m   1758\u001b[39m \u001b[38;5;66;03m# this function, and just call forward.\u001b[39;00m\n\u001b[32m   1759\u001b[39m \u001b[38;5;28;01mif\u001b[39;00m \u001b[38;5;129;01mnot\u001b[39;00m (\u001b[38;5;28mself\u001b[39m._backward_hooks \u001b[38;5;129;01mor\u001b[39;00m \u001b[38;5;28mself\u001b[39m._backward_pre_hooks \u001b[38;5;129;01mor\u001b[39;00m \u001b[38;5;28mself\u001b[39m._forward_hooks \u001b[38;5;129;01mor\u001b[39;00m \u001b[38;5;28mself\u001b[39m._forward_pre_hooks\n\u001b[32m   1760\u001b[39m         \u001b[38;5;129;01mor\u001b[39;00m _global_backward_pre_hooks \u001b[38;5;129;01mor\u001b[39;00m _global_backward_hooks\n\u001b[32m   1761\u001b[39m         \u001b[38;5;129;01mor\u001b[39;00m _global_forward_hooks \u001b[38;5;129;01mor\u001b[39;00m _global_forward_pre_hooks):\n\u001b[32m-> \u001b[39m\u001b[32m1762\u001b[39m     \u001b[38;5;28;01mreturn\u001b[39;00m \u001b[43mforward_call\u001b[49m\u001b[43m(\u001b[49m\u001b[43m*\u001b[49m\u001b[43margs\u001b[49m\u001b[43m,\u001b[49m\u001b[43m \u001b[49m\u001b[43m*\u001b[49m\u001b[43m*\u001b[49m\u001b[43mkwargs\u001b[49m\u001b[43m)\u001b[49m\n\u001b[32m   1764\u001b[39m result = \u001b[38;5;28;01mNone\u001b[39;00m\n\u001b[32m   1765\u001b[39m called_always_called_hooks = \u001b[38;5;28mset\u001b[39m()\n",
      "\u001b[36mCell\u001b[39m\u001b[36m \u001b[39m\u001b[32mIn[57]\u001b[39m\u001b[32m, line 41\u001b[39m, in \u001b[36mBiLSTMTagger.forward\u001b[39m\u001b[34m(self, x, lengths)\u001b[39m\n\u001b[32m     39\u001b[39m out = \u001b[38;5;28mself\u001b[39m.dropout(lstm_out)  \u001b[38;5;66;03m#(B,S,2H)\u001b[39;00m\n\u001b[32m     40\u001b[39m logits = \u001b[38;5;28mself\u001b[39m.fc(out) \u001b[38;5;66;03m#(B,S,C)\u001b[39;00m\n\u001b[32m---> \u001b[39m\u001b[32m41\u001b[39m probabilities = \u001b[38;5;28;43mself\u001b[39;49m\u001b[43m.\u001b[49m\u001b[43msoftmax\u001b[49m\u001b[43m(\u001b[49m\u001b[43mlogits\u001b[49m\u001b[43m)\u001b[49m  \u001b[38;5;66;03m#(B,S,C)  # Apply softmax to logits\u001b[39;00m\n\u001b[32m     42\u001b[39m \u001b[38;5;28;01mreturn\u001b[39;00m probabilities\n",
      "\u001b[36mFile \u001b[39m\u001b[32m~/Documents/Internship 2A/code/venv/lib/python3.11/site-packages/torch/nn/modules/module.py:1751\u001b[39m, in \u001b[36mModule._wrapped_call_impl\u001b[39m\u001b[34m(self, *args, **kwargs)\u001b[39m\n\u001b[32m   1749\u001b[39m     \u001b[38;5;28;01mreturn\u001b[39;00m \u001b[38;5;28mself\u001b[39m._compiled_call_impl(*args, **kwargs)  \u001b[38;5;66;03m# type: ignore[misc]\u001b[39;00m\n\u001b[32m   1750\u001b[39m \u001b[38;5;28;01melse\u001b[39;00m:\n\u001b[32m-> \u001b[39m\u001b[32m1751\u001b[39m     \u001b[38;5;28;01mreturn\u001b[39;00m \u001b[38;5;28;43mself\u001b[39;49m\u001b[43m.\u001b[49m\u001b[43m_call_impl\u001b[49m\u001b[43m(\u001b[49m\u001b[43m*\u001b[49m\u001b[43margs\u001b[49m\u001b[43m,\u001b[49m\u001b[43m \u001b[49m\u001b[43m*\u001b[49m\u001b[43m*\u001b[49m\u001b[43mkwargs\u001b[49m\u001b[43m)\u001b[49m\n",
      "\u001b[36mFile \u001b[39m\u001b[32m~/Documents/Internship 2A/code/venv/lib/python3.11/site-packages/torch/nn/modules/module.py:1762\u001b[39m, in \u001b[36mModule._call_impl\u001b[39m\u001b[34m(self, *args, **kwargs)\u001b[39m\n\u001b[32m   1757\u001b[39m \u001b[38;5;66;03m# If we don't have any hooks, we want to skip the rest of the logic in\u001b[39;00m\n\u001b[32m   1758\u001b[39m \u001b[38;5;66;03m# this function, and just call forward.\u001b[39;00m\n\u001b[32m   1759\u001b[39m \u001b[38;5;28;01mif\u001b[39;00m \u001b[38;5;129;01mnot\u001b[39;00m (\u001b[38;5;28mself\u001b[39m._backward_hooks \u001b[38;5;129;01mor\u001b[39;00m \u001b[38;5;28mself\u001b[39m._backward_pre_hooks \u001b[38;5;129;01mor\u001b[39;00m \u001b[38;5;28mself\u001b[39m._forward_hooks \u001b[38;5;129;01mor\u001b[39;00m \u001b[38;5;28mself\u001b[39m._forward_pre_hooks\n\u001b[32m   1760\u001b[39m         \u001b[38;5;129;01mor\u001b[39;00m _global_backward_pre_hooks \u001b[38;5;129;01mor\u001b[39;00m _global_backward_hooks\n\u001b[32m   1761\u001b[39m         \u001b[38;5;129;01mor\u001b[39;00m _global_forward_hooks \u001b[38;5;129;01mor\u001b[39;00m _global_forward_pre_hooks):\n\u001b[32m-> \u001b[39m\u001b[32m1762\u001b[39m     \u001b[38;5;28;01mreturn\u001b[39;00m \u001b[43mforward_call\u001b[49m\u001b[43m(\u001b[49m\u001b[43m*\u001b[49m\u001b[43margs\u001b[49m\u001b[43m,\u001b[49m\u001b[43m \u001b[49m\u001b[43m*\u001b[49m\u001b[43m*\u001b[49m\u001b[43mkwargs\u001b[49m\u001b[43m)\u001b[49m\n\u001b[32m   1764\u001b[39m result = \u001b[38;5;28;01mNone\u001b[39;00m\n\u001b[32m   1765\u001b[39m called_always_called_hooks = \u001b[38;5;28mset\u001b[39m()\n",
      "\u001b[36mFile \u001b[39m\u001b[32m~/Documents/Internship 2A/code/venv/lib/python3.11/site-packages/torch/nn/modules/activation.py:1672\u001b[39m, in \u001b[36mSoftmax.forward\u001b[39m\u001b[34m(self, input)\u001b[39m\n\u001b[32m   1671\u001b[39m \u001b[38;5;28;01mdef\u001b[39;00m\u001b[38;5;250m \u001b[39m\u001b[34mforward\u001b[39m(\u001b[38;5;28mself\u001b[39m, \u001b[38;5;28minput\u001b[39m: Tensor) -> Tensor:\n\u001b[32m-> \u001b[39m\u001b[32m1672\u001b[39m     \u001b[38;5;28;01mreturn\u001b[39;00m \u001b[43mF\u001b[49m\u001b[43m.\u001b[49m\u001b[43msoftmax\u001b[49m\u001b[43m(\u001b[49m\u001b[38;5;28;43minput\u001b[39;49m\u001b[43m,\u001b[49m\u001b[43m \u001b[49m\u001b[38;5;28;43mself\u001b[39;49m\u001b[43m.\u001b[49m\u001b[43mdim\u001b[49m\u001b[43m,\u001b[49m\u001b[43m \u001b[49m\u001b[43m_stacklevel\u001b[49m\u001b[43m=\u001b[49m\u001b[32;43m5\u001b[39;49m\u001b[43m)\u001b[49m\n",
      "\u001b[36mFile \u001b[39m\u001b[32m~/Documents/Internship 2A/code/venv/lib/python3.11/site-packages/torch/nn/functional.py:2140\u001b[39m, in \u001b[36msoftmax\u001b[39m\u001b[34m(input, dim, _stacklevel, dtype)\u001b[39m\n\u001b[32m   2138\u001b[39m     dim = _get_softmax_dim(\u001b[33m\"\u001b[39m\u001b[33msoftmax\u001b[39m\u001b[33m\"\u001b[39m, \u001b[38;5;28minput\u001b[39m.dim(), _stacklevel)\n\u001b[32m   2139\u001b[39m \u001b[38;5;28;01mif\u001b[39;00m dtype \u001b[38;5;129;01mis\u001b[39;00m \u001b[38;5;28;01mNone\u001b[39;00m:\n\u001b[32m-> \u001b[39m\u001b[32m2140\u001b[39m     ret = \u001b[38;5;28;43minput\u001b[39;49m\u001b[43m.\u001b[49m\u001b[43msoftmax\u001b[49m\u001b[43m(\u001b[49m\u001b[43mdim\u001b[49m\u001b[43m)\u001b[49m\n\u001b[32m   2141\u001b[39m \u001b[38;5;28;01melse\u001b[39;00m:\n\u001b[32m   2142\u001b[39m     ret = \u001b[38;5;28minput\u001b[39m.softmax(dim, dtype=dtype)\n",
      "\u001b[31mKeyboardInterrupt\u001b[39m: "
     ]
    }
   ],
   "source": [
    "from tqdm import tqdm\n",
    "torch.manual_seed(42)\n",
    "\n",
    "for epoch in range(NUM_EPOCHS):\n",
    "    model.train()\n",
    "\n",
    "    train_loss = 0.0\n",
    "    for batch_tokens, batch_tags, lengths in loader_train :  # tuple from the collate_fn function \n",
    "        batch_tokens = batch_tokens.to(device) #unecessary here since it is automatic\n",
    "        lengths = lengths.to(device)\n",
    "        batch_tags = batch_tags.to(device)\n",
    "        \n",
    "        optimizer.zero_grad()\n",
    "\n",
    "        # Forward pass\n",
    "        logits = model(batch_tokens,lengths)  # (B, S, C)  C = 10\n",
    "        # Flatten logits and targets for loss computation\n",
    "        logits = logits.reshape(-1, logits.size(-1))  # (B*S, C)\n",
    "        batch_tags = batch_tags.view(-1) #true value             # (B*S)\n",
    "        # Compute loss\n",
    "        loss = criterion(logits, batch_tags)\n",
    "            \n",
    "        # Backpropagation with anomaly detection\n",
    "        with torch.autograd.set_detect_anomaly(True):\n",
    "            loss.backward()\n",
    "                \n",
    "        optimizer.step()\n",
    "        train_loss += loss.item()\n",
    "        \n",
    "         \n",
    "    #test on validation dataset\n",
    "    val_loss = 0.0\n",
    "    valid_accuracy = 0\n",
    "    num_batches = 0\n",
    "    model.eval()\n",
    "    with torch.inference_mode():\n",
    "        for tokens, tags, lengths_valid in loader_valid:\n",
    "            tokens = tokens.to(device)\n",
    "            tags = tags.to(device)\n",
    "            lengths_valid = lengths_valid.to(device)\n",
    "            \n",
    "            output = model(tokens,lengths_valid)  #shape (B,S,C)\n",
    "            output_flat = output.view(-1,output.size(-1))  #(B*S,C)\n",
    "            tags_flat = tags.view(-1)  # shape (B*S,)\n",
    "            loss = criterion(output_flat,tags_flat)\n",
    "            val_loss += loss.item()\n",
    "            prediction_valid = torch.argmax(output,dim =-1)\n",
    "            valid_accuracy += accuracy(prediction_valid,tags,pad_idx = PAD_IDX)\n",
    "            num_batches += 1\n",
    "            \n",
    "    valid_accuracy = valid_accuracy/num_batches   \n",
    "    print(f\"Epoch {epoch+1} — Train_Loss: {train_loss:.4f}, Valid_Loss: {val_loss:.4f}, Accuracy_valid: {valid_accuracy:.4f}\")  \n",
    "    early_stopping(val_loss, model)\n",
    "    if early_stopping.early_stop:\n",
    "        print(\"Early stopping\")\n",
    "        break\n",
    "\n",
    "early_stopping.load_best_model(model)   \n",
    "   \n"
   ]
  },
  {
   "cell_type": "code",
   "execution_count": null,
   "metadata": {},
   "outputs": [],
   "source": []
  },
  {
   "cell_type": "code",
   "execution_count": 202,
   "metadata": {},
   "outputs": [
    {
     "data": {
      "text/plain": [
       "9"
      ]
     },
     "execution_count": 202,
     "metadata": {},
     "output_type": "execute_result"
    }
   ],
   "source": [
    "te = torch.tensor(9)\n",
    "te.item()"
   ]
  },
  {
   "cell_type": "code",
   "execution_count": 179,
   "metadata": {},
   "outputs": [],
   "source": [
    "import torch\n",
    "import torch.nn.functional as F"
   ]
  },
  {
   "cell_type": "code",
   "execution_count": 180,
   "metadata": {},
   "outputs": [
    {
     "name": "stderr",
     "output_type": "stream",
     "text": [
      "/var/folders/_9/m2ryk39s2slc67mc6y5xdxcm0000gn/T/ipykernel_96984/3044564666.py:2: UserWarning: Implicit dimension choice for softmax has been deprecated. Change the call to include dim=X as an argument.\n",
      "  probs = F.softmax(logits)\n"
     ]
    }
   ],
   "source": [
    "logits = torch.tensor([2.0, 1.0, 0.1])  # raw result from the pipeline\n",
    "probs = F.softmax(logits)"
   ]
  },
  {
   "cell_type": "code",
   "execution_count": null,
   "metadata": {},
   "outputs": [],
   "source": [
    "\n",
    "\n",
    "# #Training loop\n",
    "# for epoch in range(NUM_EPOCHS):\n",
    "#     total_loss = 0.0\n",
    "#     for batch in dataloader:\n",
    "\n",
    "#         batch_tokens, batch_tags = batch  # both have shape (batch_size, 40)\n",
    "\n",
    "#         # move to device (CPU in your case)\n",
    "#         batch_tokens = batch_tokens.to('cpu')       # already on CPU\n",
    "#         batch_tags = batch_tags.to('cpu')           # already on CPU\n",
    "\n",
    "#         #forward pass\n",
    "#         output = model(batch_tokens, lengths=torch.full((batch_tokens.size(0),), 40, dtype=torch.long))\n",
    "\n",
    "#         #output  shape (batch_size, 40, tagset_size)\n",
    "#         batch_size = output.shape[0]\n",
    "#         seq_len = output.shape[1]\n",
    "#         tagset_size = output.shape[2]\n",
    "\n",
    "#         # Flatten the output and target manually\n",
    "#         all_predictions = []\n",
    "#         all_targets = []\n",
    "#         for i in range(batch_size):\n",
    "#             for j in range(seq_len):\n",
    "#                 predicted_scores = output[i][j]     # shape: (tagset_size,)\n",
    "#                 true_tag = batch_tags[i][j]         # scalar\n",
    "\n",
    "#                 if true_tag != PAD_IDX:             # skip padding positions\n",
    "#                     all_predictions.append(predicted_scores)\n",
    "#                     all_targets.append(true_tag)\n",
    "\n",
    "#         # Stack to form tensors\n",
    "#         pred_tensor = torch.stack(all_predictions)         # shape: (N, tagset_size)\n",
    "#         target_tensor = torch.tensor(all_targets)          # shape: (N,)\n",
    "\n",
    "    \n",
    "#         loss = criterion(pred_tensor, target_tensor)\n",
    "\n",
    "#         # Backward pass and update\n",
    "#         optimizer.zero_grad()\n",
    "#         loss.backward()\n",
    "#         optimizer.step()\n",
    "\n",
    "#         total_loss += loss.item()\n",
    "\n",
    "#     print(f\"Epoch {epoch+1}: Loss = {total_loss:.4f}\")"
   ]
  },
  {
   "cell_type": "markdown",
   "metadata": {},
   "source": [
    "### Loss, Optimizer "
   ]
  },
  {
   "cell_type": "code",
   "execution_count": 111,
   "metadata": {},
   "outputs": [
    {
     "data": {
      "text/plain": [
       "(34279, 40)"
      ]
     },
     "execution_count": 111,
     "metadata": {},
     "output_type": "execute_result"
    }
   ],
   "source": [
    "X.shape\n",
    "y.shape"
   ]
  },
  {
   "cell_type": "code",
   "execution_count": 112,
   "metadata": {},
   "outputs": [
    {
     "name": "stdout",
     "output_type": "stream",
     "text": [
      "Epoch 1/5\n",
      "\u001b[1m1072/1072\u001b[0m \u001b[32m━━━━━━━━━━━━━━━━━━━━\u001b[0m\u001b[37m\u001b[0m \u001b[1m29s\u001b[0m 25ms/step - accuracy: 0.9268 - loss: 0.3727 - val_accuracy: 0.9743 - val_loss: 0.0847\n",
      "Epoch 2/5\n",
      "\u001b[1m1072/1072\u001b[0m \u001b[32m━━━━━━━━━━━━━━━━━━━━\u001b[0m\u001b[37m\u001b[0m \u001b[1m28s\u001b[0m 26ms/step - accuracy: 0.9803 - loss: 0.0652 - val_accuracy: 0.9775 - val_loss: 0.0706\n",
      "Epoch 3/5\n",
      "\u001b[1m1072/1072\u001b[0m \u001b[32m━━━━━━━━━━━━━━━━━━━━\u001b[0m\u001b[37m\u001b[0m \u001b[1m27s\u001b[0m 25ms/step - accuracy: 0.9845 - loss: 0.0470 - val_accuracy: 0.9782 - val_loss: 0.0714\n",
      "Epoch 4/5\n",
      "\u001b[1m1072/1072\u001b[0m \u001b[32m━━━━━━━━━━━━━━━━━━━━\u001b[0m\u001b[37m\u001b[0m \u001b[1m28s\u001b[0m 26ms/step - accuracy: 0.9864 - loss: 0.0399 - val_accuracy: 0.9782 - val_loss: 0.0718\n",
      "Epoch 5/5\n",
      "\u001b[1m1072/1072\u001b[0m \u001b[32m━━━━━━━━━━━━━━━━━━━━\u001b[0m\u001b[37m\u001b[0m \u001b[1m29s\u001b[0m 27ms/step - accuracy: 0.9878 - loss: 0.0348 - val_accuracy: 0.9783 - val_loss: 0.0743\n"
     ]
    },
    {
     "data": {
      "text/plain": [
       "<keras.src.callbacks.history.History at 0x2a35c1650>"
      ]
     },
     "execution_count": 112,
     "metadata": {},
     "output_type": "execute_result"
    }
   ],
   "source": [
    "\n",
    "model.compile(loss='sparse_categorical_crossentropy', optimizer='adam', metrics=['accuracy'])\n",
    "model.fit(X, y, batch_size=32, epochs=5,validation_data = (X_valid,y_valid))"
   ]
  },
  {
   "cell_type": "code",
   "execution_count": 113,
   "metadata": {},
   "outputs": [],
   "source": [
    "model.save('./models/ner_LSTM.keras')"
   ]
  },
  {
   "cell_type": "code",
   "execution_count": 114,
   "metadata": {},
   "outputs": [
    {
     "name": "stdout",
     "output_type": "stream",
     "text": [
      "\u001b[1m119/119\u001b[0m \u001b[32m━━━━━━━━━━━━━━━━━━━━\u001b[0m\u001b[37m\u001b[0m \u001b[1m1s\u001b[0m 6ms/step\n"
     ]
    },
    {
     "data": {
      "text/plain": [
       "<Figure size 1000x1400 with 0 Axes>"
      ]
     },
     "metadata": {},
     "output_type": "display_data"
    },
    {
     "data": {
      "image/png": "[encoded data removed]",
      "text/plain": [
       "<Figure size 640x480 with 2 Axes>"
      ]
     },
     "metadata": {},
     "output_type": "display_data"
    }
   ],
   "source": [
    "from sklearn.metrics import confusion_matrix, ConfusionMatrixDisplay\n",
    "import numpy as np\n",
    "import matplotlib.pyplot as plt\n",
    "\n",
    "\n",
    "y_pred_valid = model.predict(X_valid)\n",
    "y_pred_valid_ids = np.argmax(y_pred_valid, axis=-1)\n",
    "y_valid_flat = y_valid.flatten()\n",
    "y_pred_valid_flat = y_pred_valid_ids.flatten()\n",
    "\n",
    "cm_valid = confusion_matrix(y_valid_flat, y_pred_valid_flat, labels=list(label2id.values()))\n",
    "disp = ConfusionMatrixDisplay(confusion_matrix=cm_valid, display_labels=list(label2id.keys()))\n",
    "plt.figure(figsize=(10, 14))\n",
    "disp.plot(cmap=plt.cm.Blues, xticks_rotation=45)\n",
    "plt.title(\"Confusion Matrix for Validation Set\")\n",
    "plt.show()"
   ]
  },
  {
   "cell_type": "code",
   "execution_count": 115,
   "metadata": {},
   "outputs": [
    {
     "data": {
      "text/plain": [
       "(3808, 40, 10)"
      ]
     },
     "execution_count": 115,
     "metadata": {},
     "output_type": "execute_result"
    }
   ],
   "source": [
    "y_pred_valid.shape"
   ]
  },
  {
   "cell_type": "code",
   "execution_count": 116,
   "metadata": {},
   "outputs": [
    {
     "data": {
      "text/plain": [
       "(152320, 10)"
      ]
     },
     "execution_count": 116,
     "metadata": {},
     "output_type": "execute_result"
    }
   ],
   "source": [
    "y_pred_valid.reshape(-1, y_pred_valid.shape[-1]).shape"
   ]
  },
  {
   "cell_type": "code",
   "execution_count": 117,
   "metadata": {},
   "outputs": [
    {
     "data": {
      "image/png": "[encoded data removed]",
      "text/plain": [
       "<Figure size 1000x800 with 1 Axes>"
      ]
     },
     "metadata": {},
     "output_type": "display_data"
    }
   ],
   "source": [
    "from sklearn.metrics import roc_curve, auc\n",
    "\n",
    "import matplotlib.pyplot as plt\n",
    "\n",
    "# Flatten the true labels and predicted probabilities for ROC computation\n",
    "y_valid_flat = y_valid.flatten()\n",
    "y_pred_valid_probs = y_pred_valid.reshape(-1, y_pred_valid.shape[-1])\n",
    "\n",
    "# Compute ROC curve and ROC area for each class\n",
    "fpr = {}\n",
    "tpr = {}\n",
    "roc_auc = {}\n",
    "for i in range(label_size):\n",
    "    fpr[i], tpr[i], _ = roc_curve((y_valid_flat == i).astype(int), y_pred_valid_probs[:, i])\n",
    "    roc_auc[i] = auc(fpr[i], tpr[i])\n",
    "\n",
    "# Plot the ROC curve\n",
    "plt.figure(figsize=(10, 8))\n",
    "for i in range(label_size):\n",
    "    plt.plot(fpr[i], tpr[i], label=f'Class {id2label[i]} (AUC = {roc_auc[i]:.2f})')\n",
    "\n",
    "plt.plot([0, 1], [0, 1], 'k--', lw=2)\n",
    "plt.xlim([0.0, 1.0])\n",
    "plt.ylim([0.0, 1.05])\n",
    "plt.xlabel('False Positive Rate')\n",
    "plt.ylabel('True Positive Rate')\n",
    "plt.title('ROC Curve for Validation Dataset')\n",
    "plt.legend(loc='lower right')\n",
    "plt.grid()\n",
    "plt.show()"
   ]
  },
  {
   "cell_type": "code",
   "execution_count": 118,
   "metadata": {},
   "outputs": [
    {
     "data": {
      "text/plain": [
       "{'B-geo': 0,\n",
       " 'B-gpe': 1,\n",
       " 'B-org': 2,\n",
       " 'B-per': 3,\n",
       " 'B-tim': 4,\n",
       " 'I-geo': 5,\n",
       " 'I-org': 6,\n",
       " 'I-per': 7,\n",
       " 'I-tim': 8,\n",
       " 'O': 9}"
      ]
     },
     "execution_count": 118,
     "metadata": {},
     "output_type": "execute_result"
    }
   ],
   "source": [
    "label2id"
   ]
  },
  {
   "cell_type": "code",
   "execution_count": 119,
   "metadata": {},
   "outputs": [],
   "source": [
    "from seqeval.metrics import classification_report as seqeval_report"
   ]
  },
  {
   "cell_type": "code",
   "execution_count": null,
   "metadata": {},
   "outputs": [],
   "source": []
  },
  {
   "cell_type": "code",
   "execution_count": 120,
   "metadata": {},
   "outputs": [
    {
     "name": "stdout",
     "output_type": "stream",
     "text": [
      "\u001b[1m298/298\u001b[0m \u001b[32m━━━━━━━━━━━━━━━━━━━━\u001b[0m\u001b[37m\u001b[0m \u001b[1m2s\u001b[0m 7ms/step\n",
      "              precision    recall  f1-score   support\n",
      "\n",
      "       B-geo     0.8036    0.8564    0.8291      7491\n",
      "       B-gpe     0.9411    0.9037    0.9220      3166\n",
      "       B-org     0.7218    0.5719    0.6382      4006\n",
      "       B-per     0.8241    0.7663    0.7941      3350\n",
      "       B-tim     0.9009    0.8156    0.8562      3992\n",
      "       I-geo     0.7437    0.7974    0.7696      1441\n",
      "       I-org     0.8073    0.7057    0.7531      3259\n",
      "       I-per     0.8663    0.8020    0.8329      3450\n",
      "       I-tim     0.7883    0.6516    0.7135      1286\n",
      "           O     0.9909    0.9962    0.9936    349359\n",
      "\n",
      "    accuracy                         0.9781    380800\n",
      "   macro avg     0.8388    0.7867    0.8102    380800\n",
      "weighted avg     0.9773    0.9781    0.9775    380800\n",
      "\n"
     ]
    }
   ],
   "source": [
    "from sklearn.metrics import classification_report\n",
    "\n",
    "# Predict\n",
    "y_pred_test = model.predict(X_test)\n",
    "y_pred_ids_test = np.argmax(y_pred_test, axis=-1)   #compare the distribution of the output of softmax for a token-word (10 scores comparison)\n",
    "y_true_ids_test = y_test\n",
    "\n",
    "# Flatten and filter padding\n",
    "true_flat, pred_flat = [], []\n",
    "for i in range(len(y_true_ids_test)):\n",
    "    for true, pred in zip(y_true_ids_test[i], y_pred_ids_test[i]):\n",
    "            true_flat.append(id2label[true])\n",
    "            pred_flat.append(id2label[pred])\n",
    "\n",
    "# Report\n",
    "print(classification_report(true_flat, pred_flat, digits=4))\n"
   ]
  },
  {
   "cell_type": "code",
   "execution_count": 121,
   "metadata": {},
   "outputs": [
    {
     "data": {
      "text/plain": [
       "10"
      ]
     },
     "execution_count": 121,
     "metadata": {},
     "output_type": "execute_result"
    }
   ],
   "source": [
    "y_pred_test.shape[-1]"
   ]
  },
  {
   "cell_type": "code",
   "execution_count": 122,
   "metadata": {},
   "outputs": [
    {
     "data": {
      "image/png": "[encoded data removed]",
      "text/plain": [
       "<Figure size 1000x800 with 1 Axes>"
      ]
     },
     "metadata": {},
     "output_type": "display_data"
    }
   ],
   "source": [
    "from sklearn.metrics import roc_curve, auc\n",
    "\n",
    "import matplotlib.pyplot as plt\n",
    "\n",
    "y_test_flat = y_test.flatten()\n",
    "y_pred_test_probs = y_pred_test.reshape(-1, y_pred_test.shape[-1])\n",
    "\n",
    "fpr = {}\n",
    "tpr = {}\n",
    "roc_auc = {}\n",
    "for i in range(label_size):\n",
    "    fpr[i], tpr[i], _ = roc_curve((y_test_flat == i).astype(int), y_pred_test_probs[:, i])\n",
    "    roc_auc[i] = auc(fpr[i], tpr[i])\n",
    "\n",
    "# Plot the ROC curve\n",
    "plt.figure(figsize=(10, 8))\n",
    "for i in range(label_size):\n",
    "    plt.plot(fpr[i], tpr[i], label=f'Class {id2label[i]} (AUC = {roc_auc[i]:.2f})')\n",
    "\n",
    "plt.plot([0, 1], [0, 1], 'k--', lw=2)\n",
    "plt.xlim([0.0, 1.0])\n",
    "plt.ylim([0.0, 1.05])\n",
    "plt.xlabel('False Positive Rate')\n",
    "plt.ylabel('True Positive Rate')\n",
    "plt.title('ROC Curve for Test Dataset')\n",
    "plt.legend(loc='lower right')\n",
    "plt.grid()\n",
    "plt.show()"
   ]
  },
  {
   "cell_type": "code",
   "execution_count": 123,
   "metadata": {},
   "outputs": [
    {
     "data": {
      "image/png": "[encoded data removed]",
      "text/plain": [
       "<Figure size 1000x800 with 2 Axes>"
      ]
     },
     "metadata": {},
     "output_type": "display_data"
    }
   ],
   "source": [
    "\n",
    "# Get all unique labels from your label map\n",
    "all_labels = sorted(list(set(true_flat + pred_flat)))\n",
    "\n",
    "cm = confusion_matrix(true_flat, pred_flat, labels=all_labels)\n",
    "\n",
    "\n",
    "plt.figure(figsize=(10, 8))\n",
    "sns.heatmap(cm, annot=True, fmt='d', cmap='Blues',\n",
    "            xticklabels=all_labels, yticklabels=all_labels)\n",
    "plt.xlabel('Predicted Label')\n",
    "plt.ylabel('True Label')\n",
    "plt.title('Confusion Matrix')\n",
    "plt.tight_layout()\n",
    "plt.show()"
   ]
  },
  {
   "cell_type": "code",
   "execution_count": 124,
   "metadata": {},
   "outputs": [
    {
     "data": {
      "text/plain": [
       "(9520, 40)"
      ]
     },
     "execution_count": 124,
     "metadata": {},
     "output_type": "execute_result"
    }
   ],
   "source": [
    "y_true_ids_test.shape"
   ]
  },
  {
   "cell_type": "code",
   "execution_count": 125,
   "metadata": {},
   "outputs": [],
   "source": [
    "def show_predictions(df, X, y_true_ids, y_pred_ids, index=0):\n",
    "    print(f\"\\nSentence: {' '.join(df.loc[index, 'tokens'])}\")\n",
    "    print(f\"{'Token':15} {'True':10} {'Predicted'}\")\n",
    "    print(\"-\" * 40)\n",
    "    for token, true, pred in zip(df.loc[index, 'tokens'], \n",
    "                                 [id2label[i] for i in y_true_ids[index]],\n",
    "                                 [id2label[i] for i in y_pred_ids[index]]):\n",
    "        print(f\"{token:15} {true:10} {pred}\")\n"
   ]
  },
  {
   "cell_type": "code",
   "execution_count": 126,
   "metadata": {},
   "outputs": [
    {
     "name": "stdout",
     "output_type": "stream",
     "text": [
      "\n",
      "Sentence: Pakistani officials say unidentified gunmen have killed three people , including a former government minister , in a semi-autonomous tribal region bordering Afghanistan .\n",
      "Token           True       Predicted\n",
      "----------------------------------------\n",
      "Pakistani       B-gpe      B-gpe\n",
      "officials       O          O\n",
      "say             O          O\n",
      "unidentified    O          O\n",
      "gunmen          O          O\n",
      "have            O          O\n",
      "killed          O          O\n",
      "three           O          O\n",
      "people          O          O\n",
      ",               O          O\n",
      "including       O          O\n",
      "a               O          O\n",
      "former          O          O\n",
      "government      O          O\n",
      "minister        O          O\n",
      ",               O          O\n",
      "in              O          O\n",
      "a               O          O\n",
      "semi-autonomous O          O\n",
      "tribal          O          O\n",
      "region          O          O\n",
      "bordering       O          O\n",
      "Afghanistan     B-geo      B-gpe\n",
      ".               O          O\n"
     ]
    }
   ],
   "source": [
    "show_predictions(test_df, X_test, y_true_ids_test, y_pred_ids_test, index=22)"
   ]
  },
  {
   "cell_type": "markdown",
   "metadata": {},
   "source": [
    "## Test"
   ]
  },
  {
   "cell_type": "code",
   "execution_count": 127,
   "metadata": {},
   "outputs": [
    {
     "name": "stdout",
     "output_type": "stream",
     "text": [
      "\u001b[1m298/298\u001b[0m \u001b[32m━━━━━━━━━━━━━━━━━━━━\u001b[0m\u001b[37m\u001b[0m \u001b[1m2s\u001b[0m 6ms/step - accuracy: 0.9766 - loss: 0.0831\n",
      "Test Loss: 0.0740, Accuracy: 0.9781\n"
     ]
    }
   ],
   "source": [
    "loss, accuracy = model.evaluate(X_test, y_test)\n",
    "print(f\"Test Loss: {loss:.4f}, Accuracy: {accuracy:.4f}\")\n"
   ]
  },
  {
   "cell_type": "code",
   "execution_count": 128,
   "metadata": {},
   "outputs": [],
   "source": [
    "# from tensorflow.keras.models import load_model\n",
    "\n",
    "# # Load the saved model\n",
    "# model = load_model('./models/ner_LSTM.keras')"
   ]
  },
  {
   "cell_type": "code",
   "execution_count": 129,
   "metadata": {},
   "outputs": [],
   "source": [
    "def test_and_mask(sentence, model, word2id, label2id, id2label, MAX_LEN):\n",
    "    tokens = sentence.strip().split()\n",
    "    \n",
    "    def encode(tokens, vocab, pad_len=MAX_LEN, fallback='<UNK>', pad_token='<PAD>'):\n",
    "        fallback_id = vocab.get(fallback, list(vocab.values())[0])  \n",
    "        pad_id = vocab.get(pad_token, list(vocab.values())[0])    \n",
    "        ids = [vocab.get(tok, fallback_id) for tok in tokens]\n",
    "        return ids[:pad_len] + [pad_id] * max(0, pad_len - len(ids))\n",
    "    \n",
    "    encoded_sentence = encode(tokens, word2id, pad_len=MAX_LEN)\n",
    "    encoded_sentence = np.array([encoded_sentence])  \n",
    "    \n",
    "    # Predict using the model\n",
    "    y_pred = model.predict(encoded_sentence)\n",
    "    y_pred_ids = np.argmax(y_pred, axis=-1)[0] \n",
    "    \n",
    "    # Decode the sentence and labels\n",
    "    id2word = {v: k for k, v in word2id.items()}\n",
    "    decoded_sentence = [id2word.get(word_id, '<UNK>') for word_id in encoded_sentence[0]]\n",
    "    decoded_labels = [id2label[label_id] for label_id in y_pred_ids]\n",
    "    \n",
    "    # Mask the entities in the sentence\n",
    "    masked_sentence = []\n",
    "    for token, label in zip(decoded_sentence, decoded_labels):\n",
    "        if token == '<PAD>':\n",
    "            continue\n",
    "        elif label == 'O':\n",
    "            masked_sentence.append(token)\n",
    "        else:\n",
    "            masked_sentence.append(label)\n",
    "    \n",
    "    # Print the original and masked sentence\n",
    "    print(\"Original Sentence:\")\n",
    "    print(\" \".join(tokens))\n",
    "    print(\"\\nMasked Sentence:\")\n",
    "    print(\" \".join(masked_sentence))"
   ]
  },
  {
   "cell_type": "code",
   "execution_count": 130,
   "metadata": {},
   "outputs": [
    {
     "name": "stdout",
     "output_type": "stream",
     "text": [
      "\u001b[1m1/1\u001b[0m \u001b[32m━━━━━━━━━━━━━━━━━━━━\u001b[0m\u001b[37m\u001b[0m \u001b[1m0s\u001b[0m 14ms/step\n",
      "Original Sentence:\n",
      "Barack Obama was the president of the United States.\n",
      "\n",
      "Masked Sentence:\n",
      "B-per I-per was the president of the B-geo I-org\n"
     ]
    }
   ],
   "source": [
    "# Example usage\n",
    "random_sentence = \"Barack Obama was the president of the United States.\"\n",
    "test_and_mask(random_sentence, model, word2id, label2id, id2label, MAX_LEN)"
   ]
  },
  {
   "cell_type": "code",
   "execution_count": null,
   "metadata": {},
   "outputs": [],
   "source": []
  },
  {
   "cell_type": "code",
   "execution_count": null,
   "metadata": {},
   "outputs": [],
   "source": []
  },
  {
   "cell_type": "code",
   "execution_count": 130,
   "metadata": {},
   "outputs": [],
   "source": []
  },
  {
   "cell_type": "code",
   "execution_count": 131,
   "metadata": {},
   "outputs": [],
   "source": [
    "# Example usage\n",
    "random_sentence = \"On June 15, 2023, Dr. Emily Carter, a renowned physicist from Princeton University, gave a keynote speech at the Global Climate Summit in Geneva, Switzerland. She emphasized the urgent need for international collaboration to combat climate change. Representatives from over 50 countries, including Canada, Brazil, and India, attended the event. Microsoft and Tesla announced a joint venture to develop carbon-neutral technologies. Meanwhile, UN Secretary-General António Guterres praised the summit's progress in aligning with the Paris Agreement. The summit also featured contributions from scientists at MIT and Oxford University. Elon Musk participated virtually from California, showcasing Tesla’s latest solar innovations. A follow-up summit is scheduled for November 2024 in Tokyo, Japan. Attendees shared insights via the official Twitter hashtag #GCS2023. The event concluded with a ceremonial tree planting sponsored by Green Earth Foundation.\""
   ]
  },
  {
   "cell_type": "code",
   "execution_count": 132,
   "metadata": {},
   "outputs": [],
   "source": [
    "batches = []\n",
    "i = 1\n",
    "MAX_LEN = len(random_sentence)\n",
    "for i in range(0,MAX_LEN,40):\n",
    "    chunk = random_sentence[i:40+i]\n",
    "    string = ' '.join(chunk)\n",
    "    batches.append(string)\n",
    "    "
   ]
  },
  {
   "cell_type": "code",
   "execution_count": 133,
   "metadata": {},
   "outputs": [
    {
     "name": "stdout",
     "output_type": "stream",
     "text": [
      "\u001b[1m1/1\u001b[0m \u001b[32m━━━━━━━━━━━━━━━━━━━━\u001b[0m\u001b[37m\u001b[0m \u001b[1m0s\u001b[0m 19ms/step\n",
      "Original Sentence:\n",
      "O n J u n e 1 5 , 2 0 2 3 , D r . E m i l y C a r t e r , a r e\n",
      "\n",
      "Masked Sentence:\n",
      "B-geo <UNK> <UNK> <UNK> <UNK> <UNK> B-tim I-tim , 2 <UNK> 2 3 , D <UNK> . <UNK> <UNK> I-per l <UNK> C a <UNK> <UNK> <UNK> I-per , a <UNK> <UNK>\n"
     ]
    },
    {
     "ename": "TypeError",
     "evalue": "cannot unpack non-iterable NoneType object",
     "output_type": "error",
     "traceback": [
      "\u001b[31m---------------------------------------------------------------------------\u001b[39m",
      "\u001b[31mTypeError\u001b[39m                                 Traceback (most recent call last)",
      "\u001b[36mCell\u001b[39m\u001b[36m \u001b[39m\u001b[32mIn[133]\u001b[39m\u001b[32m, line 3\u001b[39m\n\u001b[32m      1\u001b[39m masked_sentence_ = []\n\u001b[32m      2\u001b[39m \u001b[38;5;28;01mfor\u001b[39;00m sentence \u001b[38;5;129;01min\u001b[39;00m batches:\n\u001b[32m----> \u001b[39m\u001b[32m3\u001b[39m     original_sequence,masked_sentence = test_and_mask(sentence, model,word2id, label2id,id2label,\u001b[32m40\u001b[39m)\n\u001b[32m      4\u001b[39m     masked_sentence = \u001b[33m'\u001b[39m\u001b[33m \u001b[39m\u001b[33m'\u001b[39m.join(masked_sentence)\n\u001b[32m      5\u001b[39m     masked_sentence_.append(masked_sentence)\n",
      "\u001b[31mTypeError\u001b[39m: cannot unpack non-iterable NoneType object"
     ]
    }
   ],
   "source": [
    "masked_sentence_ = []\n",
    "for sentence in batches:\n",
    "    original_sequence,masked_sentence = test_and_mask(sentence, model,word2id, label2id,id2label,40)\n",
    "    masked_sentence = ' '.join(masked_sentence)\n",
    "    masked_sentence_.append(masked_sentence)\n"
   ]
  },
  {
   "cell_type": "code",
   "execution_count": 244,
   "metadata": {},
   "outputs": [
    {
     "data": {
      "text/plain": [
       "['On',\n",
       " 'June',\n",
       " '15,',\n",
       " '2023,',\n",
       " 'Dr.',\n",
       " 'Emily',\n",
       " 'Carter,',\n",
       " 'a',\n",
       " 'renowned',\n",
       " 'physicist',\n",
       " 'from',\n",
       " 'Princeton',\n",
       " 'University,',\n",
       " 'gave',\n",
       " 'a',\n",
       " 'keynote',\n",
       " 'speech',\n",
       " 'at',\n",
       " 'the',\n",
       " 'Global',\n",
       " 'Climate',\n",
       " 'Summit',\n",
       " 'in',\n",
       " 'Geneva,',\n",
       " 'Switzerland.',\n",
       " 'She',\n",
       " 'emphasized',\n",
       " 'the',\n",
       " 'urgent',\n",
       " 'need',\n",
       " 'for',\n",
       " 'international',\n",
       " 'collaboration',\n",
       " 'to',\n",
       " 'combat',\n",
       " 'climate',\n",
       " 'change.',\n",
       " 'Representatives',\n",
       " 'from',\n",
       " 'over',\n",
       " '50',\n",
       " 'countries,',\n",
       " 'including',\n",
       " 'Canada,',\n",
       " 'Brazil,',\n",
       " 'and',\n",
       " 'India,',\n",
       " 'attended',\n",
       " 'the',\n",
       " 'event.',\n",
       " 'Microsoft',\n",
       " 'and',\n",
       " 'Tesla',\n",
       " 'announced',\n",
       " 'a',\n",
       " 'joint',\n",
       " 'venture',\n",
       " 'to',\n",
       " 'develop',\n",
       " 'carbon-neutral',\n",
       " 'technologies.',\n",
       " 'Meanwhile,',\n",
       " 'UN',\n",
       " 'Secretary-General',\n",
       " 'António',\n",
       " 'Guterres',\n",
       " 'praised',\n",
       " 'the',\n",
       " \"summit's\",\n",
       " 'progress',\n",
       " 'in',\n",
       " 'aligning',\n",
       " 'with',\n",
       " 'the',\n",
       " 'Paris',\n",
       " 'Agreement.',\n",
       " 'The',\n",
       " 'summit',\n",
       " 'also',\n",
       " 'featured',\n",
       " 'contributions',\n",
       " 'from',\n",
       " 'scientists',\n",
       " 'at',\n",
       " 'MIT',\n",
       " 'and',\n",
       " 'Oxford',\n",
       " 'University.',\n",
       " 'Elon',\n",
       " 'Musk',\n",
       " 'participated',\n",
       " 'virtually',\n",
       " 'from',\n",
       " 'California,',\n",
       " 'showcasing',\n",
       " 'Tesla’s',\n",
       " 'latest',\n",
       " 'solar',\n",
       " 'innovations.',\n",
       " 'A',\n",
       " 'follow-up',\n",
       " 'summit',\n",
       " 'is',\n",
       " 'scheduled',\n",
       " 'for',\n",
       " 'November',\n",
       " '2024',\n",
       " 'in',\n",
       " 'Tokyo,',\n",
       " 'Japan.',\n",
       " 'Attendees',\n",
       " 'shared',\n",
       " 'insights',\n",
       " 'via',\n",
       " 'the',\n",
       " 'official',\n",
       " 'Twitter',\n",
       " 'hashtag',\n",
       " '#GCS2023.',\n",
       " 'The',\n",
       " 'event',\n",
       " 'concluded',\n",
       " 'with',\n",
       " 'a',\n",
       " 'ceremonial',\n",
       " 'tree',\n",
       " 'planting',\n",
       " 'sponsored',\n",
       " 'by',\n",
       " 'Green',\n",
       " 'Earth',\n",
       " 'Foundation.']"
      ]
     },
     "execution_count": 244,
     "metadata": {},
     "output_type": "execute_result"
    }
   ],
   "source": [
    "random_sentence"
   ]
  }
 ],
 "metadata": {
  "kernelspec": {
   "display_name": "base",
   "language": "python",
   "name": "python3"
  },
  "language_info": {
   "codemirror_mode": {
    "name": "ipython",
    "version": 3
   },
   "file_extension": ".py",
   "mimetype": "text/x-python",
   "name": "python",
   "nbconvert_exporter": "python",
   "pygments_lexer": "ipython3",
   "version": "3.11.7"
  }
 },
 "nbformat": 4,
 "nbformat_minor": 2
}
