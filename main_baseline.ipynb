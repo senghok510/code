{
 "cells": [
  {
   "cell_type": "markdown",
   "metadata": {},
   "source": [
    "## Name entity recognition \n",
    "\n",
    "# Author: Hok Seng"
   ]
  },
  {
   "cell_type": "markdown",
   "metadata": {},
   "source": [
    "<p>\n",
    "    <b>Notebook Sections</b><br>\n",
    "    This notebook is divided into the following sections:\n",
    "    <ul>\n",
    "        <li>A. Setting Environment</li>\n",
    "        <li>B. Set the Devic (cpu or mps) </li>\n",
    "    </ul>\n",
    "</p>"
   ]
  },
  {
   "cell_type": "code",
   "execution_count": 1,
   "metadata": {},
   "outputs": [
    {
     "data": {
      "text/plain": [
       "'/Users/senghok/Documents/Internship 2A/code'"
      ]
     },
     "execution_count": 1,
     "metadata": {},
     "output_type": "execute_result"
    }
   ],
   "source": [
    "import os\n",
    "import subprocess\n",
    "import requests\n",
    "\n",
    "os.getcwd()"
   ]
  },
  {
   "cell_type": "markdown",
   "metadata": {},
   "source": [
    "## Download necessary packages"
   ]
  },
  {
   "cell_type": "code",
   "execution_count": null,
   "metadata": {},
   "outputs": [],
   "source": [
    "with open(\"requirement.txt\", \"r\") as file:\n",
    "    for f in file.readlines():\n",
    "        package = f.strip()\n",
    "        if package:\n",
    "            subprocess.check_call([\"pip\", \"install\", package])\n",
    "            %pip install {package}"
   ]
  },
  {
   "cell_type": "markdown",
   "metadata": {},
   "source": [
    "## Import necessary packages"
   ]
  },
  {
   "cell_type": "code",
   "execution_count": 18,
   "metadata": {},
   "outputs": [
    {
     "name": "stdout",
     "output_type": "stream",
     "text": [
      "File downloaded successfully and saved to data/NER_dataset.csv\n"
     ]
    }
   ],
   "source": [
    "\n",
    "\n",
    "save_dir = \"data\"\n",
    "os.makedirs(save_dir,exist_ok = True)\n",
    "\n",
    "file_name = os.path.join(save_dir,\"NER_dataset.csv\")\n",
    "\n",
    "response = requests.get(url,stream = True)\n",
    "\n",
    "\n",
    "if response.status_code == 200:\n",
    "    with open(file_name,\"wb\") as file:\n",
    "        for chunk in response.iter_content(chunk_size=1024):\n",
    "            file.write(chunk)\n",
    "    print(f\"File downloaded successfully and saved to {file_name}\")\n",
    "else:\n",
    "    print(f\"Failed to download file. Status code: {response.status_code}\")\n",
    "\n"
   ]
  },
  {
   "cell_type": "code",
   "execution_count": 1,
   "metadata": {},
   "outputs": [
    {
     "name": "stderr",
     "output_type": "stream",
     "text": [
      "/Users/senghok/Documents/Internship 2A/code/venv/lib/python3.11/site-packages/tqdm/auto.py:21: TqdmWarning: IProgress not found. Please update jupyter and ipywidgets. See https://ipywidgets.readthedocs.io/en/stable/user_install.html\n",
      "  from .autonotebook import tqdm as notebook_tqdm\n",
      "\n",
      "A module that was compiled using NumPy 1.x cannot be run in\n",
      "NumPy 2.1.3 as it may crash. To support both 1.x and 2.x\n",
      "versions of NumPy, modules must be compiled with NumPy 2.0.\n",
      "Some module may need to rebuild instead e.g. with 'pybind11>=2.12'.\n",
      "\n",
      "If you are a user of the module, the easiest solution will be to\n",
      "downgrade to 'numpy<2' or try to upgrade the affected module.\n",
      "We expect that some modules will need time to support NumPy 2.\n",
      "\n",
      "Traceback (most recent call last):  File \"<frozen runpy>\", line 198, in _run_module_as_main\n",
      "  File \"<frozen runpy>\", line 88, in _run_code\n",
      "  File \"/Users/senghok/Documents/Internship 2A/code/venv/lib/python3.11/site-packages/ipykernel_launcher.py\", line 18, in <module>\n",
      "    app.launch_new_instance()\n",
      "  File \"/Users/senghok/Documents/Internship 2A/code/venv/lib/python3.11/site-packages/traitlets/config/application.py\", line 1075, in launch_instance\n",
      "    app.start()\n",
      "  File \"/Users/senghok/Documents/Internship 2A/code/venv/lib/python3.11/site-packages/ipykernel/kernelapp.py\", line 739, in start\n",
      "    self.io_loop.start()\n",
      "  File \"/Users/senghok/Documents/Internship 2A/code/venv/lib/python3.11/site-packages/tornado/platform/asyncio.py\", line 211, in start\n",
      "    self.asyncio_loop.run_forever()\n",
      "  File \"/Applications/anaconda3/lib/python3.11/asyncio/base_events.py\", line 607, in run_forever\n",
      "    self._run_once()\n",
      "  File \"/Applications/anaconda3/lib/python3.11/asyncio/base_events.py\", line 1922, in _run_once\n",
      "    handle._run()\n",
      "  File \"/Applications/anaconda3/lib/python3.11/asyncio/events.py\", line 80, in _run\n",
      "    self._context.run(self._callback, *self._args)\n",
      "  File \"/Users/senghok/Documents/Internship 2A/code/venv/lib/python3.11/site-packages/ipykernel/kernelbase.py\", line 545, in dispatch_queue\n",
      "    await self.process_one()\n",
      "  File \"/Users/senghok/Documents/Internship 2A/code/venv/lib/python3.11/site-packages/ipykernel/kernelbase.py\", line 534, in process_one\n",
      "    await dispatch(*args)\n",
      "  File \"/Users/senghok/Documents/Internship 2A/code/venv/lib/python3.11/site-packages/ipykernel/kernelbase.py\", line 437, in dispatch_shell\n",
      "    await result\n",
      "  File \"/Users/senghok/Documents/Internship 2A/code/venv/lib/python3.11/site-packages/ipykernel/ipkernel.py\", line 362, in execute_request\n",
      "    await super().execute_request(stream, ident, parent)\n",
      "  File \"/Users/senghok/Documents/Internship 2A/code/venv/lib/python3.11/site-packages/ipykernel/kernelbase.py\", line 778, in execute_request\n",
      "    reply_content = await reply_content\n",
      "  File \"/Users/senghok/Documents/Internship 2A/code/venv/lib/python3.11/site-packages/ipykernel/ipkernel.py\", line 449, in do_execute\n",
      "    res = shell.run_cell(\n",
      "  File \"/Users/senghok/Documents/Internship 2A/code/venv/lib/python3.11/site-packages/ipykernel/zmqshell.py\", line 549, in run_cell\n",
      "    return super().run_cell(*args, **kwargs)\n",
      "  File \"/Users/senghok/Documents/Internship 2A/code/venv/lib/python3.11/site-packages/IPython/core/interactiveshell.py\", line 3100, in run_cell\n",
      "    result = self._run_cell(\n",
      "  File \"/Users/senghok/Documents/Internship 2A/code/venv/lib/python3.11/site-packages/IPython/core/interactiveshell.py\", line 3155, in _run_cell\n",
      "    result = runner(coro)\n",
      "  File \"/Users/senghok/Documents/Internship 2A/code/venv/lib/python3.11/site-packages/IPython/core/async_helpers.py\", line 128, in _pseudo_sync_runner\n",
      "    coro.send(None)\n",
      "  File \"/Users/senghok/Documents/Internship 2A/code/venv/lib/python3.11/site-packages/IPython/core/interactiveshell.py\", line 3367, in run_cell_async\n",
      "    has_raised = await self.run_ast_nodes(code_ast.body, cell_name,\n",
      "  File \"/Users/senghok/Documents/Internship 2A/code/venv/lib/python3.11/site-packages/IPython/core/interactiveshell.py\", line 3612, in run_ast_nodes\n",
      "    if await self.run_code(code, result, async_=asy):\n",
      "  File \"/Users/senghok/Documents/Internship 2A/code/venv/lib/python3.11/site-packages/IPython/core/interactiveshell.py\", line 3672, in run_code\n",
      "    exec(code_obj, self.user_global_ns, self.user_ns)\n",
      "  File \"/var/folders/_9/m2ryk39s2slc67mc6y5xdxcm0000gn/T/ipykernel_9564/4075909486.py\", line 28, in <module>\n",
      "    from transformers import BertForTokenClassification\n",
      "  File \"/Users/senghok/Documents/Internship 2A/code/venv/lib/python3.11/site-packages/transformers/utils/import_utils.py\", line 2045, in __getattr__\n",
      "    module = self._get_module(self._class_to_module[name])\n",
      "  File \"/Users/senghok/Documents/Internship 2A/code/venv/lib/python3.11/site-packages/transformers/utils/import_utils.py\", line 2073, in _get_module\n",
      "    return importlib.import_module(\".\" + module_name, self.__name__)\n",
      "  File \"/Applications/anaconda3/lib/python3.11/importlib/__init__.py\", line 126, in import_module\n",
      "    return _bootstrap._gcd_import(name[level:], package, level)\n",
      "  File \"/Users/senghok/Documents/Internship 2A/code/venv/lib/python3.11/site-packages/transformers/models/bert/modeling_bert.py\", line 44, in <module>\n",
      "    from ...modeling_utils import PreTrainedModel\n",
      "  File \"/Users/senghok/Documents/Internship 2A/code/venv/lib/python3.11/site-packages/transformers/modeling_utils.py\", line 73, in <module>\n",
      "    from .loss.loss_utils import LOSS_MAPPING\n",
      "  File \"/Users/senghok/Documents/Internship 2A/code/venv/lib/python3.11/site-packages/transformers/loss/loss_utils.py\", line 21, in <module>\n",
      "    from .loss_d_fine import DFineForObjectDetectionLoss\n",
      "  File \"/Users/senghok/Documents/Internship 2A/code/venv/lib/python3.11/site-packages/transformers/loss/loss_d_fine.py\", line 21, in <module>\n",
      "    from .loss_for_object_detection import (\n",
      "  File \"/Users/senghok/Documents/Internship 2A/code/venv/lib/python3.11/site-packages/transformers/loss/loss_for_object_detection.py\", line 32, in <module>\n",
      "    from transformers.image_transforms import center_to_corners_format\n",
      "  File \"/Users/senghok/Documents/Internship 2A/code/venv/lib/python3.11/site-packages/transformers/image_transforms.py\", line 47, in <module>\n",
      "    import tensorflow as tf\n",
      "  File \"/Users/senghok/Documents/Internship 2A/code/venv/lib/python3.11/site-packages/tensorflow/__init__.py\", line 49, in <module>\n",
      "    from tensorflow._api.v2 import __internal__\n",
      "  File \"/Users/senghok/Documents/Internship 2A/code/venv/lib/python3.11/site-packages/tensorflow/_api/v2/__internal__/__init__.py\", line 8, in <module>\n",
      "    from tensorflow._api.v2.__internal__ import autograph\n",
      "  File \"/Users/senghok/Documents/Internship 2A/code/venv/lib/python3.11/site-packages/tensorflow/_api/v2/__internal__/autograph/__init__.py\", line 8, in <module>\n",
      "    from tensorflow.python.autograph.core.ag_ctx import control_status_ctx # line: 34\n",
      "  File \"/Users/senghok/Documents/Internship 2A/code/venv/lib/python3.11/site-packages/tensorflow/python/autograph/core/ag_ctx.py\", line 21, in <module>\n",
      "    from tensorflow.python.autograph.utils import ag_logging\n",
      "  File \"/Users/senghok/Documents/Internship 2A/code/venv/lib/python3.11/site-packages/tensorflow/python/autograph/utils/__init__.py\", line 17, in <module>\n",
      "    from tensorflow.python.autograph.utils.context_managers import control_dependency_on_returns\n",
      "  File \"/Users/senghok/Documents/Internship 2A/code/venv/lib/python3.11/site-packages/tensorflow/python/autograph/utils/context_managers.py\", line 19, in <module>\n",
      "    from tensorflow.python.framework import ops\n",
      "  File \"/Users/senghok/Documents/Internship 2A/code/venv/lib/python3.11/site-packages/tensorflow/python/framework/ops.py\", line 62, in <module>\n",
      "    from tensorflow.python.framework import tensor as tensor_lib\n",
      "  File \"/Users/senghok/Documents/Internship 2A/code/venv/lib/python3.11/site-packages/tensorflow/python/framework/tensor.py\", line 35, in <module>\n",
      "    from tensorflow.python.framework import tensor_util\n",
      "  File \"/Users/senghok/Documents/Internship 2A/code/venv/lib/python3.11/site-packages/tensorflow/python/framework/tensor_util.py\", line 39, in <module>\n",
      "    from tensorflow.python.framework import fast_tensor_util\n"
     ]
    }
   ],
   "source": [
    "import numpy as np\n",
    "import pandas as pd\n",
    "from collections import Counter\n",
    "from nltk.tokenize import word_tokenize\n",
    "import seaborn as sns\n",
    "import collections\n",
    "from itertools import chain\n",
    "import random\n",
    "import copy\n",
    "import itertools\n",
    "import pandas as pd\n",
    "\n",
    "\n",
    "from sklearn.model_selection import train_test_split\n",
    "from sklearn.metrics import f1_score, accuracy_score, precision_score, recall_score\n",
    "from sklearn.metrics import confusion_matrix, multilabel_confusion_matrix\n",
    "from sklearn.preprocessing import MultiLabelBinarizer\n",
    "from skmultilearn.model_selection import iterative_train_test_split\n",
    "\n",
    "import torch\n",
    "from torch import nn\n",
    "from torch.utils.data import Dataset, DataLoader\n",
    "from torch.utils.data import RandomSampler, SequentialSampler\n",
    "from torch.utils.data import TensorDataset, random_split\n",
    "from torch.optim import AdamW\n",
    "\n",
    "from transformers import BertTokenizer\n",
    "from transformers import BertForTokenClassification\n",
    "from transformers import get_linear_schedule_with_warmup\n",
    "\n",
    "import matplotlib.pyplot as plt\n",
    "import seaborn as sns\n",
    "\n",
    "\n",
    "\n",
    "# set the option to display all columns\n",
    "pd.set_option('display.max_columns', None)"
   ]
  },
  {
   "cell_type": "code",
   "execution_count": 2,
   "metadata": {},
   "outputs": [],
   "source": [
    "path = \"./data/NER_dataset.csv\"\n",
    "data = pd.read_csv(path, encoding = 'unicode_escape')"
   ]
  },
  {
   "cell_type": "code",
   "execution_count": 3,
   "metadata": {},
   "outputs": [
    {
     "data": {
      "text/plain": [
       "(1048575, 4)"
      ]
     },
     "execution_count": 3,
     "metadata": {},
     "output_type": "execute_result"
    }
   ],
   "source": [
    "data.shape"
   ]
  },
  {
   "cell_type": "markdown",
   "metadata": {},
   "source": [
    "## Preprocessing Data"
   ]
  },
  {
   "cell_type": "markdown",
   "metadata": {},
   "source": [
    "### 1. Replacing the NaN values by 'Sentence #'"
   ]
  },
  {
   "cell_type": "code",
   "execution_count": 4,
   "metadata": {},
   "outputs": [],
   "source": [
    "data.loc[:,\"Sentence #\"] = data.loc[:,\"Sentence #\"].ffill()"
   ]
  },
  {
   "cell_type": "markdown",
   "metadata": {},
   "source": [
    "### 1.1 Check the shape"
   ]
  },
  {
   "cell_type": "code",
   "execution_count": 5,
   "metadata": {},
   "outputs": [
    {
     "name": "stdout",
     "output_type": "stream",
     "text": [
      "Number of rows: 1048575\n",
      "Number of columns: 4\n"
     ]
    }
   ],
   "source": [
    "print(f\"Number of rows: {data.shape[0]}\\n\"\n",
    "      f\"Number of columns: {data.shape[1]}\")"
   ]
  },
  {
   "cell_type": "markdown",
   "metadata": {},
   "source": [
    "### 2. Drop the unwanted 'POS' column"
   ]
  },
  {
   "cell_type": "code",
   "execution_count": 6,
   "metadata": {},
   "outputs": [],
   "source": [
    "data.drop(columns= ['POS'],inplace = True)"
   ]
  },
  {
   "cell_type": "code",
   "execution_count": 7,
   "metadata": {},
   "outputs": [
    {
     "data": {
      "text/html": [
       "<div>\n",
       "<style scoped>\n",
       "    .dataframe tbody tr th:only-of-type {\n",
       "        vertical-align: middle;\n",
       "    }\n",
       "\n",
       "    .dataframe tbody tr th {\n",
       "        vertical-align: top;\n",
       "    }\n",
       "\n",
       "    .dataframe thead th {\n",
       "        text-align: right;\n",
       "    }\n",
       "</style>\n",
       "<table border=\"1\" class=\"dataframe\">\n",
       "  <thead>\n",
       "    <tr style=\"text-align: right;\">\n",
       "      <th></th>\n",
       "      <th>Sentence #</th>\n",
       "      <th>Word</th>\n",
       "      <th>Tag</th>\n",
       "    </tr>\n",
       "  </thead>\n",
       "  <tbody>\n",
       "    <tr>\n",
       "      <th>0</th>\n",
       "      <td>Sentence: 1</td>\n",
       "      <td>Thousands</td>\n",
       "      <td>O</td>\n",
       "    </tr>\n",
       "    <tr>\n",
       "      <th>1</th>\n",
       "      <td>Sentence: 1</td>\n",
       "      <td>of</td>\n",
       "      <td>O</td>\n",
       "    </tr>\n",
       "    <tr>\n",
       "      <th>2</th>\n",
       "      <td>Sentence: 1</td>\n",
       "      <td>demonstrators</td>\n",
       "      <td>O</td>\n",
       "    </tr>\n",
       "  </tbody>\n",
       "</table>\n",
       "</div>"
      ],
      "text/plain": [
       "    Sentence #           Word Tag\n",
       "0  Sentence: 1      Thousands   O\n",
       "1  Sentence: 1             of   O\n",
       "2  Sentence: 1  demonstrators   O"
      ]
     },
     "execution_count": 7,
     "metadata": {},
     "output_type": "execute_result"
    }
   ],
   "source": [
    "data.head(3)"
   ]
  },
  {
   "cell_type": "code",
   "execution_count": 8,
   "metadata": {},
   "outputs": [
    {
     "data": {
      "text/plain": [
       "1048575"
      ]
     },
     "execution_count": 8,
     "metadata": {},
     "output_type": "execute_result"
    }
   ],
   "source": [
    "data.shape[0] #including some eventual NaN data"
   ]
  },
  {
   "cell_type": "markdown",
   "metadata": {},
   "source": [
    "### Remove rows that have NaN value"
   ]
  },
  {
   "cell_type": "code",
   "execution_count": 9,
   "metadata": {},
   "outputs": [
    {
     "name": "stdout",
     "output_type": "stream",
     "text": [
      "Number of updated data: 1048565\n"
     ]
    }
   ],
   "source": [
    "data.dropna(inplace = True)\n",
    "print(f\"Number of updated data: {data.shape[0]}\")"
   ]
  },
  {
   "cell_type": "markdown",
   "metadata": {},
   "source": [
    "### 2.1 Verify the missing values"
   ]
  },
  {
   "cell_type": "code",
   "execution_count": 10,
   "metadata": {},
   "outputs": [
    {
     "name": "stdout",
     "output_type": "stream",
     "text": [
      "number of rows where tag is NaN: 0\n"
     ]
    }
   ],
   "source": [
    "tag_null_mask = data[['Tag']].isnull().any(axis=1)\n",
    "tag_null_rows = data[tag_null_mask]\n",
    "print(f\"number of rows where tag is NaN: {tag_null_rows.size}\")"
   ]
  },
  {
   "cell_type": "code",
   "execution_count": 11,
   "metadata": {},
   "outputs": [
    {
     "name": "stdout",
     "output_type": "stream",
     "text": [
      "number of rows where word is NaN: 0\n"
     ]
    }
   ],
   "source": [
    "word_null_mask = data[['Word']].isnull().any(axis=1)\n",
    "word_null_rows = data[word_null_mask]\n",
    "print(f\"number of rows where word is NaN: {word_null_rows.size}\")"
   ]
  },
  {
   "cell_type": "code",
   "execution_count": 12,
   "metadata": {},
   "outputs": [
    {
     "name": "stdout",
     "output_type": "stream",
     "text": [
      "['Sentence #', 'Word', 'Tag']\n"
     ]
    }
   ],
   "source": [
    "print(data.columns.tolist())"
   ]
  },
  {
   "cell_type": "code",
   "execution_count": 13,
   "metadata": {},
   "outputs": [],
   "source": [
    "# class SentenceGetter(object):\n",
    "    \n",
    "#     def __init__(self, dataset, word_col, tag_col, sent_id_col):\n",
    "#         self.n_sent = 1\n",
    "#         self.dataset = dataset\n",
    "#         self.empty = False\n",
    "#         agg_func = lambda s: [\n",
    "#             (w, t) for w,t in zip(s[word_col].values.tolist(), s[tag_col].values.tolist())\n",
    "#         ]\n",
    "#         self.grouped = self.dataset.groupby(sent_id_col).apply(agg_func)\n",
    "#         self.sentences = [s for s in self.grouped]\n",
    "    \n",
    "#     def get_next(self):\n",
    "#         try:\n",
    "#             s = self.grouped[\"Sentence: {}\".format(self.n_sent)]\n",
    "#             self.n_sent += 1\n",
    "#             return s\n",
    "#         except:\n",
    "#             return None\n",
    "        \n",
    "# getter = SentenceGetter(dataset=data, word_col='Word', tag_col='Tag', sent_id_col='Sentence #')\n",
    "# sentences = getter.sentences\n",
    "# print(sentences[0])\n",
    "\n",
    "\n",
    "# fig, ax = plt.subplots(figsize=(20, 6))\n",
    "# ax.hist([len(s) for s in sentences], bins=50)\n",
    "# ax.set_title('Number of words in each Sentence')\n",
    "\n",
    "# maxlen = max([len(s) for s in sentences])\n",
    "# print('Number of Sentences:', len(sentences))\n",
    "# print ('Maximum sequence length:', maxlen)\n",
    "\n",
    "# words = list(set(data[\"Word\"].values))\n",
    "# words.append(\"ENDPAD\")\n",
    "# n_words = len(words)\n",
    "# print('Number of unique words:', n_words)\n",
    "\n",
    "\n",
    "# # Find and print the first sentence with that length\n",
    "# longest_sentence = [s for s in sentences if len(s) == maxlen][0]\n",
    "\n",
    "# print(\"Longest sentence (word-tag pairs):\")\n",
    "# print(len(longest_sentence))\n"
   ]
  },
  {
   "cell_type": "markdown",
   "metadata": {},
   "source": [
    "### 3. Checking impropers Words"
   ]
  },
  {
   "cell_type": "markdown",
   "metadata": {},
   "source": [
    "### 3.1 Helper Function"
   ]
  },
  {
   "cell_type": "code",
   "execution_count": 14,
   "metadata": {},
   "outputs": [],
   "source": [
    "def is_ascii(s):\n",
    "    return all(ord(c) < 128 for c in s)\n",
    "\n",
    "\n",
    "def is_escaped_unicode(_str):\n",
    "    if is_ascii(_str):\n",
    "        return True\n",
    "    return False\n",
    "\n",
    "\n",
    "def is_proper_word(_word):\n",
    "    if not is_escaped_unicode(_word):\n",
    "        if isinstance(_word,str) and len(_word) < 3:\n",
    "            return False\n",
    "    return True"
   ]
  },
  {
   "cell_type": "code",
   "execution_count": 15,
   "metadata": {},
   "outputs": [],
   "source": [
    "data['is_proper_word'] = data['Word'].apply(is_proper_word)"
   ]
  },
  {
   "cell_type": "code",
   "execution_count": 16,
   "metadata": {},
   "outputs": [
    {
     "data": {
      "text/plain": [
       "Sentence #    Sentence: 2556\n",
       "Word                      °C\n",
       "Name: 56462, dtype: object"
      ]
     },
     "execution_count": 16,
     "metadata": {},
     "output_type": "execute_result"
    }
   ],
   "source": [
    "data[[\"Sentence #\",\"Word\"]].iloc[56462]"
   ]
  },
  {
   "cell_type": "code",
   "execution_count": 17,
   "metadata": {},
   "outputs": [
    {
     "data": {
      "text/html": [
       "<div>\n",
       "<style scoped>\n",
       "    .dataframe tbody tr th:only-of-type {\n",
       "        vertical-align: middle;\n",
       "    }\n",
       "\n",
       "    .dataframe tbody tr th {\n",
       "        vertical-align: top;\n",
       "    }\n",
       "\n",
       "    .dataframe thead th {\n",
       "        text-align: right;\n",
       "    }\n",
       "</style>\n",
       "<table border=\"1\" class=\"dataframe\">\n",
       "  <thead>\n",
       "    <tr style=\"text-align: right;\">\n",
       "      <th></th>\n",
       "      <th>Sentence #</th>\n",
       "      <th>Word</th>\n",
       "      <th>Tag</th>\n",
       "      <th>is_proper_word</th>\n",
       "    </tr>\n",
       "  </thead>\n",
       "  <tbody>\n",
       "    <tr>\n",
       "      <th>1786</th>\n",
       "      <td>Sentence: 77</td>\n",
       "      <td></td>\n",
       "      <td>O</td>\n",
       "      <td>False</td>\n",
       "    </tr>\n",
       "    <tr>\n",
       "      <th>56462</th>\n",
       "      <td>Sentence: 2556</td>\n",
       "      <td>°C</td>\n",
       "      <td>O</td>\n",
       "      <td>False</td>\n",
       "    </tr>\n",
       "    <tr>\n",
       "      <th>124883</th>\n",
       "      <td>Sentence: 5700</td>\n",
       "      <td>s</td>\n",
       "      <td>O</td>\n",
       "      <td>False</td>\n",
       "    </tr>\n",
       "    <tr>\n",
       "      <th>124903</th>\n",
       "      <td>Sentence: 5700</td>\n",
       "      <td>s</td>\n",
       "      <td>O</td>\n",
       "      <td>False</td>\n",
       "    </tr>\n",
       "    <tr>\n",
       "      <th>181958</th>\n",
       "      <td>Sentence: 8332</td>\n",
       "      <td></td>\n",
       "      <td>I-tim</td>\n",
       "      <td>False</td>\n",
       "    </tr>\n",
       "    <tr>\n",
       "      <th>199965</th>\n",
       "      <td>Sentence: 9159</td>\n",
       "      <td></td>\n",
       "      <td>O</td>\n",
       "      <td>False</td>\n",
       "    </tr>\n",
       "    <tr>\n",
       "      <th>199968</th>\n",
       "      <td>Sentence: 9159</td>\n",
       "      <td></td>\n",
       "      <td>O</td>\n",
       "      <td>False</td>\n",
       "    </tr>\n",
       "    <tr>\n",
       "      <th>219475</th>\n",
       "      <td>Sentence: 10052</td>\n",
       "      <td></td>\n",
       "      <td>O</td>\n",
       "      <td>False</td>\n",
       "    </tr>\n",
       "    <tr>\n",
       "      <th>219476</th>\n",
       "      <td>Sentence: 10052</td>\n",
       "      <td></td>\n",
       "      <td>O</td>\n",
       "      <td>False</td>\n",
       "    </tr>\n",
       "    <tr>\n",
       "      <th>219486</th>\n",
       "      <td>Sentence: 10052</td>\n",
       "      <td></td>\n",
       "      <td>O</td>\n",
       "      <td>False</td>\n",
       "    </tr>\n",
       "    <tr>\n",
       "      <th>219488</th>\n",
       "      <td>Sentence: 10052</td>\n",
       "      <td></td>\n",
       "      <td>O</td>\n",
       "      <td>False</td>\n",
       "    </tr>\n",
       "    <tr>\n",
       "      <th>434107</th>\n",
       "      <td>Sentence: 19818</td>\n",
       "      <td></td>\n",
       "      <td>O</td>\n",
       "      <td>False</td>\n",
       "    </tr>\n",
       "    <tr>\n",
       "      <th>577452</th>\n",
       "      <td>Sentence: 26396</td>\n",
       "      <td>s</td>\n",
       "      <td>O</td>\n",
       "      <td>False</td>\n",
       "    </tr>\n",
       "    <tr>\n",
       "      <th>577530</th>\n",
       "      <td>Sentence: 26400</td>\n",
       "      <td>s</td>\n",
       "      <td>O</td>\n",
       "      <td>False</td>\n",
       "    </tr>\n",
       "    <tr>\n",
       "      <th>633972</th>\n",
       "      <td>Sentence: 28979</td>\n",
       "      <td></td>\n",
       "      <td>O</td>\n",
       "      <td>False</td>\n",
       "    </tr>\n",
       "    <tr>\n",
       "      <th>633976</th>\n",
       "      <td>Sentence: 28979</td>\n",
       "      <td></td>\n",
       "      <td>O</td>\n",
       "      <td>False</td>\n",
       "    </tr>\n",
       "    <tr>\n",
       "      <th>637890</th>\n",
       "      <td>Sentence: 29164</td>\n",
       "      <td>s</td>\n",
       "      <td>O</td>\n",
       "      <td>False</td>\n",
       "    </tr>\n",
       "    <tr>\n",
       "      <th>687674</th>\n",
       "      <td>Sentence: 31423</td>\n",
       "      <td></td>\n",
       "      <td>O</td>\n",
       "      <td>False</td>\n",
       "    </tr>\n",
       "    <tr>\n",
       "      <th>687704</th>\n",
       "      <td>Sentence: 31424</td>\n",
       "      <td>s</td>\n",
       "      <td>O</td>\n",
       "      <td>False</td>\n",
       "    </tr>\n",
       "    <tr>\n",
       "      <th>687755</th>\n",
       "      <td>Sentence: 31427</td>\n",
       "      <td>s</td>\n",
       "      <td>O</td>\n",
       "      <td>False</td>\n",
       "    </tr>\n",
       "    <tr>\n",
       "      <th>687773</th>\n",
       "      <td>Sentence: 31428</td>\n",
       "      <td>s</td>\n",
       "      <td>O</td>\n",
       "      <td>False</td>\n",
       "    </tr>\n",
       "    <tr>\n",
       "      <th>736209</th>\n",
       "      <td>Sentence: 33654</td>\n",
       "      <td></td>\n",
       "      <td>O</td>\n",
       "      <td>False</td>\n",
       "    </tr>\n",
       "    <tr>\n",
       "      <th>736216</th>\n",
       "      <td>Sentence: 33654</td>\n",
       "      <td></td>\n",
       "      <td>O</td>\n",
       "      <td>False</td>\n",
       "    </tr>\n",
       "    <tr>\n",
       "      <th>748589</th>\n",
       "      <td>Sentence: 34218</td>\n",
       "      <td></td>\n",
       "      <td>O</td>\n",
       "      <td>False</td>\n",
       "    </tr>\n",
       "    <tr>\n",
       "      <th>748591</th>\n",
       "      <td>Sentence: 34218</td>\n",
       "      <td></td>\n",
       "      <td>O</td>\n",
       "      <td>False</td>\n",
       "    </tr>\n",
       "    <tr>\n",
       "      <th>748643</th>\n",
       "      <td>Sentence: 34221</td>\n",
       "      <td></td>\n",
       "      <td>O</td>\n",
       "      <td>False</td>\n",
       "    </tr>\n",
       "    <tr>\n",
       "      <th>748666</th>\n",
       "      <td>Sentence: 34221</td>\n",
       "      <td></td>\n",
       "      <td>O</td>\n",
       "      <td>False</td>\n",
       "    </tr>\n",
       "    <tr>\n",
       "      <th>859747</th>\n",
       "      <td>Sentence: 39287</td>\n",
       "      <td>s</td>\n",
       "      <td>I-org</td>\n",
       "      <td>False</td>\n",
       "    </tr>\n",
       "    <tr>\n",
       "      <th>859829</th>\n",
       "      <td>Sentence: 39291</td>\n",
       "      <td></td>\n",
       "      <td>O</td>\n",
       "      <td>False</td>\n",
       "    </tr>\n",
       "    <tr>\n",
       "      <th>948284</th>\n",
       "      <td>Sentence: 43340</td>\n",
       "      <td></td>\n",
       "      <td>O</td>\n",
       "      <td>False</td>\n",
       "    </tr>\n",
       "    <tr>\n",
       "      <th>1031999</th>\n",
       "      <td>Sentence: 47183</td>\n",
       "      <td></td>\n",
       "      <td>I-org</td>\n",
       "      <td>False</td>\n",
       "    </tr>\n",
       "  </tbody>\n",
       "</table>\n",
       "</div>"
      ],
      "text/plain": [
       "              Sentence # Word    Tag  is_proper_word\n",
       "1786        Sentence: 77    \n",
       "      O           False\n",
       "56462     Sentence: 2556   °C      O           False\n",
       "124883    Sentence: 5700   s      O           False\n",
       "124903    Sentence: 5700   s      O           False\n",
       "181958    Sentence: 8332      I-tim           False\n",
       "199965    Sentence: 9159          O           False\n",
       "199968    Sentence: 9159          O           False\n",
       "219475   Sentence: 10052    \n",
       "      O           False\n",
       "219476   Sentence: 10052          O           False\n",
       "219486   Sentence: 10052    \n",
       "      O           False\n",
       "219488   Sentence: 10052          O           False\n",
       "434107   Sentence: 19818    \n",
       "      O           False\n",
       "577452   Sentence: 26396   s      O           False\n",
       "577530   Sentence: 26400   s      O           False\n",
       "633972   Sentence: 28979          O           False\n",
       "633976   Sentence: 28979          O           False\n",
       "637890   Sentence: 29164   s      O           False\n",
       "687674   Sentence: 31423          O           False\n",
       "687704   Sentence: 31424   s      O           False\n",
       "687755   Sentence: 31427   s      O           False\n",
       "687773   Sentence: 31428   s      O           False\n",
       "736209   Sentence: 33654          O           False\n",
       "736216   Sentence: 33654          O           False\n",
       "748589   Sentence: 34218          O           False\n",
       "748591   Sentence: 34218          O           False\n",
       "748643   Sentence: 34221          O           False\n",
       "748666   Sentence: 34221          O           False\n",
       "859747   Sentence: 39287   s  I-org           False\n",
       "859829   Sentence: 39291          O           False\n",
       "948284   Sentence: 43340          O           False\n",
       "1031999  Sentence: 47183      I-org           False"
      ]
     },
     "metadata": {},
     "output_type": "display_data"
    }
   ],
   "source": [
    "display(data[~data['is_proper_word']])"
   ]
  },
  {
   "cell_type": "markdown",
   "metadata": {},
   "source": [
    "### Retain only the data where appear only proper words"
   ]
  },
  {
   "cell_type": "code",
   "execution_count": 18,
   "metadata": {},
   "outputs": [],
   "source": [
    "data = data[data['is_proper_word']]"
   ]
  },
  {
   "cell_type": "code",
   "execution_count": 19,
   "metadata": {},
   "outputs": [
    {
     "name": "stdout",
     "output_type": "stream",
     "text": [
      "Updated cols of the data: ['Sentence #', 'Word', 'Tag']\n",
      "Updated number of rows: 1048534\n"
     ]
    }
   ],
   "source": [
    "data.drop(columns = [\"is_proper_word\"], inplace = True)\n",
    "print(f\"Updated cols of the data: {data.columns.tolist()}\")\n",
    "print(f\"Updated number of rows: {data.shape[0]}\")"
   ]
  },
  {
   "cell_type": "markdown",
   "metadata": {},
   "source": [
    "### Frequency of each tag\n",
    "Compute the frequency of each tag"
   ]
  },
  {
   "cell_type": "code",
   "execution_count": 20,
   "metadata": {},
   "outputs": [
    {
     "name": "stdout",
     "output_type": "stream",
     "text": [
      "Number of tags: 17\n"
     ]
    },
    {
     "data": {
      "text/plain": [
       "Tag\n",
       "O        887870\n",
       "B-geo     37644\n",
       "B-tim     20333\n",
       "B-org     20143\n",
       "I-per     17251\n",
       "B-per     16990\n",
       "I-org     16782\n",
       "B-gpe     15870\n",
       "I-geo      7414\n",
       "I-tim      6527\n",
       "B-art       402\n",
       "B-eve       308\n",
       "I-art       297\n",
       "I-eve       253\n",
       "B-nat       201\n",
       "I-gpe       198\n",
       "I-nat        51\n",
       "Name: count, dtype: int64"
      ]
     },
     "metadata": {},
     "output_type": "display_data"
    }
   ],
   "source": [
    "print(f\"Number of tags: {len(data.Tag.unique())}\")\n",
    "frequencies = data.Tag.value_counts()\n",
    "display(frequencies)"
   ]
  },
  {
   "cell_type": "code",
   "execution_count": 21,
   "metadata": {},
   "outputs": [
    {
     "name": "stdout",
     "output_type": "stream",
     "text": [
      "O\n",
      "B-geo\n",
      "B-tim\n",
      "B-org\n",
      "I-per\n",
      "B-per\n",
      "I-org\n",
      "B-gpe\n",
      "I-geo\n",
      "I-tim\n",
      "B-art\n",
      "B-eve\n",
      "I-art\n",
      "I-eve\n",
      "B-nat\n",
      "I-gpe\n",
      "I-nat\n"
     ]
    }
   ],
   "source": [
    "for i in frequencies.index:\n",
    "    print(i)"
   ]
  },
  {
   "cell_type": "code",
   "execution_count": 22,
   "metadata": {},
   "outputs": [
    {
     "name": "stdout",
     "output_type": "stream",
     "text": [
      "[('geo', 45058), ('org', 36925), ('per', 34241), ('tim', 26860), ('gpe', 16068), ('art', 699), ('eve', 561), ('nat', 252)]\n"
     ]
    }
   ],
   "source": [
    "## count the frequencies of sub-tags in decreasing order\n",
    "\n",
    "# Dict for storing the tags and their frequency\n",
    "tags = {}\n",
    "\n",
    "# iterate through each tag\n",
    "for tag, count in zip(frequencies.index, frequencies):\n",
    "    # Check if the tag is not 'O'\n",
    "    if tag != \"O\":\n",
    "        # extract the sub-tag \n",
    "        if tag[2:5] not in tags.keys():\n",
    "            # create a key with its count\n",
    "            tags[tag[2:5]] = count\n",
    "        else:\n",
    "            # if sub-tag already exists, then simply update the count\n",
    "            tags[tag[2:5]] += count\n",
    "\n",
    "# print the sub-tags in sorted order\n",
    "print(sorted(tags.items(), key=lambda x: x[1], reverse=True))\n"
   ]
  },
  {
   "cell_type": "markdown",
   "metadata": {},
   "source": [
    "### Dealing with tags that could act as Noise"
   ]
  },
  {
   "cell_type": "code",
   "execution_count": 23,
   "metadata": {},
   "outputs": [
    {
     "data": {
      "text/plain": [
       "['B-art', 'B-eve', 'I-art', 'I-eve', 'B-nat', 'I-gpe', 'I-nat']"
      ]
     },
     "execution_count": 23,
     "metadata": {},
     "output_type": "execute_result"
    }
   ],
   "source": [
    "labels_to_remove =[]\n",
    "for index in frequencies.index:\n",
    "    if frequencies[index] < 1000:\n",
    "        labels_to_remove.append(index)\n",
    "        \n",
    "labels_to_remove"
   ]
  },
  {
   "cell_type": "code",
   "execution_count": 24,
   "metadata": {},
   "outputs": [],
   "source": [
    "# Convert the rare tags to \"O\"\n",
    "\n",
    "data.loc[data['Tag'].isin(labels_to_remove), \"Tag\"] ='O'"
   ]
  },
  {
   "cell_type": "markdown",
   "metadata": {},
   "source": [
    "### 4. Compute label Maps"
   ]
  },
  {
   "cell_type": "code",
   "execution_count": 25,
   "metadata": {},
   "outputs": [
    {
     "data": {
      "text/plain": [
       "dict_keys(['O', 'B-geo', 'B-gpe', 'B-per', 'I-geo', 'B-org', 'I-org', 'B-tim', 'I-per', 'I-tim'])"
      ]
     },
     "execution_count": 25,
     "metadata": {},
     "output_type": "execute_result"
    }
   ],
   "source": [
    "label2id = {k: v for v,k in enumerate(data.Tag.unique())}\n",
    "id2label = {v: k for v,k in enumerate(data.Tag.unique())}\n",
    "\n",
    "label2id.keys()"
   ]
  },
  {
   "cell_type": "code",
   "execution_count": 26,
   "metadata": {},
   "outputs": [
    {
     "data": {
      "text/html": [
       "<div>\n",
       "<style scoped>\n",
       "    .dataframe tbody tr th:only-of-type {\n",
       "        vertical-align: middle;\n",
       "    }\n",
       "\n",
       "    .dataframe tbody tr th {\n",
       "        vertical-align: top;\n",
       "    }\n",
       "\n",
       "    .dataframe thead th {\n",
       "        text-align: right;\n",
       "    }\n",
       "</style>\n",
       "<table border=\"1\" class=\"dataframe\">\n",
       "  <thead>\n",
       "    <tr style=\"text-align: right;\">\n",
       "      <th></th>\n",
       "      <th>Sentence #</th>\n",
       "      <th>Word</th>\n",
       "      <th>Tag</th>\n",
       "    </tr>\n",
       "  </thead>\n",
       "  <tbody>\n",
       "    <tr>\n",
       "      <th>0</th>\n",
       "      <td>Sentence: 1</td>\n",
       "      <td>Thousands</td>\n",
       "      <td>O</td>\n",
       "    </tr>\n",
       "    <tr>\n",
       "      <th>1</th>\n",
       "      <td>Sentence: 1</td>\n",
       "      <td>of</td>\n",
       "      <td>O</td>\n",
       "    </tr>\n",
       "    <tr>\n",
       "      <th>2</th>\n",
       "      <td>Sentence: 1</td>\n",
       "      <td>demonstrators</td>\n",
       "      <td>O</td>\n",
       "    </tr>\n",
       "    <tr>\n",
       "      <th>3</th>\n",
       "      <td>Sentence: 1</td>\n",
       "      <td>have</td>\n",
       "      <td>O</td>\n",
       "    </tr>\n",
       "  </tbody>\n",
       "</table>\n",
       "</div>"
      ],
      "text/plain": [
       "    Sentence #           Word Tag\n",
       "0  Sentence: 1      Thousands   O\n",
       "1  Sentence: 1             of   O\n",
       "2  Sentence: 1  demonstrators   O\n",
       "3  Sentence: 1           have   O"
      ]
     },
     "execution_count": 26,
     "metadata": {},
     "output_type": "execute_result"
    }
   ],
   "source": [
    "data.head(4)"
   ]
  },
  {
   "cell_type": "markdown",
   "metadata": {},
   "source": [
    "### 5. Create complete sentences with their labels as one string"
   ]
  },
  {
   "cell_type": "code",
   "execution_count": 27,
   "metadata": {},
   "outputs": [
    {
     "data": {
      "text/html": [
       "<div>\n",
       "<style scoped>\n",
       "    .dataframe tbody tr th:only-of-type {\n",
       "        vertical-align: middle;\n",
       "    }\n",
       "\n",
       "    .dataframe tbody tr th {\n",
       "        vertical-align: top;\n",
       "    }\n",
       "\n",
       "    .dataframe thead th {\n",
       "        text-align: right;\n",
       "    }\n",
       "</style>\n",
       "<table border=\"1\" class=\"dataframe\">\n",
       "  <thead>\n",
       "    <tr style=\"text-align: right;\">\n",
       "      <th></th>\n",
       "      <th>Sentence #</th>\n",
       "      <th>Word</th>\n",
       "      <th>Tag</th>\n",
       "      <th>sentence</th>\n",
       "      <th>labels</th>\n",
       "    </tr>\n",
       "  </thead>\n",
       "  <tbody>\n",
       "    <tr>\n",
       "      <th>0</th>\n",
       "      <td>Sentence: 1</td>\n",
       "      <td>Thousands</td>\n",
       "      <td>O</td>\n",
       "      <td>Thousands of demonstrators have marched throug...</td>\n",
       "      <td>O,O,O,O,O,O,B-geo,O,O,O,O,O,B-geo,O,O,O,O,O,B-...</td>\n",
       "    </tr>\n",
       "    <tr>\n",
       "      <th>1</th>\n",
       "      <td>Sentence: 1</td>\n",
       "      <td>of</td>\n",
       "      <td>O</td>\n",
       "      <td>Thousands of demonstrators have marched throug...</td>\n",
       "      <td>O,O,O,O,O,O,B-geo,O,O,O,O,O,B-geo,O,O,O,O,O,B-...</td>\n",
       "    </tr>\n",
       "    <tr>\n",
       "      <th>2</th>\n",
       "      <td>Sentence: 1</td>\n",
       "      <td>demonstrators</td>\n",
       "      <td>O</td>\n",
       "      <td>Thousands of demonstrators have marched throug...</td>\n",
       "      <td>O,O,O,O,O,O,B-geo,O,O,O,O,O,B-geo,O,O,O,O,O,B-...</td>\n",
       "    </tr>\n",
       "    <tr>\n",
       "      <th>3</th>\n",
       "      <td>Sentence: 1</td>\n",
       "      <td>have</td>\n",
       "      <td>O</td>\n",
       "      <td>Thousands of demonstrators have marched throug...</td>\n",
       "      <td>O,O,O,O,O,O,B-geo,O,O,O,O,O,B-geo,O,O,O,O,O,B-...</td>\n",
       "    </tr>\n",
       "    <tr>\n",
       "      <th>4</th>\n",
       "      <td>Sentence: 1</td>\n",
       "      <td>marched</td>\n",
       "      <td>O</td>\n",
       "      <td>Thousands of demonstrators have marched throug...</td>\n",
       "      <td>O,O,O,O,O,O,B-geo,O,O,O,O,O,B-geo,O,O,O,O,O,B-...</td>\n",
       "    </tr>\n",
       "  </tbody>\n",
       "</table>\n",
       "</div>"
      ],
      "text/plain": [
       "    Sentence #           Word Tag  \\\n",
       "0  Sentence: 1      Thousands   O   \n",
       "1  Sentence: 1             of   O   \n",
       "2  Sentence: 1  demonstrators   O   \n",
       "3  Sentence: 1           have   O   \n",
       "4  Sentence: 1        marched   O   \n",
       "\n",
       "                                            sentence  \\\n",
       "0  Thousands of demonstrators have marched throug...   \n",
       "1  Thousands of demonstrators have marched throug...   \n",
       "2  Thousands of demonstrators have marched throug...   \n",
       "3  Thousands of demonstrators have marched throug...   \n",
       "4  Thousands of demonstrators have marched throug...   \n",
       "\n",
       "                                              labels  \n",
       "0  O,O,O,O,O,O,B-geo,O,O,O,O,O,B-geo,O,O,O,O,O,B-...  \n",
       "1  O,O,O,O,O,O,B-geo,O,O,O,O,O,B-geo,O,O,O,O,O,B-...  \n",
       "2  O,O,O,O,O,O,B-geo,O,O,O,O,O,B-geo,O,O,O,O,O,B-...  \n",
       "3  O,O,O,O,O,O,B-geo,O,O,O,O,O,B-geo,O,O,O,O,O,B-...  \n",
       "4  O,O,O,O,O,O,B-geo,O,O,O,O,O,B-geo,O,O,O,O,O,B-...  "
      ]
     },
     "execution_count": 27,
     "metadata": {},
     "output_type": "execute_result"
    }
   ],
   "source": [
    "# let's create a new column called \"sentence\" which groups the words by sentence \n",
    "data['sentence'] = data[['Sentence #','Word','Tag']].groupby(['Sentence #'])['Word'].transform(lambda x: ' '.join(x))\n",
    "# let's also create a new column called \"word_labels\" which groups the tags by sentence \n",
    "data['labels'] = data[['Sentence #','Word','Tag']].groupby(['Sentence #'])['Tag'].transform(lambda x: ','.join(x))\n",
    "data.head()"
   ]
  },
  {
   "cell_type": "code",
   "execution_count": 28,
   "metadata": {},
   "outputs": [
    {
     "data": {
      "text/html": [
       "<div>\n",
       "<style scoped>\n",
       "    .dataframe tbody tr th:only-of-type {\n",
       "        vertical-align: middle;\n",
       "    }\n",
       "\n",
       "    .dataframe tbody tr th {\n",
       "        vertical-align: top;\n",
       "    }\n",
       "\n",
       "    .dataframe thead th {\n",
       "        text-align: right;\n",
       "    }\n",
       "</style>\n",
       "<table border=\"1\" class=\"dataframe\">\n",
       "  <thead>\n",
       "    <tr style=\"text-align: right;\">\n",
       "      <th></th>\n",
       "      <th>sentence</th>\n",
       "      <th>labels</th>\n",
       "    </tr>\n",
       "  </thead>\n",
       "  <tbody>\n",
       "    <tr>\n",
       "      <th>0</th>\n",
       "      <td>Thousands of demonstrators have marched throug...</td>\n",
       "      <td>O,O,O,O,O,O,B-geo,O,O,O,O,O,B-geo,O,O,O,O,O,B-...</td>\n",
       "    </tr>\n",
       "    <tr>\n",
       "      <th>1</th>\n",
       "      <td>Families of soldiers killed in the conflict jo...</td>\n",
       "      <td>O,O,O,O,O,O,O,O,O,O,O,O,O,O,O,O,O,O,B-per,O,O,...</td>\n",
       "    </tr>\n",
       "    <tr>\n",
       "      <th>2</th>\n",
       "      <td>They marched from the Houses of Parliament to ...</td>\n",
       "      <td>O,O,O,O,O,O,O,O,O,O,O,B-geo,I-geo,O</td>\n",
       "    </tr>\n",
       "    <tr>\n",
       "      <th>3</th>\n",
       "      <td>Police put the number of marchers at 10,000 wh...</td>\n",
       "      <td>O,O,O,O,O,O,O,O,O,O,O,O,O,O,O</td>\n",
       "    </tr>\n",
       "    <tr>\n",
       "      <th>4</th>\n",
       "      <td>The protest comes on the eve of the annual con...</td>\n",
       "      <td>O,O,O,O,O,O,O,O,O,O,O,B-geo,O,O,B-org,I-org,O,...</td>\n",
       "    </tr>\n",
       "  </tbody>\n",
       "</table>\n",
       "</div>"
      ],
      "text/plain": [
       "                                            sentence  \\\n",
       "0  Thousands of demonstrators have marched throug...   \n",
       "1  Families of soldiers killed in the conflict jo...   \n",
       "2  They marched from the Houses of Parliament to ...   \n",
       "3  Police put the number of marchers at 10,000 wh...   \n",
       "4  The protest comes on the eve of the annual con...   \n",
       "\n",
       "                                              labels  \n",
       "0  O,O,O,O,O,O,B-geo,O,O,O,O,O,B-geo,O,O,O,O,O,B-...  \n",
       "1  O,O,O,O,O,O,O,O,O,O,O,O,O,O,O,O,O,O,B-per,O,O,...  \n",
       "2                O,O,O,O,O,O,O,O,O,O,O,B-geo,I-geo,O  \n",
       "3                      O,O,O,O,O,O,O,O,O,O,O,O,O,O,O  \n",
       "4  O,O,O,O,O,O,O,O,O,O,O,B-geo,O,O,B-org,I-org,O,...  "
      ]
     },
     "execution_count": 28,
     "metadata": {},
     "output_type": "execute_result"
    }
   ],
   "source": [
    "data = data[[\"sentence\", \"labels\"]].drop_duplicates().reset_index(drop=True)\n",
    "data.head()"
   ]
  },
  {
   "cell_type": "markdown",
   "metadata": {},
   "source": [
    "### 6. Remove the sentences that contain only \"O\" tags and don't contain any other target labels"
   ]
  },
  {
   "cell_type": "code",
   "execution_count": 29,
   "metadata": {},
   "outputs": [],
   "source": [
    "# # Group by sentence\n",
    "# grouped = data.groupby('Sentence #')\n",
    "\n",
    "# # Find sentence indices where all tags are 'O'\n",
    "# drop_sentence_ids = []\n",
    "# for sent_id, group in grouped:\n",
    "#     if set(group['Tag']) == {'O'}:\n",
    "#         drop_sentence_ids.append(sent_id)\n",
    "\n",
    "# # Drop all such sentences at once\n",
    "# data = data[~data['Sentence #'].isin(drop_sentence_ids)]\n",
    "\n",
    "# print(f\"Total number of removed sentences that contain only 'O' tags: {len(drop_sentence_ids)}\")\n"
   ]
  },
  {
   "cell_type": "code",
   "execution_count": 30,
   "metadata": {},
   "outputs": [],
   "source": [
    "# print(f\"Total number of sentences after removing sentences containing all 'O' labels: {len(data)}\")"
   ]
  },
  {
   "cell_type": "code",
   "execution_count": 31,
   "metadata": {},
   "outputs": [],
   "source": [
    "# data['num_words'] = data['sentence'].apply(lambda x: len(x.split(' ')))\n",
    "# data"
   ]
  },
  {
   "cell_type": "code",
   "execution_count": 32,
   "metadata": {},
   "outputs": [],
   "source": [
    "# data['num_labels'] = data['labels'].apply(lambda x: len(x.split(',')))\n",
    "# data"
   ]
  },
  {
   "cell_type": "code",
   "execution_count": 33,
   "metadata": {},
   "outputs": [],
   "source": [
    "# def simple_tokenizer(text):\n",
    "#     return text.lower().split()\n"
   ]
  },
  {
   "cell_type": "code",
   "execution_count": 34,
   "metadata": {},
   "outputs": [],
   "source": [
    "# # Apply tokenizer to create 'tokens' column\n",
    "# data['tokens'] = data['sentence'].apply(word_tokenize)"
   ]
  },
  {
   "cell_type": "code",
   "execution_count": 35,
   "metadata": {},
   "outputs": [],
   "source": [
    "# data['num_tokens'] = data['tokens'].apply(len)  #number of tokens\n",
    "# data.head()"
   ]
  },
  {
   "cell_type": "code",
   "execution_count": 36,
   "metadata": {},
   "outputs": [],
   "source": [
    "# data['words_tokens_diff'] = data['num_tokens'] - data['num_words']"
   ]
  },
  {
   "cell_type": "code",
   "execution_count": 37,
   "metadata": {},
   "outputs": [],
   "source": [
    "# data[data['words_tokens_diff']==1]"
   ]
  },
  {
   "cell_type": "code",
   "execution_count": 38,
   "metadata": {},
   "outputs": [],
   "source": [
    "# data['words_labels_diff'] = data['num_words'] - data['num_labels']"
   ]
  },
  {
   "cell_type": "code",
   "execution_count": 39,
   "metadata": {},
   "outputs": [],
   "source": [
    "# sns.set(style='darkgrid')\n",
    "\n",
    "# # Increase the plot size and font size.\n",
    "# sns.set(font_scale=1.5)\n",
    "# plt.figure(figsize=(24, 24))\n",
    "# plt.rcParams[\"figure.figsize\"] = (10,5)\n",
    "\n",
    "# words_labels_diff = data['words_labels_diff'].values.tolist()\n",
    "\n",
    "# min_words_labels_diff = min(words_labels_diff)\n",
    "# max_words_labels_diff = max(words_labels_diff)\n",
    "# median_words_labels_diff = int(np.median(words_labels_diff))\n",
    "\n",
    "# # Plot the distribution of comment lengths.\n",
    "# sns.displot(words_labels_diff, kde=False, rug=False,color='green')\n",
    "\n",
    "# plt.title('Difference in # of Words and # of Labels')\n",
    "# plt.xlabel('Difference')\n",
    "# plt.ylabel('# of Sentences')\n",
    "# plt.savefig('./images/words_labels_diff.png', bbox_inches='tight', dpi=300)\n",
    "# plt.show()\n",
    "\n",
    "\n",
    "# print(\"\\nStats for length of Tokens\")\n",
    "# print(f\"Minimum difference in num of words and num of labels: {min_words_labels_diff}\") \n",
    "# print(f\"Maximum difference in num of words and num of labels: {max_words_labels_diff}\") \n",
    "# print(f\"Median difference in num of words and num of labels: {median_words_labels_diff}\")"
   ]
  },
  {
   "cell_type": "code",
   "execution_count": 40,
   "metadata": {},
   "outputs": [],
   "source": [
    "# sns.set(style='darkgrid')\n",
    "\n",
    "# # Increase the plot size and font size.\n",
    "# sns.set(font_scale=1.5)\n",
    "# plt.figure(figsize=(24, 24))\n",
    "# plt.rcParams[\"figure.figsize\"] = (10,5)\n",
    "\n",
    "# token_lens = data['num_tokens'].values.tolist()\n",
    "\n",
    "# min_token_len = min(token_lens)\n",
    "# max_token_len = max(token_lens)\n",
    "# median_token_len = int(np.median(token_lens))\n",
    "\n",
    "# # Plot the distribution of comment lengths.\n",
    "# sns.displot(token_lens, kde=False, rug=False,color='green')\n",
    "\n",
    "# plt.title('Tokens Lengths')\n",
    "# plt.xlabel('Tokens Length (# of tokens)')\n",
    "# plt.ylabel('# of Sentences')\n",
    "# plt.savefig('./images/bert_tokens_lengths.png')\n",
    "# plt.show()\n",
    "\n",
    "# print(\"\\nStats for length of Bert Tokens\")\n",
    "# print(f\"Minimum Tokens length: {min_token_len}\") \n",
    "# print(f\"Maximum Tokens length: {max_token_len}\") \n",
    "# print(f\"Median Tokens length: {median_token_len}\")\n"
   ]
  },
  {
   "cell_type": "code",
   "execution_count": 41,
   "metadata": {},
   "outputs": [],
   "source": [
    "# data['words_tokens_diff'].value_counts()"
   ]
  },
  {
   "cell_type": "code",
   "execution_count": 42,
   "metadata": {},
   "outputs": [],
   "source": [
    "# words_tokens_diff = data['words_tokens_diff'].values.tolist()\n",
    "# count = Counter(words_tokens_diff)\n",
    "# count"
   ]
  },
  {
   "cell_type": "code",
   "execution_count": 43,
   "metadata": {},
   "outputs": [],
   "source": [
    "# sns.set(style='darkgrid')\n",
    "\n",
    "# # Increase the plot size and font size.\n",
    "# sns.set(font_scale=1.5)\n",
    "# plt.figure(figsize=(24, 24))\n",
    "# plt.rcParams[\"figure.figsize\"] = (10,10)\n",
    "\n",
    "# words_tokens_diff = data['words_tokens_diff'].values.tolist()\n",
    "\n",
    "# min_words_tokens_diff = min(words_tokens_diff)\n",
    "# max_words_tokens_diff = max(words_tokens_diff)\n",
    "# median_words_tokens_diff = int(np.median(words_tokens_diff))\n",
    "\n",
    "# # Plot the distribution of comment lengths.\n",
    "# sns.displot(words_tokens_diff, kde=False, rug=False,color='blue')\n",
    "\n",
    "# plt.title('Difference in Length ')\n",
    "# plt.xlabel('Difference')\n",
    "# plt.ylabel('# of Sentences')\n",
    "# plt.savefig('./images/words_tokens_diff.png', bbox_inches='tight')\n",
    "# plt.show()\n",
    "\n",
    "# print(\"\\nStats for length difference between Bert Tokens and sentence length\")\n",
    "# print(f\"Minimum difference in num of tokens and num of words: {min_words_tokens_diff}\") \n",
    "# print(f\"Maximum difference in num of tokens and num of words: {max_words_tokens_diff}\") \n",
    "# print(f\"Median difference in num of tokens and num of words: {median_words_tokens_diff}\")\n"
   ]
  },
  {
   "cell_type": "markdown",
   "metadata": {},
   "source": [
    "### 14. Setting meaningfull Max Len"
   ]
  },
  {
   "cell_type": "markdown",
   "metadata": {},
   "source": [
    "### 14.1.a. threshold = 78"
   ]
  },
  {
   "cell_type": "code",
   "execution_count": 44,
   "metadata": {},
   "outputs": [],
   "source": [
    "# len_thresh = 78\n",
    "# data[data['num_tokens'] == 104]"
   ]
  },
  {
   "cell_type": "code",
   "execution_count": 45,
   "metadata": {},
   "outputs": [],
   "source": [
    "# data = data[[\"sentence\", \"labels\"]].drop_duplicates().reset_index(drop=True)\n",
    "# display(data.head())\n",
    "# print(f\"\\n Nnumber of sentences in clean dataframe: {len(data)}\")"
   ]
  },
  {
   "cell_type": "markdown",
   "metadata": {},
   "source": [
    "### Explore distribution of Labels"
   ]
  },
  {
   "cell_type": "code",
   "execution_count": 46,
   "metadata": {},
   "outputs": [],
   "source": [
    "# bal_df = pd.DataFrame(columns= ['s_id', 'labels'])"
   ]
  },
  {
   "cell_type": "code",
   "execution_count": 47,
   "metadata": {},
   "outputs": [],
   "source": [
    "# bal_df"
   ]
  },
  {
   "cell_type": "code",
   "execution_count": 48,
   "metadata": {},
   "outputs": [],
   "source": [
    "# test = pd.DataFrame(data = {\"s_id\":[1,2,3], \"name\":[\"A\",\"B\",\"C\"]})\n",
    "# test"
   ]
  },
  {
   "cell_type": "code",
   "execution_count": 49,
   "metadata": {},
   "outputs": [],
   "source": [
    "# test = pd.get_dummies(test)"
   ]
  },
  {
   "cell_type": "code",
   "execution_count": 50,
   "metadata": {},
   "outputs": [],
   "source": [
    "# # split the labels column of data into list of labels\n",
    "# bal_df['labels'] = data['labels'].apply(lambda x: x.split(','))\n",
    "# # set 's_id' column to be the index column of data \n",
    "# bal_df['s_id'] = data.index\n",
    "\n",
    "# # display the bal df\n",
    "# display(bal_df.head())"
   ]
  },
  {
   "cell_type": "code",
   "execution_count": 51,
   "metadata": {},
   "outputs": [],
   "source": [
    "# bal_df = bal_df.explode('labels')\n",
    "# display(bal_df.head())\n"
   ]
  },
  {
   "cell_type": "markdown",
   "metadata": {},
   "source": [
    "### Create the dummies for labels column"
   ]
  },
  {
   "cell_type": "code",
   "execution_count": 52,
   "metadata": {},
   "outputs": [],
   "source": [
    "# bal_df = pd.get_dummies(bal_df)\n",
    "# display(bal_df.head())"
   ]
  },
  {
   "cell_type": "code",
   "execution_count": 53,
   "metadata": {},
   "outputs": [],
   "source": [
    "# bal_df.shape[0]"
   ]
  },
  {
   "cell_type": "markdown",
   "metadata": {},
   "source": [
    "### Count the frequency of each label for every sentence"
   ]
  },
  {
   "cell_type": "code",
   "execution_count": 54,
   "metadata": {},
   "outputs": [],
   "source": [
    "# bal_df = bal_df.groupby(['s_id'],as_index=True).sum()\n",
    "# display(bal_df.head())"
   ]
  },
  {
   "cell_type": "code",
   "execution_count": 55,
   "metadata": {},
   "outputs": [],
   "source": [
    "# # get the descriptive statistics of each label\n",
    "# bal_df.describe()"
   ]
  },
  {
   "cell_type": "markdown",
   "metadata": {},
   "source": [
    "### 7. Plot the kernel density plots for each label"
   ]
  },
  {
   "cell_type": "code",
   "execution_count": 56,
   "metadata": {},
   "outputs": [],
   "source": [
    "# # set the figure dimensions and labels, label size and title\n",
    "# fig, ax = plt.subplots(figsize=(12, 8))\n",
    "# ax.yaxis.set_tick_params(labelsize = 8)\n",
    "# ax.xaxis.set_tick_params(labelsize = 8)\n",
    "# ax.set(xlabel='Count', ylabel='Labels', title='Violin Plot')\n",
    "# # build the plot\n",
    "# g = sns.violinplot(data=bal_df.loc[:, bal_df.columns != 'labels_O'], linewidth=1, inner=\"quart\", orient='h')\n",
    "# # show the plot\n",
    "# plt.savefig('./images/labels_violin_plot.png', bbox_inches='tight')\n",
    "# plt.show()\n"
   ]
  },
  {
   "cell_type": "markdown",
   "metadata": {},
   "source": [
    "### Frequency of each labels"
   ]
  },
  {
   "cell_type": "code",
   "execution_count": 57,
   "metadata": {},
   "outputs": [],
   "source": [
    "# # count the frequency of each label in ascending order\n",
    "# labels_counts = bal_df.sum(axis = 0).sort_values(ascending= True)\n",
    "# labels_counts.values"
   ]
  },
  {
   "cell_type": "markdown",
   "metadata": {},
   "source": [
    "### Plot frequency of each label"
   ]
  },
  {
   "cell_type": "code",
   "execution_count": 58,
   "metadata": {},
   "outputs": [],
   "source": [
    "# fig, ax = plt.subplots(figsize=(6, 4))\n",
    "# ax.yaxis.set_tick_params(labelsize = 8)\n",
    "# ax.xaxis.set_tick_params(labelsize =8)\n",
    "# plt.xticks(rotation=45)\n",
    "# g = sns.barplot(x=labels_counts.index, y=labels_counts.values, ax=ax)\n",
    "# ax.set(xlabel='label', ylabel='frequency', title='Labels Frequency')\n",
    "# ax.bar_label(ax.containers[0], fontsize=8)\n",
    "# plt.savefig('./images/labels_freq.png', bbox_inches='tight')\n",
    "# plt.show()\n",
    "\n",
    "# #fig.savefig('n_label_freq.png', bbox_inches='tight', dpi=1600)"
   ]
  },
  {
   "cell_type": "markdown",
   "metadata": {},
   "source": [
    "### Helper Functions to Create Balanced Split function"
   ]
  },
  {
   "cell_type": "code",
   "execution_count": 59,
   "metadata": {},
   "outputs": [
    {
     "data": {
      "text/plain": [
       "{'O': 0,\n",
       " 'B-geo': 1,\n",
       " 'B-gpe': 2,\n",
       " 'B-per': 3,\n",
       " 'I-geo': 4,\n",
       " 'B-org': 5,\n",
       " 'I-org': 6,\n",
       " 'B-tim': 7,\n",
       " 'I-per': 8,\n",
       " 'I-tim': 9}"
      ]
     },
     "execution_count": 59,
     "metadata": {},
     "output_type": "execute_result"
    }
   ],
   "source": [
    "label2id"
   ]
  },
  {
   "cell_type": "code",
   "execution_count": 60,
   "metadata": {},
   "outputs": [
    {
     "data": {
      "text/html": [
       "<style>#sk-container-id-1 {\n",
       "  /* Definition of color scheme common for light and dark mode */\n",
       "  --sklearn-color-text: #000;\n",
       "  --sklearn-color-text-muted: #666;\n",
       "  --sklearn-color-line: gray;\n",
       "  /* Definition of color scheme for unfitted estimators */\n",
       "  --sklearn-color-unfitted-level-0: #fff5e6;\n",
       "  --sklearn-color-unfitted-level-1: #f6e4d2;\n",
       "  --sklearn-color-unfitted-level-2: #ffe0b3;\n",
       "  --sklearn-color-unfitted-level-3: chocolate;\n",
       "  /* Definition of color scheme for fitted estimators */\n",
       "  --sklearn-color-fitted-level-0: #f0f8ff;\n",
       "  --sklearn-color-fitted-level-1: #d4ebff;\n",
       "  --sklearn-color-fitted-level-2: #b3dbfd;\n",
       "  --sklearn-color-fitted-level-3: cornflowerblue;\n",
       "\n",
       "  /* Specific color for light theme */\n",
       "  --sklearn-color-text-on-default-background: var(--sg-text-color, var(--theme-code-foreground, var(--jp-content-font-color1, black)));\n",
       "  --sklearn-color-background: var(--sg-background-color, var(--theme-background, var(--jp-layout-color0, white)));\n",
       "  --sklearn-color-border-box: var(--sg-text-color, var(--theme-code-foreground, var(--jp-content-font-color1, black)));\n",
       "  --sklearn-color-icon: #696969;\n",
       "\n",
       "  @media (prefers-color-scheme: dark) {\n",
       "    /* Redefinition of color scheme for dark theme */\n",
       "    --sklearn-color-text-on-default-background: var(--sg-text-color, var(--theme-code-foreground, var(--jp-content-font-color1, white)));\n",
       "    --sklearn-color-background: var(--sg-background-color, var(--theme-background, var(--jp-layout-color0, #111)));\n",
       "    --sklearn-color-border-box: var(--sg-text-color, var(--theme-code-foreground, var(--jp-content-font-color1, white)));\n",
       "    --sklearn-color-icon: #878787;\n",
       "  }\n",
       "}\n",
       "\n",
       "#sk-container-id-1 {\n",
       "  color: var(--sklearn-color-text);\n",
       "}\n",
       "\n",
       "#sk-container-id-1 pre {\n",
       "  padding: 0;\n",
       "}\n",
       "\n",
       "#sk-container-id-1 input.sk-hidden--visually {\n",
       "  border: 0;\n",
       "  clip: rect(1px 1px 1px 1px);\n",
       "  clip: rect(1px, 1px, 1px, 1px);\n",
       "  height: 1px;\n",
       "  margin: -1px;\n",
       "  overflow: hidden;\n",
       "  padding: 0;\n",
       "  position: absolute;\n",
       "  width: 1px;\n",
       "}\n",
       "\n",
       "#sk-container-id-1 div.sk-dashed-wrapped {\n",
       "  border: 1px dashed var(--sklearn-color-line);\n",
       "  margin: 0 0.4em 0.5em 0.4em;\n",
       "  box-sizing: border-box;\n",
       "  padding-bottom: 0.4em;\n",
       "  background-color: var(--sklearn-color-background);\n",
       "}\n",
       "\n",
       "#sk-container-id-1 div.sk-container {\n",
       "  /* jupyter's `normalize.less` sets `[hidden] { display: none; }`\n",
       "     but bootstrap.min.css set `[hidden] { display: none !important; }`\n",
       "     so we also need the `!important` here to be able to override the\n",
       "     default hidden behavior on the sphinx rendered scikit-learn.org.\n",
       "     See: https://github.com/scikit-learn/scikit-learn/issues/21755 */\n",
       "  display: inline-block !important;\n",
       "  position: relative;\n",
       "}\n",
       "\n",
       "#sk-container-id-1 div.sk-text-repr-fallback {\n",
       "  display: none;\n",
       "}\n",
       "\n",
       "div.sk-parallel-item,\n",
       "div.sk-serial,\n",
       "div.sk-item {\n",
       "  /* draw centered vertical line to link estimators */\n",
       "  background-image: linear-gradient(var(--sklearn-color-text-on-default-background), var(--sklearn-color-text-on-default-background));\n",
       "  background-size: 2px 100%;\n",
       "  background-repeat: no-repeat;\n",
       "  background-position: center center;\n",
       "}\n",
       "\n",
       "/* Parallel-specific style estimator block */\n",
       "\n",
       "#sk-container-id-1 div.sk-parallel-item::after {\n",
       "  content: \"\";\n",
       "  width: 100%;\n",
       "  border-bottom: 2px solid var(--sklearn-color-text-on-default-background);\n",
       "  flex-grow: 1;\n",
       "}\n",
       "\n",
       "#sk-container-id-1 div.sk-parallel {\n",
       "  display: flex;\n",
       "  align-items: stretch;\n",
       "  justify-content: center;\n",
       "  background-color: var(--sklearn-color-background);\n",
       "  position: relative;\n",
       "}\n",
       "\n",
       "#sk-container-id-1 div.sk-parallel-item {\n",
       "  display: flex;\n",
       "  flex-direction: column;\n",
       "}\n",
       "\n",
       "#sk-container-id-1 div.sk-parallel-item:first-child::after {\n",
       "  align-self: flex-end;\n",
       "  width: 50%;\n",
       "}\n",
       "\n",
       "#sk-container-id-1 div.sk-parallel-item:last-child::after {\n",
       "  align-self: flex-start;\n",
       "  width: 50%;\n",
       "}\n",
       "\n",
       "#sk-container-id-1 div.sk-parallel-item:only-child::after {\n",
       "  width: 0;\n",
       "}\n",
       "\n",
       "/* Serial-specific style estimator block */\n",
       "\n",
       "#sk-container-id-1 div.sk-serial {\n",
       "  display: flex;\n",
       "  flex-direction: column;\n",
       "  align-items: center;\n",
       "  background-color: var(--sklearn-color-background);\n",
       "  padding-right: 1em;\n",
       "  padding-left: 1em;\n",
       "}\n",
       "\n",
       "\n",
       "/* Toggleable style: style used for estimator/Pipeline/ColumnTransformer box that is\n",
       "clickable and can be expanded/collapsed.\n",
       "- Pipeline and ColumnTransformer use this feature and define the default style\n",
       "- Estimators will overwrite some part of the style using the `sk-estimator` class\n",
       "*/\n",
       "\n",
       "/* Pipeline and ColumnTransformer style (default) */\n",
       "\n",
       "#sk-container-id-1 div.sk-toggleable {\n",
       "  /* Default theme specific background. It is overwritten whether we have a\n",
       "  specific estimator or a Pipeline/ColumnTransformer */\n",
       "  background-color: var(--sklearn-color-background);\n",
       "}\n",
       "\n",
       "/* Toggleable label */\n",
       "#sk-container-id-1 label.sk-toggleable__label {\n",
       "  cursor: pointer;\n",
       "  display: flex;\n",
       "  width: 100%;\n",
       "  margin-bottom: 0;\n",
       "  padding: 0.5em;\n",
       "  box-sizing: border-box;\n",
       "  text-align: center;\n",
       "  align-items: start;\n",
       "  justify-content: space-between;\n",
       "  gap: 0.5em;\n",
       "}\n",
       "\n",
       "#sk-container-id-1 label.sk-toggleable__label .caption {\n",
       "  font-size: 0.6rem;\n",
       "  font-weight: lighter;\n",
       "  color: var(--sklearn-color-text-muted);\n",
       "}\n",
       "\n",
       "#sk-container-id-1 label.sk-toggleable__label-arrow:before {\n",
       "  /* Arrow on the left of the label */\n",
       "  content: \"▸\";\n",
       "  float: left;\n",
       "  margin-right: 0.25em;\n",
       "  color: var(--sklearn-color-icon);\n",
       "}\n",
       "\n",
       "#sk-container-id-1 label.sk-toggleable__label-arrow:hover:before {\n",
       "  color: var(--sklearn-color-text);\n",
       "}\n",
       "\n",
       "/* Toggleable content - dropdown */\n",
       "\n",
       "#sk-container-id-1 div.sk-toggleable__content {\n",
       "  display: none;\n",
       "  text-align: left;\n",
       "  /* unfitted */\n",
       "  background-color: var(--sklearn-color-unfitted-level-0);\n",
       "}\n",
       "\n",
       "#sk-container-id-1 div.sk-toggleable__content.fitted {\n",
       "  /* fitted */\n",
       "  background-color: var(--sklearn-color-fitted-level-0);\n",
       "}\n",
       "\n",
       "#sk-container-id-1 div.sk-toggleable__content pre {\n",
       "  margin: 0.2em;\n",
       "  border-radius: 0.25em;\n",
       "  color: var(--sklearn-color-text);\n",
       "  /* unfitted */\n",
       "  background-color: var(--sklearn-color-unfitted-level-0);\n",
       "}\n",
       "\n",
       "#sk-container-id-1 div.sk-toggleable__content.fitted pre {\n",
       "  /* unfitted */\n",
       "  background-color: var(--sklearn-color-fitted-level-0);\n",
       "}\n",
       "\n",
       "#sk-container-id-1 input.sk-toggleable__control:checked~div.sk-toggleable__content {\n",
       "  /* Expand drop-down */\n",
       "  display: block;\n",
       "  width: 100%;\n",
       "  overflow: visible;\n",
       "}\n",
       "\n",
       "#sk-container-id-1 input.sk-toggleable__control:checked~label.sk-toggleable__label-arrow:before {\n",
       "  content: \"▾\";\n",
       "}\n",
       "\n",
       "/* Pipeline/ColumnTransformer-specific style */\n",
       "\n",
       "#sk-container-id-1 div.sk-label input.sk-toggleable__control:checked~label.sk-toggleable__label {\n",
       "  color: var(--sklearn-color-text);\n",
       "  background-color: var(--sklearn-color-unfitted-level-2);\n",
       "}\n",
       "\n",
       "#sk-container-id-1 div.sk-label.fitted input.sk-toggleable__control:checked~label.sk-toggleable__label {\n",
       "  background-color: var(--sklearn-color-fitted-level-2);\n",
       "}\n",
       "\n",
       "/* Estimator-specific style */\n",
       "\n",
       "/* Colorize estimator box */\n",
       "#sk-container-id-1 div.sk-estimator input.sk-toggleable__control:checked~label.sk-toggleable__label {\n",
       "  /* unfitted */\n",
       "  background-color: var(--sklearn-color-unfitted-level-2);\n",
       "}\n",
       "\n",
       "#sk-container-id-1 div.sk-estimator.fitted input.sk-toggleable__control:checked~label.sk-toggleable__label {\n",
       "  /* fitted */\n",
       "  background-color: var(--sklearn-color-fitted-level-2);\n",
       "}\n",
       "\n",
       "#sk-container-id-1 div.sk-label label.sk-toggleable__label,\n",
       "#sk-container-id-1 div.sk-label label {\n",
       "  /* The background is the default theme color */\n",
       "  color: var(--sklearn-color-text-on-default-background);\n",
       "}\n",
       "\n",
       "/* On hover, darken the color of the background */\n",
       "#sk-container-id-1 div.sk-label:hover label.sk-toggleable__label {\n",
       "  color: var(--sklearn-color-text);\n",
       "  background-color: var(--sklearn-color-unfitted-level-2);\n",
       "}\n",
       "\n",
       "/* Label box, darken color on hover, fitted */\n",
       "#sk-container-id-1 div.sk-label.fitted:hover label.sk-toggleable__label.fitted {\n",
       "  color: var(--sklearn-color-text);\n",
       "  background-color: var(--sklearn-color-fitted-level-2);\n",
       "}\n",
       "\n",
       "/* Estimator label */\n",
       "\n",
       "#sk-container-id-1 div.sk-label label {\n",
       "  font-family: monospace;\n",
       "  font-weight: bold;\n",
       "  display: inline-block;\n",
       "  line-height: 1.2em;\n",
       "}\n",
       "\n",
       "#sk-container-id-1 div.sk-label-container {\n",
       "  text-align: center;\n",
       "}\n",
       "\n",
       "/* Estimator-specific */\n",
       "#sk-container-id-1 div.sk-estimator {\n",
       "  font-family: monospace;\n",
       "  border: 1px dotted var(--sklearn-color-border-box);\n",
       "  border-radius: 0.25em;\n",
       "  box-sizing: border-box;\n",
       "  margin-bottom: 0.5em;\n",
       "  /* unfitted */\n",
       "  background-color: var(--sklearn-color-unfitted-level-0);\n",
       "}\n",
       "\n",
       "#sk-container-id-1 div.sk-estimator.fitted {\n",
       "  /* fitted */\n",
       "  background-color: var(--sklearn-color-fitted-level-0);\n",
       "}\n",
       "\n",
       "/* on hover */\n",
       "#sk-container-id-1 div.sk-estimator:hover {\n",
       "  /* unfitted */\n",
       "  background-color: var(--sklearn-color-unfitted-level-2);\n",
       "}\n",
       "\n",
       "#sk-container-id-1 div.sk-estimator.fitted:hover {\n",
       "  /* fitted */\n",
       "  background-color: var(--sklearn-color-fitted-level-2);\n",
       "}\n",
       "\n",
       "/* Specification for estimator info (e.g. \"i\" and \"?\") */\n",
       "\n",
       "/* Common style for \"i\" and \"?\" */\n",
       "\n",
       ".sk-estimator-doc-link,\n",
       "a:link.sk-estimator-doc-link,\n",
       "a:visited.sk-estimator-doc-link {\n",
       "  float: right;\n",
       "  font-size: smaller;\n",
       "  line-height: 1em;\n",
       "  font-family: monospace;\n",
       "  background-color: var(--sklearn-color-background);\n",
       "  border-radius: 1em;\n",
       "  height: 1em;\n",
       "  width: 1em;\n",
       "  text-decoration: none !important;\n",
       "  margin-left: 0.5em;\n",
       "  text-align: center;\n",
       "  /* unfitted */\n",
       "  border: var(--sklearn-color-unfitted-level-1) 1pt solid;\n",
       "  color: var(--sklearn-color-unfitted-level-1);\n",
       "}\n",
       "\n",
       ".sk-estimator-doc-link.fitted,\n",
       "a:link.sk-estimator-doc-link.fitted,\n",
       "a:visited.sk-estimator-doc-link.fitted {\n",
       "  /* fitted */\n",
       "  border: var(--sklearn-color-fitted-level-1) 1pt solid;\n",
       "  color: var(--sklearn-color-fitted-level-1);\n",
       "}\n",
       "\n",
       "/* On hover */\n",
       "div.sk-estimator:hover .sk-estimator-doc-link:hover,\n",
       ".sk-estimator-doc-link:hover,\n",
       "div.sk-label-container:hover .sk-estimator-doc-link:hover,\n",
       ".sk-estimator-doc-link:hover {\n",
       "  /* unfitted */\n",
       "  background-color: var(--sklearn-color-unfitted-level-3);\n",
       "  color: var(--sklearn-color-background);\n",
       "  text-decoration: none;\n",
       "}\n",
       "\n",
       "div.sk-estimator.fitted:hover .sk-estimator-doc-link.fitted:hover,\n",
       ".sk-estimator-doc-link.fitted:hover,\n",
       "div.sk-label-container:hover .sk-estimator-doc-link.fitted:hover,\n",
       ".sk-estimator-doc-link.fitted:hover {\n",
       "  /* fitted */\n",
       "  background-color: var(--sklearn-color-fitted-level-3);\n",
       "  color: var(--sklearn-color-background);\n",
       "  text-decoration: none;\n",
       "}\n",
       "\n",
       "/* Span, style for the box shown on hovering the info icon */\n",
       ".sk-estimator-doc-link span {\n",
       "  display: none;\n",
       "  z-index: 9999;\n",
       "  position: relative;\n",
       "  font-weight: normal;\n",
       "  right: .2ex;\n",
       "  padding: .5ex;\n",
       "  margin: .5ex;\n",
       "  width: min-content;\n",
       "  min-width: 20ex;\n",
       "  max-width: 50ex;\n",
       "  color: var(--sklearn-color-text);\n",
       "  box-shadow: 2pt 2pt 4pt #999;\n",
       "  /* unfitted */\n",
       "  background: var(--sklearn-color-unfitted-level-0);\n",
       "  border: .5pt solid var(--sklearn-color-unfitted-level-3);\n",
       "}\n",
       "\n",
       ".sk-estimator-doc-link.fitted span {\n",
       "  /* fitted */\n",
       "  background: var(--sklearn-color-fitted-level-0);\n",
       "  border: var(--sklearn-color-fitted-level-3);\n",
       "}\n",
       "\n",
       ".sk-estimator-doc-link:hover span {\n",
       "  display: block;\n",
       "}\n",
       "\n",
       "/* \"?\"-specific style due to the `<a>` HTML tag */\n",
       "\n",
       "#sk-container-id-1 a.estimator_doc_link {\n",
       "  float: right;\n",
       "  font-size: 1rem;\n",
       "  line-height: 1em;\n",
       "  font-family: monospace;\n",
       "  background-color: var(--sklearn-color-background);\n",
       "  border-radius: 1rem;\n",
       "  height: 1rem;\n",
       "  width: 1rem;\n",
       "  text-decoration: none;\n",
       "  /* unfitted */\n",
       "  color: var(--sklearn-color-unfitted-level-1);\n",
       "  border: var(--sklearn-color-unfitted-level-1) 1pt solid;\n",
       "}\n",
       "\n",
       "#sk-container-id-1 a.estimator_doc_link.fitted {\n",
       "  /* fitted */\n",
       "  border: var(--sklearn-color-fitted-level-1) 1pt solid;\n",
       "  color: var(--sklearn-color-fitted-level-1);\n",
       "}\n",
       "\n",
       "/* On hover */\n",
       "#sk-container-id-1 a.estimator_doc_link:hover {\n",
       "  /* unfitted */\n",
       "  background-color: var(--sklearn-color-unfitted-level-3);\n",
       "  color: var(--sklearn-color-background);\n",
       "  text-decoration: none;\n",
       "}\n",
       "\n",
       "#sk-container-id-1 a.estimator_doc_link.fitted:hover {\n",
       "  /* fitted */\n",
       "  background-color: var(--sklearn-color-fitted-level-3);\n",
       "}\n",
       "\n",
       ".estimator-table summary {\n",
       "    padding: .5rem;\n",
       "    font-family: monospace;\n",
       "    cursor: pointer;\n",
       "}\n",
       "\n",
       ".estimator-table details[open] {\n",
       "    padding-left: 0.1rem;\n",
       "    padding-right: 0.1rem;\n",
       "    padding-bottom: 0.3rem;\n",
       "}\n",
       "\n",
       ".estimator-table .parameters-table {\n",
       "    margin-left: auto !important;\n",
       "    margin-right: auto !important;\n",
       "}\n",
       "\n",
       ".estimator-table .parameters-table tr:nth-child(odd) {\n",
       "    background-color: #fff;\n",
       "}\n",
       "\n",
       ".estimator-table .parameters-table tr:nth-child(even) {\n",
       "    background-color: #f6f6f6;\n",
       "}\n",
       "\n",
       ".estimator-table .parameters-table tr:hover {\n",
       "    background-color: #e0e0e0;\n",
       "}\n",
       "\n",
       ".estimator-table table td {\n",
       "    border: 1px solid rgba(106, 105, 104, 0.232);\n",
       "}\n",
       "\n",
       ".user-set td {\n",
       "    color:rgb(255, 94, 0);\n",
       "    text-align: left;\n",
       "}\n",
       "\n",
       ".user-set td.value pre {\n",
       "    color:rgb(255, 94, 0) !important;\n",
       "    background-color: transparent !important;\n",
       "}\n",
       "\n",
       ".default td {\n",
       "    color: black;\n",
       "    text-align: left;\n",
       "}\n",
       "\n",
       ".user-set td i,\n",
       ".default td i {\n",
       "    color: black;\n",
       "}\n",
       "\n",
       ".copy-paste-icon {\n",
       "    background-image: url(data:image/svg+xml;base64,PHN2ZyB4bWxucz0iaHR0cDovL3d3dy53My5vcmcvMjAwMC9zdmciIHZpZXdCb3g9IjAgMCA0NDggNTEyIj48IS0tIUZvbnQgQXdlc29tZSBGcmVlIDYuNy4yIGJ5IEBmb250YXdlc29tZSAtIGh0dHBzOi8vZm9udGF3ZXNvbWUuY29tIExpY2Vuc2UgLSBodHRwczovL2ZvbnRhd2Vzb21lLmNvbS9saWNlbnNlL2ZyZWUgQ29weXJpZ2h0IDIwMjUgRm9udGljb25zLCBJbmMuLS0+PHBhdGggZD0iTTIwOCAwTDMzMi4xIDBjMTIuNyAwIDI0LjkgNS4xIDMzLjkgMTQuMWw2Ny45IDY3LjljOSA5IDE0LjEgMjEuMiAxNC4xIDMzLjlMNDQ4IDMzNmMwIDI2LjUtMjEuNSA0OC00OCA0OGwtMTkyIDBjLTI2LjUgMC00OC0yMS41LTQ4LTQ4bDAtMjg4YzAtMjYuNSAyMS41LTQ4IDQ4LTQ4ek00OCAxMjhsODAgMCAwIDY0LTY0IDAgMCAyNTYgMTkyIDAgMC0zMiA2NCAwIDAgNDhjMCAyNi41LTIxLjUgNDgtNDggNDhMNDggNTEyYy0yNi41IDAtNDgtMjEuNS00OC00OEwwIDE3NmMwLTI2LjUgMjEuNS00OCA0OC00OHoiLz48L3N2Zz4=);\n",
       "    background-repeat: no-repeat;\n",
       "    background-size: 14px 14px;\n",
       "    background-position: 0;\n",
       "    display: inline-block;\n",
       "    width: 14px;\n",
       "    height: 14px;\n",
       "    cursor: pointer;\n",
       "}\n",
       "</style><body><div id=\"sk-container-id-1\" class=\"sk-top-container\"><div class=\"sk-text-repr-fallback\"><pre>MultiLabelBinarizer(classes=[&#x27;O&#x27;, &#x27;B-geo&#x27;, &#x27;B-gpe&#x27;, &#x27;B-per&#x27;, &#x27;I-geo&#x27;, &#x27;B-org&#x27;,\n",
       "                             &#x27;I-org&#x27;, &#x27;B-tim&#x27;, &#x27;I-per&#x27;, &#x27;I-tim&#x27;])</pre><b>In a Jupyter environment, please rerun this cell to show the HTML representation or trust the notebook. <br />On GitHub, the HTML representation is unable to render, please try loading this page with nbviewer.org.</b></div><div class=\"sk-container\" hidden><div class=\"sk-item\"><div class=\"sk-estimator  sk-toggleable\"><input class=\"sk-toggleable__control sk-hidden--visually\" id=\"sk-estimator-id-1\" type=\"checkbox\" checked><label for=\"sk-estimator-id-1\" class=\"sk-toggleable__label  sk-toggleable__label-arrow\"><div><div>MultiLabelBinarizer</div></div><div><a class=\"sk-estimator-doc-link \" rel=\"noreferrer\" target=\"_blank\" href=\"https://scikit-learn.org/1.7/modules/generated/sklearn.preprocessing.MultiLabelBinarizer.html\">?<span>Documentation for MultiLabelBinarizer</span></a><span class=\"sk-estimator-doc-link \">i<span>Not fitted</span></span></div></label><div class=\"sk-toggleable__content \" data-param-prefix=\"\">\n",
       "        <div class=\"estimator-table\">\n",
       "            <details>\n",
       "                <summary>Parameters</summary>\n",
       "                <table class=\"parameters-table\">\n",
       "                  <tbody>\n",
       "                    \n",
       "        <tr class=\"user-set\">\n",
       "            <td><i class=\"copy-paste-icon\"\n",
       "                 onclick=\"copyToClipboard('classes',\n",
       "                          this.parentElement.nextElementSibling)\"\n",
       "            ></i></td>\n",
       "            <td class=\"param\">classes&nbsp;</td>\n",
       "            <td class=\"value\">[&#x27;O&#x27;, &#x27;B-geo&#x27;, ...]</td>\n",
       "        </tr>\n",
       "    \n",
       "\n",
       "        <tr class=\"default\">\n",
       "            <td><i class=\"copy-paste-icon\"\n",
       "                 onclick=\"copyToClipboard('sparse_output',\n",
       "                          this.parentElement.nextElementSibling)\"\n",
       "            ></i></td>\n",
       "            <td class=\"param\">sparse_output&nbsp;</td>\n",
       "            <td class=\"value\">False</td>\n",
       "        </tr>\n",
       "    \n",
       "                  </tbody>\n",
       "                </table>\n",
       "            </details>\n",
       "        </div>\n",
       "    </div></div></div></div></div><script>function copyToClipboard(text, element) {\n",
       "    // Get the parameter prefix from the closest toggleable content\n",
       "    const toggleableContent = element.closest('.sk-toggleable__content');\n",
       "    const paramPrefix = toggleableContent ? toggleableContent.dataset.paramPrefix : '';\n",
       "    const fullParamName = paramPrefix ? `${paramPrefix}${text}` : text;\n",
       "\n",
       "    const originalStyle = element.style;\n",
       "    const computedStyle = window.getComputedStyle(element);\n",
       "    const originalWidth = computedStyle.width;\n",
       "    const originalHTML = element.innerHTML.replace('Copied!', '');\n",
       "\n",
       "    navigator.clipboard.writeText(fullParamName)\n",
       "        .then(() => {\n",
       "            element.style.width = originalWidth;\n",
       "            element.style.color = 'green';\n",
       "            element.innerHTML = \"Copied!\";\n",
       "\n",
       "            setTimeout(() => {\n",
       "                element.innerHTML = originalHTML;\n",
       "                element.style = originalStyle;\n",
       "            }, 2000);\n",
       "        })\n",
       "        .catch(err => {\n",
       "            console.error('Failed to copy:', err);\n",
       "            element.style.color = 'red';\n",
       "            element.innerHTML = \"Failed!\";\n",
       "            setTimeout(() => {\n",
       "                element.innerHTML = originalHTML;\n",
       "                element.style = originalStyle;\n",
       "            }, 2000);\n",
       "        });\n",
       "    return false;\n",
       "}\n",
       "\n",
       "document.querySelectorAll('.fa-regular.fa-copy').forEach(function(element) {\n",
       "    const toggleableContent = element.closest('.sk-toggleable__content');\n",
       "    const paramPrefix = toggleableContent ? toggleableContent.dataset.paramPrefix : '';\n",
       "    const paramName = element.parentElement.nextElementSibling.textContent.trim();\n",
       "    const fullParamName = paramPrefix ? `${paramPrefix}${paramName}` : paramName;\n",
       "\n",
       "    element.setAttribute('title', fullParamName);\n",
       "});\n",
       "</script></body>"
      ],
      "text/plain": [
       "MultiLabelBinarizer(classes=['O', 'B-geo', 'B-gpe', 'B-per', 'I-geo', 'B-org',\n",
       "                             'I-org', 'B-tim', 'I-per', 'I-tim'])"
      ]
     },
     "execution_count": 60,
     "metadata": {},
     "output_type": "execute_result"
    }
   ],
   "source": [
    "# create multilabel binarizer\n",
    "mlb = MultiLabelBinarizer(classes=list(label2id.keys()))\n",
    "mlb"
   ]
  },
  {
   "cell_type": "code",
   "execution_count": 61,
   "metadata": {},
   "outputs": [
    {
     "data": {
      "text/plain": [
       "(47607, 2)"
      ]
     },
     "execution_count": 61,
     "metadata": {},
     "output_type": "execute_result"
    }
   ],
   "source": [
    "test_data = data.copy()\n",
    "test_data.shape"
   ]
  },
  {
   "cell_type": "code",
   "execution_count": 62,
   "metadata": {},
   "outputs": [],
   "source": [
    "\n",
    "ind = np.expand_dims(np.arange(len(test_data)), axis=1)\n",
    "unique_sentence = test_data['labels'].apply(lambda x: set(itertools.chain.from_iterable([x.split(',')])))"
   ]
  },
  {
   "cell_type": "markdown",
   "metadata": {},
   "source": [
    "### Splitting\n",
    "\n",
    "Method: we use multilabel splitting method from library skmultilearn.model_selection as it can split the data evenly with balanced distribution of different label between the test and the train set"
   ]
  },
  {
   "cell_type": "code",
   "execution_count": 63,
   "metadata": {},
   "outputs": [],
   "source": [
    "\n",
    "# Function to create stratified split\n",
    "def balanced_split(df, mlb, test_size):\n",
    "    ind_ = np.expand_dims(np.arange(len(df)), axis=1)\n",
    "    # series of unique labels\n",
    "    unique_labels_ = df['labels'].apply(lambda x: set(itertools.chain.from_iterable([x.split(',')])))\n",
    "    labels_ohe_ = mlb.fit_transform(unique_labels_)\n",
    "    ind_train, _, ind_test, _ = iterative_train_test_split(\n",
    "        ind_, labels_ohe_, test_size\n",
    "    )\n",
    "    return df.iloc[ind_train[:, 0]], df.iloc[ind_test[:, 0]]\n",
    "\n"
   ]
  },
  {
   "cell_type": "markdown",
   "metadata": {},
   "source": [
    "### Another way is to use tf.keras.preprocessing.text_dataset_from_directory"
   ]
  },
  {
   "cell_type": "markdown",
   "metadata": {},
   "source": [
    "### All data - Seen Data(80%) + Unseen/Test Data(20%)"
   ]
  },
  {
   "cell_type": "code",
   "execution_count": 64,
   "metadata": {},
   "outputs": [],
   "source": [
    "seen_df, test_df = balanced_split(data, mlb, test_size=0.2)"
   ]
  },
  {
   "cell_type": "code",
   "execution_count": 65,
   "metadata": {},
   "outputs": [
    {
     "name": "stdout",
     "output_type": "stream",
     "text": [
      "Full Dataset size: 47607\n",
      "Seen Dataset size: 38087\n",
      "Test Data Size: 9520\n"
     ]
    }
   ],
   "source": [
    "print(f\"Full Dataset size: {len(data)}\")\n",
    "print(f\"Seen Dataset size: {len(seen_df)}\")\n",
    "print(f\"Test Data Size: {len(test_df)}\")"
   ]
  },
  {
   "cell_type": "markdown",
   "metadata": {},
   "source": [
    "### Seen Data - Trainning Data(90%) + Validation Data(10%)"
   ]
  },
  {
   "cell_type": "code",
   "execution_count": 66,
   "metadata": {},
   "outputs": [],
   "source": [
    "train_df, valid_df = balanced_split(seen_df, mlb, test_size=0.1)"
   ]
  },
  {
   "cell_type": "code",
   "execution_count": 67,
   "metadata": {},
   "outputs": [
    {
     "name": "stdout",
     "output_type": "stream",
     "text": [
      "Seen Dataset size: 38087\n",
      "Train Dataset size: 34279\n",
      "Valid Data Size: 3808\n"
     ]
    }
   ],
   "source": [
    "print(f\"Seen Dataset size: {len(seen_df)}\")\n",
    "print(f\"Train Dataset size: {len(train_df)}\")\n",
    "print(f\"Valid Data Size: {len(valid_df)}\")"
   ]
  },
  {
   "cell_type": "code",
   "execution_count": 68,
   "metadata": {},
   "outputs": [
    {
     "name": "stdout",
     "output_type": "stream",
     "text": [
      "FULL Dataset: (47607, 2)\n",
      "TRAIN Dataset: (34279, 2)\n",
      "VALID Dataset: (3808, 2)\n",
      "TEST Dataset: (9520, 2)\n"
     ]
    }
   ],
   "source": [
    "# check the size of each data\n",
    "print(\"FULL Dataset: {}\".format(data.shape))\n",
    "print(\"TRAIN Dataset: {}\".format(train_df.shape))\n",
    "print(\"VALID Dataset: {}\".format(valid_df.shape))\n",
    "print(\"TEST Dataset: {}\".format(test_df.shape))"
   ]
  },
  {
   "cell_type": "code",
   "execution_count": 69,
   "metadata": {},
   "outputs": [
    {
     "data": {
      "text/plain": [
       "'O,B-org,I-org,O,O,B-gpe,O,O,O,O,O,O,B-gpe,O,O,B-org,I-org,I-org,O,O,O,O,O,O,O,O,B-gpe,O,O,O,O,O,O,O'"
      ]
     },
     "execution_count": 69,
     "metadata": {},
     "output_type": "execute_result"
    }
   ],
   "source": [
    "train_df[\"labels\"].iloc[3]"
   ]
  },
  {
   "cell_type": "code",
   "execution_count": 70,
   "metadata": {},
   "outputs": [
    {
     "data": {
      "text/plain": [
       "'The European Union , with U.S. backing , has threatened to refer Iran to the U.N. Security Council , which could impose sanctions if it finds Tehran has violated the Nuclear Non-Proliferation treaty .'"
      ]
     },
     "execution_count": 70,
     "metadata": {},
     "output_type": "execute_result"
    }
   ],
   "source": [
    "train_df[\"sentence\"].iloc[3]"
   ]
  },
  {
   "cell_type": "code",
   "execution_count": 71,
   "metadata": {},
   "outputs": [],
   "source": [
    "train_df = train_df.reset_index(drop=True)\n",
    "valid_df = valid_df.reset_index(drop=True)\n",
    "test_df = test_df.reset_index(drop=True)"
   ]
  },
  {
   "cell_type": "code",
   "execution_count": 72,
   "metadata": {},
   "outputs": [
    {
     "data": {
      "text/html": [
       "<div>\n",
       "<style scoped>\n",
       "    .dataframe tbody tr th:only-of-type {\n",
       "        vertical-align: middle;\n",
       "    }\n",
       "\n",
       "    .dataframe tbody tr th {\n",
       "        vertical-align: top;\n",
       "    }\n",
       "\n",
       "    .dataframe thead th {\n",
       "        text-align: right;\n",
       "    }\n",
       "</style>\n",
       "<table border=\"1\" class=\"dataframe\">\n",
       "  <thead>\n",
       "    <tr style=\"text-align: right;\">\n",
       "      <th></th>\n",
       "      <th>sentence</th>\n",
       "      <th>labels</th>\n",
       "    </tr>\n",
       "  </thead>\n",
       "  <tbody>\n",
       "    <tr>\n",
       "      <th>0</th>\n",
       "      <td>Families of soldiers killed in the conflict jo...</td>\n",
       "      <td>O,O,O,O,O,O,O,O,O,O,O,O,O,O,O,O,O,O,B-per,O,O,...</td>\n",
       "    </tr>\n",
       "    <tr>\n",
       "      <th>1</th>\n",
       "      <td>Police put the number of marchers at 10,000 wh...</td>\n",
       "      <td>O,O,O,O,O,O,O,O,O,O,O,O,O,O,O</td>\n",
       "    </tr>\n",
       "    <tr>\n",
       "      <th>2</th>\n",
       "      <td>The party is divided over Britain 's participa...</td>\n",
       "      <td>O,O,O,O,O,B-gpe,O,O,O,O,B-geo,O,O,O,O,O,O,O,B-...</td>\n",
       "    </tr>\n",
       "  </tbody>\n",
       "</table>\n",
       "</div>"
      ],
      "text/plain": [
       "                                            sentence  \\\n",
       "0  Families of soldiers killed in the conflict jo...   \n",
       "1  Police put the number of marchers at 10,000 wh...   \n",
       "2  The party is divided over Britain 's participa...   \n",
       "\n",
       "                                              labels  \n",
       "0  O,O,O,O,O,O,O,O,O,O,O,O,O,O,O,O,O,O,B-per,O,O,...  \n",
       "1                      O,O,O,O,O,O,O,O,O,O,O,O,O,O,O  \n",
       "2  O,O,O,O,O,B-gpe,O,O,O,O,B-geo,O,O,O,O,O,O,O,B-...  "
      ]
     },
     "execution_count": 72,
     "metadata": {},
     "output_type": "execute_result"
    }
   ],
   "source": [
    "train_df.head(3)"
   ]
  },
  {
   "cell_type": "code",
   "execution_count": 73,
   "metadata": {},
   "outputs": [
    {
     "data": {
      "text/plain": [
       "{'B-geo',\n",
       " 'B-gpe',\n",
       " 'B-org',\n",
       " 'B-per',\n",
       " 'B-tim',\n",
       " 'I-geo',\n",
       " 'I-org',\n",
       " 'I-per',\n",
       " 'I-tim',\n",
       " 'O'}"
      ]
     },
     "execution_count": 73,
     "metadata": {},
     "output_type": "execute_result"
    }
   ],
   "source": [
    "# Step 1: Get a set of all labels used in the dataset\n",
    "all_labels = set(itertools.chain.from_iterable(train_df['labels'].apply(lambda x: x.split(','))))\n",
    "all_labels"
   ]
  },
  {
   "cell_type": "markdown",
   "metadata": {},
   "source": [
    "### One hot encoding for all the labels in training , validation and testing dataset"
   ]
  },
  {
   "cell_type": "code",
   "execution_count": 74,
   "metadata": {},
   "outputs": [],
   "source": [
    "\n",
    "# Step 2: Initialize the MultiLabelBinarizer with all known classes\n",
    "mlb = MultiLabelBinarizer(classes=sorted(all_labels))\n",
    "\n",
    "# Step 3: Transform per-sentence label sets\n",
    "unique_train_labels_ohe = mlb.fit_transform(\n",
    "    train_df['labels'].apply(lambda x: set(x.split(',')))\n",
    ")\n"
   ]
  },
  {
   "cell_type": "code",
   "execution_count": 75,
   "metadata": {},
   "outputs": [
    {
     "data": {
      "text/plain": [
       "(34279, 10)"
      ]
     },
     "execution_count": 75,
     "metadata": {},
     "output_type": "execute_result"
    }
   ],
   "source": [
    "unique_train_labels_ohe.shape"
   ]
  },
  {
   "cell_type": "code",
   "execution_count": 76,
   "metadata": {},
   "outputs": [],
   "source": [
    "\n",
    "\n",
    "# Validation\n",
    "unique_valid_labels_ohe = mlb.transform(\n",
    "    valid_df['labels'].apply(lambda x: set(x.split(',')))\n",
    ")\n",
    "\n",
    "# Testing\n",
    "unique_test_labels_ohe = mlb.transform(\n",
    "    test_df['labels'].apply(lambda x: set(x.split(',')))\n",
    ")\n"
   ]
  },
  {
   "cell_type": "code",
   "execution_count": 77,
   "metadata": {},
   "outputs": [
    {
     "name": "stdout",
     "output_type": "stream",
     "text": [
      "Training Data\n",
      "==============\n",
      "Total num of training samples: 34279\n",
      "Total num of each label: [17483  9207 11288  9674 12369  4313  6124  7614  3094 34273]\n",
      "Proportions of each label: [0.51002071 0.2685901  0.32929782 0.2822136  0.36083316 0.12582047\n",
      " 0.17865165 0.2221185  0.09025934 0.99982497]\n",
      "\n",
      "Validation Data\n",
      "==============\n",
      "Total num of validation samples: 3808\n",
      "Total num of each label: [1943 1023 1254 1074 1374  492  642  855  304 3808]\n",
      "Proportions of each label: [0.5102416  0.26864496 0.32930672 0.28203782 0.36081933 0.12920168\n",
      " 0.16859244 0.22452731 0.07983193 1.        ]\n",
      "\n",
      "Testing Data\n",
      "===============\n",
      "Total num of training samples: 9520\n",
      "Total num of each label: [4857 2558 3135 2685 3436 1210 1683 2124  834 9520]\n",
      "Proportions of each label: [0.51018908 0.26869748 0.32930672 0.28203782 0.36092437 0.12710084\n",
      " 0.17678571 0.22310924 0.08760504 1.        ]\n"
     ]
    }
   ],
   "source": [
    "# compute number of samples\n",
    "num_train_samples = unique_train_labels_ohe.shape[0]\n",
    "num_valid_samples = unique_valid_labels_ohe.shape[0]\n",
    "num_test_samples = unique_test_labels_ohe.shape[0]\n",
    "\n",
    "# compute number of samples for each unique label\n",
    "train_labels_count = unique_train_labels_ohe.sum(axis=0)\n",
    "valid_labels_count = unique_valid_labels_ohe.sum(axis=0)\n",
    "test_labels_count = unique_test_labels_ohe.sum(axis=0)\n",
    "\n",
    "# compute proportion of samples for each unique label\n",
    "prop_train_labels = train_labels_count/num_train_samples\n",
    "prop_valid_labels = valid_labels_count/num_valid_samples\n",
    "prop_test_labels = test_labels_count/num_test_samples\n",
    "\n",
    "\n",
    "print(\"Training Data\")\n",
    "print(\"==============\")\n",
    "print(f\"Total num of training samples: {num_train_samples}\")\n",
    "print(f\"Total num of each label: {train_labels_count}\")\n",
    "print(f\"Proportions of each label: {prop_train_labels}\\n\")\n",
    "\n",
    "print(\"Validation Data\")\n",
    "print(\"==============\")\n",
    "print(f\"Total num of validation samples: {num_valid_samples}\")\n",
    "print(f\"Total num of each label: {valid_labels_count}\")\n",
    "print(f\"Proportions of each label: {prop_valid_labels}\\n\")\n",
    "\n",
    "print(\"Testing Data\")\n",
    "print(\"===============\")\n",
    "print(f\"Total num of training samples: {num_test_samples}\")\n",
    "print(f\"Total num of each label: {test_labels_count}\")\n",
    "print(f\"Proportions of each label: {prop_test_labels}\")"
   ]
  },
  {
   "cell_type": "markdown",
   "metadata": {},
   "source": [
    "### Create the proportion dataFrame for training, validation and testing data"
   ]
  },
  {
   "cell_type": "code",
   "execution_count": 78,
   "metadata": {},
   "outputs": [
    {
     "data": {
      "text/html": [
       "<div>\n",
       "<style scoped>\n",
       "    .dataframe tbody tr th:only-of-type {\n",
       "        vertical-align: middle;\n",
       "    }\n",
       "\n",
       "    .dataframe tbody tr th {\n",
       "        vertical-align: top;\n",
       "    }\n",
       "\n",
       "    .dataframe thead th {\n",
       "        text-align: right;\n",
       "    }\n",
       "</style>\n",
       "<table border=\"1\" class=\"dataframe\">\n",
       "  <thead>\n",
       "    <tr style=\"text-align: right;\">\n",
       "      <th></th>\n",
       "      <th>labels</th>\n",
       "      <th>train</th>\n",
       "      <th>valid</th>\n",
       "      <th>test</th>\n",
       "    </tr>\n",
       "  </thead>\n",
       "  <tbody>\n",
       "    <tr>\n",
       "      <th>0</th>\n",
       "      <td>O</td>\n",
       "      <td>0.510021</td>\n",
       "      <td>0.510242</td>\n",
       "      <td>0.510189</td>\n",
       "    </tr>\n",
       "    <tr>\n",
       "      <th>1</th>\n",
       "      <td>B-geo</td>\n",
       "      <td>0.268590</td>\n",
       "      <td>0.268645</td>\n",
       "      <td>0.268697</td>\n",
       "    </tr>\n",
       "    <tr>\n",
       "      <th>2</th>\n",
       "      <td>B-gpe</td>\n",
       "      <td>0.329298</td>\n",
       "      <td>0.329307</td>\n",
       "      <td>0.329307</td>\n",
       "    </tr>\n",
       "    <tr>\n",
       "      <th>3</th>\n",
       "      <td>B-per</td>\n",
       "      <td>0.282214</td>\n",
       "      <td>0.282038</td>\n",
       "      <td>0.282038</td>\n",
       "    </tr>\n",
       "    <tr>\n",
       "      <th>4</th>\n",
       "      <td>I-geo</td>\n",
       "      <td>0.360833</td>\n",
       "      <td>0.360819</td>\n",
       "      <td>0.360924</td>\n",
       "    </tr>\n",
       "    <tr>\n",
       "      <th>5</th>\n",
       "      <td>B-org</td>\n",
       "      <td>0.125820</td>\n",
       "      <td>0.129202</td>\n",
       "      <td>0.127101</td>\n",
       "    </tr>\n",
       "    <tr>\n",
       "      <th>6</th>\n",
       "      <td>I-org</td>\n",
       "      <td>0.178652</td>\n",
       "      <td>0.168592</td>\n",
       "      <td>0.176786</td>\n",
       "    </tr>\n",
       "    <tr>\n",
       "      <th>7</th>\n",
       "      <td>B-tim</td>\n",
       "      <td>0.222118</td>\n",
       "      <td>0.224527</td>\n",
       "      <td>0.223109</td>\n",
       "    </tr>\n",
       "    <tr>\n",
       "      <th>8</th>\n",
       "      <td>I-per</td>\n",
       "      <td>0.090259</td>\n",
       "      <td>0.079832</td>\n",
       "      <td>0.087605</td>\n",
       "    </tr>\n",
       "    <tr>\n",
       "      <th>9</th>\n",
       "      <td>I-tim</td>\n",
       "      <td>0.999825</td>\n",
       "      <td>1.000000</td>\n",
       "      <td>1.000000</td>\n",
       "    </tr>\n",
       "  </tbody>\n",
       "</table>\n",
       "</div>"
      ],
      "text/plain": [
       "  labels     train     valid      test\n",
       "0      O  0.510021  0.510242  0.510189\n",
       "1  B-geo  0.268590  0.268645  0.268697\n",
       "2  B-gpe  0.329298  0.329307  0.329307\n",
       "3  B-per  0.282214  0.282038  0.282038\n",
       "4  I-geo  0.360833  0.360819  0.360924\n",
       "5  B-org  0.125820  0.129202  0.127101\n",
       "6  I-org  0.178652  0.168592  0.176786\n",
       "7  B-tim  0.222118  0.224527  0.223109\n",
       "8  I-per  0.090259  0.079832  0.087605\n",
       "9  I-tim  0.999825  1.000000  1.000000"
      ]
     },
     "metadata": {},
     "output_type": "display_data"
    }
   ],
   "source": [
    "# create dict for proportions of each label\n",
    "prop_data = {\n",
    "    'labels' : list(label2id.keys()),\n",
    "    'train' : prop_train_labels,\n",
    "    'valid' : prop_valid_labels,\n",
    "    'test' : prop_test_labels\n",
    "}\n",
    "\n",
    "# create dataframe\n",
    "prop_df = pd.DataFrame.from_dict(prop_data)\n",
    "\n",
    "# display\n",
    "display(prop_df)"
   ]
  },
  {
   "cell_type": "code",
   "execution_count": 79,
   "metadata": {},
   "outputs": [],
   "source": [
    "# fig, ax = plt.subplots(figsize=(10, 8))\n",
    "# g = sns.barplot(\n",
    "#     data=prop_df.melt(id_vars = [\"labels\"], value_vars=[\"train\", \"valid\", \"test\"]),\n",
    "#     y=\"value\", x=\"variable\", hue=\"labels\", errorbar=None\n",
    "# )\n",
    "\n",
    "# # for legend text\n",
    "# plt.setp(g.get_legend().get_texts(), fontsize='10')  \n",
    " \n",
    "# # for legend title\n",
    "# plt.setp(g.get_legend().get_title(), fontsize='10')\n",
    "# plt.title(\"Proportions of sentences containing each label - training, validation and testing dataset\")\n",
    "# plt.savefig('./images/label_proportions.png', bbox_inches='tight', dpi=300)\n",
    "# plt.show()"
   ]
  },
  {
   "cell_type": "markdown",
   "metadata": {},
   "source": [
    "### Check distributions of 2nd order"
   ]
  },
  {
   "cell_type": "code",
   "execution_count": 80,
   "metadata": {},
   "outputs": [],
   "source": [
    "# from collections import Counter\n",
    "# from skmultilearn.model_selection.measures import get_combination_wise_output_matrix\n",
    "\n",
    "# label_combination_df = pd.DataFrame({\n",
    "#     'train': Counter(str(combination) for row in get_combination_wise_output_matrix(unique_train_labels_ohe, order=2) for combination in row),\n",
    "#     'valid': Counter(str(combination) for row in get_combination_wise_output_matrix(unique_valid_labels_ohe, order=2) for combination in row),\n",
    "#     'test' : Counter(str(combination) for row in get_combination_wise_output_matrix(unique_test_labels_ohe, order=2) for combination in row),\n",
    "# }).T.fillna(0.0).astype('float')\n",
    "\n",
    "# # compute proportions\n",
    "# label_combination_df.loc['train'] = label_combination_df.loc['train']/num_train_samples\n",
    "# label_combination_df.loc['valid'] = label_combination_df.loc['valid']/num_valid_samples\n",
    "# label_combination_df.loc['test'] = label_combination_df.loc['test']/num_test_samples\n",
    "\n",
    "# label_combination_df"
   ]
  },
  {
   "cell_type": "code",
   "execution_count": 81,
   "metadata": {},
   "outputs": [],
   "source": [
    "# from collections import Counter\n",
    "# from skmultilearn.model_selection.measures import get_combination_wise_output_matrix\n",
    "\n",
    "# label_combination_df = pd.DataFrame({\n",
    "#     'train': Counter(str(combination) for row in get_combination_wise_output_matrix(unique_train_labels_ohe, order=3) for combination in row),\n",
    "#     'valid': Counter(str(combination) for row in get_combination_wise_output_matrix(unique_valid_labels_ohe, order=3) for combination in row),\n",
    "#     'test' : Counter(str(combination) for row in get_combination_wise_output_matrix(unique_test_labels_ohe, order=3) for combination in row),\n",
    "# }).T.fillna(0.0).astype('float')\n",
    "\n",
    "# # compute proportions\n",
    "# label_combination_df.loc['train'] = label_combination_df.loc['train']/num_train_samples\n",
    "# label_combination_df.loc['valid'] = label_combination_df.loc['valid']/num_valid_samples\n",
    "# label_combination_df.loc['test'] = label_combination_df.loc['test']/num_test_samples\n",
    "\n",
    "# label_combination_df"
   ]
  },
  {
   "cell_type": "markdown",
   "metadata": {},
   "source": [
    "### Baseline model\n",
    "### RNN + Softmax"
   ]
  },
  {
   "cell_type": "code",
   "execution_count": 82,
   "metadata": {},
   "outputs": [],
   "source": [
    "from tensorflow.keras.preprocessing.text import Tokenizer\n",
    "from tensorflow.keras.preprocessing.sequence import pad_sequences\n",
    "from keras.models import Sequential\n",
    "from keras.layers import Embedding, Bidirectional, LSTM, TimeDistributed, Dense"
   ]
  },
  {
   "cell_type": "markdown",
   "metadata": {},
   "source": [
    "### Tokenization\n",
    "### Word tokenization"
   ]
  },
  {
   "cell_type": "code",
   "execution_count": 83,
   "metadata": {},
   "outputs": [],
   "source": [
    "# Tokenize sentences (whitespace)\n",
    "def tokenize(sentence):\n",
    "    return sentence.strip().split()\n",
    "# Split labels\n",
    "def split_labels(label_str):\n",
    "    return label_str.strip().split(',')\n"
   ]
  },
  {
   "cell_type": "code",
   "execution_count": 84,
   "metadata": {},
   "outputs": [],
   "source": [
    "\n",
    "train_df['tokens'] = train_df['sentence'].apply(tokenize)\n",
    "train_df['label_list'] = train_df['labels'].apply(split_labels)"
   ]
  },
  {
   "cell_type": "code",
   "execution_count": 85,
   "metadata": {},
   "outputs": [
    {
     "data": {
      "text/html": [
       "<div>\n",
       "<style scoped>\n",
       "    .dataframe tbody tr th:only-of-type {\n",
       "        vertical-align: middle;\n",
       "    }\n",
       "\n",
       "    .dataframe tbody tr th {\n",
       "        vertical-align: top;\n",
       "    }\n",
       "\n",
       "    .dataframe thead th {\n",
       "        text-align: right;\n",
       "    }\n",
       "</style>\n",
       "<table border=\"1\" class=\"dataframe\">\n",
       "  <thead>\n",
       "    <tr style=\"text-align: right;\">\n",
       "      <th></th>\n",
       "      <th>sentence</th>\n",
       "      <th>labels</th>\n",
       "      <th>tokens</th>\n",
       "      <th>label_list</th>\n",
       "    </tr>\n",
       "  </thead>\n",
       "  <tbody>\n",
       "    <tr>\n",
       "      <th>600</th>\n",
       "      <td>The visit by Assistant Secretary of State for ...</td>\n",
       "      <td>O,O,O,O,O,O,B-org,I-org,I-org,I-org,I-org,I-or...</td>\n",
       "      <td>[The, visit, by, Assistant, Secretary, of, Sta...</td>\n",
       "      <td>[O, O, O, O, O, O, B-org, I-org, I-org, I-org,...</td>\n",
       "    </tr>\n",
       "    <tr>\n",
       "      <th>634</th>\n",
       "      <td>Strong performances in construction and manufa...</td>\n",
       "      <td>O,O,O,O,O,O,O,O,O,O,O,O,O,O,O,O,O,O,O,O,O,O,O,...</td>\n",
       "      <td>[Strong, performances, in, construction, and, ...</td>\n",
       "      <td>[O, O, O, O, O, O, O, O, O, O, O, O, O, O, O, ...</td>\n",
       "    </tr>\n",
       "    <tr>\n",
       "      <th>803</th>\n",
       "      <td>After failing in the Korean War ( 1950 - 53 ) ...</td>\n",
       "      <td>O,O,O,O,O,O,O,B-tim,I-tim,I-tim,O,O,O,O,B-geo,...</td>\n",
       "      <td>[After, failing, in, the, Korean, War, (, 1950...</td>\n",
       "      <td>[O, O, O, O, O, O, O, B-tim, I-tim, I-tim, O, ...</td>\n",
       "    </tr>\n",
       "    <tr>\n",
       "      <th>1140</th>\n",
       "      <td>Former U.S. Marine General John J. \" Jack \" Sh...</td>\n",
       "      <td>O,B-org,I-org,I-org,B-per,I-per,I-per,I-per,I-...</td>\n",
       "      <td>[Former, U.S., Marine, General, John, J., \", J...</td>\n",
       "      <td>[O, B-org, I-org, I-org, B-per, I-per, I-per, ...</td>\n",
       "    </tr>\n",
       "    <tr>\n",
       "      <th>4331</th>\n",
       "      <td>But the Honest Man explained that as he was me...</td>\n",
       "      <td>O,O,O,O,O,O,O,O,O,O,O,O,O,O,O,O,O,O,O,O,O,O,O,...</td>\n",
       "      <td>[But, the, Honest, Man, explained, that, as, h...</td>\n",
       "      <td>[O, O, O, O, O, O, O, O, O, O, O, O, O, O, O, ...</td>\n",
       "    </tr>\n",
       "    <tr>\n",
       "      <th>...</th>\n",
       "      <td>...</td>\n",
       "      <td>...</td>\n",
       "      <td>...</td>\n",
       "      <td>...</td>\n",
       "    </tr>\n",
       "    <tr>\n",
       "      <th>30696</th>\n",
       "      <td>Mourners and officials of the Socialist Party ...</td>\n",
       "      <td>O,O,O,O,O,B-org,I-org,O,O,B-per,O,O,O,O,O,O,O,...</td>\n",
       "      <td>[Mourners, and, officials, of, the, Socialist,...</td>\n",
       "      <td>[O, O, O, O, O, B-org, I-org, O, O, B-per, O, ...</td>\n",
       "    </tr>\n",
       "    <tr>\n",
       "      <th>30796</th>\n",
       "      <td>In an interview broadcast Sunday on U.S. telev...</td>\n",
       "      <td>O,O,O,O,B-tim,O,B-geo,O,O,O,B-org,O,O,O,O,O,B-...</td>\n",
       "      <td>[In, an, interview, broadcast, Sunday, on, U.S...</td>\n",
       "      <td>[O, O, O, O, B-tim, O, B-geo, O, O, O, B-org, ...</td>\n",
       "    </tr>\n",
       "    <tr>\n",
       "      <th>32287</th>\n",
       "      <td>Following its heyday as a global maritime powe...</td>\n",
       "      <td>O,O,O,O,O,O,O,O,O,O,B-tim,I-tim,I-tim,O,O,B-pe...</td>\n",
       "      <td>[Following, its, heyday, as, a, global, mariti...</td>\n",
       "      <td>[O, O, O, O, O, O, O, O, O, O, B-tim, I-tim, I...</td>\n",
       "    </tr>\n",
       "    <tr>\n",
       "      <th>32874</th>\n",
       "      <td>Renewed activity in the mining sector , the so...</td>\n",
       "      <td>O,O,O,O,O,O,O,O,O,O,O,O,O,O,O,B-geo,O,O,O,O,O,...</td>\n",
       "      <td>[Renewed, activity, in, the, mining, sector, ,...</td>\n",
       "      <td>[O, O, O, O, O, O, O, O, O, O, O, O, O, O, O, ...</td>\n",
       "    </tr>\n",
       "    <tr>\n",
       "      <th>34145</th>\n",
       "      <td>Two federal policemen walk past crosses standi...</td>\n",
       "      <td>O,O,O,O,O,O,O,O,O,O,O,O,O,O,O,O,O,B-tim,O,B-ge...</td>\n",
       "      <td>[Two, federal, policemen, walk, past, crosses,...</td>\n",
       "      <td>[O, O, O, O, O, O, O, O, O, O, O, O, O, O, O, ...</td>\n",
       "    </tr>\n",
       "  </tbody>\n",
       "</table>\n",
       "<p>74 rows × 4 columns</p>\n",
       "</div>"
      ],
      "text/plain": [
       "                                                sentence  \\\n",
       "600    The visit by Assistant Secretary of State for ...   \n",
       "634    Strong performances in construction and manufa...   \n",
       "803    After failing in the Korean War ( 1950 - 53 ) ...   \n",
       "1140   Former U.S. Marine General John J. \" Jack \" Sh...   \n",
       "4331   But the Honest Man explained that as he was me...   \n",
       "...                                                  ...   \n",
       "30696  Mourners and officials of the Socialist Party ...   \n",
       "30796  In an interview broadcast Sunday on U.S. telev...   \n",
       "32287  Following its heyday as a global maritime powe...   \n",
       "32874  Renewed activity in the mining sector , the so...   \n",
       "34145  Two federal policemen walk past crosses standi...   \n",
       "\n",
       "                                                  labels  \\\n",
       "600    O,O,O,O,O,O,B-org,I-org,I-org,I-org,I-org,I-or...   \n",
       "634    O,O,O,O,O,O,O,O,O,O,O,O,O,O,O,O,O,O,O,O,O,O,O,...   \n",
       "803    O,O,O,O,O,O,O,B-tim,I-tim,I-tim,O,O,O,O,B-geo,...   \n",
       "1140   O,B-org,I-org,I-org,B-per,I-per,I-per,I-per,I-...   \n",
       "4331   O,O,O,O,O,O,O,O,O,O,O,O,O,O,O,O,O,O,O,O,O,O,O,...   \n",
       "...                                                  ...   \n",
       "30696  O,O,O,O,O,B-org,I-org,O,O,B-per,O,O,O,O,O,O,O,...   \n",
       "30796  O,O,O,O,B-tim,O,B-geo,O,O,O,B-org,O,O,O,O,O,B-...   \n",
       "32287  O,O,O,O,O,O,O,O,O,O,B-tim,I-tim,I-tim,O,O,B-pe...   \n",
       "32874  O,O,O,O,O,O,O,O,O,O,O,O,O,O,O,B-geo,O,O,O,O,O,...   \n",
       "34145  O,O,O,O,O,O,O,O,O,O,O,O,O,O,O,O,O,B-tim,O,B-ge...   \n",
       "\n",
       "                                                  tokens  \\\n",
       "600    [The, visit, by, Assistant, Secretary, of, Sta...   \n",
       "634    [Strong, performances, in, construction, and, ...   \n",
       "803    [After, failing, in, the, Korean, War, (, 1950...   \n",
       "1140   [Former, U.S., Marine, General, John, J., \", J...   \n",
       "4331   [But, the, Honest, Man, explained, that, as, h...   \n",
       "...                                                  ...   \n",
       "30696  [Mourners, and, officials, of, the, Socialist,...   \n",
       "30796  [In, an, interview, broadcast, Sunday, on, U.S...   \n",
       "32287  [Following, its, heyday, as, a, global, mariti...   \n",
       "32874  [Renewed, activity, in, the, mining, sector, ,...   \n",
       "34145  [Two, federal, policemen, walk, past, crosses,...   \n",
       "\n",
       "                                              label_list  \n",
       "600    [O, O, O, O, O, O, B-org, I-org, I-org, I-org,...  \n",
       "634    [O, O, O, O, O, O, O, O, O, O, O, O, O, O, O, ...  \n",
       "803    [O, O, O, O, O, O, O, B-tim, I-tim, I-tim, O, ...  \n",
       "1140   [O, B-org, I-org, I-org, B-per, I-per, I-per, ...  \n",
       "4331   [O, O, O, O, O, O, O, O, O, O, O, O, O, O, O, ...  \n",
       "...                                                  ...  \n",
       "30696  [O, O, O, O, O, B-org, I-org, O, O, B-per, O, ...  \n",
       "30796  [O, O, O, O, B-tim, O, B-geo, O, O, O, B-org, ...  \n",
       "32287  [O, O, O, O, O, O, O, O, O, O, B-tim, I-tim, I...  \n",
       "32874  [O, O, O, O, O, O, O, O, O, O, O, O, O, O, O, ...  \n",
       "34145  [O, O, O, O, O, O, O, O, O, O, O, O, O, O, O, ...  \n",
       "\n",
       "[74 rows x 4 columns]"
      ]
     },
     "execution_count": 85,
     "metadata": {},
     "output_type": "execute_result"
    }
   ],
   "source": [
    "train_df[train_df[\"tokens\"].apply(len) >50]\n",
    "\n"
   ]
  },
  {
   "cell_type": "markdown",
   "metadata": {},
   "source": [
    "### ID tokenization"
   ]
  },
  {
   "cell_type": "markdown",
   "metadata": {},
   "source": [
    "### We can use Text vectorization\n",
    "\n",
    "# Text vectorization consiste of parts:\n",
    "<li>\n",
    "    Standardization\n",
    "</li>\n",
    "<li>\n",
    "    Tokenization\n",
    "</li>\n",
    "<li>\n",
    "    Vocabulary building\n",
    "</li>"
   ]
  },
  {
   "cell_type": "markdown",
   "metadata": {},
   "source": [
    "### Vocabulary"
   ]
  },
  {
   "cell_type": "code",
   "execution_count": 86,
   "metadata": {},
   "outputs": [],
   "source": [
    "word_counts = Counter(word for tokens in train_df['tokens'] for word in tokens)\n",
    "word2id = {word: i + 2 for i, word in enumerate(word_counts)} # turn words into unique ids (+2) because give 0,1 to UNK and PAD"
   ]
  },
  {
   "cell_type": "code",
   "execution_count": 87,
   "metadata": {},
   "outputs": [
    {
     "data": {
      "text/plain": [
       "{'Families': 2,\n",
       " 'of': 3,\n",
       " 'soldiers': 4,\n",
       " 'killed': 5,\n",
       " 'in': 6,\n",
       " 'the': 7,\n",
       " 'conflict': 8,\n",
       " 'joined': 9,\n",
       " 'protesters': 10,\n",
       " 'who': 11,\n",
       " 'carried': 12,\n",
       " 'banners': 13,\n",
       " 'with': 14,\n",
       " 'such': 15,\n",
       " 'slogans': 16,\n",
       " 'as': 17,\n",
       " '\"': 18,\n",
       " 'Bush': 19,\n",
       " 'Number': 20,\n",
       " 'One': 21,\n",
       " 'Terrorist': 22,\n",
       " 'and': 23,\n",
       " 'Stop': 24,\n",
       " 'Bombings': 25,\n",
       " '.': 26,\n",
       " 'Police': 27,\n",
       " 'put': 28,\n",
       " 'number': 29,\n",
       " 'marchers': 30,\n",
       " 'at': 31,\n",
       " '10,000': 32,\n",
       " 'while': 33,\n",
       " 'organizers': 34,\n",
       " 'claimed': 35,\n",
       " 'it': 36,\n",
       " 'was': 37,\n",
       " '1,00,000': 38,\n",
       " 'The': 39,\n",
       " 'party': 40,\n",
       " 'is': 41,\n",
       " 'divided': 42,\n",
       " 'over': 43,\n",
       " 'Britain': 44,\n",
       " \"'s\": 45,\n",
       " 'participation': 46,\n",
       " 'Iraq': 47,\n",
       " 'continued': 48,\n",
       " 'deployment': 49,\n",
       " '8,500': 50,\n",
       " 'British': 51,\n",
       " 'troops': 52,\n",
       " 'that': 53,\n",
       " 'country': 54,\n",
       " 'European': 55,\n",
       " 'Union': 56,\n",
       " ',': 57,\n",
       " 'U.S.': 58,\n",
       " 'backing': 59,\n",
       " 'has': 60,\n",
       " 'threatened': 61,\n",
       " 'to': 62,\n",
       " 'refer': 63,\n",
       " 'Iran': 64,\n",
       " 'U.N.': 65,\n",
       " 'Security': 66,\n",
       " 'Council': 67,\n",
       " 'which': 68,\n",
       " 'could': 69,\n",
       " 'impose': 70,\n",
       " 'sanctions': 71,\n",
       " 'if': 72,\n",
       " 'finds': 73,\n",
       " 'Tehran': 74,\n",
       " 'violated': 75,\n",
       " 'Nuclear': 76,\n",
       " 'Non-Proliferation': 77,\n",
       " 'treaty': 78,\n",
       " 'Two': 79,\n",
       " 'Germans': 80,\n",
       " 'four': 81,\n",
       " 'Nigerian': 82,\n",
       " 'oil': 83,\n",
       " 'workers': 84,\n",
       " 'were': 85,\n",
       " 'kidnapped': 86,\n",
       " 'by': 87,\n",
       " 'armed': 88,\n",
       " 'militants': 89,\n",
       " 'during': 90,\n",
       " 'a': 91,\n",
       " 'raid': 92,\n",
       " 'on': 93,\n",
       " 'boat': 94,\n",
       " 'Nigeria': 95,\n",
       " 'southern': 96,\n",
       " 'oil-rich': 97,\n",
       " 'Delta': 98,\n",
       " 'region': 99,\n",
       " 'It': 100,\n",
       " 'not': 101,\n",
       " 'immediately': 102,\n",
       " 'clear': 103,\n",
       " 'president': 104,\n",
       " 'palace': 105,\n",
       " 'Mogadishu': 106,\n",
       " 'when': 107,\n",
       " 'attack': 108,\n",
       " 'occurred': 109,\n",
       " 'or': 110,\n",
       " 'anyone': 111,\n",
       " 'hurt': 112,\n",
       " 'Officials': 113,\n",
       " 'say': 114,\n",
       " 'al': 115,\n",
       " 'Qaida': 116,\n",
       " 'fighters': 117,\n",
       " 'have': 118,\n",
       " 'fled': 119,\n",
       " 'successful': 120,\n",
       " 'campaigns': 121,\n",
       " 'against': 122,\n",
       " 'them': 123,\n",
       " 'Anbar': 124,\n",
       " 'province': 125,\n",
       " 'Baghdad': 126,\n",
       " 'other': 127,\n",
       " 'northern': 128,\n",
       " 'provinces': 129,\n",
       " 'Egyptian': 130,\n",
       " 'police': 131,\n",
       " 'arrested': 132,\n",
       " 'least': 133,\n",
       " '16': 134,\n",
       " 'members': 135,\n",
       " 'opposition': 136,\n",
       " 'Muslim': 137,\n",
       " 'Brotherhood': 138,\n",
       " 'parts': 139,\n",
       " 'prepare': 140,\n",
       " 'for': 141,\n",
       " 'parliamentary': 142,\n",
       " 'runoff': 143,\n",
       " 'elections': 144,\n",
       " 'Saturday': 145,\n",
       " 'A': 146,\n",
       " 'spokesman': 147,\n",
       " 'said': 148,\n",
       " 'arrests': 149,\n",
       " 'are': 150,\n",
       " 'an': 151,\n",
       " 'attempt': 152,\n",
       " 'cut': 153,\n",
       " 'off': 154,\n",
       " 'from': 155,\n",
       " 'its': 156,\n",
       " 'supporters': 157,\n",
       " 'punishment': 158,\n",
       " 'winning': 159,\n",
       " 'seats': 160,\n",
       " 'earlier': 161,\n",
       " 'Hardline': 162,\n",
       " 'lawmakers': 163,\n",
       " 'Pakistan': 164,\n",
       " 'North': 165,\n",
       " 'West': 166,\n",
       " 'Frontier': 167,\n",
       " 'Province': 168,\n",
       " 'pushed': 169,\n",
       " 'through': 170,\n",
       " 'law': 171,\n",
       " 'aims': 172,\n",
       " 'ensure': 173,\n",
       " 'Islamic': 174,\n",
       " 'correctness': 175,\n",
       " 'public': 176,\n",
       " 'places': 177,\n",
       " 'establishes': 178,\n",
       " 'morality': 179,\n",
       " 'enforce': 180,\n",
       " 'decent': 181,\n",
       " 'behavior': 182,\n",
       " 'proposed': 183,\n",
       " 'calls': 184,\n",
       " 'setting': 185,\n",
       " 'up': 186,\n",
       " 'religious': 187,\n",
       " 'force': 188,\n",
       " 'make': 189,\n",
       " 'sure': 190,\n",
       " 'people': 191,\n",
       " 'adhere': 192,\n",
       " 'values': 193,\n",
       " 'entertainment': 194,\n",
       " 'outlets': 195,\n",
       " 'close': 196,\n",
       " 'weekly': 197,\n",
       " 'Friday': 198,\n",
       " 'prayers': 199,\n",
       " 'Home': 200,\n",
       " 'Office': 201,\n",
       " 'told': 202,\n",
       " 'Associated': 203,\n",
       " 'Press': 204,\n",
       " 'paroled': 205,\n",
       " 'offender': 206,\n",
       " 'gives': 207,\n",
       " 'cause': 208,\n",
       " 'concern': 209,\n",
       " 'he': 210,\n",
       " 'can': 211,\n",
       " 'be': 212,\n",
       " 'sent': 213,\n",
       " 'back': 214,\n",
       " 'prison': 215,\n",
       " 'AP': 216,\n",
       " 'also': 217,\n",
       " 'reports': 218,\n",
       " 'Khayam': 219,\n",
       " 'been': 220,\n",
       " 'parole': 221,\n",
       " 'since': 222,\n",
       " 'last': 223,\n",
       " 'year': 224,\n",
       " 'after': 225,\n",
       " 'serving': 226,\n",
       " 'half': 227,\n",
       " 'his': 228,\n",
       " 'six-year': 229,\n",
       " 'sentence': 230,\n",
       " 'drug': 231,\n",
       " 'dealing': 232,\n",
       " 'His': 233,\n",
       " 'driver': 234,\n",
       " 'tribal': 235,\n",
       " 'elder': 236,\n",
       " 'He': 237,\n",
       " 'placed': 238,\n",
       " 'under': 239,\n",
       " 'house': 240,\n",
       " 'arrest': 241,\n",
       " 'Islamabad': 242,\n",
       " 'but': 243,\n",
       " 'jailed': 244,\n",
       " 'because': 245,\n",
       " 'considered': 246,\n",
       " 'father': 247,\n",
       " 'nuclear': 248,\n",
       " 'bomb': 249,\n",
       " 'company': 250,\n",
       " 'strongly': 251,\n",
       " 'denies': 252,\n",
       " 'allegations': 253,\n",
       " 'VOA': 254,\n",
       " 'Nancy-Amelia': 255,\n",
       " 'Collins': 256,\n",
       " 'Sydney': 257,\n",
       " 'Energy': 258,\n",
       " 'security': 259,\n",
       " 'climate': 260,\n",
       " 'change': 261,\n",
       " 'World': 262,\n",
       " 'Trade': 263,\n",
       " 'Organization': 264,\n",
       " 'stalled': 265,\n",
       " 'negotiations': 266,\n",
       " 'investment': 267,\n",
       " 'all': 268,\n",
       " 'expected': 269,\n",
       " 'among': 270,\n",
       " 'major': 271,\n",
       " 'topics': 272,\n",
       " 'annual': 273,\n",
       " 'report': 274,\n",
       " 'APEC': 275,\n",
       " 'Business': 276,\n",
       " 'Advisory': 277,\n",
       " 'known': 278,\n",
       " 'ABAC': 279,\n",
       " 'says': 280,\n",
       " 'there': 281,\n",
       " 'need': 282,\n",
       " 'businesses': 283,\n",
       " 'improve': 284,\n",
       " 'energy': 285,\n",
       " 'efficiency': 286,\n",
       " 'encourage': 287,\n",
       " 'conservation': 288,\n",
       " 'practices': 289,\n",
       " 'include': 290,\n",
       " 'this': 291,\n",
       " 'Harcourt': 292,\n",
       " 'Australian': 293,\n",
       " 'Commission': 294,\n",
       " 'will': 295,\n",
       " 'discuss': 296,\n",
       " 'ways': 297,\n",
       " 'enhance': 298,\n",
       " 'regional': 299,\n",
       " 'cooperation': 300,\n",
       " 'And': 301,\n",
       " 'I': 302,\n",
       " 'think': 303,\n",
       " 'they': 304,\n",
       " \"'ll\": 305,\n",
       " 'want': 306,\n",
       " 'one-stop': 307,\n",
       " 'shop': 308,\n",
       " 'terms': 309,\n",
       " 'combining': 310,\n",
       " 'immigration': 311,\n",
       " 'customs': 312,\n",
       " 'quarantine': 313,\n",
       " 'together': 314,\n",
       " 'just': 315,\n",
       " 'more': 316,\n",
       " 'streamlined': 317,\n",
       " 'provides': 318,\n",
       " 'certainty': 319,\n",
       " 'Mr.': 320,\n",
       " 'Ismail': 321,\n",
       " 'announced': 322,\n",
       " 'decision': 323,\n",
       " 'meeting': 324,\n",
       " 'officials': 325,\n",
       " 'United': 326,\n",
       " 'Nations': 327,\n",
       " 'African': 328,\n",
       " 'Khartoum': 329,\n",
       " 'Sunday': 330,\n",
       " 'defending': 331,\n",
       " 'their': 332,\n",
       " 'positions': 333,\n",
       " 'rebel': 334,\n",
       " 'attacks': 335,\n",
       " 'Indonesian': 336,\n",
       " 'Wednesday': 337,\n",
       " 'men': 338,\n",
       " 'flown': 339,\n",
       " 'Bali': 340,\n",
       " 'neighboring': 341,\n",
       " 'Java': 342,\n",
       " 'island': 343,\n",
       " 'questioning': 344,\n",
       " 'headquarters': 345,\n",
       " 'authorities': 346,\n",
       " 'blame': 347,\n",
       " 'Azahari': 348,\n",
       " 'bin': 349,\n",
       " 'Husin': 350,\n",
       " 'orchestrating': 351,\n",
       " 'month': 352,\n",
       " 'well': 353,\n",
       " '2002': 354,\n",
       " 'bombings': 355,\n",
       " 'than': 356,\n",
       " '200': 357,\n",
       " 'pope': 358,\n",
       " 'meant': 359,\n",
       " 'no': 360,\n",
       " 'offense': 361,\n",
       " 'Muslims': 362,\n",
       " 'quoted': 363,\n",
       " '14': 364,\n",
       " 'century': 365,\n",
       " 'Byzantine': 366,\n",
       " 'emperor': 367,\n",
       " 'saying': 368,\n",
       " 'some': 369,\n",
       " 'teachings': 370,\n",
       " 'Prophet': 371,\n",
       " 'Muhammed': 372,\n",
       " 'brought': 373,\n",
       " 'evil': 374,\n",
       " 'world': 375,\n",
       " 'Pakistani': 376,\n",
       " 'military': 377,\n",
       " 'launched': 378,\n",
       " 'offensive': 379,\n",
       " 'Orakzai': 380,\n",
       " 'hunt': 381,\n",
       " 'Taliban': 382,\n",
       " 'insurgents': 383,\n",
       " '13': 384,\n",
       " 'guerrillas': 385,\n",
       " 'two': 386,\n",
       " 'encounters': 387,\n",
       " 'central': 388,\n",
       " 'Uruzgan': 389,\n",
       " 'Afghan': 390,\n",
       " 'soldier': 391,\n",
       " 'others': 392,\n",
       " 'including': 393,\n",
       " 'injured': 394,\n",
       " 'fighting': 395,\n",
       " 'what': 396,\n",
       " 'motivated': 397,\n",
       " 'Emergency': 398,\n",
       " 'medical': 399,\n",
       " 'five': 400,\n",
       " 'victims': 401,\n",
       " 'died': 402,\n",
       " 'Moscow': 403,\n",
       " 'exposure': 404,\n",
       " 'another': 405,\n",
       " '19': 406,\n",
       " 'hospitalized': 407,\n",
       " 'hypothermia': 408,\n",
       " 'Health': 409,\n",
       " 'Vietnam': 410,\n",
       " 'deadly': 411,\n",
       " 'strain': 412,\n",
       " 'bird': 413,\n",
       " 'flu': 414,\n",
       " 'virus': 415,\n",
       " 'second': 416,\n",
       " 'Vietnamese': 417,\n",
       " 'man': 418,\n",
       " 'week': 419,\n",
       " 'raising': 420,\n",
       " 'death': 421,\n",
       " 'toll': 422,\n",
       " '50': 423,\n",
       " 'Witnesses': 424,\n",
       " 'Somalia': 425,\n",
       " 'burned': 426,\n",
       " 'dragged': 427,\n",
       " 'bodies': 428,\n",
       " 'streets': 429,\n",
       " 'clash': 430,\n",
       " 'between': 431,\n",
       " 'Ethiopian': 432,\n",
       " 'forces': 433,\n",
       " 'seven': 434,\n",
       " 'sides': 435,\n",
       " 'expressed': 436,\n",
       " 'hope': 437,\n",
       " 'reaching': 438,\n",
       " 'peace': 439,\n",
       " 'deal': 440,\n",
       " 'before': 441,\n",
       " 'President': 442,\n",
       " 'George': 443,\n",
       " 'leaves': 444,\n",
       " 'office': 445,\n",
       " 'early': 446,\n",
       " 'next': 447,\n",
       " 'statement': 448,\n",
       " 'General': 449,\n",
       " 'Adam': 450,\n",
       " 'asked': 451,\n",
       " 'leave': 452,\n",
       " 'post': 453,\n",
       " 'soon': 454,\n",
       " 'possible': 455,\n",
       " 'chief': 456,\n",
       " 'staff': 457,\n",
       " 'accepted': 458,\n",
       " 'request': 459,\n",
       " 'begin': 460,\n",
       " 'process': 461,\n",
       " 'replacement': 462,\n",
       " 'Israeli': 463,\n",
       " 'media': 464,\n",
       " 'had': 465,\n",
       " 'several': 466,\n",
       " 'disagreements': 467,\n",
       " 'army': 468,\n",
       " 'Lieutenant': 469,\n",
       " 'Dan': 470,\n",
       " 'Halutz': 471,\n",
       " 'conduct': 472,\n",
       " 'war': 473,\n",
       " 'Institute': 474,\n",
       " 'Science': 475,\n",
       " 'International': 476,\n",
       " 'satellite': 477,\n",
       " 'photos': 478,\n",
       " 'show': 479,\n",
       " 'construction': 480,\n",
       " 'site': 481,\n",
       " 'larger': 482,\n",
       " 'reactor': 483,\n",
       " 'near': 484,\n",
       " 'small': 485,\n",
       " 'one': 486,\n",
       " 'Khushab': 487,\n",
       " 'district': 488,\n",
       " 'Punjab': 489,\n",
       " 'produce': 490,\n",
       " 'kilograms': 491,\n",
       " 'weapons-grade': 492,\n",
       " 'plutonium': 493,\n",
       " 'good': 494,\n",
       " '40': 495,\n",
       " 'weapons': 496,\n",
       " 'According': 497,\n",
       " 'now': 498,\n",
       " 'capable': 499,\n",
       " 'producing': 500,\n",
       " 'warheads': 501,\n",
       " 'American': 502,\n",
       " 'Diabetes': 503,\n",
       " 'Association': 504,\n",
       " 'disease': 505,\n",
       " 'leading': 506,\n",
       " 'new': 507,\n",
       " 'cases': 508,\n",
       " 'blindness': 509,\n",
       " 'adults': 510,\n",
       " 'countries': 511,\n",
       " 'agreed': 512,\n",
       " 'reopen': 513,\n",
       " 'consulates': 514,\n",
       " 'following': 515,\n",
       " 'Panamanian': 516,\n",
       " 'Martin': 517,\n",
       " 'Torrijos': 518,\n",
       " 'Cuban': 519,\n",
       " 'Vice': 520,\n",
       " 'Carlos': 521,\n",
       " 'Lage': 522,\n",
       " 'targeted': 523,\n",
       " 'collecting': 524,\n",
       " 'rocket': 525,\n",
       " 'launcher': 526,\n",
       " 'area': 527,\n",
       " 'used': 528,\n",
       " 'fire': 529,\n",
       " 'rockets': 530,\n",
       " 'Israel': 531,\n",
       " 'recently': 532,\n",
       " 'Arab': 533,\n",
       " 'plan': 534,\n",
       " 'problematic': 535,\n",
       " 'requires': 536,\n",
       " 'Palestinians': 537,\n",
       " 'recognize': 538,\n",
       " 'exchange': 539,\n",
       " 'pullout': 540,\n",
       " 'Palestinian': 541,\n",
       " 'territories': 542,\n",
       " 'jury': 543,\n",
       " 'found': 544,\n",
       " 'maker': 545,\n",
       " 'Merck': 546,\n",
       " 'liable': 547,\n",
       " 'heart': 548,\n",
       " 'suffered': 549,\n",
       " 'taking': 550,\n",
       " 'painkiller': 551,\n",
       " 'Vioxx': 552,\n",
       " 'withdrew': 553,\n",
       " 'popular': 554,\n",
       " 'study': 555,\n",
       " 'showed': 556,\n",
       " 'doubled': 557,\n",
       " 'risk': 558,\n",
       " 'problems': 559,\n",
       " 'long-term': 560,\n",
       " 'users': 561,\n",
       " 'rumors': 562,\n",
       " 'TRUE': 563,\n",
       " ':': 564,\n",
       " 'Nicole': 565,\n",
       " 'Ritchie': 566,\n",
       " 'pregnant': 567,\n",
       " 'responsibility': 568,\n",
       " 'something': 569,\n",
       " 'did': 570,\n",
       " 'wrong': 571,\n",
       " 'personally': 572,\n",
       " 'apologize': 573,\n",
       " 'every': 574,\n",
       " 'single': 575,\n",
       " 'person': 576,\n",
       " 'lost': 577,\n",
       " 'loved': 578,\n",
       " 'drunk': 579,\n",
       " 'driving': 580,\n",
       " 'would': 581,\n",
       " 'she': 582,\n",
       " 'Senator': 583,\n",
       " 'John': 584,\n",
       " 'Warner': 585,\n",
       " 'southeastern': 586,\n",
       " 'state': 587,\n",
       " 'Virginia': 588,\n",
       " 'prominent': 589,\n",
       " 'Republican': 590,\n",
       " 'figure': 591,\n",
       " 'debate': 592,\n",
       " 'retire': 593,\n",
       " 'finishing': 594,\n",
       " 'term': 595,\n",
       " '2009': 596,\n",
       " 'called': 597,\n",
       " 'withdrawing': 598,\n",
       " 'retirement': 599,\n",
       " 'open': 600,\n",
       " 'relatively': 601,\n",
       " 'safe': 602,\n",
       " 'seat': 603,\n",
       " 'Republicans': 604,\n",
       " 'fight': 605,\n",
       " 'Senate': 606,\n",
       " 'control': 607,\n",
       " 'latest': 608,\n",
       " 'victim': 609,\n",
       " '16-year-old': 610,\n",
       " 'girl': 611,\n",
       " 'town': 612,\n",
       " 'Bekasi': 613,\n",
       " 'eastern': 614,\n",
       " 'outskirts': 615,\n",
       " 'Jakarta': 616,\n",
       " 'Tuesday': 617,\n",
       " 'health': 618,\n",
       " 'ministry': 619,\n",
       " 'woman': 620,\n",
       " 'family': 621,\n",
       " 'kept': 622,\n",
       " 'chickens': 623,\n",
       " 'backyard': 624,\n",
       " 'Anti-Japanese': 625,\n",
       " 'protests': 626,\n",
       " 'western': 627,\n",
       " 'Chinese': 628,\n",
       " 'city': 629,\n",
       " 'Shanghai': 630,\n",
       " 'turned': 631,\n",
       " 'violent': 632,\n",
       " 'pelting': 633,\n",
       " 'Japanese': 634,\n",
       " 'consulate': 635,\n",
       " 'rocks': 636,\n",
       " 'bottles': 637,\n",
       " 'eggs': 638,\n",
       " 'State': 639,\n",
       " 'Councilor': 640,\n",
       " 'Tang': 641,\n",
       " 'Jiaxuan': 642,\n",
       " 'official': 643,\n",
       " 'Xinhua': 644,\n",
       " 'news': 645,\n",
       " 'agency': 646,\n",
       " 'China': 647,\n",
       " 'government': 648,\n",
       " 'urging': 649,\n",
       " 'protest': 650,\n",
       " 'calm': 651,\n",
       " 'orderly': 652,\n",
       " 'manner': 653,\n",
       " 'Organizers': 654,\n",
       " '2012': 655,\n",
       " 'Summer': 656,\n",
       " 'Olympics': 657,\n",
       " 'London': 658,\n",
       " 'promised': 659,\n",
       " 'greenest': 660,\n",
       " 'games': 661,\n",
       " 'history': 662,\n",
       " 'sought': 663,\n",
       " 'soothe': 664,\n",
       " 'concerns': 665,\n",
       " 'about': 666,\n",
       " 'rising': 667,\n",
       " 'cost': 668,\n",
       " 'event': 669,\n",
       " 'wants': 670,\n",
       " 'Olympic': 671,\n",
       " 'budget': 672,\n",
       " 'finalized': 673,\n",
       " 'costs': 674,\n",
       " 'already': 675,\n",
       " 'risen': 676,\n",
       " 'substantially': 677,\n",
       " 'won': 678,\n",
       " 'bid': 679,\n",
       " 'July': 680,\n",
       " '2005': 681,\n",
       " '2008': 682,\n",
       " 'mascots': 683,\n",
       " 'modeled': 684,\n",
       " 'panda': 685,\n",
       " 'Jing': 686,\n",
       " 'defense': 687,\n",
       " 'personnel': 688,\n",
       " 'crash': 689,\n",
       " 'NATO': 690,\n",
       " 'aircraft': 691,\n",
       " 'Afghanistan': 692,\n",
       " 'supporting': 693,\n",
       " 'mission': 694,\n",
       " 'south': 695,\n",
       " 'indication': 696,\n",
       " 'enemy': 697,\n",
       " 'action': 698,\n",
       " 'causing': 699,\n",
       " 'Sivaram': 700,\n",
       " 'Web': 701,\n",
       " 'became': 702,\n",
       " 'ongoing': 703,\n",
       " 'Sri': 704,\n",
       " 'Lankan': 705,\n",
       " 'civil': 706,\n",
       " 'supporter': 707,\n",
       " 'Tamil': 708,\n",
       " 'Tiger': 709,\n",
       " 'movement': 710,\n",
       " 'Tokyo': 711,\n",
       " 'Pyongyang': 712,\n",
       " 'odds': 713,\n",
       " 'Korea': 714,\n",
       " 'program': 715,\n",
       " 'kidnapping': 716,\n",
       " 'citizens': 717,\n",
       " '1970s': 718,\n",
       " '1980s': 719,\n",
       " 'Saddam': 720,\n",
       " 'Hussein': 721,\n",
       " 'arraigned': 722,\n",
       " 'base': 723,\n",
       " 'children': 724,\n",
       " 'come': 725,\n",
       " 'different': 726,\n",
       " 'In': 727,\n",
       " 'interview': 728,\n",
       " 'government-funded': 729,\n",
       " 'alHurra': 730,\n",
       " 'television': 731,\n",
       " 'station': 732,\n",
       " 'Volcker': 733,\n",
       " 'lot': 734,\n",
       " 'confusion': 735,\n",
       " 'how': 736,\n",
       " 'much': 737,\n",
       " 'money': 738,\n",
       " 'obtained': 739,\n",
       " 'oil-for-food': 740,\n",
       " 'itself': 741,\n",
       " 'Interior': 742,\n",
       " 'Minister': 743,\n",
       " 'Murat': 744,\n",
       " 'Sutalinov': 745,\n",
       " 'head': 746,\n",
       " 'inmates': 747,\n",
       " 'gave': 748,\n",
       " 'details': 749,\n",
       " 'commercial': 750,\n",
       " 'airplane': 751,\n",
       " 'Western': 752,\n",
       " 'Europe': 753,\n",
       " 'landed': 754,\n",
       " 'first': 755,\n",
       " 'time': 756,\n",
       " 'nearly': 757,\n",
       " '20': 758,\n",
       " 'years': 759,\n",
       " 'passengers': 760,\n",
       " 'French': 761,\n",
       " 'Foreign': 762,\n",
       " 'Anne-Marie': 763,\n",
       " 'Idrac': 764,\n",
       " 'historic': 765,\n",
       " 'day': 766,\n",
       " 'France': 767,\n",
       " 'Etihad': 768,\n",
       " 'Emirates': 769,\n",
       " 'airlines': 770,\n",
       " 'both': 771,\n",
       " 'operating': 772,\n",
       " 'out': 773,\n",
       " 'started': 774,\n",
       " 'flying': 775,\n",
       " 'Labor': 776,\n",
       " 'Department': 777,\n",
       " 'issued': 778,\n",
       " 'unemployment': 779,\n",
       " 'rate': 780,\n",
       " 'increased': 781,\n",
       " 'three': 782,\n",
       " 'months': 783,\n",
       " '-': 784,\n",
       " '4.6': 785,\n",
       " 'percent': 786,\n",
       " 'Earlier': 787,\n",
       " 'bank': 788,\n",
       " 'decided': 789,\n",
       " 'maintain': 790,\n",
       " 'key': 791,\n",
       " 'interest': 792,\n",
       " 'despite': 793,\n",
       " 'inflation': 794,\n",
       " 'Religious': 795,\n",
       " 'Freedom': 796,\n",
       " 'continues': 797,\n",
       " 'responsible': 798,\n",
       " 'pervasive': 799,\n",
       " 'severe': 800,\n",
       " 'violations': 801,\n",
       " 'freedom': 802,\n",
       " 'regularly': 803,\n",
       " 'imprisoning': 804,\n",
       " 'harassing': 805,\n",
       " 'leaders': 806,\n",
       " 'practitioners': 807,\n",
       " 'pardons': 808,\n",
       " 'convicted': 809,\n",
       " 'criminals': 810,\n",
       " 'commuted': 811,\n",
       " 'sentences': 812,\n",
       " 'Pardons': 813,\n",
       " 'absolute': 814,\n",
       " 'powers': 815,\n",
       " 'recent': 816,\n",
       " 'become': 817,\n",
       " 'typical': 818,\n",
       " 'issue': 819,\n",
       " 'prepares': 820,\n",
       " 'White': 821,\n",
       " 'House': 822,\n",
       " 'made': 823,\n",
       " 'pardon': 824,\n",
       " 'decisions': 825,\n",
       " 'case-by-case': 826,\n",
       " 'basis': 827,\n",
       " 'continue': 828,\n",
       " 'review': 829,\n",
       " 'clemency': 830,\n",
       " 'requests': 831,\n",
       " 'Uganda': 832,\n",
       " 'rebels': 833,\n",
       " 'Lord': 834,\n",
       " 'Resistance': 835,\n",
       " 'Army': 836,\n",
       " 'nearing': 837,\n",
       " 'end': 838,\n",
       " 'Swiss': 839,\n",
       " 'star': 840,\n",
       " 'upset': 841,\n",
       " 'German': 842,\n",
       " 'Tommy': 843,\n",
       " 'Haas': 844,\n",
       " 'opening': 845,\n",
       " 'match': 846,\n",
       " 'Kooyong': 847,\n",
       " 'Classic': 848,\n",
       " 'Melbourne': 849,\n",
       " 'Germany': 850,\n",
       " 'information': 851,\n",
       " 'taken': 852,\n",
       " 'Huygens': 853,\n",
       " 'space': 854,\n",
       " 'probe': 855,\n",
       " 'looks': 856,\n",
       " 'like': 857,\n",
       " 'drainage': 858,\n",
       " 'channels': 859,\n",
       " 'moon': 860,\n",
       " 'detained': 861,\n",
       " 'Dr.': 862,\n",
       " 'Besigye': 863,\n",
       " 'November': 864,\n",
       " 'returned': 865,\n",
       " 'self-imposed': 866,\n",
       " 'exile': 867,\n",
       " 'run': 868,\n",
       " 'Yoweri': 869,\n",
       " 'Museveni': 870,\n",
       " 'presidential': 871,\n",
       " 'election': 872,\n",
       " 'denied': 873,\n",
       " 'charges': 874,\n",
       " 'trumped': 875,\n",
       " 'keep': 876,\n",
       " 'him': 877,\n",
       " 'running': 878,\n",
       " 'Barack': 879,\n",
       " 'Obama': 880,\n",
       " 'improvements': 881,\n",
       " 'care': 882,\n",
       " 'system': 883,\n",
       " 'inevitable': 884,\n",
       " 'Controversy': 885,\n",
       " 'extending': 886,\n",
       " 'coverage': 887,\n",
       " 'uninsured': 888,\n",
       " 'Americans': 889,\n",
       " 'centers': 890,\n",
       " 'pay': 891,\n",
       " 'Bank': 892,\n",
       " 'member': 893,\n",
       " 'nations': 894,\n",
       " 'Washington': 895,\n",
       " 'approved': 896,\n",
       " 'debt': 897,\n",
       " 'relief': 898,\n",
       " '17': 899,\n",
       " 'Latin': 900,\n",
       " 'total': 901,\n",
       " '$': 902,\n",
       " '37': 903,\n",
       " 'billion': 904,\n",
       " 'Medical': 905,\n",
       " 'advising': 906,\n",
       " 'respiratory': 907,\n",
       " 'stay': 908,\n",
       " 'inside': 909,\n",
       " 'dust': 910,\n",
       " 'blown': 911,\n",
       " 'Saudi': 912,\n",
       " 'Arabia': 913,\n",
       " 'where': 914,\n",
       " 'sandstorm': 915,\n",
       " 'blanketed': 916,\n",
       " 'capital': 917,\n",
       " 'unclear': 918,\n",
       " 'behind': 919,\n",
       " 'militant': 920,\n",
       " 'groups': 921,\n",
       " 'nothing': 922,\n",
       " 'do': 923,\n",
       " 'released': 924,\n",
       " 'Mahmoud': 925,\n",
       " 'Abbas': 926,\n",
       " 'Ramallah': 927,\n",
       " 'vowed': 928,\n",
       " 'track': 929,\n",
       " 'down': 930,\n",
       " 'punish': 931,\n",
       " 'those': 932,\n",
       " 'sabotage': 933,\n",
       " 'Prosecutors': 934,\n",
       " 'Rachid': 935,\n",
       " 'Ramda': 936,\n",
       " 'helped': 937,\n",
       " 'fund': 938,\n",
       " 'Paris': 939,\n",
       " 'metro': 940,\n",
       " 'operated': 941,\n",
       " 'investigators': 942,\n",
       " 'evidence': 943,\n",
       " 'terrorists': 944,\n",
       " 'group': 945,\n",
       " 'refugees': 946,\n",
       " 'scheduled': 947,\n",
       " 'fly': 948,\n",
       " 'home': 949,\n",
       " 'Thursday': 950,\n",
       " 'Five': 951,\n",
       " 'thousand': 952,\n",
       " 'return': 953,\n",
       " 'Sudan': 954,\n",
       " 'April': 955,\n",
       " 'Yu': 956,\n",
       " 'Hagino': 957,\n",
       " '23': 958,\n",
       " 'murder': 959,\n",
       " 'scene': 960,\n",
       " 'school': 961,\n",
       " 'Uji': 962,\n",
       " 'suspect': 963,\n",
       " 'confessed': 964,\n",
       " 'stabbing': 965,\n",
       " 'knife': 966,\n",
       " 'arguing': 967,\n",
       " 'her': 968,\n",
       " 'Bakri': 969,\n",
       " 'triggered': 970,\n",
       " 'outrage': 971,\n",
       " '7': 972,\n",
       " 'never': 973,\n",
       " 'tip': 974,\n",
       " 'knew': 975,\n",
       " 'carry': 976,\n",
       " 'warned': 977,\n",
       " 'drawn': 978,\n",
       " 'defensive': 979,\n",
       " 'plans': 980,\n",
       " 'enemies': 981,\n",
       " 'regret': 982,\n",
       " 'any': 983,\n",
       " 'Admiral': 984,\n",
       " 'Mullen': 985,\n",
       " 'hopes': 986,\n",
       " 'combination': 987,\n",
       " 'diplomatic': 988,\n",
       " 'efforts': 989,\n",
       " 'resolve': 990,\n",
       " 'dispute': 991,\n",
       " 'Georgia': 992,\n",
       " 'get': 993,\n",
       " 'emergency': 994,\n",
       " 'natural': 995,\n",
       " 'gas': 996,\n",
       " 'supplies': 997,\n",
       " 'help': 998,\n",
       " 'shortage': 999,\n",
       " 'electricity': 1000,\n",
       " 'Residents': 1001,\n",
       " ...}"
      ]
     },
     "execution_count": 87,
     "metadata": {},
     "output_type": "execute_result"
    }
   ],
   "source": [
    "word2id  ## vocabulary"
   ]
  },
  {
   "cell_type": "code",
   "execution_count": 88,
   "metadata": {},
   "outputs": [],
   "source": [
    "word2id['<PAD>'] = 0\n",
    "word2id['<UNK>'] = 1"
   ]
  },
  {
   "cell_type": "code",
   "execution_count": 89,
   "metadata": {},
   "outputs": [
    {
     "data": {
      "text/plain": [
       "1"
      ]
     },
     "execution_count": 89,
     "metadata": {},
     "output_type": "execute_result"
    }
   ],
   "source": [
    "word2id['<UNK>']"
   ]
  },
  {
   "cell_type": "code",
   "execution_count": 90,
   "metadata": {},
   "outputs": [
    {
     "data": {
      "text/plain": [
       "(0, 1)"
      ]
     },
     "execution_count": 90,
     "metadata": {},
     "output_type": "execute_result"
    }
   ],
   "source": [
    "word2id['<PAD>'], word2id['<UNK>']"
   ]
  },
  {
   "cell_type": "code",
   "execution_count": 91,
   "metadata": {},
   "outputs": [],
   "source": [
    "# Build vocab for labels\n",
    "label_set = set(label for labels in train_df['label_list'] for label in labels)\n",
    "label2id = {label: i for i, label in enumerate(sorted(label_set))}\n",
    "id2label = {i: label for label, i in label2id.items()}"
   ]
  },
  {
   "cell_type": "code",
   "execution_count": 92,
   "metadata": {},
   "outputs": [
    {
     "data": {
      "text/plain": [
       "{'B-geo': 0,\n",
       " 'B-gpe': 1,\n",
       " 'B-org': 2,\n",
       " 'B-per': 3,\n",
       " 'B-tim': 4,\n",
       " 'I-geo': 5,\n",
       " 'I-org': 6,\n",
       " 'I-per': 7,\n",
       " 'I-tim': 8,\n",
       " 'O': 9}"
      ]
     },
     "execution_count": 92,
     "metadata": {},
     "output_type": "execute_result"
    }
   ],
   "source": [
    "label2id"
   ]
  },
  {
   "cell_type": "code",
   "execution_count": 93,
   "metadata": {},
   "outputs": [
    {
     "data": {
      "text/plain": [
       "0"
      ]
     },
     "execution_count": 93,
     "metadata": {},
     "output_type": "execute_result"
    }
   ],
   "source": [
    "fallback = '<UNK>'\n",
    "fallback_id = word2id.get('B-gpe', list(label2id.values())[0])  ## get idea of a word\n",
    "\n",
    "fallback_id"
   ]
  },
  {
   "cell_type": "code",
   "execution_count": 94,
   "metadata": {},
   "outputs": [
    {
     "data": {
      "text/plain": [
       "{'B-geo': 0,\n",
       " 'B-gpe': 1,\n",
       " 'B-org': 2,\n",
       " 'B-per': 3,\n",
       " 'B-tim': 4,\n",
       " 'I-geo': 5,\n",
       " 'I-org': 6,\n",
       " 'I-per': 7,\n",
       " 'I-tim': 8,\n",
       " 'O': 9}"
      ]
     },
     "execution_count": 94,
     "metadata": {},
     "output_type": "execute_result"
    }
   ],
   "source": [
    "label2id"
   ]
  },
  {
   "cell_type": "code",
   "execution_count": 95,
   "metadata": {},
   "outputs": [
    {
     "data": {
      "text/plain": [
       "0"
      ]
     },
     "execution_count": 95,
     "metadata": {},
     "output_type": "execute_result"
    }
   ],
   "source": [
    "pad_token = '<PAD>'\n",
    "pad_id = label2id.get(pad_token, list(label2id.values())[0])  \n",
    "pad_id"
   ]
  },
  {
   "cell_type": "code",
   "execution_count": 96,
   "metadata": {},
   "outputs": [
    {
     "data": {
      "text/plain": [
       "9"
      ]
     },
     "execution_count": 96,
     "metadata": {},
     "output_type": "execute_result"
    }
   ],
   "source": [
    "fallback_id = label2id.get('O', list(label2id.values())[0])\n",
    "fallback_id"
   ]
  },
  {
   "cell_type": "code",
   "execution_count": 97,
   "metadata": {},
   "outputs": [],
   "source": [
    "MAX_LEN = 40\n",
    "\n",
    "# encoding X: \n",
    "# Post padding\n",
    "# Padding and Truncation\n",
    "def encode(tokens, vocab, pad_len=MAX_LEN, fallback='<UNK>', pad_token='<PAD>'):\n",
    "    fallback_id = vocab.get(fallback, list(vocab.values())[0])  # fallback to 0 if not found (1)\n",
    "    pad_id = vocab.get(pad_token, list(vocab.values())[0])    # fallback to 0 if not found (0)\n",
    "    ids = [vocab.get(tok, fallback_id) for tok in tokens]\n",
    "    return ids[:pad_len] + [pad_id] * max(0, pad_len - len(ids))\n"
   ]
  },
  {
   "cell_type": "code",
   "execution_count": 98,
   "metadata": {},
   "outputs": [],
   "source": [
    "X = np.array([encode(tokens, word2id, fallback='<UNK>', pad_token='<PAD>') for tokens in train_df['tokens']])\n",
    "y = np.array([encode(labels, label2id, fallback='O', pad_token='O') for labels in train_df['label_list']])\n",
    "vocab_size = len(word2id)\n",
    "label_size = len(label2id)\n"
   ]
  },
  {
   "cell_type": "code",
   "execution_count": 99,
   "metadata": {},
   "outputs": [
    {
     "name": "stdout",
     "output_type": "stream",
     "text": [
      "Sentence : ['The', 'visit', 'by', 'Assistant', 'Secretary', 'of', 'State', 'for', 'African', 'Affairs', 'Connie', 'Newman', 'and', 'special', 'envoy', 'for', 'Sudan', 'Roger', 'Winter', 'follows', 'two', 'days', 'of', 'riots', 'in', 'response', 'to', 'news', 'of', 'the', 'death', 'of', 'Mr.', 'Garang', ',', 'the', 'former', 'rebel', 'leader', 'who', 'became', 'Sudan', \"'s\", 'vice', 'president', 'as', 'part', 'of', 'a', 'peace', 'deal', '.'] with length 52\n",
      " encoded sentence : [39, 1131, 87, 3588, 3589, 3, 639, 141, 328, 2502, 3590, 3591, 23, 2271, 3592, 141, 954, 2113, 3593, 3594, 386, 1694, 3, 3595, 6, 1890, 62, 645, 3, 7, 421, 3, 320, 2760, 57, 7, 1002, 334, 1114, 11] with length 40\n",
      "\n",
      "Label : ['O', 'O', 'O', 'O', 'O', 'O', 'B-org', 'I-org', 'I-org', 'I-org', 'I-org', 'I-org', 'O', 'O', 'O', 'O', 'B-gpe', 'B-per', 'I-per', 'O', 'O', 'O', 'O', 'O', 'O', 'O', 'O', 'O', 'O', 'O', 'O', 'O', 'B-per', 'I-per', 'O', 'O', 'O', 'O', 'O', 'O', 'O', 'B-gpe', 'O', 'O', 'O', 'O', 'O', 'O', 'O', 'O', 'O', 'O'] with length 52\n",
      " encoded label : [9, 9, 9, 9, 9, 9, 2, 6, 6, 6, 6, 6, 9, 9, 9, 9, 1, 3, 7, 9, 9, 9, 9, 9, 9, 9, 9, 9, 9, 9, 9, 9, 3, 7, 9, 9, 9, 9, 9, 9] with length 40\n"
     ]
    }
   ],
   "source": [
    "## Example:\n",
    "sentence = train_df['tokens'][600]\n",
    "label    = train_df['label_list'][600]\n",
    "encoded_sentence = encode(sentence,word2id,fallback= '<UNK>', pad_token = '<PAD>')\n",
    "encoded_label  = encode(label, label2id, fallback = 'O', pad_token = 'O')\n",
    "print(f\"Sentence : {sentence} with length {len(sentence)}\\n\",\n",
    "       f\"encoded sentence : {encoded_sentence} with length {len(encoded_sentence)}\\n\")\n",
    "\n",
    "print(f\"Label : {label} with length {len(label)}\\n\",\n",
    "       f\"encoded label : {encoded_label} with length {len(encoded_label)}\")"
   ]
  },
  {
   "cell_type": "code",
   "execution_count": 100,
   "metadata": {},
   "outputs": [
    {
     "data": {
      "text/plain": [
       "['The',\n",
       " 'visit',\n",
       " 'by',\n",
       " 'Assistant',\n",
       " 'Secretary',\n",
       " 'of',\n",
       " 'State',\n",
       " 'for',\n",
       " 'African',\n",
       " 'Affairs',\n",
       " 'Connie',\n",
       " 'Newman',\n",
       " 'and',\n",
       " 'special',\n",
       " 'envoy',\n",
       " 'for',\n",
       " 'Sudan',\n",
       " 'Roger',\n",
       " 'Winter',\n",
       " 'follows',\n",
       " 'two',\n",
       " 'days',\n",
       " 'of',\n",
       " 'riots',\n",
       " 'in',\n",
       " 'response',\n",
       " 'to',\n",
       " 'news',\n",
       " 'of',\n",
       " 'the',\n",
       " 'death',\n",
       " 'of',\n",
       " 'Mr.',\n",
       " 'Garang',\n",
       " ',',\n",
       " 'the',\n",
       " 'former',\n",
       " 'rebel',\n",
       " 'leader',\n",
       " 'who']"
      ]
     },
     "execution_count": 100,
     "metadata": {},
     "output_type": "execute_result"
    }
   ],
   "source": [
    "\n",
    "id2word = {v:k for k,v in word2id.items()}\n",
    "# Decode the sentence\n",
    "decoded_sentence = [id2word.get(word_id, '<UNK>') for word_id in encoded_sentence]\n",
    "decoded_sentence"
   ]
  },
  {
   "cell_type": "code",
   "execution_count": 101,
   "metadata": {},
   "outputs": [
    {
     "data": {
      "text/plain": [
       "['The',\n",
       " 'visit',\n",
       " 'by',\n",
       " 'Assistant',\n",
       " 'Secretary',\n",
       " 'of',\n",
       " 'B-org',\n",
       " 'I-org',\n",
       " 'I-org',\n",
       " 'I-org',\n",
       " 'I-org',\n",
       " 'I-org',\n",
       " 'and',\n",
       " 'special',\n",
       " 'envoy',\n",
       " 'for',\n",
       " 'B-gpe',\n",
       " 'B-per',\n",
       " 'I-per',\n",
       " 'follows',\n",
       " 'two',\n",
       " 'days',\n",
       " 'of',\n",
       " 'riots',\n",
       " 'in',\n",
       " 'response',\n",
       " 'to',\n",
       " 'news',\n",
       " 'of',\n",
       " 'the',\n",
       " 'death',\n",
       " 'of',\n",
       " 'B-per',\n",
       " 'I-per',\n",
       " ',',\n",
       " 'the',\n",
       " 'former',\n",
       " 'rebel',\n",
       " 'leader',\n",
       " 'who',\n",
       " 'became',\n",
       " 'B-gpe',\n",
       " \"'s\",\n",
       " 'vice',\n",
       " 'president',\n",
       " 'as',\n",
       " 'part',\n",
       " 'of',\n",
       " 'a',\n",
       " 'peace',\n",
       " 'deal',\n",
       " '.']"
      ]
     },
     "execution_count": 101,
     "metadata": {},
     "output_type": "execute_result"
    }
   ],
   "source": [
    "## Convert to sentence with masked entity\n",
    "sentence_masked = []\n",
    "for index, lab in enumerate(label):\n",
    "    if lab == 'O':\n",
    "        sentence_masked.append(sentence[index])\n",
    "    else:\n",
    "        sentence_masked.append(label[index])\n",
    "sentence_masked       "
   ]
  },
  {
   "cell_type": "code",
   "execution_count": 102,
   "metadata": {},
   "outputs": [
    {
     "name": "stdout",
     "output_type": "stream",
     "text": [
      "X shape: (34279, 40), y shape: (34279, 40)\n"
     ]
    }
   ],
   "source": [
    "print(f\"X shape: {X.shape}, y shape: {y.shape}\")"
   ]
  },
  {
   "cell_type": "code",
   "execution_count": 103,
   "metadata": {},
   "outputs": [
    {
     "data": {
      "text/plain": [
       "(30517, 10)"
      ]
     },
     "execution_count": 103,
     "metadata": {},
     "output_type": "execute_result"
    }
   ],
   "source": [
    "vocab_size,label_size"
   ]
  },
  {
   "cell_type": "code",
   "execution_count": 104,
   "metadata": {},
   "outputs": [
    {
     "data": {
      "text/html": [
       "<div>\n",
       "<style scoped>\n",
       "    .dataframe tbody tr th:only-of-type {\n",
       "        vertical-align: middle;\n",
       "    }\n",
       "\n",
       "    .dataframe tbody tr th {\n",
       "        vertical-align: top;\n",
       "    }\n",
       "\n",
       "    .dataframe thead th {\n",
       "        text-align: right;\n",
       "    }\n",
       "</style>\n",
       "<table border=\"1\" class=\"dataframe\">\n",
       "  <thead>\n",
       "    <tr style=\"text-align: right;\">\n",
       "      <th></th>\n",
       "      <th>sentence</th>\n",
       "      <th>labels</th>\n",
       "    </tr>\n",
       "  </thead>\n",
       "  <tbody>\n",
       "    <tr>\n",
       "      <th>0</th>\n",
       "      <td>They marched from the Houses of Parliament to ...</td>\n",
       "      <td>O,O,O,O,O,O,O,O,O,O,O,B-geo,I-geo,O</td>\n",
       "    </tr>\n",
       "    <tr>\n",
       "      <th>1</th>\n",
       "      <td>The International Atomic Energy Agency is to h...</td>\n",
       "      <td>O,B-org,I-org,I-org,I-org,O,O,O,O,O,O,O,O,B-ge...</td>\n",
       "    </tr>\n",
       "    <tr>\n",
       "      <th>2</th>\n",
       "      <td>The German firm works as a sub-contractor for ...</td>\n",
       "      <td>O,B-gpe,O,O,O,O,O,O,B-org,O</td>\n",
       "    </tr>\n",
       "    <tr>\n",
       "      <th>3</th>\n",
       "      <td>Militant groups frequently attack oil operatio...</td>\n",
       "      <td>O,O,O,O,O,O,O,O,B-geo,I-geo,O,O,O,O,O,O,O,O,O,...</td>\n",
       "    </tr>\n",
       "    <tr>\n",
       "      <th>4</th>\n",
       "      <td>The attacks occurred after the government said...</td>\n",
       "      <td>O,O,O,O,O,O,O,O,O,O,O,O,O,O,O,O,O,O,O,O,B-gpe,...</td>\n",
       "    </tr>\n",
       "    <tr>\n",
       "      <th>...</th>\n",
       "      <td>...</td>\n",
       "      <td>...</td>\n",
       "    </tr>\n",
       "    <tr>\n",
       "      <th>3803</th>\n",
       "      <td>The Nobel committee says their research goes f...</td>\n",
       "      <td>O,B-org,O,O,O,O,O,O,O,O,O,O,O,O,O,O,O</td>\n",
       "    </tr>\n",
       "    <tr>\n",
       "      <th>3804</th>\n",
       "      <td>The price of a barrel of oil for future delive...</td>\n",
       "      <td>O,O,O,O,O,O,O,O,O,O,O,O,O,O,O,O,O,O,O,O,O,O,O,...</td>\n",
       "    </tr>\n",
       "    <tr>\n",
       "      <th>3805</th>\n",
       "      <td>Kabul has ruled out a prisoner swap .</td>\n",
       "      <td>B-org,O,O,O,O,O,O,O</td>\n",
       "    </tr>\n",
       "    <tr>\n",
       "      <th>3806</th>\n",
       "      <td>On Sunday , authorities sealed the campus of H...</td>\n",
       "      <td>O,B-tim,O,O,O,O,O,O,B-org,I-org,O,O,O,O,O,O,O,O,O</td>\n",
       "    </tr>\n",
       "    <tr>\n",
       "      <th>3807</th>\n",
       "      <td>The recovery was attributable primarily to reb...</td>\n",
       "      <td>O,O,O,O,O,O,O,O,O,O,O,O,O,O,O,B-org,I-org,O</td>\n",
       "    </tr>\n",
       "  </tbody>\n",
       "</table>\n",
       "<p>3808 rows × 2 columns</p>\n",
       "</div>"
      ],
      "text/plain": [
       "                                               sentence  \\\n",
       "0     They marched from the Houses of Parliament to ...   \n",
       "1     The International Atomic Energy Agency is to h...   \n",
       "2     The German firm works as a sub-contractor for ...   \n",
       "3     Militant groups frequently attack oil operatio...   \n",
       "4     The attacks occurred after the government said...   \n",
       "...                                                 ...   \n",
       "3803  The Nobel committee says their research goes f...   \n",
       "3804  The price of a barrel of oil for future delive...   \n",
       "3805              Kabul has ruled out a prisoner swap .   \n",
       "3806  On Sunday , authorities sealed the campus of H...   \n",
       "3807  The recovery was attributable primarily to reb...   \n",
       "\n",
       "                                                 labels  \n",
       "0                   O,O,O,O,O,O,O,O,O,O,O,B-geo,I-geo,O  \n",
       "1     O,B-org,I-org,I-org,I-org,O,O,O,O,O,O,O,O,B-ge...  \n",
       "2                           O,B-gpe,O,O,O,O,O,O,B-org,O  \n",
       "3     O,O,O,O,O,O,O,O,B-geo,I-geo,O,O,O,O,O,O,O,O,O,...  \n",
       "4     O,O,O,O,O,O,O,O,O,O,O,O,O,O,O,O,O,O,O,O,B-gpe,...  \n",
       "...                                                 ...  \n",
       "3803              O,B-org,O,O,O,O,O,O,O,O,O,O,O,O,O,O,O  \n",
       "3804  O,O,O,O,O,O,O,O,O,O,O,O,O,O,O,O,O,O,O,O,O,O,O,...  \n",
       "3805                                B-org,O,O,O,O,O,O,O  \n",
       "3806  O,B-tim,O,O,O,O,O,O,B-org,I-org,O,O,O,O,O,O,O,O,O  \n",
       "3807        O,O,O,O,O,O,O,O,O,O,O,O,O,O,O,B-org,I-org,O  \n",
       "\n",
       "[3808 rows x 2 columns]"
      ]
     },
     "execution_count": 104,
     "metadata": {},
     "output_type": "execute_result"
    }
   ],
   "source": [
    "valid_df"
   ]
  },
  {
   "cell_type": "code",
   "execution_count": 105,
   "metadata": {},
   "outputs": [],
   "source": [
    "# Tokenize sentences and split labels\n",
    "for df in [valid_df, test_df]:\n",
    "    df['tokens'] = df['sentence'].apply(lambda x: x.strip().split())\n",
    "    df['label_list'] = df['labels'].apply(lambda x: x.strip().split(','))\n",
    "X_valid = np.array([\n",
    "    encode(tokens, word2id, fallback='<UNK>', pad_token='<PAD>')\n",
    "    for tokens in valid_df['tokens']\n",
    "])\n",
    "\n",
    "y_valid = np.array([\n",
    "    encode(labels, label2id, fallback='O', pad_token='O')\n",
    "    for labels in valid_df['label_list']\n",
    "])\n",
    "\n",
    "\n",
    "X_test = np.array([\n",
    "    encode(tokens, word2id, fallback='<UNK>', pad_token='<PAD>')\n",
    "    for tokens in test_df['tokens']\n",
    "])\n",
    "y_test = np.array([\n",
    "    encode(labels, label2id, fallback='O', pad_token='O')\n",
    "    for labels in test_df['label_list']\n",
    "])\n"
   ]
  },
  {
   "cell_type": "code",
   "execution_count": 106,
   "metadata": {},
   "outputs": [
    {
     "name": "stdout",
     "output_type": "stream",
     "text": [
      "Shape of Training Data (X, y): (34279, 40), (34279, 40)\n",
      "Shape of Validation Data (X_valid, y_valid): (3808, 40), (3808, 40)\n",
      "Shape of Test Data (X_test, y_test): (9520, 40), (9520, 40)\n"
     ]
    }
   ],
   "source": [
    "print(f\"Shape of Training Data (X, y): {X.shape}, {y.shape}\")\n",
    "print(f\"Shape of Validation Data (X_valid, y_valid): {X_valid.shape}, {y_valid.shape}\")\n",
    "print(f\"Shape of Test Data (X_test, y_test): {X_test.shape}, {y_test.shape}\")"
   ]
  },
  {
   "cell_type": "code",
   "execution_count": 107,
   "metadata": {},
   "outputs": [],
   "source": [
    "\n",
    "import numpy as np\n",
    "from tensorflow.keras.models import Sequential\n",
    "from tensorflow.keras.layers import Dense, Activation, SimpleRNN, Input\n",
    "from tensorflow.keras.utils import to_categorical, plot_model\n",
    "from tensorflow.keras.datasets import mnist\n",
    "from tensorflow.keras.models import Model"
   ]
  },
  {
   "cell_type": "code",
   "execution_count": 108,
   "metadata": {},
   "outputs": [],
   "source": [
    "# [\n",
    "#     Embedding(input_dim=vocab_size, output_dim=64, input_length=MAX_LEN),\n",
    "#     Bidirectional(LSTM(units=64, return_sequences=True)),\n",
    "#     TimeDistributed(Dense(label_size, activation='softmax'))\n",
    "# ]\n",
    "input = Input(shape = (MAX_LEN,))\n",
    "x = Embedding(input_dim= vocab_size,output_dim = 64)(input)\n",
    "x = LSTM(128, return_sequences=True)(x)\n",
    "x = TimeDistributed(Dense(64, activation='relu'))(x)\n",
    "x = TimeDistributed(Dense(label_size, activation='softmax'))(x)\n",
    "\n",
    "model = Model(inputs= input,outputs=x)\n"
   ]
  },
  {
   "cell_type": "code",
   "execution_count": 109,
   "metadata": {},
   "outputs": [
    {
     "data": {
      "text/html": [
       "<pre style=\"white-space:pre;overflow-x:auto;line-height:normal;font-family:Menlo,'DejaVu Sans Mono',consolas,'Courier New',monospace\"><span style=\"font-weight: bold\">Model: \"functional\"</span>\n",
       "</pre>\n"
      ],
      "text/plain": [
       "\u001b[1mModel: \"functional\"\u001b[0m\n"
      ]
     },
     "metadata": {},
     "output_type": "display_data"
    },
    {
     "data": {
      "text/html": [
       "<pre style=\"white-space:pre;overflow-x:auto;line-height:normal;font-family:Menlo,'DejaVu Sans Mono',consolas,'Courier New',monospace\">┏━━━━━━━━━━━━━━━━━━━━━━━━━━━━━━━━━┳━━━━━━━━━━━━━━━━━━━━━━━━┳━━━━━━━━━━━━━━━┓\n",
       "┃<span style=\"font-weight: bold\"> Layer (type)                    </span>┃<span style=\"font-weight: bold\"> Output Shape           </span>┃<span style=\"font-weight: bold\">       Param # </span>┃\n",
       "┡━━━━━━━━━━━━━━━━━━━━━━━━━━━━━━━━━╇━━━━━━━━━━━━━━━━━━━━━━━━╇━━━━━━━━━━━━━━━┩\n",
       "│ input_layer (<span style=\"color: #0087ff; text-decoration-color: #0087ff\">InputLayer</span>)        │ (<span style=\"color: #00d7ff; text-decoration-color: #00d7ff\">None</span>, <span style=\"color: #00af00; text-decoration-color: #00af00\">40</span>)             │             <span style=\"color: #00af00; text-decoration-color: #00af00\">0</span> │\n",
       "├─────────────────────────────────┼────────────────────────┼───────────────┤\n",
       "│ embedding (<span style=\"color: #0087ff; text-decoration-color: #0087ff\">Embedding</span>)           │ (<span style=\"color: #00d7ff; text-decoration-color: #00d7ff\">None</span>, <span style=\"color: #00af00; text-decoration-color: #00af00\">40</span>, <span style=\"color: #00af00; text-decoration-color: #00af00\">64</span>)         │     <span style=\"color: #00af00; text-decoration-color: #00af00\">1,953,088</span> │\n",
       "├─────────────────────────────────┼────────────────────────┼───────────────┤\n",
       "│ lstm (<span style=\"color: #0087ff; text-decoration-color: #0087ff\">LSTM</span>)                     │ (<span style=\"color: #00d7ff; text-decoration-color: #00d7ff\">None</span>, <span style=\"color: #00af00; text-decoration-color: #00af00\">40</span>, <span style=\"color: #00af00; text-decoration-color: #00af00\">128</span>)        │        <span style=\"color: #00af00; text-decoration-color: #00af00\">98,816</span> │\n",
       "├─────────────────────────────────┼────────────────────────┼───────────────┤\n",
       "│ time_distributed                │ (<span style=\"color: #00d7ff; text-decoration-color: #00d7ff\">None</span>, <span style=\"color: #00af00; text-decoration-color: #00af00\">40</span>, <span style=\"color: #00af00; text-decoration-color: #00af00\">64</span>)         │         <span style=\"color: #00af00; text-decoration-color: #00af00\">8,256</span> │\n",
       "│ (<span style=\"color: #0087ff; text-decoration-color: #0087ff\">TimeDistributed</span>)               │                        │               │\n",
       "├─────────────────────────────────┼────────────────────────┼───────────────┤\n",
       "│ time_distributed_1              │ (<span style=\"color: #00d7ff; text-decoration-color: #00d7ff\">None</span>, <span style=\"color: #00af00; text-decoration-color: #00af00\">40</span>, <span style=\"color: #00af00; text-decoration-color: #00af00\">10</span>)         │           <span style=\"color: #00af00; text-decoration-color: #00af00\">650</span> │\n",
       "│ (<span style=\"color: #0087ff; text-decoration-color: #0087ff\">TimeDistributed</span>)               │                        │               │\n",
       "└─────────────────────────────────┴────────────────────────┴───────────────┘\n",
       "</pre>\n"
      ],
      "text/plain": [
       "┏━━━━━━━━━━━━━━━━━━━━━━━━━━━━━━━━━┳━━━━━━━━━━━━━━━━━━━━━━━━┳━━━━━━━━━━━━━━━┓\n",
       "┃\u001b[1m \u001b[0m\u001b[1mLayer (type)                   \u001b[0m\u001b[1m \u001b[0m┃\u001b[1m \u001b[0m\u001b[1mOutput Shape          \u001b[0m\u001b[1m \u001b[0m┃\u001b[1m \u001b[0m\u001b[1m      Param #\u001b[0m\u001b[1m \u001b[0m┃\n",
       "┡━━━━━━━━━━━━━━━━━━━━━━━━━━━━━━━━━╇━━━━━━━━━━━━━━━━━━━━━━━━╇━━━━━━━━━━━━━━━┩\n",
       "│ input_layer (\u001b[38;5;33mInputLayer\u001b[0m)        │ (\u001b[38;5;45mNone\u001b[0m, \u001b[38;5;34m40\u001b[0m)             │             \u001b[38;5;34m0\u001b[0m │\n",
       "├─────────────────────────────────┼────────────────────────┼───────────────┤\n",
       "│ embedding (\u001b[38;5;33mEmbedding\u001b[0m)           │ (\u001b[38;5;45mNone\u001b[0m, \u001b[38;5;34m40\u001b[0m, \u001b[38;5;34m64\u001b[0m)         │     \u001b[38;5;34m1,953,088\u001b[0m │\n",
       "├─────────────────────────────────┼────────────────────────┼───────────────┤\n",
       "│ lstm (\u001b[38;5;33mLSTM\u001b[0m)                     │ (\u001b[38;5;45mNone\u001b[0m, \u001b[38;5;34m40\u001b[0m, \u001b[38;5;34m128\u001b[0m)        │        \u001b[38;5;34m98,816\u001b[0m │\n",
       "├─────────────────────────────────┼────────────────────────┼───────────────┤\n",
       "│ time_distributed                │ (\u001b[38;5;45mNone\u001b[0m, \u001b[38;5;34m40\u001b[0m, \u001b[38;5;34m64\u001b[0m)         │         \u001b[38;5;34m8,256\u001b[0m │\n",
       "│ (\u001b[38;5;33mTimeDistributed\u001b[0m)               │                        │               │\n",
       "├─────────────────────────────────┼────────────────────────┼───────────────┤\n",
       "│ time_distributed_1              │ (\u001b[38;5;45mNone\u001b[0m, \u001b[38;5;34m40\u001b[0m, \u001b[38;5;34m10\u001b[0m)         │           \u001b[38;5;34m650\u001b[0m │\n",
       "│ (\u001b[38;5;33mTimeDistributed\u001b[0m)               │                        │               │\n",
       "└─────────────────────────────────┴────────────────────────┴───────────────┘\n"
      ]
     },
     "metadata": {},
     "output_type": "display_data"
    },
    {
     "data": {
      "text/html": [
       "<pre style=\"white-space:pre;overflow-x:auto;line-height:normal;font-family:Menlo,'DejaVu Sans Mono',consolas,'Courier New',monospace\"><span style=\"font-weight: bold\"> Total params: </span><span style=\"color: #00af00; text-decoration-color: #00af00\">2,060,810</span> (7.86 MB)\n",
       "</pre>\n"
      ],
      "text/plain": [
       "\u001b[1m Total params: \u001b[0m\u001b[38;5;34m2,060,810\u001b[0m (7.86 MB)\n"
      ]
     },
     "metadata": {},
     "output_type": "display_data"
    },
    {
     "data": {
      "text/html": [
       "<pre style=\"white-space:pre;overflow-x:auto;line-height:normal;font-family:Menlo,'DejaVu Sans Mono',consolas,'Courier New',monospace\"><span style=\"font-weight: bold\"> Trainable params: </span><span style=\"color: #00af00; text-decoration-color: #00af00\">2,060,810</span> (7.86 MB)\n",
       "</pre>\n"
      ],
      "text/plain": [
       "\u001b[1m Trainable params: \u001b[0m\u001b[38;5;34m2,060,810\u001b[0m (7.86 MB)\n"
      ]
     },
     "metadata": {},
     "output_type": "display_data"
    },
    {
     "data": {
      "text/html": [
       "<pre style=\"white-space:pre;overflow-x:auto;line-height:normal;font-family:Menlo,'DejaVu Sans Mono',consolas,'Courier New',monospace\"><span style=\"font-weight: bold\"> Non-trainable params: </span><span style=\"color: #00af00; text-decoration-color: #00af00\">0</span> (0.00 B)\n",
       "</pre>\n"
      ],
      "text/plain": [
       "\u001b[1m Non-trainable params: \u001b[0m\u001b[38;5;34m0\u001b[0m (0.00 B)\n"
      ]
     },
     "metadata": {},
     "output_type": "display_data"
    }
   ],
   "source": [
    "model.summary()"
   ]
  },
  {
   "cell_type": "code",
   "execution_count": 110,
   "metadata": {},
   "outputs": [
    {
     "data": {
      "image/png": "[encoded data removed]",
      "text/plain": [
       "<IPython.core.display.Image object>"
      ]
     },
     "execution_count": 110,
     "metadata": {},
     "output_type": "execute_result"
    }
   ],
   "source": [
    "plot_model(model, to_file='./models/LSTM_model.png', show_shapes=True, show_layer_names=True)"
   ]
  },
  {
   "cell_type": "markdown",
   "metadata": {},
   "source": [
    "### Loss, Optimizer "
   ]
  },
  {
   "cell_type": "code",
   "execution_count": 111,
   "metadata": {},
   "outputs": [
    {
     "data": {
      "text/plain": [
       "array([ 2,  3,  4,  5,  6,  7,  8,  9,  7, 10, 11, 12, 13, 14, 15, 16, 17,\n",
       "       18, 19, 20, 21, 22, 18, 23, 18, 24,  7, 25, 26, 18,  0,  0,  0,  0,\n",
       "        0,  0,  0,  0,  0,  0])"
      ]
     },
     "execution_count": 111,
     "metadata": {},
     "output_type": "execute_result"
    }
   ],
   "source": [
    "X.shape\n",
    "y.shape\n",
    "X[0]"
   ]
  },
  {
   "cell_type": "code",
   "execution_count": 112,
   "metadata": {},
   "outputs": [
    {
     "name": "stdout",
     "output_type": "stream",
     "text": [
      "Epoch 1/5\n",
      "\u001b[1m1072/1072\u001b[0m \u001b[32m━━━━━━━━━━━━━━━━━━━━\u001b[0m\u001b[37m\u001b[0m \u001b[1m29s\u001b[0m 25ms/step - accuracy: 0.9294 - loss: 0.3736 - val_accuracy: 0.9740 - val_loss: 0.0911\n",
      "Epoch 2/5\n",
      "\u001b[1m1072/1072\u001b[0m \u001b[32m━━━━━━━━━━━━━━━━━━━━\u001b[0m\u001b[37m\u001b[0m \u001b[1m27s\u001b[0m 25ms/step - accuracy: 0.9789 - loss: 0.0704 - val_accuracy: 0.9778 - val_loss: 0.0701\n",
      "Epoch 3/5\n",
      "\u001b[1m1072/1072\u001b[0m \u001b[32m━━━━━━━━━━━━━━━━━━━━\u001b[0m\u001b[37m\u001b[0m \u001b[1m27s\u001b[0m 25ms/step - accuracy: 0.9844 - loss: 0.0474 - val_accuracy: 0.9785 - val_loss: 0.0674\n",
      "Epoch 4/5\n",
      "\u001b[1m1072/1072\u001b[0m \u001b[32m━━━━━━━━━━━━━━━━━━━━\u001b[0m\u001b[37m\u001b[0m \u001b[1m29s\u001b[0m 27ms/step - accuracy: 0.9860 - loss: 0.0406 - val_accuracy: 0.9784 - val_loss: 0.0695\n",
      "Epoch 5/5\n",
      "\u001b[1m1072/1072\u001b[0m \u001b[32m━━━━━━━━━━━━━━━━━━━━\u001b[0m\u001b[37m\u001b[0m \u001b[1m28s\u001b[0m 26ms/step - accuracy: 0.9878 - loss: 0.0353 - val_accuracy: 0.9774 - val_loss: 0.0724\n"
     ]
    },
    {
     "data": {
      "text/plain": [
       "<keras.src.callbacks.history.History at 0x287b7d050>"
      ]
     },
     "execution_count": 112,
     "metadata": {},
     "output_type": "execute_result"
    }
   ],
   "source": [
    "\n",
    "model.compile(loss='sparse_categorical_crossentropy', optimizer='adam', metrics=['accuracy'])\n",
    "model.fit(X, y, batch_size=32, epochs=5,validation_data = (X_valid,y_valid))"
   ]
  },
  {
   "cell_type": "code",
   "execution_count": 113,
   "metadata": {},
   "outputs": [
    {
     "name": "stdout",
     "output_type": "stream",
     "text": [
      "\u001b[1m119/119\u001b[0m \u001b[32m━━━━━━━━━━━━━━━━━━━━\u001b[0m\u001b[37m\u001b[0m \u001b[1m1s\u001b[0m 6ms/step\n"
     ]
    },
    {
     "data": {
      "text/plain": [
       "<Figure size 1000x1400 with 0 Axes>"
      ]
     },
     "metadata": {},
     "output_type": "display_data"
    },
    {
     "data": {
      "image/png": "[encoded data removed]",
      "text/plain": [
       "<Figure size 640x480 with 2 Axes>"
      ]
     },
     "metadata": {},
     "output_type": "display_data"
    }
   ],
   "source": [
    "from sklearn.metrics import confusion_matrix, ConfusionMatrixDisplay\n",
    "import numpy as np\n",
    "import matplotlib.pyplot as plt\n",
    "\n",
    "\n",
    "y_pred_valid = model.predict(X_valid)\n",
    "y_pred_valid_ids = np.argmax(y_pred_valid, axis=-1)\n",
    "y_valid_flat = y_valid.flatten()\n",
    "y_pred_valid_flat = y_pred_valid_ids.flatten()\n",
    "\n",
    "cm_valid = confusion_matrix(y_valid_flat, y_pred_valid_flat, labels=list(label2id.values()))\n",
    "disp = ConfusionMatrixDisplay(confusion_matrix=cm_valid, display_labels=list(label2id.keys()))\n",
    "plt.figure(figsize=(10, 14))\n",
    "disp.plot(cmap=plt.cm.Blues, xticks_rotation=45)\n",
    "plt.title(\"Confusion Matrix for Validation Set\")\n",
    "plt.show()"
   ]
  },
  {
   "cell_type": "code",
   "execution_count": 114,
   "metadata": {},
   "outputs": [
    {
     "data": {
      "text/plain": [
       "(3808, 40, 10)"
      ]
     },
     "execution_count": 114,
     "metadata": {},
     "output_type": "execute_result"
    }
   ],
   "source": [
    "y_pred_valid.shape"
   ]
  },
  {
   "cell_type": "code",
   "execution_count": 115,
   "metadata": {},
   "outputs": [
    {
     "data": {
      "text/plain": [
       "(152320, 10)"
      ]
     },
     "execution_count": 115,
     "metadata": {},
     "output_type": "execute_result"
    }
   ],
   "source": [
    "y_pred_valid.reshape(-1, y_pred_valid.shape[-1]).shape"
   ]
  },
  {
   "cell_type": "code",
   "execution_count": 116,
   "metadata": {},
   "outputs": [
    {
     "data": {
      "image/png": "[encoded data removed]",
      "text/plain": [
       "<Figure size 1000x800 with 1 Axes>"
      ]
     },
     "metadata": {},
     "output_type": "display_data"
    }
   ],
   "source": [
    "from sklearn.metrics import roc_curve, auc\n",
    "\n",
    "import matplotlib.pyplot as plt\n",
    "\n",
    "# Flatten the true labels and predicted probabilities for ROC computation\n",
    "y_valid_flat = y_valid.flatten()\n",
    "y_pred_valid_probs = y_pred_valid.reshape(-1, y_pred_valid.shape[-1])\n",
    "\n",
    "# Compute ROC curve and ROC area for each class\n",
    "fpr = {}\n",
    "tpr = {}\n",
    "roc_auc = {}\n",
    "for i in range(label_size):\n",
    "    fpr[i], tpr[i], _ = roc_curve((y_valid_flat == i).astype(int), y_pred_valid_probs[:, i])\n",
    "    roc_auc[i] = auc(fpr[i], tpr[i])\n",
    "\n",
    "# Plot the ROC curve\n",
    "plt.figure(figsize=(10, 8))\n",
    "for i in range(label_size):\n",
    "    plt.plot(fpr[i], tpr[i], label=f'Class {id2label[i]} (AUC = {roc_auc[i]:.2f})')\n",
    "\n",
    "plt.plot([0, 1], [0, 1], 'k--', lw=2)\n",
    "plt.xlim([0.0, 1.0])\n",
    "plt.ylim([0.0, 1.05])\n",
    "plt.xlabel('False Positive Rate')\n",
    "plt.ylabel('True Positive Rate')\n",
    "plt.title('ROC Curve for Validation Dataset')\n",
    "plt.legend(loc='lower right')\n",
    "plt.grid()\n",
    "plt.show()"
   ]
  },
  {
   "cell_type": "code",
   "execution_count": 117,
   "metadata": {},
   "outputs": [
    {
     "data": {
      "text/plain": [
       "{'B-geo': 0,\n",
       " 'B-gpe': 1,\n",
       " 'B-org': 2,\n",
       " 'B-per': 3,\n",
       " 'B-tim': 4,\n",
       " 'I-geo': 5,\n",
       " 'I-org': 6,\n",
       " 'I-per': 7,\n",
       " 'I-tim': 8,\n",
       " 'O': 9}"
      ]
     },
     "execution_count": 117,
     "metadata": {},
     "output_type": "execute_result"
    }
   ],
   "source": [
    "label2id"
   ]
  },
  {
   "cell_type": "code",
   "execution_count": 118,
   "metadata": {},
   "outputs": [],
   "source": [
    "from seqeval.metrics import classification_report as seqeval_report"
   ]
  },
  {
   "cell_type": "code",
   "execution_count": null,
   "metadata": {},
   "outputs": [],
   "source": []
  },
  {
   "cell_type": "code",
   "execution_count": 119,
   "metadata": {},
   "outputs": [
    {
     "name": "stdout",
     "output_type": "stream",
     "text": [
      "\u001b[1m298/298\u001b[0m \u001b[32m━━━━━━━━━━━━━━━━━━━━\u001b[0m\u001b[37m\u001b[0m \u001b[1m2s\u001b[0m 7ms/step\n",
      "              precision    recall  f1-score   support\n",
      "\n",
      "       B-geo     0.8231    0.8306    0.8268      7491\n",
      "       B-gpe     0.9244    0.9150    0.9197      3166\n",
      "       B-org     0.6911    0.6053    0.6454      4006\n",
      "       B-per     0.8401    0.7576    0.7967      3350\n",
      "       B-tim     0.8609    0.8327    0.8466      3992\n",
      "       I-geo     0.7924    0.7418    0.7663      1441\n",
      "       I-org     0.7335    0.7625    0.7477      3259\n",
      "       I-per     0.8306    0.8684    0.8491      3450\n",
      "       I-tim     0.6806    0.7356    0.7070      1286\n",
      "           O     0.9926    0.9944    0.9935    349359\n",
      "\n",
      "    accuracy                         0.9777    380800\n",
      "   macro avg     0.8169    0.8044    0.8099    380800\n",
      "weighted avg     0.9773    0.9777    0.9774    380800\n",
      "\n"
     ]
    }
   ],
   "source": [
    "from sklearn.metrics import classification_report\n",
    "\n",
    "# Predict\n",
    "y_pred_test = model.predict(X_test)\n",
    "y_pred_ids_test = np.argmax(y_pred_test, axis=-1)   #compare the distribution of the output of softmax for a token-word (10 scores comparison)\n",
    "y_true_ids_test = y_test\n",
    "\n",
    "# Flatten and filter padding\n",
    "true_flat, pred_flat = [], []\n",
    "for i in range(len(y_true_ids_test)):\n",
    "    for true, pred in zip(y_true_ids_test[i], y_pred_ids_test[i]):\n",
    "            true_flat.append(id2label[true])\n",
    "            pred_flat.append(id2label[pred])\n",
    "\n",
    "# Report\n",
    "print(classification_report(true_flat, pred_flat, digits=4))\n"
   ]
  },
  {
   "cell_type": "code",
   "execution_count": 120,
   "metadata": {},
   "outputs": [
    {
     "data": {
      "text/plain": [
       "10"
      ]
     },
     "execution_count": 120,
     "metadata": {},
     "output_type": "execute_result"
    }
   ],
   "source": [
    "y_pred_test.shape[-1]"
   ]
  },
  {
   "cell_type": "code",
   "execution_count": 121,
   "metadata": {},
   "outputs": [
    {
     "data": {
      "image/png": "[encoded data removed]",
      "text/plain": [
       "<Figure size 1000x800 with 1 Axes>"
      ]
     },
     "metadata": {},
     "output_type": "display_data"
    }
   ],
   "source": [
    "from sklearn.metrics import roc_curve, auc\n",
    "\n",
    "import matplotlib.pyplot as plt\n",
    "\n",
    "y_test_flat = y_test.flatten()\n",
    "y_pred_test_probs = y_pred_test.reshape(-1, y_pred_test.shape[-1])\n",
    "\n",
    "fpr = {}\n",
    "tpr = {}\n",
    "roc_auc = {}\n",
    "for i in range(label_size):\n",
    "    fpr[i], tpr[i], _ = roc_curve((y_test_flat == i).astype(int), y_pred_test_probs[:, i])\n",
    "    roc_auc[i] = auc(fpr[i], tpr[i])\n",
    "\n",
    "# Plot the ROC curve\n",
    "plt.figure(figsize=(10, 8))\n",
    "for i in range(label_size):\n",
    "    plt.plot(fpr[i], tpr[i], label=f'Class {id2label[i]} (AUC = {roc_auc[i]:.2f})')\n",
    "\n",
    "plt.plot([0, 1], [0, 1], 'k--', lw=2)\n",
    "plt.xlim([0.0, 1.0])\n",
    "plt.ylim([0.0, 1.05])\n",
    "plt.xlabel('False Positive Rate')\n",
    "plt.ylabel('True Positive Rate')\n",
    "plt.title('ROC Curve for Test Dataset')\n",
    "plt.legend(loc='lower right')\n",
    "plt.grid()\n",
    "plt.show()"
   ]
  },
  {
   "cell_type": "code",
   "execution_count": 122,
   "metadata": {},
   "outputs": [
    {
     "data": {
      "image/png": "[encoded data removed]",
      "text/plain": [
       "<Figure size 1000x800 with 2 Axes>"
      ]
     },
     "metadata": {},
     "output_type": "display_data"
    }
   ],
   "source": [
    "\n",
    "# Get all unique labels from your label map\n",
    "all_labels = sorted(list(set(true_flat + pred_flat)))\n",
    "\n",
    "cm = confusion_matrix(true_flat, pred_flat, labels=all_labels)\n",
    "\n",
    "\n",
    "plt.figure(figsize=(10, 8))\n",
    "sns.heatmap(cm, annot=True, fmt='d', cmap='Blues',\n",
    "            xticklabels=all_labels, yticklabels=all_labels)\n",
    "plt.xlabel('Predicted Label')\n",
    "plt.ylabel('True Label')\n",
    "plt.title('Confusion Matrix')\n",
    "plt.tight_layout()\n",
    "plt.show()"
   ]
  },
  {
   "cell_type": "code",
   "execution_count": 123,
   "metadata": {},
   "outputs": [
    {
     "data": {
      "text/plain": [
       "(9520, 40)"
      ]
     },
     "execution_count": 123,
     "metadata": {},
     "output_type": "execute_result"
    }
   ],
   "source": [
    "y_true_ids_test.shape"
   ]
  },
  {
   "cell_type": "code",
   "execution_count": 124,
   "metadata": {},
   "outputs": [],
   "source": [
    "def show_predictions(df, X, y_true_ids, y_pred_ids, index=0):\n",
    "    print(f\"\\nSentence: {' '.join(df.loc[index, 'tokens'])}\")\n",
    "    print(f\"{'Token':15} {'True':10} {'Predicted'}\")\n",
    "    print(\"-\" * 40)\n",
    "    for token, true, pred in zip(df.loc[index, 'tokens'], \n",
    "                                 [id2label[i] for i in y_true_ids[index]],\n",
    "                                 [id2label[i] for i in y_pred_ids[index]]):\n",
    "        print(f\"{token:15} {true:10} {pred}\")\n"
   ]
  },
  {
   "cell_type": "code",
   "execution_count": 125,
   "metadata": {},
   "outputs": [
    {
     "name": "stdout",
     "output_type": "stream",
     "text": [
      "\n",
      "Sentence: Pakistani officials say unidentified gunmen have killed three people , including a former government minister , in a semi-autonomous tribal region bordering Afghanistan .\n",
      "Token           True       Predicted\n",
      "----------------------------------------\n",
      "Pakistani       B-gpe      B-gpe\n",
      "officials       O          O\n",
      "say             O          O\n",
      "unidentified    O          O\n",
      "gunmen          O          O\n",
      "have            O          O\n",
      "killed          O          O\n",
      "three           O          O\n",
      "people          O          O\n",
      ",               O          O\n",
      "including       O          O\n",
      "a               O          O\n",
      "former          O          O\n",
      "government      O          O\n",
      "minister        O          O\n",
      ",               O          O\n",
      "in              O          O\n",
      "a               O          O\n",
      "semi-autonomous O          O\n",
      "tribal          O          O\n",
      "region          O          O\n",
      "bordering       O          O\n",
      "Afghanistan     B-geo      B-gpe\n",
      ".               O          O\n"
     ]
    }
   ],
   "source": [
    "show_predictions(test_df, X_test, y_true_ids_test, y_pred_ids_test, index=22)"
   ]
  },
  {
   "cell_type": "markdown",
   "metadata": {},
   "source": [
    "## Test"
   ]
  },
  {
   "cell_type": "code",
   "execution_count": 126,
   "metadata": {},
   "outputs": [
    {
     "name": "stdout",
     "output_type": "stream",
     "text": [
      "\u001b[1m298/298\u001b[0m \u001b[32m━━━━━━━━━━━━━━━━━━━━\u001b[0m\u001b[37m\u001b[0m \u001b[1m2s\u001b[0m 5ms/step - accuracy: 0.9761 - loss: 0.0811\n",
      "Test Loss: 0.0724, Accuracy: 0.9777\n"
     ]
    }
   ],
   "source": [
    "loss, accuracy = model.evaluate(X_test, y_test)\n",
    "print(f\"Test Loss: {loss:.4f}, Accuracy: {accuracy:.4f}\")\n"
   ]
  },
  {
   "cell_type": "code",
   "execution_count": 127,
   "metadata": {},
   "outputs": [],
   "source": [
    "# from tensorflow.keras.models import load_model\n",
    "\n",
    "# # Load the saved model\n",
    "# model = load_model('./models/ner_LSTM.keras')"
   ]
  },
  {
   "cell_type": "code",
   "execution_count": 128,
   "metadata": {},
   "outputs": [],
   "source": [
    "def test_and_mask(sentence, model, word2id, label2id, id2label, MAX_LEN):\n",
    "    tokens = sentence.strip().split()\n",
    "    \n",
    "    def encode(tokens, vocab, pad_len=MAX_LEN, fallback='<UNK>', pad_token='<PAD>'):\n",
    "        fallback_id = vocab.get(fallback, list(vocab.values())[0])  \n",
    "        pad_id = vocab.get(pad_token, list(vocab.values())[0])    \n",
    "        ids = [vocab.get(tok, fallback_id) for tok in tokens]\n",
    "        return ids[:pad_len] + [pad_id] * max(0, pad_len - len(ids))\n",
    "    \n",
    "    encoded_sentence = encode(tokens, word2id, pad_len=MAX_LEN)\n",
    "    encoded_sentence = np.array([encoded_sentence])  \n",
    "    \n",
    "    # Predict using the model\n",
    "    y_pred = model.predict(encoded_sentence)\n",
    "    y_pred_ids = np.argmax(y_pred, axis=-1)[0] \n",
    "    \n",
    "    # Decode the sentence and labels\n",
    "    id2word = {v: k for k, v in word2id.items()}\n",
    "    decoded_sentence = [id2word.get(word_id, '<UNK>') for word_id in encoded_sentence[0]]\n",
    "    decoded_labels = [id2label[label_id] for label_id in y_pred_ids]\n",
    "    \n",
    "    # Mask the entities in the sentence\n",
    "    masked_sentence = []\n",
    "    for token, label in zip(decoded_sentence, decoded_labels):\n",
    "        if token == '<PAD>':\n",
    "            continue\n",
    "        elif label == 'O':\n",
    "            masked_sentence.append(token)\n",
    "        else:\n",
    "            masked_sentence.append(label)\n",
    "    \n",
    "    # Print the original and masked sentence\n",
    "    print(\"Original Sentence:\")\n",
    "    print(\" \".join(tokens))\n",
    "    print(\"\\nMasked Sentence:\")\n",
    "    print(\" \".join(masked_sentence))"
   ]
  },
  {
   "cell_type": "code",
   "execution_count": 136,
   "metadata": {},
   "outputs": [
    {
     "name": "stdout",
     "output_type": "stream",
     "text": [
      "\u001b[1m1/1\u001b[0m \u001b[32m━━━━━━━━━━━━━━━━━━━━\u001b[0m\u001b[37m\u001b[0m \u001b[1m0s\u001b[0m 57ms/step\n",
      "Original Sentence:\n",
      "On June 15, 2023, Dr. Emily Carter, a renowned physicist from Princeton University, gave a keynote speech at the Global Climate Summit in Geneva, Switzerland. She emphasized the urgent need for international collaboration\n",
      "\n",
      "Masked Sentence:\n",
      "On B-tim I-tim I-tim B-per I-per I-per a renowned <UNK> from <UNK> I-tim gave a keynote speech at the Global Climate Summit in B-tim I-tim She emphasized the urgent need for international collaboration\n"
     ]
    }
   ],
   "source": [
    "# Example usage\n",
    "random_sentence = \"On June 15, 2023, Dr. Emily Carter, a renowned physicist from Princeton University, gave a keynote speech at the Global Climate Summit in Geneva, Switzerland. She emphasized the urgent need for international collaboration \"\n",
    "test_and_mask(random_sentence, model, word2id, label2id, id2label, MAX_LEN)"
   ]
  },
  {
   "cell_type": "code",
   "execution_count": null,
   "metadata": {},
   "outputs": [],
   "source": []
  },
  {
   "cell_type": "code",
   "execution_count": null,
   "metadata": {},
   "outputs": [],
   "source": []
  },
  {
   "cell_type": "code",
   "execution_count": 130,
   "metadata": {},
   "outputs": [],
   "source": []
  },
  {
   "cell_type": "code",
   "execution_count": 130,
   "metadata": {},
   "outputs": [],
   "source": [
    "# Example usage\n",
    "random_sentence = \"On June 15, 2023, Dr. Emily Carter, a renowned physicist from Princeton University, gave a keynote speech at the Global Climate Summit in Geneva, Switzerland. She emphasized the urgent need for international collaboration to combat climate change. Representatives from over 50 countries, including Canada, Brazil, and India, attended the event. Microsoft and Tesla announced a joint venture to develop carbon-neutral technologies. Meanwhile, UN Secretary-General António Guterres praised the summit's progress in aligning with the Paris Agreement. The summit also featured contributions from scientists at MIT and Oxford University. Elon Musk participated virtually from California, showcasing Tesla’s latest solar innovations. A follow-up summit is scheduled for November 2024 in Tokyo, Japan. Attendees shared insights via the official Twitter hashtag #GCS2023. The event concluded with a ceremonial tree planting sponsored by Green Earth Foundation.\""
   ]
  },
  {
   "cell_type": "code",
   "execution_count": 131,
   "metadata": {},
   "outputs": [],
   "source": [
    "batches = []\n",
    "i = 1\n",
    "MAX_LEN = len(random_sentence)\n",
    "for i in range(0,MAX_LEN,40):\n",
    "    chunk = random_sentence[i:40+i]\n",
    "    string = ' '.join(chunk)\n",
    "    batches.append(string)\n",
    "    "
   ]
  },
  {
   "cell_type": "code",
   "execution_count": 135,
   "metadata": {},
   "outputs": [
    {
     "name": "stdout",
     "output_type": "stream",
     "text": [
      "\u001b[1m1/1\u001b[0m \u001b[32m━━━━━━━━━━━━━━━━━━━━\u001b[0m\u001b[37m\u001b[0m \u001b[1m0s\u001b[0m 17ms/step\n",
      "Original Sentence:\n",
      "O n J u n e 1 5 , 2 0 2 3 , D r . E m i l y C a r t e r , a r e\n",
      "\n",
      "Masked Sentence:\n",
      "B-geo <UNK> <UNK> I-org I-org I-org 1 I-tim , 2 I-tim 2 I-tim , D <UNK> . <UNK> <UNK> <UNK> l <UNK> C a <UNK> I-org I-org I-org , a <UNK> <UNK>\n"
     ]
    },
    {
     "ename": "TypeError",
     "evalue": "cannot unpack non-iterable NoneType object",
     "output_type": "error",
     "traceback": [
      "\u001b[31m---------------------------------------------------------------------------\u001b[39m",
      "\u001b[31mTypeError\u001b[39m                                 Traceback (most recent call last)",
      "\u001b[36mCell\u001b[39m\u001b[36m \u001b[39m\u001b[32mIn[135]\u001b[39m\u001b[32m, line 3\u001b[39m\n\u001b[32m      1\u001b[39m masked_sentence_ = []\n\u001b[32m      2\u001b[39m \u001b[38;5;28;01mfor\u001b[39;00m sentence \u001b[38;5;129;01min\u001b[39;00m batches:\n\u001b[32m----> \u001b[39m\u001b[32m3\u001b[39m     original_sequence,masked_sentence = test_and_mask(sentence, model,word2id, label2id,id2label,\u001b[32m40\u001b[39m)\n\u001b[32m      4\u001b[39m     masked_sentence = \u001b[33m'\u001b[39m\u001b[33m \u001b[39m\u001b[33m'\u001b[39m.join(masked_sentence)\n\u001b[32m      5\u001b[39m     masked_sentence_.append(masked_sentence)\n",
      "\u001b[31mTypeError\u001b[39m: cannot unpack non-iterable NoneType object"
     ]
    }
   ],
   "source": [
    "masked_sentence_ = []\n",
    "for sentence in batches:\n",
    "    original_sequence,masked_sentence = test_and_mask(sentence, model,word2id, label2id,id2label,40)\n",
    "    masked_sentence = ' '.join(masked_sentence)\n",
    "    masked_sentence_.append(masked_sentence)\n"
   ]
  },
  {
   "cell_type": "code",
   "execution_count": 244,
   "metadata": {},
   "outputs": [
    {
     "data": {
      "text/plain": [
       "['On',\n",
       " 'June',\n",
       " '15,',\n",
       " '2023,',\n",
       " 'Dr.',\n",
       " 'Emily',\n",
       " 'Carter,',\n",
       " 'a',\n",
       " 'renowned',\n",
       " 'physicist',\n",
       " 'from',\n",
       " 'Princeton',\n",
       " 'University,',\n",
       " 'gave',\n",
       " 'a',\n",
       " 'keynote',\n",
       " 'speech',\n",
       " 'at',\n",
       " 'the',\n",
       " 'Global',\n",
       " 'Climate',\n",
       " 'Summit',\n",
       " 'in',\n",
       " 'Geneva,',\n",
       " 'Switzerland.',\n",
       " 'She',\n",
       " 'emphasized',\n",
       " 'the',\n",
       " 'urgent',\n",
       " 'need',\n",
       " 'for',\n",
       " 'international',\n",
       " 'collaboration',\n",
       " 'to',\n",
       " 'combat',\n",
       " 'climate',\n",
       " 'change.',\n",
       " 'Representatives',\n",
       " 'from',\n",
       " 'over',\n",
       " '50',\n",
       " 'countries,',\n",
       " 'including',\n",
       " 'Canada,',\n",
       " 'Brazil,',\n",
       " 'and',\n",
       " 'India,',\n",
       " 'attended',\n",
       " 'the',\n",
       " 'event.',\n",
       " 'Microsoft',\n",
       " 'and',\n",
       " 'Tesla',\n",
       " 'announced',\n",
       " 'a',\n",
       " 'joint',\n",
       " 'venture',\n",
       " 'to',\n",
       " 'develop',\n",
       " 'carbon-neutral',\n",
       " 'technologies.',\n",
       " 'Meanwhile,',\n",
       " 'UN',\n",
       " 'Secretary-General',\n",
       " 'António',\n",
       " 'Guterres',\n",
       " 'praised',\n",
       " 'the',\n",
       " \"summit's\",\n",
       " 'progress',\n",
       " 'in',\n",
       " 'aligning',\n",
       " 'with',\n",
       " 'the',\n",
       " 'Paris',\n",
       " 'Agreement.',\n",
       " 'The',\n",
       " 'summit',\n",
       " 'also',\n",
       " 'featured',\n",
       " 'contributions',\n",
       " 'from',\n",
       " 'scientists',\n",
       " 'at',\n",
       " 'MIT',\n",
       " 'and',\n",
       " 'Oxford',\n",
       " 'University.',\n",
       " 'Elon',\n",
       " 'Musk',\n",
       " 'participated',\n",
       " 'virtually',\n",
       " 'from',\n",
       " 'California,',\n",
       " 'showcasing',\n",
       " 'Tesla’s',\n",
       " 'latest',\n",
       " 'solar',\n",
       " 'innovations.',\n",
       " 'A',\n",
       " 'follow-up',\n",
       " 'summit',\n",
       " 'is',\n",
       " 'scheduled',\n",
       " 'for',\n",
       " 'November',\n",
       " '2024',\n",
       " 'in',\n",
       " 'Tokyo,',\n",
       " 'Japan.',\n",
       " 'Attendees',\n",
       " 'shared',\n",
       " 'insights',\n",
       " 'via',\n",
       " 'the',\n",
       " 'official',\n",
       " 'Twitter',\n",
       " 'hashtag',\n",
       " '#GCS2023.',\n",
       " 'The',\n",
       " 'event',\n",
       " 'concluded',\n",
       " 'with',\n",
       " 'a',\n",
       " 'ceremonial',\n",
       " 'tree',\n",
       " 'planting',\n",
       " 'sponsored',\n",
       " 'by',\n",
       " 'Green',\n",
       " 'Earth',\n",
       " 'Foundation.']"
      ]
     },
     "execution_count": 244,
     "metadata": {},
     "output_type": "execute_result"
    }
   ],
   "source": [
    "random_sentence"
   ]
  }
 ],
 "metadata": {
  "kernelspec": {
   "display_name": "base",
   "language": "python",
   "name": "python3"
  },
  "language_info": {
   "codemirror_mode": {
    "name": "ipython",
    "version": 3
   },
   "file_extension": ".py",
   "mimetype": "text/x-python",
   "name": "python",
   "nbconvert_exporter": "python",
   "pygments_lexer": "ipython3",
   "version": "3.11.7"
  }
 },
 "nbformat": 4,
 "nbformat_minor": 2
}
